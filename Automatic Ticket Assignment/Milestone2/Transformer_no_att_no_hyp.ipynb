{
 "cells": [
  {
   "cell_type": "code",
   "execution_count": 1,
   "metadata": {},
   "outputs": [
    {
     "name": "stdout",
     "output_type": "stream",
     "text": [
      "   Unnamed: 0  Unnamed: 0.1  \\\n",
      "0           0             0   \n",
      "1           1             1   \n",
      "2           2             2   \n",
      "3           3             3   \n",
      "4           4             4   \n",
      "\n",
      "                        Combined Description Cleaned Assignment group  \n",
      "0  login issue user manager name checked the name...            GRP_0  \n",
      "1  outlook received from hello team my are not in...            GRP_0  \n",
      "2    cannot log in to received from   cannot on best            GRP_0  \n",
      "3                         unable to access tool page            GRP_0  \n",
      "4                                              error            GRP_0  \n",
      "   Unnamed: 0                       Combined Description Cleaned  \\\n",
      "0           0  login issue user manager name checked the name...   \n",
      "1           1  outlook received from hello team my are not in...   \n",
      "2           2  cannot log in to received from hi i cannot on ...   \n",
      "3           3                         unable to access tool page   \n",
      "4           4                                              error   \n",
      "\n",
      "  Assignment group  LabelEncodings  \n",
      "0            GRP_0               0  \n",
      "1            GRP_0               0  \n",
      "2            GRP_0               0  \n",
      "3            GRP_0               0  \n",
      "4            GRP_0               0  \n",
      "   Unnamed: 0                       Combined Description Cleaned  \\\n",
      "0           0  login issue user manager name checked the name...   \n",
      "1           1  outlook received from hello team my are not in...   \n",
      "2           2  cannot log in to received from hi i cannot on ...   \n",
      "3           3                         unable to access tool page   \n",
      "4           4                                              error   \n",
      "\n",
      "  Assignment group  LabelEncodings  \n",
      "0            GRP_0               0  \n",
      "1            GRP_0               0  \n",
      "2            GRP_0               0  \n",
      "3            GRP_0               0  \n",
      "4            GRP_0               0  \n"
     ]
    }
   ],
   "source": [
    "import tensorflow as tf \n",
    "from tensorflow.keras.preprocessing.sequence import pad_sequences\n",
    "from tensorflow.keras import layers\n",
    "from tensorflow.keras.layers import Embedding,LSTM,TimeDistributed,Dense,Flatten,Dropout,RepeatVector,GRU,Bidirectional,Permute\n",
    "from tensorflow.keras.utils import to_categorical\n",
    "from tensorflow.keras.models import Sequential\n",
    "from tensorflow.keras.preprocessing.text import Tokenizer\n",
    "from tensorflow.keras.callbacks import ModelCheckpoint, EarlyStopping\n",
    "import numpy as np\n",
    "import pandas as pd\n",
    "from sklearn.model_selection import train_test_split\n",
    "import matplotlib.pyplot as plt\n",
    "import kerastuner as kt\n",
    "from kerastuner.tuners import BayesianOptimization\n",
    "from tensorflow.keras.optimizers import Adam\n",
    "from tensorflow.keras import Input\n",
    "from keras_preprocessing import sequence\n",
    "from tensorflow.python.keras.layers import Concatenate,concatenate,Activation, dot\n",
    "\n",
    "import os\n",
    "adam = Adam(lr=0.001)\n",
    "filename='pre_data_dl.xlsx'\n",
    "data_dl=pd.read_excel(filename)\n",
    "pd.set_option('display.max_columns', None)\n",
    "print(data_dl.head())\n",
    "\n",
    "filename1='pre_data_dl_aug1.xlsx'\n",
    "filename2='pre_data_dl_aug2.xlsx'\n",
    "\n",
    "data_dl_aug1=pd.read_excel(filename1)\n",
    "pd.set_option('display.max_columns', None)\n",
    "print(data_dl_aug1.head())\n",
    "\n",
    "data_dl_aug2=pd.read_excel(filename2)\n",
    "print(data_dl_aug2.head())\n",
    "\n",
    "X = (data_dl[\"Combined Description Cleaned\"])\n",
    "y= (data_dl['Assignment group'])\n",
    "\n",
    "#categorical encoding y\n",
    "y=pd.get_dummies(data_dl['Assignment group'])\n",
    "  \n",
    "\n",
    "#parameters\n",
    "max_features=10000\n",
    "emb_dim=300\n",
    "batch_size=128\n",
    "epochs=25\n",
    "out_dim=74"
   ]
  },
  {
   "cell_type": "code",
   "execution_count": 2,
   "metadata": {},
   "outputs": [
    {
     "name": "stdout",
     "output_type": "stream",
     "text": [
      "vocabulary size is:  3316\n"
     ]
    }
   ],
   "source": [
    "#function for tokenizer\n",
    "def dfTokenizer(df):\n",
    " tokenizer=Tokenizer(num_words=max_features,char_level=False)\n",
    " tokenizer.fit_on_texts(df)\n",
    " sequences=tokenizer.texts_to_sequences(df)\n",
    " return sequences,tokenizer\n",
    "#tokenization\n",
    "X,tokenizer = dfTokenizer(data_dl[\"Combined Description Cleaned\"]) \n",
    "vocab_size=len(tokenizer.word_index)\n",
    "print(\"vocabulary size is: \",vocab_size)\n",
    "\n",
    "#function for padding\n",
    "def pad(x, length=None):\n",
    " if length is None:\n",
    "   length=max([len(sentence)  for sentence in x])\n",
    " return pad_sequences(x,maxlen=length,padding='post')\n",
    " \n",
    " #padding \n",
    "X=pad_sequences(X,padding='post')\n",
    "\n",
    "\n",
    "#function for splitting the data\n",
    "def split(X,y):\n",
    " X_train_spl,X_test_spl,y_train_spl,y_test_spl=train_test_split(X,y,test_size=0.3,random_state=123)\n",
    " return X_train_spl,X_test_spl,y_train_spl,y_test_spl\n",
    "#split the data\n",
    "X_train,X_test,y_train,y_test=split(X,y)\n",
    "\n",
    "\n",
    "#configuring the callback\n",
    "early_stopping =  EarlyStopping(\n",
    "    monitor='val_accuracy', \n",
    "    patience=3, \n",
    "    min_delta=0.001, \n",
    "    mode='max'\n",
    ")\n",
    "\n",
    "\n",
    "#function for plotting accuracy,loss\n",
    "def plot(model,history):\n",
    " acc = history.history['accuracy']\n",
    " val_acc = history.history['val_accuracy']\n",
    " loss = history.history['loss']\n",
    " val_loss = history.history['val_loss']\n",
    " epochs = range(1, len(acc) + 1)\n",
    " plt.plot(epochs, acc, 'bo', label='Training acc')\n",
    " plt.plot(epochs, val_acc, 'b', label='Validation acc')\n",
    " plt.title( ' Training and validation accuracy')\n",
    " plt.legend()\n",
    " plt.figure()\n",
    " plt.plot(epochs, loss, 'bo', label='Training loss')\n",
    " plt.plot(epochs, val_loss, 'b', label='Validation loss')\n",
    " plt.title('Training and validation loss')\n",
    " plt.legend()\n",
    " plt.show()\n",
    " return "
   ]
  },
  {
   "cell_type": "code",
   "execution_count": 3,
   "metadata": {},
   "outputs": [],
   "source": [
    "inp_len=X.shape[1]\n",
    "#inputs = Input(shape=(inp_len,))\n",
    "\n",
    "def TRANSFORMER_model12(output_len,emb_dim,input_length):\n",
    " model = tf.keras.Sequential()\n",
    " model.add(Embedding(max_features,emb_dim,input_length=inp_len))\n",
    " model.add(Bidirectional(LSTM(64, return_sequences=False)))\n",
    " model.add(Dropout(0.2))\n",
    " model.add(RepeatVector(64))\n",
    " model.add(Bidirectional(LSTM(64, return_sequences=True)))\n",
    " model.add(TimeDistributed(Dense(units = 64, activation = 'relu')))\n",
    " model.add(Flatten())\n",
    " model.add(Dense(74, activation='softmax'))\n",
    " print(model.summary())\n",
    " model.compile(optimizer='adam',\n",
    "              loss='categorical_crossentropy',\n",
    "              metrics=['accuracy'])\n",
    " \n",
    " return model"
   ]
  },
  {
   "cell_type": "code",
   "execution_count": null,
   "metadata": {},
   "outputs": [],
   "source": []
  },
  {
   "cell_type": "code",
   "execution_count": 4,
   "metadata": {},
   "outputs": [
    {
     "name": "stdout",
     "output_type": "stream",
     "text": [
      "Model: \"sequential\"\n",
      "_________________________________________________________________\n",
      "Layer (type)                 Output Shape              Param #   \n",
      "=================================================================\n",
      "embedding (Embedding)        (None, 189, 300)          3000000   \n",
      "_________________________________________________________________\n",
      "bidirectional (Bidirectional (None, 128)               186880    \n",
      "_________________________________________________________________\n",
      "dropout (Dropout)            (None, 128)               0         \n",
      "_________________________________________________________________\n",
      "repeat_vector (RepeatVector) (None, 64, 128)           0         \n",
      "_________________________________________________________________\n",
      "bidirectional_1 (Bidirection (None, 64, 128)           98816     \n",
      "_________________________________________________________________\n",
      "time_distributed (TimeDistri (None, 64, 64)            8256      \n",
      "_________________________________________________________________\n",
      "flatten (Flatten)            (None, 4096)              0         \n",
      "_________________________________________________________________\n",
      "dense_1 (Dense)              (None, 74)                303178    \n",
      "=================================================================\n",
      "Total params: 3,597,130\n",
      "Trainable params: 3,597,130\n",
      "Non-trainable params: 0\n",
      "_________________________________________________________________\n",
      "None\n",
      "Epoch 1/25\n",
      "47/47 [==============================] - 99s 2s/step - loss: 2.4754 - accuracy: 0.4892 - val_loss: 1.9906 - val_accuracy: 0.5450\n",
      "Epoch 2/25\n",
      "47/47 [==============================] - 113s 2s/step - loss: 1.8135 - accuracy: 0.5684 - val_loss: 1.7790 - val_accuracy: 0.5862\n",
      "Epoch 3/25\n",
      "47/47 [==============================] - 124s 3s/step - loss: 1.5267 - accuracy: 0.6149 - val_loss: 1.6707 - val_accuracy: 0.5961\n",
      "Epoch 4/25\n",
      "47/47 [==============================] - 123s 3s/step - loss: 1.3129 - accuracy: 0.6541 - val_loss: 1.7172 - val_accuracy: 0.5894\n",
      "Epoch 5/25\n",
      "47/47 [==============================] - 125s 3s/step - loss: 1.1240 - accuracy: 0.6909 - val_loss: 1.6704 - val_accuracy: 0.6083\n",
      "Epoch 6/25\n",
      "47/47 [==============================] - 126s 3s/step - loss: 0.9388 - accuracy: 0.7325 - val_loss: 1.7731 - val_accuracy: 0.5996\n",
      "Epoch 7/25\n",
      "47/47 [==============================] - 128s 3s/step - loss: 0.8044 - accuracy: 0.7689 - val_loss: 1.9564 - val_accuracy: 0.5666\n",
      "Epoch 8/25\n",
      "47/47 [==============================] - 128s 3s/step - loss: 0.6841 - accuracy: 0.7945 - val_loss: 2.0256 - val_accuracy: 0.6051\n"
     ]
    },
    {
     "data": {
      "image/png": "[encoded data removed]",
      "text/plain": [
       "<Figure size 432x288 with 1 Axes>"
      ]
     },
     "metadata": {
      "needs_background": "light"
     },
     "output_type": "display_data"
    },
    {
     "data": {
      "image/png": "[encoded data removed]",
      "text/plain": [
       "<Figure size 432x288 with 1 Axes>"
      ]
     },
     "metadata": {
      "needs_background": "light"
     },
     "output_type": "display_data"
    }
   ],
   "source": [
    "        \n",
    "modelname=\"TRANSFORMERModel\"\n",
    "TRANSFORMER_model=TRANSFORMER_model12(max_features,emb_dim,inp_len) \n",
    "\n",
    "history=TRANSFORMER_model.fit(X_train,y_train,batch_size=batch_size,epochs=epochs,validation_data=(X_test,y_test),callbacks=[early_stopping])\n",
    "plot(TRANSFORMER_model,history)"
   ]
  },
  {
   "cell_type": "code",
   "execution_count": 5,
   "metadata": {},
   "outputs": [
    {
     "name": "stdout",
     "output_type": "stream",
     "text": [
      "Accuracy of TRANSFORMER for unaugmented data is : 58.70333909988403\n",
      "Training Accuracy of TRANSFORMER for unagumented data is: 66.4167795330286\n",
      "Mean loss of  Validation data of TRANSFORMER for unaugmented data is : 1.8228887915611267\n",
      "Mean loss of  Training data of TRANSFORMER for unaugmented data is : 1.3349684253335\n"
     ]
    }
   ],
   "source": [
    "\n",
    "print(\"Accuracy of TRANSFORMER for unaugmented data is :\", np.array(history.history['val_accuracy']).mean()*100)\n",
    "#print(\"Validation Accuracy of TRANSFORMER for unagumented data is:\", (scores_TRANSFORMER_val[1]*100))\n",
    "print(\"Training Accuracy of TRANSFORMER for unagumented data is:\" ,np.array(history.history['accuracy']).mean()*100)\n",
    "print( \"Mean loss of  Validation data of TRANSFORMER for unaugmented data is :\",np.array(history.history['val_loss']).mean())\n",
    "print( \"Mean loss of  Training data of TRANSFORMER for unaugmented data is :\",np.array(history.history['loss']).mean())        "
   ]
  },
  {
   "cell_type": "code",
   "execution_count": 6,
   "metadata": {},
   "outputs": [],
   "source": [
    "X_aug1 = (data_dl_aug1[\"Combined Description Cleaned\"])\n",
    "y_aug1= (data_dl_aug1['Assignment group'])\n",
    "\n",
    "#categorical encoding y\n",
    "y_aug1=pd.get_dummies(data_dl_aug2['Assignment group'])\n",
    "\n",
    "\n",
    "X_aug2 = (data_dl_aug2[\"Combined Description Cleaned\"])\n",
    "y_aug2= (data_dl_aug2['Assignment group'])"
   ]
  },
  {
   "cell_type": "code",
   "execution_count": 7,
   "metadata": {},
   "outputs": [
    {
     "name": "stdout",
     "output_type": "stream",
     "text": [
      "vocabulary size is:  3956\n",
      "vocabulary size is:  4424\n"
     ]
    }
   ],
   "source": [
    "#categorical encoding y\n",
    "y_aug2=pd.get_dummies(data_dl_aug2['Assignment group'])\n",
    "\n",
    "#tokenization\n",
    "X_aug1,tokenizer = dfTokenizer(data_dl_aug1[\"Combined Description Cleaned\"]) \n",
    "vocab_size_aug1=len(tokenizer.word_index)\n",
    "print(\"vocabulary size is: \",vocab_size_aug1)\n",
    "\n",
    "X_aug2,tokenizer = dfTokenizer(data_dl_aug2[\"Combined Description Cleaned\"]) \n",
    "vocab_size_aug2=len(tokenizer.word_index)\n",
    "print(\"vocabulary size is: \",vocab_size_aug2)"
   ]
  },
  {
   "cell_type": "code",
   "execution_count": 8,
   "metadata": {},
   "outputs": [],
   "source": [
    "#padding\n",
    "X_aug1=pad_sequences(X_aug1,padding='post')\n",
    "X_aug2=pad_sequences(X_aug2,padding='post')\n",
    "y_aug1=y_aug1[0:17586]"
   ]
  },
  {
   "cell_type": "code",
   "execution_count": 9,
   "metadata": {},
   "outputs": [
    {
     "name": "stdout",
     "output_type": "stream",
     "text": [
      "191\n",
      "191\n"
     ]
    }
   ],
   "source": [
    "#split the data.Only augmented data is split using stratify\n",
    "def split_stratify(X,y):\n",
    " X_train_spl,X_test_spl,y_train_spl,y_test_spl=train_test_split(X,y,test_size=0.3,stratify=y,random_state=123)\n",
    " return X_train_spl,X_test_spl,y_train_spl,y_test_spl\n",
    "\n",
    "X_train_aug1,X_test_aug1,y_train_aug1,y_test_aug1=split_stratify(X_aug1,y_aug1)\n",
    "X_train_aug2,X_test_aug2,y_train_aug2,y_test_aug2=split_stratify(X_aug2,y_aug2)\n",
    "\n",
    "\n",
    "inp_len1=X_aug1.shape[1]\n",
    "inp_len2=X_aug2.shape[1]\n",
    "print(inp_len1)\n",
    "print(inp_len2)"
   ]
  },
  {
   "cell_type": "code",
   "execution_count": 10,
   "metadata": {},
   "outputs": [],
   "source": [
    "def TRANSFORMER_model13(output_len,emb_dim,input_length):\n",
    " model = tf.keras.Sequential()\n",
    " model.add(Embedding(max_features,emb_dim,input_length=inp_len1))\n",
    " model.add(Bidirectional(LSTM(64, return_sequences=False)))\n",
    " model.add(Dropout(0.2))\n",
    " model.add(RepeatVector(64))\n",
    " model.add(Bidirectional(LSTM(64, return_sequences=True)))\n",
    " model.add(TimeDistributed(Dense(units = 64, activation = 'relu')))\n",
    " model.add(Flatten())\n",
    " model.add(Dense(74, activation='softmax'))\n",
    " print(model.summary())\n",
    " model.compile(optimizer='adam',\n",
    "              loss='categorical_crossentropy',\n",
    "              metrics=['accuracy'])\n",
    " \n",
    " return model\n",
    "\n",
    "\n"
   ]
  },
  {
   "cell_type": "code",
   "execution_count": 11,
   "metadata": {},
   "outputs": [
    {
     "name": "stdout",
     "output_type": "stream",
     "text": [
      "Model: \"sequential_1\"\n",
      "_________________________________________________________________\n",
      "Layer (type)                 Output Shape              Param #   \n",
      "=================================================================\n",
      "embedding_1 (Embedding)      (None, 191, 300)          3000000   \n",
      "_________________________________________________________________\n",
      "bidirectional_2 (Bidirection (None, 128)               186880    \n",
      "_________________________________________________________________\n",
      "dropout_1 (Dropout)          (None, 128)               0         \n",
      "_________________________________________________________________\n",
      "repeat_vector_1 (RepeatVecto (None, 64, 128)           0         \n",
      "_________________________________________________________________\n",
      "bidirectional_3 (Bidirection (None, 64, 128)           98816     \n",
      "_________________________________________________________________\n",
      "time_distributed_1 (TimeDist (None, 64, 64)            8256      \n",
      "_________________________________________________________________\n",
      "flatten_1 (Flatten)          (None, 4096)              0         \n",
      "_________________________________________________________________\n",
      "dense_3 (Dense)              (None, 74)                303178    \n",
      "=================================================================\n",
      "Total params: 3,597,130\n",
      "Trainable params: 3,597,130\n",
      "Non-trainable params: 0\n",
      "_________________________________________________________________\n",
      "None\n",
      "Epoch 1/25\n",
      "97/97 [==============================] - 247s 3s/step - loss: 2.8485 - accuracy: 0.2826 - val_loss: 2.0860 - val_accuracy: 0.4323\n",
      "Epoch 2/25\n",
      "97/97 [==============================] - 261s 3s/step - loss: 1.7624 - accuracy: 0.5086 - val_loss: 1.5309 - val_accuracy: 0.5643\n",
      "Epoch 3/25\n",
      "97/97 [==============================] - 259s 3s/step - loss: 1.2121 - accuracy: 0.6453 - val_loss: 1.2272 - val_accuracy: 0.6541\n",
      "Epoch 4/25\n",
      "97/97 [==============================] - 265s 3s/step - loss: 0.8685 - accuracy: 0.7394 - val_loss: 1.1146 - val_accuracy: 0.6893\n",
      "Epoch 5/25\n",
      "97/97 [==============================] - 266s 3s/step - loss: 0.6887 - accuracy: 0.7895 - val_loss: 0.9618 - val_accuracy: 0.7316\n",
      "Epoch 6/25\n",
      "97/97 [==============================] - 269s 3s/step - loss: 0.5575 - accuracy: 0.8272 - val_loss: 0.9203 - val_accuracy: 0.7545\n",
      "Epoch 7/25\n",
      "97/97 [==============================] - 278s 3s/step - loss: 0.4768 - accuracy: 0.8476 - val_loss: 0.9112 - val_accuracy: 0.7572\n",
      "Epoch 8/25\n",
      "97/97 [==============================] - 255s 3s/step - loss: 0.4170 - accuracy: 0.8691 - val_loss: 0.8846 - val_accuracy: 0.7667\n",
      "Epoch 9/25\n",
      "97/97 [==============================] - 252s 3s/step - loss: 0.3824 - accuracy: 0.8774 - val_loss: 0.8838 - val_accuracy: 0.7748\n",
      "Epoch 10/25\n",
      "97/97 [==============================] - 255s 3s/step - loss: 0.3477 - accuracy: 0.8863 - val_loss: 0.9210 - val_accuracy: 0.7745\n",
      "Epoch 11/25\n",
      "97/97 [==============================] - 269s 3s/step - loss: 0.3221 - accuracy: 0.8947 - val_loss: 0.9422 - val_accuracy: 0.7748\n",
      "Epoch 12/25\n",
      "97/97 [==============================] - 273s 3s/step - loss: 0.2958 - accuracy: 0.9030 - val_loss: 0.8923 - val_accuracy: 0.7906\n",
      "Epoch 13/25\n",
      "97/97 [==============================] - 276s 3s/step - loss: 0.2890 - accuracy: 0.9052 - val_loss: 0.8884 - val_accuracy: 0.8031\n",
      "Epoch 14/25\n",
      "97/97 [==============================] - 267s 3s/step - loss: 0.2670 - accuracy: 0.9123 - val_loss: 0.8876 - val_accuracy: 0.7972\n",
      "Epoch 15/25\n",
      "97/97 [==============================] - 270s 3s/step - loss: 0.2554 - accuracy: 0.9139 - val_loss: 0.9505 - val_accuracy: 0.7953\n",
      "Epoch 16/25\n",
      "97/97 [==============================] - 269s 3s/step - loss: 0.2545 - accuracy: 0.9157 - val_loss: 0.9619 - val_accuracy: 0.7959\n"
     ]
    },
    {
     "data": {
      "image/png": "[encoded data removed]",
      "text/plain": [
       "<Figure size 432x288 with 1 Axes>"
      ]
     },
     "metadata": {
      "needs_background": "light"
     },
     "output_type": "display_data"
    },
    {
     "data": {
      "image/png": "[encoded data removed]",
      "text/plain": [
       "<Figure size 432x288 with 1 Axes>"
      ]
     },
     "metadata": {
      "needs_background": "light"
     },
     "output_type": "display_data"
    }
   ],
   "source": [
    "modelname=\"TRANSFORMERModel_aug1\"\n",
    "TRANSFORMER_model1=TRANSFORMER_model13(max_features,emb_dim,inp_len1)\n",
    "history=TRANSFORMER_model1.fit(X_train_aug1,y_train_aug1,batch_size=batch_size,epochs=epochs,validation_data=(X_test_aug1,y_test_aug1),callbacks=[early_stopping])\n",
    "plot(TRANSFORMER_model1,history)"
   ]
  },
  {
   "cell_type": "code",
   "execution_count": 12,
   "metadata": {},
   "outputs": [
    {
     "name": "stdout",
     "output_type": "stream",
     "text": [
      "Accuracy of TRANSFORMER for level1 augmented data is : 72.85111825913191\n",
      "Training Accuracy of TRANSFORMER for level1 augmented data is: 79.48720511049032\n",
      "Mean loss of  Validation data of TRANSFORMER for level1 augmented data is : 1.0602614730596542\n",
      "Mean loss of  training data of TRANSFORMER for level1 augmented data is : 0.7028384152799845\n"
     ]
    }
   ],
   "source": [
    "#scores_TRANSFORMER_aug1 =TRANSFORMER_model1.evaluate(X_test_aug1, y_test_aug1, verbose=0)\n",
    "#scores_TRANSFORMER_val_aug1 = TRANSFORMER_model1.evaluate(X_train_aug1, y_train_aug1, verbose=0)\n",
    "print(\"Accuracy of TRANSFORMER for level1 augmented data is :\", np.array(history.history['val_accuracy']).mean()*100)\n",
    "#print(\"Validation Accuracy of TRANSFORMER for level1 augmented data is:\", (scores_TRANSFORMER_val_aug1[1]*100))\n",
    "print(\"Training Accuracy of TRANSFORMER for level1 augmented data is:\" ,np.array(history.history['accuracy']).mean()*100)\n",
    "print( \"Mean loss of  Validation data of TRANSFORMER for level1 augmented data is :\",np.array(history.history['val_loss']).mean())\n",
    "print( \"Mean loss of  training data of TRANSFORMER for level1 augmented data is :\",np.array(history.history['loss']).mean())"
   ]
  },
  {
   "cell_type": "code",
   "execution_count": 13,
   "metadata": {},
   "outputs": [
    {
     "name": "stdout",
     "output_type": "stream",
     "text": [
      "Model: \"sequential_2\"\n",
      "_________________________________________________________________\n",
      "Layer (type)                 Output Shape              Param #   \n",
      "=================================================================\n",
      "embedding_2 (Embedding)      (None, 191, 300)          3000000   \n",
      "_________________________________________________________________\n",
      "bidirectional_4 (Bidirection (None, 128)               186880    \n",
      "_________________________________________________________________\n",
      "dropout_2 (Dropout)          (None, 128)               0         \n",
      "_________________________________________________________________\n",
      "repeat_vector_2 (RepeatVecto (None, 64, 128)           0         \n",
      "_________________________________________________________________\n",
      "bidirectional_5 (Bidirection (None, 64, 128)           98816     \n",
      "_________________________________________________________________\n",
      "time_distributed_2 (TimeDist (None, 64, 64)            8256      \n",
      "_________________________________________________________________\n",
      "flatten_2 (Flatten)          (None, 4096)              0         \n",
      "_________________________________________________________________\n",
      "dense_5 (Dense)              (None, 74)                303178    \n",
      "=================================================================\n",
      "Total params: 3,597,130\n",
      "Trainable params: 3,597,130\n",
      "Non-trainable params: 0\n",
      "_________________________________________________________________\n",
      "None\n",
      "Epoch 1/25\n",
      "171/171 [==============================] - 467s 3s/step - loss: 2.7198 - accuracy: 0.3412 - val_loss: 1.5879 - val_accuracy: 0.5533\n",
      "Epoch 2/25\n",
      "171/171 [==============================] - 472s 3s/step - loss: 1.1898 - accuracy: 0.6551 - val_loss: 0.9274 - val_accuracy: 0.7256\n",
      "Epoch 3/25\n",
      "171/171 [==============================] - 471s 3s/step - loss: 0.7000 - accuracy: 0.7879 - val_loss: 0.6879 - val_accuracy: 0.7950\n",
      "Epoch 4/25\n",
      "171/171 [==============================] - 484s 3s/step - loss: 0.4972 - accuracy: 0.8428 - val_loss: 0.6017 - val_accuracy: 0.8252\n",
      "Epoch 5/25\n",
      "171/171 [==============================] - 493s 3s/step - loss: 0.4002 - accuracy: 0.8704 - val_loss: 0.5382 - val_accuracy: 0.8462\n",
      "Epoch 6/25\n",
      "171/171 [==============================] - 479s 3s/step - loss: 0.3437 - accuracy: 0.8862 - val_loss: 0.5260 - val_accuracy: 0.8504\n",
      "Epoch 7/25\n",
      "171/171 [==============================] - 487s 3s/step - loss: 0.3039 - accuracy: 0.8988 - val_loss: 0.5175 - val_accuracy: 0.8576\n",
      "Epoch 8/25\n",
      "171/171 [==============================] - 489s 3s/step - loss: 0.2783 - accuracy: 0.9062 - val_loss: 0.5287 - val_accuracy: 0.8575\n",
      "Epoch 9/25\n",
      "171/171 [==============================] - 479s 3s/step - loss: 0.2608 - accuracy: 0.9148 - val_loss: 0.5158 - val_accuracy: 0.8629\n",
      "Epoch 10/25\n",
      "171/171 [==============================] - 490s 3s/step - loss: 0.2353 - accuracy: 0.9203 - val_loss: 0.5071 - val_accuracy: 0.8678\n",
      "Epoch 11/25\n",
      "171/171 [==============================] - 478s 3s/step - loss: 0.2293 - accuracy: 0.9240 - val_loss: 0.5163 - val_accuracy: 0.8688\n",
      "Epoch 12/25\n",
      "171/171 [==============================] - 482s 3s/step - loss: 0.2154 - accuracy: 0.9262 - val_loss: 0.5205 - val_accuracy: 0.8696\n",
      "Epoch 13/25\n",
      "171/171 [==============================] - 484s 3s/step - loss: 0.2103 - accuracy: 0.9297 - val_loss: 0.5238 - val_accuracy: 0.8735\n",
      "Epoch 14/25\n",
      "171/171 [==============================] - 489s 3s/step - loss: 0.2052 - accuracy: 0.9301 - val_loss: 0.5387 - val_accuracy: 0.8667\n",
      "Epoch 15/25\n",
      "171/171 [==============================] - 477s 3s/step - loss: 0.1874 - accuracy: 0.9361 - val_loss: 0.5193 - val_accuracy: 0.8769\n",
      "Epoch 16/25\n",
      "171/171 [==============================] - 480s 3s/step - loss: 0.1837 - accuracy: 0.9353 - val_loss: 0.5343 - val_accuracy: 0.8731\n",
      "Epoch 17/25\n",
      "171/171 [==============================] - 498s 3s/step - loss: 0.1761 - accuracy: 0.9388 - val_loss: 0.5450 - val_accuracy: 0.8755\n",
      "Epoch 18/25\n",
      "171/171 [==============================] - 505s 3s/step - loss: 0.1788 - accuracy: 0.9388 - val_loss: 0.5330 - val_accuracy: 0.8787\n",
      "Epoch 19/25\n",
      "171/171 [==============================] - 505s 3s/step - loss: 0.1763 - accuracy: 0.9396 - val_loss: 0.5271 - val_accuracy: 0.8808\n",
      "Epoch 20/25\n",
      "171/171 [==============================] - 493s 3s/step - loss: 0.1699 - accuracy: 0.9417 - val_loss: 0.5023 - val_accuracy: 0.8819\n",
      "Epoch 21/25\n",
      "171/171 [==============================] - 485s 3s/step - loss: 0.1577 - accuracy: 0.9437 - val_loss: 0.5336 - val_accuracy: 0.8829\n",
      "Epoch 22/25\n",
      "171/171 [==============================] - 488s 3s/step - loss: 0.1546 - accuracy: 0.9457 - val_loss: 0.5421 - val_accuracy: 0.8831\n",
      "Epoch 23/25\n",
      "171/171 [==============================] - 494s 3s/step - loss: 0.1596 - accuracy: 0.9440 - val_loss: 0.5416 - val_accuracy: 0.8837\n",
      "Epoch 24/25\n",
      "171/171 [==============================] - 495s 3s/step - loss: 0.1531 - accuracy: 0.9460 - val_loss: 0.5407 - val_accuracy: 0.8831\n",
      "Epoch 25/25\n",
      "171/171 [==============================] - 500s 3s/step - loss: 0.1525 - accuracy: 0.9455 - val_loss: 0.5441 - val_accuracy: 0.8836\n"
     ]
    },
    {
     "data": {
      "image/png": "[encoded data removed]",
      "text/plain": [
       "<Figure size 432x288 with 1 Axes>"
      ]
     },
     "metadata": {
      "needs_background": "light"
     },
     "output_type": "display_data"
    },
    {
     "data": {
      "image/png": "[encoded data removed]",
      "text/plain": [
       "<Figure size 432x288 with 1 Axes>"
      ]
     },
     "metadata": {
      "needs_background": "light"
     },
     "output_type": "display_data"
    }
   ],
   "source": [
    "modelname=\"TRANSFORMERModel_aug2\"\n",
    "TRANSFORMER_model2=TRANSFORMER_model13(max_features,emb_dim,inp_len2)\n",
    "history=TRANSFORMER_model1.fit(X_train_aug2,y_train_aug2,batch_size=batch_size,epochs=epochs,validation_data=(X_test_aug2,y_test_aug2),callbacks=[early_stopping])\n",
    "plot(TRANSFORMER_model2,history)"
   ]
  },
  {
   "cell_type": "code",
   "execution_count": 14,
   "metadata": {},
   "outputs": [
    {
     "name": "stdout",
     "output_type": "stream",
     "text": [
      "Accuracy of TRANSFORMER for level2 augmented data is : 84.81434845924377\n",
      "Training Accuracy of TRANSFORMER for level2 augmented data is: 88.35654807090759\n",
      "Mean loss of  Validation data of TRANSFORMER for level2 augmented data is : 0.596022572517395\n",
      "Mean loss of  training data of TRANSFORMER for level2 augmented data is : 0.38554899334907533\n"
     ]
    }
   ],
   "source": [
    "#scores_TRANSFORMER_aug2 =TRANSFORMER_model1.evaluate(X_test_aug2, y_test_aug2, verbose=0)\n",
    "#scores_TRANSFORMER_val_aug2 = TRANSFORMER_model1.evaluate(X_train_aug2, y_train_aug2, verbose=0)\n",
    "print(\"Accuracy of TRANSFORMER for level2 augmented data is :\", np.array(history.history['val_accuracy']).mean()*100)\n",
    "#print(\"Validation Accuracy of TRANSFORMER for level2 augmented data is:\", (scores_TRANSFORMER_val_aug2[1]*100))\n",
    "print(\"Training Accuracy of TRANSFORMER for level2 augmented data is:\" ,np.array(history.history['accuracy']).mean()*100)\n",
    "print( \"Mean loss of  Validation data of TRANSFORMER for level2 augmented data is :\",np.array(history.history['val_loss']).mean())\n",
    "print( \"Mean loss of  training data of TRANSFORMER for level2 augmented data is :\",np.array(history.history['loss']).mean())"
   ]
  },
  {
   "cell_type": "code",
   "execution_count": null,
   "metadata": {},
   "outputs": [],
   "source": []
  },
  {
   "cell_type": "code",
   "execution_count": null,
   "metadata": {},
   "outputs": [],
   "source": []
  },
  {
   "cell_type": "code",
   "execution_count": null,
   "metadata": {},
   "outputs": [],
   "source": []
  },
  {
   "cell_type": "code",
   "execution_count": null,
   "metadata": {},
   "outputs": [],
   "source": [
    "           \n"
   ]
  }
 ],
 "metadata": {
  "kernelspec": {
   "display_name": "Python 3",
   "language": "python",
   "name": "python3"
  },
  "language_info": {
   "codemirror_mode": {
    "name": "ipython",
    "version": 3
   },
   "file_extension": ".py",
   "mimetype": "text/x-python",
   "name": "python",
   "nbconvert_exporter": "python",
   "pygments_lexer": "ipython3",
   "version": "3.7.6"
  }
 },
 "nbformat": 4,
 "nbformat_minor": 4
}
