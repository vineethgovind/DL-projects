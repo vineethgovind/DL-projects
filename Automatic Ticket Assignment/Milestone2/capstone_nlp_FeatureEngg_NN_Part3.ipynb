{
  "nbformat": 4,
  "nbformat_minor": 0,
  "metadata": {
    "kernelspec": {
      "display_name": "Python 3",
      "language": "python",
      "name": "python3"
    },
    "language_info": {
      "codemirror_mode": {
        "name": "ipython",
        "version": 3
      },
      "file_extension": ".py",
      "mimetype": "text/x-python",
      "name": "python",
      "nbconvert_exporter": "python",
      "pygments_lexer": "ipython3",
      "version": "3.8.5"
    },
    "colab": {
      "name": "capstone_nlp_FeatureEngg-NN-Part3.ipynb",
      "provenance": [],
      "toc_visible": true,
      "machine_shape": "hm"
    },
    "accelerator": "GPU"
  },
  "cells": [
    {
      "cell_type": "code",
      "metadata": {
        "id": "pciKqcdcw7sV"
      },
      "source": [
        "import pandas as pd  \n",
        "import numpy as np\n",
        "import matplotlib.pyplot as plt\n",
        "import tensorflow as tf\n",
        "plt.style.use('fivethirtyeight')\n",
        "\n",
        "%matplotlib inline\n",
        "%config InlineBackend.figure_format = 'retina'"
      ],
      "execution_count": 1,
      "outputs": []
    },
    {
      "cell_type": "code",
      "metadata": {
        "colab": {
          "base_uri": "https://localhost:8080/"
        },
        "id": "stnGDyvyxMnP",
        "outputId": "791d2da6-c5eb-4405-82b6-ced0462efbe5"
      },
      "source": [
        "from google.colab import drive\n",
        "drive.mount('/content/drive')"
      ],
      "execution_count": 2,
      "outputs": [
        {
          "output_type": "stream",
          "text": [
            "Mounted at /content/drive\n"
          ],
          "name": "stdout"
        }
      ]
    },
    {
      "cell_type": "code",
      "metadata": {
        "colab": {
          "base_uri": "https://localhost:8080/",
          "height": 204
        },
        "id": "d4zJkf-9w7sW",
        "outputId": "c72e1c15-e892-48ac-98e4-3d829f7b1c44"
      },
      "source": [
        "my_df = pd.read_csv('drive/MyDrive/datasets/pre_data_dl_aug2.csv')\n",
        "#my_df = pd.read_csv(csv,index_col=0)\n",
        "my_df.head()"
      ],
      "execution_count": 3,
      "outputs": [
        {
          "output_type": "execute_result",
          "data": {
            "text/html": [
              "<div>\n",
              "<style scoped>\n",
              "    .dataframe tbody tr th:only-of-type {\n",
              "        vertical-align: middle;\n",
              "    }\n",
              "\n",
              "    .dataframe tbody tr th {\n",
              "        vertical-align: top;\n",
              "    }\n",
              "\n",
              "    .dataframe thead th {\n",
              "        text-align: right;\n",
              "    }\n",
              "</style>\n",
              "<table border=\"1\" class=\"dataframe\">\n",
              "  <thead>\n",
              "    <tr style=\"text-align: right;\">\n",
              "      <th></th>\n",
              "      <th>Unnamed: 0</th>\n",
              "      <th>Combined Description Cleaned</th>\n",
              "      <th>Assignment group</th>\n",
              "      <th>LabelEncodings</th>\n",
              "    </tr>\n",
              "  </thead>\n",
              "  <tbody>\n",
              "    <tr>\n",
              "      <th>0</th>\n",
              "      <td>0</td>\n",
              "      <td>login issue user manager name checked the name...</td>\n",
              "      <td>GRP_0</td>\n",
              "      <td>0</td>\n",
              "    </tr>\n",
              "    <tr>\n",
              "      <th>1</th>\n",
              "      <td>1</td>\n",
              "      <td>outlook received from hello team my are not in...</td>\n",
              "      <td>GRP_0</td>\n",
              "      <td>0</td>\n",
              "    </tr>\n",
              "    <tr>\n",
              "      <th>2</th>\n",
              "      <td>2</td>\n",
              "      <td>cannot log in to received from hi i cannot on ...</td>\n",
              "      <td>GRP_0</td>\n",
              "      <td>0</td>\n",
              "    </tr>\n",
              "    <tr>\n",
              "      <th>3</th>\n",
              "      <td>3</td>\n",
              "      <td>unable to access tool page</td>\n",
              "      <td>GRP_0</td>\n",
              "      <td>0</td>\n",
              "    </tr>\n",
              "    <tr>\n",
              "      <th>4</th>\n",
              "      <td>4</td>\n",
              "      <td>error</td>\n",
              "      <td>GRP_0</td>\n",
              "      <td>0</td>\n",
              "    </tr>\n",
              "  </tbody>\n",
              "</table>\n",
              "</div>"
            ],
            "text/plain": [
              "   Unnamed: 0  ... LabelEncodings\n",
              "0           0  ...              0\n",
              "1           1  ...              0\n",
              "2           2  ...              0\n",
              "3           3  ...              0\n",
              "4           4  ...              0\n",
              "\n",
              "[5 rows x 4 columns]"
            ]
          },
          "metadata": {
            "tags": []
          },
          "execution_count": 3
        }
      ]
    },
    {
      "cell_type": "code",
      "metadata": {
        "colab": {
          "base_uri": "https://localhost:8080/"
        },
        "id": "k8AvqEjyx8bw",
        "outputId": "40f18dd3-62c4-4310-eb28-b44136ccb787"
      },
      "source": [
        "df2 = my_df\n",
        "my_df['Assignment group by number'] = my_df['Assignment group'].str[4:]\n",
        "my_df['Assignment group by number'] = my_df['Assignment group by number'].astype(int)\n",
        "my_df.info()"
      ],
      "execution_count": 4,
      "outputs": [
        {
          "output_type": "stream",
          "text": [
            "<class 'pandas.core.frame.DataFrame'>\n",
            "RangeIndex: 31221 entries, 0 to 31220\n",
            "Data columns (total 5 columns):\n",
            " #   Column                        Non-Null Count  Dtype \n",
            "---  ------                        --------------  ----- \n",
            " 0   Unnamed: 0                    31221 non-null  int64 \n",
            " 1   Combined Description Cleaned  31221 non-null  object\n",
            " 2   Assignment group              31221 non-null  object\n",
            " 3   LabelEncodings                31221 non-null  int64 \n",
            " 4   Assignment group by number    31221 non-null  int64 \n",
            "dtypes: int64(3), object(2)\n",
            "memory usage: 1.2+ MB\n"
          ],
          "name": "stdout"
        }
      ]
    },
    {
      "cell_type": "code",
      "metadata": {
        "colab": {
          "base_uri": "https://localhost:8080/"
        },
        "id": "lm8eFMaJw7sW",
        "outputId": "942d386f-a769-453e-85d7-8b59084edbcf"
      },
      "source": [
        "my_df.dropna(inplace=True)\n",
        "my_df.reset_index(drop=True,inplace=True)\n",
        "my_df.info()"
      ],
      "execution_count": 5,
      "outputs": [
        {
          "output_type": "stream",
          "text": [
            "<class 'pandas.core.frame.DataFrame'>\n",
            "RangeIndex: 31221 entries, 0 to 31220\n",
            "Data columns (total 5 columns):\n",
            " #   Column                        Non-Null Count  Dtype \n",
            "---  ------                        --------------  ----- \n",
            " 0   Unnamed: 0                    31221 non-null  int64 \n",
            " 1   Combined Description Cleaned  31221 non-null  object\n",
            " 2   Assignment group              31221 non-null  object\n",
            " 3   LabelEncodings                31221 non-null  int64 \n",
            " 4   Assignment group by number    31221 non-null  int64 \n",
            "dtypes: int64(3), object(2)\n",
            "memory usage: 1.2+ MB\n"
          ],
          "name": "stdout"
        }
      ]
    },
    {
      "cell_type": "code",
      "metadata": {
        "id": "1TYa-7tBw7sX"
      },
      "source": [
        "x = my_df['Combined Description Cleaned']\n",
        "y = my_df['Assignment group by number']"
      ],
      "execution_count": 6,
      "outputs": []
    },
    {
      "cell_type": "code",
      "metadata": {
        "id": "UNZmGFaad51Y"
      },
      "source": [
        "y = tf.keras.utils.to_categorical(y)"
      ],
      "execution_count": 7,
      "outputs": []
    },
    {
      "cell_type": "code",
      "metadata": {
        "id": "I8xeAElLw7sX"
      },
      "source": [
        "from sklearn.model_selection import train_test_split\n",
        "SEED = 2000\n",
        "x_train, x_validation_and_test, y_train, y_validation_and_test = train_test_split(x, y, test_size=.20,\n",
        "                                                                                  random_state=SEED, shuffle=True)\n",
        "                                                                                 # stratify=y)\n",
        "x_validation, x_test, y_validation, y_test = train_test_split(x_validation_and_test, y_validation_and_test, test_size=.5, random_state=SEED)"
      ],
      "execution_count": 8,
      "outputs": []
    },
    {
      "cell_type": "code",
      "metadata": {
        "colab": {
          "base_uri": "https://localhost:8080/"
        },
        "id": "vrKnNcKlfMe6",
        "outputId": "64d74d34-eec0-4159-f095-5c7d21f104a4"
      },
      "source": [
        "y_train.shape"
      ],
      "execution_count": 9,
      "outputs": [
        {
          "output_type": "execute_result",
          "data": {
            "text/plain": [
              "(24976, 74)"
            ]
          },
          "metadata": {
            "tags": []
          },
          "execution_count": 9
        }
      ]
    },
    {
      "cell_type": "code",
      "metadata": {
        "colab": {
          "base_uri": "https://localhost:8080/"
        },
        "id": "1DPubI-kfQ_F",
        "outputId": "0cc197e7-1355-4518-c358-a82db6fafd07"
      },
      "source": [
        "y_validation.shape"
      ],
      "execution_count": 10,
      "outputs": [
        {
          "output_type": "execute_result",
          "data": {
            "text/plain": [
              "(3122, 74)"
            ]
          },
          "metadata": {
            "tags": []
          },
          "execution_count": 10
        }
      ]
    },
    {
      "cell_type": "code",
      "metadata": {
        "id": "wKD2Zc-vw7sX"
      },
      "source": [
        "from sklearn.linear_model import LogisticRegression"
      ],
      "execution_count": 11,
      "outputs": []
    },
    {
      "cell_type": "markdown",
      "metadata": {
        "id": "1vpELwjVw7sX"
      },
      "source": [
        "## Doc2Vec"
      ]
    },
    {
      "cell_type": "markdown",
      "metadata": {
        "id": "LS_CqoRXw7sX"
      },
      "source": [
        "Before we jump into doc2vec, it will be better to first start by word2vec. \"Word2vec is a group of related models that are used to produce word embeddings. These models are shallow, two-layer neural networks that are trained to reconstruct linguistic contexts of words.\""
      ]
    },
    {
      "cell_type": "markdown",
      "metadata": {
        "id": "w_JYgNqFw7sZ"
      },
      "source": [
        "DM: \n",
        "This is the Doc2Vec model analogous to CBOW model in Word2vec. The paragraph vectors are obtained by training a neural network on the task of inferring a centre word based on context words and a context paragraph. \n",
        "\n",
        "DBOW:\n",
        "This is the Doc2Vec model analogous to Skip-gram model in Word2Vec. The paragraph vectors are obtained by training a neural network on the task of predicting a probability distribution of words in a paragraph given a randomly-sampled word from the paragraph."
      ]
    },
    {
      "cell_type": "markdown",
      "metadata": {
        "id": "1dEs4yhTw7sZ"
      },
      "source": [
        "Below are the methods I used to get the vectors for each ticket.\n",
        "\n",
        "1. DBOW (Distributed Bag of Words)\n",
        "2. DMC (Distributed Memory Concatenated)\n",
        "3. DMM (Distributed Memory Mean)\n",
        "4. DBOW + DMC\n",
        "5. DBOW + DMM\n",
        "\n",
        "With above vectors, I fit a simple logistic regression model and evaluated the result on the validation set."
      ]
    },
    {
      "cell_type": "code",
      "metadata": {
        "id": "rZ5XwG-6w7sa"
      },
      "source": [
        "from tqdm import tqdm\n",
        "tqdm.pandas(desc=\"progress-bar\")\n",
        "from gensim.models import Doc2Vec\n",
        "from gensim.models.doc2vec import LabeledSentence\n",
        "import multiprocessing\n",
        "from sklearn import utils"
      ],
      "execution_count": 12,
      "outputs": []
    },
    {
      "cell_type": "code",
      "metadata": {
        "id": "eFXvuBqEw7sa"
      },
      "source": [
        "def labelize_tickets_ug(tickets,label):\n",
        "    result = []\n",
        "    prefix = label\n",
        "    for i, t in zip(tickets.index, tickets):\n",
        "        result.append(LabeledSentence(t.split(), [prefix + '_%s' % i]))\n",
        "    return result"
      ],
      "execution_count": 13,
      "outputs": []
    },
    {
      "cell_type": "markdown",
      "metadata": {
        "id": "NHz3qs67w7sa"
      },
      "source": [
        "Also, the same rationale has been applied in the Gensim's Doc2Vec tutorial. In the IMDB tutorial, vector training is occurring on all documents of the data set, including all train/test/dev set. https://github.com/RaRe-Technologies/gensim/blob/develop/docs/notebooks/doc2vec-IMDB.ipynb"
      ]
    },
    {
      "cell_type": "code",
      "metadata": {
        "colab": {
          "base_uri": "https://localhost:8080/"
        },
        "id": "IB0m92N_w7sa",
        "outputId": "5020f4a2-2e07-45c9-f316-f9f44b5f5cb3"
      },
      "source": [
        "all_x = pd.concat([x_train,x_validation,x_test])\n",
        "all_x_w2v = labelize_tickets_ug(all_x, 'all')"
      ],
      "execution_count": 14,
      "outputs": [
        {
          "output_type": "stream",
          "text": [
            "/usr/local/lib/python3.6/dist-packages/ipykernel_launcher.py:5: DeprecationWarning: Call to deprecated `LabeledSentence` (Class will be removed in 4.0.0, use TaggedDocument instead).\n",
            "  \"\"\"\n"
          ],
          "name": "stderr"
        }
      ]
    },
    {
      "cell_type": "code",
      "metadata": {
        "colab": {
          "base_uri": "https://localhost:8080/"
        },
        "id": "L8iC6ZFGw7sa",
        "outputId": "1d148b04-efc7-47e9-941b-0cde08c03748"
      },
      "source": [
        "len(all_x_w2v)"
      ],
      "execution_count": 15,
      "outputs": [
        {
          "output_type": "execute_result",
          "data": {
            "text/plain": [
              "31221"
            ]
          },
          "metadata": {
            "tags": []
          },
          "execution_count": 15
        }
      ]
    },
    {
      "cell_type": "code",
      "metadata": {
        "colab": {
          "base_uri": "https://localhost:8080/"
        },
        "id": "EjgF4Kifykfm",
        "outputId": "7ca3c7a1-30fd-4539-9737-036c3aad6086"
      },
      "source": [
        "all_x_w2v"
      ],
      "execution_count": 16,
      "outputs": [
        {
          "output_type": "execute_result",
          "data": {
            "text/plain": [
              "[LabeledSentence(words=['metal', 'cutting', 'technology', 'company', 'hi', 'team', 'i', 'have', 'the', 'attached', 'quote', 'however', 'it', 'is', 'not', 'up', 'showing', 'correctly', 'see', 'attached', 'can', 'you', 'please', 'fix', 'this', 'as', 'soon', 'possible'], tags=['all_2374']),\n",
              " LabeledSentence(words=['office', 'is', 'not', 'defined', 'for', 'area', 'when', 'we', 'new', 'order', 'got', 'communicate', 'that', 'incomplete', 'sale', 'try', 'enter', 'right', 'i', 'not', 'add', 'the', 'print', 'screen', 'in', 'attached'], tags=['all_20297']),\n",
              " LabeledSentence(words=['unable', 'to', 'access', 'engineering', 'tool', 'received', 'from', 'dear', 'sir', 'following', 'error', 'message', 'shown', 'request', 'support', 'resolve'], tags=['all_2086']),\n",
              " LabeledSentence(words=['unable', 'to', 'share', 'screen', 'language', 'explorer', 'customer', 'number', 'telephone', 'summary', 'am', 'my', 'on'], tags=['all_1712']),\n",
              " LabeledSentence(words=['trigger', 'making', 'need', 'rate', 'th'], tags=['all_29506']),\n",
              " LabeledSentence(words=['unable', 'to', 'login', 'error', 'domain', 'controller', 'balancing', 'contact', 'no', 'mobile', 'place'], tags=['all_11523']),\n",
              " LabeledSentence(words=['connection', 'to', 'tech', 'a', 'is', 'up', 'on'], tags=['all_24708']),\n",
              " LabeledSentence(words=['job', 'in', 'job', 'schedule', 'hold', 'way', 'received', 'from', 'at'], tags=['all_17288']),\n",
              " LabeledSentence(words=['billing', 'block', 'not', 'removed', 'automatically', 'hello', 'it', 'please', 'out', 'why', 'was', 'automatically'], tags=['all_18085']),\n",
              " LabeledSentence(words=['job', 'payroll', 'na', 'u', 'into', 'job', 'schedule', 'at', 'received', 'from'], tags=['all_9782']),\n",
              " LabeledSentence(words=['job', 'in', 'job', 'next', 'at', 'previously', 'from'], tags=['all_28521']),\n",
              " LabeledSentence(words=['unable', 'to', 'login', 'ethics', 'training', 'course', 'hi', 'when', 'trying', 'course', 'i', 'get', 'the', 'web', 'page', 'that', 'unregistered', 'user', 'please', 'can', 'you', 'help', 'in', 'this'], tags=['all_20206']),\n",
              " LabeledSentence(words=['will', 'not', 'without', 'power', 'cord', 'connected', 'to', 'suspect', 'a', 'bad', 'battery'], tags=['all_4822']),\n",
              " LabeledSentence(words=['machine', 'image', 'restoration', 'received', 'from', 'dear', 'the', 'of', 'a', 'genius', 's', 'needs', 'to', 'be', 'from', 'pen', 'drive', 'please', 'help', 'with', 'this', 'issue', 'on', 'an', 'urgent', 'basis'], tags=['all_12292']),\n",
              " LabeledSentence(words=['power', 'which', 'not', 'working', 'computer', 'wont', 'turn', 'on'], tags=['all_24336']),\n",
              " LabeledSentence(words=['travel', 'expense', 'accounting', 'in', 'not', 'possible', 'received', 'from', 'hello', 'travel', 'is', 'unfortunately', 'possible', 'see', 'error', 'message', 'below', 'with', 'best'], tags=['all_2060']),\n",
              " LabeledSentence(words=['mass', 'to', 'condition', 'table', 'a', 'in'], tags=['all_396']),\n",
              " LabeledSentence(words=['purchase', 'requisition', 'approval', 'issue', 'received', 'from', 'hi', 'it', 'team', 'i', 'cannot', 'agreed', 'via', 'the', 'link', 'provided', 'only', 'enable', 'to', 'directly', 'in', 'myself', 'kindly', 'fix', 'for', 'me'], tags=['all_30231']),\n",
              " LabeledSentence(words=['job', 'hot', 'in', 'job', 'schedule', 'at', 'sent', 'up'], tags=['all_29817']),\n",
              " LabeledSentence(words=['dont', 'am', 'a', 'new', 'employee', 'and', 'do', 'not', 'have', 'access', 'to', 'tool', 'ethics', 'other', 'than', 'c', 'x', 'welcome', 'the', 'company', 'business', 'ethics', 'conduct', 'center', 'ethics', 'training', 'site', 'our', 'indicate', 'that', 'login', 'you', 'used', 'this', 'site', 'from', 'company', 'collaboration', 'platform', 'do', 'not', 'match', 'we', 'on', 'file', 'within', 'active', 'directory', 'please', 'submit', 'ticket', 'global', 'support', 'ensure', 'your', 'network', 'id', 'is', 'correctly', 'into'], tags=['all_17456']),\n",
              " LabeledSentence(words=['eu', 'tool', 'when', 'confirmation', 'are', 'not', 'able', 'to', 'remove', 'scrap', 'that', 'have', 'been', 'rectified', 'in', 'there', 'now', 'over', 'needing', 'be', 'since', 'this', 'error', 'was', 'may', 'issue', 'support', 'which', 'no', 'longer', 'i', 'will', 'forward', 'touch', 'capture', 'assigned', 'it', 'agent', 'better', 'explain', 'error'], tags=['all_20586']),\n",
              " LabeledSentence(words=['help', 'all', 'of', 'our', 'are', 'down', 'is', 'ableol', 'cannot', 'connect', 'to', 'be', 'at', 'site'], tags=['all_10181']),\n",
              " LabeledSentence(words=['need', 'to', 'change', 'password', 'and', 'sync', 'new', 'on', 'all'], tags=['all_1071']),\n",
              " LabeledSentence(words=['not', 'working', 'working', 'during', 'head', 'set', 'input', 'jack', 'no', 'longer', 'ask', 'plug', 'in'], tags=['all_3159']),\n",
              " LabeledSentence(words=['f', 'hard', 'on', 'is', 'over', 'space', 'available', 'volume', 'f', 'server'], tags=['all_23672']),\n",
              " LabeledSentence(words=['disk', 'place', 'available', 'g', 'volume', 'f', 'on', 'server', 'is', 'over'], tags=['all_12700']),\n",
              " LabeledSentence(words=['unable', 'to', 'create', 'a', 'collaboration', 'platform', 'workbook', 'on', 'due', 'duplicate', 'is', 'enable', 'an', 'account', 'without', 'getting', 'error', 'there', 'are', 'potential', 'the', 'different', 'than', 'other', 'but', 'that', 'use', 'same', 'address', 'which', 'i', 'believe', 'dup', 'detection', 'based', 'off', 'of', 'when', 'he', 'save', 'anyways', 'get', 'business', 'process', 'error', 'refer', 'as', 'example', 'well', 'attached', 'screen'], tags=['all_9714']),\n",
              " LabeledSentence(words=['tool', 'can', 'not', 'be', 'error', 'attached', 'received', 'this', 'hello', 'opening', 'from', 'engineering', 'an', 'extremely', 'long', 'time', 'sometimes', 'this', 'message', 'also', 'without', 'the', 'file', 'being', 'with', 'best'], tags=['all_9578']),\n",
              " LabeledSentence(words=['external', 'monitor', 'will', 'not', 'stay', 'on', 'it', 'briefly', 'then', 'goes', 'out'], tags=['all_3874']),\n",
              " LabeledSentence(words=['from', 'sent', 'to', 'subject', 'amar', 'hello', 'it', 'help', 'can', 'you', 'help', 'please', 'see', 'the', 'image', 'in', 'below', 'there', 'is', 'a', 'that', 'i', 'need', 'to', 'process', 'but', 'will', 'not', 'give', 'me', 'an', 'approve', 'or', 'reject', 'option', 'and', 'grab', 'up', 'portal', 'am', 'also', 'from', 'outside', 'of', 'company', 'as', 'traveling', 'for', 'work'], tags=['all_20862']),\n",
              " LabeledSentence(words=['configure', 'we', 'ewe'], tags=['all_8805']),\n",
              " LabeledSentence(words=['need', 'subsequent', 'password', 'reset', 'for', 'tool', 'module'], tags=['all_24222']),\n",
              " LabeledSentence(words=['create', 'a', 'purchase', 'requisition', 'with', 'does', 'not', 'work', 'any', 'more', 'i', 'got', 'following', 'error', 'massage', 'action', 'could', 'be', 'no', 'data', 'found', 'for', 'employee', 'inform', 'system', 'administrator'], tags=['all_2783']),\n",
              " LabeledSentence(words=['production', 'canothernot', 'be', 'printed', 'out', 'error', 'connection', 'to', 'system', 'production', 'order', 'interface', 'with', 'destination', 'production', 'order', 'interface', 'incorrect', 'error', 'when', 'opening', 'an'], tags=['all_26239']),\n",
              " LabeledSentence(words=['repeat', 'outbound', 'connection', 'for', 'ticket', 'in', 'we', 'are', 'seeing', 'your', 'device', 'generating', 'a', 'high', 'volume', 'of', 'repeat', 'traffic', 'blocked', 'from', 'to', 'port', 'remote', 'procedure', 'call', 'external', 'host', 'this', 'may', 'indicate', 'misconfiguration', 'where', 'the', 'is', 'blocking', 'legitimate', 'also', 'reaching', 'out', 'malicious', 'or', 'worm', 'code', 'incident', 'you', 'via', 'medium', 'priority', 'and', 'per', 'our', 'default', 'event', 'handling', 'if', 'would', 'like', 'us', 'handle', 'these', 'differently', 'in', 'future', 'see', 'below', 'have', 'any', 'further', 'please', 'tell', 'know', 'either', 'by', 'corresponding', 'back', 'soc', 'calling', 'at', 'full', 'login', 'failure', 'explicit', 'notification', 'phone', 'call', 'automatically', 'resolve', 'directly', 'portal', 'no', 'explicit', 'but', 'will', 'be', 'available', 'portal'], tags=['all_25688']),\n",
              " LabeledSentence(words=['the', 'workplace', 'needs', 'access', 'to', 'powder', 'control', 'station', 'read', 'enter'], tags=['all_11727']),\n",
              " LabeledSentence(words=['error', 'check', 'x', 'when', 'user', 'on', 'mobile', 'for', 'management', 'team', 'the', 'above', 'is', 'see', 'attached'], tags=['all_24254']),\n",
              " LabeledSentence(words=['access', 'issue', 'system', 'production', 'employee', 'from', 'needs', 'a', 'password', 'disable', 'many'], tags=['all_15418']),\n",
              " LabeledSentence(words=['when', 'opening', 'business', 'client', 'getting', 'the', 'framework', 'not', 'error', 'see', 'attachment'], tags=['all_5323']),\n",
              " LabeledSentence(words=['working', 'job', 'in', 'job', 'schedule', 'up', 'received', 'from'], tags=['all_29228']),\n",
              " LabeledSentence(words=['license', 'issue', 'cannot', 'run', 'as', 'of', 'early', 'am', 'a', 'server', 'not', 'found', 'error', 'this', 'is', 'affect', 'production', 'in', 'the', 'site'], tags=['all_20282']),\n",
              " LabeledSentence(words=['user', 'unable', 'to', 'login', 'the', 'telephony', 'user', 'interaction', 'client', 'already', 'authentication', 'error', 'contact'], tags=['all_10530']),\n",
              " LabeledSentence(words=['unable', 'to', 'make', 'in', 'expense', 'report', 'name', 'browser', 'explorer', 'telephone', 'summary', 'the', 'week', 'i', 'was', 'trying', 'put', 'my', 'but', 'it', 'will', 'not', 'let', 'me', 'change', 'cost', 'center', 'there', 'suppose', 'be', 'a', 'ticket', 'for', 'this', 'and', 'just', 'wondering', 'how', 'that', 'going', 'have', 'received', 'if', 'on', 'issue'], tags=['all_19870']),\n",
              " LabeledSentence(words=['confirm', 'threshold', 'if', 'i', 'set', 'to', 'so', 'me', 'error', 'even', 'when', 'try', 'order', 'default', 'for', 'example', 'is', 'and', 'confirmation', 'screen', 'by', 'default', 'will', 'give', 'a', 'warning', 'believe', 'should', 'get', 'this', 'confirming', 'higher', 'than', 'threshold', 'threshold', 'check', 'are', 'equal', 'or', 'less', 'no', 'warning'], tags=['all_21700']),\n",
              " LabeledSentence(words=['same', 'on', 'c', 'disk', 'is', 'more', 'than'], tags=['all_24070']),\n",
              " LabeledSentence(words=['module', 'fa', 'on', 'is', 'down', 'since', 'interface', 'router'], tags=['all_23597']),\n",
              " LabeledSentence(words=['mouse', 'all', 'over', 'the', 'screen', 'again', 'received', 'from', 'i', 'had', 'this', 'problem', 'was', 'resolved', 'by', 'replacement', 'the', 'hardware', 'however', 'am', 'support'], tags=['all_23582']),\n",
              " LabeledSentence(words=['solid', 'works', 'issue', 'when', 'trying', 'can', 'give', 'print', 'work', 'see', 'attachment'], tags=['all_8704']),\n",
              " LabeledSentence(words=['access', 'issue', 'system', 'other', 'enter', 'user', 'id', 'of', 'the', 'transaction', 'needs', 'or', 'was', 'working', 'with', 'describe', 'issue', 'please', 'remove', 'fill', 'accountant', 'fill', 'accountant', 'we', 'as', 'per', 'and', 'should', 'not', 'be', 'able', 'to', 'post', 'accounting', 'if', 'you', 'are', 'getting', 'a', 'not', 'authorized', 'message', 'recreate', 'condition', 'then', 'do', 'attach', 'result', 'ticketing', 'tool', 'ticket', 'provide', 'same', 'this', 'user'], tags=['all_4685']),\n",
              " LabeledSentence(words=['need', 'to', 'upgrade', 'the', 'concern', 'language', 'explorer', 'customer', 'number', 'telephone'], tags=['all_17045']),\n",
              " LabeledSentence(words=['worked', 'center', 'difference', 'message', 'showing', 'up', 'when', 'threshold', 'set', 'to', 'confirm', 'threshold', 'is', 'system', 'a', 'warning', 'even', 'we', 'confirm', 'order', 'which', 'exactly', 'of'], tags=['all_21018']),\n",
              " LabeledSentence(words=['received', 'from', 'hello', 'facing', 'some', 'to', 'join', 'conference', 'by', 'when', 'i', 'access', 'same', 'only', 'one', 'in', 'call'], tags=['all_8081']),\n",
              " LabeledSentence(words=['job', 'arc', 'in', 'job', 'schedule', 'up', 'received', 'from'], tags=['all_14830']),\n",
              " LabeledSentence(words=['i', 'am', 'unable', 'to', 'update', 'profile', 'its', 'taken', 'unable', 'user', 'not', 'found', 'error', 'please', 'assist', 'me'], tags=['all_12317']),\n",
              " LabeledSentence(words=['connection', 'to', 'switch', 'is', 'up', 'at', 'am', 'ping', 'profile'], tags=['all_25602']),\n",
              " LabeledSentence(words=['network', 'outage', 'store', 'node', 'is', 'down', 'am', 'what', 'type', 'of', 'outage', 'x', 'network', 'circuit', 'power', 'please', 'specify', 'outage', 'top', 'site', 'no', 'when', 'did', 'it', 'start', 'am', 'maintenance', 'power', 'no', 'company', 'power', 'provider', 'network', 'no', 'maint', 'does', 'have', 'a', 'backup', 'circuit', 'no', 'active', 'no', 'contact', 'notified', 'remote', 'dialing', 'equipment', 'reset', 'working', 'on', 'vendor', 'ticket', 'international', 'vendor', 'vendor', 'additional', 'diagnostics'], tags=['all_27530']),\n",
              " LabeledSentence(words=['bob', 'web', 'are', 'not', 'running', 'running', 'please', 'investigate', 'at', 'same'], tags=['all_16622']),\n",
              " LabeledSentence(words=['computer', 'if', 'not', 'work', 'but', 'keyboard', 'and', 'mouse', 'do', 'not', 'work', 'impossible', 'login', 'on', 'keyboard', 'on'], tags=['all_12601']),\n",
              " LabeledSentence(words=['engineering', 'tool', 'page', 'not', 'opening'], tags=['all_1677']),\n",
              " LabeledSentence(words=['upgrade'], tags=['all_14309']),\n",
              " LabeledSentence(words=['housekeep', 'core', 'in', 'could', 'you', 'please', 'check', 'feasibility', 'to', 'add', 'additional', 'space', 'justification', 'are', 'failing', 'due', 'issue', 'same', 'mount', 'point'], tags=['all_19970']),\n",
              " LabeledSentence(words=['battery', 'to', 'be', 'dead', 'latitude', 'e', 'light', 'flashing', 'orange', 'will', 'not', 'work', 'without', 'connection', 'control', 'cord', 'dead'], tags=['all_16178']),\n",
              " LabeledSentence(words=['cannot', 'view', 'the', 'drawing', 'in', 'mi', 'attached', 'to', 'material', 'i', 'checked', 'and', 'version', 'of', 'is', 'this', 'also', 'with', 'same', 'given'], tags=['all_13792']),\n",
              " LabeledSentence(words=['socurity', 'in', 'possible', 'infection', 'traffic', 'from', 'sinkhole', 'domain', 'to', 'source', 'destination', 'port', 'user', 'name', 'location', 'status', 'field', 'yes', 'no', 'event', 'below', 'data', 'related', 'id', 'summary', 'server', 'response', 'with', 'set', 'probable', 'infected', 'asset', 'occurrence', 'count', 'host', 'and', 'connection', 'information', 'mac', 'address', 'incoming', 'protocol', 'code', 'device', 'log', 'time', 'at', 'action', 'not', 'blocked', 'vendor', 'score', 'priority', 'version', 'sherlock', 'rule', 'id', 'she', 'inspector', 'ontology', 'type', 'agent', 'detail', 'classification', 'none', 'priority', 'action', 'accept', 'impact', 'flag', 'impact', 'blocked', 'van', 'label', 'pad', 'sensor', 'event', 'time', 'proto', 'toss', 'id', 'back', 'ref', 'win', 'x', 'not', 'cap', 'security', 'correlation', 'data', 'on', 'via', 'relay', 'renew', 'ascii', 's', 'e', 'hex', 'c', 'd', 'e', 'e', 'a', 'b', 'b', 'es', 'c', 'a', 'c', 'pay', 'a', 'e', 'ea', 'f', 'e', 'd', 'f', 'd', 'f', 'c', 'da', 'a', 'e', 'e', 'd', 'a', 'a', 'c', 'a', 'a', 'd', 'f', 'e', 'a', 'e', 'd', 'f', 'b', 'd', 'a', 'fe', 'e', 'f', 'ea', 'c', 'd', 'e', 'd', 'e', 'f', 'b', 'f', 'de', 'c', 'c', 'e', 'e', 'f', 'fe', 'c', 'e', 'e', 'f', 'f', 'a', 'f', 'e', 'c', 'e', 'f'], tags=['all_11247']),\n",
              " LabeledSentence(words=['do', 'not', 'have', 'permission', 'to', 'ess', 'web', 'at', 'please', 'reach', 'out', 'me', 'for', 'more', 'information', 'if'], tags=['all_11254']),\n",
              " LabeledSentence(words=['device', 'replacement', 'setup', 'new', 'm', 'map', 'old'], tags=['all_6066']),\n",
              " LabeledSentence(words=['at', 'there', 'are', 'calling', 'the', 'polish', 'phthee', 'number', 'of', 'can', 'we', 'want', 'something', 'on', 'it'], tags=['all_30619']),\n",
              " LabeledSentence(words=['password', 'reset', 'as', 'its', 'language', 'explorer', 'customer', 'number', 'telephone', 'summary', 'need', 'all', 'of', 'my', 'so', 'i', 'can', 'log', 'into', 'computer', 'and'], tags=['all_6047']),\n",
              " LabeledSentence(words=['do', 'not', 'already', 'permission', 'to', 'ess', 'portal', 'at', 'please', 'reach', 'out', 'me', 'for', 'more', 'information', 'if'], tags=['all_21629']),\n",
              " LabeledSentence(words=['i', 'do', 'not', 'have', 'access', 'to', 'ethics', 'training', 'module', 'error', 'message', 'welcome', 'the', 'company', 'business', 'conduct', 'center', 'ethics', 'site', 'our', 'indicate', 'that', 'login', 'want', 'used', 'this', 'site', 'from', 'company', 'collaboration', 'platform', 'match', 'we', 'on', 'file', 'within', 'active', 'directory', 'please', 'submit', 'a', 'ticket', 'global', 'support', 'ensure', 'your', 'network', 'id', 'is', 'correctly', 'into'], tags=['all_25456']),\n",
              " LabeledSentence(words=['of', 'the', 'in', 'dell', 'adapter', 'but', 'working'], tags=['all_26256']),\n",
              " LabeledSentence(words=['unable', 'to', 'launch', 'error', 'message', 'attached'], tags=['all_1426']),\n",
              " LabeledSentence(words=['zebra', 'printer', 'issue', 'label', 'not', 'works', 'error', 'connection', 'to', 'could', 'be', 'made', 'in', 'attachment', 'are', 'getting', 'printed'], tags=['all_19580']),\n",
              " LabeledSentence(words=['job', 'the', 'job', 'schedule', 'at', 'received', 'from'], tags=['all_11367']),\n",
              " LabeledSentence(words=['production', 'order', 'number', 'issue', 'received', 'this', 'so', 'currently', 'system', 'cannot', 'be', 'found', 'after', 'was', 'identify', 'enter', 'in', 'everything', 'is', 'fine', 'before', 'routine', 'maintenance', 'please', 'open', 'a', 'ticket', 'for', 'escalate', 'the', 'responsible', 'team', 'that', 'is', 'very', 'urgent', 'best'], tags=['all_18165']),\n",
              " LabeledSentence(words=['unable', 'to', 'sync', 'on', 'all'], tags=['all_1179']),\n",
              " LabeledSentence(words=['the', 'computer', 'cannot', 'connect', 'to', 'the', 'public', 'disk', 'you', 'transfer', 'it', 'for', 'me'], tags=['all_11570']),\n",
              " LabeledSentence(words=['purchase', 'submittal', 'approval', 'issue', 'received', 'from', 'hi', 'it', 'team', 'i', 'must', 'approve', 'via', 'the', 'link', 'provided', 'only', 'enable', 'to', 'directly', 'in', 'me', 'kindly', 'fix', 'for', 'me'], tags=['all_30233']),\n",
              " LabeledSentence(words=['interface', 'back', 'switch', 'since', 'description', 'node', 'ha'], tags=['all_15635']),\n",
              " LabeledSentence(words=['account', 'extension', 'for', 'extend', 'the', 'another', 'six'], tags=['all_3784']),\n",
              " LabeledSentence(words=['after', 'is', 'connect', 'it', 'automatically', 'disconnected', 'disconnect', 'that', 'the', 'not', 'found'], tags=['all_22550']),\n",
              " LabeledSentence(words=['i', 'need', 'my', 'password', 'in', 'thanks', 'received', 'from', 'global', 'ethics', 'and', 'compliance'], tags=['all_901']),\n",
              " LabeledSentence(words=['error', 'received', 'from', 'hello', 'it', 'team', 'was', 'in', 'but', 'its', 'record', 'number', 'is', 'even', 'you', 'find', 'the', 'cause', 'and', 'fix', 'it'], tags=['all_13348']),\n",
              " LabeledSentence(words=['error', 'build', 'this', 'copy', 'of', 'is', 'not', 'genuine', 'for', 'next', 'he', 'would', 'be', 'in', 'contact'], tags=['all_19743']),\n",
              " LabeledSentence(words=['could', 'find', 'old', 'from', 'year', 'in', 'outlook', 'received', 'from', 'hello', 'only', 'till', 'with', 'best'], tags=['all_4240']),\n",
              " LabeledSentence(words=['circuit', 'outage', 'south', 'sa', 'is', 'down', 'at', 'am', 'on', 'site', 'up', 'circuit', 'what', 'type', 'of', 'network', 'x', 'circuit', 'power', 'please', 'specify', 'outage', 'top', 'no', 'when', 'did', 'it', 'start', 'maintenance', 'power', 'no', 'company', 'power', 'provider', 'network', 'no', 'maint', 'if', 'have', 'a', 'backup', 'yes', 'active', 'yes', 'contact', 'notified', 'remote', 'dialing', 'na', 'equipment', 'reset', 'na', 'working', 'yes', 'vendor', 'ticket', 'global', 'vendor', 'vendor', 'additional', 'diagnostics'], tags=['all_13248']),\n",
              " LabeledSentence(words=['interface', 'the', 'is', 'down', 'since', 'switch', 'id'], tags=['all_28160']),\n",
              " LabeledSentence(words=['need', 'a', 'smart', 'mouse', 'for', 'my'], tags=['all_28061']),\n",
              " LabeledSentence(words=['unable', 'to', 'create', 'new', 'or', 'any', 'expense', 'report', 'type', 'error', 'user', 'is', 'a', 'workplace', 'and', 'expense', 'getting', 'as', 'in', 'please', 'find', 'the', 'attachment'], tags=['all_21493']),\n",
              " LabeledSentence(words=['urgent', 'pleisse', 'create', 'tax', 'code', 'a', 'in', 'is', 'really', 'urgent', 'as', 'we', 'have', 'can', 'post', 'vat', 'tool', 'by', 'the', 'end', 'of', 'week', 'background', 'there', 'was', 'an', 'export', 'goods', 'from', 'this', 'location', 'from', 'plant', 'plant', 'delivery', 'not', 'posted', 'finance'], tags=['all_29918']),\n",
              " LabeledSentence(words=['cannot', 'print', 'to', 'under', 'my', 'below', 'up'], tags=['all_28228']),\n",
              " LabeledSentence(words=['not', 'able', 'to', 'call', 'into', 'the', 'company', 'toll', 'free', 'number', 'i', 'just', 'received', 'a', 'from', 'our', 'person', 'in', 'st', 'mo', 'that', 'he', 'tried', 'on', 'number', 'time', 'but', 'message', 'was', 'service', 'checked', 'dialing', 'and', 'is', 'correct', 'urgent'], tags=['all_1460']),\n",
              " LabeledSentence(words=['customer', 'name', 'does', 'not', 'listed', 'in', 'engineering', 'tool', 'id', 'language', 'explorer', 'number', 'telephone', 'please', 'checked', 'and', 'add', 'this', 'customer'], tags=['all_24297']),\n",
              " LabeledSentence(words=['the', 'terminate', 'action', 'for', 'from', 'sent', 'august', 'to', 'subject', 'amar', 'hello', 'a', 'termination', 'effective', 'been', 'click', 'link', 'to', 'view'], tags=['all_6244']),\n",
              " LabeledSentence(words=['job', 'fail', 'into', 'job', 'schedule', 'time', 'received', 'from'], tags=['all_27431']),\n",
              " LabeledSentence(words=['given', 'name', 'and', 'surname', 'in', 'web', 'domain', 'please', 'change', 'it', 'to'], tags=['all_11117']),\n",
              " LabeledSentence(words=['complisint', 'i', 'create', 'a', 'the', 'is', 'not', 'in', 'to', 'approval', 'please', 'help', 'me'], tags=['all_14294']),\n",
              " LabeledSentence(words=['are', 'coming', 'to', 'me', 'but', 'and', 'showing', 'a', 'call', 'telephony'], tags=['all_1279']),\n",
              " LabeledSentence(words=['company', 'unlink', 'to', 'is', 'down', 'since', 'on'], tags=['all_3195']),\n",
              " LabeledSentence(words=['cannot', 'connection', 'network'], tags=['all_19641']),\n",
              " LabeledSentence(words=['carrier', 'not', 'through', 'shipping', 'system', 'in', 'getting', 'the', 'following', 'error', 'message', 'server', 'is', 'unable', 'to', 'process', 'request'], tags=['all_1450']),\n",
              " LabeledSentence(words=['switch', 'monitor', 'please', 'the', 'replace', 'of', 'ventilation', 'control', 'place', 'boiler', 'room', 'contact'], tags=['all_14988']),\n",
              " LabeledSentence(words=['event', 'summary', 'service', 'is', 'down', 'ticket', 'in', 'id', 'source', 'destination', 'device', 'name', 'extra', 'data', 'nothing', 'null', 'or', 'empty', 'model', 'internal', 'occurrence', 'count', 'detail', 'from', 'for', 'check', 'unable', 'to', 'ping'], tags=['all_25692']),\n",
              " LabeledSentence(words=['it', 'is', 'our', 'other', 'urgent'], tags=['all_10325']),\n",
              " LabeledSentence(words=['telephouty', 'interaction', 'to', 'connect', 'this', 'have', 'after', 'update', 'got', 'on', 'please', 'find', 'in', 'the', 'attached'], tags=['all_12962']),\n",
              " LabeledSentence(words=['network', 'outage', 'failing', 'to', 'connect', 'both', 'lan', 'and', 'wi', 'fi', 'location', 'contact', 'no'], tags=['all_21166']),\n",
              " LabeledSentence(words=['computer', 'us', 'plant', 'location', 'received', 'from', 'user', 'this', 'issue', 'excel', 'working', 'properly', 'it', 'going', 'to', 'not', 'i', 'have', 'several', 'times', 'correct', 'that', 'now', 'if', 'work', 'on', 'a', 'save', 'and', 'minimize', 'cannot', 'open', 'back', 'up', 'had', 'restart', 'the', 'again', 'get', 'twice', 'do', 'you', 'any', 'could', 'try'], tags=['all_4949']),\n",
              " LabeledSentence(words=['unable', 'to', 'scanner', 'after', 'password', 'on', 'password', 'management', 'tool', 'password', 'management', 'tool', 'contact', 'number', 'are', 'be', 'landing', 'in', 'the', 'folder', 'please', 'check'], tags=['all_28096']),\n",
              " LabeledSentence(words=['access', 'to', 'for', 'no', 'longer', 'he', 'needs', 'access', 'please', 'see', 'the', 'attached', 'from', 'good', 'morning', 'there', 'is', 'a', 'very', 'long', 'time', 'that', 'i', 'could', 'not', 'team', 'and', 'you', 'am', 'in', 'work', 'with', 'new', 'equipment', 'need', 'your', 'help', 'because', 'able', 'be', 'connected', 'to', 'application', 'where', 'was', 'make', 'consultation', 'received', 'this', 'following', 'message', 'able', 'you', 'have', 'connection', 'working', 'again', 'also', 'competitive', 'but', 'still', 'well'], tags=['all_29904']),\n",
              " LabeledSentence(words=['expense', 'report', 'not', 'going', 'to', 'correct', 'manager'], tags=['all_1178']),\n",
              " LabeledSentence(words=['user', 'to', 'with', 'him', 'from', 'collaboration', 'platform', 'connected', 'the', 'system', 'help', 'on', 'local', 'system', 'issue', 'resolved'], tags=['all_3223']),\n",
              " LabeledSentence(words=['static', 'address', 'it', 'been', 'by', 'our', 'temporary', 'service', 'to', 'provide', 'them', 'with', 'a', 'for', 'time', 'clock', 'which', 'will', 'be', 'hard', 'wired', 'in', 'can', 'you', 'contact', 'summary', 'do', 'i', 'gear', 'the', 'request', 'this', 'box', 'aid'], tags=['all_30360']),\n",
              " LabeledSentence(words=['average', 'disk', 'free', 'on', 'e', 'is', 'now', 'however', 'below', 'the', 'warning', 'threshold', 'out', 'of', 'total', 'size'], tags=['all_25286']),\n",
              " LabeledSentence(words=['the', 'ownership', 'collaboration', 'platform', 'is', 'a', 'down', 'status', 'since'], tags=['all_30386']),\n",
              " LabeledSentence(words=['and', 'not', 'going', 'to', 'lean', 'today', 'i', 'a', 'event', 'in', 'our', 'collaboration', 'platwithm', 'tracker', 'after', 'the', 'event', 'no', 'participant', 'got', 'any', 'or', 'certificate', 'id', 'for', 'is'], tags=['all_9710']),\n",
              " LabeledSentence(words=['would', 'like', 'added', 'to', 'the', 'distribution', 'check', 'for', 'job', 'i', 'was', 'era', 'every', 'morning', 'up', 'through', 'and', 'august', 'see', 'attached', 'did', 'not', 'receive', 'a', 'report', 'on', 'nor', 'today', 'today', 'advised', 'that', 'is', 'now', 'being', 'maintain', 'usage', 'of', 'contract', 'management', 'system', 'sure', 'why', 'new', 'when', 'it', 'era', 'open', 'this', 'ticket', 'get'], tags=['all_24186']),\n",
              " LabeledSentence(words=['unable', 'connect', 'to', 'engineering', 'tool'], tags=['all_5728']),\n",
              " LabeledSentence(words=['browser', 'issue', 'i', 'cannot', 'access', 'company', 'collaboration', 'platform', 'to', 'sign', 'into', 'tool'], tags=['all_4413']),\n",
              " LabeledSentence(words=['why', 'delivery', 'were', 'for', 'total', 'from', 'plant', 'to', 'plant', 'when', 'on', 'we', 'have', 'customer', 'order', 'hello', 'could', 'you', 'please', 'check', 'and', 'no', 'plant', 'waiting', 'this', 'material', 'then', 'it', 'stock', 'these', 'company', 'plant', 'i', 'had', 'ask', 'team', 'cancellation', 'creation', 'our', 'order', 'many'], tags=['all_19877']),\n",
              " LabeledSentence(words=['a', 'black', 'screen', 'after', 'that', 'system', 'please', 'provide', 'of', 'issue', 'the', 'goes', 'blank'], tags=['all_25079']),\n",
              " LabeledSentence(words=['does', 'not', 'come', 'up', 'after', 'weekly', 'note', 'that', 'recently', 'there', 'been', 'a', 'had', 'and', 'power', 'supply', 'on', 'this', 'server', 'with', 'of', 'data', 'request', 'timed', 'out', 'ping', 'information', 'for', 'sent', 'received', 'lost', 'loss'], tags=['all_29152']),\n",
              " LabeledSentence(words=['received', 'the', 'somethingssage', 'below', 'can', 'you', 'tell', 'me', 'from', 'whom', 'was', 'sent'], tags=['all_17713']),\n",
              " LabeledSentence(words=['full', 'access', 'to', 'forth', 'received', 'from', 'hello', 'help', 'team', 'can', 'want', 'arrange', 'for', 'user', 'and', 'the', 'following', 'oe', 'drive', 'on'], tags=['all_21484']),\n",
              " LabeledSentence(words=['file', 'query'], tags=['all_4423']),\n",
              " LabeledSentence(words=['monitor', 'defeat', 'ewe', 'bur', 'am', 'purchase'], tags=['all_15422']),\n",
              " LabeledSentence(words=['as', 'per', 'insecurity', 'in', 'possible', 'infection', 'host', 'from', 'sent', 'august', 'am', 'to', 'sam', 'shi', 'subject', 'hello', 'we', 'are', 'getting', 'from', 'your', 'user', 'id', 'device', 'and', 'to', 'host', 'that', 'may', 'be', 'infected', 'with', 'due', 'the', 'nature', 'of', 'this', 'threat', 'it', 'difficult', 'detect', 'compromise', 'because', 'detection', 'difficulty', 'severity', 'dell', 'eliminate', 'off', 'network', 'at', 'format', 'hard', 'drive', 'install', 'a', 'new', 'system', 'is', 'not', 'reliable', 'attempt', 'clean', 'virus', 'in', 'high', 'issue', 'moving', 'corresponding', 'account', 'user', 'polo', 'virus', 'quarantine', 'group', 'no', 'access', 'common', 'ways', 'become', 'listed', 'below', 'please', 'inform', 'our', 'team', 'if', 'you', 'know', 'how', 'have', 'portable', 'also', 'known', 'pen', 'drive', 'or', 'thumb', 'drive', 'link', 'visiting', 'been', 'by', 'hacker', 'after', 'immediate', 'effect', 'let', 'us', 'ticketing', 'tool', 'ticket', 'assigned'], tags=['all_26416']),\n",
              " LabeledSentence(words=['folder', 'read', 'and', 'written', 'access', 'received', 'from', 'dear', 'please', 'to', 'this', 'path', 'for', 'me', 'access', 'financial', 'review'], tags=['all_7606']),\n",
              " LabeledSentence(words=['job', 'job', 'in', 'job', 'schedule', 'somewhere', 'received', 'from'], tags=['all_27119']),\n",
              " LabeledSentence(words=['set', 'back', 'docufent', 't', 'please', 'this', 'to', 'status', 'm', 'work', 'controller', 'tenor', 'cutting', 'te', 'coating', 'on', 'system'], tags=['all_15169']),\n",
              " LabeledSentence(words=['can', 'get', 'to', 'print', 'on', 'wont', 'load'], tags=['all_19121']),\n",
              " LabeledSentence(words=['regular', 'upgrade', 'is', 'unsuccessful', 'the', 'system', 'to', 'in', 'the', 'last', 'half', 'month'], tags=['all_12357']),\n",
              " LabeledSentence(words=['need', 'network', 'account', 'so', 'he', 'can', 'get', 'and', 'time', 'is', 'in', 'at', 'baker', 'needs', 'to', 'have', 'access', 'used', 'told', 'a', 'we', 'all', 'this', 'up', 'urgent', 'by'], tags=['all_21697']),\n",
              " LabeledSentence(words=['of', 'your', 'dropping', 'traffic', 'from', 'in', 'incident', 'overview', 'we', 'have', 'at', 'least', 'and', 'to', 'port', 'one', 'or', 'more', 'destination', 'this', 'activity', 'may', 'indicate', 'the', 'following', 'an', 'infection', 'on', 'host', 'a', 'scan', 'authorized', 'unauthorized', 'are', 'you', 'via', 'high', 'priority', 'ticket', 'phone', 'ask', 'per', 'our', 'default', 'event', 'handling', 'if', 'would', 'like', 'us', 'handle', 'these', 'differently', 'in', 'future', 'see', 'below', 'for', 'any', 'further', 'please', 'let', 'know', 'either', 'by', 'corresponding', 'back', 'soc', 'calling', 'only', 'where', 'was', 'blocked', 'explicit', 'notification', 'medium', 'no', 'call', 'automatically', 'resolve', 'portal', 'explicit', 'but', 'will', 'be', 'available', 'portal'], tags=['all_15387']),\n",
              " LabeledSentence(words=['reset', 'with', 'user', 'management', 'tool', 'password', 'reset', 'the'], tags=['all_31088']),\n",
              " LabeledSentence(words=['access', 'issue', 'high', 'priority', 'is', 'getting', 'in', 'when', 'she', 'to', 'create', 'and', 'order', 'this', 'her', 'main', 'function', 'unable', 'proceed', 'note', 'from', 'a', 'server', 'error', 'tried', 'production', 'the', 'message', 'connection', 'system', 'production', 'order', 'interface', 'with', 'destination', 'production', 'order', 'interface', 'not', 'opening', 'an', 'connection', 'other', 'enter', 'user', 'id', 'of', 'issue', 'transaction', 'needs', 'or', 'was', 'working', 'with', 'describe', 'see', 'above'], tags=['all_10575']),\n",
              " LabeledSentence(words=['urgent', 'not', 'working', 'again', 'again', 'after', 'replacement', 'concerned', 'user', 'the', 'to', 'be', 'phone'], tags=['all_21066']),\n",
              " LabeledSentence(words=['removing', 'from', 'of', 'requisition', 'approval', 'approval', 'i', 'want', 'repeated', 'for', 'purchase', 'but', 'they', 'have', 'been', 'long', 'ago'], tags=['all_6962']),\n",
              " LabeledSentence(words=['need', 'your', 'support', 'received', 'from', 'hello', 'material', 'no', 'can', 'not', 'use', 'in', 'please', 'help', 'analyst', 'supply', 'this', 'message', 'is', 'only', 'used', 'by', 'and', 'it', 'may', 'contain', 'content', 'that', 'licensed', 'confidential', 'from', 'disclosure', 'under', 'applicable', 'except', 'for', 'the', 'strictly', 'anyone', 'else', 'to', 'spread', 'utilize', 'or', 'copy', 'this', 'message', 'if', 'you', 'have', 'mistake', 'notify', 'sender', 'delete', 'select', 'following', 'link', 'view', 'disclaimer', 'an', 'alternate', 'language'], tags=['all_24750']),\n",
              " LabeledSentence(words=['automatic', 'data', 'does', 'not', 'works'], tags=['all_19799']),\n",
              " LabeledSentence(words=['accessible', 'to', 'received', 'from', 'please', 'give', 'full', 'user', 'for', 'folder', 'in', 'same', 'subject'], tags=['all_28484']),\n",
              " LabeledSentence(words=['welcome', 'screen', 'in', 'the', 'lobby', 'is', 'would', 'working', 'any', 'more', 'please', 'check'], tags=['all_26900']),\n",
              " LabeledSentence(words=['eu', 'easier', 'no', 'longer', 'works', 'eu', 'tool', 'is', 'not', 'working'], tags=['all_18313']),\n",
              " LabeledSentence(words=['tool', 'activity', 'page', 'was', 'not', 'working', 'in', 'between', 'to', 'on', 'we', 'logged', 'off', 'and', 'but', 'the', 'still', 'therein', 'just', 'showing', 'as', 'loading', 'nothing', 'click', 'my', 'home', 'button', 'no', 'it', 'fine', 'only', 'issue', 'with', 'page'], tags=['all_5276']),\n",
              " LabeledSentence(words=['issue', 'received', 'from', 'hello', 'i', 'do', 'not', 'could', 'access', 'to', 'the', 'forecast', 'plan', 'in', 'see', 'attached', 'dale', 'engineer'], tags=['all_16401']),\n",
              " LabeledSentence(words=['archive', 'be', 'failing', 'with', 'error', 'ora', 'the', 'account', 'is', 'locked', 'connect', 'to', 'instance'], tags=['all_9219']),\n",
              " LabeledSentence(words=['install', 'either'], tags=['all_25738']),\n",
              " LabeledSentence(words=['good', 'in', 'job', 'schedule', 'job', 'received', 'from', 'at'], tags=['all_16529']),\n",
              " LabeledSentence(words=['up', 'drive', 'z'], tags=['all_17735']),\n",
              " LabeledSentence(words=['no', 'power', 'on', 'of'], tags=['all_8733']),\n",
              " LabeledSentence(words=['need', 'ticket', 'received', 'from', 'this', 'item', 'was', 'at', 'leaves', 'and', 'into', 'plant', 'it', 'stock', 'plant', 'on', 'sept', 'that', 'point', 'i', 'would', 'have', 'the', 'system', 'to', 'automatically', 'product', 'plant', 'where', 'there', 'is', 'safety', 'forecast', 'can', 'you', 'please', 'advise', 'if', 'process', 'working', 'working', 'why', 'did', 'not', 'move', 'supply', 'chain', 'planner', 'strategic', 'company', 'technology', 'way', 'pa'], tags=['all_19537']),\n",
              " LabeledSentence(words=['server', 'error', 'message', 'hello', 'team', 'one', 'of', 'company', 'user', 'sometimes', 'go', 'below', 'i', 'think', 'this', 'is', 'connection', 'issue', 'do', 'you', 'have', 'any', 'solution', 'for', 'this', 'an', 'during', 'server', 'was', 'turned', 'because', 'error'], tags=['all_12312']),\n",
              " LabeledSentence(words=['are', 'not', 'with', 'correct', 'delivery', 'this', 'is', 'in', 'reference', 'to', 'it', 'all', 'i', 'company', 'and', 'spoke', 'confirmed', 'that', 'the', 'route', 'from', 'get', 'them', 'on', 'turn', 'around', 'ship', 'us', 'new', 'date', 'for', 'she', 'was', 'sure', 'why', 'of', 'center', 'after', 'investigating', 'looking', 'at', 'screen', 'provided', 'by', 'what', 'happening', 'information', 'system', 'if', 'a', 'ran', 'an', 'availability', 'check', 'art', 'they', 'could', 'see', 'but', 'it', 'did', 'update', 'order', 'i', 'went', 'into', 'order', 'manually', 'stock', 'order', 'customer', 'were', 'look', 'now', 'through', 'center', 'would', 'when', 'time', 'open', 'item', 'case', 'not', 'we', 'looking', 'because', 'issue', 'as', 'been', 'going', 'some', 'now', 'first', 'have', 'on', 'can', 'run', 'every', 'be', 'anything', 'less', 'unacceptable'], tags=['all_8883']),\n",
              " LabeledSentence(words=['answer', 'receive', 'from', 'hall', 'i', 'move', 'shipping', 'date', 'to', 'th', 'help', 'ship', 'out'], tags=['all_12836']),\n",
              " LabeledSentence(words=['wire', 'via', 'defeat'], tags=['all_22997']),\n",
              " LabeledSentence(words=['new', 'supervisor', 'phone', 'number'], tags=['all_18838']),\n",
              " LabeledSentence(words=['the', 'shop', 'floor', 'is', 'a', 'down', 'status', 'on', 'please', 'intovestigate', 'observing', 'alert', 'in', 'tool', 'since', 'am', 'on', 'we', 'are', 'able', 'to', 'ping', 'server', 'with', 'of', 'data', 'reply', 'from', 'times', 'statistics', 'for', 'sent', 'received', 'lost', 'loss', 'approximate', 'round', 'trip', 'times', 'minimum', 'maximum', 'average'], tags=['all_21747']),\n",
              " LabeledSentence(words=['job', 'job', 'in', 'job', 'schedule', 'at', 'previously', 'up'], tags=['all_29170']),\n",
              " LabeledSentence(words=['conversion', 'system', 'ewe', 'port'], tags=['all_14678']),\n",
              " LabeledSentence(words=['display', 'on', 'fixed', 'telephone', 'number', 'in', 'the', 'system', 'area', 'defective', 'please', 'renew', 'phone'], tags=['all_4239']),\n",
              " LabeledSentence(words=['engineering', 'record', 'issue', 'for', 'easy', 'cannot', 'attachment', 'detailed'], tags=['all_28114']),\n",
              " LabeledSentence(words=['technology', 'tool', 'related', 'issue', 'received', 'from', 'hello', 'please', 'refer', 'the', 'below', 'screen', 'shot', 'for', 'issue', 'after', 'update', 'i', 'am', 'unable', 'make', 'new', 'customer', 'note', 'that', 'option', 'button', 'entry', 'is', 'not', 'kindly', 'resolve', 'problem', 'at', 'best'], tags=['all_11436']),\n",
              " LabeledSentence(words=['need', 'assistance', 'cannot', 'login', 'to', 'engineering', 'tool', 'web', 'application', 'after', 'password', 'same'], tags=['all_22000']),\n",
              " LabeledSentence(words=['you', 'help', 'enable', 'the', 'o', 'video', 'service', 'attached', 'that', 'i', 'received', 'via', 'office', 'cannot', 'be', 'i', 'cannot', 'watch', 'of', 'talk'], tags=['all_23025']),\n",
              " LabeledSentence(words=['goods', 'movement', 'hello', 'please', 'let', 'me', 'know', 'how', 'to', 'conduct', 'with', 'for', 'which', 'are', 'not', 'accepted', 'extrude', 'sound', 'project', 'engineer', 'project', 'supply', 'chain', 'logistics', 'company', 'our', 'the', 'name', 'from'], tags=['all_25396']),\n",
              " LabeledSentence(words=['mandatory', 'condition', 'most', 'is', 'missing', 'for', 'order', 'customer', 'master', 'could', 'you', 'please', 'check', 'what', 'wrong', 'with', 'we', 'cannot', 'create', 'delivery', 'because', 'but', 'are', 'incomplete', 'log', 'error', 'department', 'and', 'defined', 'this', 'correctly', 'should', 'be', 'tax', 'like', 'turkey', 'tax', 'free', 'trade', 'zone', 'from', 'maybe', 'to', 'added', 'some', 'country', 'also', 'have', 'ship', 'the', 'today', 'it', 'new', 'form', 'distributor', 'big', 'potential', 'so', 'priority'], tags=['all_16473']),\n",
              " LabeledSentence(words=['unable', 'to', 'communicate', 'search', 'old', 'data', 'please', 'assign', 'this', 'ticket', 'the', 'is', 'down'], tags=['all_19532']),\n",
              " LabeledSentence(words=['blocked', 'tool', 'for', 'in', 'our', 'system', 'reason', 'blocking', 'document', 'been', 'when', 'foreign', 'trade', 'data', 'incomplete', 'same', 'as', 'ticket', 'no', 'after', 'first', 'analysis', 'were', 'available', 'concerned', 'we', 'know', 'how', 'to', 'fix', 'the', 'issue', 'but', 'before', 'document', 'please', 'provide', 'information', 'or', 'make', 'further', 'analysis', 'order', 'avoid', 'this', 'issue', 'future'], tags=['all_21432']),\n",
              " LabeledSentence(words=['an', 'inspection', 'plan', 'i', 'have', 'been', 'working', 'on', 'and', 'it', 'does', 'not', 'seem', 'to', 'be', 'working', 'but', 'am', 'not', 'able', 'view', 'the', 'batch', 'number', 'for', 'this', 'in', 'tried', 'create', 'few', 'as', 'well', 'either', 'no', 'valid', 'type', 'material', 'was', 'found', 'or', 'selected', 'is', 'warning', 'can', 'you', 'please', 'assist', 'me', 'with', 'this', 'alloy', 'needs', 'ship', 'today', 'contact', 'phone'], tags=['all_20009']),\n",
              " LabeledSentence(words=['creonete', 'a', 'new', 'folder', 'in', 'the', 'of', 'eu', 'tool', 'please', 'folder', 'received', 'from', 'hello', 'please', 'path', 'under', 'c', 'c', 'c', 'directory', 'impact', 'award', 'use', 'as', 'designation', 'for', 'visualization', 'are', 'on', 'i', 'hand', 'c', 'reason', 'i', 'have', 'some', 'our', 'system', 'breakdown', 'so', 'they', 'will', 'chance', 'to', 'look', 'into', 'this', 'when', 'want', 'do', 'any', 'notification', 'people', 'because', 'we', 'still', 'with', 'and', 'old', 'was', 'part', 'am', 'best'], tags=['all_8812']),\n",
              " LabeledSentence(words=['job', 'he', 'in', 'job', 'schedule', 'at', 'given', 'from'], tags=['all_12702']),\n",
              " LabeledSentence(words=['delivery', 'no', 'intercompany', 'billing', 'error', 'message', 'but', 'the', 'does', 'not', 'unable', 'to', 'process', 'order', 'through', 'shipping', 'system', 'due', 'not', 'billing'], tags=['all_12332']),\n",
              " LabeledSentence(words=['latitude', 'does', 'not', 'boot', 'up', 'properly', 'got', 'a', 'blue', 'empty', 'screen', 'heron'], tags=['all_14675']),\n",
              " LabeledSentence(words=['defeat', 'adapter', 'for', 'professional', 'loader', 'post', 'post', 'prof', 'charging', 'cradle', 'phone', 'number', 'office', 'process', 'flow', 'manager'], tags=['all_11514']),\n",
              " LabeledSentence(words=['german', 'from', 'all', 'are', 'gone', 'de', 'engineering', 'gen', 'ing', 'transportation', 'in', 'the', 'morning', 'there', 'were', 'approximately', 'please', 'check', 'also', 'copy'], tags=['all_28930']),\n",
              " LabeledSentence(words=['jof', 'job', 'b', 'in', 'job', 'schedule', 'at', 'received', 'from'], tags=['all_11526']),\n",
              " LabeledSentence(words=['after', 'the', 'is', 'not', 'to', 'newly', 'assigned', 'password', 'language', 'explorer', 'customer', 'number', 'telephone'], tags=['all_2453']),\n",
              " LabeledSentence(words=['not', 'comdidntng', 'in', 'from', 'mail', 'received', 'from', 'good', 'afternoon', 'i', 'am', 'the', 'that', 'sent', 'mail', 'please', 'advise'], tags=['all_27005']),\n",
              " LabeledSentence(words=['with', 'conference', 'room'], tags=['all_2908']),\n",
              " LabeledSentence(words=['made', 'for', 'ticket', 'have', 'with', 'delivery', 'printing', 'at', 'plant', 'plant', 'facility', 'is', 'now', 'the', 'plant', 'in', 'there', 'were', 'to', 'pick', 'request', 'this', 'group', 'of', 'but', 'it', 'affected', 'entire', 'facility', 'used', 'print', 'all', 'they', 'an', 'office', 'printer', 'that', 'not', 'near', 'where', 'they', 'working', 'productive', 'please', 'reach', 'out', 'and', 'myself', 'help', 'resolve', 'as', 'soon', 'possible'], tags=['all_22727']),\n",
              " LabeledSentence(words=['install', 'printer', 'they'], tags=['all_9184']),\n",
              " LabeledSentence(words=['job', 'job', 'in', 'job', 'regular', 'at', 'received', 'from'], tags=['all_19976']),\n",
              " LabeledSentence(words=['pur', 'wrong', 'demand', 'for', 'hello', 'material', 'in', 'plant', 'pare', 'not', 'which', 'to', 'po', 'the', 'been', 'closed', 'already', 'component', 'had', 'shipped', 'vendor', 'with', 'a', 'movement', 'and', 'booked', 'out', 'together', 'good', 'receipt', 'why', 'still', 'and', 'that', 'po', 'how', 'can', 'this', 'wrong'], tags=['all_10992']),\n",
              " LabeledSentence(words=['please', 'check', 'the', 'ale', 'into', 'detail', 'we', 'have', 'ongoing', 'with', 'sending', 'data', 'from', 'to', 'and', 'assign', 'a', 'close', 'look', 'on', 'interface', 'production', 'environment', 'i', 'did', 'work', 'through', 'some', 'about', 'expense', 'found', 'out', 'that', 'many', 'not', 'move', 'via', 'ale', 'even', 'when', 'was', 'fine', 'side', 'for', 'example', 'it', 'around', 'were', 'reflected', 'like', 'majority', 'of', 'since', 'at', 'least', 'or', 'sure', 'if', 'nothing', 'went', 'over', 'did', 'but', 'could', 'be', 'because', 'manual', 'by', 'his', 'team'], tags=['all_23116']),\n",
              " LabeledSentence(words=['hhile', 'the', 'order', 'in', 'distributor', 'tool', 'and', 'shipping', 'are', 'coming', 'wrong', 'all', 'it', 'like', 'me', 'may', 'still', 'have', 'a', 'web', 'issue', 'at', 'warehouse', 'seen', 'some', 'where', 'carrier', 'been', 'code', 'but', 'into', 'were', 'so', 'is', 'trying', 'to', 'change', 'ground', 'one', 'case', 'from', 'sold', 'another', 'customer', 'was', 'flat', 'rate', 'already', 'because', 'i', 'did', 'not', 'see', 'that', 'option', 'listed', 'as', 'default', 'on', 'either', 'or', 'ship', 'here', 'two', 'warehouse', 'delivery', 'came', 'over', 'w', 'tops'], tags=['all_26383']),\n",
              " LabeledSentence(words=['the', 'is', 'not', 'getting', 'connectivity', 'connection'], tags=['all_28837']),\n",
              " LabeledSentence(words=['job', 'if', 'in', 'job', 'time', 'at', 'received', 'from'], tags=['all_10789']),\n",
              " LabeledSentence(words=['internal', 'are', 'unable', 'way', 'discount', 'price', 'file', 'on', 'distributor', 'tool', 'company', 'center', 'center', 'the', 'issue', 'is', 'probably', 'related', 'change', 'made', 'for', 'we', 'need', 'fix', 'as', 'this', 'causing', 'lost', 'external', 'works', 'fine', 'all', 'maintenance', 'aba', 'report', 'team', 'maintain', 'data', 'in', 'and', 'it', 'going', 'be', 'limited', 'all', 'into', 'however', 'parameter', 'distributor', 'report', 'from', 'that', 'i', 'do', 'not', 'see', 'a', 'problem', 'access', 'also', 'especially', 'seem', 'have', 'already', 'it', 'best'], tags=['all_27794']),\n",
              " LabeledSentence(words=['delivery', 'block', 'status', 'received', 'from', 'hello', 'it', 'team', 'can', 'you', 'please', 'assist', 'to', 'create', 'with', 'the', 'following', 'so', 'we', 'cannot', 'delivery', 'i', 'this', 'is', 'because', 'delivery', 'status', 'been', 'set', 'with', 'blocked', 'need', 'be', 'not', 'blocked'], tags=['all_7838']),\n",
              " LabeledSentence(words=['hello', 'i', 'am', 'have', 'ran', 'open', 'report', 'data', 'will', 'not', 'past'], tags=['all_20876']),\n",
              " LabeledSentence(words=['not', 'able', 'to', 'login', 'into', 'ethics', 'received', 'from', 'dear', 'sir', 'i', 'am', 'in', 'portal', 'full', 'the', 'course', 'kindly', 'do', 'needful', 'error', 'screen', 'shot', 'attached', 'for', 'reference', 'with', 'best'], tags=['all_19388']),\n",
              " LabeledSentence(words=['whereby', 'shipment', 'notification', 'setting', 'from', 'sent', 'am', 'to', 'subject', 're', 'dear', 'help', 'to', 'update', 'customer', 'shipment', 'notification', 'address', 'b'], tags=['all_17665']),\n",
              " LabeledSentence(words=['onefice', 'excel', 'when', 'opening', 'some', 'and', 'in', 'of', 'computer', 'mail', 'cannot', 'be'], tags=['all_29041']),\n",
              " LabeledSentence(words=['unable', 'to', 'login', 'language', 'explorer', 'customer', 'number', 'problem', 'in'], tags=['all_204']),\n",
              " LabeledSentence(words=['folder', 'deletion', 'from', 's', 'hard', 'received', 'from', 'hello', 'all', 'could', 'you', 'please', 'help', 'me', 'same', 's', 'drive', 'below', 'was', 'link', 'now', 'its', 'not', 'here', 'name', 'vacation', 'plan', 'plan', 'update', 'support'], tags=['all_30548']),\n",
              " LabeledSentence(words=['always', 'get', 'reminder', 'for', 'approval', 'of', 'requisition', 'even', 'i', 'a', 'lot', 'times', 'from', 'produce', 'cannot', 'complete', 'some', 'approval', 'need', 'support', 'my'], tags=['all_20510']),\n",
              " LabeledSentence(words=['i', 'am', 'trying', 'to', 'open', 'a', 'file', 'attached', 'and', 'the', 'extension', 'is', 'cannot', 'this', 'work', 'on', 'it', 'as', 'extension', 'do', 'not', 'know', 'what', 'is'], tags=['all_5185']),\n",
              " LabeledSentence(words=['at', 'new', 'plant', 'locatioff', 'are', 'down', 'since', 'am', 'on'], tags=['all_15398']),\n",
              " LabeledSentence(words=['unable', 'to', 'connect', 'while'], tags=['all_1844']),\n",
              " LabeledSentence(words=['assign', 'user', 'to', 'the', 'ad', 'hello', 'currently', 'he', 'is', 'added', 'but', 'a', 'manager', 'by', 'me', 'if', 'it', 'enough', 'as', 'approval'], tags=['all_889']),\n",
              " LabeledSentence(words=['in', 'be', 'not', 'working'], tags=['all_7510']),\n",
              " LabeledSentence(words=['unable', 'to', 'create', 'delivery', 'please', 'provide', 'the', 'following', 'what', 'order', 'number', 'material', 'or', 'item', 'warehouse', 'location', 'plant', 'issue', 'description', 'error', 'message', 'not'], tags=['all_9603']),\n",
              " LabeledSentence(words=['a', 'termination', 'with', 'effective', 'been'], tags=['all_18346']),\n",
              " LabeledSentence(words=['copy', 'access', 'request', 'to', 'the', 'following', 'for', 'our', 'financial', 'review', 'review', 'i', 'need', 'get', 'writing', 'write', 'save', 'here', 'be', 'able', 'open', 'them'], tags=['all_30334']),\n",
              " LabeledSentence(words=['some', 'confidential', 'document', 'was', 'on', 'the', 'hub', 'and', 'everyone', 'had', 'access', 'to', 'it', 'lwithink', 'this', 'is', 'an', 'issue', 'sent', 'from', 'my', 'begin', 'message', 'from', 'date', 'at', 'am', 'edit', 'to', 'subject', 'information', 'brought', 'attention', 'morning', 'by', 'if', 'you', 'search', 'hub', 'in', 'field', 'just', 'thought', 'all', 'might', 'want', 'know', 'open'], tags=['all_8346']),\n",
              " LabeledSentence(words=['job', 'job', 'in', 'job', 'schedule', 'at', 'receive', 'from'], tags=['all_8098']),\n",
              " LabeledSentence(words=['warehouse', 'not', 'possible', 'on', 'phone', 'set'], tags=['all_6165']),\n",
              " LabeledSentence(words=['battery', 'please', 'get', 'a', 'new', 'phone', 'spare', 'please', 'one'], tags=['all_14657']),\n",
              " LabeledSentence(words=['forwarding', 'received', 'from', 'back', 'company', 'facility', 'on', 'i', 'am', 'assuming', 'partial', 'for', 'can', 'you', 'please', 'set', 'up', 'any', 'to', 'my', 'address', 'advise', 'if', 'there', 'is', 'anything', 'else', 'part', 'or', 'manager'], tags=['all_9558']),\n",
              " LabeledSentence(words=['document', 'cannot', 'be', 'printed', 'by', 'printer', 'fe'], tags=['all_16242']),\n",
              " LabeledSentence(words=['new', 'customer', 'some', 'problem', 'i', 'have', 'customer', 'account', 'into', 'but', 'it', 'a', 'problem', 'customer', 'is', 'for', 'deletion', 'the', 'area', 'selected', 'please', 'help', 'handle', 'it'], tags=['all_19361']),\n",
              " LabeledSentence(words=['exception', 'order', 'material', 'create', 'delivery', 'not', 'status', 'object', 'long', 'text', 'need', 'to', 'create', 'a', 'delivery'], tags=['all_22318']),\n",
              " LabeledSentence(words=['in', 'hub', 'for', 'folder', 'me', 'it', 'is', 'showing', 'access'], tags=['all_862']),\n",
              " LabeledSentence(words=['account', 'for', 'same', 'as', 'that', 'of', 'received', 'from', 'hi', 'it', 'team', 'kindly', 'please', 'assist', 'to', 'reset', 'password', 'user', 'operation', 'supervisor', 'company', 'distribution'], tags=['all_3390']),\n",
              " LabeledSentence(words=['printing', 'need', 'driver', 'on', 'every', 'printer', 'but', 'it', 'does', 'not', 'complete', 'successfully', 'print', 'server'], tags=['all_4539']),\n",
              " LabeledSentence(words=['new', 'received', 'from', 'hi', 'trying', 'to', 'install', 'a', 'license', 'server', 'on', 'this', 'new', 'server', 'i', 'was', 'it', 'logged', 'onto', 'it', 'but', 'it', 'now', 'be', 'unavailable', 'd', 'manager', 'engineering', 'technology'], tags=['all_11272']),\n",
              " LabeledSentence(words=['configure', 'calendar', 'on', 'phone', 'sync', 'with', 'outlook'], tags=['all_326']),\n",
              " LabeledSentence(words=['printer', 'language', 'explorer', 'customer', 'number', 'telephone', 'summary', 'need', 'to', 'change', 'my', 'default', 'in', 'for', 'and', 'despite', 'they', 'are', 'still', 'printing', 'the', 'wrong', 'printer'], tags=['all_1116']),\n",
              " LabeledSentence(words=['data', 'retrieval', 'from', 'backup', 'server', 'received', 'from', 'dear', 'some', 'tipped', 'of', 'around', 'are', 'missing', 'the', 'following', 'trial', 'these', 'had', 'genius', 'machine', 'and', 'on', 'an', 'urgent', 'basis', 'now', 'because', 'is', 'in', 'breakdown', 'condition', 'please', 'retrieve', 'this', 'backup', 'server'], tags=['all_3972']),\n",
              " LabeledSentence(words=['circuit', 'outage', 'steel', 'plant', 'company', 'is', 'down', 'since', 'on', 'page', 'up', 'secondary', 'what', 'type', 'of', 'x', 'network', 'circuit', 'power', 'please', 'specify', 'outage', 'top', 'yes', 'when', 'did', 'it', 'start', 'maintenance', 'power', 'no', 'company', 'power', 'provider', 'network', 'no', 'maint', 'does', 'have', 'a', 'backup', 'yes', 'active', 'no', 'contact', 'notified', 'remote', 'dialing', 'na', 'equipment', 'reset', 'na', 'working', 'na', 'vendor', 'ticket', 'global', 'vendor', 'vendor', 'additional', 'diagnostics'], tags=['all_12360']),\n",
              " LabeledSentence(words=['received', 'from', 'good', 'day', 'can', 'you', 'please', 'advise', 'whether', 'is', 'going', 'through', 'at', 'the', 'moment', 'there', 'are', 'a', 'number', 'of', 'concerning', 'us', 'in', 'moment', 'we', 'cannot', 'access', 'all', 'yesterday', 'i', 'could', 'not', 'enter', 'new', 'customer', 'as', 'my', 'drop', 'down', 'were', 'fully', 'loading', 'and', 'thus', 'only', 'see', 'one', 'or', 'two', 'to', 'select', 'from', 'team', 'here', 'advised', 'that', 'lately', 'they', 'have', 'had', 'contact', 'master', 'on', 'numerous', 'any', 'transferring', 'like', 'reps', 'by', 'our', 'finance', 'department', 'it', 'aware', 'such', 'above', 'kind'], tags=['all_20967']),\n",
              " LabeledSentence(words=['hello', 'please', 'see', 'the', 'field', 'below', 'tax', 'code', 'this', 'is', 'and', 'inconsistent', 'from', 'h', 'sent', 'august', 'am', 'to', 'particular', 'po', 'tax', 'code', 'inconsistent', 'it', 'possible', 'to', 'prevent', 'from', 'where', 'do', 'pull', 'information', 'from'], tags=['all_26825']),\n",
              " LabeledSentence(words=['modify', 'to', 'calculate', 'full', 'instead', 'of', 'hence', 'the', 'current', 'team', 'a', 'value', 'and', 'it', 'in', 'previous', 'period', 'get', 'this', 'needs', 'be', 'calculating', 'delta', 'procedure', 'will', 'true', 'number', 'by', 'retroactively', 'all', 'direct', 'revenue', 'together'], tags=['all_11179']),\n",
              " LabeledSentence(words=['outlook', 'must', 'connect', 'to', 'the', 'server'], tags=['all_10606']),\n",
              " LabeledSentence(words=['item', 'broken', 'when', 'saved', 'attachment'], tags=['all_28448']),\n",
              " LabeledSentence(words=['load', 'telephony', 'on'], tags=['all_2484']),\n",
              " LabeledSentence(words=['i', 'cannot', 'pick', 'up', 'from', 'my', 'phone', 'does', 'not', 'ring', 'when', 'there', 'only', 'a', 'call'], tags=['all_9594']),\n",
              " LabeledSentence(words=['problem', 'in', 'engineering', 'tool', 'received', 'from', 'hello', 'i', 'have', 'a', 'transferring', 'report', 'to', 'the', 'system', 'see', 'yellow', 'field', 'below', 'i', 'already', 'filled', 'and', 'saved', 'several', 'times', 'if', 'want', 'transfer', 'into', 'system', 'there', 'is', 'an', 'error', 'message', 'see', 'attach', 'with', 'best'], tags=['all_23103']),\n",
              " LabeledSentence(words=['reconnect', 'in', 'to'], tags=['all_11185']),\n",
              " LabeledSentence(words=['received', 'from', 'this', 'account', 'was', 'extended', 'to', 'div', 'in', 'on', 'because', 'the', 'new', 'extension', 'not', 'replicated', 'yet', 'please', 'advise'], tags=['all_21515']),\n",
              " LabeledSentence(words=['aw', 'drive', 'folder', 'please', 'review', 'and', 'respond', 'received', 'from', 'hello', 'it', 'support', 'could', 'you', 'give', 'the', 'permission', 'to', 'writing', 'write', 'load', 'from', 'global', 'for', 'many'], tags=['all_7137']),\n",
              " LabeledSentence(words=['work', 'job', 'in', 'job', 'schedule', 'at', 'received', 'from'], tags=['all_9398']),\n",
              " LabeledSentence(words=['stop', 'hi', 'please', 'the', 'either', 'with', 'immediate', 'effect'], tags=['all_11859']),\n",
              " LabeledSentence(words=['priced', 'error', 'between', 'goods', 'receipt', 'and', 'po', 'in', 'urgent', 'received', 'from', 'dear', 'team', 'module', 'we', 'have', 'two', 'for', 'no', 'net', 'quantity', 'usually', 'are', 'the', 'same', 'price', 'but', 'these', 'is', 'not', 'please', 'help', 'to', 'a', 'check', 'reason'], tags=['all_24755']),\n",
              " LabeledSentence(words=['network', 'outage', 'site', 'hard', 'down', 'since', 'am', 'no', 'backup', 'circuit', 'what', 'type', 'of', 'outage', 'x', 'network', 'circuit', 'power', 'please', 'specify', 'outage', 'top', 'no', 'when', 'did', 'it', 'start', 'maintenance', 'power', 'no', 'company', 'power', 'provider', 'network', 'no', 'maint', 'does', 'have', 'a', 'circuit', 'no', 'active', 'na', 'contact', 'notified', 'no', 'remote', 'dialing', 'equipment', 'reset', 'working', 'on', 'vendor', 'ticket', 'global', 'vendor', 'vendor', 'additional', 'diagnostics'], tags=['all_3984']),\n",
              " LabeledSentence(words=['explorer', 'update', 'to', 'similar'], tags=['all_13115']),\n",
              " LabeledSentence(words=['job', 'job', 'into', 'job', 'schedule', 'at', 'received', 'from'], tags=['all_15027']),\n",
              " LabeledSentence(words=['or', 'collaboration', 'platform', 'to', 'i', 'want', 'directly', 'that', 'are', 'saved', 'in', 'a', 'file', 'can', 'this', 'be', 'done', 'was', 'told', 'open', 'ticket', 'and', 'have', 'assigned', 'collaboration', 'development', 'group'], tags=['all_1307']),\n",
              " LabeledSentence(words=['connection', 'is', 'not', 'connected', 'received', 'tool', 'alert', 'at', 'on'], tags=['all_16158']),\n",
              " LabeledSentence(words=['access', 'issue', 'system', 'other', 'enter', 'user', 'id', 'of', 'the', 'issue', 'transaction', 'needs', 'or', 'was', 'working', 'with', 'pro', 'describe', 'need', 'in', 'if', 'you', 'have', 'getting', 'a', 'not', 'authorized', 'message', 'recreate', 'condition', 'then', 'do', 'and', 'attach', 'result', 'to', 'ticketing', 'tool', 'ticket', 'provide', 'same', 'as', 'this', 'user'], tags=['all_26381']),\n",
              " LabeledSentence(words=['unable', 'make', 'access'], tags=['all_16185']),\n",
              " LabeledSentence(words=['vendor', 'connection', 'issue', 'connected', 'to', 'the', 'user', 'system', 'uninstalled', 'and', 'checked', 'advised', 'go', 'go', 'user', 'that', 'connect', 'get', 'connected', 'for', 'some', 'time', 'then', 'disconnect', 'its', 'happening', 'since', 'a', 'long', 'no'], tags=['all_7808']),\n",
              " LabeledSentence(words=['change', 'o', 'license', 'from', 's', 'to', 'k', 'could', 'you', 'please', 'the', 'of', 'following', 's', 'k', 'cost', 'center', 'pam', 'pereira', 'grateful'], tags=['all_5995']),\n",
              " LabeledSentence(words=['need', 'reset', 'password', 'operating'], tags=['all_21424']),\n",
              " LabeledSentence(words=['access', 'issue', 'user', 'helm', 'system', 'other', 'portal', 'enter', 'id', 'of', 'the', 'issue', 'helm', 'describe', 'action', 'could', 'not', 'be', 'are', 'inconsistent', 'or', 'defined', 'see', 'transaction', 'attached', 'screen', 'shot'], tags=['all_2343']),\n",
              " LabeledSentence(words=['unable', 'to', 'generate', 'tool', 'as', 'per', 'delivery', 'were', 'got', 'the', 'error', 'message', 'ie', 'po', 'create', 'fail', 'material', 'auto', 'extend', 'hesitate', 'help', 'fix', 'this', 'and', 'advise', 'back', 'us', 'then', 'we', 'will', 'tax', 'at', 'our', 'end'], tags=['all_25757']),\n",
              " LabeledSentence(words=['circuit', 'outage', 'site', 'is', 'down', 'at', 'am', 'site', 'up', 'on', 'what', 'type', 'of', 'outage', 'network', 'x', 'circuit', 'power', 'please', 'specify', 'outage', 'top', 'no', 'when', 'did', 'it', 'start', 'at', 'maintenance', 'power', 'no', 'company', 'power', 'provider', 'network', 'maint', 'does', 'have', 'a', 'backup', 'yes', 'active', 'yes', 'contact', 'notified', 'remote', 'dialing', 'na', 'equipment', 'reset', 'na', 'working', 'yes', 'vendor', 'ticket', 'global', 'vendor', 'vendor', 'additional', 'diagnostics'], tags=['all_3952']),\n",
              " LabeledSentence(words=['received', 'from', 'hello', 'i', 'am', 'from', 'branch', 'facing', 'issue', 'of', 'network', 'every', 'when', 'seased', 'at', 'floor', 'building', 'request', 'you', 'to', 'arrange', 'resolve', 'the'], tags=['all_23996']),\n",
              " LabeledSentence(words=['please', 'review', 'your', 'recent', 'ticketing', 'tool', 'and', 'let', 'me', 'know', 'who', 'the', 'ethics', 'collaboration', 'platform', 'site', 'from', 'sent', 'august', 'to', 'subject', 'site', 'a', 'few', 'ago', 'i', 'had', 'change', 'that', 'third', 'column', 'of', 'not', 'sure', 'or', 'why', 'this', 'was', 'undone', 'manager', 'global', 'compliance', 'think', 're', 'oh', 'assistant', 'general', 'counsel', 'real', 'estate', 'director', 'compliance'], tags=['all_17546']),\n",
              " LabeledSentence(words=['provide', 'connectivity', 'access', 'to', 'that', 'match', 'hello', 'could', 'you', 'please', 'like', 'who', 'person', 'name', 'manager', 'name', 'user', 'id', 'best'], tags=['all_19421']),\n",
              " LabeledSentence(words=['access', 'locked', 'dad', 'me', 'out', 'i', 'tried', 'going', 'into', 'password', 'management', 'tool', 'to', 'reset', 'me', 'password', 'but', 'listed', 'need', 'you', 'please', 'unlock', 'account'], tags=['all_28658']),\n",
              " LabeledSentence(words=['engineering', 'tool', 'new', 'customer', 'creation', 'please', 'refer', 'implant', 'sent', 'from', 'hi', 'still', 'i', 'am', 'not', 'able', 'create', 'in', 'engineering', 'tool', 'resolve', 'the', 'at', 'bed', 'with', 'warm'], tags=['all_9834']),\n",
              " LabeledSentence(words=['open', 'office', 'both', 'show', 'it', 'is', 'an', 'unauthorized', 'product', 'outlook', 'that', 'product', 'hope', 'to', 'solve', 'it'], tags=['all_24034']),\n",
              " LabeledSentence(words=['fixed', 'assets', 'list', 'are', 'not', 'matching', 'to', 'trial', 'balance', 'and', 'or', 'settlement', 'list', 'difference', 'is', 'mainly', 'clip', 'of', 'the', 'last', 'last', 'settled', 'in', 'current', 'year'], tags=['all_23145']),\n",
              " LabeledSentence(words=['power', 'outage', 'company', 'site', 'hard', 'down', 'since', 'am', 'on', 'what', 'type', 'of', 'outage', 'x', 'network', 'circuit', 'power', 'please', 'specify', 'outage', 'top', 'no', 'when', 'did', 'it', 'start', 'installation', 'power', 'no', 'company', 'provider', 'network', 'maint', 'does', 'have', 'a', 'backup', 'circuit', 'yes', 'active', 'no', 'contact', 'notified', 'no', 'remote', 'dialing', 'equipment', 'reset', 'working', 'vendor', 'ticket', 'global', 'vendor', 'vendor', 'additional', 'diagnostics'], tags=['all_9830']),\n",
              " LabeledSentence(words=['evening', 'job', 'in', 'schedule', 'job', 'received', 'from', 'job', 'schedule', 'job', 'at'], tags=['all_5826']),\n",
              " LabeledSentence(words=['disk', 'space', 'available', 'g', 'volume', 'f', 'on', 'server', 'is', 'up'], tags=['all_22897']),\n",
              " LabeledSentence(words=['fe', 'same', 'text', 'on', 'the', 'copied', 'paper', 'is', 'not', 'clear'], tags=['all_8126']),\n",
              " LabeledSentence(words=['termination', 'well', 'hello', 'a', 'effective', 'been', 'click', 'the', 'link', 'to', 'see', 'here'], tags=['all_30913']),\n",
              " LabeledSentence(words=['business', 'client', 'issue', 'search', 'material', 'code', 'are', 'available', 'that', 'searching', 'result', 'is', 'via', 'specify'], tags=['all_26252']),\n",
              " LabeledSentence(words=['that', 'file', 'cannot', 'be', 'printed', 'to', 'the', 'printer', 'and', 'a', 'printer', 'error', 'is', 'displayed', 'the', 'error'], tags=['all_26366']),\n",
              " LabeledSentence(words=['to', 'be', 'language', 'explorer', 'customer', 'number', 'telephone'], tags=['all_2933']),\n",
              " LabeledSentence(words=['delivery', 'issue', 'received', 'from', 'good', 'morning', 'they', 'have', 'urgent', 'need', 'for', 'assistance', 'as', 'customer', 'is', 'please', 'give', 'this', 'a', 'high', 'priority', 'however', 'experienced', 'in', 'order', 'the', 'though', 'balance', 'due', 'of', 'but', 'can', 'not', 'change', 'quantity', 'nor', 'delete', 'delivery', 'did', 'when', 'and', 'still', 'showing', 'try', 'to', 'make', 'an', 'error', 'that', 'been', 'posted', 'tried', 'are', 'getting', 'message', 'already', 'all', 'reality', 'frozen', 'no', 'be', 'made'], tags=['all_29439']),\n",
              " LabeledSentence(words=['order', 'form', 'for', 'is', 'visible', 'on', 'hello', 'there', 'please', 'sure'], tags=['all_14814']),\n",
              " LabeledSentence(words=['security', 'the', 'possible', 'vulnerability', 'scanning', 'warning', 'can', 'only', 'detect', 'less', 'than'], tags=['all_15954']),\n",
              " LabeledSentence(words=['engineering', 'ableol', 'issue', 'from', 'sent', 'to', 'subject', 'dear', 'please', 'find', 'below', 'the', 'of', 'faced', 'during', 'help', 'me', 'to', 'resolve', 'same'], tags=['all_17889']),\n",
              " LabeledSentence(words=['new', 'from', 'sent', 'august', 'to', 'candy', 'via', 'subject', 'importance', 'high', 'hi', 'can', 'you', 'please', 'advise', 'why', 'the', 'group', 'for', 'and', 'from', 'plant', 'plant', 'are', 'different', 'taking', 'example', 'plant', 'is', 'while', 'plant', 'why'], tags=['all_5700']),\n",
              " LabeledSentence(words=['multiple', 'location', 'across', 'went', 'down', 'at', 'wondering', 'on', 'please', 'find', 'the', 'attached', 'what', 'type', 'of', 'outage', 'x', 'network', 'circuit', 'power', 'please', 'specify', 'outage', 'top', 'site', 'yes', 'when', 'did', 'it', 'start', 'am', 'maintenance', 'power', 'no', 'company', 'power', 'provider', 'network', 'yes', 'maint', 'does', 'have', 'a', 'backup', 'circuit', 'yes', 'active', 'no', 'contact', 'notified', 'yes', 'remote', 'dialing', 'equipment', 'reset', 'working', 'vendor', 'ticket', 'global', 'vendor', 'vendor', 'additional', 'diagnostics'], tags=['all_18383']),\n",
              " LabeledSentence(words=['disk', 'space', 'available', 'g', 'volume', 'f', 'on', 'configuration', 'is', 'over'], tags=['all_22898']),\n",
              " LabeledSentence(words=['please', 'redirect', 'to', 'local', 'it', 'word', 'document', 'doc', 'broken', 'one', 'following', 'can', 'no', 'longer', 'be', 'the', 'cursor', 'frequently', 'page'], tags=['all_31079']),\n",
              " LabeledSentence(words=['unable', 'to', 'see', 'in'], tags=['all_1638']),\n",
              " LabeledSentence(words=['login', 'error', 'reset'], tags=['all_8133']),\n",
              " LabeledSentence(words=['not', 'able', 'to', 'login', 'beyond', 'evolution', 'campaign', 'engineering', 'tool', 'content'], tags=['all_2814']),\n",
              " LabeledSentence(words=['down', 'query', 'ran', 'quick', 'scan', 'and'], tags=['all_29897']),\n",
              " LabeledSentence(words=['telephone', 'system', 'extension', 'to', 'wild'], tags=['all_4324']),\n",
              " LabeledSentence(words=['job', 'hot', 'in', 'job', 'schedule', 'at', 'received', 'from', 'major', 'drive', 'time', 'cannot', 'write', 'to', 'device', 'io', 'error', 'backup', 'statistics', 'session', 'time', 'disk', 'aborted', 'total', 'media', 'used', 'agent', 'exit', 'status', 'control', 'user', 'eastern', 'daylight'], tags=['all_23033']),\n",
              " LabeledSentence(words=['power', 'supply', 'unit', 'or', 'plug', 'defective', 'goods', 'receipt', 'please', 'check', 'power', 'on', 'incoming', 'goods', 'as', 'repair', 'else', 'necessary', 'can', 'only', 'be', 'switched', 'after', 'moving', 'the', 'plug'], tags=['all_30779']),\n",
              " LabeledSentence(words=['hesitate', 'copy', 'the', 'of', 'functionality', 'id', 'to', 'local', 'folder'], tags=['all_28029']),\n",
              " LabeledSentence(words=['need', 'developer', 'display', 'access', 'for', 'login', 'in', 'system'], tags=['all_9983']),\n",
              " LabeledSentence(words=['south', 'file', 'demand', 'wrong', 'number', 'of', 'process', 'but', 'found', 'note', 'there', 'was', 'a', 'power', 'maintenance', 'at', 'south', 'as', 'per', 'service', 'did', 'not', 'come', 'up', 'after', 'the', 'maintenance'], tags=['all_25981']),\n",
              " LabeledSentence(words=['job', 'in', 'job', 'schedule', 'at', 'previously', 'from'], tags=['all_14748']),\n",
              " LabeledSentence(words=['user', 'needs', 'new', 'telephony', 'user'], tags=['all_17796']),\n",
              " LabeledSentence(words=['from', 'outlook'], tags=['all_2535']),\n",
              " LabeledSentence(words=['be', 'not', 'scan', 'to'], tags=['all_17426']),\n",
              " LabeledSentence(words=['resolution', 'on', 'the', 'screen', 'one', 'very', 'bad', 'are', 'not', 'accepted'], tags=['all_21418']),\n",
              " LabeledSentence(words=['with', 'the', 'project', 'entry', 'in', 'collaboration', 'platform', 'dear', 'it', 'still', 'some', 'tracker', 'even', 'your', 'message', 'collaboration', 'tool', 'can', 'make', 'a', 'ticket', 'and', 'contact', 'you', 'or', 'other', 'person', 'they', 'cannot', 'enter', 'any', 'please', 'let', 'us', 'know', 'best'], tags=['all_2431']),\n",
              " LabeledSentence(words=['a', 'with', 'effective', 'being', 'hello'], tags=['all_28677']),\n",
              " LabeledSentence(words=['printer', 'driver', 'not', 'loading', 'properly', 'it', 'needs', 'but', 'continually', 'to', 'update', 'or', 'allow', 'print'], tags=['all_20430']),\n",
              " LabeledSentence(words=['please', 'unlock', 'one', 'user', 'at', 'sar', 'r', 'received', 'from'], tags=['all_25514']),\n",
              " LabeledSentence(words=['reply', 'received', 'from', 'hi', 'help', 'check', 'item', 'net', 'value', 'in', 'condition', 'hand', 'is', 'but', 'on', 'the', 'view', 'of', 'overview', 'correct'], tags=['all_13607']),\n",
              " LabeledSentence(words=['good', 'job', 'in', 'job', 'schedule', 'around', 'received', 'from'], tags=['all_27181']),\n",
              " LabeledSentence(words=['needs', 'access', 'to', 'server', 'the', 'write', 'only', 'name', 'of', 'employee', 'who', 'is', 'number', 'file', 'on', 'our', 'drive', 'v', 'same', 'drafting', 'then', 'star', 'this', 'was', 'set', 'up', 'by', 'own', 'it', 'guy', 'before', 'he', 'laid', 'off'], tags=['all_29966']),\n",
              " LabeledSentence(words=['to', 'but', 'automatically', 'for', 'received', 'from', 'dear', 'it', 'would', 'you', 'helping', 'to', 'check', 'the', 'can'], tags=['all_30822']),\n",
              " LabeledSentence(words=['hence', 'c', 'aa', 'on', 'server', 'is', 'over', 'space', 'available', 'g'], tags=['all_20330']),\n",
              " LabeledSentence(words=['job', 'in', 'job', 'schedule', 'stop', 'received', 'from', 'up'], tags=['all_26791']),\n",
              " LabeledSentence(words=['secure', 'point', 'company', 'company', 'is', 'down', 'blue', 'light', 'linking', 'does', 'not', 'permit', 'connection', 'could', 'you', 'please', 'check'], tags=['all_11618']),\n",
              " LabeledSentence(words=['please', 'give', 'access', 'to', 'all', 'under', 'mu', 'which'], tags=['all_8560']),\n",
              " LabeledSentence(words=['disconnect', 'is', 'down', 'since', 'am', 'on'], tags=['all_25765']),\n",
              " LabeledSentence(words=['when', 'you', 'look', 'up', 'price', 'and', 'availability', 'local', 'only', 'zero', 'will', 'not', 'see', 'the', 'global', 'attachment'], tags=['all_29082']),\n",
              " LabeledSentence(words=['interface', 'serial', 'and', 'serial', 'same', 'to', 'plant', 'is', 'down', 'since', 'up'], tags=['all_29871']),\n",
              " LabeledSentence(words=['and', 'perhaps', 'those', 'as', 'well', 'outlook', 'refusing', 'to', 'send', 'reply', 'many', 'a', 'new', 'will', 'send', 'but', 'stall', 'with', 'not', 'error', 'this', 'be', 'happening', 'only', 'office', 'i', 'personally', 'am', 'got', 'from', 'mi', 'suspected', 'systemic', 'problem', 'company', 'wide'], tags=['all_29326']),\n",
              " LabeledSentence(words=['be', 'error', 'from', 'sent', 'am', 'to', 'subject', 'help', 'table', 'i', 'got', 'below', 'message', 'when', 'ran', 'through', 'please', 'fix', 'the', 'issue'], tags=['all_7441']),\n",
              " LabeledSentence(words=['open', 'purchase', 'book', 'problem', 'back', 'access', 'we', 'are', 'a', 'report', 'in', 'access', 'open', 'book'], tags=['all_20709']),\n",
              " LabeledSentence(words=['i', 'need', 'access', 'to', 'finance', 'section', 'of', 'hub', 'received', 'from', 'could', 'always', 'get', 'way', 'the', 'section', 'and', 'now', 'cannot', 'access', 'please', 'regional', 'controller'], tags=['all_17711']),\n",
              " LabeledSentence(words=['name', 'print', 'no', 'longer'], tags=['all_28067']),\n",
              " LabeledSentence(words=['wrongful', 'tool', 'received', 'from', 'good', 'morning', 'our', 'customer', 'took', 'for', 'a', 'sample', 'line', 'that', 'as', 'no', 'charge', 'in', 'i', 'will', 'be', 'issuing', 'credit', 'to', 'the', 'customer', 'amount', 'but', 'can', 'you', 'tell', 'me', 'why', 'it', 'begin', 'with', 'best'], tags=['all_19292']),\n",
              " LabeledSentence(words=['problem', 'with', 'screen', 'save', 'at', 'the', 'sound'], tags=['all_13589']),\n",
              " LabeledSentence(words=['to', 'not', 'automatically', 'for', 'received', 'from', 'dear', 'it', 'would', 'you', 'help', 'to', 'check', 'the', 'can'], tags=['all_866']),\n",
              " LabeledSentence(words=['access', 'to', 'network', 'run', 'and', 'printer', 'received', 'from', 'please', 'provide', 'following', 'user', 'id', 'production', 'read', 'write', 'only', 'wy'], tags=['all_18951']),\n",
              " LabeledSentence(words=['network', 'divestiture', 'site', 'site', 'is', 'hard', 'down', 'since', 'at', 'am', 'on', 'no', 'backup', 'what', 'type', 'of', 'outage', 'x', 'network', 'circuit', 'power', 'please', 'specify', 'outage', 'top', 'no', 'when', 'did', 'it', 'start', 'maintenance', 'power', 'company', 'power', 'provider', 'network', 'maint', 'does', 'have', 'a', 'circuit', 'na', 'active', 'na', 'contact', 'notified', 'remote', 'dialing', 'equipment', 'reset', 'worked', 'vendor', 'ticket', 'global', 'vendor', 'vendor', 'additional', 'diagnostics'], tags=['all_13501']),\n",
              " LabeledSentence(words=['ie', 'the', 'browser', 'only', 'to', 'the', 'hotel', 'address'], tags=['all_13656']),\n",
              " LabeledSentence(words=['reset', 'for', 'password', 'management', 'tool', 'password', 'reset', 'change', 'to', 'new', 'password'], tags=['all_6384']),\n",
              " LabeledSentence(words=['cannot', 'open', 'excel', 'from', 'and', 'can', 'are', 'slow', 'can', 'or', 'will', 'freeze'], tags=['all_17910']),\n",
              " LabeledSentence(words=['job', 'in', 'job', 'schedule', 'point', 'given', 'from', 'at'], tags=['all_25502']),\n",
              " LabeledSentence(words=['please', 'help', 'enable', 'the', 'o', 'video', 'service', 'attached', 'that', 'i', 'received', 'via', 'office', 'cannot', 'be', 'i', 'cannot', 'watch', 'of', 'tell'], tags=['all_23023']),\n",
              " LabeledSentence(words=['unable', 'to', 'posted', 'billing', 'account', 'billed', 'quantity', 'i', 'div'], tags=['all_9774']),\n",
              " LabeledSentence(words=['fence', 'have', 'time', 'instead', 'of'], tags=['all_29701']),\n",
              " LabeledSentence(words=['network', 'not', 'available', 'for', 'scan', 'please', 'checked', 'we', 'and', 'we'], tags=['all_24299']),\n",
              " LabeledSentence(words=['connectivity', 'outage', 'south', 'site', 'is', 'hard', 'down', 'since', 'on', 'what', 'type', 'of', 'outage', 'x', 'network', 'circuit', 'power', 'please', 'specify', 'outage', 'top', 'yes', 'when', 'did', 'it', 'start', 'maintenance', 'power', 'company', 'power', 'provider', 'network', 'maint', 'does', 'have', 'a', 'backup', 'circuit', 'no', 'active', 'contact', 'notified', 'remote', 'dialing', 'equipment', 'reset', 'working', 'vendor', 'ticket', 'global', 'vendor', 'vendor', 'additional', 'diagnostics'], tags=['all_17247']),\n",
              " LabeledSentence(words=['printing', 'language', 'sa', 'please', 'complete', 'all', 'below', 'if', 'not', 'it', 'will', 'be', 'returned', 'back', 'to', 'the', 'requester', 'provide', 'information', 'review', 'ticket', 'not', 'able', 'resolve', 'then', 'assign', 'appropriate', 'group', 'per', 'your', 'printer', 'problem', 'assignment', 'name', 'make', 'model', 'detailed', 'description', 'of', 'wrong', 'error', 'message', 'enter', 'type', 'printing', 'tax', 'on', 'return', 'what', 'system', 'or', 'application', 'being', 'used', 'at', 'time', 'problem', 'all', 'does', 'respond', 'a', 'ping', 'command', 'network', 'and', 'power', 'cycle', 'been', 'but', 'with', 'system', 'which', 'system', 'its', 'an', 'can', 'output', 'another', 'temporarily', 'no', 'i', 'tried', 'in', 'printer', 'besue', 'same', 'too', 'applicable', 'document', 'is', 'correctly', 'scan', 'copy', 'attach', 'ticketing', 'tool', 'ticket', 'file', 'attached', 'pereira', 'accounting', 'report', 'analyst', 'finance'], tags=['all_19779']),\n",
              " LabeledSentence(words=['the', 'projector', 'in', 'room', 'is', 'nott', 'working', 'it', 'on', 'but', 'getting', 'no', 'video', 'screen'], tags=['all_16418']),\n",
              " LabeledSentence(words=['n', 'machine', 'defective', 'of', 'no', 'longer', 'up'], tags=['all_18101']),\n",
              " LabeledSentence(words=['your', 'invoice', 'for', 'order', 'no', 'out', 'error', 'account', 'to'], tags=['all_21211']),\n",
              " LabeledSentence(words=['unable', 'to', 'load'], tags=['all_2894']),\n",
              " LabeledSentence(words=['with', 'kiosk', 'ilk', 'route', 'but', 'am', 'order'], tags=['all_14307']),\n",
              " LabeledSentence(words=['invalid', 'incompletion', 'error', 'on', 'so', 'so', 'configuration', 'for', 'however', 'is', 'invalid', 'these', 'are', 'complete', 'and', 'should', 'not', 'be', 'there'], tags=['all_22730']),\n",
              " LabeledSentence(words=['renew', 'internal', 'certificate', 'for', 'pbothsword', 'management', 'tool', 'id', 'password', 'manager', 'hello', 'as', 'please', 'assist', 'on', 'the', 'tool'], tags=['all_20089']),\n",
              " LabeledSentence(words=['received', 'from', 'dear', 'all', 'would', 'you', 'please', 'do', 'me', 'a', 'favor', 'plant', 'is', 'on', 'the', 'customs', 'audit', 'and', 'we', 'are', 'document', 'to', 'attached', 'file', 'i', 'cannot', 'extract', 'based', 'let', 'know', 'if', 'but', 'any', 'way', 'can', 'not', 'old', 'data'], tags=['all_18679']),\n",
              " LabeledSentence(words=['problem', 'when', 'opentheg', 'a', 'closed', 'order', 'it', 'cannot', 'create', 'new', 'link', 'in', 'manual', 'or', 'distributed', 'transaction', 'mode'], tags=['all_18690']),\n",
              " LabeledSentence(words=['bug', 'in', 'employee', 'contents', 'is', 'blank'], tags=['all_7163']),\n",
              " LabeledSentence(words=['administration', 'helping', 'to', 'install', 'the', 'in', 'os'], tags=['all_10186']),\n",
              " LabeledSentence(words=['the', 'termination', 'action', 'for', 'hi', 'a', 'effective', 'been'], tags=['all_20676']),\n",
              " LabeledSentence(words=['please', 'provide', 'access', 'received', 'from', 'i', 'should', 'to', 'the', 'following', 'path', 'see', 'for', 'approval', 'company', 'plant', 'controller'], tags=['all_18026']),\n",
              " LabeledSentence(words=['job', 'he', 'in', 'job', 'schedule', 'at', 'received', 'from'], tags=['all_1076']),\n",
              " LabeledSentence(words=['help', 'with', 'hi', 'we', 'need', 'your', 'when', 'the', 'and', 'click', 'in', 'glad', 'close', 'can', 'do', 'make', 'something', 'to', 'solve', 'this', 'trouble'], tags=['all_18820']),\n",
              " LabeledSentence(words=['the', 'network', 'connection', 'is', 'not', 'working', 'on', 'equipment', 'comb', 'hello', 'comb', 'can', 'you', 'have', 'a', 'look', 'please', 'thank', 'greeting'], tags=['all_11896']),\n",
              " LabeledSentence(words=['corporate', 'client', 'cannot', 'be', 'used', 'update', 'business', 'client', 'business', 'client'], tags=['all_21878']),\n",
              " LabeledSentence(words=['and', 'availability', 'look', 'up', 'in', 'dynamics', 'not', 'worked', 'the', 'attached', 'is', 'from', 'she', 'a', 'product', 'that', 'there', 'have', 'screen'], tags=['all_30345']),\n",
              " LabeledSentence(words=['job', 'job', 's', 'in', 'job', 'schedule', 'up', 'received', 'from'], tags=['all_10404']),\n",
              " LabeledSentence(words=['i', 'also', 'to', 'have', 'access', 'this', 'location', 'on', 'collaboration', 'platform', 'now', 'do', 'not', 'need', 'access', 'received', 'from', 'regional', 'controller'], tags=['all_17635']),\n",
              " LabeledSentence(words=['important', 'here', 'synchronized', 'received', 'from', 'hello', 'it', 'help', 'team', 'can', 'you', 'these', 'two', 'they', 'must', 'be', 'identical', 'the', 'data', 'do', 'not', 'currently', 'match', 'many', 'thanks', 'in', 'advance', 'sincerely', 'yours', 'specialist', 'company'], tags=['all_12046']),\n",
              " LabeledSentence(words=['disk', 'space', 'on', 'e', 'is', 'available', 'out', 'of'], tags=['all_1354']),\n",
              " LabeledSentence(words=['user', 'password', 'received', 'from', 'hi', 'team', 'could', 'you', 'please', 'reset', 'from', 'to', 'the', 'forgot', 'her', 'password'], tags=['all_2904']),\n",
              " LabeledSentence(words=['cad', 'for', 'main', 'training', 'room', 'received', 'from', 'please', 'configure', 'and', 'install', 'a', 'machine', 'under', 'the', 'cabinet', 'in', 'new', 'room', 'needs', 'standard', 'configuration', 'also', 'wireless', 'mouse', 'd', 'manipulator', 'will', 'need', 'to', 'be', 'setup', 'multiple', 'sign', 'on', 'with', 'their', 'per', 'request', 'of', 'es', 'it', 'drive', 'play', 'safety'], tags=['all_3848']),\n",
              " LabeledSentence(words=['chat', 'feature', 'for', 'august', 'language', 'is', 'not', 'workintog', 'please', 'check', 'if', 'this', 'related', 'to', 'the', 'change', 'in', 'name', 'of', 'telephony', 'from', 'attached', 'error', 'works', 'normally'], tags=['all_28954']),\n",
              " LabeledSentence(words=['forwarding', 'application', 'for', 'return', 'and', 'exchange', 'quality', 'external', 'status', 'assigned', 'received', 'from', 'hello', 'it', 'team', 'can', 'we', 'add', 'address', 'contact', 'person', 'number', 'on', 'form', 'logistics', 'manager', 'e', 'from', 'delivery', 'time', 'august', 'recipient', 'east', 'service', 'subject', 're', 'application', 'complaint', 'please', 'check', 'with', 'if', 'its', 'might', 'to', 'the', 'warehouse', 'for', 'plant', 'her', 'office', 'form', 'attached'], tags=['all_15483']),\n",
              " LabeledSentence(words=['the', 'following', 'notification', 'in', 'my', 'is', 'being', 'with', 'of', 'a', 'write', 'error', 'these', 'appear', 'to', 'be', 'related', 'south', 'ne', 'an', 'ne', 'transaction', 'there', 'attached'], tags=['all_24782']),\n",
              " LabeledSentence(words=['server', 'at', 'location', 'be', 'down', 'since', 'am', 'on'], tags=['all_17812']),\n",
              " LabeledSentence(words=['card', 'locked', 'and', 'the', 'company', 'provided', 'phone'], tags=['all_23359']),\n",
              " LabeledSentence(words=['customer', 'master', 'can', 'but', 'be', 'hello', 'it', 'but', 'the', 'data', 'is', 'from', 'registration', 'of', 'ship', 'to', 'only', 'registered', 'a', 'sold', 'like'], tags=['all_11350']),\n",
              " LabeledSentence(words=['job', 'job', 'place', 'job', 'schedule', 'at', 'received', 'from'], tags=['all_8238']),\n",
              " LabeledSentence(words=['job', 'cold', 'in', 'job', 'time', 'at', 'previously', 'from'], tags=['all_27264']),\n",
              " LabeledSentence(words=['analyze', 'for', 'office', 'ago', 'tool', 'install', 'the', 'on'], tags=['all_8294']),\n",
              " LabeledSentence(words=['in', 'tool', 'for', 'i', 'can', 'not', 'to', 'please', 'see', 'the', 'attached', 'folder', 'that', 'show', 'message', 'from', 'tool', 'for'], tags=['all_18876']),\n",
              " LabeledSentence(words=['branch', 'card', 'since', 'am', 'on'], tags=['all_17814']),\n",
              " LabeledSentence(words=['cannot', 'print', 'to', 'same', 'my', 'profile', 'on'], tags=['all_28224']),\n",
              " LabeledSentence(words=['unable', 'to', 'attach', 'an', 'attachment', 'in', 'expense', 'report'], tags=['all_2285']),\n",
              " LabeledSentence(words=['withinstall', 'bit', 'version', 'of', 'office', 'for', 'in', 'the', 'production'], tags=['all_26351']),\n",
              " LabeledSentence(words=['volume', 'down', 'of', 'currently', 'space', 'one', 'available'], tags=['all_30623']),\n",
              " LabeledSentence(words=['resolution', 'on', 'the', 'window', 'of', 'very', 'bad', 'are', 'not', 'accepted'], tags=['all_11027']),\n",
              " LabeledSentence(words=['e', 'is', 'over', 'space', 'be', 'g', 'on', 'server'], tags=['all_23306']),\n",
              " LabeledSentence(words=['job', 'out', 'os', 'way', 'in', 'job', 'schedule', 'at', 'received', 'from'], tags=['all_7275']),\n",
              " LabeledSentence(words=['didnt', 'need', 'access', 'to', 'finance', 'section', 'of', 'hub', 'received', 'from', 'could', 'always', 'get', 'into', 'the', 'section', 'and', 'now', 'cannot', 'access', 'please', 'regional', 'controller'], tags=['all_6725']),\n",
              " LabeledSentence(words=['network', 'outage', 'site', 'is', 'hard', 'down', 'at', 'on', 'there', 'backup', 'circuit', 'what', 'type', 'of', 'outage', 'x', 'network', 'circuit', 'power', 'please', 'specify', 'outage', 'top', 'no', 'when', 'did', 'it', 'start', 'maintenance', 'power', 'no', 'company', 'power', 'provider', 'network', 'maint', 'does', 'have', 'a', 'circuit', 'no', 'active', 'no', 'contact', 'notified', 'remote', 'dialing', 'na', 'equipment', 'reset', 'na', 'working', 'vendor', 'ticket', 'global', 'vendor', 'vendor', 'additional', 'diagnostics'], tags=['all_25638']),\n",
              " LabeledSentence(words=['approve', 'primary', 'if', 'automatically', 'in', 'production', 'of', 'the'], tags=['all_12376']),\n",
              " LabeledSentence(words=['account', 'does', 'not', 'match', 'inventory', 'inventory', 'product', 'code', 'ledger'], tags=['all_2375']),\n",
              " LabeledSentence(words=['running', 'from', 'is', 'an', 'issue', 'reaching', 'received', 'alert', 'am', 'on', 'either', 'the', 'display', 'shot'], tags=['all_29619']),\n",
              " LabeledSentence(words=['create', 'new', 'account', 'ewe', 'and', 'ewe', 'lager', 'ewe'], tags=['all_4323']),\n",
              " LabeledSentence(words=['ask', 'zip', 'report', 'when', 'i', 'the', 'report', 'order', 'is', 'not', 'shown', 'customer', 'and', 'order', 'as', 'well', 'please', 'check', 'reason', 'let', 'me', 'know', 'how', 'to', 'show', 'above', 'information', 'in', 'zip', 'plant', 'plant', 'production'], tags=['all_2372']),\n",
              " LabeledSentence(words=['in', 'we', 'are', 'seeing', 'your', 'device', 'generating', 'tor', 'server', 'certificate', 'inbound', 'that', 'on', 'at', 'for', 'traffic', 'not', 'blocked', 'from', 'port', 'of', 'to', 'is', 'traffic', 'please', 'note', 'that', 'depending', 'the', 'placement', 'there', 'a', 'possibility', 'host', 'if', 'this', 'case', 'examine', 'nat', 'determine', 'true', 'destination', 'activity', 'you', 'do', 'not', 'wish', 'be', 'these', 'let', 'us', 'know', 'and', 'will', 'automatically', 'resolve', 'when', 'there', 'activity', 'does', 'immediately', 'indicate', 'malicious', 'activity', 'however', 'presence', 'should', 'authorized', 'or', 'possible', 'policy', 'violation', 'which', 'in', 'turn', 'could', 'lead', 'potential', 'compromise', 'being', 'increasingly', 'used', 'by', 'therefore', 'may', 'also', 'infection', 'incident', 'via', 'medium', 'priority', 'ticket', 'no', 'phone', 'call', 'per', 'our', 'default', 'handling', 'policy', 'would', 'like', 'handle', 'differently', 'future', 'see', 'below', 'have', 'any', 'further', 'either', 'corresponding', 'back', 'soc', 'calling', 'full', 'anonymous', 'communication', 'tor', 'where', 'was', 'blocked', 'explicit', 'notification', 'high', 'call', 'where', 'no', 'explicit', 'but', 'available', 'portal', 'sincerely', 'dell', 'soc'], tags=['all_13685']),\n",
              " LabeledSentence(words=['in', 'ad', 'hi', 'nothing', 'my', 'line', 'the', 'outlook', 'organization', 'system', 'is', 'wrong', 'i', 'have', 'been', 'from', 'to', 'and', 'now', 'report', 'title', 'engineer', 'which', 'not', 'reflected', 'too', 'please', 'help', 'correct'], tags=['all_9653']),\n",
              " LabeledSentence(words=['eu', 'easy', 'does', 'not', 'working'], tags=['all_29648']),\n",
              " LabeledSentence(words=['with', 'stand', 'ewe'], tags=['all_24447']),\n",
              " LabeledSentence(words=['not', 'able', 'to', 'login', 'received', 'from', 'hi', 'refer', 'below', 'and', 'help', 'me', 'out', 'urgent'], tags=['all_1204']),\n",
              " LabeledSentence(words=['phone', 'faulty', 'telephone', 'failure', 'in', 'casting', 'rod', 'workshop'], tags=['all_11297']),\n",
              " LabeledSentence(words=['need', 'access', 'to', 'benefit', 'solver', 'in', 'single', 'sign', 'on', 'portal', 'user', 'that', 'he', 'needs', 'the', 'portal', 'checked', 'ad', 'and', 'did', 'not', 'find', 'particular', 'group', 'added', 'id', 'please', 'help', 'check', 'do', 'needful', 'contact', 'no', 'id'], tags=['all_25736']),\n",
              " LabeledSentence(words=['access', 'to', 'the', 'above', 'link', 'she', 'can', 'edit', 'but', 'whenever', 'it', 'does', 'not', 'receive', 'confirmation', 'telephone', 'summary', 'have', 'a', 'for', 'alarm', 'think', 'response', 'with', 'link', 'form', 'confirmation', 'copy'], tags=['all_8050']),\n",
              " LabeledSentence(words=['can', 'you', 'reset', 'my', 'password', 'for', 'language', 'explorer', 'customer', 'number', 'telephone'], tags=['all_2383']),\n",
              " LabeledSentence(words=['cannot', 'send', 'to', 'this', 'custotellr', 'from', 'sent', 'am', 'subject', 'help', 'please', 'let', 'me', 'know', 'why', 'i', 'best'], tags=['all_19417']),\n",
              " LabeledSentence(words=['add', 'role', 'to', 'access', 'recruit', 'hi', 'please', 'well', 'recruiter', 'and', 'also'], tags=['all_14729']),\n",
              " LabeledSentence(words=['please', 'provide', 'full', 'access', 'to'], tags=['all_4411']),\n",
              " LabeledSentence(words=['job', 'into', 'job', 'schedule', 'cold', 'received', 'from', 'at'], tags=['all_17308']),\n",
              " LabeledSentence(words=['can', 'but', 'automatically', 'for', 'received', 'from', 'dear', 'it', 'would', 'you', 'help', 'to', 'check', 'the', 'can'], tags=['all_30823']),\n",
              " LabeledSentence(words=['f', 'is', 'now', 'f', 'on', 'server', 'over', 'place', 'available', 'g'], tags=['all_25054']),\n",
              " LabeledSentence(words=['error', 'with', 'closed', 'order', 'book', 'nightly', 'report', 'please', 'see', 'attached', 'screen', 'shot'], tags=['all_21072']),\n",
              " LabeledSentence(words=['and', 'office'], tags=['all_12262']),\n",
              " LabeledSentence(words=['tag', 'scanner', 'have', 'paper', 'stuck', 'up', 'issue'], tags=['all_29377']),\n",
              " LabeledSentence(words=['user', 'needs', 'new', 'telephone', 'password'], tags=['all_17795']),\n",
              " LabeledSentence(words=['no', 'connection', 'to', 'the', 'server', 'server', 'access', 'in'], tags=['all_4971']),\n",
              " LabeledSentence(words=['unable', 'to', 'print', 'from', 'the', 'printer', 'color', 'laser', 'connected', 'user', 'system', 'the', 'update', 'tried', 'install', 'no', 'go', 'contact', 'computer', 'name', 'user', 'have', 'local', 'it', 'look', 'as', 'there', 'are', 'many', 'facing', 'similar', 'issue'], tags=['all_2763']),\n",
              " LabeledSentence(words=['setting', 'new', 'the'], tags=['all_30115']),\n",
              " LabeledSentence(words=['not', 'able', 'to', 'get', 'a', 'deldidntvery', 'create', 'for', 'i', 'believe', 'is', 'out', 'all', 'and', 'if', 'may', 'need', 'be', 'run', 'the', 'was', 'inventory', 'received', 'at', 'this', 'afternoon', 'next', 'bop', 'job', 'until', 'after', 'needs', 'ship', 'before', 'then'], tags=['all_29842']),\n",
              " LabeledSentence(words=['reset', 'the', 'password', 'for', 'out', 'production', 'please', 'user', 'old', 'is', 'locked', 'now'], tags=['all_25524']),\n",
              " LabeledSentence(words=['please', 'provide', 'access', 'to', 'by', 'and', 'is', 'job', 'schedule', 'company', 'name', 'job'], tags=['all_2978']),\n",
              " LabeledSentence(words=['for', 'dock', 'station', 'and', 'monitor', 'hi', 'team', 'i', 'am', 'preferably', 'bigger', 'in', 'size', 'please', 'consider', 'this', 'request', 'assist', 'beneficial', 'to', 'me', 'while', 'that', 'will', 'have', 'average', 'sized', 'could', 'view', 'the', 'same', 'screen', 'very', 'clearly', 'with', 'my', 'various', 'work', 'related', 'like', 'tool', 'comparison', 'so', 'can', 'do', 'it', 'much', 'more', 'effective', 'way', 'also', 'last', 'but', 'not', 'least', 'do', 'not', 'carry', 'charger', 'office', 'everyday', 'make', 'big', 'bit', 'lighter'], tags=['all_4783']),\n",
              " LabeledSentence(words=['cannot', 'complete', 'quotation', 'number', 'get', 'error', 'message', 'line', 'item', 'enter', 'brand', 'is', 'not', 'listed', 'a', 'valid', 'for', 'line', 'item'], tags=['all_16191']),\n",
              " LabeledSentence(words=['to', 'able', 'not', 'be', 'received', 'from', 'dear', 'it', 'the', 'for', 'below', 'would', 'you', 'help', 'to', 'check'], tags=['all_12685']),\n",
              " LabeledSentence(words=['material', 'issue', 'received', 'from', 'dear', 'team', 'we', 'again', 'shipped', 'a', 'subcontract', 'order', 'on', 'th', 'po', 'rough', 'movement', 'type', 'but', 'its', 'corresponding', 'end', 'product', 'still', 'in', 'help', 'to', 'check', 'the', 'root', 'company'], tags=['all_14519']),\n",
              " LabeledSentence(words=['report', 'score', 'variant', 'rod', 'stock', 'be', 'working', 'for', 'some', 'in', 'the', 'plant', 'wont', 'work'], tags=['all_13516']),\n",
              " LabeledSentence(words=['reset', 'the', 'password', 'for', 'on', 'other', 'in', 'i', 'need', 'my', 'set', 'quality', 'assurance', 'area'], tags=['all_5188']),\n",
              " LabeledSentence(words=['outlook', 'repeatedly', 'for', 'password', 'box', 'up', 'repeatedly', 'a', 'password', 'unable', 'to', 'send'], tags=['all_8740']),\n",
              " LabeledSentence(words=['network', 'refinery', 'is', 'hard', 'down', 'since', 'at', 'am', 'on', 'no', 'backup', 'circuit', 'what', 'type', 'of', 'outage', 'x', 'network', 'circuit', 'power', 'please', 'specify', 'outage', 'top', 'site', 'yes', 'when', 'did', 'it', 'start', 'maintenance', 'power', 'company', 'power', 'provider', 'network', 'maint', 'because', 'have', 'a', 'circuit', 'na', 'active', 'na', 'contact', 'notified', 'remote', 'dialing', 'equipment', 'reset', 'working', 'vendor', 'ticket', 'global', 'vendor', 'vendor', 'additional', 'diagnostics'], tags=['all_16423']),\n",
              " LabeledSentence(words=['cannot', 'send', 'to', 'this', 'customer', 'from', 'sent', 'am', 'subject', 'help', 'here', 'let', 'me', 'know', 'why', 'i', 'best'], tags=['all_19416']),\n",
              " LabeledSentence(words=['problem', 'emit', 'blue', 'extra', 'extra', 'i', 'wish', 'on', 'v', 'and', 'a', 'bottle', 'of', 'infection'], tags=['all_15611']),\n",
              " LabeledSentence(words=['can', 'sure', 'please', 'check', 'the', 'bob', 'account', 'of', 'he', 'error', 'message', 'when', 'trying', 'to', 'open', 'a', 'report', 'dear', 'all', 'report'], tags=['all_22128']),\n",
              " LabeledSentence(words=['the', 'is', 'a', 'down', 'status', 'the'], tags=['all_19069']),\n",
              " LabeledSentence(words=['two', 'were', 'not', 'posted', 'to', 'place', 'sept', 'th', 'language', 'explorer', 'customer', 'number', 'telephone'], tags=['all_11294']),\n",
              " LabeledSentence(words=['mandatory', 'condition', 'most', 'is', 'unfortunately', 'for', 'order', 'customer', 'master', 'could', 'you', 'please', 'check', 'what', 'wrong', 'with', 'we', 'cannot', 'create', 'delivery', 'because', 'there', 'are', 'incomplete', 'log', 'error', 'department', 'and', 'defined', 'this', 'correctly', 'should', 'be', 'tax', 'like', 'turkey', 'tax', 'free', 'trade', 'zone', 'from', 'maybe', 'to', 'added', 'some', 'country', 'also', 'have', 'ship', 'the', 'today', 'it', 'new', 'form', 'distributor', 'big', 'potential', 'so', 'priority'], tags=['all_16472']),\n",
              " LabeledSentence(words=['interface', 'van', 'on', 'is', 'down'], tags=['all_4349']),\n",
              " LabeledSentence(words=['new', 'prospect', 'within', 'the', 'system', 'issue', 'is', 'i', 'have', 'some', 'after', 'days', 'it', 'still', 'them', 'a', 'contact'], tags=['all_5310']),\n",
              " LabeledSentence(words=['tracker', 'making', 'length', 'measuring', 'machine'], tags=['all_29530']),\n",
              " LabeledSentence(words=['unable', 'to', 'login', 'mi', 'system', 'checked', 'account', 'and', 'found', 'that', 'it', 'was', 'not', 'locked', 'out', 'user', 'unlock', 'from', 'password', 'management', 'tool', 'try', 'logging', 'in', 'again', 'some', 'time'], tags=['all_799']),\n",
              " LabeledSentence(words=['engineering', 'tool', 'message', 'to', 'all', 'of', 'south', 'after', 'the', 'since', 'that', 'a', 'related', 'setup', 'server', 'please', 'see', 'attached', 'message'], tags=['all_17951']),\n",
              " LabeledSentence(words=['voucher', 'resent', 'issue', 'when', 'able', 'a', 'following', 'the', 'standard', 'procedure', 'i', 'enter', 'address', 'and', 'press', 'send', 'page', 'goes', 'completely', 'blank', 'then', 'need', 'resign', 'onto', 'not', 'been', 'sent', 'please', 'review', 'correct'], tags=['all_19729']),\n",
              " LabeledSentence(words=['user', 'cannot', 'create', 'going', 'of', 'punch', 'he', 'get', 'the', 'error', 'document', 'type', 'not', 'available', 'for', 'system', 'see', 'attached', 'in', 'other', 'it', 'works', 'to', 'be', 'something', 'his'], tags=['all_15014']),\n",
              " LabeledSentence(words=['na', 'remote', 'is', 'not', 'working', 'hi', 'hello', 'can', 'you', 'verify', 'eu', 'let', 'me', 'check', 'are', 'getting', 'some', 'error', 'able', 'to', 'connect', 'create', 'a', 'ticket', 'try', 'if', 'it', 'i', 'am', 'on', 'still', 'this', 'new', 'have', 'time', 'just', 'sure'], tags=['all_13618']),\n",
              " LabeledSentence(words=['cannot', 'open', 'excel', 'from', 'and', 'can', 'are', 'too', 'to', 'or', 'will', 'freeze'], tags=['all_17912']),\n",
              " LabeledSentence(words=['no', 'permit', 'into'], tags=['all_30318']),\n",
              " LabeledSentence(words=['i', 'cannot', 'seeing', 'the', 'folder', 'of', 'a', 'please', 'able', 'to', 'figure', 'it', 'out'], tags=['all_28539']),\n",
              " LabeledSentence(words=['error', 'with', 'open', 'order', 'book', 'nightly', 'report', 'hesitate', 'see', 'attached', 'screen', 'shot'], tags=['all_21073']),\n",
              " LabeledSentence(words=['no', 'boot', 'service', 'tag', 'running', 'into', 'problem', 'goes', 'to', 'start', 'up', 'replacement', 'page', 'loading', 'fine', 'in', 'safe', 'mode', 'with', 'user', 'was', 'able', 'log', 'have', 'access', 'it', 'tried', 'shutting', 'down', 'and', 'trying', 'booking', 'upon', 'go', 'flea', 'power', 'no', 'go', 'it', 'going', 'screen', 'again', 'st', 'contact', 'can', 'be', 'during'], tags=['all_18547']),\n",
              " LabeledSentence(words=['audio', 'not', 'working', 'received', 'from', 'kind', 'kindly', 'resolve', 'subject', 'issue', 'at', 'the', 'best'], tags=['all_3870']),\n",
              " LabeledSentence(words=['with', 'problem'], tags=['all_20884']),\n",
              " LabeledSentence(words=['calculator', 'for', 'eu', 'tool', 'over'], tags=['all_8086']),\n",
              " LabeledSentence(words=['volume', 'e', 'on', 'server', 'which', 'over', 'space', 'available', 'g'], tags=['all_25147']),\n",
              " LabeledSentence(words=['unable', 'to', 'check', 'does', 'not', 'sync', 'account', 'are', 'outdated', 'from', 'phone', 'trying', 'restoration', 'the', 'and', 'its', 'showing', 'that', 'not', 'possible', 'even', 'user', 'remove', 'read', 'account'], tags=['all_14457']),\n",
              " LabeledSentence(words=['security', 'in', 'no', 'entry', 'source', 'system', 'name', 'user', 'location', 'current', 'no', 'field', 'yes', 'no', 'event', 'below'], tags=['all_6843']),\n",
              " LabeledSentence(words=['issue', 'received', 'out', 'hello', 'when', 'i', 'try', 'to', 'create', 'a', 'new', 'number', 'for', 'with', 'storage', 'location', 'plant', 'the', 'under', 'plant', 'even', 'is', 'as', 'plant', 'in', 'line', 'item', 'rectify', 'same'], tags=['all_7845']),\n",
              " LabeledSentence(words=['next', 'the', 'value', 'one', 'threshold', 'for', 'is'], tags=['all_27016']),\n",
              " LabeledSentence(words=['defective', 'bulk', 'optic', 'line', 'box'], tags=['all_13408']),\n",
              " LabeledSentence(words=['provide', 'to', 'drive', 'received', 'from', 'good', 'morning', 'the', 'above', 'file'], tags=['all_16406']),\n",
              " LabeledSentence(words=['drawing', 'response', 'is', 'error', 'even', 'though', 'a', 'successful', 'received', 'when', 'i', 'send', 'the', 'input', 'to', 'drawing', 'always', 'get', 'reply', 'not', 'sent', 'but', 'still', 'for', 'example', 'below', 'i', 'mail', 'doc', 'delivery', 'doc', 'billing', 'doc', 'doc', 'pur', 'mat', 'drawing', 'doc', 'language', 'mail', 'flag', 'document', 'number', 'special', 'material', 'in', 'it', 'which', 'drawing', 'above', 'input', 'expect', 'and', 'actually', 'fine', 'however', 'from', 'does', 'make', 'sense', 'as', 'do', 'important', 'of', 'file', 'site', 'works', 'just', 'valid', 'message', 'successfully'], tags=['all_15112']),\n",
              " LabeledSentence(words=['reinstall', 'eu', 'easy', 'and'], tags=['all_20604']),\n",
              " LabeledSentence(words=['report', 'not', 'running', 'properly', 'and', 'to', 'be', 'is', 'a', 'with', 'size', 'instead', 'of', 'proper', 'o', 'actually', 'run', 'on', 'the', 'each', 'month', 'along', 'other', 'but', 'for', 'last', 'couple', 'been', 'empty', 'this', 'previously', 'only', 'any', 'please', 'correct', 'so', 'it', 'available', 'next', 'month', 'global', 'that', 'used', 'in', 'some', 'compensation'], tags=['all_23344']),\n",
              " LabeledSentence(words=['printer', 'see', 'attach'], tags=['all_18940']),\n",
              " LabeledSentence(words=['volume', 'c', 'is', 'over', 'space', 'available', 'g', 'out', 'server'], tags=['all_10896']),\n",
              " LabeledSentence(words=['urgent', 'classroom', 'intercom', 'if', 'not', 'work', 'training', 'room'], tags=['all_6833']),\n",
              " LabeledSentence(words=['folder', 'allow', 'provide', 'to', 'user', 'id', 'the', 'below', 'network', 'folder'], tags=['all_17374']),\n",
              " LabeledSentence(words=['folder', 'access', 'please', 'see', 'below', 'in', 'blue', 'many', 'best'], tags=['all_7769']),\n",
              " LabeledSentence(words=['cannot', 'open', 'excel', 'from', 'and', 'can', 'have', 'but', 'to', 'or', 'will', 'freeze'], tags=['all_28214']),\n",
              " LabeledSentence(words=['needs', 'allow', 'to', 'like'], tags=['all_30523']),\n",
              " LabeledSentence(words=['network', 'circuit', 'is', 'down', 'since', 'at', 'am', 'on', 'no', 'backup', 'what', 'type', 'of', 'outage', 'x', 'network', 'circuit', 'power', 'please', 'specify', 'outage', 'top', 'site', 'no', 'when', 'did', 'it', 'start', 'maintenance', 'power', 'company', 'power', 'provider', 'network', 'maint', 'does', 'have', 'a', 'na', 'active', 'na', 'contact', 'notified', 'remote', 'dialing', 'equipment', 'reset', 'working', 'vendor', 'ticket', 'global', 'vendor', 'vendor', 'additional', 'diagnostics'], tags=['all_3267']),\n",
              " LabeledSentence(words=['unable', 'to', 'schedule', 'a', 'meeting', 'option', 'no', 'longer', 'on', 'outlook'], tags=['all_1780']),\n",
              " LabeledSentence(words=['terminate', 'action', 'for', 'from', 'sent', 'august', 'make', 'subject', 'rad', 'the', 'hello', 'a', 'termination', 'effective', 'been', 'click', 'link', 'to', 'view'], tags=['all_26541']),\n",
              " LabeledSentence(words=['unable', 'to', 'access', 'password', 'management', 'tool', 'id', 'password', 'administrator', 'i', 'try', 'change', 'now', 'myself', 'attached', 'but', 'this', 'do', 'not', 'work', 'was', 'out', 'of', 'office', 'for', 'vacation', 'time', 'until', 'now', 'link', 'work', 'please', 'help', 'your', 'in', 'days', 'the', 'requirement', 'every', 'days', 'data', 'security', 'within', 'company', 'login', 'a', 'guide', 'on', 'tool', 'is', 'available', 'here', 'do', 'not', 'reply', 'if', 'you', 'require', 'assistance', 'submit', 'ticket', 'global', 'support', 'center', 'via', 'any', 'these', 'ticketing', 'tool', 'kind'], tags=['all_27418']),\n",
              " LabeledSentence(words=['of', 'your', 'dropping', 'traffic', 'from', 'in', 'incident', 'overview', 'we', 'have', 'up', 'least', 'and', 'to', 'port', 'one', 'or', 'more', 'destination', 'this', 'activity', 'may', 'indicate', 'the', 'following', 'an', 'infection', 'on', 'host', 'a', 'scan', 'authorized', 'unauthorized', 'are', 'you', 'via', 'high', 'priority', 'ticket', 'phone', 'call', 'per', 'our', 'default', 'event', 'handling', 'if', 'would', 'like', 'us', 'handle', 'these', 'differently', 'in', 'future', 'see', 'below', 'for', 'any', 'further', 'please', 'let', 'know', 'either', 'by', 'corresponding', 'back', 'soc', 'calling', 'only', 'where', 'was', 'blocked', 'explicit', 'notification', 'medium', 'no', 'call', 'automatically', 'resolve', 'portal', 'explicit', 'but', 'will', 'be', 'available', 'portal'], tags=['all_25189']),\n",
              " LabeledSentence(words=['user', 'creation', 'and', 'deletion', 'on', 'create', 'team', 'with', 'judo', 'for', 'josh', 'server', 'delete', 'greener'], tags=['all_20789']),\n",
              " LabeledSentence(words=['check', 'router', 'router', 'site', 'south', 'so', 'campo', 'hey', 'team', 'please', 'the', 'site', 'company', 'south', 'campo', 'no', 'is', 'possible', 'connect', 'network', 'this', 'visible', 'to', 'local', 'if', 'you', 'need', 'remotely', 'or', 'more', 'please', 'return', 'me'], tags=['all_24259']),\n",
              " LabeledSentence(words=['install', 'eu', 'tool'], tags=['all_289']),\n",
              " LabeledSentence(words=['reminder', 'notification', 'on', 'sending', 'for', 'one', 'received', 'from', 'hi', 'it', 'team', 'i', 'have', 'still', 'to', 'approval', 'daily', 'which', 'already', 'and', 'there', 'are', 'no', 'any', 'pending', 'left', 'in', 'me', 'also', 'been', 'raised', 'by', 'team', 'kindly', 'review', 'system', 'fix', 'me'], tags=['all_29575']),\n",
              " LabeledSentence(words=['access', 'to', 'production', 'in', 'i', 'can', 'log', 'into', 'be', 'via', 'the', 'web', 'but', 'it', 'is', 'for', 'id', 'and', 'password', 'would', 'need', 'plant', 'plant', 'plant'], tags=['all_4375']),\n",
              " LabeledSentence(words=['within', 'is', 'should', 'working'], tags=['all_29833']),\n",
              " LabeledSentence(words=['with', 'print', 'optic', 'we'], tags=['all_13764']),\n",
              " LabeledSentence(words=['error', 'received', 'from', 'dear', 'all', 'would', 'you', 'please', 'need', 'us', 'out', 'we', 'cannot', 'complete', 'for', 'below', 'po'], tags=['all_22700']),\n",
              " LabeledSentence(words=['is', 'getting', 'a', 'power', 'supply', 'not', 'sufficient', 'warning', 'on', 'boot', 'up', 'then'], tags=['all_10250']),\n",
              " LabeledSentence(words=['aid', 'necessary', 'to', 'format', 'and', 'reinstall'], tags=['all_10102']),\n",
              " LabeledSentence(words=['allocate', 'and', 'e', 'license', 'to', 'use', 'profile', 'know'], tags=['all_27498']),\n",
              " LabeledSentence(words=['received', 'from', 'i', 'am', 'unable', 'to', 'log', 'into', 'please', 'advise'], tags=['all_974']),\n",
              " LabeledSentence(words=['volume', 'data', 'is', 'out', 'space', 'available', 'g'], tags=['all_21606']),\n",
              " LabeledSentence(words=['aw', 'ticket', 'no', 'added', 'received', 'from', 'hi', 'i', 'have', 'in', 'and', 'something', 'works', 'now', 'correctly', 'the', 'accounting', 'were', 'automatically', 'without', 'any', 'am', 'change', 'best'], tags=['all_17689']),\n",
              " LabeledSentence(words=['tablet', 'needs', 'due', 'to', 'two', 'with'], tags=['all_17576']),\n",
              " LabeledSentence(words=['error', 'as', 'usual', 'implant', 'cannot', 'but', 'be', 'i', 'before'], tags=['all_14981']),\n",
              " LabeledSentence(words=['tool', 'data', 'site', 'cannot', 'find', 'with', 'out', 'security', 'error', 'this', 'is', 'the', 'i', 'am', 'getting', 'when', 'use', 'any', 'function', 'on', 'exception', 'of', 'type', 'was', 'thrown', 'at', 'assembly', 'sha', 'assembly', 'zip', 'string', 'culture', 'control', 'sender', 'e'], tags=['all_18699']),\n",
              " LabeledSentence(words=['i', 'need', 'make', 'approval', 'the', 'new', 'product', 'below'], tags=['all_27485']),\n",
              " LabeledSentence(words=['eu', 'tool', 'is', 'down', 'in', 'plant', 'please', 'restart', 'the', 'server', 'so', 'we', 'you', 'run', 'production', 'as'], tags=['all_18773']),\n",
              " LabeledSentence(words=['account', 'owner', 'issue', 'please', 'assign', 'it', 'to', 'team', 'i', 'discovered', 'that', 'there', 'is', 'an', 'issue', 'with', 'in', 'below', 'of', 'company', 'however', 'have', 'set', 'up', 'as', 'company', 'customer', 'account'], tags=['all_23269']),\n",
              " LabeledSentence(words=['help', 'to', 'reset', 'the', 'password', 'for', 'this', 'ie'], tags=['all_23320']),\n",
              " LabeledSentence(words=['customer', 'i', 'cannot', 'select', 'the', 'and', 'edit', 'it', 'see', 'picture', 'below', 'there', 'is', 'no', 'button', 'for', 'new', 'or', 'find', 'which', 'we', 'had', 'in', 'last', 'select', 'not', 'active'], tags=['all_20630']),\n",
              " LabeledSentence(words=['in', 'universal', 'ticket', 'received', 'from', 'all', 'this', 'with', 'and', 'the', 'problem', 'is', 'not', 'by', 'exclusion', 'list', 'or', 'because', 'of', 'a', 'security', 'configuration', 'where', 'but', 'no', 'notification', 'we', 'to', 'display', 'sud', 'attached', 'incident', 'you', 'will', 'see', 'address', 'for', 'incorrectly', 'please', 'update', 'dear', 'madam', 'sir', 'i', 'am', 'longer', 'my', 'outlook', 'how', 'can', 'restore', 'these', 'kind'], tags=['all_10778']),\n",
              " LabeledSentence(words=['security', 'in', 'magenta', 'whereby', 'warning', 'can', 'only', 'detect', 'less', 'than'], tags=['all_11784']),\n",
              " LabeledSentence(words=['unable', 'to', 'access', 'received', 'from', 'hi', 'it', 'team', 'kindly', 'please', 'assist', 'as', 'i', 'in', 'my', 'system', 'attached', 'for', 'your', 'reference'], tags=['all_2812']),\n",
              " LabeledSentence(words=['connect', 'in', 'make'], tags=['all_21566']),\n",
              " LabeledSentence(words=['set', 'code', 'under', 'me', 'place', 'is'], tags=['all_8945']),\n",
              " LabeledSentence(words=['allow', 'to', 'edit', 'contact', 'and', 'update', 'back', 'thone', 'is', 'project', 'olive'], tags=['all_10601']),\n",
              " LabeledSentence(words=['unable', 'to', 'engineering', 'received', 'from', 'kindly', 'look', 'into', 'extract', 'and', 'open', 'engineering', 'tool', 'please', 'revert', 'back', 'with', 'top', 'priority', 'same', 'case', 'are', 'be', 'get', 'the', 'below', 'error', 'dab', 'best'], tags=['all_3042']),\n",
              " LabeledSentence(words=['monitor', 'defective', 'hello', 'the', 'from', 'in', 'material', 'warehouse', 'can', 'you', 'please', 'have', 'a', 'see', 'at', 'that'], tags=['all_22371']),\n",
              " LabeledSentence(words=['problem', 'with', 'the', 'difference', 'amount', 'in', 'po', 'approval', 'report', 'and', 'also', 'kindly', 'remove', 'as', 'this', 'is', 'no', 'longer', 'used'], tags=['all_23157']),\n",
              " LabeledSentence(words=['not', 'able', 'to', 'do', 'and', 'error', 'account', 'delivery', 'customer', 'have', 'different', 'profit', 'message', 'customer', 'customer', 'item'], tags=['all_14453']),\n",
              " LabeledSentence(words=['password', 'received', 'from', 'please', 'reset', 'my', 'password', 'i', 'am', 'not', 'remember', 'even', 'security', 'question', 'also', 'best'], tags=['all_3991']),\n",
              " LabeledSentence(words=['extend', 'the', 'account', 'urgent', 'on', 'th', 'need', 'to', 'until', 'end', 'of', 'year', 'this', 'done', 'as', 'soon', 'possible', 'employee', 'is', 'with', 'that', 'have', 'related', 'an', 'who', 'leaving', 'company', 'today', 'please', 'expedite'], tags=['all_9899']),\n",
              " LabeledSentence(words=['application', 'file', 'on', 'node', 'is', 'unreachable'], tags=['all_1557']),\n",
              " LabeledSentence(words=['chrome'], tags=['all_3916']),\n",
              " LabeledSentence(words=['good', 'job', 'in', 'job', 'schedule', 'at', 'received', 'from'], tags=['all_15004']),\n",
              " LabeledSentence(words=['need', 'the', 'password', 'management', 'tool', 'link'], tags=['all_2682']),\n",
              " LabeledSentence(words=['tool', 'should', 'received', 'from', 'hi', 'team', 'delivery', 'is', 'an', 'and', 'i', 'cannot', 'see', 'any', 'reason', 'why', 'it', 'can', 'you', 'please', 'resolve', 'this', 'issue'], tags=['all_24635']),\n",
              " LabeledSentence(words=['term', 'date', 'network', 'folder', 'access', 'i', 'never', 'received', 'to', 'person', 'on', 'the', 'drive', 'did', 'get', 'her', 'collaboration', 'platform', 'drive', 'but', 'not', 'folder', 'know', 'is', 'where', 'she', 'saved', 'a', 'lot', 'of', 'information', 'really', 'need', 'have', 'this', 'also', 'sure', 'why', 'regarding', 'are', 'in', 'german', 'final', 'deletion', 'for', 'business', 'from', 'time', 'you', 'still', 'time', 'copy', 'important', 'another', 'location', 'after', 'days', 'will', 'be', 'permanently', 'switch', 'under'], tags=['all_9269']),\n",
              " LabeledSentence(words=['pi', 'and', 'connectivity', 'issue', 'certificate', 'renewal', 'hi', 'all', 'we', 'have', 'a', 'issue', 'between', 'due', 'to', 'on', 'azure', 'that', 'is', 'not', 'yet', 'side', 'issue', 'data', 'area', 'data', 'partner', 'are', 'being', 'from', 'worked', 'with', 'it', 'vice', 'in', 'prod', 'dev', 'start', 'time', 'th', 'when', 'customer', 'master', 'team', 'the', 'prospect', 'account', 'did', 'not', 'come', 'into', 'still', 'status', 'which', 'basically', 'they', 'by', 'target', 'system', 'upon', 'some', 'log', 'analysis', 'trying', 'identify', 'root', 'cause', 'pi', 'basis', 'its', 'been', 'production', 'environment', 'since', 'around', 'same', 'behavior', 'tool', 'of', 'other', 'nonproduction', 'as', 'well', 'you', 'can', 'find', 'error', 'system', 'mail', 'chain', 'cause', 'it', 'for', 'th', 'sept', 'expiration', 'date', 'th', 'but', 'new', 'they', 'even', 'aware', 'this', 'change', 'so', 'got', 'broken', 'next', 'need', 'chain', 'be', 'sent', 'so', 'update', 'whom', 'i', 'reach', 'put', 'do', 'an', 'house', 'or', 'want', 'me', 'open', 'case', 'once', 'received', 'maybe', 'third', 'then', 'confirmation', 'works', 'apply'], tags=['all_27622']),\n",
              " LabeledSentence(words=['not', 'can', 'to', 'open', 'the', 'hand', 'report'], tags=['all_18597']),\n",
              " LabeledSentence(words=['reset', 'the', 'password', 'for', 'on', 'other', 'telephony', 'please', 'to', 'telephony'], tags=['all_4359']),\n",
              " LabeledSentence(words=['issue', 'with', 'under', 'two', 'and', 'language', 'explorer', 'customer', 'number', 'telephone', 'when', 'we', 'try', 'to', 'receive', 'in', 'is', 'doing', 'a', 'round', 'up', 'value', 'there', 'way', 'exact', 'weight', 'in'], tags=['all_3614']),\n",
              " LabeledSentence(words=['label', 'scanner', 'no', 'still'], tags=['all_28072']),\n",
              " LabeledSentence(words=['circuit', 'outage', 'dirty', 'vendor', 'is', 'down', 'since', 'on', 'what', 'type', 'of', 'outage', 'network', 'x', 'circuit', 'control', 'please', 'specify', 'outage', 'top', 'site', 'yes', 'when', 'did', 'it', 'start', 'maintenance', 'power', 'company', 'power', 'provider', 'network', 'maint', 'does', 'have', 'a', 'backup', 'active', 'contact', 'notified', 'remote', 'dialing', 'equipment', 'reset', 'working', 'vendor', 'ticket', 'global', 'vendor', 'vendor', 'additional', 'diagnostics'], tags=['all_16358']),\n",
              " LabeledSentence(words=['bad', 'monitor', 'around', 'brake', 'line'], tags=['all_13849']),\n",
              " LabeledSentence(words=['replace', 'button', 'is', 'missing', 'on', 'box', 'in', 'shopping', 'bbothket', 'when', 'you', 'click', 'status', 'indicator', 'and', 'there', 'a', 'replacement', 'replace', 'missing', 'needs', 'to', 'be', 'same', 'as', 'other', 'grid'], tags=['all_16462']),\n",
              " LabeledSentence(words=['price', 'error', 'same', 'goods', 'receipt', 'and', 'po', 'in', 'urgent', 'received', 'from', 'dear', 'team', 'module', 'we', 'have', 'two', 'for', 'no', 'net', 'quantity', 'usually', 'are', 'the', 'same', 'price', 'but', 'these', 'is', 'not', 'please', 'help', 'to', 'a', 'check', 'reason'], tags=['all_14874']),\n",
              " LabeledSentence(words=['where', 'selection', 'on', 'not', 'filterwithing', 'to', 'those', 'in', 'which', 'the', 'account', 'is', 'extended', 'instead', 'it', 'all', 'see', 'attached', 'communication', 'example', 'for'], tags=['all_28601']),\n",
              " LabeledSentence(words=['loaded', 'telephony', 'on'], tags=['all_10527']),\n",
              " LabeledSentence(words=['access', 'received', 'from', 'i', 'am', 'get', 'a', 'certificate', 'error', 'trying', 'to', 'access', 'see', 'attachment'], tags=['all_29890']),\n",
              " LabeledSentence(words=['reinstall', 'office'], tags=['all_4436']),\n",
              " LabeledSentence(words=['time', 'missing', 'from', 'service', 'now', 'change', 'of', 'name', 'from', 'sent', 'am', 'to', 'subject', 'ticketing', 'tool', 'hi', 'it', 'like', 'for', 'lawi', 'two', 'in', 'august', 'st', 'week', 'are', 'now', 'i', 'also', 'checked', 'with', 'my', 'team', 'member', 'he', 'is', 'same', 'issue', 'and', 'request', 'you', 'to', 'the', 'supervisor', 'm', 'assigned', 'please', 'take', 'a', 'look', 'revert', 'any'], tags=['all_22614']),\n",
              " LabeledSentence(words=['i', 'am', 'to', 'stock', 'in', 'another', 'production', 'the', 'deliver', 'plant', 'of', 'plant', 'but', 'it', 'will', 'not', 'there', 'summary'], tags=['all_12549']),\n",
              " LabeledSentence(words=['so', 'not', 'worked', 'working', 'new', 'as', 'well', 'old', 'tried', 'user', 'are', 'getting', 'welcome', 'message', 'after', 'that', 'it', 'is', 'blank', 'nothing', 'can', 'be'], tags=['all_19349']),\n",
              " LabeledSentence(words=['waste', 'from', 'system', 'received', 'from', 'hello', 'it', 'helper', 'recently', 'i', 'always', 'got', 'some', 'working', 'flow', 'to', 'remind', 'me', 'approve', 'with', 'but', 'that', 'already', 'no', 'in', 'can', 'you', 'help', 'check'], tags=['all_7780']),\n",
              " LabeledSentence(words=['please', 'refer', 'map', 'type', 'incorrect', 'error'], tags=['all_5956']),\n",
              " LabeledSentence(words=['evening', 'job', 'in', 'schedule', 'job', 'received', 'this', 'job', 'schedule', 'job', 'b', 'at'], tags=['all_16390']),\n",
              " LabeledSentence(words=['can', 'dont', 'check', 'if', 'server', 'is', 'working', 'fine', 'from', 'c', 'sent', 'to', 'subject', 'fine', 'also'], tags=['all_23473']),\n",
              " LabeledSentence(words=['please', 'give', 'allow', 'to', 'tool', 'and', 'map', 'him', 'well', 'as', 'an', 'ae', 'in', 'the', 'virtual', 'table'], tags=['all_27517']),\n",
              " LabeledSentence(words=['can', 'not', 'do', 'z', 'for', 'to', 'with', 'received', 'from', 'dear', 'it', 'we', 'use', 'want', 'to', 'confirm', 'but', 'below', 'invalid', 'help', 'check', 'fix'], tags=['all_15271']),\n",
              " LabeledSentence(words=['to', 'be'], tags=['all_3752']),\n",
              " LabeledSentence(words=['low', 'disk', 'space', 'on', 'f', 'drive', 'from', 'sent', 'august', 'to', 'subject', 'hi', 'i', 'was', 'my', 'access', 'to', 'for', 'tomorrow', 'dot', 'net', 'application', 'deployment', 'and', 'f', 'is', 'ran', 'out', 'of', 'with', 'only', 'free', 'space', 'this', 'if', 'not', 'request', 'your', 'help', 'clear', 'off', 'any', 'temporary', 'up', 'some', 'in', 'you', 'need', 'move', 'over', 'between'], tags=['all_26329']),\n",
              " LabeledSentence(words=['computer', 'with', 'a', 'blue', 'screen', 'please', 'provide', 'of', 'the', 'concerned', 'the', 'computer', 'up'], tags=['all_24475']),\n",
              " LabeledSentence(words=['job', 'cluster', 'full', 'in', 'job', 'schedule', 'at', 'sent', 'from'], tags=['all_11804']),\n",
              " LabeledSentence(words=['need', 'access', 'way', 'shift', 'planner', 'please', 'set', 'up', 'the', 'given', 'path', 'm', 'user'], tags=['all_29458']),\n",
              " LabeledSentence(words=['put'], tags=['all_21438']),\n",
              " LabeledSentence(words=['printer', 'problem', 'issue', 'information', 'please', 'complete', 'all', 'below', 'if', 'not', 'it', 'will', 'be', 'returned', 'back', 'to', 'one', 'requester', 'provide', 'review', 'ticket', 'not', 'able', 'resolve', 'then', 'assign', 'appropriate', 'group', 'per', 'your', 'assignment', 'name', 'make', 'model', 'ex', 'wy', 'detailed', 'description', 'of', 'error', 'i', 'need', 'and', 'install', 'a', 'driver', 'from', 'hardware', 'print', 'type', 'printing', 'excel', 'word', 'tool', 'delivery', 'note', 'production', 'what', 'system', 'or', 'application', 'being', 'used', 'at', 'time', 'problem', 'printing', 'all', 'does', 'respond', 'ping', 'command', 'on', 'network', 'power', 'cycle', 'been', 'sure', 'this', 'system', 'which', 'system', 'its', 'an', 'can', 'output', 'another', 'temporarily', 'too', 'document', 'is', 'correctly', 'scan', 'copy', 'attach', 'ticketing', 'tool', 'ticket'], tags=['all_27634']),\n",
              " LabeledSentence(words=['job', 'there', 'is', 'no', 'with', 'these', 'please', 'check', 'attachment'], tags=['all_4814']),\n",
              " LabeledSentence(words=['not', 'worked', 'in', 'wireless', 'issue', 'at', 'access', 'point', 'work', 'stoppage', 'issue', 'tried', 'calling', 'twice', 'warehouse', 'tool', 'mail', 'left', 'brief', 'message', 'again', 'able', 'to', 'reach'], tags=['all_8592']),\n",
              " LabeledSentence(words=['visso', 'request', 'received', 'from', 'hello', 'support', 'team', 'i', 'need', 'on', 'my', 'can', 'you', 'please', 'install', 'it', 'approval', 'attached', 'below', 'best'], tags=['all_8800']),\n",
              " LabeledSentence(words=['z', 'issue', 'hello', 'we', 'are', 'facing', 'an', 'of', 'the', 'below', 'screen', 'shot', 'please', 'help', 'us', 'how', 'to', 'resolve', 'this', 'issue', 'very', 'urgent', 'complete', 'straight', 'away'], tags=['all_2129']),\n",
              " LabeledSentence(words=['average', 'disk', 'free', 'on', 'e', 'is', 'now', 'out', 'of', 'total', 'size', 'the', 'alarm', 'place', 'tool', 'which', 'below', 'warning', 'threshold', 'need', 'to', 'check'], tags=['all_17346']),\n",
              " LabeledSentence(words=['bob', 'repository', 'concern', 'see', 'the', 'attachment', 'for', 'more'], tags=['all_17225']),\n",
              " LabeledSentence(words=['company', 'home', 'page', 'not', 'loading', 'received', 'from', 'best'], tags=['all_1852']),\n",
              " LabeledSentence(words=['background', 'in', 'are', 'not', 'running', 'hello', 'my', 'daily', 'no', 'longer', 'each', 'day', 'i', 'have', 'reset', 'them', 'and', 'they', 'still', 'will', 'run'], tags=['all_22606']),\n",
              " LabeledSentence(words=['can', 'you', 'help', 'the', 'tool', 'time', 'clock', 'password', 'that', 'punch', 'in', 'your', 'employee', 'number', 'it', 'a', 'maintenance', 'mode', 'and', 'know', 'forgot', 'password', 'this', 'is', 'done', 'on', 'device', 'not'], tags=['all_20695']),\n",
              " LabeledSentence(words=['tool', 'format', 'issue', 'to', 'received', 'from', 'hello', 'while', 'we', 'are', 'getting', 'in', 'different', 'please', 'particular', 'not', 'is', 'help', 'us', 'all', 'as', 'per'], tags=['all_23569']),\n",
              " LabeledSentence(words=['office', 'word', 'issue'], tags=['all_1282']),\n",
              " LabeledSentence(words=['i', 'do', 'would', 'receive', 'any', 'team', 'into', 'my', 'an', 'hello', 'hope', 'you', 'are', 'the', 'right', 'one', 'to', 'turn', 'to', 'suddenly', 'receive', 'am', 'assigned', 'and', 'can', 'tackle', 'this', 'problem'], tags=['all_30995']),\n",
              " LabeledSentence(words=['tool', 'activity', 'here', 'was', 'not', 'working', 'in', 'between', 'to', 'on', 'we', 'logged', 'off', 'and', 'but', 'the', 'still', 'therein', 'just', 'showing', 'as', 'loading', 'nothing', 'click', 'my', 'home', 'button', 'no', 'it', 'fine', 'only', 'issue', 'with', 'page'], tags=['all_25151']),\n",
              " LabeledSentence(words=['german', 'payroll', 'ongoing', 'platform', 'site', 'received', 'from', 'hello', 'please', 'create', 'a', 'standard', 'template', 'for', 'the', 'implementation', 'project', 'and', 'as', 'backup', 'full', 'update', 'access', 'should', 'also', 'be', 'used', 'to', 'we', 'will', 'require', 'some', 'external', 'to', 'company', 'have', 'certain', 'well', 'inform', 'soon', 'been', 'many'], tags=['all_22602']),\n",
              " LabeledSentence(words=['job', 'job', 'in', 'job', 'regular', 'at', 'received', 'from'], tags=['all_17650']),\n",
              " LabeledSentence(words=['entire', 'place', 'at', 'network', 'is', 'up', 'user', 'mention', 'all', 'the', 'are', 'outlook'], tags=['all_27981']),\n",
              " LabeledSentence(words=['cannot', 'want', 'for', 'error', 'item', 'category', 'is', 'not', 'defined', 'message', 'no', 'i', 'the'], tags=['all_25334']),\n",
              " LabeledSentence(words=['reminder', 'notification', 'on', 'sending', 'for', 'the', 'received', 'from', 'hi', 'it', 'team', 'i', 'have', 'still', 'to', 'approve', 'daily', 'which', 'already', 'and', 'there', 'are', 'no', 'any', 'pending', 'left', 'in', 'me', 'also', 'already', 'raising', 'by', 'team', 'kindly', 'review', 'system', 'fix', 'me'], tags=['all_29568']),\n",
              " LabeledSentence(words=['replace', 'internal', 'off', 'e', 'due', 'to', 'cracking', 'issue'], tags=['all_26064']),\n",
              " LabeledSentence(words=['job', 'in', 'job', 'schedule', 'point', 'received', 'up', 'at'], tags=['all_15755']),\n",
              " LabeledSentence(words=['help', 'line', 'phone', 'problem', 'received', 'from', 'please', 'note', 'when', 'dialing', 'into', 'the', 'line', 'as', 'soon', 'you', 'make', 'a', 'selection', 'or', 'it', 'up', 'on', 'call', 'senior', 'engineer'], tags=['all_575']),\n",
              " LabeledSentence(words=['job', 'job', 'd', 'in', 'job', 'schedule', 'around', 'received', 'from'], tags=['all_7850']),\n",
              " LabeledSentence(words=['control', 'supply', 'same', 'or', 'plug', 'defective', 'goods', 'receipt', 'please', 'check', 'power', 'on', 'incoming', 'goods', 'and', 'repair', 'if', 'necessary', 'can', 'only', 'be', 'switched', 'after', 'moving', 'the', 'plug'], tags=['all_30782']),\n",
              " LabeledSentence(words=['send', 'from', 'engineering', 'tool', 'does', 'not', 'work', 'since', 'march', 'its', 'not', 'possible', 'to', 'for', 'the', 'user', 'address', 'it', 'used', 'before', 'that', 'function', 'is', 'extremely', 'helpful', 'end', 'contact', 'designer', 'on', 'directly', 'without', 'leaving', 'tool', 'see', 'and', 'error', 'message'], tags=['all_9082']),\n",
              " LabeledSentence(words=['tool', 'application', 'sending', 'multiple', 'via', 'hi', 'as', 'we', 'send', 'also', 'out', 'of', 'on', 'a', 'daily', 'basis', 'the', 'server', 'same', 'for', 'last', 'since', 'th', 'are', 'duplicate', 'example', 'see', 'attached', 'i', 'have', 'been', 'daily', 'one', 'more', 'thing', 'to', 'note', 'is', 'that', 'count', 'sent', 'per', 'day', 'but', 'not', 'doubled', 'be', 'it', 'twice', 'instead', 'them', 'times', 'issue', 'escalate', 'higher', 'management', 'greatly', 'appreciate', 'if', 'you', 'could', 'look', 'into', 'this', 'let', 'me', 'know', 'need'], tags=['all_6318']),\n",
              " LabeledSentence(words=['here', 'received', 'from', 'i', 'a', 'chat', 'with', 'was', 'report', 'though', 'hand', 'and', 'after', 'the', 'analysis', 'tab', 'refreshing', 'thing', 'going', 'to', 'display', 'filter', 'this', 'template', 'add', 'my', 'plant', 'when', 'would', 'select', 'display', 'all', 'of', 'were', 'empty', 'see', 'attached', 'he', 'did', 'something', 'me', 'close', 'reopen', 'once', 'gone', 'so', 'was', 'not', 'able', 'refresh', 'then', 'go', 'see', 'unless', 'fixed', 'fixed', 'while', 'we', 'still', 'in', 'but', 'doing', 'tried', 'white', 'that', 'seeing', 'no', 'longer', 'showing', 'hit', 'could', 'no', 'said', 'have', 'do', 'ticket', 'not', 'been', 'copied', 'on', 'ticket', 'buy', 'need', 'run', 'report', 'before', 'sending', 'went', 'back', 'into', 'by', 'chance', 'or', 'problem', 'is', 'again', 'you', 'can', 'please', 'correct', 'for', 'me', 'customer', 'service', 'supervisor', 'infrastructure'], tags=['all_23592']),\n",
              " LabeledSentence(words=['access', 'to', 's', 'drive', 'received', 'from', 'hello', 'kindly', 'notice', 'give'], tags=['all_17983']),\n",
              " LabeledSentence(words=['job', 'job', 'in', 'job', 'next', 'at', 'received', 'up'], tags=['all_29785']),\n",
              " LabeledSentence(words=['for', 'and', 'external', 'monitor', 'new', 'sitting', 'space'], tags=['all_24871']),\n",
              " LabeledSentence(words=['mail', 'order', 'number', 'can', 'be', 'received', 'from', 'hello', 'this', 'thank', 'you', 'best'], tags=['all_13035']),\n",
              " LabeledSentence(words=['network', 'page', 'is', 'hard', 'down', 'since', 'at', 'am', 'on', 'no', 'backup', 'site', 'what', 'type', 'of', 'outage', 'x', 'network', 'circuit', 'power', 'please', 'specify', 'outage', 'top', 'site', 'yes', 'when', 'did', 'it', 'start', 'maintenance', 'power', 'company', 'power', 'provider', 'network', 'maint', 'does', 'have', 'a', 'circuit', 'na', 'active', 'na', 'contact', 'notified', 'remote', 'dialing', 'equipment', 'reset', 'working', 'vendor', 'ticket', 'global', 'vendor', 'vendor', 'additional', 'diagnostics'], tags=['all_23957']),\n",
              " LabeledSentence(words=['please', 'reset', 'your', 'security', 'to', 'one', 'collaboration', 'platform', 'lap', 'area'], tags=['all_15660']),\n",
              " LabeledSentence(words=['job', 'in', 'job', 'schedule', 'hold', 'received', 'from', 'at'], tags=['all_17348']),\n",
              " LabeledSentence(words=['be', 'error', 'from', 'sent', 'myself', 'to', 'subject', 'help', 'desk', 'i', 'got', 'below', 'message', 'when', 'ran', 'through', 'please', 'fix', 'the', 'issue'], tags=['all_7442']),\n",
              " LabeledSentence(words=['report', 'pro', 'clean', 'is', 'resulting', 'in', 'aba', 'error', 'i', 'tried', 'to', 'run', 'the', 'through', 'background', 'job', 'with', 'following', 'but', 'it', 'shown', 'below', 'input', 'variant', 'clean', 'application', 'quantity', 'the', 'inactive', 'content', 'have', 'attached', 'screen', 'same', 'document', 'we', 'are', 'working', 'on', 'this', 'ticket', 'being', 'without', 'configuration', 'ticket'], tags=['all_26356']),\n",
              " LabeledSentence(words=['termination', 'for', 'hello', 'a', 'effective', 'been', 'click', 'the', 'link', 'to', 'view'], tags=['all_876']),\n",
              " LabeledSentence(words=['add', 'role', 'to', 'access', 'recruit', 'hi', 'please', 'also', 'recruiter', 'and', 'also'], tags=['all_4930']),\n",
              " LabeledSentence(words=['computer', 'should'], tags=['all_12466']),\n",
              " LabeledSentence(words=['c', 'on', 'configure', 'be', 'over', 'space', 'available', 'g'], tags=['all_27272']),\n",
              " LabeledSentence(words=['at', 'office', 'turned', 'issuing', 'it', 'is', 'also', 'keeping', 'and', 'the', 'led', 'flashing'], tags=['all_17390']),\n",
              " LabeledSentence(words=['long', 'response', 'time', 'several', 'in', 'forth', 'me', 'are', 'a', 'drop', 'performance', 'since', 'some', 'opening', 'and', 'data', 'out', 'of', 'longer', 'than', 'usually', 'can', 'you', 'please', 'check'], tags=['all_2830']),\n",
              " LabeledSentence(words=['south', 'file', 'production', 'wrong', 'number', 'of', 'process', 'immediate', 'but', 'found'], tags=['all_26762']),\n",
              " LabeledSentence(words=['access', 'to', 'server', 'log', 'i', 'am', 'the', 'new', 'plant', 'manager', 'at', 'facility', 'need', 'turn', 'both', 'and', 'j', 'drive', 'should', 'be', 'similar', 'previous'], tags=['all_9374']),\n",
              " LabeledSentence(words=['intercompany', 'tool', 'issue', 'from', 'sent', 'subject', 're', 'hello', 'please', 'find', 'the', 'be', 'informed', 'that', 'same', 'currency', 'problem', 'on', 'a', 'new', 'shipment', 'under', 'above', 'for', 'show', 'total', 'amount', 'of', 'us', 'what', 'value', 'which', 'number', 'is', 'each', 'check', 'urgently', 'currently', 'hold', 'in', 'our', 'warehouse', 'see', 'below', 'correspondence', 'previous', 'from', 'june'], tags=['all_20030']),\n",
              " LabeledSentence(words=['script', 'to', 'pull', 'august', 'month', 'data', 'and', 'revert', 'back', 'delta', 'extraction', 'we', 'are', 'in', 'the', 'process', 'of', 'refreshing', 'history', 'need', 'change', 'bob', 'new', 'from', 'by', 'giving', 'date', 'range', 'move', 'production', 'extract', 'today', 'itself', 'once', 'is', 'extracted', 'will', 'data'], tags=['all_20469']),\n",
              " LabeledSentence(words=['when', 'scanner', 'the', 'message', 'that', 'path', 'does', 'not', 'exist'], tags=['all_14334']),\n",
              " LabeledSentence(words=['scanner', 'on', 'defective', 'please', 'put', 'replace', 'is', 'in', 'the', 'area'], tags=['all_22489']),\n",
              " LabeledSentence(words=['business', 'client', 'ghost', 'issue', 'a', 'couple', 'of', 'have', 'the', 'attached', 'error', 'then', 'transaction', 'code'], tags=['all_25341']),\n",
              " LabeledSentence(words=['we', 'do', 'not', 'able', 'to', 'insert', 'money', 'value', 'in', 'arms', 'authorization', 'return'], tags=['all_4639']),\n",
              " LabeledSentence(words=['metrics', 'input', 'unable', 'to', 'scroll', 'urgent', 'please', 'received', 'from', 'good', 'day', 'please', 'can', 'you', 'inform', 'how', 'i', 'down', 'this', 'screen', 'i', 'have', 'minimize', 'it', 'in', 'order', 'view', 'all', 'my', 'not', 'sure', 'what', 'am', 'doing', 'wrong', 'help', 'best'], tags=['all_12982']),\n",
              " LabeledSentence(words=['job', 'job', 'place', 'job', 'schedule', 'around', 'received', 'from'], tags=['all_29214']),\n",
              " LabeledSentence(words=['it', 'received', 'from', 'i', 'am', 'trying', 'to', 'access', 'point', 'of', 'data', 'in', 'be', 'and', 'me', 'not', 'authorized', 'can', 'you', 'please', 'authorize', 'give', 'that', 'cube', 'attached', 'be', 'the', 'opening', 'once', 'connect', 'following', 'message'], tags=['all_24436']),\n",
              " LabeledSentence(words=['cannot', 'review', 'stock', 'at', 'received', 'from', 'dear', 'it', 'team', 'i', 'just', 'complete', 'for', 'but', 'there', 'is', 'not', 'available', 'on', 'please', 'advise', 'because', 'would', 'like', 'to', 'ship', 'customer', 'yesterday', 'best'], tags=['all_8184']),\n",
              " LabeledSentence(words=['network', 'outage', 'south', 'site', 'is', 'hard', 'down', 'since', 'on', 'what', 'type', 'of', 'x', 'network', 'signal', 'power', 'please', 'specify', 'outage', 'top', 'no', 'when', 'did', 'it', 'start', 'maintenance', 'power', 'no', 'company', 'power', 'provider', 'network', 'no', 'maint', 'does', 'have', 'a', 'backup', 'circuit', 'no', 'active', 'no', 'contact', 'notified', 'remote', 'dial', 'na', 'equipment', 'reset', 'na', 'working', 'na', 'vendor', 'ticket', 'global', 'vendor', 'vendor', 'additional', 'diagnostics'], tags=['all_30983']),\n",
              " LabeledSentence(words=['possible', 'vulnerability', 'scan', 'from', 'on', 'in', 'we', 'are', 'seeing', 'your', 'device', 'generating', 'o', 'for', 'traffic', 'not', 'blocked', 'host', 'that', 'it', 'may', 'be', 'a', 'scan', 'this', 'incident', 'to', 'you', 'via', 'high', 'priority', 'ticket', 'and', 'phone', 'call', 'per', 'prior', 'request', 'if', 'would', 'like', 'us', 'handle', 'these', 'differently', 'in', 'the', 'future', 'see', 'below', 'handling', 'or', 'have', 'any', 'further', 'please', 'let', 'know', 'either', 'by', 'corresponding', 'back', 'soc', 'calling', 'at', 'only', 'explicit', 'notification', 'medium', 'no', 'call', 'automatically', 'resolve', 'directly', 'portal', 'explicit', 'but', 'will', 'be', 'portal', 'event', 'data', 'related', 'id', 'summary', 'o', 'occurrence', 'count', 'host', 'connection', 'information', 'source', 'port', 'destination', 'incoming', 'method', 'get', 'host', 'full', 'path', 'name', 'log', 'time', 'action', 'not', 'blocked', 'vendor', 'score', 'priority', 'version', 'reference', 'sherlock', 'rule', 'id', 'she', 'observation', 'inspector', 'ontology', 'type', 'agent', 'detail', 'single', 'more', 'with', 'total', 'of', 'minute', 'window', 'time', 'summary', 'access', 'attempt', 'inbound', 'visit', 'post', 'header', 'inbound'], tags=['all_23755']),\n",
              " LabeledSentence(words=['in', 'service', 'is', 'not', 'going'], tags=['all_14383']),\n",
              " LabeledSentence(words=['business', 'client', 'log', 'on', 'error', 'is', 'not', 'working', 'with', 'throwing', 'issue', 'with', 'my', 'fine', 'when', 'tried', 'in', 'other', 'system'], tags=['all_23173']),\n",
              " LabeledSentence(words=['station', 'needs', 'replacement', 'desk', 'cubicle', 'number', 'in', 'the', 'customer', 'service', 'department', 'phone', 'number', 'prototype', 'latitude', 'e', 'direct', 'connection', 'to', 'work', 'through', 'station', 'no', 'go'], tags=['all_9570']),\n",
              " LabeledSentence(words=['unable', 'to', 'update'], tags=['all_1774']),\n",
              " LabeledSentence(words=['speed', 'of', 'my', 'conversion', 'to', 'adaptation', 'router', 'speed', 'port', 'received', 'from', 'hello', 'i', 'hope', 'you', 'are', 'the', 'right', 'contact', 'person', 'for', 'this', 'case', 'or', 'know', 'who', 'can', 'help', 'here', 'is', 'no', 'longer', 'within', 'reach', 'and', 'on', 'vacation', 'would', 'assume', 'that', 'a', 'direct', 'clarification', 'with', 'an', 'assessment', 'necessary', 'however', 'do', 'not', 'how', 'status', 'company', 'regarding', 'conversion', 'we', 'have', 'wait', 'until', 'off', 'vacation', 'best', 'kind'], tags=['all_4108']),\n",
              " LabeledSentence(words=['the', 'computer', 'card', 'cannot', 'connect', 'to', 'the', 'received', 'from', 'is', 'not', 'connected', 'please', 'forward', 'he', 'human', 'road', 'hong', 'china'], tags=['all_15630']),\n",
              " LabeledSentence(words=['password', 'management', 'tool', 'password', 'manager', 'reset', 'link'], tags=['all_6396']),\n",
              " LabeledSentence(words=['account', 'password', 'is', 'locked', 'received', 'from', 'hi', 'locked', 'unlock', 'help'], tags=['all_3805']),\n",
              " LabeledSentence(words=['sent', 'the', 'message', 'below', 'you', 'you', 'tell', 'me', 'from', 'whom', 'was', 'sent'], tags=['all_27616']),\n",
              " LabeledSentence(words=['the', 'account', 'of', 'come', 'up', 'in', 'my', 'outlook', 'that', 'is', 'a', 'serious', 'breach', 'security', 'as', 'she', 'please', 'correct', 'immediately'], tags=['all_9815']),\n",
              " LabeledSentence(words=['two', 'not', 'working', 'with', 'new', 'phone', 'system', 'they', 'support', 'our', 'and', 'notification', 'system', 'need', 'came', 'back', 'on', 'immediately', 'we', 'have', 'no', 'emergency', 'right', 'now'], tags=['all_24408']),\n",
              " LabeledSentence(words=['when', 'unlocking', 'screen', 'will', 'be', 'they', 'back'], tags=['all_27023']),\n",
              " LabeledSentence(words=['modify', 'to', 'calculate', 'full', 'instead', 'of', 'delta', 'the', 'current', 'team', 'a', 'value', 'and', 'it', 'in', 'recent', 'period', 'get', 'this', 'needs', 'be', 'calculating', 'delta', 'procedure', 'will', 'true', 'number', 'by', 'retroactively', 'all', 'direct', 'revenue', 'together'], tags=['all_21562']),\n",
              " LabeledSentence(words=['error', 'system', 'the', 'module', 'was', 'not', 'found', 'driver', 'same', 'i', 'would', 'like', 'to', 'create', 'a', 'serial', 'letter', 'but', 'cannot', 'open', 'my', 'data', 'source', 'excel', 'list', 'ask', 'with', 'help', 'thank', 'you'], tags=['all_31068']),\n",
              " LabeledSentence(words=['audio', 'issue', 'in'], tags=['all_1634']),\n",
              " LabeledSentence(words=['static', 'address', 'it', 'been', 'by', 'our', 'temporary', 'service', 'to', 'provide', 'them', 'with', 'a', 'for', 'time', 'clock', 'that', 'will', 'be', 'too', 'wired', 'in', 'can', 'you', 'contact', 'summary', 'do', 'i', 'gear', 'the', 'request', 'this', 'box', 'assistance'], tags=['all_18529']),\n",
              " LabeledSentence(words=['work', 'job', 'in', 'job', 'schedule', 'at', 'received', 'from'], tags=['all_6602']),\n",
              " LabeledSentence(words=['network', 'outage', 'engineering', 'tool', 'warehouse', 'company', 'is', 'down', 'since', 'the', 'what', 'type', 'of', 'x', 'network', 'circuit', 'power', 'please', 'specify', 'outage', 'top', 'site', 'no', 'when', 'did', 'it', 'start', 'maintenance', 'power', 'no', 'company', 'power', 'provider', 'network', 'maint', 'does', 'have', 'a', 'backup', 'circuit', 'no', 'active', 'na', 'contact', 'notified', 'remote', 'dialing', 'na', 'equipment', 'reset', 'no', 'working', 'na', 'vendor', 'ticket', 'global', 'vendor', 'vendor', 'additional', 'diagnostics'], tags=['all_8268']),\n",
              " LabeledSentence(words=['unable', 'to', 'sign', 'in', 'tool', 'received', 'from', 'hello', 'i', 'am', 'into', 'tool', 'can', 'someone', 'please', 'assist', 'me', 'with', 'my', 'correct', 'user', 'name', 'and', 'user', 'have', 'never', 'it', 'before'], tags=['all_7103']),\n",
              " LabeledSentence(words=['access', 'collaboration', 'platform', 'check', 'in', 'attachment', 'could', 'sure', 'please', 'the', 'similar', 'on', 'collaboration', 'platform', 'menu', 'chose', 'finance', 'option', 'but', 'receive', 'message', 'access', 'is', 'controller', 'see', 'below'], tags=['all_29335']),\n",
              " LabeledSentence(words=['label', 'printer', 'does', 'not', 'work', 'in', 'the', 'final', 'inspection', 'defense', 'issue', 'any'], tags=['all_608']),\n",
              " LabeledSentence(words=['mouse', 'defective', 'hello', 'me', 'both', 'need', 'a', 'new', 'decent', 'mouse', 'it', 'would', 'be', 'nice', 'if', 'you', 'could', 'bring', 'them', 'to', 'us', 'at', 'short', 'notice'], tags=['all_21588']),\n",
              " LabeledSentence(words=['hand', 'report', 'will', 'not', 'refresh', 'analysis', 'buttons', 'all', 'well', 'priority', 'see', 'attached', 'workbook', 'to', 'be', 'for', 'requirement'], tags=['all_22731']),\n",
              " LabeledSentence(words=['circuit', 'is', 'down', 'since', 'am', 'on', 'what', 'type', 'of', 'outage', 'network', 'x', 'power', 'please', 'specify', 'outage', 'top', 'site', 'no', 'when', 'did', 'it', 'start', 'maintenance', 'power', 'no', 'company', 'power', 'provider', 'network', 'no', 'maint', 'does', 'have', 'a', 'backup', 'yes', 'active', 'yes', 'contact', 'notified', 'remote', 'dialing', 'equipment', 'reset', 'working', 'vendor', 'ticket', 'global', 'vendor', 'vendor', 'additional', 'diagnosis'], tags=['all_19503']),\n",
              " LabeledSentence(words=['need', 'give', 'in', 'password', 'password', 'management', 'tool', 'manager'], tags=['all_20497']),\n",
              " LabeledSentence(words=['request', 'to', 'remove', 'day', 'pick', 'route', 'logic', 'from', 'supply', 'chain', 'for', 'client', 'in', 'plant', 'view'], tags=['all_20535']),\n",
              " LabeledSentence(words=['po', 'number', 'been', 'posted', 'up', 'incorrect', 'account'], tags=['all_19494']),\n",
              " LabeledSentence(words=['please', 'help', 'enable', 'the', 'o', 'video', 'service', 'attached', 'that', 'i', 'received', 'via', 'headquarters', 'cannot', 'be', 'i', 'cannot', 'watch', 'of', 'talk'], tags=['all_12862']),\n",
              " LabeledSentence(words=['unable', 'to', 'login', 'production', 'account', 'locked', 'out'], tags=['all_5197']),\n",
              " LabeledSentence(words=['it', 'help', 'received', 'from', 'hello', 'team', 'can', 'you', 'open', 'a', 'ticket', 'to', 'be', 'assigned', 'forth', 'i', 'need', 'with', 'excel', 'and'], tags=['all_4663']),\n",
              " LabeledSentence(words=['able', 'to', 'install', 'the', 'font', 'name', 'telephone', 'summary', 'need'], tags=['all_12208']),\n",
              " LabeledSentence(words=['need', 'access', 'to', 'scan', 'directory', 'folder', 'user', 'id', 'position', 'title', 'executive', 'directory', 'folder', 'scan', 'type', 'of', 'access', 'read', 'only', 'or', 'full', 'control', 'name', 'supervisor', 'manager', 'name', 'received', 'from', 'hi', 'please', 'help', 'assign', 'scanner', 'my', 'system', 'best'], tags=['all_1913']),\n",
              " LabeledSentence(words=['blocked', 'tool', 'for', 'in', 'our', 'system', 'reason', 'blocking', 'document', 'been', 'saved', 'foreign', 'trade', 'data', 'incomplete', 'same', 'as', 'ticket', 'no', 'after', 'first', 'analysis', 'were', 'available', 'concerned', 'we', 'know', 'how', 'to', 'problem', 'the', 'issue', 'but', 'before', 'document', 'please', 'provide', 'information', 'or', 'make', 'further', 'analysis', 'order', 'avoid', 'this', 'issue', 'future'], tags=['all_11043']),\n",
              " LabeledSentence(words=['on', 'connected', 'to', 'company', 'de', 'said', 'is', 'attached', 'engineering', 'tool'], tags=['all_5253']),\n",
              " LabeledSentence(words=['network', 'russia', 'warehouse', 'is', 'down', 'since', 'am', 'on', 'what', 'type', 'of', 'outage', 'x', 'network', 'circuit', 'turn', 'please', 'specify', 'outage', 'top', 'site', 'no', 'when', 'did', 'it', 'start', 'maintenance', 'power', 'no', 'company', 'power', 'provider', 'network', 'no', 'maint', 'does', 'have', 'a', 'backup', 'circuit', 'no', 'active', 'na', 'contact', 'notified', 'yes', 'remote', 'dialing', 'na', 'equipment', 'reset', 'no', 'working', 'na', 'vendor', 'ticket', 'global', 'vendor', 'vendor', 'additional', 'diagnostics'], tags=['all_20317']),\n",
              " LabeledSentence(words=['incident', 'in', 'form', 'submit', 'outbound', 'source', 'user', 'naming', 'location', 'pa', 'eh', 'status', 'na', 'field', 'yes', 'no', 'no', 'event', 'log', 'see', 'below', 'we', 'are', 'seeing', 'your', 'device', 'generating', 'for', 'traffic', 'from', 'to', 'the', 'external', 'address', 'of', 'been', 'by', 'our', 'counter', 'threat', 'unit', 'cut', 'team', 'due', 'its', 'association', 'with', 'outbound', 'affected', 'asset', 'should', 'be', 'as', 'may', 'indicate', 'that', 'host', 'infected', 'this', 'you', 'via', 'a', 'medium', 'priority', 'ticket', 'and', 'only', 'notification', 'per', 'default', 'handling', 'if', 'would', 'like', 'us', 'handle', 'these', 'differently', 'in', 'future', 'see', 'or', 'have', 'any', 'further', 'please', 'let', 'know', 'either', 'corresponding', 'back', 'calling', 'at', 'full', 'related', 'high', 'phone', 'call', 'portal', 'no', 'explicit', 'but', 'will', 'available', 'portal', 'sincerely', 'data', 'id', 'summary', 'occurrence', 'count', 'connection', 'information', 'mac', 'address', 'destination', 'outgoing', 'sherlock', 'rule', 'id', 'she', 'inspector', 'agent', 'detail', 'built', 'outside', 'inside', 'correlation', 'data', 'on', 'relay', 'renew', 'take', 'action', 'action'], tags=['all_22942']),\n",
              " LabeledSentence(words=['a', 'termination', 'for', 'effective', 'been'], tags=['all_645']),\n",
              " LabeledSentence(words=['at', 'there', 'are', 'calling', 'the', 'polish', 'phoffe', 'number', 'of', 'can', 'we', 'do', 'something', 'on', 'it'], tags=['all_18607']),\n",
              " LabeledSentence(words=['please', 'set', 'up', 'clearance', 'for', 'f'], tags=['all_11489']),\n",
              " LabeledSentence(words=['job', 'tool', 'tool', 'prod', 'in', 'job', 'schedule', 'at', 'received', 'from', 'am', 'exception'], tags=['all_20506']),\n",
              " LabeledSentence(words=['manager', 'in', 'business', 'explorer', 'the', 'following', 'cannot', 'see', 'please', 'check', 'their', 'security', 'and', 'with', 'relation', 'able', 'bob'], tags=['all_28342']),\n",
              " LabeledSentence(words=['vendor', 'reconnection', 'issue', 'connected', 'to', 'the', 'user', 'system', 'uninstalled', 'and', 'checked', 'advised', 'try', 'go', 'user', 'that', 'connect', 'get', 'connected', 'for', 'some', 'time', 'then', 'disconnect', 'its', 'happening', 'since', 'a', 'long', 'no'], tags=['all_18633']),\n",
              " LabeledSentence(words=['error', 'with', 'open', 'order', 'book', 'nightly', 'report', 'please', 'see', 'attached', 'picture', 'shot'], tags=['all_10631']),\n",
              " LabeledSentence(words=['circuit', 'outage', 'china', 'is', 'down', 'at', 'on', 'site', 'up', 'what', 'type', 'of', 'outage', 'network', 'inch', 'circuit', 'power', 'please', 'specify', 'outage', 'top', 'yes', 'when', 'did', 'it', 'start', 'maintenance', 'power', 'no', 'company', 'power', 'provider', 'network', 'no', 'maint', 'does', 'have', 'a', 'backup', 'yes', 'active', 'yes', 'contact', 'notified', 'remote', 'dialing', 'na', 'equipment', 'reset', 'working', 'yes', 'vendor', 'ticket', 'global', 'vendor', 'vendor', 'additional', 'diagnostics'], tags=['all_23203']),\n",
              " LabeledSentence(words=['tower', 'cartridge', 'em', 'received', 'from', 'please', 'check', 'and', 'replace', 'on', 'friendly', 'greeting', 'best'], tags=['all_3145']),\n",
              " LabeledSentence(words=['tag', 'printer', 'not', 'working', 'at', 'company'], tags=['all_21442']),\n",
              " LabeledSentence(words=['monitor', 'on', 'is', 'going'], tags=['all_15574']),\n",
              " LabeledSentence(words=['received', 'from', 'please', 'attend', 'the', 'below', 'problem', 'at', 'system', 'name', 'user', 'problem', 'display', 'not', 'coming', 'on', 'monitor', 'is', 'getting', 'well', 'off', 'continuously', 'best'], tags=['all_15029']),\n",
              " LabeledSentence(words=['printer', 'does', 'not', 'works'], tags=['all_15178']),\n",
              " LabeledSentence(words=['job', 'in', 'job', 'schedule', 'at', 'received', 'from', 'session', 'time', 'disk', 'aborted', 'total', 'media', 'used', 'agent'], tags=['all_3600']),\n",
              " LabeledSentence(words=['error', 'to', 'reset', 'password', 'locked', 'and', 'unlocked', 'the', 'with', 'new', 'password', 'for', 'access', 'on', 'cell', 'phone'], tags=['all_3442']),\n",
              " LabeledSentence(words=['aw', 'please', 'take', 'this', 'survey', 'related', 'to', 'ticket', 'no', 'received', 'from', 'company', 'global', 'it', 'ticketing', 'tool', 'august', 'an', 'ticket', 'no', 'do', 'not', 'reply', 'or', 'forward', 'use', 'open', 'a', 'new', 'ticket', 'we', 'value', 'your', 'input', 'help', 'us', 'by', 'taking', 'the', 'time', 'fill', 'out', 'short', 'survey', 'click', 'here', 'survey', 'number', 'resolved', 'by', 'description', 'view', 'link', 'edit', 'hall', 'mater', 'bitter', 'sie', 'dan', 'so'], tags=['all_4908']),\n",
              " LabeledSentence(words=['engineering', 'tool', 'will', 'not', 'worked', 'received', 'from', 'hi', 'i', 'cannot', 'open', 'close', 'or', 'manipulate', 'any', 'of', 'my', 'on', 'tool', 'this', 'it', 'difficult', 'to', 'with', 'our', 'team', 'in', 'please', 'have', 'a', 'look'], tags=['all_7956']),\n",
              " LabeledSentence(words=['for', 'training', 'previously', 'from', 'please', 'activate', 'the', 'badge', 'below', 'training', 'they', 'need', 'to', 'be', 'active', 'from', 'st', 'at', 'am'], tags=['all_7067']),\n",
              " LabeledSentence(words=['error', 'received', 'from', 'nothing', 'is', 'printing', 'out', 'message', 'with', 'best'], tags=['all_26245']),\n",
              " LabeledSentence(words=['area', 'selection', 'on', 'not', 'filtering', 'to', 'those', 'in', 'which', 'the', 'account', 'is', 'extended', 'instead', 'it', 'all', 'see', 'attach', 'communication', 'example', 'for'], tags=['all_7077']),\n",
              " LabeledSentence(words=['transfer', 'calendar', 'not', 'showing', 'on', 'outlook'], tags=['all_433']),\n",
              " LabeledSentence(words=['cannot', 'reset', 'login', 'please', 'look', 'at', 'the'], tags=['all_25215']),\n",
              " LabeledSentence(words=['need', 'access', 'to', 'collaboration', 'platform', 'informed', 'me', 'that', 'for', 'business', 'will', 'be', 'permanently', 'in', 'days', 'i', 'own', 'see', 'if', 'there', 'is', 'any', 'information', 'on', 'their', 'we', 'need'], tags=['all_10990']),\n",
              " LabeledSentence(words=['server', 'active', 'directory', 'in', 'is', 'down', 'since', 'wondering', 'on'], tags=['all_18991']),\n",
              " LabeledSentence(words=['suspected', 'mail', 'one', 'like', 'can', 'me', 'just', 'make', 'someone', 'aware'], tags=['all_30924']),\n",
              " LabeledSentence(words=['job', 'job', 'the', 'job', 'schedule', 'at', 'received', 'from'], tags=['all_8099']),\n",
              " LabeledSentence(words=['application', 'response', 'time', 'other', 'network', 'work', 'normally', 'please', 'provide', 'in', 'the', 'template', 'below', 'if', 'multiple', 'are', 'impacted', 'use', 'quick', 'ticket', 'folder', 'site', 'location', 'user', 'id', 'ad', 'which', 'you', 'seeing', 'performance', 'on', 'please', 'list', 'all', 'bob', 'production', 'server', 'name', 'that', 'slow', 'create', 'an', 'order', 'and', 'area', 'this', 'to', 'finance', 'as', 'per', 'how', 'can', 'issue', 'be', 'replicated', 'by', 'it', 'support', 'group', 'other', 'this', 'yes', 'attach', 'relevant', 'exact', 'times', 'when', 'attached', 'l', 'contact', 'no'], tags=['all_16555']),\n",
              " LabeledSentence(words=['i', 'need', 'my', 'address', 'added', 'make'], tags=['all_7720']),\n",
              " LabeledSentence(words=['network', 'outage', 'south', 'is', 'down', 'since', 'am', 'on', 'no', 'backup', 'circuit', 'what', 'type', 'of', 'x', 'network', 'circuit', 'power', 'please', 'specify', 'outage', 'top', 'site', 'no', 'when', 'did', 'it', 'start', 'am', 'maintenance', 'power', 'no', 'company', 'power', 'provider', 'network', 'maint', 'does', 'have', 'a', 'no', 'active', 'no', 'contact', 'notified', 'remote', 'dialing', 'na', 'equipment', 'reset', 'working', 'na', 'customer', 'ticket', 'global', 'vendor', 'vendor', 'additional', 'diagnostics'], tags=['all_18127']),\n",
              " LabeledSentence(words=['account', 'not', 'able', 'to', 'login', 'from', 'sent', 'am', 'to', 'topic', 're', 'user', 'id', 'who', 'is', 'the', 'window', 'can', 'you', 'check', 'it', 'urgently', 'kindly', 'provide', 'access'], tags=['all_20321']),\n",
              " LabeledSentence(words=['well', 'batch', 'management'], tags=['all_12263']),\n",
              " LabeledSentence(words=['memory', 'usage', 'is', 'now', 'separate', 'error', 'unable', 'to', 'find', 'any', 'probe', 'start', 'command', 'error', 'insufficient', 'system', 'exist', 'complete', 'the', 'service'], tags=['all_26895']),\n",
              " LabeledSentence(words=['unable', 'to', 'log', 'in', 'tool', 'attendance', 'system', 'it', 'that', 'the', 'cannot', 'be', 'loaded', 'and', 'version', 'is', 'or', 'lower'], tags=['all_26965']),\n",
              " LabeledSentence(words=['the', 'screen', 'in', 'the', 'feedback', 'terminal', 'opposite', 'maintenance', 'system', 'is', 'defective'], tags=['all_25076']),\n",
              " LabeledSentence(words=['with', 'received', 'from', 'i', 'need', 'a', 'my', 'new', 'name', 'engineer', 'product', 'engineering', 'company'], tags=['all_17569']),\n",
              " LabeledSentence(words=['unable', 'to', 'opening', 'outlook', 'client'], tags=['all_14695']),\n",
              " LabeledSentence(words=['printer', 'setting', 'id'], tags=['all_22272']),\n",
              " LabeledSentence(words=['wireless', 'access', 'point', 'that', 'not', 'work'], tags=['all_15617']),\n",
              " LabeledSentence(words=['technical', 'tool', 'update', 'received', 'from', 'hello', 'new', 'customer', 'addition', 'button', 'is', 'missing', 'please', 'update', 'urgent'], tags=['all_11461']),\n",
              " LabeledSentence(words=['m', 'drive', 'access', 'received', 'from', 'hi', 'team', 'i', 'have', 'lost', 'to', 'the', 'on', 'my', 'computer', 'please', 'see', 'below', 'this', 'same', 'problem', 'is', 'for', 'and', 'can', 'you', 'arrange', 'be'], tags=['all_26140']),\n",
              " LabeledSentence(words=['error', 'on', 'received', 'from', 'hi', 'cannot', 'boot', 'up', 'need', 'to', 'resolve', 'the', 'issue'], tags=['all_4798']),\n",
              " LabeledSentence(words=['unable', 'way', 'connected'], tags=['all_27450']),\n",
              " LabeledSentence(words=['searching', 'tool', 'prod', 'in', 'job', 'schedule', 'at', 'received', 'from'], tags=['all_27365']),\n",
              " LabeledSentence(words=['need', 'file', 'from', 'of', 'backup', 'current', 'is', 'corrupt', 'and', 'not', 'works', 'server'], tags=['all_31016']),\n",
              " LabeledSentence(words=['eu', 'tool', 'charge', 'management', 'the', 'batch', 'management', 'and', 'run', 'absolutely', 'badly', 'you', 'you', 'not', 'really', 'work', 'with', 'them', 'like', 'that'], tags=['all_8999']),\n",
              " LabeledSentence(words=['key', 'figure', 'urgent', 'refer', 'implant', 'received', 'from', 'while', 'product', 'management', 'master', 'and', 'if', 'shown', 'the', 'also', 'is', 'last', 'month', 'we', 'have', 'had', 'the', 'same', 'issue', 'as', 'anybody', 'made', 'on', 'master', 'panda', 'corrected', 'it', 'back', 'maybe', 'you', 'can', 'involve', 'her', 'again', 'are', 'very', 'busy', 'with', 'end', 'data', 'immediately', 'need', 'correct', 'they', 'been', 'before', 'sample', 'before', 'refresh', 'best'], tags=['all_20120']),\n",
              " LabeledSentence(words=['havent', 'have', 'on', 'ie', 'in', 'my', 'engineering', 'tool', 'but', 'it', 'is', 'showing', 'only'], tags=['all_9302']),\n",
              " LabeledSentence(words=['data', 'cannot', 'be', 'same', 'machine', 'is', 'at', 'a', 'standstill', 'name', 'file', 'are', 'used', 'by', 'do', 'sent', 'saved', 'in', 'zip', 'and', 'format'], tags=['all_17867']),\n",
              " LabeledSentence(words=['is', 'not', 'since', 'at', 'am', 'on'], tags=['all_3680']),\n",
              " LabeledSentence(words=['not', 'able', 'to', 'print', 'the', 'id'], tags=['all_14329']),\n",
              " LabeledSentence(words=['own', 'address', 'are', 'on', 'employee', 'master', 'disable', 'new', 'edit', 'buttons'], tags=['all_12638']),\n",
              " LabeledSentence(words=['ethics', 'training', 'received', 'from', 'hello', 'i', 'training', 'it', 'stuck', 'on', 'page', 'please', 'contact', 'me', 'best'], tags=['all_1962']),\n",
              " LabeledSentence(words=['the', 'printer', 'is', 'to', 'for', 'delivery', 'need', 'take', 'default', 'out', 'so', 'it', 'from', 'sent', 'to', 'subject', 'note', 'please', 'see', 'string', 'of', 'on', 'an', 'issue', 'that', 'happening', 'with', 'transfer', 'shipping', 'used', 'be', 'shipped', 'from', 'now', 'being', 'and', 'plant', 'you', 'me', 'know', 'if', 'you', 'more', 'information', 'i', 'do', 'not', 'what', 'print', 'printer', 'same', 'in', 'site', 'business', 'manager', 'am', 're', 'so', 'some', 'reason', 'a', 'note', 'your', 'number', 'will', 'send', 'printer', 'future', 'before', 'save', 'delivery', 'go', 'extra', 'output', 'header', 'change', 'communication', 'method', 'item', 'so', 'line', 'request', 'delivery', 'can', 'give', 'order', 'number', 'hi', 'trying', 'ship', 'have', 'but', 'unable', 'there', 'any', 'way', 'help', 'this', 'does', 'know'], tags=['all_8548']),\n",
              " LabeledSentence(words=['job', 'payroll', 'na', 'u', 'in', 'job', 'time', 'at', 'received', 'from'], tags=['all_18944']),\n",
              " LabeledSentence(words=['mobile', 'phone', 'no', 'receipt', 'for', 'user', 'and', 'would', 'you', 'plebothe', 'contact', 'above', 'as', 'they', 'are', 'currently', 'not', 'on', 'their', 'phone', 'note', 'that', 'outside', 'of'], tags=['all_12229']),\n",
              " LabeledSentence(words=['check', 'my', 'security', 'for', 'the', 'ethics', 'collaboration', 'platform', 'page', 'received', 'from', 'hi', 'please', 'collaboration', 'platform', 'page', 'i', 'am', 'trying', 'to', 'a', 'file', 'category', 'folder', 'was', 'able', 'category', 'but', 'some', 'reason', 'cannot', 'into', 'suspect', 'setting', 'manager', 'global', 'and', 'compliance'], tags=['all_5947']),\n",
              " LabeledSentence(words=['volume', 'his', 'over', 'space', 'available', 'g', 'h', 'data', 'the', 'server', 'is'], tags=['all_21293']),\n",
              " LabeledSentence(words=['account', 'number', 'incorrect', 'urgent', 'per', 'our', 'conversion', 'and', 'of', 'my', 'screen', 'on', 'this', 'morning', 'below', 'is', 'a', 'shot', 'the', 'issue', 'if', 'you', 'look', 'at', 'product', 'it', 'correct', 'for', 'customer', 'that', 'was', 'there', 'no', 'problem', 'number', 'all', 'other', 'were', 'more', 'recently', 'after', 'i', 'only', 'able', 'to', 'choose', 'which', 'not', 'need', 'close', 'some', 'out', 'today', 'as', 'won'], tags=['all_22962']),\n",
              " LabeledSentence(words=['s', 'able', 'k', 'license', 'license'], tags=['all_24177']),\n",
              " LabeledSentence(words=['internanotherl', 'outbreak', 'for', 'up', 'in', 'incident', 'overview', 'we', 'are', 'seeing', 'your', 'device', 'generating', 'at', 'least', 'within', 'traffic', 'blocked', 'from', 'to', 'port', 'up', 'of', 'several', 'internal', 'this', 'may', 'indicate', 'unauthorized', 'reconnaissance', 'scanning', 'a', 'misconfiguration', 'or', 'authorized', 'discovery', 'being', 'blocked', 'by', 'the', 'you', 'via', 'high', 'priority', 'ticket', 'and', 'phone', 'call', 'per', 'our', 'default', 'event', 'handling', 'if', 'would', 'like', 'us', 'handle', 'these', 'differently', 'in', 'future', 'see', 'below', 'have', 'any', 'further', 'please', 'let', 'know', 'either', 'corresponding', 'back', 'soc', 'calling'], tags=['all_25347']),\n",
              " LabeledSentence(words=['job', 'cold', 'in', 'job', 'schedule', 'at', 'received', 'up'], tags=['all_6596']),\n",
              " LabeledSentence(words=['met', 'employee', 'termination', 'on', 'assume', 'that', 'leaves', 'the', 'corporation', 'or', 'at', 'end', 'of', 'in', 'process', 'account', 'ticketing', 'tool', 'template', 'status', 'termination', 'a', 'delegation', 'can', 'be', 'under', 'special', 'thus', 'person', 'to', 'whom', 'mailbox', 'was', 'access', 'for', 'certain', 'period', 'time', 'is', 'usually', 'filled', 'out', 'by', 'superior', 'responsible', 'department', 'and', 'should', 'with', 'both', 'them'], tags=['all_7569']),\n",
              " LabeledSentence(words=['always', 'get', 'reminder', 'well', 'approval', 'of', 'requisition', 'even', 'i', 'a', 'lot', 'times', 'from', 'plant', 'cannot', 'complete', 'some', 'approval', 'need', 'support', 'my'], tags=['all_20511']),\n",
              " LabeledSentence(words=['security', 'in', 'repeat', 'outbound', 'connection', 'for', 'from', 'source', 'system', 'name', 'evil', 'user', 'name', 'location', 'status', 'no', 'field', 'yes', 'no', 'no', 'event', 'below', 'incident', 'overview', 'we', 'are', 'seeing', 'your', 'device', 'generating', 'a', 'high', 'volume', 'of', 'repeat', 'traffic', 'blocked', 'evil', 'to', 'port', 'remote', 'procedure', 'call', 'external', 'host', 'this', 'may', 'indicate', 'misconfiguration', 'where', 'the', 'is', 'blocking', 'legitimate', 'also', 'reaching', 'out', 'malicious', 'or', 'worm', 'code', 'full', 'login', 'failure', 'explicit', 'notification', 'via', 'priority', 'ticket', 'and', 'phone', 'call', 'automatically', 'resolve', 'directly', 'portal', 'no', 'explicit', 'but', 'will', 'be', 'available', 'in', 'portal', 'sincerely', 'soc', 'technical', 'remote', 'known', 'as', 'protocol', 'that', 'an', 'application', 'execute', 'code', 'another', 'address', 'space', 'commonly', 'on', 'computer', 'network', 'without', 'explicitly', 'interaction', 'is', 'same', 'whether', 'local', 'remote', 'by', 'client', 'which', 'request', 'message', 'server', 'with', 'response', 'its', 'process', 'used', 'such', 'exchange', 'service', 'server', 'well', 'other', 'have', 'been', 'several', 'propagation', 'include', 'wrestle', 'data', 'related', 'id', 'summary', 'occurrence', 'count', 'information', 'evil', 'port', 'destination', 'outgoing', 'protocol', 'log', 'time', 'at', 'action', 'blocked', 'score', 'sherlock', 'rule', 'id', 'she', 'inspector', 'ontology', 'type', 'agent', 'detail', 'deny', 'inside', 'inside', 'x', 'inside'], tags=['all_5619']),\n",
              " LabeledSentence(words=['customer', 'group', 'enhanced', 'field', 'received', 'from', 'hello', 'a', 'business', 'decision', 'recently', 'been', 'made', 'to', 'view', 'customer', 'classification', 'as', 'indirect', 'going', 'forward', 'currently', 'in', 'the', 'be', 'system', 'they', 'are', 'classified', 'direct', 'can', 'you', 'please', 'modify', 'just', 'enhanced', 'just', 'show', 'indirect', 'this', 'is', 'used', 'several', 'as', 'hand', 'v', 'plan', 'product', 'management', 'let', 'me', 'know', 'if', 'have', 'any', 'best'], tags=['all_17554']),\n",
              " LabeledSentence(words=['urgent', 'delivery', 'note', 'order', 'in', 'received', 'from', 'hello', 'it', 'urgently', 'ask', 'for', 'help', 'as', 'the', 'truck', 'is', 'already', 'here', 'to', 'collect', 'and', 'a', 'needs', 'be', 'please', 'suggest', 'thank', 'you', 'best'], tags=['all_13566']),\n",
              " LabeledSentence(words=['job', 'in', 'job', 'schedule', 'hand', 'mac', 'received', 'from', 'at'], tags=['all_26873']),\n",
              " LabeledSentence(words=['query', 'to', 'send', 'a', 'meeting'], tags=['all_653']),\n",
              " LabeledSentence(words=['no', 'access', 'able', 'server', 'possible', 'message', 'error', 'when', 'from', 'with'], tags=['all_24621']),\n",
              " LabeledSentence(words=['user', 'unable', 'to', 'join', 'meeting', 'from', 'external', 'vendor'], tags=['all_1102']),\n",
              " LabeledSentence(words=['moshouldntor', 'defeat', 'nit'], tags=['all_8806']),\n",
              " LabeledSentence(words=['please', 'setup', 'and', 'on', 'both', 'x', 'print'], tags=['all_21989']),\n",
              " LabeledSentence(words=['unable', 'to', 'generate', 'as', 'per', 'please', 'find', 'the', 'error', 'message', 'attached', 'file', 'help', 'fixing', 'this', 'issue'], tags=['all_1545']),\n",
              " LabeledSentence(words=['user', 'locked', 'out', 'of'], tags=['all_5314']),\n",
              " LabeledSentence(words=['able', 'to', 'login'], tags=['all_23458']),\n",
              " LabeledSentence(words=['venue', 'pro', 'pro', 'detachable', 'be', 'severe', 'hello', 'please', 'send', 'me', 'a', 'replacement', 'for', 'my', 'venue', 'pro', 'the', 'right', 'hand', 'are', 'not', 'working', 'properly', 'it', 'machine', 'very', 'problematic'], tags=['all_7933']),\n",
              " LabeledSentence(words=['not', 'communicating', 'with', 'confirmed', 'in', 'are', 'confirming', 'as', 'picked', 'all', 'showing', 'on', 'yet'], tags=['all_4595']),\n",
              " LabeledSentence(words=['work', 'in', 'job', 'schedule', 'job', 'received', 'from', 'at'], tags=['all_16099']),\n",
              " LabeledSentence(words=['watching', 'antivirus', 'site', 'server', 'is', 'it', 'although', 'th'], tags=['all_19916']),\n",
              " LabeledSentence(words=['folder', 'received', 'from', 'hello', 'in', 'the', 'department', 'drive', 'of', 'steel', 'es', 'folder', 'please', 'restore', 'thank', 'you', 'so', 'much', 'many', 'best'], tags=['all_3810']),\n",
              " LabeledSentence(words=['the', 'dynamics', 'is', 'a', 'down', 'status', 'on', 'please', 'investigate', 'observing', 'below', 'alert', 'in', 'easier', 'since', 'am', 'on', 'application', 'dynamics', 'node'], tags=['all_13240']),\n",
              " LabeledSentence(words=['network', 'multiple', 'are', 'going', 'slow', 'how', 'did', 'you', 'determine', 'there', 'error', 'web', 'page', 'not', 'in', 'mi', 'is', 'only', 'slow', 'please', 'use', 'the', 'quick', 'ticket', 'within', 'folder', 'if', 'more', 'than', 'one', 'impacted', 'operator', 'what', 'server', 'on', 'server', 'name', 'status', 'bar', 'at', 'bottom', 'right', 'of', 'your', 'screen', 'do', 'other', 'also', 'notice', 'response', 'times', 'yes', 'it', 'multiple', 'application', 'available', 'to', 'can', 'access', 'data', 'any', 'or', 'with', 'this', 'during', 'shift', 'change', 'when', 'a', 'lot', 'activity', 'system', 'and'], tags=['all_21521']),\n",
              " LabeledSentence(words=['looking', 'arc', 'in', 'job', 'schedule', 'at', 'received', 'from'], tags=['all_12095']),\n",
              " LabeledSentence(words=['job', 'in', 'job', 'schedule', 'cold', 'receive', 'from', 'at'], tags=['all_17296']),\n",
              " LabeledSentence(words=['unable', 'to', 'login', 'language', 'explorer', 'client', 'number', 'problem', 'in'], tags=['all_17726']),\n",
              " LabeledSentence(words=['evening', 'job', 'in', 'schedule', 'job', 'given', 'from', 'job', 'schedule', 'job', 'at'], tags=['all_15633']),\n",
              " LabeledSentence(words=['received', 'from', 'printer', 'defective', 'this', 'communication', 'is', 'intended', 'solely', 'for', 'the', 'use', 'of', 'and', 'may', 'contain', 'information', 'that', 'confidential', 'worthy', 'protection', 'or', 'from', 'disclosure', 'under', 'applicable', 'law', 'distribution', 'distribution', 'reproduction', 'by', 'other', 'than', 'strictly', 'if', 'you', 'have', 'message', 'mistake', 'here', 'notify', 'sender', 'delete', 'message', 'company', 'select', 'following', 'link', 'to', 'view', 'disclaimer', 'in', 'an', 'alternate', 'language'], tags=['all_19297']),\n",
              " LabeledSentence(words=['urgent', 'delivery', 'note', 'order', 'in', 'received', 'from', 'hello', 'it', 'urgently', 'ask', 'for', 'help', 'as', 'the', 'truck', 'is', 'already', 'here', 'to', 'collect', 'and', 'a', 'needs', 'be', 'please', 'clarify', 'thanks', 'you', 'best'], tags=['all_23638']),\n",
              " LabeledSentence(words=['replace', 'monitor', 'in', 'cell', 'with', 'only', 'that', 'sent'], tags=['all_21756']),\n",
              " LabeledSentence(words=['folder', 'secure', 'received', 'from', 'dear', 'it', 'team', 'please', 'read', 'and', 'writing', 'on', 'the', 'following', 'two', 'to', 'me'], tags=['all_30029']),\n",
              " LabeledSentence(words=['explanation', 'about', 'password', 'manager', 'is'], tags=['all_3256']),\n",
              " LabeledSentence(words=['access', 'to', 'network', 'drive', 'and', 'printer', 'received', 'from', 'please', 'provide', 'following', 'user', 'id', 'production', 'read', 'write', 'only', 'wy'], tags=['all_1064']),\n",
              " LabeledSentence(words=['job', 'in', 'job', 'next', 'arc', 'received', 'from', 'at'], tags=['all_25521']),\n",
              " LabeledSentence(words=['delivery', 'unable', 'to', 'ship', 'out', 'please', 'provide', 'the', 'following', 'what', 'order', 'number', 'customer', 'nor', 'material', 'or', 'item', 'warehouse', 'location', 'plant', 'issue', 'description', 'error', 'message', 'quantity', 'is', 'picked', 'note', 'booked', 'but', 'system', 'not', 'yet', 'can', 'cancellation', 'help'], tags=['all_7411']),\n",
              " LabeledSentence(words=['server', 'is', 'received', 'from', 'we', 'are', 'an', 'interruption', 'in', 'our', 'involved', 'with', 'most', 'of', 'the', 'network', 'not', 'operational', 'however', 'to', 'this', 'problem', 'please', 'advise', 'best'], tags=['all_18211']),\n",
              " LabeledSentence(words=['engineering', 'tool', 'issue', 'high', 'importance', 'received', 'from', 'i', 'several', 'a', 'couple', 'of', 'days', 'ago', 'and', 'now', 'it', 'would', 'not', 'let', 'me', 'create', 'new', 'report', 'need', 'this', 'resolved'], tags=['all_21375']),\n",
              " LabeledSentence(words=['please', 'set', 'user', 'correctly', 'after', 'license', 'these', 'network', 'are', 'missing'], tags=['all_30041']),\n",
              " LabeledSentence(words=['payment', 'potential', 'security', 'attempt', 'from', 'sent', 'am', 'to', 'subject', 'do', 'not', 'the', 'attached', 'received', 'today', 'marc', 'director', 'human', 'original', 'message', 'i', 'made', 'a', 'list', 'with', 'need', 'and', 'can', 'find', 'on', 'you', 'offer', 'for', 'bulk', 'my', 'contact', 'item', 'attached'], tags=['all_1840']),\n",
              " LabeledSentence(words=['and', 'are', 'printing', 'on', 'both', 'sides', 'needs', 'to', 'be', 'single', 'side', 'printing'], tags=['all_4554']),\n",
              " LabeledSentence(words=['work', 'in', 'job', 'schedule', 'received', 'from', 'at'], tags=['all_26759']),\n",
              " LabeledSentence(words=['support', 'with', 'received', 'from', 'hello', 'could', 'you', 'please', 'help', 'we', 'to', 'add', 'the', 'below', 'engineering', 'tool', 'precision', 'sa', 'de', 'overcast', 'sa', 'of', 'technology', 'representative', 'this', 'message', 'is', 'intended', 'for', 'exclusive', 'use', 'person', 'whom', 'it', 'and', 'may', 'contain', 'privileged', 'confidential', 'information', 'that', 'exempt', 'from', 'being', 'disclosed', 'in', 'accordance', 'current', 'legislation', 'any', 'dissemination', 'distribution', 'or', 'reproduction', 'this', 'by', 'anyone', 'other', 'than', 'recipient', 'strictly', 'if', 'receive', 'error', 'notify', 'sender', 'delete', 'message', 'company', 'select', 'following', 'link', 'view', 'disclaimer', 'an', 'alternate', 'language'], tags=['all_10811']),\n",
              " LabeledSentence(words=['the', 'following', 'notification', 'in', 'my', 'is', 'being', 'with', 'of', 'a', 'write', 'error', 'these', 'appear', 'to', 'be', 'related', 'south', 'ne', 'an', 'ne', 'transaction', 'see', 'attached'], tags=['all_5035']),\n",
              " LabeledSentence(words=['access', 'to', 'network', 'folder', 'received', 'from', 'please', 'provide', 'read', 'and', 'writing', 'for', 'following', 'grinding'], tags=['all_13430']),\n",
              " LabeledSentence(words=['eu', 'tool', 'ewe', 'does', 'be', 'work'], tags=['all_20116']),\n",
              " LabeledSentence(words=['can', 'you', 'please', 'get', 'more', 'sticks', 'with', 'us', 'another', 'one', 'came'], tags=['all_9955']),\n",
              " LabeledSentence(words=['do', 'not', 'receive', 'information', 'received', 'out', 'hi', 'team', 'i', 'originally', 'about', 'this', 'at', 'the', 'start', 'of', 'august', 'and', 'nothing', 'been', 'currently', 'any', 'for', 'now', 'have', 'tried', 'to', 'log', 'into', 'ethics', 'via', 'collaboration', 'platform', 'following', 'error', 'message', 'welcome', 'company', 'business', 'conduct', 'center', 'ethics', 'training', 'site', 'our', 'indicate', 'that', 'login', 'you', 'used', 'access', 'site', 'from', 'company', 'match', 'we', 'on', 'file', 'within', 'active', 'directory', 'please', 'submit', 'a', 'ticket', 'global', 'support', 'ensure', 'your', 'network', 'id', 'is', 'correctly', 'can', 'assist', 'in', 'setting', 'up', 'these'], tags=['all_20222']),\n",
              " LabeledSentence(words=['switch', 'is', 'am', 'the'], tags=['all_30049']),\n",
              " LabeledSentence(words=['received', 'from', 'dear', 'sir', 'i', 'apologize', 'do', 'not', 'know', 'a', 'lot', 'about', 'the', 'mechanics', 'lap', 'top', 'power', 'button', 'obviously', 'die', 'sorry', 'just', 'in', 'my', 'time', 'is', 'very', 'limited', 'for', 'customer', 'and', 'evaluation', 'of', 'data', 'provide', 'engineering', 'so', 'if', 'possible', 'ask', 'exchange', 'please', 'help', 'you', 'can', 'bring', 'to', 'have', 'plan', 'date', 'august', 'will', 'come'], tags=['all_15891']),\n",
              " LabeledSentence(words=['install', 'project', 'for'], tags=['all_4479']),\n",
              " LabeledSentence(words=['circuit', 'outage', 'is', 'down', 'since', 'on', 'what', 'type', 'of', 'outage', 'connect', 'x', 'circuit', 'power', 'please', 'specify', 'outage', 'top', 'site', 'yes', 'when', 'did', 'it', 'start', 'maintenance', 'power', 'no', 'company', 'power', 'provider', 'network', 'maint', 'does', 'have', 'a', 'backup', 'yes', 'active', 'yes', 'contact', 'notified', 'no', 'remote', 'dialing', 'na', 'equipment', 'reset', 'working', 'vendor', 'ticket', 'global', 'vendor', 'vendor', 'additional', 'diagnostics'], tags=['all_20956']),\n",
              " LabeledSentence(words=['activity', 'and', 'efficiency', 'too', 'high', 'for', 'note', 'from', 'do', 'you', 'know', 'if', 'the', 'data', 'in', 'column', 'of', 'work', 'middle', 'report', 'is', 'accurate', 'august', 'it', 'showing', 'very', 'efficiency', 'then', 'when', 'i', 'check', 'an', 'order', 'cost', 'far', 'off', 'activity', 'also', 'strange', 'correct', 'everything', 'good', 'pull', 'up', 'just', 'to', 'have', 'bad', 'data'], tags=['all_23865']),\n",
              " LabeledSentence(words=['engineering', 'tool', 'the', 'password', 'was', 'incorrectly', 'on', 'my', 'part', 'please', 'reset', 'engineering', 'and', 'thank', 'you'], tags=['all_6091']),\n",
              " LabeledSentence(words=['urgent', 'please', 'create', 'tax', 'code', 'a', 'in', 'is', 'actually', 'urgent', 'as', 'we', 'have', 'to', 'post', 'vat', 'tool', 'by', 'the', 'end', 'of', 'last', 'background', 'there', 'was', 'an', 'export', 'goods', 'from', 'this', 'location', 'from', 'plant', 'plant', 'delivery', 'not', 'posted', 'finance'], tags=['all_29921']),\n",
              " LabeledSentence(words=['you', 'display', 'monthly', 'information', 'on', 'the', 'approve', 'screen', 'in', 'compensation', 'since', 'performance', 'calculation', 'was', 'to', 'a', 'calculation', 'become', 'little'], tags=['all_24554']),\n",
              " LabeledSentence(words=['help', 'to', 'install', 'engineering', 'tool', 'other', 'hi', 'team', 'i', 'need', 'your', 'help', 'we', 'have', 'a', 'people', 'than', 'employee', 'company', 'but', 'in', 'computer', 'there', 'client', 'he', 'id', 'access', 'site', 'engineering', 'tool', 'hour', 'that', 'the', 'error', 'attachment', 'do', 'you'], tags=['all_1983']),\n",
              " LabeledSentence(words=['complaint', 'i', 'create', 'a', 'the', 'is', 'not', 'in', 'to', 'acceptance', 'please', 'help', 'me'], tags=['all_24293']),\n",
              " LabeledSentence(words=['call', 'this', 'are', 'not', 'check', 'screen', 'shot', 'so', 'we', 'to', 'use', 'and', 'enter', 'our', 'customer', 'lead', 'product', 'data', 'into', 'understand', 'but', 'when', 'do', 'this', 'many', 'times', 'the', 'actual', 'entry', 'locked', 'us', 'cannot', 'anything', 'also', 'flow', 'of', 'lack', 'any', 'intuitive', 'input', 'is', 'very', 'much', 'this', 'true', 'on'], tags=['all_11837']),\n",
              " LabeledSentence(words=['i', 'cannot', 'receive', 'through', 'telephony', 'same', 'call', 'comes', 'through', 'and', 'one', 'time', 'then', 'goes', 'to', 'warehouse', 'closed', 'telephony', 'language', 'explorer', 'customer', 'number', 'telephone', 'my', 'phone', 'it', 'is', 'still', 'doing', 'this'], tags=['all_25422']),\n",
              " LabeledSentence(words=['need', 'clearance', 'with', 'm'], tags=['all_21840']),\n",
              " LabeledSentence(words=['power', 'circuit', 'is', 'down', 'since', 'at', 'am', 'on', 'no', 'backup', 'what', 'type', 'of', 'outage', 'x', 'network', 'circuit', 'power', 'please', 'specify', 'outage', 'top', 'site', 'na', 'when', 'did', 'it', 'start', 'maintenance', 'power', 'company', 'customer', 'network', 'maint', 'does', 'have', 'a', 'na', 'active', 'na', 'contact', 'notified', 'remote', 'dialing', 'equipment', 'reset', 'working', 'vendor', 'ticket', 'global', 'vendor', 'vendor', 'additional', 'diagnostics'], tags=['all_22914']),\n",
              " LabeledSentence(words=['i', 'do', 'not', 'get', 'open', 'glad', 'from', 'appear', 'the', 'next', 'message', 'stopped', 'worked', 'a', 'problem', 'lathe', 'function', 'properly'], tags=['all_20687']),\n",
              " LabeledSentence(words=['failing', 'to', 'login', 'the', 'switch', 'due', 'memory', 'issue', 'as', 'per'], tags=['all_25857']),\n",
              " LabeledSentence(words=['frequent', 'however', 'lockout', 'on'], tags=['all_8555']),\n",
              " LabeledSentence(words=['po', 'display', 'with', 'vendor', 'not', 'proper', 'is', 'showing', 'only', 'pending', 'if', 'selection', 'selected', 'as', 'we', 'it', 'was', 'kept', 'blank', 'complete', 'done', 'on', 'that', 'vendor'], tags=['all_12637']),\n",
              " LabeledSentence(words=['new', 'from', 'sent', 'august', 'to', 'cwithy', 'via', 'subject', 'importance', 'high', 'hi', 'can', 'you', 'please', 'advise', 'why', 'the', 'group', 'for', 'and', 'from', 'plant', 'plant', 'are', 'different', 'taking', 'example', 'plant', 'is', 'while', 'plant', 'why'], tags=['all_16053']),\n",
              " LabeledSentence(words=['good', 'in', 'job', 'schedule', 'as', 'received', 'from'], tags=['all_28709']),\n",
              " LabeledSentence(words=['job', 'eu', 'tool', 'notch', 'in', 'job', 'schedule', 'as', 'receive', 'from'], tags=['all_31205']),\n",
              " LabeledSentence(words=['personal', 'certificate', 'issue'], tags=['all_3188']),\n",
              " LabeledSentence(words=['old', 'received', 'up', 'how', 'do', 'i', 'access', 'my', 'work', 'bios', 'does', 'not', 'pull', 'up', 'older', 'than'], tags=['all_29729']),\n",
              " LabeledSentence(words=['distance', 'service', 'down', 'from', 'sent', 'am', 'to', 'subject', 're', 'long', 'hello', 'but', 'is', 'an', 'alarm', 'on', 'one', 'of', 'circuit', 'id', 'at', 'please', 'can', 'you', 'open', 'a', 'ticket', 'with', 'global', 'and'], tags=['all_8534']),\n",
              " LabeledSentence(words=['a', 'leaves', 'manager', 'showing', 'up', 'on'], tags=['all_19276']),\n",
              " LabeledSentence(words=['urgent', 'with', 'reference', 'to', 'ticket', 'the', 'm', 'n', 'public', 'and', 's', 'incorrectly', 'her', 'network', 'drive', 'correctly', 'but', 'after', 'computer', 'is', 'back', 'instead', 'of', 'she', 'should', 'have', 'access', 'this', 'server', 'name', 'please', 'help', 'update', 'login', 'script', 'for', 'interface', 'also', 'process', 'request', 'as', 'soon', 'possible', 'daily', 'work', 'getting', 'its', 'very', 'her'], tags=['all_12558']),\n",
              " LabeledSentence(words=['is', 'in', 'need', 'of', 'access', 'to', 'that', 'met', 'lab', 'computer', 'be', 'able', 'perform', 'her', 'job'], tags=['all_22740']),\n",
              " LabeledSentence(words=['without', 'screen', 'on', 'desk', 'phone'], tags=['all_28892']),\n",
              " LabeledSentence(words=['unable', 'to', 'access', 'engineering', 'tool', 'due'], tags=['all_2654']),\n",
              " LabeledSentence(words=['i', 'can', 'get', 'into', 'my', 'computer', 'an', 'error', 'no', 'address'], tags=['all_7376']),\n",
              " LabeledSentence(words=['received', 'from', 'good', 'day', 'can', 'you', 'please', 'advise', 'whether', 'is', 'go', 'through', 'at', 'the', 'moment', 'there', 'are', 'a', 'number', 'of', 'concerning', 'us', 'in', 'moment', 'we', 'cannot', 'access', 'all', 'yesterday', 'i', 'could', 'not', 'enter', 'new', 'customer', 'as', 'my', 'drop', 'down', 'were', 'fully', 'loading', 'and', 'thus', 'only', 'see', 'one', 'or', 'two', 'to', 'select', 'from', 'team', 'here', 'advised', 'that', 'lately', 'they', 'have', 'had', 'contact', 'master', 'on', 'numerous', 'certain', 'transferring', 'like', 'reps', 'by', 'our', 'finance', 'department', 'it', 'aware', 'such', 'above', 'kind'], tags=['all_10512']),\n",
              " LabeledSentence(words=['looking', 'in', 'job', 'schedule', 'hand', 'received', 'from', 'at'], tags=['all_16828']),\n",
              " LabeledSentence(words=['mount', 'request', 'off', 'pull', 'weekly', 'for', 'job', 'backup', 'weekly'], tags=['all_28944']),\n",
              " LabeledSentence(words=['eu', 'tool', 'does', 'not', 'works'], tags=['all_18326']),\n",
              " LabeledSentence(words=['job', 'hot', 'in', 'job', 'schedule', 'time', 'received', 'to'], tags=['all_29741']),\n",
              " LabeledSentence(words=['report', 'up', 'from', 'sent', 'to', 'subject', 'problem', 'system', 'machine', 'rev', 'number', 'error', 'b', 'description', 'management', 'console', 'to', 'or', 'failure', 'last', 'current', 'regardless', 'na'], tags=['all_30246']),\n",
              " LabeledSentence(words=['please', 'check', 'order', 'discount', 'v', 'the', 'order', 'header', 'is', 'showing', 'this', 'code', 'and', 'line', 'item', 'are', 'also', 'code', 'under', 'additional', 'data', 'b', 'nevertheless', 'table', 'id', 'empty', 'printed', 'tool', 'not', 'but', 'considered', 'discount', 'something', 'correct', 'if', 'relevant', 'for', 'then', 'it', 'should', 'consider'], tags=['all_21880']),\n",
              " LabeledSentence(words=['disk', 'space', 'utilization', 'warning'], tags=['all_15825']),\n",
              " LabeledSentence(words=['close', 'line', 'item', 'on', 'order', 'hi', 'please', 'number', 'because', 'it', 'been', 'been', 'but', 'remains', 'open', 'in'], tags=['all_24431']),\n",
              " LabeledSentence(words=['volume', 'on', 'server', 'one', 'over', 'space', 'available'], tags=['all_14786']),\n",
              " LabeledSentence(words=['error'], tags=['all_1144']),\n",
              " LabeledSentence(words=['town', 'hall', 'meeting', 'we', 'need', 'it', 'for', 'the', 'preparation', 'of', 'our', 'technology', 'on', 'beginning', 'is', 'at', 'alarm'], tags=['all_9429']),\n",
              " LabeledSentence(words=['report', 'score', 'variant', 'rod', 'stock', 'is', 'working', 'for', 'some', 'in', 'the', 'plant', 'wont', 'work'], tags=['all_4174']),\n",
              " LabeledSentence(words=['re', 'local', 'received', 'from', 'hi', 'can', 'we', 'just', 'make', 'sure', 'of', 'these', 'please', 'please', 'you', 'confirm', 'if', 'this', 'customer', 'a', 'valid', 'statement', 'as', 'he', 'is', 'about', 'our', 'service', 'and', 'response', 'to', 'his', 'mail', 'them', 'copy', 'me', 'in', 'with', 'your', 'manager', 'construction', 'sa', 'new', 'road', 'king', 'bit', 'sent', 'am', 'to', 'subject', 'i', 'did', 'request', 'before', 'could', 'ensure', 'that', 'administrator', 'wherever', 'the', 'world', 'fix', 'below', 'message', 'was', 'automatically', 'by', 'delivery', 'sent', 'not', 'be', 'one', 'or', 'more', 'its', 'permanent', 'error', 'following', 'host', 'error', 'from', 'remote', 'server', 'after', 'to', 'unavailable', 'client', 'blocked', 'block', 'list', 'as'], tags=['all_22186']),\n",
              " LabeledSentence(words=['extremely', 'slowly', 'in', 'take', 'too', 'long'], tags=['all_938']),\n",
              " LabeledSentence(words=['vendor', 'help', 'way', 'configure', 'the', 'on', 'new'], tags=['all_23051']),\n",
              " LabeledSentence(words=['then', 'scanning', 'the', 'message', 'that', 'path', 'does', 'not', 'exist'], tags=['all_14336']),\n",
              " LabeledSentence(words=['query', 'load', 'for', 'production', 'is', 'generating', 'aba', 'error', 'message', 'got', 'an', 'regarding', 'load', 'message', 'see', 'attachment', 'further', 'not', 'sure', 'how', 'big', 'of', 'affecting', 'this', 'so', 'currently', 'opening', 'with', 'feel', 'free', 'to', 'raise', 'the', 'priority', 'in', 'case', 'a', 'known', 'important', 'query', 'best'], tags=['all_23511']),\n",
              " LabeledSentence(words=['needs', 'the', 'to', 'saved', 'folder', 'technical'], tags=['all_29958']),\n",
              " LabeledSentence(words=['cannot', 'open', 'in', 'a', 'white', 'screen', 'before', 'opening'], tags=['all_14956']),\n",
              " LabeledSentence(words=['new', 'from', 'sent', 'august', 'to', 'candy', 'via', 'subject', 'importance', 'high', 'hi', 'can', 'you', 'please', 'advise', 'why', 'the', 'group', 'for', 'and', 'from', 'plant', 'plant', 'are', 'similar', 'taking', 'example', 'plant', 'is', 'while', 'plant', 'why'], tags=['all_25778']),\n",
              " LabeledSentence(words=['for', 'mae', 'course', 'day', 'th', 'to', 'st', 'recedidntved', 'from', 'dear', 'we', 'need', 'a', 'at', 'hall', 'our', 'course', 'should', 'have', 'office', 'adobe', 'reader', 'run', 'the', 'show', 'please', 'make', 'it', 'ready', 'today', 'i', 'will', 'collect', 'morning', 'am', 'from', 'your', 'you'], tags=['all_8390']),\n",
              " LabeledSentence(words=['volume', 'c', 'fe', 'is', 'over', 'space', 'available', 'b'], tags=['all_30419']),\n",
              " LabeledSentence(words=['computer', 'malfunction', 'the', 'operating', 'system', 'of', 'the', 'by', 'tensile', 'testing', 'machine', 'quality', 'control', 'department', 'very', 'suddenly', 'and', 'was', 'lost'], tags=['all_15924']),\n",
              " LabeledSentence(words=['reset', 'for', 'password', 'management', 'tool', 'password', 'reset', 'employee', 'is', 'getting', 'an', 'error', 'user', 'authentication', 'when', 'trying', 'to', 'log', 'into', 'the', 'ess', 'portal', 'she', 'able', 'access', 'and', 'hub', 'tried', 'change', 'her', 'through', 'manager', 'but', 'got', 'cannot', 'find', 'account', 'on', 'target', 'active', 'search', 'user', 'id'], tags=['all_17639']),\n",
              " LabeledSentence(words=['delivery', 'date', 'of', 'i', 'have', 'attached', 'both', 'the', 'one', 'i', 'sent', 'and', 'was', 'not', 'other', 'received', 'with', 'error', 'message', 'name', 'recipient', 'if', 'caller', 'failure', 'example', 'text', 'your', 'message', 'by', 'or', 'more', 'subject', 'course', 'customer', 'logistics', 'on', 'following', 'cannot', 'be', 'found', 'on', 'this', 'could', 'sent', 'try', 'to', 'send', 'again', 'later', 'contact', 'network', 'administrator', 'client', 'operation', 'is'], tags=['all_26477']),\n",
              " LabeledSentence(words=['outlook', 'freeze', 'for', 'all'], tags=['all_7342']),\n",
              " LabeledSentence(words=['install', 'a', 'printer', 'in', 'necessary', 'area'], tags=['all_16552']),\n",
              " LabeledSentence(words=['evening', 'batch', 'looking', 'job', 'e', 'name'], tags=['all_24634']),\n",
              " LabeledSentence(words=['user', 'his', 'password', 'in'], tags=['all_1892']),\n",
              " LabeledSentence(words=['tool', 'application', 'sent', 'multiple', 'via', 'hi', 'as', 'we', 'send', 'also', 'out', 'of', 'on', 'a', 'daily', 'basis', 'the', 'server', 'same', 'for', 'last', 'since', 'th', 'are', 'duplicate', 'example', 'see', 'attached', 'i', 'have', 'been', 'daily', 'one', 'more', 'thing', 'to', 'note', 'is', 'that', 'count', 'sent', 'per', 'day', 'but', 'not', 'doubled', 'be', 'it', 'twice', 'instead', 'them', 'times', 'issue', 'escalate', 'higher', 'management', 'greatly', 'appreciate', 'if', 'you', 'could', 'look', 'into', 'this', 'let', 'me', 'know', 'need'], tags=['all_17175']),\n",
              " LabeledSentence(words=['job', 'in', 'job', 'resume', 'hot', 'received', 'from', 'at'], tags=['all_16824']),\n",
              " LabeledSentence(words=['is', 'a', 'down', 'status', 'on', 'please', 'investigate', 'observing', 'below', 'alert', 'in', 'tool', 'last', 'am', 'on', 'load', 'showing'], tags=['all_21239']),\n",
              " LabeledSentence(words=['bad', 'monitor', 'near', 'motor', 'line'], tags=['all_23896']),\n",
              " LabeledSentence(words=['with', 'in', 'transaction', 'van', 'because', 'we', 'cannot', 'enter', 'the', 'batch', 'when', 'want', 'it', 'and', 'every', 'time', 'about', 'it', 'our', 'german', 'warehouse', 'they', 'sad', 'us', 'that', 'this', 'function', 'are', 'locked', 'my', 'account', 'could', 'you', 'help', 'me', 'please'], tags=['all_11204']),\n",
              " LabeledSentence(words=['tool', 'no', 'cannot', 'be', 'shown', 'in', 'we', 'na', 'and', 'no', 'however', 'this', 'voucher', 'no', 'does', 'not', 'exist', 'as', 'attachment', 'shown', 'men', 'found', 'after', 'making', 'the', 'transaction', 'still', 'exist', 'only', 'mir', 'is', 'tool', 'please', 'tell', 'us', 'resolve', 'problem'], tags=['all_19527']),\n",
              " LabeledSentence(words=['user', 'to', 'the', 'ad', 'group', 'when', 'i', 'log', 'in', 'and', 'choose', 'company', 'window', 'never', 'up'], tags=['all_1687']),\n",
              " LabeledSentence(words=['is', 'the', 'finance', 'system', 'still', 'down', 'we', 'need', 'this', 'to', 'retrieve', 'asset', 'information', 'for', 'our', 'quarterly'], tags=['all_19317']),\n",
              " LabeledSentence(words=['power', 'outage', 'site', 'is', 'hard', 'down', 'since', 'think', 'what', 'type', 'of', 'outage', 'x', 'network', 'circuit', 'power', 'please', 'specify', 'outage', 'top', 'no', 'when', 'did', 'it', 'start', 'maintenance', 'power', 'no', 'company', 'provider', 'network', 'no', 'maint', 'does', 'have', 'a', 'backup', 'circuit', 'no', 'active', 'no', 'contact', 'notified', 'remote', 'dialing', 'equipment', 'reset', 'working', 'on', 'vendor', 'ticket', 'international', 'vendor', 'vendor', 'additional', 'diagnostics'], tags=['all_27178']),\n",
              " LabeledSentence(words=['term', 'date', 'network', 'folder', 'access', 'i', 'never', 'received', 'to', 'person', 'on', 'the', 'drive', 'did', 'get', 'her', 'collaboration', 'platform', 'drive', 'but', 'not', 'folder', 'know', 'is', 'where', 'she', 'saved', 'a', 'lot', 'of', 'information', 'really', 'need', 'have', 'this', 'also', 'sure', 'why', 'regarding', 'are', 'in', 'german', 'final', 'deletion', 'for', 'business', 'from', 'days', 'you', 'still', 'time', 'copy', 'important', 'another', 'location', 'after', 'days', 'will', 'be', 'permanently', 'switch', 'under'], tags=['all_1709']),\n",
              " LabeledSentence(words=['access', 'received', 'from', 'hello', 'ladies', 'and', 'i', 'need', 'to', 'may'], tags=['all_850']),\n",
              " LabeledSentence(words=['complaint', 'i', 'create', 'a', 'the', 'is', 'not', 'in', 'to', 'approval', 'please', 'help', 'myself'], tags=['all_14293']),\n",
              " LabeledSentence(words=['po', 'given', 'been', 'posted', 'with', 'incorrect', 'account'], tags=['all_19495']),\n",
              " LabeledSentence(words=['power', 'supply', 'at', 'the', 'station', 'either', 'function'], tags=['all_15596']),\n",
              " LabeledSentence(words=['poor', 'quality', 'received', 'from', 'please', 'open', 'a', 'ticket', 'for', 'me', 'i', 'have', 'been', 'on', 'few', 'recently', 'where', 'the', 'was', 'very', 'poor', 'these', 'were', 'multinational', 'with', 'or', 'in', 'us', 'audio', 'so', 'that', 'we', 'could', 'not', 'understand', 'each', 'other', 'to', 'point', 'meeting', 'almost', 'waste', 'of', 'time', 'also', 'able', 'broadcast', 'screen', 'bas', 'as', 'well', 'some', 'see', 'content', 'again', 'making', 'our', 'manager', 'global', 'ethics', 'and', 'compliance'], tags=['all_22311']),\n",
              " LabeledSentence(words=['i', 'cannot', 'want', 'theto', 'the', 'network', 'on', 'my'], tags=['all_27873']),\n",
              " LabeledSentence(words=['power', 'supply', 'unit', 'or', 'plug', 'defective', 'goods', 'receipts', 'please', 'check', 'power', 'on', 'incoming', 'goods', 'and', 'repair', 'if', 'necessary', 'can', 'only', 'be', 'switched', 'after', 'moving', 'the', 'plug'], tags=['all_18655']),\n",
              " LabeledSentence(words=['good', 'hand', 'way', 'in', 'good', 'schedule', 'at', 'received', 'from'], tags=['all_29191']),\n",
              " LabeledSentence(words=['outlook', 'not', 'opening'], tags=['all_1637']),\n",
              " LabeledSentence(words=['battery', 'problem', 'facing', 'charging', 'issue', 'computer', 'name', 'aide', 'service', 'tag'], tags=['all_28806']),\n",
              " LabeledSentence(words=['with', 'excel'], tags=['all_8678']),\n",
              " LabeledSentence(words=['update', 'of', 'ae', 'to', 'and', 'hand', 'a', 'current', 'manager', 'does', 'this', 'need', 'way', 'in', 'mason', 'mason'], tags=['all_26850']),\n",
              " LabeledSentence(words=['urgent', 'please', 'reactive', 'user', 'id', 'received', 'from', 'hello', 'all', 'is', 'not', 'active', 'in', 'password', 'management', 'tool', 'and', 'should', 'access', 'to', 'can', 'you', 'check', 'do', 'what', 'necessary', 'best'], tags=['all_7430']),\n",
              " LabeledSentence(words=['once', 'external', 'detect', 'is', 'not', 'working', 'and', 'the', 'other', 'flickering'], tags=['all_14227']),\n",
              " LabeledSentence(words=['mass', 'to', 'otherwise', 'table', 'a', 'in'], tags=['all_17993']),\n",
              " LabeledSentence(words=['access', 'issue', 's', 'system', 'other', 'enter', 'user', 'id', 'of', 'the', 'issue', 'transaction', 'needs', 'or', 'was', 'working', 'with', 'describe', 'is', 'for', 'validation', 'in', 'please', 'extend', 'this', 'account', 'if', 'you', 'are', 'getting', 'a', 'not', 'authorized', 'message', 'recreate', 'condition', 'then', 'do', 'and', 'attach', 'result', 'to', 'ticketing', 'tool', 'ticket', 'provide', 'same', 'as', 'user'], tags=['all_1779']),\n",
              " LabeledSentence(words=['ar', 'is', 'down', 'since', 'am', 'on'], tags=['all_5959']),\n",
              " LabeledSentence(words=['disk', 'space', 'utilization', 'alert', 'is', 'free', 'available', 'as'], tags=['all_19045']),\n",
              " LabeledSentence(words=['received', 'from', 'please', 'attend', 'the', 'below', 'problem', 'at', 'system', 'name', 'user', 'problem', 'display', 'not', 'coming', 'on', 'monitor', 'is', 'getting', 'and', 'off', 'continually', 'best'], tags=['all_15031']),\n",
              " LabeledSentence(words=['data', 'back', 'up', 'and'], tags=['all_17810']),\n",
              " LabeledSentence(words=['analysis', 'not', 'working', 'to', 'run', 'my', 'quote', 'it', 'is', 'showing', 'in', 'tool', 'bar', 'when', 'i', 'try', 'open', 'through', 'business', 'error', 'the', 'launcher', 'with', 'add', 'listed', 'correctly'], tags=['all_8042']),\n",
              " LabeledSentence(words=['security', 'tool', 'password', 'manager', 'service', 'down', 'in', 'component', 'server', 'application', 'is', 'down', 'name'], tags=['all_3717']),\n",
              " LabeledSentence(words=['good', 'ce', 'tool', 'notch', 'in', 'job', 'schedule', 'at', 'received', 'from'], tags=['all_30204']),\n",
              " LabeledSentence(words=['update', 'the', 'telephony', 'impossible', 'do', 'not', 'assign', 'to', 'when', 'delete', 'update', 'it', 'will', 'up', 'every', 'day', 'telephony', 'phone', 'system', 'therefore', 'we', 'need', 'have', 'a', 'easy', 'way', 'remove', 'or', 'avoid', 'be', 'this', 'is', 'global', 'issue', 'although', 'mostly', 'seen', 'within'], tags=['all_11432']),\n",
              " LabeledSentence(words=['please', 'provide', 'access', 'sent', 'from', 'i', 'need', 'to', 'the', 'the', 'path', 'see', 'for', 'approval', 'company', 'plant', 'controller'], tags=['all_28583']),\n",
              " LabeledSentence(words=['set', 'up', 'so', 'that', 'the', 'is', 'displayed', 'and', 'able', 'be', 'printed', 'out', 'office', 'a'], tags=['all_10263']),\n",
              " LabeledSentence(words=['circuit', 'outage', 'carrier', 'is', 'down', 'since', 'on', 'what', 'type', 'of', 'outage', 'network', 'x', 'circuit', 'power', 'please', 'specify', 'outage', 'top', 'site', 'no', 'when', 'did', 'it', 'start', 'maintenance', 'power', 'no', 'company', 'power', 'provider', 'network', 'maint', 'does', 'have', 'a', 'backup', 'yes', 'active', 'yes', 'contact', 'notified', 'no', 'remote', 'dialing', 'equipment', 'reset', 'working', 'vendor', 'ticket', 'global', 'vendor', 'vendor', 'additional', 'diagnostics'], tags=['all_2463']),\n",
              " LabeledSentence(words=['access', 'need', 'the', 'administrawayr', 'for', 'user', 'to', 'install'], tags=['all_11843']),\n",
              " LabeledSentence(words=['boot', 'up', 'question', 'with', 'the', 'user', 'local', 'it', 'to', 'check', 'as', 'is', 'not', 'booking', 'at', 'all', 'tried', 'plug', 'in', 'power', 'adaptor', 'still', 'no', 'go', 'service', 'tag', 'r', 'asset'], tags=['all_10932']),\n",
              " LabeledSentence(words=['after', 'to', 'new', 'group', 'several', 'from', 'old', 'group', 'are', 'still', 'visible', 'in', 'too', 'phone', 'milling', 'team', 'because', 'still', 'too', 'substitution', 'was', 'ended', 'by', 'team', 'as', 'far', 'i', 'informed'], tags=['all_23509']),\n",
              " LabeledSentence(words=['access', 'to', 'course', 'm', 'hello', 'the', 'following', 'need', 'the', 'history', 'below', 'and', 'difference', 'employee', 'h'], tags=['all_21821']),\n",
              " LabeledSentence(words=['evening', 'job', 'in', 'schedule', 'job', 'receive', 'from', 'job', 'schedule', 'job', 'at'], tags=['all_15654']),\n",
              " LabeledSentence(words=['for', 'delivery', 'bee', 'not', 'possible', 'please', 'see', 'message'], tags=['all_9627']),\n",
              " LabeledSentence(words=['outlook', 'cannot', 'start'], tags=['all_4327']),\n",
              " LabeledSentence(words=['primary', 'landline', 'flow', 'down', 'company', 'o', 'plant', 'hello', 'from', 'this', 'mail', 'for', 'inform', 'that', 'we', 'have', 'all', 'incoming', 'and', 'external', 'are', 'not', 'running', 'i', 'a', 'to', 'investigate', 'the', 'problem', 'no'], tags=['all_28368']),\n",
              " LabeledSentence(words=['user', 'cannot', 'create', 'out', 'of', 'punch', 'now', 'he', 'get', 'the', 'right', 'document', 'type', 'but', 'several', 'other', 'wrong', 'material', 'group', 'is', 'shown', 'instead', 'default', 'should', 'be', 'specify', 'in', 'accounting', 'there', 'as', 'default', 'for', 'him', 'order', 'and', 'account', 'does', 'not', 'come', 'up', 'automatically', 'got', 'information', 'that', 'all', 'this', 'plant', 'had', 'i', 'will', 'a', 'mail', 'colleague', 'with', 'person', 'who', 'issue', 'add', 'it', 'soon', 'have', 'mail'], tags=['all_14669']),\n",
              " LabeledSentence(words=['install', 'what', 'ewe'], tags=['all_20712']),\n",
              " LabeledSentence(words=['new', 'team', 'not', 'on', 'bob', 'from', 'ess', 'and', 'manager', 'ess', 'open', 'that', 'be', 'refer', 'still', 'old', 'data', 'need', 'to', 'reflect', 'are', 'already', 'phone'], tags=['all_27829']),\n",
              " LabeledSentence(words=['there', 'is', 'no', 'sound', 'when', 'the', 'computer', 'an', 'sound', 'file', 'please', 'provide', 'of', 'issue', 'there', 'file', 'nor', 'does'], tags=['all_24145']),\n",
              " LabeledSentence(words=['catalogue', 'does', 'not', 'work', 'in', 'when', 'the', 'company', 'data', 'they', 'missing', 'and', 'password', 'given', 'it', 'works', 'not', 'please', 'check'], tags=['all_25372']),\n",
              " LabeledSentence(words=['security', 'in', 'suspicion', 'activity', 'warning', 'can', 'only', 'detect', 'less', 'than'], tags=['all_26015']),\n",
              " LabeledSentence(words=['unable', 'to', 'create', 'delivery', 'please', 'provide', 'the', 'following', 'what', 'order', 'many', 'material', 'or', 'item', 'warehouse', 'location', 'from', 'plant', 'plant', 'issue', 'description', 'error', 'message', 'no', 'possible', 'with', 'these'], tags=['all_13005']),\n",
              " LabeledSentence(words=['activation', 'on', 'company', 'provided', 'device'], tags=['all_1203']),\n",
              " LabeledSentence(words=['em', 'event', 'of', 'value', 'of', 'size', 'for', 'is', 'target', 'instance', 'event', 'edit', 'alert', 'size'], tags=['all_18700']),\n",
              " LabeledSentence(words=['reset', 'for', 'v', 'password', 'management', 'tool', 'password', 'reset'], tags=['all_261']),\n",
              " LabeledSentence(words=['user', 'to', 'distribution', 'group'], tags=['all_1694']),\n",
              " LabeledSentence(words=['mail', 'access', 'in', 'mobile', 'received', 'from', 'hi', 'provide', 'me', 'the', 'for', 'mobile'], tags=['all_5438']),\n",
              " LabeledSentence(words=['re', 'need', 'a', 'little', 'received', 'from', 'if', 'you', 'recall', 'we', 'had', 'this', 'new', 'form', 'when', 'were', 'there', 'for', 'the', 'click', 'project', 'specially', 'as', 'per', 'requirement', 'please', 'do', 'not', 'print', 'unless', 'really', 'to', 'will', 'preserve', 'on', 'planet', 'earth', 'sent', 'to', 'an', 'subject', 'is', 'format', 'one', 'that', 'with', 'their', 'bin', 'delivery', 'note', 'are', 'aware', 'of', 'special', 'requirement', 'i', 'forgot', 'about', 'it', 'until', 'this', 'best'], tags=['all_10848']),\n",
              " LabeledSentence(words=['unable', 'to', 'select', 'my', 'course', 'when', 'i', 'a', 'language', 'there', 'is', 'an', 'invalid', 'and', 'go', 'further'], tags=['all_26709']),\n",
              " LabeledSentence(words=['change', 'bomb', 'facility', 'please', 'in', 'mass', 'the', 'below', 'at', 'from', 'to'], tags=['all_14905']),\n",
              " LabeledSentence(words=['audio', 'not', 'working', 'contact', 'number', 'service', 'tag', 'hearing', 'sound', 'from', 'my', 'when', 'a', 'video', 'i', 'use'], tags=['all_5319']),\n",
              " LabeledSentence(words=['wont', 'allow', 'me', 'to', 'create', 'an', 'attachment', 'customer', 'account', 'when', 'trying', 'attach', 'tax', 'exemption', 'the', 'in', 'i', 'am', 'not', 'able', 'access', 'network', 'drive', 'they', 'are', 'on', 'and', 'error', 'message', 'have', 'attached', 'message', 'this', 'incident', 'm', 'drive'], tags=['all_5175']),\n",
              " LabeledSentence(words=['volume', 'f', 'ad', 'is', 'over', 'space', 'available', 'm'], tags=['all_2350']),\n",
              " LabeledSentence(words=['manually', 'for', 'password', 'management', 'tool', 'password', 'reset'], tags=['all_17955']),\n",
              " LabeledSentence(words=['account', 'not', 'able', 'to', 'login', 'from', 'sent', 'am', 'to', 'subject', 're', 'user', 'id', 'who', 'is', 'the', 'window', 'can', 'you', 'check', 'something', 'urgently', 'kindly', 'provide', 'access'], tags=['all_20320']),\n",
              " LabeledSentence(words=['access', 'in', 'adoption', 'manager', 'user', 'is', 'cannot', 'to', 'view', 'dynamics', 'please', 'check'], tags=['all_25996']),\n",
              " LabeledSentence(words=['the', 'our', 'office', 'will', 'not', 'turn', 'on', 'no', 'power', 'outlet', 'where', 'its', 'plugged', 'is', 'good'], tags=['all_21258']),\n",
              " LabeledSentence(words=['application', 'conversion', 'server', 'on', 'node', 'only', 'warning', 'action'], tags=['all_9025']),\n",
              " LabeledSentence(words=['error', 'when', 'logging', 'in', 'to', 'hand', 'please', 'see', 'attached', 'that', 'i', 'send', 'trying', 'log'], tags=['all_22953']),\n",
              " LabeledSentence(words=['stamping', 'of', 'in', 'eu', 'tool', 'is', 'not', 'working', 'user', 'cannot', 'stamp', 'out', 'time', 'eu', 'tool', 'data', 'transferred', 'to', 'from', 'yesterday', 'he', 'does', 'know', 'which', 'employee', 'took', 'present', 'yesterday', 'and', 'who', 'absent'], tags=['all_24466']),\n",
              " LabeledSentence(words=['poor', 'quality', 'received', 'from', 'please', 'open', 'a', 'ticket', 'for', 'me', 'i', 'have', 'been', 'on', 'few', 'recently', 'where', 'the', 'was', 'very', 'poor', 'these', 'were', 'multinational', 'with', 'or', 'in', 'us', 'audio', 'so', 'that', 'we', 'could', 'not', 'understand', 'each', 'other', 'to', 'point', 'meeting', 'almost', 'waste', 'of', 'time', 'also', 'ability', 'broadcast', 'screen', 'bas', 'as', 'well', 'some', 'see', 'content', 'again', 'making', 'our', 'manager', 'global', 'ethics', 'and', 'compliance'], tags=['all_3355']),\n",
              " LabeledSentence(words=['lead', 'makingm', 'component', 'not', 'working', 'in', 'prod', 'i', 'have', 'just', 'discovered', 'the', 'for', 'both', 'road', 'king', 'and', 'beyond', 'evolution', 'are', 'working', 'can', 'be', 'found', 'by', 'on', 'then', 'try', 'call', 'to', 'action', 'buttons', 'see', 'attached', 'also', 'there', 'is', 'a', 'page', 'used', 'it'], tags=['all_14934']),\n",
              " LabeledSentence(words=['ticket', 'update', 'for', 'implant'], tags=['all_3835']),\n",
              " LabeledSentence(words=['need', 'conversion', 'tool', 'export', 'a', 'into', 'excel', 'i', 'saw', 'on', 'that', 'its', 'possible', 'to', 'want', 'you', 'know', 'who', 'can', 'contact', 'in', 'company', 'get', 'this', 'tool'], tags=['all_19734']),\n",
              " LabeledSentence(words=['delivery', 'date', 'of', 'i', 'have', 'attached', 'both', 'the', 'one', 'i', 'sent', 'and', 'was', 'not', 'other', 'received', 'with', 'error', 'message', 'name', 'recipient', 'if', 'caller', 'failing', 'code', 'text', 'your', 'message', 'by', 'or', 'more', 'subject', 'course', 'customer', 'logistics', 'on', 'following', 'cannot', 'be', 'found', 'on', 'this', 'could', 'sent', 'try', 'to', 'send', 'again', 'later', 'contact', 'network', 'administrator', 'client', 'operation', 'is'], tags=['all_26476']),\n",
              " LabeledSentence(words=['ticket', 'no', 'register', 'ie', 'tax', 'code', 'in', 'received', 'from', 'hi', 'all', 'i', 'already', 'this', 'by', 'but', 'do', 'not', 'hear', 'nothing', 'about', 'could', 'want', 'please', 'verify', 'the', 'status', 'its', 'urgency', 'south'], tags=['all_19131']),\n",
              " LabeledSentence(words=['need', 'access', 'to', 'shop', 'floor', 'corrected', 'i', 'do', 'not', 'already', 'the', 'update', 'work', 'in', 'shop', 'floor', 'system', 'tab', 'it', 'like', 'am', 'missing', 'some'], tags=['all_11884']),\n",
              " LabeledSentence(words=['network', 'outage', 'site', 'is', 'hard', 'down', 'at', 'on', 'no', 'backup', 'circuit', 'what', 'type', 'of', 'outage', 'x', 'network', 'circuit', 'power', 'please', 'specify', 'outage', 'top', 'no', 'when', 'did', 'it', 'start', 'maintenance', 'power', 'no', 'company', 'power', 'provider', 'network', 'maint', 'does', 'have', 'a', 'circuit', 'no', 'active', 'no', 'contact', 'notified', 'remote', 'dialing', 'na', 'equipment', 'reset', 'na', 'working', 'vendor', 'ticket', 'global', 'vendor', 'vendor', 'further', 'diagnostics'], tags=['all_15911']),\n",
              " LabeledSentence(words=['it', 'help', 'warning', 'can', 'only', 'detect', 'less', 'least'], tags=['all_21179']),\n",
              " LabeledSentence(words=['one', 'note', 'issue', 'received', 'from', 'hi', 'when', 'a', 'workbook', 'is', 'with', 'me', 'i', 'can', 'only', 'open', 'the', 'web', 'view', 'and', 'get', 'below', 'error', 'message', 'according', 'to', 'owner', 'have', 'permission', 'it'], tags=['all_3020']),\n",
              " LabeledSentence(words=['received', 'the', 'message', 'below', 'can', 'you', 'ask', 'me', 'from', 'whom', 'was', 'sent'], tags=['all_6727']),\n",
              " LabeledSentence(words=['reset', 'making', 'v', 'password', 'management', 'tool', 'password', 'reset'], tags=['all_6811']),\n",
              " LabeledSentence(words=['job', 'job', 'in', 'job', 'resume', 'at', 'received', 'from'], tags=['all_7301']),\n",
              " LabeledSentence(words=['sept', 'report', 'showing', 'blank', 'data', 'for', 'this', 'was', 'working', 'up', 'until', 'now', 'it', 'no', 'when', 'the', 'within', 'tool', 'browser', 'link', 'used', 'is', 'as', 'output', 'per', 'attached'], tags=['all_23361']),\n",
              " LabeledSentence(words=['cross', 'company', 'into', 'not', 'on', 'f', 'and', 'f', 'user', 'can', 'no', 'longer', 'process', 'please', 'assist', 'this'], tags=['all_14972']),\n",
              " LabeledSentence(words=['unable', 'to', 'create', 'a', 'collaboration', 'platform', 'workbook', 'on', 'due', 'duplicate', 'is', 'enable', 'an', 'account', 'without', 'getting', 'error', 'there', 'have', 'potential', 'the', 'different', 'than', 'other', 'but', 'does', 'use', 'same', 'address', 'which', 'i', 'believe', 'dup', 'detection', 'based', 'off', 'of', 'when', 'he', 'save', 'anyways', 'get', 'business', 'process', 'error', 'refer', 'as', 'example', 'well', 'attached', 'screen'], tags=['all_9715']),\n",
              " LabeledSentence(words=['please', 'review', 'eu', 'tool', 'server', 'in', 'is', 'not', 'working', 'very', 'urgent'], tags=['all_4079']),\n",
              " LabeledSentence(words=['outlook', 'stopped', 'working', 'received', 'from', 'hello', 'i', 'need', 'your', 'help', 'in'], tags=['all_3308']),\n",
              " LabeledSentence(words=['engineering', 'tool', 'working', 'several', 'times', 'a', 'day', 'without', 'polo', 'not', 'reason', 'and', 'works', 'slow', 'when', 'it', 'stay', 'running', 'please', 'see', 'attached', 'print', 'screen', 'of', 'the', 'error'], tags=['all_16909']),\n",
              " LabeledSentence(words=['running', 'full', 'production', 'and', 'need', 'update', 'out', 'with', 'many', 'th', 'we', 'will', 'be'], tags=['all_27773']),\n",
              " LabeledSentence(words=['from', 'plant', 'plant', 'need', 'in', 'one', 'same', 'hello', 'all', 'my', 'colleague', 'and', 'i', 'had', 'tra', 'for', 'future', 'fully', 'acceptance', 'plant', 'too'], tags=['all_28293']),\n",
              " LabeledSentence(words=['need', 'access', 'to', 'collaboration', 'platform', 'informed', 'me', 'that', 'for', 'business', 'will', 'be', 'permanently', 'in', 'days', 'i', 'his', 'see', 'if', 'there', 'is', 'any', 'information', 'on', 'their', 'we', 'need'], tags=['all_2776']),\n",
              " LabeledSentence(words=['please', 'this', 'eu', 'tool', 'server', 'in', 'is', 'not', 'working', 'very', 'urgent'], tags=['all_23430']),\n",
              " LabeledSentence(words=['the', 'service', 'surveillance', 'tool', 'password', 'manager', 'is', 'stopped', 'or', 'disabled', 'not', 'on', 'target', 'machine'], tags=['all_21181']),\n",
              " LabeledSentence(words=['not', 'able', 'to', 'access', 'every', 'time', 'i', 'click', 'on', 'the', 'link', 'get', 'upgrade', 'message', 'below', 'in', 'a', 'new', 'tab', 'am', 'being', 'tool'], tags=['all_828']),\n",
              " LabeledSentence(words=['supply', 'monitor', 'and', 'preview', 'measuring', 'machine'], tags=['all_31144']),\n",
              " LabeledSentence(words=['up', 'laser'], tags=['all_8931']),\n",
              " LabeledSentence(words=['cisco', 'access', 'there', 'is', 'not', 'working', 'received', 'from', 'hall', 'mac', 'address'], tags=['all_23265']),\n",
              " LabeledSentence(words=['help', 'received', 'from', 'hello', 'this', 'morning', 'i', 'but', 'while', 'my', 'computer', 'blocked', 'and', 'can', 'not', 'start', 'it', 'with', 'safe', 'you', 'please', 'connect', 'ahead', 'viewer', 'best'], tags=['all_10617']),\n",
              " LabeledSentence(words=['circuit', 'outage', 'down', 'since', 'am', 'site', 'up', 'on', 'primary', 'what', 'kind', 'of', 'outage', 'network', 'x', 'circuit', 'power', 'please', 'specify', 'outage', 'top', 'site', 'no', 'when', 'did', 'it', 'start', 'maintenance', 'power', 'no', 'company', 'power', 'yes', 'provider', 'network', 'maint', 'no', 'does', 'have', 'a', 'backup', 'yes', 'active', 'yes', 'contact', 'notified', 'remote', 'dialing', 'yes', 'equipment', 'reset', 'na', 'working', 'yes', 'vendor', 'ticket', 'global', 'vendor', 'vendor', 'na', 'yes', 'na', 'additional', 'diagnostics'], tags=['all_24858']),\n",
              " LabeledSentence(words=['i', 'am', 'be', 'in', 'the', 'work', 'center', 'no', 'fu', 'group', 'of', 'my', 'is', 'visible', 'to', 'me'], tags=['all_19147']),\n",
              " LabeledSentence(words=['security', 'in', 'no', 'entry', 'source', 'system', 'naming', 'user', 'location', 'current', 'no', 'field', 'yes', 'no', 'event', 'below'], tags=['all_27931']),\n",
              " LabeledSentence(words=['one', 'too', 'slow', 'language', 'explorer', 'customer', 'number', 'call'], tags=['all_29673']),\n",
              " LabeledSentence(words=['printer', 'on', 'server', 'is', 'not', 'right', 'for', 'x', 'to', 'fine', 'but', 'when', 'trying', 'print', 'continuously', 'and', 'which', 'is', 'it', 'used', 'a', 'x', 'from', 'it', 'fine', 'si', 'at', 'this'], tags=['all_12081']),\n",
              " LabeledSentence(words=['i', 'request', 'from', 'the', 'front', 'of', 'aiming', 'way', 'evaluate', 'theft', 'concrete', 'mixer', 'engine', 'period', 'h'], tags=['all_15501']),\n",
              " LabeledSentence(words=['trouble', 'and', 'printing', 'received', 'from', 'good', 'day', 'please', 'assist', 'with', 'issue', 'below', 'when', 'to', 'view', 'the', 'well', 'tool', 'this', 'blank', 'help', 'way'], tags=['all_27874']),\n",
              " LabeledSentence(words=['turns', 'view', 'production', 'order', 'interface', 'making'], tags=['all_29474']),\n",
              " LabeledSentence(words=['suspected', 'mail', 'this', 'like', 'to', 'me', 'just', 'make', 'someone', 'aware'], tags=['all_881']),\n",
              " LabeledSentence(words=['interface', 'on', 'is', 'down', 'because'], tags=['all_18181']),\n",
              " LabeledSentence(words=['unable', 'to', 'launch', 'business', 'client', 'net', 'needs', 'be', 'the', 'all'], tags=['all_22960']),\n",
              " LabeledSentence(words=['not', 'able', 'to', 'opening', 'the', 'hand', 'survey'], tags=['all_30581']),\n",
              " LabeledSentence(words=['need', 'mouse', 'replacement'], tags=['all_3131']),\n",
              " LabeledSentence(words=['hard', 'down', 'due', 'to', 'storm', 'last', 'night', 'we', 'had', 'those', 'bad', 'come', 'through', 'and', 'took', 'out', 'a', 'switch', 'on', 'the', 'machine', 'network'], tags=['all_20542']),\n",
              " LabeledSentence(words=['server', 'be', 'applicable'], tags=['all_8161']),\n",
              " LabeledSentence(words=['providing', 'for', 'relocation'], tags=['all_14685']),\n",
              " LabeledSentence(words=['configuration', 'is', 'not', 'no', 'access'], tags=['all_23093']),\n",
              " LabeledSentence(words=['duplex', 'mismatch', 'on', 'router', 'and', 'router', 'see', 'description', 'for', 'much', 'mismatch', 'mode', 'interface', 'unlink', 'to', 'is', 'half', 'check', 'configuration', 'both', 'end', 'of', 'the', 'link', 'make', 'sure', 'connection', 'lan', 'full'], tags=['all_11972']),\n",
              " LabeledSentence(words=['reminder', 'notification', 'on', 'sending', 'for', 'one', 'received', 'from', 'hi', 'it', 'team', 'i', 'have', 'still', 'to', 'approve', 'daily', 'which', 'already', 'and', 'there', 'are', 'no', 'any', 'pending', 'left', 'in', 'me', 'also', 'been', 'raised', 'by', 'team', 'kindly', 'review', 'system', 'fix', 'me'], tags=['all_7420']),\n",
              " LabeledSentence(words=['with', 'kiosk', 'ilk', 'path', 'but', 'am', 'to'], tags=['all_24304']),\n",
              " LabeledSentence(words=['printer', 'trouble', 'issue', 'information', 'please', 'complete', 'all', 'below', 'if', 'not', 'it', 'will', 'be', 'returned', 'back', 'to', 'the', 'requester', 'provide', 'review', 'ticket', 'not', 'able', 'resolve', 'then', 'assign', 'appropriate', 'group', 'per', 'your', 'assignment', 'name', 'make', 'model', 'ex', 'wy', 'detailed', 'description', 'of', 'error', 'i', 'need', 'and', 'install', 'a', 'driver', 'from', 'computer', 'print', 'type', 'printing', 'excel', 'word', 'tool', 'delivery', 'note', 'production', 'what', 'system', 'or', 'application', 'being', 'used', 'at', 'time', 'problem', 'printing', 'all', 'does', 'respond', 'ping', 'command', 'on', 'network', 'power', 'cycle', 'been', 'sure', 'this', 'system', 'which', 'system', 'its', 'an', 'can', 'output', 'another', 'temporarily', 'too', 'document', 'is', 'correctly', 'scan', 'copy', 'attach', 'ticketing', 'tool', 'ticket'], tags=['all_17719']),\n",
              " LabeledSentence(words=['printer', 'in', 'forth', 'received', 'from', 'hello', 'our', 'network', 'does', 'would', 'stop', 'printing', 'a', 'guest', 'to', 'inadvertently', 'generate', 'new', 'print', 'or', 'according', 'the', 'service', 'technician', 'from', 'manufacturer', 'pool', 'job', 'is', 'probably', 'we', 'cannot', 'see', 'track', 'or', 'all', 'cancel', 'have', 'even', 'plug', 'lan', 'cable', 'of', 'no', 'use', 'who', 'can', 'help', 'administrator', 'should', 'be', 'able', 'do', 'this', 'thank', 'you', 'human', 'company', 'this', 'communication', 'intended', 'solely', 'for', 'use', 'and', 'may', 'contain', 'information', 'that', 'confidential', 'confidential', 'exempt', 'disclosure', 'under', 'applicable', 'law', 'distribution', 'distribution', 'reproduction', 'this', 'by', 'other', 'than', 'strictly', 'if', 'you', 'message', 'mistake', 'please', 'notify', 'sender', 'delete', 'message', 'select', 'following', 'link', 'view', 'disclaimer', 'an', 'alternate', 'language'], tags=['all_23369']),\n",
              " LabeledSentence(words=['entire', 'location', 'at', 'connectivity', 'is', 'down', 'user', 'mention', 'all', 'the', 'are', 'outlook'], tags=['all_17835']),\n",
              " LabeledSentence(words=['set', 'up', 'please', 'forward', 'to', 'after', 'the', 'measuring', 'device', 'been', 'converted', 'must', 'be', 'for', 'before', 'should', 'by', 'sometime', 'th', 'employee', 'comes', 'back', 'on', 'august', 'th'], tags=['all_16602']),\n",
              " LabeledSentence(words=['printer', 'defective', 'in', 'the', 'error', 'message'], tags=['all_2909']),\n",
              " LabeledSentence(words=['with', 'drive', 'f'], tags=['all_6752']),\n",
              " LabeledSentence(words=['is', 'not', 'since', 'at', 'glad', 'on'], tags=['all_12643']),\n",
              " LabeledSentence(words=['configure', 'is', 'down', 'since', 'am', 'up'], tags=['all_29140']),\n",
              " LabeledSentence(words=['favorite', 'defective', 'industrial', 'control', 'detect', 'nit'], tags=['all_30644']),\n",
              " LabeledSentence(words=['disable', 'calander', 'on', 'phone', 'sync', 'with', 'outlook'], tags=['all_28172']),\n",
              " LabeledSentence(words=['access', 'for', 'printer', 'wy', 'trainee', 'received', 'from', 'hi', 'please', 'provide', 'to', 'machine', 'tool', 'business', 'below', 'trainee', 'name', 'k', 'user', 'id', 'computer', 'no'], tags=['all_10906']),\n",
              " LabeledSentence(words=['high', 'synchronization'], tags=['all_11014']),\n",
              " LabeledSentence(words=['account', 'locked', 'in', 'supply', 'chain'], tags=['all_2450']),\n",
              " LabeledSentence(words=['can', 'you', 'please', 'help', 'receive', 'into', 'the', 'below', 'of', 'issue', 'are', 'below', 'this', 'screen', 'shot', 'not', 'sure', 'how', 't', 'to', 'help'], tags=['all_20534']),\n",
              " LabeledSentence(words=['end', 'of', 'month', 'billing', 'received', 'from', 'good', 'afternoon', 'i', 'am', 'unable', 'to', 'force', 'the', 'for', 'below', 'this', 'is', 'material', 'and', 'needs', 'tool', 'before', 'today', 'please', 'help'], tags=['all_2072']),\n",
              " LabeledSentence(words=['help', 'to', 'install', 'in', 'a', 'computer', 'law', 'hi', 'team', 'i', 'need', 'your', 'reinstall', 'antivirus', 'law', 'the', 'think', 'not', 'working', 'if', 'you', 'have', 'more', 'please', 'contact', 'me'], tags=['all_16696']),\n",
              " LabeledSentence(words=['terminthetion', 'for', 'another', 'effective', 'been'], tags=['all_30847']),\n",
              " LabeledSentence(words=['problem', 'with', 'not', 'after', 'getting', 'pick', 'through', 'warehouse', 'tool'], tags=['all_14033']),\n",
              " LabeledSentence(words=['re', 'ticket', 'no', 'change', 'anti', 'and', 'iso', 'no', 'previously', 'from', 'closed', 'the', 'ticket'], tags=['all_22288']),\n",
              " LabeledSentence(words=['with', 'monitor', 'ewe', 'defective'], tags=['all_26666']),\n",
              " LabeledSentence(words=['shipping', 'notice', 'from', 'north', 'service', 'sent', 'august', 'am', 'to', 'subject', 'kindly', 'will', 'under', 'plant', 'for', 'below', 'customer', 'to'], tags=['all_24343']),\n",
              " LabeledSentence(words=['location', 'received', 'from', 'hi', 'i', 'would', 'please', 'need', 'two', 'location', 'from', 'for', 'bank', 'name', 'are', 'and', 'the', 'specialist', 'will', 'finish', 'a', 'huge', 'update', 'our', 'payment', 'management', 'tool', 'cost', 'center'], tags=['all_8118']),\n",
              " LabeledSentence(words=['data', 'not', 'correctly', 'for', 'all', 'the', 'in', 'travel', 'tool', 'user'], tags=['all_6671']),\n",
              " LabeledSentence(words=['latitude', 'e', 'battery', 'issue', 'issue', 'light', 'is', 'constantly', 'links', 'red', 'and', 'not', 'charging', 'user', 'to', 'be', 'connected', 'the', 'adapter', 'might', 'require', 'a', 'replacement', 'phone'], tags=['all_19892']),\n",
              " LabeledSentence(words=['multiple', 'print', 'while', 'printing', 'single', 'checked', 'the', 'driver', 'and', 'printer', 'word', 'excel', 'when', 'login', 'to', 'any', 'from', 'outlook', 'it', 'see', 'attachment'], tags=['all_14728']),\n",
              " LabeledSentence(words=['unable', 'to', 'make', 'in', 'expense', 'report', 'name', 'browser', 'explorer', 'telephone', 'brief', 'the', 'week', 'i', 'was', 'trying', 'put', 'my', 'but', 'it', 'will', 'not', 'let', 'me', 'change', 'cost', 'center', 'there', 'suppose', 'be', 'a', 'ticket', 'for', 'this', 'and', 'just', 'wondering', 'how', 'that', 'going', 'have', 'received', 'any', 'on', 'issue'], tags=['all_9282']),\n",
              " LabeledSentence(words=['job', 'job', 'a', 'in', 'job', 'regular', 'at', 'received', 'from'], tags=['all_14834']),\n",
              " LabeledSentence(words=['import', 'device', 'type', 'from', 's', 'make', 'd', 'q', 'system'], tags=['all_24797']),\n",
              " LabeledSentence(words=['finance', 'portal', 'on', 'the', 'hub', 'received', 'from', 'company', 'help', 'i', 'was', 'unable', 'to', 'access', 'hub', 'even', 'though', 'have', 'done', 'this', 'in', 'past', 'below', 'message', 'could', 'you', 'please', 'check', 'my', 'and', 'let', 'me', 'know', 'what', 'need', 'do', 'reinstate'], tags=['all_894']),\n",
              " LabeledSentence(words=['job', 'search', 'server', 'prod', 'daily', 'place', 'job', 'schedule', 'at', 'received', 'out'], tags=['all_29659']),\n",
              " LabeledSentence(words=['era', 'need', 'to', 'push', 'system', 'sent', 'from', 'please', 'the', 'mi', 'this'], tags=['all_30516']),\n",
              " LabeledSentence(words=['hello', 'i', 'am', 'have', 'running', 'open', 'report', 'data', 'will', 'not', 'last'], tags=['all_10417']),\n",
              " LabeledSentence(words=['duplication', 'of', 'network', 'address', 'received', 'from', 'gentle', 'i', 'have', 'two', 'that', 'are', 'trying', 'to', 'share', 'an', 'they', 'one', 'is', 'a', 'printer', 'with', 'the', 'and', 'other', 'new', 'display', 'for', 'get', 'its', 'address', 'assign', 'hard', 'my', 'think', 'did', 'not', 'set', 'static', 'in', 'need', 'this', 'corrected', 'so', 'will', 'pick', 'up', 'another'], tags=['all_27035']),\n",
              " LabeledSentence(words=['power', 'outage', 'engineering', 'tool', 'warehouse', 'russia', 'company', 'network', 'is', 'down', 'since', 'myself', 'on', 'what', 'type', 'of', 'outage', 'x', 'network', 'circuit', 'power', 'please', 'specify', 'outage', 'bottom', 'site', 'no', 'when', 'did', 'it', 'start', 'am', 'maintenance', 'power', 'no', 'company', 'provider', 'network', 'maint', 'does', 'have', 'a', 'backup', 'circuit', 'no', 'active', 'no', 'contact', 'notified', 'remote', 'dialing', 'na', 'equipment', 'reset', 'no', 'working', 'vendor', 'ticket', 'global', 'vendor', 'vendor', 'additional', 'diagnostics'], tags=['all_29289']),\n",
              " LabeledSentence(words=['connectivity', 'outage', 'south', 'site', 'is', 'hard', 'down', 'since', 'am', 'on', 'what', 'type', 'of', 'outage', 'x', 'network', 'relay', 'power', 'please', 'specify', 'outage', 'top', 'no', 'when', 'did', 'it', 'start', 'maintenance', 'power', 'company', 'power', 'provider', 'network', 'maint', 'does', 'have', 'a', 'backup', 'circuit', 'active', 'contact', 'notified', 'remote', 'dialing', 'equipment', 'reset', 'working', 'vendor', 'ticket', 'global', 'vendor', 'vendor', 'additional', 'diagnostics'], tags=['all_29272']),\n",
              " LabeledSentence(words=['urgent', 'price', 'update', 'error', 'received', 'from', 'hi', 'i', 'have', 'to', 'divide', 'the', 'quantity', 'of', 'item', 'due', 'partial', 'shipment', 'and', 'currency', 'issue', 'but', 'while', 'dividing', 'no', 'for', 'process', 'is', 'try', 'enter', 'again', 'with', 'however', 'system', 'cannot', 'allow', 'it', 'bring', 'new', 'so', 'could', 'you', 'help', 'me', 'please', 'colin', 'best'], tags=['all_10468']),\n",
              " LabeledSentence(words=['no', 'provide', 'to', 'the', 'network', 'with', 'in', 'department', 'access', 'department', 'tha', 'is', 'urgent', 'necessary', 'for', 'hardness', 'measuring', 'and', 'are', 'responsible', 'person'], tags=['all_14501']),\n",
              " LabeledSentence(words=['the', 'attached', 'in', 'director', 'status', 'but', 'cannot', 'be', 'per', 'subject', 'i', 'have', 'status', 'to', 'release', 'error', 'message', 'enter', 'channel', 'manager', 'account', 'is', 'available', 'can', 'you', 'please', 'solve'], tags=['all_5439']),\n",
              " LabeledSentence(words=['is', 'still', 'running', 'after', 'the', 'month', 'monthly', 'one', 'from', 'around', 'on', 'currently', 'stage', 'with', 'percent', 'complete'], tags=['all_25120']),\n",
              " LabeledSentence(words=['need', 'access', 'to', 'my', 'drive', 'please', 'check', 'her', 'account', 'received', 'from', 'hello', 'it', 'team', 'how', 'do', 'i', 'connect', 'connect', 'drive', 'the', 'been', 'gone', 'since', 'yesterday', 'thanks', 'and'], tags=['all_23951']),\n",
              " LabeledSentence(words=['locked', 'out', 'again', 'of', 'and', 'this', 'happening', 'way', 'too', 'often', 'telephone'], tags=['all_2564']),\n",
              " LabeledSentence(words=['eu', 'tool', 'batch', 'management', 'does', 'not', 'worked', 'working', 'with', 'the', 'is', 'almost', 'impossible', 'of', 'no', 'longer', 'possible', 'at', 'moment', 'been'], tags=['all_29989']),\n",
              " LabeledSentence(words=['allow', 'to', 'please', 'provide', 'below', 'drive', 'view', 'the', 'live'], tags=['all_17828']),\n",
              " LabeledSentence(words=['eu', 'tool', 'ewe', 'does', 'not', 'work'], tags=['all_1887']),\n",
              " LabeledSentence(words=['problem', 'with', 'login', 'received', 'from', 'best'], tags=['all_4786']),\n",
              " LabeledSentence(words=['sync', 'no', 'in', 'the', 'last', 'investigate'], tags=['all_5469']),\n",
              " LabeledSentence(words=['can', 'not', 'sign', 'in', 'received', 'from', 'i', 'must', 'best'], tags=['all_23800']),\n",
              " LabeledSentence(words=['printer', 'problem', 'issue', 'information', 'please', 'complete', 'all', 'below', 'if', 'not', 'it', 'will', 'be', 'returned', 'back', 'to', 'the', 'requester', 'provide', 'review', 'ticket', 'not', 'able', 'resolve', 'then', 'assign', 'appropriate', 'group', 'per', 'your', 'assignment', 'name', 'make', 'model', 'ex', 'wy', 'color', 'detailed', 'description', 'of', 'when', 'i', 'try', 'send', 'a', 'document', 'this', 'printer', 'driver', 'update', 'next', 'name', 'click', 'print', 'and', 'several', 'times', 'before', 'error', 'cannot', 'print', 'due', 'with', 'current', 'setup', 'have', 'printed', 'on', 'my', 'machine', 'before', 'type', 'printing', 'excel', 'tool', 'delivery', 'note', 'production', 'specifically', 'word', 'but', 'also', 'tried', 'printing', 'what', 'control', 'or', 'application', 'being', 'used', 'at', 'time', 'problem', 'word', 'excel', 'outlook', 'all', 'does', 'respond', 'ping', 'command', 'network', 'power', 'cycle', 'been', 'na', 'system', 'which', 'system', 'its', 'an', 'can', 'output', 'another', 'temporarily', 'too', 'is', 'correctly', 'scan', 'copy', 'attach', 'ticketing', 'tool', 'ticket'], tags=['all_22410']),\n",
              " LabeledSentence(words=['did', 'we', 'send', 'out', 'automatic', 'upgrade', 'language', 'explorer', 'customer', 'number', 'telephone', 'upgrade'], tags=['all_5121']),\n",
              " LabeledSentence(words=['power', 'disaster', 'company', 'circuit', 'is', 'down', 'at', 'on', 'site', 'up', 'primary', 'what', 'type', 'of', 'outage', 'network', 'x', 'circuit', 'power', 'please', 'specify', 'outage', 'top', 'site', 'when', 'did', 'it', 'start', 'maintenance', 'power', 'no', 'company', 'provider', 'network', 'no', 'maint', 'does', 'have', 'a', 'backup', 'yes', 'active', 'yes', 'contact', 'notified', 'remote', 'dialing', 'na', 'equipment', 'reset', 'na', 'working', 'yes', 'vendor', 'ticket', 'global', 'vendor', 'vendor', 'additional', 'diagnostics'], tags=['all_15936']),\n",
              " LabeledSentence(words=['plant', 'not', 'selected', 'i', 'had', 'notified', 'by', 'that', 'this', 'is', 'an', 'issue', 'apparel', 'hotly', 'the', 'plant', 'selected', 'during', 'execution', 'of', 'task', 'please', 'investigate', 'and', 'talk', 'to', 'for', 'my'], tags=['all_12932']),\n",
              " LabeledSentence(words=['for', 'company', 'guest', 'issue', 'in', 'it', 'please', 'kindly', 'help', 'resolve', 'this', 'ticket', 'again', 'very', 'slowly', 'advise', 'the', 'simple', 'to', 'fix', 'it', 'by', 'way', 'find', 'attached', 'package', 'office', 'that', 'domestic', 'international', 'about', 'pax', 'office', 'suggestion', 'if', 'need', 'change', 'i', 'can', 'check', 'other', 'with', 'local', 'provider', 'vendor'], tags=['all_14870']),\n",
              " LabeledSentence(words=['however', 'to', 'connect'], tags=['all_12556']),\n",
              " LabeledSentence(words=['business', 'client', 'does', 'not', 'open'], tags=['all_5772']),\n",
              " LabeledSentence(words=['engineering', 'easy', 'issue', 'received', 'from', 'dear', 'sir', 'i', 'had', 'new', 'system', 'last', 'week', 'there', 'was', 'no', 'tool', 'but', 'unable', 'to', 'see', 'my', 'old', 'kindly', 'resolve', 'best'], tags=['all_24007']),\n",
              " LabeledSentence(words=['town', 'hall', 'meeting', 'we', 'need', 'it', 'for', 'the', 'preparupion', 'of', 'our', 'technology', 'on', 'beginning', 'is', 'at', 'clock'], tags=['all_20001']),\n",
              " LabeledSentence(words=['not', 'working', 'in', 'wireless', 'issue', 'at', 'access', 'point', 'work', 'stoppage', 'issue', 'tried', 'calling', 'twice', 'warehouse', 'easy', 'mail', 'left', 'brief', 'message', 'again', 'able', 'to', 'reach'], tags=['all_19283']),\n",
              " LabeledSentence(words=['notebook', 'in', 'device', 'not', 'been', 'booking', 'despite', 'multiple', 'for', 'a', 'reset', 'or'], tags=['all_16434']),\n",
              " LabeledSentence(words=['unable', 'to', 'access', 'and', 'other', 'within', 'tool', 'one', 'time', 'time'], tags=['all_17679']),\n",
              " LabeledSentence(words=['when', 'unlocking', 'screen', 'will', 'be', 'come', 'back'], tags=['all_6519']),\n",
              " LabeledSentence(words=['need', 'file', 'from', 'that', 'sync', 'current', 'is', 'corrupt', 'and', 'not', 'working', 'server'], tags=['all_31024']),\n",
              " LabeledSentence(words=['office', 'pro', 'plus', 'got', 'corrupted', 'please', 'would', 'of', 'needful'], tags=['all_30829']),\n",
              " LabeledSentence(words=['end', 'and', 'month', 'billing', 'received', 'from', 'good', 'afternoon', 'i', 'am', 'unable', 'to', 'force', 'the', 'for', 'below', 'this', 'is', 'material', 'and', 'needs', 'tool', 'before', 'today', 'please', 'help'], tags=['all_20382']),\n",
              " LabeledSentence(words=['scanner', 'defeat', 'paternoster', 'bur', 'am', 'without'], tags=['all_23124']),\n",
              " LabeledSentence(words=['and', 'kiosk', 'ilk', 'path', 'but', 'am', 'order'], tags=['all_14308']),\n",
              " LabeledSentence(words=['chat', 'feature', 'for', 'german', 'language', 'is', 'not', 'workintog', 'please', 'check', 'if', 'this', 'related', 'to', 'the', 'possible', 'in', 'name', 'of', 'telephony', 'from', 'attached', 'error', 'works', 'normally'], tags=['all_28955']),\n",
              " LabeledSentence(words=['outlook', 'cannot', 'open', 'showing', 'that', 'it', 'cannot', 'create', 'a', 'the', 'dummy', 'protection', 'page', 'please', 'provide', 'of', 'the', 'issue', 'hi', 'my', 'computer', 'mailbox', 'be', 'can', 'you', 'help', 'me', 'thank', 'show', 'system', 'error', 'guard', 'share', 'your', 'with', 'me', 'id'], tags=['all_28528']),\n",
              " LabeledSentence(words=['unable', 'to', 'create', 'in', 'engineering', 'tool', 'name', 'telephone', 'summary', 'hello', 'i', 'have', 'with', 'my', 'engineering', 'it', 'is', 'impossible', 'a', 'new', 'customer'], tags=['all_1563']),\n",
              " LabeledSentence(words=['error', 'received', 'from', 'hello', 'it', 'team', 'was', 'in', 'but', 'its', 'record', 'number', 'is', 'could', 'you', 'find', 'the', 'serious', 'and', 'fix', 'it'], tags=['all_23455']),\n",
              " LabeledSentence(words=['are', 'available', 'at', 'delivery', 'plant', 'plant', 'but', 'order', 'cannot', 'get', 'confirmed', 'the', 'same', 'day', 'from', 'yesterday', 'we', 'found', 'that', 'some', 'can', 'only', 'be', 'in', 'day', 'with', 'entry', 'even', 'there', 'full', 'plant', 'got', 'many', 'to', 'have', 'them', 'manually', 'generate', 'for', 'their', 'here', 'example', 'hesitate', 'check'], tags=['all_23276']),\n",
              " LabeledSentence(words=['partial', 'confirmation', 'sent', 'to', 'but', 'machine', 'status', 'differently', 'olive', 'week', 'issue', 'on', 'order', 'work', 'center', 'operation', 'was', 'in', 'prior', 'mi', 'wont', 'allow', 'resume', 'run', 'from', 'post', 'prior', 'it', 'list', 'not', 'summary', 'start', 'process', 'current', 'time', 'and', 'that', 'is', 'what', 'were', 'seeing', 'meaning', 'did', 'send', 'information', 'did', 'not', 'used', 'the', 'same', 'for', 'view', 'so', 'summary', 'made', 'perfectly', 'fine', 'was', 'not', 'with', 'pause', 'as', 'if', 'never', 'example', 'location', 'status', 'looking', 'at', 'partially', 'confirmed', 'by', 'automatic', 'pause', 'which', 'change', 'log', 'all', 'were', 'done', 'its', 'weird', 'since', 'is', 'showing', 'provided', 'itself', 'does', 'make', 'sense', 'this', 'so', 'team', 'can', 'do', 'a', 'long', 'dive', 'come', 'up', 'solution'], tags=['all_10541']),\n",
              " LabeledSentence(words=['to', 'use', 'the', 'mail', 'that', 'outlook', 'is', 'also', 'already'], tags=['all_3969']),\n",
              " LabeledSentence(words=['outlook', 'cannot', 'log', 'in', 'and', 'it', 'showing', 'that', 'is', 'start'], tags=['all_21149']),\n",
              " LabeledSentence(words=['job', 'in', 'job', 'schedule', 'job', 'previously', 'from', 'at'], tags=['all_16131']),\n",
              " LabeledSentence(words=['cannot', 'find', 'in', 'telephony', 'i', 'as', 'well', 'telephony', 'had', 'access', 'until', 'last', 'week', 'and', 'possibly', 'on', 'so'], tags=['all_19176']),\n",
              " LabeledSentence(words=['drab', 'is', 'down', 'although', 'on'], tags=['all_11610']),\n",
              " LabeledSentence(words=['with', 'in', 'eu', 'utility'], tags=['all_16208']),\n",
              " LabeledSentence(words=['the', 'new', 's', 'is', 'not', 'got'], tags=['all_8453']),\n",
              " LabeledSentence(words=['install', 'collaboration', 'platform'], tags=['all_255']),\n",
              " LabeledSentence(words=['engineering', 'tool', 'drawing', 'in', 'format', 'are', 'not', 'shown', 'hello', 'it', 'service', 'i', 'need', 'to', 'monitor', 'the', 'approve', 'stopped', 'showing', 'procedure', 'production', 'order', 'interface', 'destination', 'production', 'order', 'interface', 'accessible', 'file', 'cannot', 'be', 'now', 'stack', 'trace', 'id', 'z', 'z', 'z', 'z', 'documentation', 'is', 'this', 'a', 'known', 'problem', 'when', 'will', 'fixed'], tags=['all_27196']),\n",
              " LabeledSentence(words=['error', 'automatically', 'doc', 'unavailable'], tags=['all_11833']),\n",
              " LabeledSentence(words=['previously', 'from', 'help', 'is', 'stuck', 'to', 'solve'], tags=['all_26737']),\n",
              " LabeledSentence(words=['sold', 'transfer', 'error', 'intercompany', 'tool', 'did', 'not', 'reverse', 'they', 'reversed', 'the', 'shipment', 'but', 'reverse', 'i', 'ran', 'billing', 'document', 'tables', 'and', 'do', 'see', 'reversal', 'there', 'either', 'see', 'attached'], tags=['all_24051']),\n",
              " LabeledSentence(words=['access', 'to', 'security', 'group', 'add', 'me', 'one', 'group'], tags=['all_26189']),\n",
              " LabeledSentence(words=['all', 'cannot', 'be', 'out', 'all', 'in', 'make', 'external'], tags=['all_4722']),\n",
              " LabeledSentence(words=['one', 'note', 'issue', 'file', 'not', 'getting', 'logged', 'out', 'and', 'trying', 'logging', 'in', 'back', 'no', 'go', 'checked', 'if', 'other', 'user', 'are', 'able', 'to', 'sync', 'with'], tags=['all_3235']),\n",
              " LabeledSentence(words=['pi', 'and', 'connectivity', 'problem', 'certificate', 'renewal', 'hi', 'all', 'we', 'have', 'a', 'issue', 'between', 'due', 'to', 'on', 'azure', 'that', 'is', 'not', 'yet', 'side', 'issue', 'data', 'area', 'data', 'partner', 'are', 'being', 'from', 'worked', 'with', 'it', 'vice', 'in', 'prod', 'dev', 'start', 'time', 'th', 'when', 'customer', 'master', 'team', 'the', 'prospect', 'account', 'did', 'not', 'come', 'into', 'still', 'status', 'which', 'basically', 'they', 'by', 'target', 'system', 'upon', 'some', 'log', 'analysis', 'trying', 'identify', 'root', 'cause', 'pi', 'basis', 'its', 'been', 'production', 'development', 'since', 'around', 'same', 'behavior', 'tool', 'of', 'other', 'nonproduction', 'as', 'well', 'you', 'can', 'find', 'error', 'system', 'mail', 'chain', 'cause', 'it', 'for', 'th', 'sept', 'expiration', 'date', 'th', 'but', 'new', 'they', 'even', 'aware', 'this', 'change', 'so', 'got', 'broken', 'next', 'need', 'chain', 'be', 'sent', 'so', 'update', 'whom', 'i', 'reach', 'out', 'do', 'an', 'house', 'or', 'want', 'me', 'open', 'case', 'once', 'received', 'maybe', 'first', 'then', 'confirmation', 'works', 'apply'], tags=['all_27621']),\n",
              " LabeledSentence(words=['cannot', 'pose', 'the', 'two', 'with', 'error', 'message', 'like', 'attachment', 'as', 'shown', 'when', 'i', 'this', 'po', 'give', 'profit', 'center', 'is', 'different', 'so', 'cannot', 'in', 'now', 'please', 'help', 'settle', 'them'], tags=['all_5244']),\n",
              " LabeledSentence(words=['up', 'fixing', 'unit', 'we'], tags=['all_7133']),\n",
              " LabeledSentence(words=['id', 'spelling', 'error', 'received', 'from', 'dear', 'there', 'is', 'a', 'correction', 'in', 'of', 'own', 'id', 'to', 'be', 'to', 'do', 'the', 'needful'], tags=['all_9836']),\n",
              " LabeledSentence(words=['r', 'indicator', 'is', 'missing', 'in', 'customer', 'open', 'feed', 'r', 'bill', 'of', 'exchange', 'part', 'request'], tags=['all_2234']),\n",
              " LabeledSentence(words=['upgrade', 'eel', 'first', 'consulting'], tags=['all_28311']),\n",
              " LabeledSentence(words=['confirmation', 'window', 'not', 'confirmed', 'in', 'default', 'field', 'as', 'per', 'my', 'understanding', 'mi', 'should', 'subtract', 'already', 'from', 'order', 'sufficient', 'screen', 'whenever', 'user', 'is', 'confirming', 'something', 'for', 'ex', 'a', 'piece', 'order', 'if', 'the', 'next', 'or', 'same', 'time', 'when', 'that', 'operation', 'be', 'but', 'its', 'original'], tags=['all_20990']),\n",
              " LabeledSentence(words=['bend', 'job', 'tax', 'interface', 'daily', 'tax', 'interface', 'daily'], tags=['all_1667']),\n",
              " LabeledSentence(words=['after', 'the', 'ie', 'browser', 'system', 'it', 'that', 'user', 'been', 'logged', 'out', 'and', 'cannot', 'log', 'in', 'to', 'system'], tags=['all_391']),\n",
              " LabeledSentence(words=['forward', 'recall', 'leaves', 'ref', 'received', 'from', 'dear', 'team', 'we', 'got', 'a', 'stock', 'notice', 'from', 'plant', 'need', 'to', 'be', 'returned', 'plant', 'just', 'for', 'this', 'request', 'but', 'only', 'help', 'run', 'out', 'the', 'rest', 'company'], tags=['all_8194']),\n",
              " LabeledSentence(words=['ticket', 'update', 'for', 'from', 'sent', 'august', 'am', 'to', 'subject', 'ticket', 'account', 'employee', 'good', 'morning', 'user', 'to', 'service', 'desk', 'and', 'expedite', 'the', 'issue', 'kindly', 'take', 'this', 'request', 'on', 'priority', 'assist', 'user', 'kind'], tags=['all_6228']),\n",
              " LabeledSentence(words=['with', 'received', 'from', 'hello', 'dear', 'i', 'cannot', 'start', 'always', 'comes', 'this', 'error', 'message', 'best'], tags=['all_1347']),\n",
              " LabeledSentence(words=['telephony', 'phone', 'issue', 'received', 'from', 'hello', 'it', 'yesterday', 'i', 'had', 'that', 'and', 'system', 'update', 'done', 'today', 'notice', 'that', 'it', 'a', 'yellow', 'icon', 'showing', 'am', 'on', 'but', 'not', 'not', 'can', 'you', 'please', 'assist', 'quickly'], tags=['all_23188']),\n",
              " LabeledSentence(words=['a', 'for', 'effective', 'been', 'hi'], tags=['all_18057']),\n",
              " LabeledSentence(words=['network', 'outage', 'facility', 'is', 'down', 'on', 'at', 'am', 'what', 'type', 'of', 'outage', 'x', 'network', 'circuit', 'power', 'please', 'specify', 'outage', 'top', 'site', 'no', 'when', 'did', 'it', 'start', 'maintenance', 'power', 'no', 'company', 'power', 'provider', 'network', 'no', 'maint', 'does', 'have', 'a', 'backup', 'circuit', 'no', 'active', 'no', 'contact', 'notified', 'remote', 'dialing', 'na', 'equipment', 'reset', 'working', 'no', 'vendor', 'ticket', 'global', 'vendor', 'vendor', 'additional', 'diagnostics'], tags=['all_3351']),\n",
              " LabeledSentence(words=['engineering', 'tool', 'new', 'customer', 'creation', 'please', 'refer', 'implant', 'received', 'from', 'hi', 'still', 'i', 'am', 'not', 'able', 'create', 'in', 'engineering', 'tool', 'resolve', 'the', 'at', 'bed', 'with', 'warm'], tags=['all_2062']),\n",
              " LabeledSentence(words=['issue', 'is', 'not', 'already', 'connect'], tags=['all_12172']),\n",
              " LabeledSentence(words=['eu', 'tool', 'very', 'slowly', 'in', 'the', 'plant', 'respond', 'can', 'no', 'longer', 'be', 'error', 'no', 'feedback', 'currently', 'eu', 'tool', 'error', 'error'], tags=['all_9189']),\n",
              " LabeledSentence(words=['shortly', 'logging', 'in', 'to', 'the', 'system', 'purchase', 'page', 'cannot', 'display', 'voucher', 'please', 'handle', 'it'], tags=['all_21160']),\n",
              " LabeledSentence(words=['configure', 'active', 'resource', 'in', 'is', 'down', 'since', 'am', 'on'], tags=['all_28476']),\n",
              " LabeledSentence(words=['for', 'error', 'send', 'tool', 'document', 'still', 'message', 'cannot', 'posting', 'in', 'code', 'is', 'about', 'po'], tags=['all_14986']),\n",
              " LabeledSentence(words=['unable', 'to', 'create', 'delivery', 'please', 'provide', 'the', 'following', 'what', 'eitherder', 'number', 'material', 'or', 'item', 'warehouse', 'location', 'plant', 'issue', 'description', 'error', 'message', 'nothing', 'no', 'message'], tags=['all_25744']),\n",
              " LabeledSentence(words=['access', 'issue', 'system', 'other', 'enter', 'user', 'id', 'of', 'the', 'issue', 'transaction', 'needs', 'or', 'was', 'working', 'with', 'describe', 'no', 'longer', 'active', 'for', 'reset', 'with', 'password', 'management', 'tool', 'all', 'but', 'as', 'active', 'please', 'allow', 'mi', 'if', 'you', 'are', 'getting', 'a', 'not', 'authorized', 'message', 'recreate', 'condition', 'then', 'do', 'as', 'attach', 'result', 'to', 'ticketing', 'tool', 'ticket', 'provide', 'same', 'this', 'user'], tags=['all_21923']),\n",
              " LabeledSentence(words=['not', 'can', 'to', 'login', 'ethics'], tags=['all_17232']),\n",
              " ...]"
            ]
          },
          "metadata": {
            "tags": []
          },
          "execution_count": 16
        }
      ]
    },
    {
      "cell_type": "markdown",
      "metadata": {
        "id": "0cJ4rEXhw7sb"
      },
      "source": [
        "## DBOW"
      ]
    },
    {
      "cell_type": "code",
      "metadata": {
        "colab": {
          "base_uri": "https://localhost:8080/"
        },
        "id": "fEvB1Yq1w7sb",
        "outputId": "863ca749-6b62-4470-8d4d-c979d69c126c"
      },
      "source": [
        "model_ug_dbow = Doc2Vec(dm=0, size=100, negative=5, min_count=2, workers=16, alpha=0.065, min_alpha=0.065)\n",
        "model_ug_dbow.build_vocab([x for x in tqdm(all_x_w2v)])"
      ],
      "execution_count": 17,
      "outputs": [
        {
          "output_type": "stream",
          "text": [
            "/usr/local/lib/python3.6/dist-packages/gensim/models/doc2vec.py:570: UserWarning: The parameter `size` is deprecated, will be removed in 4.0.0, use `vector_size` instead.\n",
            "  warnings.warn(\"The parameter `size` is deprecated, will be removed in 4.0.0, use `vector_size` instead.\")\n",
            "100%|██████████| 31221/31221 [00:00<00:00, 2500150.16it/s]\n"
          ],
          "name": "stderr"
        }
      ]
    },
    {
      "cell_type": "markdown",
      "metadata": {
        "id": "pXaQK81ew7sb"
      },
      "source": [
        "According to the developer Radim Řehůřek who created Gensim,\n",
        "\"One caveat of the way this algorithm runs is that, since the learning rate decrease over the course of iterating over the data, labels which are only seen in a single LabeledSentence during training will only be trained with a fixed learning rate. This frequently produces less than optimal results.\"\n",
        "\n",
        "Below iteration implement explicit multiple-pass, alpha-reduction approach with added shuffling. This has been already presented in Gensim's IMDB tutorial."
      ]
    },
    {
      "cell_type": "code",
      "metadata": {
        "colab": {
          "base_uri": "https://localhost:8080/"
        },
        "id": "a5y7FDprw7sb",
        "outputId": "0af3af37-f4ed-4593-bdd2-ee1916dad284"
      },
      "source": [
        "%%time\n",
        "for epoch in range(30):\n",
        "    model_ug_dbow.train(utils.shuffle([x for x in tqdm(all_x_w2v)]), total_examples=len(all_x_w2v), epochs=1)\n",
        "    model_ug_dbow.alpha -= 0.002\n",
        "    model_ug_dbow.min_alpha = model_ug_dbow.alpha"
      ],
      "execution_count": 18,
      "outputs": [
        {
          "output_type": "stream",
          "text": [
            "100%|██████████| 31221/31221 [00:00<00:00, 2773608.23it/s]\n",
            "100%|██████████| 31221/31221 [00:00<00:00, 1857689.14it/s]\n",
            "100%|██████████| 31221/31221 [00:00<00:00, 2866501.00it/s]\n",
            "100%|██████████| 31221/31221 [00:00<00:00, 2945286.10it/s]\n",
            "100%|██████████| 31221/31221 [00:00<00:00, 2602921.25it/s]\n",
            "100%|██████████| 31221/31221 [00:00<00:00, 2890545.11it/s]\n",
            "100%|██████████| 31221/31221 [00:00<00:00, 2878852.53it/s]\n",
            "100%|██████████| 31221/31221 [00:00<00:00, 3154138.43it/s]\n",
            "100%|██████████| 31221/31221 [00:00<00:00, 3162059.38it/s]\n",
            "100%|██████████| 31221/31221 [00:00<00:00, 3086341.07it/s]\n",
            "100%|██████████| 31221/31221 [00:00<00:00, 3197967.30it/s]\n",
            "100%|██████████| 31221/31221 [00:00<00:00, 3072365.57it/s]\n",
            "100%|██████████| 31221/31221 [00:00<00:00, 2916359.30it/s]\n",
            "100%|██████████| 31221/31221 [00:00<00:00, 3306743.90it/s]\n",
            "100%|██████████| 31221/31221 [00:00<00:00, 2694285.64it/s]\n",
            "100%|██████████| 31221/31221 [00:00<00:00, 2234495.34it/s]\n",
            "100%|██████████| 31221/31221 [00:00<00:00, 3176941.83it/s]\n",
            "100%|██████████| 31221/31221 [00:00<00:00, 3363566.35it/s]\n",
            "100%|██████████| 31221/31221 [00:00<00:00, 3169943.48it/s]\n",
            "100%|██████████| 31221/31221 [00:00<00:00, 2957592.49it/s]\n",
            "100%|██████████| 31221/31221 [00:00<00:00, 2662133.87it/s]\n",
            "100%|██████████| 31221/31221 [00:00<00:00, 2677155.11it/s]\n",
            "100%|██████████| 31221/31221 [00:00<00:00, 2879548.89it/s]\n",
            "100%|██████████| 31221/31221 [00:00<00:00, 3293023.32it/s]\n",
            "100%|██████████| 31221/31221 [00:00<00:00, 2797307.70it/s]\n",
            "100%|██████████| 31221/31221 [00:00<00:00, 3326230.41it/s]\n",
            "100%|██████████| 31221/31221 [00:00<00:00, 3209489.11it/s]\n",
            "100%|██████████| 31221/31221 [00:00<00:00, 2847056.53it/s]\n",
            "100%|██████████| 31221/31221 [00:00<00:00, 3183042.42it/s]\n",
            "100%|██████████| 31221/31221 [00:00<00:00, 2894506.43it/s]\n"
          ],
          "name": "stderr"
        },
        {
          "output_type": "stream",
          "text": [
            "CPU times: user 1min 21s, sys: 20.8 s, total: 1min 41s\n",
            "Wall time: 1min 8s\n"
          ],
          "name": "stdout"
        }
      ]
    },
    {
      "cell_type": "code",
      "metadata": {
        "id": "7VfayLMMw7sc"
      },
      "source": [
        "def get_vectors(model, corpus, size):\n",
        "    vecs = np.zeros((len(corpus), size))\n",
        "    n = 0\n",
        "    for i in corpus.index:\n",
        "        prefix = 'all_' + str(i)\n",
        "        vecs[n] = model.docvecs[prefix]\n",
        "        n += 1\n",
        "    return vecs"
      ],
      "execution_count": 19,
      "outputs": []
    },
    {
      "cell_type": "code",
      "metadata": {
        "id": "mewbgsfAw7sc"
      },
      "source": [
        "train_vecs_dbow = get_vectors(model_ug_dbow, x_train, 100)\n",
        "validation_vecs_dbow = get_vectors(model_ug_dbow, x_validation, 100)"
      ],
      "execution_count": 20,
      "outputs": []
    },
    {
      "cell_type": "code",
      "metadata": {
        "id": "mkBxsI8Zw7sd"
      },
      "source": [
        "model_ug_dbow.save('drive/MyDrive/grams/d2v_model_ug_dbow.doc2vec')\n",
        "model_ug_dbow = Doc2Vec.load('drive/MyDrive/grams/d2v_model_ug_dbow.doc2vec')"
      ],
      "execution_count": 21,
      "outputs": []
    },
    {
      "cell_type": "code",
      "metadata": {
        "id": "xd6W2VxUw7sd"
      },
      "source": [
        "model_ug_dbow.delete_temporary_training_data(keep_doctags_vectors=True, keep_inference=True)"
      ],
      "execution_count": 22,
      "outputs": []
    },
    {
      "cell_type": "markdown",
      "metadata": {
        "id": "JDl5SG-iw7sd"
      },
      "source": [
        "## Distributed Memory (concatenated)"
      ]
    },
    {
      "cell_type": "code",
      "metadata": {
        "colab": {
          "base_uri": "https://localhost:8080/"
        },
        "id": "0ynxsYO_w7sd",
        "outputId": "16a2e782-b9c0-4e8b-bb94-5a6183da1e97"
      },
      "source": [
        "cores = multiprocessing.cpu_count()\n",
        "model_ug_dmc = Doc2Vec(dm=1, dm_concat=1, size=100, window=2, negative=5, min_count=2, workers=cores, alpha=0.065, min_alpha=0.065)\n",
        "model_ug_dmc.build_vocab([x for x in tqdm(all_x_w2v)])"
      ],
      "execution_count": 23,
      "outputs": [
        {
          "output_type": "stream",
          "text": [
            "/usr/local/lib/python3.6/dist-packages/gensim/models/doc2vec.py:570: UserWarning: The parameter `size` is deprecated, will be removed in 4.0.0, use `vector_size` instead.\n",
            "  warnings.warn(\"The parameter `size` is deprecated, will be removed in 4.0.0, use `vector_size` instead.\")\n",
            "100%|██████████| 31221/31221 [00:00<00:00, 2326393.53it/s]\n"
          ],
          "name": "stderr"
        }
      ]
    },
    {
      "cell_type": "code",
      "metadata": {
        "colab": {
          "base_uri": "https://localhost:8080/"
        },
        "id": "uZSziimSw7sd",
        "outputId": "8e00faba-344e-4f1a-81a1-bd51c6693de3"
      },
      "source": [
        "%%time\n",
        "for epoch in range(30):\n",
        "    model_ug_dmc.train(utils.shuffle([x for x in tqdm(all_x_w2v)]), total_examples=len(all_x_w2v), epochs=1)\n",
        "    model_ug_dmc.alpha -= 0.002\n",
        "    model_ug_dmc.min_alpha = model_ug_dmc.alpha"
      ],
      "execution_count": 24,
      "outputs": [
        {
          "output_type": "stream",
          "text": [
            "100%|██████████| 31221/31221 [00:00<00:00, 2890672.73it/s]\n",
            "100%|██████████| 31221/31221 [00:00<00:00, 2760685.69it/s]\n",
            "100%|██████████| 31221/31221 [00:00<00:00, 3419426.71it/s]\n",
            "100%|██████████| 31221/31221 [00:00<00:00, 3281141.70it/s]\n",
            "100%|██████████| 31221/31221 [00:00<00:00, 3103089.22it/s]\n",
            "100%|██████████| 31221/31221 [00:00<00:00, 3130911.30it/s]\n",
            "100%|██████████| 31221/31221 [00:00<00:00, 3192665.43it/s]\n",
            "100%|██████████| 31221/31221 [00:00<00:00, 3413187.85it/s]\n",
            "100%|██████████| 31221/31221 [00:00<00:00, 2763423.83it/s]\n",
            "100%|██████████| 31221/31221 [00:00<00:00, 3349114.20it/s]\n",
            "100%|██████████| 31221/31221 [00:00<00:00, 3310756.84it/s]\n",
            "100%|██████████| 31221/31221 [00:00<00:00, 2195569.73it/s]\n",
            "100%|██████████| 31221/31221 [00:00<00:00, 3316542.53it/s]\n",
            "100%|██████████| 31221/31221 [00:00<00:00, 3057230.76it/s]\n",
            "100%|██████████| 31221/31221 [00:00<00:00, 3358648.98it/s]\n",
            "100%|██████████| 31221/31221 [00:00<00:00, 3160304.21it/s]\n",
            "100%|██████████| 31221/31221 [00:00<00:00, 3144745.93it/s]\n",
            "100%|██████████| 31221/31221 [00:00<00:00, 3280648.49it/s]\n",
            "100%|██████████| 31221/31221 [00:00<00:00, 3376401.74it/s]\n",
            "100%|██████████| 31221/31221 [00:00<00:00, 2979123.79it/s]\n",
            "100%|██████████| 31221/31221 [00:00<00:00, 3259904.54it/s]\n",
            "100%|██████████| 31221/31221 [00:00<00:00, 3002002.82it/s]\n",
            "100%|██████████| 31221/31221 [00:00<00:00, 3282046.30it/s]\n",
            "100%|██████████| 31221/31221 [00:00<00:00, 3136385.45it/s]\n",
            "100%|██████████| 31221/31221 [00:00<00:00, 3331646.49it/s]\n",
            "100%|██████████| 31221/31221 [00:00<00:00, 2250354.27it/s]\n",
            "100%|██████████| 31221/31221 [00:00<00:00, 2702291.94it/s]\n",
            "100%|██████████| 31221/31221 [00:00<00:00, 3461731.13it/s]\n",
            "100%|██████████| 31221/31221 [00:00<00:00, 3267713.86it/s]\n",
            "100%|██████████| 31221/31221 [00:00<00:00, 3404934.22it/s]\n"
          ],
          "name": "stderr"
        },
        {
          "output_type": "stream",
          "text": [
            "CPU times: user 1min 36s, sys: 20.5 s, total: 1min 57s\n",
            "Wall time: 1min 10s\n"
          ],
          "name": "stdout"
        }
      ]
    },
    {
      "cell_type": "code",
      "metadata": {
        "id": "ItqqRxiFw7sd"
      },
      "source": [
        "#model_ug_dmc = Doc2Vec.load('d2v_model_ug_dmc.doc2vec')\n"
      ],
      "execution_count": 25,
      "outputs": []
    },
    {
      "cell_type": "markdown",
      "metadata": {
        "id": "_oaxgtfcw7se"
      },
      "source": [
        "What's nice about Doc2Vec is that after training you can retrieve not only document vectors but also individual word vectors as well. Note, however, that a Doc2Vec DBOW model doesn't learn semantic word vectors, so the word vectors you retrieve from pure DBOW model will be the automatic randomly-initialized vectors, with no meaning.\n",
        "But with DM model, you can see the semantic relationship between words. Let's see what word vectors it has learned through training."
      ]
    },
    {
      "cell_type": "code",
      "metadata": {
        "colab": {
          "base_uri": "https://localhost:8080/"
        },
        "id": "If_gI7C_w7se",
        "outputId": "aa7991d5-5469-4f27-cc21-fb8498a6dded"
      },
      "source": [
        "model_ug_dmc.most_similar('good')"
      ],
      "execution_count": 26,
      "outputs": [
        {
          "output_type": "stream",
          "text": [
            "/usr/local/lib/python3.6/dist-packages/ipykernel_launcher.py:1: DeprecationWarning: Call to deprecated `most_similar` (Method will be removed in 4.0.0, use self.wv.most_similar() instead).\n",
            "  \"\"\"Entry point for launching an IPython kernel.\n"
          ],
          "name": "stderr"
        },
        {
          "output_type": "execute_result",
          "data": {
            "text/plain": [
              "[('junior', 0.491259902715683),\n",
              " ('sat', 0.4508027136325836),\n",
              " ('ing', 0.44696593284606934),\n",
              " ('manufacturer', 0.4345010221004486),\n",
              " ('lager', 0.4337943196296692),\n",
              " ('disclosure', 0.4291103184223175),\n",
              " ('nice', 0.4235606789588928),\n",
              " ('very', 0.4154806137084961),\n",
              " ('disclaimer', 0.41353639960289),\n",
              " ('invisible', 0.4123472571372986)]"
            ]
          },
          "metadata": {
            "tags": []
          },
          "execution_count": 26
        }
      ]
    },
    {
      "cell_type": "code",
      "metadata": {
        "colab": {
          "base_uri": "https://localhost:8080/"
        },
        "id": "xhbOab8Sw7se",
        "outputId": "6631ddc5-4630-4e87-f4ab-324f77dd2842"
      },
      "source": [
        "model_ug_dmc.most_similar('network')"
      ],
      "execution_count": 27,
      "outputs": [
        {
          "output_type": "stream",
          "text": [
            "/usr/local/lib/python3.6/dist-packages/ipykernel_launcher.py:1: DeprecationWarning: Call to deprecated `most_similar` (Method will be removed in 4.0.0, use self.wv.most_similar() instead).\n",
            "  \"\"\"Entry point for launching an IPython kernel.\n"
          ],
          "name": "stderr"
        },
        {
          "output_type": "execute_result",
          "data": {
            "text/plain": [
              "[('legible', 0.5348900556564331),\n",
              " ('handset', 0.4800885319709778),\n",
              " ('rule', 0.4411355257034302),\n",
              " ('dysfunction', 0.4374611973762512),\n",
              " ('lax', 0.4192846715450287),\n",
              " ('hinge', 0.4189576506614685),\n",
              " ('wide', 0.41748541593551636),\n",
              " ('safari', 0.41681185364723206),\n",
              " ('pinto', 0.4105898141860962),\n",
              " ('relation', 0.41009968519210815)]"
            ]
          },
          "metadata": {
            "tags": []
          },
          "execution_count": 27
        }
      ]
    },
    {
      "cell_type": "markdown",
      "metadata": {
        "id": "Ad8omgBTw7se"
      },
      "source": [
        "What's interesting with DMC model is, somehow it learned all the misspelled version of a word as you can see from the above."
      ]
    },
    {
      "cell_type": "code",
      "metadata": {
        "colab": {
          "base_uri": "https://localhost:8080/"
        },
        "id": "5kJJJXnQw7se",
        "outputId": "063fb734-d506-4511-aa4b-6ec2244cba8c"
      },
      "source": [
        "model_ug_dmc.most_similar('password')"
      ],
      "execution_count": 28,
      "outputs": [
        {
          "output_type": "stream",
          "text": [
            "/usr/local/lib/python3.6/dist-packages/ipykernel_launcher.py:1: DeprecationWarning: Call to deprecated `most_similar` (Method will be removed in 4.0.0, use self.wv.most_similar() instead).\n",
            "  \"\"\"Entry point for launching an IPython kernel.\n"
          ],
          "name": "stderr"
        },
        {
          "output_type": "execute_result",
          "data": {
            "text/plain": [
              "[('channel', 0.4487878084182739),\n",
              " ('horn', 0.4487346410751343),\n",
              " ('dontn', 0.44108498096466064),\n",
              " ('territory', 0.4358769655227661),\n",
              " ('authentication', 0.4269042909145355),\n",
              " ('icon', 0.4264853894710541),\n",
              " ('position', 0.41582393646240234),\n",
              " ('strategic', 0.4135769009590149),\n",
              " ('superior', 0.41146111488342285),\n",
              " ('volunteer', 0.4113551676273346)]"
            ]
          },
          "metadata": {
            "tags": []
          },
          "execution_count": 28
        }
      ]
    },
    {
      "cell_type": "code",
      "metadata": {
        "colab": {
          "base_uri": "https://localhost:8080/"
        },
        "id": "KFrWM9mXw7se",
        "outputId": "98366c04-4cda-407a-adee-21824de11b0e"
      },
      "source": [
        "model_ug_dmc.most_similar(positive=['bigger', 'small'], negative=['big'])"
      ],
      "execution_count": 29,
      "outputs": [
        {
          "output_type": "stream",
          "text": [
            "/usr/local/lib/python3.6/dist-packages/ipykernel_launcher.py:1: DeprecationWarning: Call to deprecated `most_similar` (Method will be removed in 4.0.0, use self.wv.most_similar() instead).\n",
            "  \"\"\"Entry point for launching an IPython kernel.\n"
          ],
          "name": "stderr"
        },
        {
          "output_type": "execute_result",
          "data": {
            "text/plain": [
              "[('unchecked', 0.4143447279930115),\n",
              " ('withoutt', 0.37840044498443604),\n",
              " ('month', 0.36784881353378296),\n",
              " ('born', 0.3533393144607544),\n",
              " ('cube', 0.3420335650444031),\n",
              " ('noise', 0.34176474809646606),\n",
              " ('thrown', 0.33091843128204346),\n",
              " ('eagle', 0.32761725783348083),\n",
              " ('going', 0.3256050944328308),\n",
              " ('deduction', 0.3244948983192444)]"
            ]
          },
          "metadata": {
            "tags": []
          },
          "execution_count": 29
        }
      ]
    },
    {
      "cell_type": "markdown",
      "metadata": {
        "id": "pu7yqJ32w7sf"
      },
      "source": [
        "The model successfully catches the comparative form of \"small\", on feeding the word \"big\" and \"bigger\". The above line of code is like asking the model to add the vectors associated with the word \"bigger\" and \"small\" while subtracting \"big\" is equal to the top result, \"smaller\"."
      ]
    },
    {
      "cell_type": "code",
      "metadata": {
        "id": "aw3_ZlI-w7sf"
      },
      "source": [
        "train_vecs_dmc = get_vectors(model_ug_dmc, x_train, 100)\n",
        "validation_vecs_dmc = get_vectors(model_ug_dmc, x_validation, 100)"
      ],
      "execution_count": 30,
      "outputs": []
    },
    {
      "cell_type": "code",
      "metadata": {
        "id": "PxtfdwkYw7sf"
      },
      "source": [
        "model_ug_dmc.save('drive/MyDrive/grams/d2v_model_ug_dmc.doc2vec')\n",
        "model_ug_dmc = Doc2Vec.load('drive/MyDrive/grams/d2v_model_ug_dmc.doc2vec')\n",
        "model_ug_dmc.delete_temporary_training_data(keep_doctags_vectors=True, keep_inference=True)"
      ],
      "execution_count": 31,
      "outputs": []
    },
    {
      "cell_type": "markdown",
      "metadata": {
        "id": "UcK1h1YUw7sf"
      },
      "source": [
        "## Distributed Memory (mean)"
      ]
    },
    {
      "cell_type": "code",
      "metadata": {
        "colab": {
          "base_uri": "https://localhost:8080/"
        },
        "id": "s60nvTVZw7sg",
        "outputId": "53982d3d-bec7-476a-96b5-d79eadebcea8"
      },
      "source": [
        "cores = multiprocessing.cpu_count()\n",
        "model_ug_dmm = Doc2Vec(dm=1, dm_mean=1, size=100, window=4, negative=5, min_count=2, workers=cores, alpha=0.065, min_alpha=0.065)\n",
        "model_ug_dmm.build_vocab([x for x in tqdm(all_x_w2v)])"
      ],
      "execution_count": 32,
      "outputs": [
        {
          "output_type": "stream",
          "text": [
            "/usr/local/lib/python3.6/dist-packages/gensim/models/doc2vec.py:570: UserWarning: The parameter `size` is deprecated, will be removed in 4.0.0, use `vector_size` instead.\n",
            "  warnings.warn(\"The parameter `size` is deprecated, will be removed in 4.0.0, use `vector_size` instead.\")\n",
            "100%|██████████| 31221/31221 [00:00<00:00, 2881830.22it/s]\n"
          ],
          "name": "stderr"
        }
      ]
    },
    {
      "cell_type": "code",
      "metadata": {
        "colab": {
          "base_uri": "https://localhost:8080/"
        },
        "id": "4uOTKS6_w7sg",
        "outputId": "d291240c-44f1-4ba2-934a-b2e860b84faf"
      },
      "source": [
        "%%time\n",
        "for epoch in range(30):\n",
        "    model_ug_dmm.train(utils.shuffle([x for x in tqdm(all_x_w2v)]), total_examples=len(all_x_w2v), epochs=1)\n",
        "    model_ug_dmm.alpha -= 0.002\n",
        "    model_ug_dmm.min_alpha = model_ug_dmm.alpha"
      ],
      "execution_count": 33,
      "outputs": [
        {
          "output_type": "stream",
          "text": [
            "100%|██████████| 31221/31221 [00:00<00:00, 2754704.02it/s]\n",
            "100%|██████████| 31221/31221 [00:00<00:00, 3219668.70it/s]\n",
            "100%|██████████| 31221/31221 [00:00<00:00, 3287319.32it/s]\n",
            "100%|██████████| 31221/31221 [00:00<00:00, 2972699.03it/s]\n",
            "100%|██████████| 31221/31221 [00:00<00:00, 3232145.26it/s]\n",
            "100%|██████████| 31221/31221 [00:00<00:00, 3162059.38it/s]\n",
            "100%|██████████| 31221/31221 [00:00<00:00, 3181263.88it/s]\n",
            "100%|██████████| 31221/31221 [00:00<00:00, 2904843.95it/s]\n",
            "100%|██████████| 31221/31221 [00:00<00:00, 3304574.28it/s]\n",
            "100%|██████████| 31221/31221 [00:00<00:00, 3556307.78it/s]\n",
            "100%|██████████| 31221/31221 [00:00<00:00, 3294348.81it/s]\n",
            "100%|██████████| 31221/31221 [00:00<00:00, 2610549.12it/s]\n",
            "100%|██████████| 31221/31221 [00:00<00:00, 3042880.57it/s]\n",
            "100%|██████████| 31221/31221 [00:00<00:00, 3058730.38it/s]\n",
            "100%|██████████| 31221/31221 [00:00<00:00, 3366160.23it/s]\n",
            "100%|██████████| 31221/31221 [00:00<00:00, 3082998.59it/s]\n",
            "100%|██████████| 31221/31221 [00:00<00:00, 3091733.33it/s]\n",
            "100%|██████████| 31221/31221 [00:00<00:00, 3547828.91it/s]\n",
            "100%|██████████| 31221/31221 [00:00<00:00, 3082780.86it/s]\n",
            "100%|██████████| 31221/31221 [00:00<00:00, 2242800.03it/s]\n",
            "100%|██████████| 31221/31221 [00:00<00:00, 3396191.85it/s]\n",
            "100%|██████████| 31221/31221 [00:00<00:00, 2997398.95it/s]\n",
            "100%|██████████| 31221/31221 [00:00<00:00, 2830563.63it/s]\n",
            "100%|██████████| 31221/31221 [00:00<00:00, 3206188.70it/s]\n",
            "100%|██████████| 31221/31221 [00:00<00:00, 3080822.61it/s]\n",
            "100%|██████████| 31221/31221 [00:00<00:00, 2939270.18it/s]\n",
            "100%|██████████| 31221/31221 [00:00<00:00, 3200390.18it/s]\n",
            "100%|██████████| 31221/31221 [00:00<00:00, 3452148.93it/s]\n",
            "100%|██████████| 31221/31221 [00:00<00:00, 2816015.77it/s]\n",
            "100%|██████████| 31221/31221 [00:00<00:00, 3125530.83it/s]\n"
          ],
          "name": "stderr"
        },
        {
          "output_type": "stream",
          "text": [
            "CPU times: user 2min 47s, sys: 58.8 s, total: 3min 46s\n",
            "Wall time: 2min 24s\n"
          ],
          "name": "stdout"
        }
      ]
    },
    {
      "cell_type": "code",
      "metadata": {
        "colab": {
          "base_uri": "https://localhost:8080/"
        },
        "id": "JBgIodiSw7sg",
        "outputId": "7dcdac06-c11a-43f0-e20a-4e911a5a7dac"
      },
      "source": [
        "model_ug_dmm.most_similar('schedule')"
      ],
      "execution_count": 34,
      "outputs": [
        {
          "output_type": "stream",
          "text": [
            "/usr/local/lib/python3.6/dist-packages/ipykernel_launcher.py:1: DeprecationWarning: Call to deprecated `most_similar` (Method will be removed in 4.0.0, use self.wv.most_similar() instead).\n",
            "  \"\"\"Entry point for launching an IPython kernel.\n"
          ],
          "name": "stderr"
        },
        {
          "output_type": "execute_result",
          "data": {
            "text/plain": [
              "[('resume', 0.7398463487625122),\n",
              " ('regular', 0.4824410676956177),\n",
              " ('job', 0.47197118401527405),\n",
              " ('next', 0.4716149866580963),\n",
              " ('ceremony', 0.43296703696250916),\n",
              " ('arc', 0.4035019278526306),\n",
              " ('addregardingss', 0.3887211084365845),\n",
              " ('notch', 0.36462920904159546),\n",
              " ('sar', 0.3590860366821289),\n",
              " ('plugged', 0.3468841314315796)]"
            ]
          },
          "metadata": {
            "tags": []
          },
          "execution_count": 34
        }
      ]
    },
    {
      "cell_type": "code",
      "metadata": {
        "colab": {
          "base_uri": "https://localhost:8080/"
        },
        "id": "PLEoCYdiw7sg",
        "outputId": "9490be97-6490-4d79-a5ff-7db0cab6de07"
      },
      "source": [
        "model_ug_dmc.most_similar('network')"
      ],
      "execution_count": 35,
      "outputs": [
        {
          "output_type": "stream",
          "text": [
            "/usr/local/lib/python3.6/dist-packages/ipykernel_launcher.py:1: DeprecationWarning: Call to deprecated `most_similar` (Method will be removed in 4.0.0, use self.wv.most_similar() instead).\n",
            "  \"\"\"Entry point for launching an IPython kernel.\n"
          ],
          "name": "stderr"
        },
        {
          "output_type": "execute_result",
          "data": {
            "text/plain": [
              "[('legible', 0.5348900556564331),\n",
              " ('handset', 0.4800885319709778),\n",
              " ('rule', 0.4411355257034302),\n",
              " ('dysfunction', 0.4374611973762512),\n",
              " ('lax', 0.4192846715450287),\n",
              " ('hinge', 0.4189576506614685),\n",
              " ('wide', 0.41748541593551636),\n",
              " ('safari', 0.41681185364723206),\n",
              " ('pinto', 0.4105898141860962),\n",
              " ('relation', 0.41009968519210815)]"
            ]
          },
          "metadata": {
            "tags": []
          },
          "execution_count": 35
        }
      ]
    },
    {
      "cell_type": "code",
      "metadata": {
        "id": "9zEy300_w7sg"
      },
      "source": [
        "train_vecs_dmm = get_vectors(model_ug_dmm, x_train, 100)\n",
        "validation_vecs_dmm = get_vectors(model_ug_dmm, x_validation, 100)"
      ],
      "execution_count": 36,
      "outputs": []
    },
    {
      "cell_type": "code",
      "metadata": {
        "id": "c1h1xu_rw7sg"
      },
      "source": [
        "model_ug_dmm.save('drive/MyDrive/grams/d2v_model_ug_dmm.doc2vec')\n",
        "model_ug_dmm = Doc2Vec.load('drive/MyDrive/grams/d2v_model_ug_dmm.doc2vec')\n",
        "model_ug_dmm.delete_temporary_training_data(keep_doctags_vectors=True, keep_inference=True)"
      ],
      "execution_count": 37,
      "outputs": []
    },
    {
      "cell_type": "markdown",
      "metadata": {
        "collapsed": true,
        "id": "Smk6tMy1w7sh"
      },
      "source": [
        "Since I have the document vectors from four different models, now I can concatenate them in combination to see how it affects the performance. Below I defined a simple function to concatenate document vectors from different models."
      ]
    },
    {
      "cell_type": "code",
      "metadata": {
        "id": "ZsIAguPKw7sh"
      },
      "source": [
        "def get_concat_vectors(model1,model2, corpus, size):\n",
        "    vecs = np.zeros((len(corpus), size))\n",
        "    n = 0\n",
        "    for i in corpus.index:\n",
        "        prefix = 'all_' + str(i)\n",
        "        vecs[n] = np.append(model1.docvecs[prefix],model2.docvecs[prefix])\n",
        "        n += 1\n",
        "    return vecs"
      ],
      "execution_count": 38,
      "outputs": []
    },
    {
      "cell_type": "code",
      "metadata": {
        "id": "I4E1AOgbw7sh"
      },
      "source": [
        "train_vecs_dbow_dmc = get_concat_vectors(model_ug_dbow,model_ug_dmc, x_train, 200)\n",
        "validation_vecs_dbow_dmc = get_concat_vectors(model_ug_dbow,model_ug_dmc, x_validation, 200)"
      ],
      "execution_count": 39,
      "outputs": []
    },
    {
      "cell_type": "code",
      "metadata": {
        "id": "NQrEVGGpw7sh"
      },
      "source": [
        "train_vecs_dbow_dmm = get_concat_vectors(model_ug_dbow,model_ug_dmm, x_train, 200)\n",
        "validation_vecs_dbow_dmm = get_concat_vectors(model_ug_dbow,model_ug_dmm, x_validation, 200)"
      ],
      "execution_count": 40,
      "outputs": []
    },
    {
      "cell_type": "markdown",
      "metadata": {
        "id": "5YQh1kBAw7sh"
      },
      "source": [
        "In case of unigram, concatenating document vectors in different combination boosted the model performance. The best validation accuracy I got from a single model is from DBOW at 73.89%. With concatenated vectors, I get the highest validation accuracy of 75.51% with DBOW+DMM model."
      ]
    },
    {
      "cell_type": "code",
      "metadata": {
        "id": "EaV3HxUzw7si"
      },
      "source": [
        "from gensim.models.phrases import Phrases\r\n",
        "from gensim.models.phrases import Phraser"
      ],
      "execution_count": 41,
      "outputs": []
    },
    {
      "cell_type": "code",
      "metadata": {
        "id": "kS1Wr82vw7si"
      },
      "source": [
        "tokenized_train = [t.split() for t in x_train]"
      ],
      "execution_count": 42,
      "outputs": []
    },
    {
      "cell_type": "code",
      "metadata": {
        "id": "vzu8PTR4w7si",
        "colab": {
          "base_uri": "https://localhost:8080/"
        },
        "outputId": "825fb395-9fa0-4745-e91c-6f9635b535bf"
      },
      "source": [
        "%%time\r\n",
        "phrases = Phrases(tokenized_train)\r\n",
        "bigram = Phraser(phrases)"
      ],
      "execution_count": 43,
      "outputs": [
        {
          "output_type": "stream",
          "text": [
            "CPU times: user 1.45 s, sys: 0 ns, total: 1.45 s\n",
            "Wall time: 1.45 s\n"
          ],
          "name": "stdout"
        }
      ]
    },
    {
      "cell_type": "code",
      "metadata": {
        "colab": {
          "base_uri": "https://localhost:8080/"
        },
        "id": "xkOXXq0BjZN6",
        "outputId": "708a080b-0c0f-4e96-c02f-8e2d07c47f98"
      },
      "source": [
        "sent = [u'the', u'mayor', u'of', u'new', u'york', u'was', u'there']\r\n",
        "print(bigram[sent])"
      ],
      "execution_count": 44,
      "outputs": [
        {
          "output_type": "stream",
          "text": [
            "['the', 'mayor', 'of', 'new', 'york', 'was', 'there']\n"
          ],
          "name": "stdout"
        }
      ]
    },
    {
      "cell_type": "code",
      "metadata": {
        "colab": {
          "base_uri": "https://localhost:8080/"
        },
        "id": "DUb0Jt3eFuF_",
        "outputId": "297e5652-4fec-4c8d-fdbb-ad7467a6174e"
      },
      "source": [
        "x_train"
      ],
      "execution_count": 45,
      "outputs": [
        {
          "output_type": "execute_result",
          "data": {
            "text/plain": [
              "2374     metal cutting technology company hi team i hav...\n",
              "20297    office is not defined for area when we new ord...\n",
              "2086     unable to access engineering tool received fro...\n",
              "1712     unable to share screen language explorer custo...\n",
              "29506                          trigger making need rate th\n",
              "                               ...                        \n",
              "1590     account is received from so the could you exte...\n",
              "4045     mobile device activation personally s in to ge...\n",
              "29902    access to for no longer he needs access please...\n",
              "4936     round off on total we so of order should be bu...\n",
              "27574         enable activity listing account summary need\n",
              "Name: Combined Description Cleaned, Length: 24976, dtype: object"
            ]
          },
          "metadata": {
            "tags": []
          },
          "execution_count": 45
        }
      ]
    },
    {
      "cell_type": "code",
      "metadata": {
        "id": "xaB7_3X_jcbo"
      },
      "source": [
        "#x_train[10]"
      ],
      "execution_count": 46,
      "outputs": []
    },
    {
      "cell_type": "code",
      "metadata": {
        "id": "J--Wx6pUjfk4"
      },
      "source": [
        "#bigram[x_train[10].split()]"
      ],
      "execution_count": 47,
      "outputs": []
    },
    {
      "cell_type": "code",
      "metadata": {
        "id": "zjsac2-TjmKX"
      },
      "source": [
        "def labelize_tickets_bg(tickets,label):\r\n",
        "    result = []\r\n",
        "    prefix = label\r\n",
        "    for i, t in zip(tickets.index, tickets):\r\n",
        "        result.append(LabeledSentence(bigram[t.split()], [prefix + '_%s' % i]))\r\n",
        "    return result"
      ],
      "execution_count": 48,
      "outputs": []
    },
    {
      "cell_type": "code",
      "metadata": {
        "colab": {
          "base_uri": "https://localhost:8080/"
        },
        "id": "yLeq90xTjyao",
        "outputId": "871d832b-fb1d-463e-8d85-39ab6b2ef224"
      },
      "source": [
        "all_x = pd.concat([x_train,x_validation,x_test])\r\n",
        "all_x_w2v_bg = labelize_tickets_bg(all_x, 'all')"
      ],
      "execution_count": 49,
      "outputs": [
        {
          "output_type": "stream",
          "text": [
            "/usr/local/lib/python3.6/dist-packages/ipykernel_launcher.py:5: DeprecationWarning: Call to deprecated `LabeledSentence` (Class will be removed in 4.0.0, use TaggedDocument instead).\n",
            "  \"\"\"\n"
          ],
          "name": "stderr"
        }
      ]
    },
    {
      "cell_type": "markdown",
      "metadata": {
        "id": "v1qYpaJ3kDwP"
      },
      "source": [
        "## DBOW Bigram"
      ]
    },
    {
      "cell_type": "code",
      "metadata": {
        "colab": {
          "base_uri": "https://localhost:8080/"
        },
        "id": "N3YxeGMOj1N5",
        "outputId": "107de159-1984-4d95-b780-7bc2200ca949"
      },
      "source": [
        "cores = multiprocessing.cpu_count()\r\n",
        "model_bg_dbow = Doc2Vec(dm=0, size=100, negative=5, min_count=2, workers=cores, alpha=0.065, min_alpha=0.065)\r\n",
        "model_bg_dbow.build_vocab([x for x in tqdm(all_x_w2v_bg)])"
      ],
      "execution_count": 50,
      "outputs": [
        {
          "output_type": "stream",
          "text": [
            "/usr/local/lib/python3.6/dist-packages/gensim/models/doc2vec.py:570: UserWarning: The parameter `size` is deprecated, will be removed in 4.0.0, use `vector_size` instead.\n",
            "  warnings.warn(\"The parameter `size` is deprecated, will be removed in 4.0.0, use `vector_size` instead.\")\n",
            "100%|██████████| 31221/31221 [00:00<00:00, 2945352.34it/s]\n"
          ],
          "name": "stderr"
        }
      ]
    },
    {
      "cell_type": "code",
      "metadata": {
        "colab": {
          "base_uri": "https://localhost:8080/"
        },
        "id": "ObaeOz4tkGdJ",
        "outputId": "1ec91610-0b15-4414-e08f-c2f58c6c37cd"
      },
      "source": [
        "%%time\r\n",
        "for epoch in range(30):\r\n",
        "    model_bg_dbow.train(utils.shuffle([x for x in tqdm(all_x_w2v_bg)]), total_examples=len(all_x_w2v_bg), epochs=1)\r\n",
        "    model_bg_dbow.alpha -= 0.002\r\n",
        "    model_bg_dbow.min_alpha = model_bg_dbow.alpha"
      ],
      "execution_count": 51,
      "outputs": [
        {
          "output_type": "stream",
          "text": [
            "100%|██████████| 31221/31221 [00:00<00:00, 2567805.27it/s]\n",
            "100%|██████████| 31221/31221 [00:00<00:00, 3246891.11it/s]\n",
            "100%|██████████| 31221/31221 [00:00<00:00, 3315618.82it/s]\n",
            "100%|██████████| 31221/31221 [00:00<00:00, 3127994.58it/s]\n",
            "100%|██████████| 31221/31221 [00:00<00:00, 3400689.88it/s]\n",
            "100%|██████████| 31221/31221 [00:00<00:00, 3348086.65it/s]\n",
            "100%|██████████| 31221/31221 [00:00<00:00, 3326737.42it/s]\n",
            "100%|██████████| 31221/31221 [00:00<00:00, 3070924.56it/s]\n",
            "100%|██████████| 31221/31221 [00:00<00:00, 2871970.46it/s]\n",
            "100%|██████████| 31221/31221 [00:00<00:00, 3468516.32it/s]\n",
            "100%|██████████| 31221/31221 [00:00<00:00, 2897067.88it/s]\n",
            "100%|██████████| 31221/31221 [00:00<00:00, 3276134.33it/s]\n",
            "100%|██████████| 31221/31221 [00:00<00:00, 3399895.24it/s]\n",
            "100%|██████████| 31221/31221 [00:00<00:00, 3272123.07it/s]\n",
            "100%|██████████| 31221/31221 [00:00<00:00, 3265188.01it/s]\n",
            "100%|██████████| 31221/31221 [00:00<00:00, 3424344.69it/s]\n",
            "100%|██████████| 31221/31221 [00:00<00:00, 2274273.00it/s]\n",
            "100%|██████████| 31221/31221 [00:00<00:00, 2453954.34it/s]\n",
            "100%|██████████| 31221/31221 [00:00<00:00, 3247213.16it/s]\n",
            "100%|██████████| 31221/31221 [00:00<00:00, 2741038.33it/s]\n",
            "100%|██████████| 31221/31221 [00:00<00:00, 3360286.51it/s]\n",
            "100%|██████████| 31221/31221 [00:00<00:00, 3027894.13it/s]\n",
            "100%|██████████| 31221/31221 [00:00<00:00, 3239982.31it/s]\n",
            "100%|██████████| 31221/31221 [00:00<00:00, 3465945.83it/s]\n",
            "100%|██████████| 31221/31221 [00:00<00:00, 3475051.49it/s]\n",
            "100%|██████████| 31221/31221 [00:00<00:00, 2720933.47it/s]\n",
            "100%|██████████| 31221/31221 [00:00<00:00, 3279498.25it/s]\n",
            "100%|██████████| 31221/31221 [00:00<00:00, 3403429.81it/s]\n",
            "100%|██████████| 31221/31221 [00:00<00:00, 3142783.62it/s]\n",
            "100%|██████████| 31221/31221 [00:00<00:00, 2883861.11it/s]\n"
          ],
          "name": "stderr"
        },
        {
          "output_type": "stream",
          "text": [
            "CPU times: user 1min 15s, sys: 17.2 s, total: 1min 32s\n",
            "Wall time: 1min 3s\n"
          ],
          "name": "stdout"
        }
      ]
    },
    {
      "cell_type": "code",
      "metadata": {
        "id": "hwhJHpK0kI1W"
      },
      "source": [
        "train_vecs_dbow_bg = get_vectors(model_bg_dbow, x_train, 100)\r\n",
        "validation_vecs_dbow_bg = get_vectors(model_bg_dbow, x_validation, 100)"
      ],
      "execution_count": 52,
      "outputs": []
    },
    {
      "cell_type": "code",
      "metadata": {
        "id": "kQKjCKJlkRL4"
      },
      "source": [
        "model_bg_dbow.save('drive/MyDrive/grams/d2v_model_bg_dbow.doc2vec')\r\n",
        "model_bg_dbow = Doc2Vec.load('drive/MyDrive/grams/d2v_model_bg_dbow.doc2vec')\r\n",
        "model_bg_dbow.delete_temporary_training_data(keep_doctags_vectors=True, keep_inference=True)"
      ],
      "execution_count": 53,
      "outputs": []
    },
    {
      "cell_type": "markdown",
      "metadata": {
        "id": "kNNlrRQBktF_"
      },
      "source": [
        "### DMC Bigram"
      ]
    },
    {
      "cell_type": "code",
      "metadata": {
        "colab": {
          "base_uri": "https://localhost:8080/"
        },
        "id": "lJhle1tEkoxt",
        "outputId": "15f7f6e7-d72a-42a0-ef50-857d27c76f45"
      },
      "source": [
        "cores = multiprocessing.cpu_count()\r\n",
        "model_bg_dmc = Doc2Vec(dm=1, dm_concat=1, size=100, window=2, negative=5, min_count=2, workers=cores, alpha=0.065, min_alpha=0.065)\r\n",
        "model_bg_dmc.build_vocab([x for x in tqdm(all_x_w2v_bg)])"
      ],
      "execution_count": 54,
      "outputs": [
        {
          "output_type": "stream",
          "text": [
            "/usr/local/lib/python3.6/dist-packages/gensim/models/doc2vec.py:570: UserWarning: The parameter `size` is deprecated, will be removed in 4.0.0, use `vector_size` instead.\n",
            "  warnings.warn(\"The parameter `size` is deprecated, will be removed in 4.0.0, use `vector_size` instead.\")\n",
            "100%|██████████| 31221/31221 [00:00<00:00, 2723876.55it/s]\n"
          ],
          "name": "stderr"
        }
      ]
    },
    {
      "cell_type": "code",
      "metadata": {
        "colab": {
          "base_uri": "https://localhost:8080/"
        },
        "id": "Wd4R31_yky7V",
        "outputId": "b8dd46d6-fe24-43a5-eb15-8fd9ea557a29"
      },
      "source": [
        "%%time\r\n",
        "for epoch in range(30):\r\n",
        "    model_bg_dmc.train(utils.shuffle([x for x in tqdm(all_x_w2v_bg)]), total_examples=len(all_x_w2v_bg), epochs=1)\r\n",
        "    model_bg_dmc.alpha -= 0.002\r\n",
        "    model_bg_dmc.min_alpha = model_bg_dmc.alpha"
      ],
      "execution_count": 55,
      "outputs": [
        {
          "output_type": "stream",
          "text": [
            "100%|██████████| 31221/31221 [00:00<00:00, 1869384.23it/s]\n",
            "100%|██████████| 31221/31221 [00:00<00:00, 2820321.88it/s]\n",
            "100%|██████████| 31221/31221 [00:00<00:00, 3297003.00it/s]\n",
            "100%|██████████| 31221/31221 [00:00<00:00, 3215083.85it/s]\n",
            "100%|██████████| 31221/31221 [00:00<00:00, 3216347.33it/s]\n",
            "100%|██████████| 31221/31221 [00:00<00:00, 3222758.97it/s]\n",
            "100%|██████████| 31221/31221 [00:00<00:00, 3418177.11it/s]\n",
            "100%|██████████| 31221/31221 [00:00<00:00, 2879358.94it/s]\n",
            "100%|██████████| 31221/31221 [00:00<00:00, 2762432.82it/s]\n",
            "100%|██████████| 31221/31221 [00:00<00:00, 3279169.76it/s]\n",
            "100%|██████████| 31221/31221 [00:00<00:00, 3123666.93it/s]\n",
            "100%|██████████| 31221/31221 [00:00<00:00, 3600504.95it/s]\n",
            "100%|██████████| 31221/31221 [00:00<00:00, 2868259.01it/s]\n",
            "100%|██████████| 31221/31221 [00:00<00:00, 3059730.95it/s]\n",
            "100%|██████████| 31221/31221 [00:00<00:00, 3163969.39it/s]\n",
            "100%|██████████| 31221/31221 [00:00<00:00, 3099563.65it/s]\n",
            "100%|██████████| 31221/31221 [00:00<00:00, 2592511.83it/s]\n",
            "100%|██████████| 31221/31221 [00:00<00:00, 2657110.26it/s]\n",
            "100%|██████████| 31221/31221 [00:00<00:00, 3092244.38it/s]\n",
            "100%|██████████| 31221/31221 [00:00<00:00, 3135559.35it/s]\n",
            "100%|██████████| 31221/31221 [00:00<00:00, 3475512.64it/s]\n",
            "100%|██████████| 31221/31221 [00:00<00:00, 3449784.38it/s]\n",
            "100%|██████████| 31221/31221 [00:00<00:00, 3497699.33it/s]\n",
            "100%|██████████| 31221/31221 [00:00<00:00, 3421481.60it/s]\n",
            "100%|██████████| 31221/31221 [00:00<00:00, 3039772.63it/s]\n",
            "100%|██████████| 31221/31221 [00:00<00:00, 2502969.63it/s]\n",
            "100%|██████████| 31221/31221 [00:00<00:00, 3412832.04it/s]\n",
            "100%|██████████| 31221/31221 [00:00<00:00, 3227843.06it/s]\n",
            "100%|██████████| 31221/31221 [00:00<00:00, 3289796.89it/s]\n",
            "100%|██████████| 31221/31221 [00:00<00:00, 3171939.86it/s]\n"
          ],
          "name": "stderr"
        },
        {
          "output_type": "stream",
          "text": [
            "CPU times: user 1min 31s, sys: 17.4 s, total: 1min 49s\n",
            "Wall time: 1min 7s\n"
          ],
          "name": "stdout"
        }
      ]
    },
    {
      "cell_type": "code",
      "metadata": {
        "colab": {
          "base_uri": "https://localhost:8080/"
        },
        "id": "pdlwD36Ik1KY",
        "outputId": "ff1170f0-1aa4-4faa-8e69-b264ba4843dc"
      },
      "source": [
        "model_bg_dmc.most_similar('schedule')"
      ],
      "execution_count": 56,
      "outputs": [
        {
          "output_type": "stream",
          "text": [
            "/usr/local/lib/python3.6/dist-packages/ipykernel_launcher.py:1: DeprecationWarning: Call to deprecated `most_similar` (Method will be removed in 4.0.0, use self.wv.most_similar() instead).\n",
            "  \"\"\"Entry point for launching an IPython kernel.\n"
          ],
          "name": "stderr"
        },
        {
          "output_type": "execute_result",
          "data": {
            "text/plain": [
              "[('resume', 0.66473788022995),\n",
              " ('arc', 0.5381929278373718),\n",
              " ('job_resume', 0.5233135223388672),\n",
              " ('hot', 0.5139856338500977),\n",
              " ('job_regular', 0.5126000642776489),\n",
              " ('cold', 0.48416614532470703),\n",
              " ('job_schedule', 0.48265963792800903),\n",
              " ('internal_occurrence', 0.4825449585914612),\n",
              " ('tax_rate', 0.4698463976383209),\n",
              " ('hand_arc', 0.4664330780506134)]"
            ]
          },
          "metadata": {
            "tags": []
          },
          "execution_count": 56
        }
      ]
    },
    {
      "cell_type": "code",
      "metadata": {
        "id": "FvMWiK7lk33m"
      },
      "source": [
        "train_vecs_dmc_bg = get_vectors(model_bg_dmc, x_train, 100)\r\n",
        "validation_vecs_dmc_bg = get_vectors(model_bg_dmc, x_validation, 100)"
      ],
      "execution_count": 57,
      "outputs": []
    },
    {
      "cell_type": "code",
      "metadata": {
        "id": "kJgiXjyhlKeZ"
      },
      "source": [
        "model_bg_dmc.save('drive/MyDrive/grams/d2v_model_bg_dmc.doc2vec')\r\n",
        "model_bg_dmc = Doc2Vec.load('drive/MyDrive/grams/d2v_model_bg_dmc.doc2vec')\r\n",
        "model_bg_dmc.delete_temporary_training_data(keep_doctags_vectors=True, keep_inference=True)"
      ],
      "execution_count": 58,
      "outputs": []
    },
    {
      "cell_type": "markdown",
      "metadata": {
        "id": "BTVevtLFlWX2"
      },
      "source": [
        "## DMM Bigram"
      ]
    },
    {
      "cell_type": "code",
      "metadata": {
        "colab": {
          "base_uri": "https://localhost:8080/"
        },
        "id": "G6nPiyNFlX1R",
        "outputId": "ccaf373c-29f4-4a80-b218-8af1d5be05e8"
      },
      "source": [
        "cores = multiprocessing.cpu_count()\r\n",
        "model_bg_dmm = Doc2Vec(dm=1, dm_mean=1, size=100, window=4, negative=5, min_count=2, workers=cores, alpha=0.065, min_alpha=0.065)\r\n",
        "model_bg_dmm.build_vocab([x for x in tqdm(all_x_w2v_bg)])"
      ],
      "execution_count": 59,
      "outputs": [
        {
          "output_type": "stream",
          "text": [
            "/usr/local/lib/python3.6/dist-packages/gensim/models/doc2vec.py:570: UserWarning: The parameter `size` is deprecated, will be removed in 4.0.0, use `vector_size` instead.\n",
            "  warnings.warn(\"The parameter `size` is deprecated, will be removed in 4.0.0, use `vector_size` instead.\")\n",
            "100%|██████████| 31221/31221 [00:00<00:00, 3068981.35it/s]\n"
          ],
          "name": "stderr"
        }
      ]
    },
    {
      "cell_type": "code",
      "metadata": {
        "colab": {
          "base_uri": "https://localhost:8080/"
        },
        "id": "_bh9CxDOlZyX",
        "outputId": "6ed72a82-39bd-453c-a77c-5b5f95260f88"
      },
      "source": [
        "%%time\r\n",
        "for epoch in range(30):\r\n",
        "    model_bg_dmm.train(utils.shuffle([x for x in tqdm(all_x_w2v_bg)]), total_examples=len(all_x_w2v_bg), epochs=1)\r\n",
        "    model_bg_dmm.alpha -= 0.002\r\n",
        "    model_bg_dmm.min_alpha = model_bg_dmm.alpha"
      ],
      "execution_count": 60,
      "outputs": [
        {
          "output_type": "stream",
          "text": [
            "100%|██████████| 31221/31221 [00:00<00:00, 2875628.38it/s]\n",
            "100%|██████████| 31221/31221 [00:00<00:00, 2931177.73it/s]\n",
            "100%|██████████| 31221/31221 [00:00<00:00, 2897324.27it/s]\n",
            "100%|██████████| 31221/31221 [00:00<00:00, 3169253.01it/s]\n",
            "100%|██████████| 31221/31221 [00:00<00:00, 3270570.32it/s]\n",
            "100%|██████████| 31221/31221 [00:00<00:00, 3281635.05it/s]\n",
            "100%|██████████| 31221/31221 [00:00<00:00, 3379625.91it/s]\n",
            "100%|██████████| 31221/31221 [00:00<00:00, 3329867.40it/s]\n",
            "100%|██████████| 31221/31221 [00:00<00:00, 3295592.43it/s]\n",
            "100%|██████████| 31221/31221 [00:00<00:00, 3158703.36it/s]\n",
            "100%|██████████| 31221/31221 [00:00<00:00, 2700063.20it/s]\n",
            "100%|██████████| 31221/31221 [00:00<00:00, 3670647.94it/s]\n",
            "100%|██████████| 31221/31221 [00:00<00:00, 2816560.88it/s]\n",
            "100%|██████████| 31221/31221 [00:00<00:00, 2983671.65it/s]\n",
            "100%|██████████| 31221/31221 [00:00<00:00, 3386880.95it/s]\n",
            "100%|██████████| 31221/31221 [00:00<00:00, 3253748.58it/s]\n",
            "100%|██████████| 31221/31221 [00:00<00:00, 3488381.82it/s]\n",
            "100%|██████████| 31221/31221 [00:00<00:00, 2934396.21it/s]\n",
            "100%|██████████| 31221/31221 [00:00<00:00, 3635894.19it/s]\n",
            "100%|██████████| 31221/31221 [00:00<00:00, 3126874.21it/s]\n",
            "100%|██████████| 31221/31221 [00:00<00:00, 3001589.96it/s]\n",
            "100%|██████████| 31221/31221 [00:00<00:00, 3344068.16it/s]\n",
            "100%|██████████| 31221/31221 [00:00<00:00, 2553634.27it/s]\n",
            "100%|██████████| 31221/31221 [00:00<00:00, 3439545.21it/s]\n",
            "100%|██████████| 31221/31221 [00:00<00:00, 2956524.09it/s]\n",
            "100%|██████████| 31221/31221 [00:00<00:00, 3207680.90it/s]\n",
            "100%|██████████| 31221/31221 [00:00<00:00, 2937094.65it/s]\n",
            "100%|██████████| 31221/31221 [00:00<00:00, 3464753.68it/s]\n",
            "100%|██████████| 31221/31221 [00:00<00:00, 3001245.99it/s]\n",
            "100%|██████████| 31221/31221 [00:00<00:00, 2497670.47it/s]\n"
          ],
          "name": "stderr"
        },
        {
          "output_type": "stream",
          "text": [
            "CPU times: user 2min 35s, sys: 53.5 s, total: 3min 29s\n",
            "Wall time: 2min 15s\n"
          ],
          "name": "stdout"
        }
      ]
    },
    {
      "cell_type": "code",
      "metadata": {
        "id": "bB6SQS7JlcJI"
      },
      "source": [
        "train_vecs_dmm_bg = get_vectors(model_bg_dmm, x_train, 100)\r\n",
        "validation_vecs_dmm_bg = get_vectors(model_bg_dmm, x_validation, 100)"
      ],
      "execution_count": 61,
      "outputs": []
    },
    {
      "cell_type": "code",
      "metadata": {
        "id": "C8fwZfBIl0fX"
      },
      "source": [
        "model_bg_dmm.save('drive/MyDrive/grams/d2v_model_bg_dmm.doc2vec')\r\n",
        "model_bg_dmm = Doc2Vec.load('drive/MyDrive/grams/d2v_model_bg_dmm.doc2vec')\r\n",
        "model_bg_dmm.delete_temporary_training_data(keep_doctags_vectors=True, keep_inference=True)"
      ],
      "execution_count": 62,
      "outputs": []
    },
    {
      "cell_type": "code",
      "metadata": {
        "id": "zRd6mq4Nl6TY"
      },
      "source": [
        "train_vecs_dbow_dmc_bg = get_concat_vectors(model_bg_dbow,model_bg_dmc, x_train, 200)\r\n",
        "validation_vecs_dbow_dmc_bg = get_concat_vectors(model_bg_dbow,model_bg_dmc, x_validation, 200)"
      ],
      "execution_count": 63,
      "outputs": []
    },
    {
      "cell_type": "code",
      "metadata": {
        "id": "HqURTlajmHTI"
      },
      "source": [
        "train_vecs_dbow_dmm_bg = get_concat_vectors(model_bg_dbow,model_bg_dmm, x_train, 200)\r\n",
        "validation_vecs_dbow_dmm_bg = get_concat_vectors(model_bg_dbow,model_bg_dmm, x_validation, 200)"
      ],
      "execution_count": 64,
      "outputs": []
    },
    {
      "cell_type": "markdown",
      "metadata": {
        "id": "FcS4tHVYmY9p"
      },
      "source": [
        "## Trigram"
      ]
    },
    {
      "cell_type": "code",
      "metadata": {
        "colab": {
          "base_uri": "https://localhost:8080/"
        },
        "id": "RqcJqFVemQej",
        "outputId": "8ed630cf-f925-4699-dda2-9d354d924168"
      },
      "source": [
        "%%time\r\n",
        "tg_phrases = Phrases(bigram[tokenized_train])\r\n",
        "trigram = Phraser(tg_phrases)"
      ],
      "execution_count": 65,
      "outputs": [
        {
          "output_type": "stream",
          "text": [
            "CPU times: user 2.86 s, sys: 0 ns, total: 2.86 s\n",
            "Wall time: 2.86 s\n"
          ],
          "name": "stdout"
        }
      ]
    },
    {
      "cell_type": "code",
      "metadata": {
        "id": "2xc0vu1xmVAJ"
      },
      "source": [
        "#trigram[bigram[x_train[10].split()]]"
      ],
      "execution_count": 66,
      "outputs": []
    },
    {
      "cell_type": "markdown",
      "metadata": {
        "id": "EnOufayemi3X"
      },
      "source": [
        "## Below Doc2Vec implementation is again same as unigram or bigram."
      ]
    },
    {
      "cell_type": "code",
      "metadata": {
        "id": "RnwMYQYdmhPj"
      },
      "source": [
        "def labelize_tickets_tg(tickets,label):\r\n",
        "    result = []\r\n",
        "    prefix = label\r\n",
        "    for i, t in zip(tickets.index, tickets):\r\n",
        "        result.append(LabeledSentence(trigram[bigram[t.split()]], [prefix + '_%s' % i]))\r\n",
        "    return result"
      ],
      "execution_count": 67,
      "outputs": []
    },
    {
      "cell_type": "code",
      "metadata": {
        "colab": {
          "base_uri": "https://localhost:8080/"
        },
        "id": "MhlaOuslmcy4",
        "outputId": "07e92459-8e61-4ba1-e89e-ff801eb1307d"
      },
      "source": [
        "all_x = pd.concat([x_train,x_validation,x_test])\r\n",
        "all_x_w2v_tg = labelize_tickets_tg(all_x, 'all')"
      ],
      "execution_count": 68,
      "outputs": [
        {
          "output_type": "stream",
          "text": [
            "/usr/local/lib/python3.6/dist-packages/ipykernel_launcher.py:5: DeprecationWarning: Call to deprecated `LabeledSentence` (Class will be removed in 4.0.0, use TaggedDocument instead).\n",
            "  \"\"\"\n"
          ],
          "name": "stderr"
        }
      ]
    },
    {
      "cell_type": "markdown",
      "metadata": {
        "id": "cOKmXMcNmz1v"
      },
      "source": [
        "## DBOW Trigram"
      ]
    },
    {
      "cell_type": "code",
      "metadata": {
        "colab": {
          "base_uri": "https://localhost:8080/"
        },
        "id": "Xqp9Zq4Kmuo9",
        "outputId": "38ea285b-cb8a-4876-f4d2-3b7bef72015b"
      },
      "source": [
        "model_tg_dbow = Doc2Vec(dm=0, size=100, negative=5, min_count=2, workers=cores, alpha=0.065, min_alpha=0.065)\r\n",
        "model_tg_dbow.build_vocab([x for x in tqdm(all_x_w2v_tg)])"
      ],
      "execution_count": 69,
      "outputs": [
        {
          "output_type": "stream",
          "text": [
            "/usr/local/lib/python3.6/dist-packages/gensim/models/doc2vec.py:570: UserWarning: The parameter `size` is deprecated, will be removed in 4.0.0, use `vector_size` instead.\n",
            "  warnings.warn(\"The parameter `size` is deprecated, will be removed in 4.0.0, use `vector_size` instead.\")\n",
            "100%|██████████| 31221/31221 [00:00<00:00, 2224323.37it/s]\n"
          ],
          "name": "stderr"
        }
      ]
    },
    {
      "cell_type": "code",
      "metadata": {
        "colab": {
          "base_uri": "https://localhost:8080/"
        },
        "id": "lgC6Qt2xm2eo",
        "outputId": "c1f12dba-2335-4336-ab1f-020504367865"
      },
      "source": [
        "%%time\r\n",
        "for epoch in range(30):\r\n",
        "    model_tg_dbow.train(utils.shuffle([x for x in tqdm(all_x_w2v_tg)]), total_examples=len(all_x_w2v_tg), epochs=1)\r\n",
        "    model_tg_dbow.alpha -= 0.002\r\n",
        "    model_tg_dbow.min_alpha = model_tg_dbow.alpha"
      ],
      "execution_count": 70,
      "outputs": [
        {
          "output_type": "stream",
          "text": [
            "100%|██████████| 31221/31221 [00:00<00:00, 2638585.61it/s]\n",
            "100%|██████████| 31221/31221 [00:00<00:00, 3312180.42it/s]\n",
            "100%|██████████| 31221/31221 [00:00<00:00, 2815289.27it/s]\n",
            "100%|██████████| 31221/31221 [00:00<00:00, 2775724.72it/s]\n",
            "100%|██████████| 31221/31221 [00:00<00:00, 3222045.30it/s]\n",
            "100%|██████████| 31221/31221 [00:00<00:00, 2891183.30it/s]\n",
            "100%|██████████| 31221/31221 [00:00<00:00, 2888950.87it/s]\n",
            "100%|██████████| 31221/31221 [00:00<00:00, 2026060.45it/s]\n",
            "100%|██████████| 31221/31221 [00:00<00:00, 3253506.05it/s]\n",
            "100%|██████████| 31221/31221 [00:00<00:00, 3142481.95it/s]\n",
            "100%|██████████| 31221/31221 [00:00<00:00, 3181418.46it/s]\n",
            "100%|██████████| 31221/31221 [00:00<00:00, 2994657.09it/s]\n",
            "100%|██████████| 31221/31221 [00:00<00:00, 2708047.92it/s]\n",
            "100%|██████████| 31221/31221 [00:00<00:00, 2981158.43it/s]\n",
            "100%|██████████| 31221/31221 [00:00<00:00, 2626624.51it/s]\n",
            "100%|██████████| 31221/31221 [00:00<00:00, 3321337.29it/s]\n",
            "100%|██████████| 31221/31221 [00:00<00:00, 2868698.85it/s]\n",
            "100%|██████████| 31221/31221 [00:00<00:00, 2992535.60it/s]\n",
            "100%|██████████| 31221/31221 [00:00<00:00, 2963952.04it/s]\n",
            "100%|██████████| 31221/31221 [00:00<00:00, 3144519.38it/s]\n",
            "100%|██████████| 31221/31221 [00:00<00:00, 3428109.77it/s]\n",
            "100%|██████████| 31221/31221 [00:00<00:00, 2583204.09it/s]\n",
            "100%|██████████| 31221/31221 [00:00<00:00, 2792475.91it/s]\n",
            "100%|██████████| 31221/31221 [00:00<00:00, 3201955.28it/s]\n",
            "100%|██████████| 31221/31221 [00:00<00:00, 3007656.70it/s]\n",
            "100%|██████████| 31221/31221 [00:00<00:00, 3057516.29it/s]\n",
            "100%|██████████| 31221/31221 [00:00<00:00, 3334530.96it/s]\n",
            "100%|██████████| 31221/31221 [00:00<00:00, 2725066.91it/s]\n",
            "100%|██████████| 31221/31221 [00:00<00:00, 2836449.52it/s]\n",
            "100%|██████████| 31221/31221 [00:00<00:00, 3175709.11it/s]\n"
          ],
          "name": "stderr"
        },
        {
          "output_type": "stream",
          "text": [
            "CPU times: user 1min 16s, sys: 17.2 s, total: 1min 33s\n",
            "Wall time: 1min 4s\n"
          ],
          "name": "stdout"
        }
      ]
    },
    {
      "cell_type": "code",
      "metadata": {
        "id": "nKb0Nwx2m42Y"
      },
      "source": [
        "train_vecs_dbow_tg = get_vectors(model_tg_dbow, x_train, 100)\r\n",
        "validation_vecs_dbow_tg = get_vectors(model_tg_dbow, x_validation, 100)"
      ],
      "execution_count": 71,
      "outputs": []
    },
    {
      "cell_type": "code",
      "metadata": {
        "id": "Cs2BInfQnC7I"
      },
      "source": [
        "model_tg_dbow.save('drive/MyDrive/grams/d2v_model_tg_dbow.doc2vec')\r\n",
        "model_tg_dbow = Doc2Vec.load('drive/MyDrive/grams/d2v_model_tg_dbow.doc2vec')\r\n",
        "model_tg_dbow.delete_temporary_training_data(keep_doctags_vectors=True, keep_inference=True)"
      ],
      "execution_count": 72,
      "outputs": []
    },
    {
      "cell_type": "markdown",
      "metadata": {
        "id": "CYChYp5fnPnF"
      },
      "source": [
        "## DMC Trig"
      ]
    },
    {
      "cell_type": "code",
      "metadata": {
        "colab": {
          "base_uri": "https://localhost:8080/"
        },
        "id": "4tXv7zvrnJi4",
        "outputId": "1fb0e26e-241a-48cf-e43c-be68fc66896d"
      },
      "source": [
        "cores = multiprocessing.cpu_count()\r\n",
        "model_tg_dmc = Doc2Vec(dm=1, dm_concat=1, size=100, window=2, negative=5, min_count=2, workers=cores, alpha=0.065, min_alpha=0.065)\r\n",
        "model_tg_dmc.build_vocab([x for x in tqdm(all_x_w2v_tg)])"
      ],
      "execution_count": 73,
      "outputs": [
        {
          "output_type": "stream",
          "text": [
            "/usr/local/lib/python3.6/dist-packages/gensim/models/doc2vec.py:570: UserWarning: The parameter `size` is deprecated, will be removed in 4.0.0, use `vector_size` instead.\n",
            "  warnings.warn(\"The parameter `size` is deprecated, will be removed in 4.0.0, use `vector_size` instead.\")\n",
            "100%|██████████| 31221/31221 [00:00<00:00, 2114865.63it/s]\n"
          ],
          "name": "stderr"
        }
      ]
    },
    {
      "cell_type": "code",
      "metadata": {
        "colab": {
          "base_uri": "https://localhost:8080/"
        },
        "id": "vTJc_kNqnSMH",
        "outputId": "f53573a7-b635-4e6b-ba29-4e1f792c6174"
      },
      "source": [
        "%%time\r\n",
        "for epoch in range(30):\r\n",
        "    model_tg_dmc.train(utils.shuffle([x for x in tqdm(all_x_w2v_tg)]), total_examples=len(all_x_w2v_tg), epochs=1)\r\n",
        "    model_tg_dmc.alpha -= 0.002\r\n",
        "    model_tg_dmc.min_alpha = model_tg_dmc.alpha"
      ],
      "execution_count": 74,
      "outputs": [
        {
          "output_type": "stream",
          "text": [
            "100%|██████████| 31221/31221 [00:00<00:00, 2817651.75it/s]\n",
            "100%|██████████| 31221/31221 [00:00<00:00, 3453332.42it/s]\n",
            "100%|██████████| 31221/31221 [00:00<00:00, 2916749.05it/s]\n",
            "100%|██████████| 31221/31221 [00:00<00:00, 3408479.27it/s]\n",
            "100%|██████████| 31221/31221 [00:00<00:00, 3258120.15it/s]\n",
            "100%|██████████| 31221/31221 [00:00<00:00, 3187458.69it/s]\n",
            "100%|██████████| 31221/31221 [00:00<00:00, 2742588.33it/s]\n",
            "100%|██████████| 31221/31221 [00:00<00:00, 3052811.87it/s]\n",
            "100%|██████████| 31221/31221 [00:00<00:00, 3387844.80it/s]\n",
            "100%|██████████| 31221/31221 [00:00<00:00, 3421660.40it/s]\n",
            "100%|██████████| 31221/31221 [00:00<00:00, 3232384.61it/s]\n",
            "100%|██████████| 31221/31221 [00:00<00:00, 3240383.18it/s]\n",
            "100%|██████████| 31221/31221 [00:00<00:00, 3425509.19it/s]\n",
            "100%|██████████| 31221/31221 [00:00<00:00, 2850837.40it/s]\n",
            "100%|██████████| 31221/31221 [00:00<00:00, 2987279.07it/s]\n",
            "100%|██████████| 31221/31221 [00:00<00:00, 3218323.51it/s]\n",
            "100%|██████████| 31221/31221 [00:00<00:00, 3227604.39it/s]\n",
            "100%|██████████| 31221/31221 [00:00<00:00, 2598066.88it/s]\n",
            "100%|██████████| 31221/31221 [00:00<00:00, 3424523.79it/s]\n",
            "100%|██████████| 31221/31221 [00:00<00:00, 3274004.68it/s]\n",
            "100%|██████████| 31221/31221 [00:00<00:00, 3104192.61it/s]\n",
            "100%|██████████| 31221/31221 [00:00<00:00, 3394519.15it/s]\n",
            "100%|██████████| 31221/31221 [00:00<00:00, 3088452.01it/s]\n",
            "100%|██████████| 31221/31221 [00:00<00:00, 3371620.41it/s]\n",
            "100%|██████████| 31221/31221 [00:00<00:00, 3570756.83it/s]\n",
            "100%|██████████| 31221/31221 [00:00<00:00, 3287897.09it/s]\n",
            "100%|██████████| 31221/31221 [00:00<00:00, 2649476.28it/s]\n",
            "100%|██████████| 31221/31221 [00:00<00:00, 3055661.30it/s]\n",
            "100%|██████████| 31221/31221 [00:00<00:00, 3291864.38it/s]\n",
            "100%|██████████| 31221/31221 [00:00<00:00, 3032732.70it/s]\n"
          ],
          "name": "stderr"
        },
        {
          "output_type": "stream",
          "text": [
            "CPU times: user 1min 33s, sys: 18.3 s, total: 1min 52s\n",
            "Wall time: 1min 8s\n"
          ],
          "name": "stdout"
        }
      ]
    },
    {
      "cell_type": "code",
      "metadata": {
        "id": "s_Txg7WZnURo"
      },
      "source": [
        "train_vecs_dmc_tg = get_vectors(model_tg_dmc, x_train, 100)\r\n",
        "validation_vecs_dmc_tg = get_vectors(model_tg_dmc, x_validation, 100)"
      ],
      "execution_count": 75,
      "outputs": []
    },
    {
      "cell_type": "code",
      "metadata": {
        "id": "61AgDv8cnhRX"
      },
      "source": [
        "model_tg_dmc.save('drive/MyDrive/grams/d2v_model_tg_dmc.doc2vec')\r\n",
        "model_tg_dmc = Doc2Vec.load('drive/MyDrive/grams/d2v_model_tg_dmc.doc2vec')\r\n",
        "model_tg_dmc.delete_temporary_training_data(keep_doctags_vectors=True, keep_inference=True)"
      ],
      "execution_count": 76,
      "outputs": []
    },
    {
      "cell_type": "markdown",
      "metadata": {
        "id": "nMSC-vASnsUh"
      },
      "source": [
        "## DMM Trigram"
      ]
    },
    {
      "cell_type": "code",
      "metadata": {
        "colab": {
          "base_uri": "https://localhost:8080/"
        },
        "id": "ulU85ycRnnpB",
        "outputId": "493c0d0c-21d8-4a77-8b75-c1d4e5dbfb04"
      },
      "source": [
        "cores = multiprocessing.cpu_count()\r\n",
        "model_tg_dmm = Doc2Vec(dm=1, dm_mean=1, size=100, window=4, negative=5, min_count=2, workers=cores, alpha=0.065, min_alpha=0.065)\r\n",
        "model_tg_dmm.build_vocab([x for x in tqdm(all_x_w2v_tg)])"
      ],
      "execution_count": 77,
      "outputs": [
        {
          "output_type": "stream",
          "text": [
            "/usr/local/lib/python3.6/dist-packages/gensim/models/doc2vec.py:570: UserWarning: The parameter `size` is deprecated, will be removed in 4.0.0, use `vector_size` instead.\n",
            "  warnings.warn(\"The parameter `size` is deprecated, will be removed in 4.0.0, use `vector_size` instead.\")\n",
            "100%|██████████| 31221/31221 [00:00<00:00, 2823118.79it/s]\n"
          ],
          "name": "stderr"
        }
      ]
    },
    {
      "cell_type": "code",
      "metadata": {
        "colab": {
          "base_uri": "https://localhost:8080/"
        },
        "id": "QxlSOPyPnui0",
        "outputId": "3223c0cb-96d6-429f-acfa-5e4b530aa09f"
      },
      "source": [
        "%%time\r\n",
        "for epoch in range(30):\r\n",
        "    model_tg_dmm.train(utils.shuffle([x for x in tqdm(all_x_w2v_tg)]), total_examples=len(all_x_w2v_tg), epochs=1)\r\n",
        "    model_tg_dmm.alpha -= 0.002\r\n",
        "    model_tg_dmc.min_alpha = model_tg_dmc.alpha"
      ],
      "execution_count": 78,
      "outputs": [
        {
          "output_type": "stream",
          "text": [
            "100%|██████████| 31221/31221 [00:00<00:00, 2557674.27it/s]\n",
            "100%|██████████| 31221/31221 [00:00<00:00, 3129340.08it/s]\n",
            "100%|██████████| 31221/31221 [00:00<00:00, 3318727.89it/s]\n",
            "100%|██████████| 31221/31221 [00:00<00:00, 3258120.15it/s]\n",
            "100%|██████████| 31221/31221 [00:00<00:00, 3079301.26it/s]\n",
            "100%|██████████| 31221/31221 [00:00<00:00, 3166341.01it/s]\n",
            "100%|██████████| 31221/31221 [00:00<00:00, 3435124.08it/s]\n",
            "100%|██████████| 31221/31221 [00:00<00:00, 2646852.19it/s]\n",
            "100%|██████████| 31221/31221 [00:00<00:00, 3381807.89it/s]\n",
            "100%|██████████| 31221/31221 [00:00<00:00, 3617113.64it/s]\n",
            "100%|██████████| 31221/31221 [00:00<00:00, 3566963.53it/s]\n",
            "100%|██████████| 31221/31221 [00:00<00:00, 3621515.12it/s]\n",
            "100%|██████████| 31221/31221 [00:00<00:00, 3300742.70it/s]\n",
            "100%|██████████| 31221/31221 [00:00<00:00, 3369364.86it/s]\n",
            "100%|██████████| 31221/31221 [00:00<00:00, 3402015.10it/s]\n",
            "100%|██████████| 31221/31221 [00:00<00:00, 3108761.61it/s]\n",
            "100%|██████████| 31221/31221 [00:00<00:00, 3431793.21it/s]\n",
            "100%|██████████| 31221/31221 [00:00<00:00, 3032802.94it/s]\n",
            "100%|██████████| 31221/31221 [00:00<00:00, 3656503.65it/s]\n",
            "100%|██████████| 31221/31221 [00:00<00:00, 3278020.56it/s]\n",
            "100%|██████████| 31221/31221 [00:00<00:00, 3142331.13it/s]\n",
            "100%|██████████| 31221/31221 [00:00<00:00, 3486060.20it/s]\n",
            "100%|██████████| 31221/31221 [00:00<00:00, 3532325.34it/s]\n",
            "100%|██████████| 31221/31221 [00:00<00:00, 3449057.48it/s]\n",
            "100%|██████████| 31221/31221 [00:00<00:00, 3494992.13it/s]\n",
            "100%|██████████| 31221/31221 [00:00<00:00, 3734397.00it/s]\n",
            "100%|██████████| 31221/31221 [00:00<00:00, 3625325.02it/s]\n",
            "100%|██████████| 31221/31221 [00:00<00:00, 3322011.34it/s]\n",
            "100%|██████████| 31221/31221 [00:00<00:00, 2890927.99it/s]\n",
            "100%|██████████| 31221/31221 [00:00<00:00, 3445971.56it/s]\n"
          ],
          "name": "stderr"
        },
        {
          "output_type": "stream",
          "text": [
            "CPU times: user 2min 28s, sys: 53.6 s, total: 3min 22s\n",
            "Wall time: 2min 12s\n"
          ],
          "name": "stdout"
        }
      ]
    },
    {
      "cell_type": "code",
      "metadata": {
        "id": "G-l6O3Fqnwm4"
      },
      "source": [
        "train_vecs_dmm_tg = get_vectors(model_tg_dmm, x_train, 100)\r\n",
        "validation_vecs_dmm_tg = get_vectors(model_tg_dmm, x_validation, 100)"
      ],
      "execution_count": 79,
      "outputs": []
    },
    {
      "cell_type": "code",
      "metadata": {
        "id": "6qKFYepdn6o3"
      },
      "source": [
        "model_tg_dmm.save('drive/MyDrive/grams/d2v_model_tg_dmm.doc2vec')\r\n",
        "model_tg_dmm = Doc2Vec.load('drive/MyDrive/grams/d2v_model_tg_dmm.doc2vec')\r\n",
        "model_tg_dmm.delete_temporary_training_data(keep_doctags_vectors=True, keep_inference=True)"
      ],
      "execution_count": 80,
      "outputs": []
    },
    {
      "cell_type": "code",
      "metadata": {
        "id": "b4C0j8xGn_kW"
      },
      "source": [
        "train_vecs_dbow_dmc_tg = get_concat_vectors(model_tg_dbow,model_tg_dmc, x_train, 200)\r\n",
        "validation_vecs_dbow_dmc_tg = get_concat_vectors(model_tg_dbow,model_tg_dmc, x_validation, 200)"
      ],
      "execution_count": 81,
      "outputs": []
    },
    {
      "cell_type": "code",
      "metadata": {
        "id": "bZmUMTGroHSU"
      },
      "source": [
        "train_vecs_dbow_dmm_tg = get_concat_vectors(model_tg_dbow,model_tg_dmm, x_train, 200)\r\n",
        "validation_vecs_dbow_dmm_tg = get_concat_vectors(model_tg_dbow,model_tg_dmm, x_validation, 200)"
      ],
      "execution_count": 82,
      "outputs": []
    },
    {
      "cell_type": "markdown",
      "metadata": {
        "id": "YaWqJH-VoYve"
      },
      "source": [
        " I would like to try one more thing, which is creating joint vectors across different n-grams. By looking at the above table, for DBOW model unigram performed the best, so I will use vectors from unigram DBOW model and join this together with trigram DMM vectors."
      ]
    },
    {
      "cell_type": "code",
      "metadata": {
        "id": "XJX2-ID-rbSh"
      },
      "source": [
        "model_ug_dbow = Doc2Vec.load('drive/MyDrive/grams/d2v_model_ug_dbow.doc2vec')\r\n",
        "model_tg_dmm = Doc2Vec.load('drive/MyDrive/grams/d2v_model_tg_dmm.doc2vec')\r\n",
        "model_ug_dbow.delete_temporary_training_data(keep_doctags_vectors=True, keep_inference=True)\r\n",
        "model_tg_dmm.delete_temporary_training_data(keep_doctags_vectors=True, keep_inference=True)"
      ],
      "execution_count": 83,
      "outputs": []
    },
    {
      "cell_type": "code",
      "metadata": {
        "id": "okTG6yaergiH"
      },
      "source": [
        "train_vecs_ugdbow_tgdmm = get_concat_vectors(model_ug_dbow,model_tg_dmm, x_train, 200)\r\n",
        "validation_vecs_ugdbow_tgdmm = get_concat_vectors(model_ug_dbow,model_tg_dmm, x_validation, 200)"
      ],
      "execution_count": 84,
      "outputs": []
    },
    {
      "cell_type": "code",
      "metadata": {
        "id": "MkIUaK46r3yG"
      },
      "source": [
        "from sklearn.preprocessing import MinMaxScaler\r\n",
        "\r\n",
        "mmscaler = MinMaxScaler()\r\n",
        "d2v_ugdbow_tgdmm_mm = mmscaler.fit_transform(train_vecs_ugdbow_tgdmm)\r\n",
        "d2v_ugdbow_tgdmm_mm_val = mmscaler.fit_transform(validation_vecs_ugdbow_tgdmm)"
      ],
      "execution_count": 85,
      "outputs": []
    },
    {
      "cell_type": "code",
      "metadata": {
        "id": "Cn_O3wJOr6J2"
      },
      "source": [
        "from sklearn.naive_bayes import MultinomialNB, BernoulliNB\r\n",
        "from sklearn.linear_model import RidgeClassifier, Perceptron, PassiveAggressiveClassifier\r\n",
        "from sklearn.neighbors import NearestCentroid\r\n",
        "from sklearn.pipeline import Pipeline\r\n",
        "from sklearn.metrics import accuracy_score\r\n",
        "import time\r\n",
        "names1 = [\"Logistic Regression\", \"Multinomial NB\", \r\n",
        "         \"Bernoulli NB\", \"Ridge Classifier\", \"Perceptron\",\"Passive-Aggresive\", \"Nearest Centroid\"]\r\n",
        "classifiers1 = [\r\n",
        "    LogisticRegression(max_iter=1000),\r\n",
        "    MultinomialNB(),\r\n",
        "    BernoulliNB(),\r\n",
        "    RidgeClassifier(),\r\n",
        "    Perceptron(),\r\n",
        "    PassiveAggressiveClassifier(),\r\n",
        "    NearestCentroid()\r\n",
        "    ]\r\n",
        "zipped_clf1 = zip(names1,classifiers1)"
      ],
      "execution_count": 86,
      "outputs": []
    },
    {
      "cell_type": "code",
      "metadata": {
        "id": "ce3hPYH5tmk5"
      },
      "source": [
        "def accuracy_summary(pipeline, x_train, y_train, x_test, y_test):\r\n",
        "    if len(x_test[y_test == 0]) / (len(x_test)*1.) > 0.5:\r\n",
        "        null_accuracy = len(x_test[y_test == 0]) / (len(x_test)*1.)\r\n",
        "    else:\r\n",
        "        null_accuracy = 1. - (len(x_test[y_test == 0]) / (len(x_test)*1.))\r\n",
        "    t0 = time.time()\r\n",
        "    sentiment_fit = pipeline.fit(x_train, y_train)\r\n",
        "    y_pred = sentiment_fit.predict(x_test)\r\n",
        "    train_test_time = time.time() - t0\r\n",
        "    accuracy = accuracy_score(y_test, y_pred)\r\n",
        "    print (\"null accuracy: {0:.2f}%\".format(null_accuracy*100))\r\n",
        "    print (\"accuracy score: {0:.2f}%\".format(accuracy*100))\r\n",
        "    if accuracy > null_accuracy:\r\n",
        "        print (\"model is {0:.2f}% more accurate than null accuracy\".format((accuracy-null_accuracy)*100))\r\n",
        "    elif accuracy == null_accuracy:\r\n",
        "        print (\"model has the same accuracy with the null accuracy\")\r\n",
        "    else:\r\n",
        "        print (\"model is {0:.2f}% less accurate than null accuracy\".format((null_accuracy-accuracy)*100))\r\n",
        "    print (\"train and test time: {0:.2f}s\".format(train_test_time))\r\n",
        "    print (\"-\"*80)\r\n",
        "    return accuracy, train_test_time"
      ],
      "execution_count": 87,
      "outputs": []
    },
    {
      "cell_type": "code",
      "metadata": {
        "id": "Z6NAP6u7sAPR"
      },
      "source": [
        "def classifier_comparator_d2v(train_vectors,validation_vectors, classifier=zipped_clf1):\r\n",
        "    result = []\r\n",
        "    for n,c in classifier:\r\n",
        "        checker_pipeline = Pipeline([\r\n",
        "            ('classifier', c)\r\n",
        "        ])\r\n",
        "        print (\"Validation result for {}\".format(n))\r\n",
        "        print (c)\r\n",
        "        clf_accuracy,tt_time = accuracy_summary(checker_pipeline, train_vectors, y_train, validation_vectors, y_validation)\r\n",
        "        result.append((n,clf_accuracy,tt_time))\r\n",
        "    return result"
      ],
      "execution_count": 88,
      "outputs": []
    },
    {
      "cell_type": "code",
      "metadata": {
        "id": "kvq1BJbDtEUz"
      },
      "source": [
        "from sklearn.feature_extraction.text import CountVectorizer\r\n",
        "cvec = CountVectorizer()\r\n",
        "lr = LogisticRegression(max_iter=1000)\r\n",
        "n_features = np.arange(10000,100001,10000)\r\n",
        "\r\n",
        "def nfeature_accuracy_checker(vectorizer=cvec, n_features=n_features, stop_words=None, ngram_range=(1, 1), classifier=lr):\r\n",
        "    result = []\r\n",
        "    print (classifier)\r\n",
        "    print (\"\\n\")\r\n",
        "    for n in n_features:\r\n",
        "        vectorizer.set_params(stop_words=stop_words, max_features=n, ngram_range=ngram_range)\r\n",
        "        checker_pipeline = Pipeline([\r\n",
        "            ('vectorizer', vectorizer),\r\n",
        "            ('classifier', classifier)\r\n",
        "        ])\r\n",
        "        print (\"Validation result for {} features\".format(n))\r\n",
        "        nfeature_accuracy,tt_time = accuracy_summary(checker_pipeline, x_train, y_train, x_validation, y_validation)\r\n",
        "        result.append((n,nfeature_accuracy,tt_time))\r\n",
        "    return result"
      ],
      "execution_count": 89,
      "outputs": []
    },
    {
      "cell_type": "markdown",
      "metadata": {
        "id": "NkxvcKDmw_u4"
      },
      "source": [
        "### TFIDF Vectorizer"
      ]
    },
    {
      "cell_type": "code",
      "metadata": {
        "id": "e_nptbUKwlHk"
      },
      "source": [
        "from sklearn.feature_extraction.text import TfidfVectorizer\r\n",
        "tvec = TfidfVectorizer()"
      ],
      "execution_count": 90,
      "outputs": []
    },
    {
      "cell_type": "code",
      "metadata": {
        "id": "dtouW8IZyCiG"
      },
      "source": [
        "from gensim.models import Doc2Vec"
      ],
      "execution_count": 91,
      "outputs": []
    },
    {
      "cell_type": "code",
      "metadata": {
        "id": "TCAurD6exriS"
      },
      "source": [
        "def get_concat_vectors(model1,model2, corpus, size):\r\n",
        "    vecs = np.zeros((len(corpus), size))\r\n",
        "    n = 0\r\n",
        "    for i in corpus.index:\r\n",
        "        prefix = 'all_' + str(i)\r\n",
        "        vecs[n] = np.append(model1.docvecs[prefix],model2.docvecs[prefix])\r\n",
        "        n += 1\r\n",
        "    return vecs"
      ],
      "execution_count": 92,
      "outputs": []
    },
    {
      "cell_type": "code",
      "metadata": {
        "id": "hutMjvDuyFuS"
      },
      "source": [
        "\r\n",
        "model_tg_dmm = Doc2Vec.load('drive/MyDrive/grams/d2v_model_tg_dmm.doc2vec')\r\n",
        "model_ug_dbow = Doc2Vec.load('drive/MyDrive/grams/d2v_model_ug_dbow.doc2vec')\r\n",
        "model_ug_dbow.delete_temporary_training_data(keep_doctags_vectors=True, keep_inference=True)\r\n",
        "model_tg_dmm.delete_temporary_training_data(keep_doctags_vectors=True, keep_inference=True)"
      ],
      "execution_count": 93,
      "outputs": []
    },
    {
      "cell_type": "code",
      "metadata": {
        "id": "aOuHPhsKyHul"
      },
      "source": [
        "train_vecs_ugdbow_tgdmm = get_concat_vectors(model_ug_dbow,model_tg_dmm, x_train, 200)\r\n",
        "validation_vecs_ugdbow_tgdmm = get_concat_vectors(model_ug_dbow,model_tg_dmm, x_validation, 200)"
      ],
      "execution_count": 94,
      "outputs": []
    },
    {
      "cell_type": "markdown",
      "metadata": {
        "id": "UE-4GJMa1Mpx"
      },
      "source": [
        "## Dimensionality Reduction"
      ]
    },
    {
      "cell_type": "markdown",
      "metadata": {
        "id": "QmaA1DJn1RYt"
      },
      "source": [
        "### Chi2 Feature Selection"
      ]
    },
    {
      "cell_type": "code",
      "metadata": {
        "id": "NQMLeGf3LJl5"
      },
      "source": [
        "tvec = TfidfVectorizer(max_features=100000,ngram_range=(1, 3))\r\n",
        "x_train_tfidf = tvec.fit_transform(x_train)\r\n",
        "x_validation_tfidf = tvec.transform(x_validation)"
      ],
      "execution_count": 95,
      "outputs": []
    },
    {
      "cell_type": "code",
      "metadata": {
        "id": "KGqQhwYsLUAG"
      },
      "source": [
        "from sklearn.feature_selection import chi2\r\n",
        "chi2score = chi2(x_train_tfidf, y_train)[0]"
      ],
      "execution_count": 96,
      "outputs": []
    },
    {
      "cell_type": "code",
      "metadata": {
        "colab": {
          "base_uri": "https://localhost:8080/",
          "height": 625
        },
        "id": "VIXHzPPq1WbT",
        "outputId": "2e262ea5-0dc8-4bf1-9a1d-dd61e72c817e"
      },
      "source": [
        "plt.figure(figsize=(15,10))\r\n",
        "wscores = zip(tvec.get_feature_names(), chi2score)\r\n",
        "wchi2 = sorted(wscores, key=lambda x:x[1])\r\n",
        "topchi2 = list(zip(*wchi2[-20:]))\r\n",
        "#topchi2 = zip(wchi2)\r\n",
        "x = range(len(topchi2[1]))\r\n",
        "labels = topchi2[0]\r\n",
        "plt.barh(x,topchi2[1], align='center', alpha=0.2)\r\n",
        "plt.plot(topchi2[1], x, '-o', markersize=5, alpha=0.8)\r\n",
        "plt.yticks(x, labels)\r\n",
        "plt.xlabel('$\\chi^2$')"
      ],
      "execution_count": 97,
      "outputs": [
        {
          "output_type": "execute_result",
          "data": {
            "text/plain": [
              "Text(0.5, 0, '$\\\\chi^2$')"
            ]
          },
          "metadata": {
            "tags": []
          },
          "execution_count": 97
        },
        {
          "output_type": "display_data",
          "data": {
            "image/png": "[encoded data removed]",
            "text/plain": [
              "<Figure size 1080x720 with 1 Axes>"
            ]
          },
          "metadata": {
            "tags": [],
            "image/png": {
              "width": 1078,
              "height": 591
            },
            "needs_background": "light"
          }
        }
      ]
    },
    {
      "cell_type": "markdown",
      "metadata": {
        "id": "Sa6SInrS4DXa"
      },
      "source": [
        "### Principal Component Analysis (PCA)"
      ]
    },
    {
      "cell_type": "code",
      "metadata": {
        "id": "yZTHyGPk1Ylw"
      },
      "source": [
        "from sklearn.preprocessing import StandardScaler\r\n",
        "\r\n",
        "scaler = StandardScaler()\r\n",
        "d2v_ugdbow_tgdmm_std = scaler.fit_transform(train_vecs_ugdbow_tgdmm)\r\n",
        "d2v_ugdbow_tgdmm_std_val = scaler.fit_transform(validation_vecs_ugdbow_tgdmm)"
      ],
      "execution_count": 98,
      "outputs": []
    },
    {
      "cell_type": "code",
      "metadata": {
        "id": "-bRk1n8n4GK3"
      },
      "source": [
        "from sklearn.decomposition import PCA\r\n",
        "\r\n",
        "d2v_pca = PCA().fit(d2v_ugdbow_tgdmm_std)"
      ],
      "execution_count": 99,
      "outputs": []
    },
    {
      "cell_type": "code",
      "metadata": {
        "colab": {
          "base_uri": "https://localhost:8080/",
          "height": 403
        },
        "id": "ERYsteEP4HsA",
        "outputId": "c0cc35d0-dcec-4412-a736-5028fafcd5d3"
      },
      "source": [
        "fig, ax = plt.subplots(figsize=(8,6))\r\n",
        "\r\n",
        "x_values = range(1, d2v_pca.n_components_+1)\r\n",
        "\r\n",
        "ax.plot(x_values, d2v_pca.explained_variance_ratio_, lw=2, label='explained variance')\r\n",
        "ax.plot(x_values, np.cumsum(d2v_pca.explained_variance_ratio_), lw=2, label='cumulative explained variance')\r\n",
        "ax.set_title('Doc2vec (unigram DBOW + trigram DMM) : explained variance of components')\r\n",
        "ax.set_xlabel('principal component')\r\n",
        "ax.set_ylabel('explained variance')\r\n",
        "plt.show()"
      ],
      "execution_count": 100,
      "outputs": [
        {
          "output_type": "display_data",
          "data": {
            "image/png": "[encoded data removed]",
            "text/plain": [
              "<Figure size 576x432 with 1 Axes>"
            ]
          },
          "metadata": {
            "tags": [],
            "image/png": {
              "width": 584,
              "height": 386
            },
            "needs_background": "light"
          }
        }
      ]
    },
    {
      "cell_type": "code",
      "metadata": {
        "id": "qfhcLPWN4JuS"
      },
      "source": [
        "#while True:pass"
      ],
      "execution_count": 101,
      "outputs": []
    },
    {
      "cell_type": "code",
      "metadata": {
        "id": "JuL6zsuOGS61"
      },
      "source": [
        "from gensim.models import Doc2Vec\r\n",
        "\r\n",
        "def get_concat_vectors(model1,model2, corpus, size):\r\n",
        "    vecs = np.zeros((len(corpus), size))\r\n",
        "    n = 0\r\n",
        "    for i in corpus.index:\r\n",
        "        prefix = 'all_' + str(i)\r\n",
        "        vecs[n] = np.append(model1.docvecs[prefix],model2.docvecs[prefix])\r\n",
        "        n += 1\r\n",
        "    return vecs"
      ],
      "execution_count": 102,
      "outputs": []
    },
    {
      "cell_type": "code",
      "metadata": {
        "id": "G1FZift7NuwI"
      },
      "source": [
        "model_ug_dbow = Doc2Vec.load('drive/MyDrive/grams/d2v_model_ug_dbow.doc2vec')\r\n",
        "model_tg_dmm = Doc2Vec.load('drive/MyDrive/grams/d2v_model_tg_dmm.doc2vec')\r\n",
        "model_ug_dbow.delete_temporary_training_data(keep_doctags_vectors=True, keep_inference=True)\r\n",
        "model_tg_dmm.delete_temporary_training_data(keep_doctags_vectors=True, keep_inference=True)"
      ],
      "execution_count": 103,
      "outputs": []
    },
    {
      "cell_type": "code",
      "metadata": {
        "id": "byUWUGZtNySN"
      },
      "source": [
        "train_vecs_ugdbow_tgdmm = get_concat_vectors(model_ug_dbow,model_tg_dmm, x_train, 200)\r\n",
        "validation_vecs_ugdbow_tgdmm = get_concat_vectors(model_ug_dbow,model_tg_dmm, x_validation, 200)"
      ],
      "execution_count": 104,
      "outputs": []
    },
    {
      "cell_type": "code",
      "metadata": {
        "id": "t2quhRasOH3p"
      },
      "source": [
        "seed = 7\r\n",
        "\r\n",
        "from keras.models import Sequential\r\n",
        "from keras.layers import Dense, Dropout\r\n",
        "from keras.layers import Flatten\r\n",
        "from keras.layers.embeddings import Embedding\r\n",
        "from keras.preprocessing import sequence"
      ],
      "execution_count": 105,
      "outputs": []
    },
    {
      "cell_type": "code",
      "metadata": {
        "colab": {
          "base_uri": "https://localhost:8080/"
        },
        "id": "2rYI_aJqRuAp",
        "outputId": "181cc5fb-4d44-4ddd-8058-df645ef74f45"
      },
      "source": [
        "x_train.shape[0]"
      ],
      "execution_count": 106,
      "outputs": [
        {
          "output_type": "execute_result",
          "data": {
            "text/plain": [
              "24976"
            ]
          },
          "metadata": {
            "tags": []
          },
          "execution_count": 106
        }
      ]
    },
    {
      "cell_type": "code",
      "metadata": {
        "colab": {
          "base_uri": "https://localhost:8080/"
        },
        "id": "CcUCo2OzZw_2",
        "outputId": "dd2c20f7-e6b1-46a2-c786-f66444e7ae17"
      },
      "source": [
        "y_train"
      ],
      "execution_count": 107,
      "outputs": [
        {
          "output_type": "execute_result",
          "data": {
            "text/plain": [
              "array([[0., 0., 0., ..., 0., 0., 0.],\n",
              "       [0., 0., 0., ..., 0., 0., 0.],\n",
              "       [1., 0., 0., ..., 0., 0., 0.],\n",
              "       ...,\n",
              "       [0., 0., 0., ..., 0., 0., 0.],\n",
              "       [0., 0., 0., ..., 0., 0., 0.],\n",
              "       [0., 0., 1., ..., 0., 0., 0.]], dtype=float32)"
            ]
          },
          "metadata": {
            "tags": []
          },
          "execution_count": 107
        }
      ]
    },
    {
      "cell_type": "code",
      "metadata": {
        "colab": {
          "base_uri": "https://localhost:8080/"
        },
        "id": "H44wU-GvO8Le",
        "outputId": "f6d2ac32-6ab3-4115-b4b7-358ee48d1d3b"
      },
      "source": [
        "%%time\r\n",
        "np.random.seed(seed)\r\n",
        "model_d2v_01 = Sequential()\r\n",
        "model_d2v_01.add(Dense(64, activation='relu', input_dim=200))\r\n",
        "model_d2v_01.add(Dense(74, activation='sigmoid'))\r\n",
        "model_d2v_01.compile(optimizer='adam',\r\n",
        "              loss='categorical_crossentropy',\r\n",
        "              metrics=['accuracy'])\r\n",
        "\r\n",
        "model_d2v_01.fit(train_vecs_ugdbow_tgdmm, y_train, validation_data=(validation_vecs_ugdbow_tgdmm, y_validation), epochs=10, batch_size=32, verbose=2)"
      ],
      "execution_count": 108,
      "outputs": [
        {
          "output_type": "stream",
          "text": [
            "Epoch 1/10\n",
            "781/781 - 3s - loss: 2.7017 - accuracy: 0.3334 - val_loss: 2.1064 - val_accuracy: 0.4388\n",
            "Epoch 2/10\n",
            "781/781 - 2s - loss: 1.9003 - accuracy: 0.4856 - val_loss: 1.7839 - val_accuracy: 0.5054\n",
            "Epoch 3/10\n",
            "781/781 - 2s - loss: 1.6345 - accuracy: 0.5433 - val_loss: 1.6241 - val_accuracy: 0.5279\n",
            "Epoch 4/10\n",
            "781/781 - 2s - loss: 1.4754 - accuracy: 0.5777 - val_loss: 1.5250 - val_accuracy: 0.5506\n",
            "Epoch 5/10\n",
            "781/781 - 2s - loss: 1.3634 - accuracy: 0.6093 - val_loss: 1.4606 - val_accuracy: 0.5644\n",
            "Epoch 6/10\n",
            "781/781 - 2s - loss: 1.2749 - accuracy: 0.6311 - val_loss: 1.3967 - val_accuracy: 0.5772\n",
            "Epoch 7/10\n",
            "781/781 - 2s - loss: 1.2051 - accuracy: 0.6491 - val_loss: 1.3577 - val_accuracy: 0.5935\n",
            "Epoch 8/10\n",
            "781/781 - 2s - loss: 1.1448 - accuracy: 0.6636 - val_loss: 1.3243 - val_accuracy: 0.5935\n",
            "Epoch 9/10\n",
            "781/781 - 2s - loss: 1.0957 - accuracy: 0.6762 - val_loss: 1.3018 - val_accuracy: 0.6009\n",
            "Epoch 10/10\n",
            "781/781 - 2s - loss: 1.0500 - accuracy: 0.6926 - val_loss: 1.2743 - val_accuracy: 0.6127\n",
            "CPU times: user 23.7 s, sys: 7.44 s, total: 31.1 s\n",
            "Wall time: 21.4 s\n"
          ],
          "name": "stdout"
        }
      ]
    },
    {
      "cell_type": "code",
      "metadata": {
        "id": "1oFKW1IwPBhb",
        "colab": {
          "base_uri": "https://localhost:8080/"
        },
        "outputId": "50a8fdf3-a531-4b42-ea05-36cd08655d03"
      },
      "source": [
        "np.random.seed(seed)\r\n",
        "model_d2v_02 = Sequential()\r\n",
        "model_d2v_02.add(Dense(64, activation='relu', input_dim=200))\r\n",
        "model_d2v_02.add(Dense(64, activation='relu'))\r\n",
        "model_d2v_02.add(Dense(74, activation='softmax'))\r\n",
        "model_d2v_02.compile(optimizer='adam',\r\n",
        "              loss='categorical_crossentropy',\r\n",
        "              metrics=['accuracy'])\r\n",
        "\r\n",
        "model_d2v_02.fit(train_vecs_ugdbow_tgdmm, y_train, validation_data=(validation_vecs_ugdbow_tgdmm, y_validation), epochs=10, batch_size=32, verbose=2)"
      ],
      "execution_count": 109,
      "outputs": [
        {
          "output_type": "stream",
          "text": [
            "Epoch 1/10\n",
            "781/781 - 2s - loss: 2.6752 - accuracy: 0.3274 - val_loss: 2.0746 - val_accuracy: 0.4347\n",
            "Epoch 2/10\n",
            "781/781 - 2s - loss: 1.8838 - accuracy: 0.4785 - val_loss: 1.7739 - val_accuracy: 0.4946\n",
            "Epoch 3/10\n",
            "781/781 - 2s - loss: 1.6060 - accuracy: 0.5379 - val_loss: 1.5978 - val_accuracy: 0.5352\n",
            "Epoch 4/10\n",
            "781/781 - 2s - loss: 1.4240 - accuracy: 0.5850 - val_loss: 1.4729 - val_accuracy: 0.5634\n",
            "Epoch 5/10\n",
            "781/781 - 2s - loss: 1.2851 - accuracy: 0.6206 - val_loss: 1.4260 - val_accuracy: 0.5820\n",
            "Epoch 6/10\n",
            "781/781 - 2s - loss: 1.1755 - accuracy: 0.6507 - val_loss: 1.3546 - val_accuracy: 0.5916\n",
            "Epoch 7/10\n",
            "781/781 - 2s - loss: 1.0874 - accuracy: 0.6762 - val_loss: 1.3070 - val_accuracy: 0.6035\n",
            "Epoch 8/10\n",
            "781/781 - 2s - loss: 1.0130 - accuracy: 0.6943 - val_loss: 1.2705 - val_accuracy: 0.6086\n",
            "Epoch 9/10\n",
            "781/781 - 2s - loss: 0.9477 - accuracy: 0.7139 - val_loss: 1.2303 - val_accuracy: 0.6310\n",
            "Epoch 10/10\n",
            "781/781 - 2s - loss: 0.8911 - accuracy: 0.7314 - val_loss: 1.2080 - val_accuracy: 0.6326\n"
          ],
          "name": "stdout"
        },
        {
          "output_type": "execute_result",
          "data": {
            "text/plain": [
              "<tensorflow.python.keras.callbacks.History at 0x7f13c9afe400>"
            ]
          },
          "metadata": {
            "tags": []
          },
          "execution_count": 109
        }
      ]
    },
    {
      "cell_type": "code",
      "metadata": {
        "id": "Q6nlw0hFSSsI",
        "colab": {
          "base_uri": "https://localhost:8080/"
        },
        "outputId": "27c74b38-24b3-4a8e-ed2b-3d6963f09d74"
      },
      "source": [
        "np.random.seed(seed)\r\n",
        "model_d2v_03 = Sequential()\r\n",
        "model_d2v_03.add(Dense(64, activation='relu', input_dim=200))\r\n",
        "model_d2v_03.add(Dense(64, activation='relu'))\r\n",
        "model_d2v_03.add(Dense(64, activation='relu'))\r\n",
        "model_d2v_03.add(Dense(74, activation='softmax'))\r\n",
        "model_d2v_03.compile(optimizer='adam',\r\n",
        "              loss='categorical_crossentropy',\r\n",
        "              metrics=['accuracy'])\r\n",
        "\r\n",
        "model_d2v_03.fit(train_vecs_ugdbow_tgdmm, y_train, validation_data=(validation_vecs_ugdbow_tgdmm, y_validation), epochs=10, batch_size=32, verbose=2)"
      ],
      "execution_count": 110,
      "outputs": [
        {
          "output_type": "stream",
          "text": [
            "Epoch 1/10\n",
            "781/781 - 3s - loss: 2.6978 - accuracy: 0.3183 - val_loss: 2.1254 - val_accuracy: 0.4299\n",
            "Epoch 2/10\n",
            "781/781 - 2s - loss: 1.9170 - accuracy: 0.4746 - val_loss: 1.8109 - val_accuracy: 0.4910\n",
            "Epoch 3/10\n",
            "781/781 - 2s - loss: 1.6060 - accuracy: 0.5448 - val_loss: 1.6141 - val_accuracy: 0.5394\n",
            "Epoch 4/10\n",
            "781/781 - 2s - loss: 1.4007 - accuracy: 0.5981 - val_loss: 1.4953 - val_accuracy: 0.5717\n",
            "Epoch 5/10\n",
            "781/781 - 2s - loss: 1.2483 - accuracy: 0.6353 - val_loss: 1.4073 - val_accuracy: 0.5878\n",
            "Epoch 6/10\n",
            "781/781 - 2s - loss: 1.1242 - accuracy: 0.6657 - val_loss: 1.3377 - val_accuracy: 0.6060\n",
            "Epoch 7/10\n",
            "781/781 - 2s - loss: 1.0184 - accuracy: 0.6952 - val_loss: 1.3107 - val_accuracy: 0.6163\n",
            "Epoch 8/10\n",
            "781/781 - 2s - loss: 0.9369 - accuracy: 0.7150 - val_loss: 1.2689 - val_accuracy: 0.6236\n",
            "Epoch 9/10\n",
            "781/781 - 2s - loss: 0.8735 - accuracy: 0.7330 - val_loss: 1.2331 - val_accuracy: 0.6406\n",
            "Epoch 10/10\n",
            "781/781 - 2s - loss: 0.8149 - accuracy: 0.7515 - val_loss: 1.2092 - val_accuracy: 0.6409\n"
          ],
          "name": "stdout"
        },
        {
          "output_type": "execute_result",
          "data": {
            "text/plain": [
              "<tensorflow.python.keras.callbacks.History at 0x7f13c9b95588>"
            ]
          },
          "metadata": {
            "tags": []
          },
          "execution_count": 110
        }
      ]
    },
    {
      "cell_type": "code",
      "metadata": {
        "id": "QyJVC6BrSWz4",
        "colab": {
          "base_uri": "https://localhost:8080/"
        },
        "outputId": "cb413fed-afe6-49a0-fafe-adfb6c9c4e3b"
      },
      "source": [
        "np.random.seed(seed)\r\n",
        "model_d2v_04 = Sequential()\r\n",
        "model_d2v_04.add(Dense(128, activation='relu', input_dim=200))\r\n",
        "model_d2v_04.add(Dense(74, activation='softmax'))\r\n",
        "model_d2v_04.compile(optimizer='adam',\r\n",
        "              loss='categorical_crossentropy',\r\n",
        "              metrics=['accuracy'])\r\n",
        "\r\n",
        "model_d2v_04.fit(train_vecs_ugdbow_tgdmm, y_train, validation_data=(validation_vecs_ugdbow_tgdmm, y_validation), epochs=10, batch_size=32, verbose=2)"
      ],
      "execution_count": 111,
      "outputs": [
        {
          "output_type": "stream",
          "text": [
            "Epoch 1/10\n",
            "781/781 - 2s - loss: 2.4855 - accuracy: 0.3770 - val_loss: 1.9077 - val_accuracy: 0.4792\n",
            "Epoch 2/10\n",
            "781/781 - 2s - loss: 1.6686 - accuracy: 0.5378 - val_loss: 1.5888 - val_accuracy: 0.5423\n",
            "Epoch 3/10\n",
            "781/781 - 2s - loss: 1.3819 - accuracy: 0.6051 - val_loss: 1.4300 - val_accuracy: 0.5826\n",
            "Epoch 4/10\n",
            "781/781 - 2s - loss: 1.2018 - accuracy: 0.6512 - val_loss: 1.3021 - val_accuracy: 0.6118\n",
            "Epoch 5/10\n",
            "781/781 - 2s - loss: 1.0697 - accuracy: 0.6885 - val_loss: 1.2343 - val_accuracy: 0.6297\n",
            "Epoch 6/10\n",
            "781/781 - 2s - loss: 0.9593 - accuracy: 0.7182 - val_loss: 1.1532 - val_accuracy: 0.6547\n",
            "Epoch 7/10\n",
            "781/781 - 2s - loss: 0.8672 - accuracy: 0.7458 - val_loss: 1.0994 - val_accuracy: 0.6624\n",
            "Epoch 8/10\n",
            "781/781 - 2s - loss: 0.7945 - accuracy: 0.7671 - val_loss: 1.0544 - val_accuracy: 0.6739\n",
            "Epoch 9/10\n",
            "781/781 - 2s - loss: 0.7272 - accuracy: 0.7864 - val_loss: 1.0099 - val_accuracy: 0.6871\n",
            "Epoch 10/10\n",
            "781/781 - 2s - loss: 0.6701 - accuracy: 0.8024 - val_loss: 0.9911 - val_accuracy: 0.6935\n"
          ],
          "name": "stdout"
        },
        {
          "output_type": "execute_result",
          "data": {
            "text/plain": [
              "<tensorflow.python.keras.callbacks.History at 0x7f13c98aeda0>"
            ]
          },
          "metadata": {
            "tags": []
          },
          "execution_count": 111
        }
      ]
    },
    {
      "cell_type": "code",
      "metadata": {
        "id": "MCBME1R4SbBd",
        "colab": {
          "base_uri": "https://localhost:8080/"
        },
        "outputId": "0d64d3ba-277b-46d1-d874-f73272d64159"
      },
      "source": [
        "np.random.seed(seed)\r\n",
        "model_d2v_05 = Sequential()\r\n",
        "model_d2v_05.add(Dense(128, activation='relu', input_dim=200))\r\n",
        "model_d2v_05.add(Dense(128, activation='relu'))\r\n",
        "model_d2v_05.add(Dense(74, activation='softmax'))\r\n",
        "model_d2v_05.compile(optimizer='adam',\r\n",
        "              loss='categorical_crossentropy',\r\n",
        "              metrics=['accuracy'])\r\n",
        "\r\n",
        "model_d2v_05.fit(train_vecs_ugdbow_tgdmm, y_train, validation_data=(validation_vecs_ugdbow_tgdmm, y_validation), epochs=10, batch_size=32, verbose=2)"
      ],
      "execution_count": 112,
      "outputs": [
        {
          "output_type": "stream",
          "text": [
            "Epoch 1/10\n",
            "781/781 - 2s - loss: 2.4325 - accuracy: 0.3802 - val_loss: 1.8456 - val_accuracy: 0.4898\n",
            "Epoch 2/10\n",
            "781/781 - 2s - loss: 1.5833 - accuracy: 0.5520 - val_loss: 1.4738 - val_accuracy: 0.5708\n",
            "Epoch 3/10\n",
            "781/781 - 2s - loss: 1.2277 - accuracy: 0.6413 - val_loss: 1.3083 - val_accuracy: 0.6272\n",
            "Epoch 4/10\n",
            "781/781 - 2s - loss: 0.9928 - accuracy: 0.7046 - val_loss: 1.1512 - val_accuracy: 0.6553\n",
            "Epoch 5/10\n",
            "781/781 - 2s - loss: 0.8242 - accuracy: 0.7543 - val_loss: 1.0924 - val_accuracy: 0.6794\n",
            "Epoch 6/10\n",
            "781/781 - 2s - loss: 0.7108 - accuracy: 0.7872 - val_loss: 0.9995 - val_accuracy: 0.6980\n",
            "Epoch 7/10\n",
            "781/781 - 2s - loss: 0.6144 - accuracy: 0.8137 - val_loss: 1.0010 - val_accuracy: 0.7024\n",
            "Epoch 8/10\n",
            "781/781 - 2s - loss: 0.5358 - accuracy: 0.8370 - val_loss: 0.9475 - val_accuracy: 0.7162\n",
            "Epoch 9/10\n",
            "781/781 - 2s - loss: 0.4730 - accuracy: 0.8548 - val_loss: 0.9267 - val_accuracy: 0.7156\n",
            "Epoch 10/10\n",
            "781/781 - 2s - loss: 0.4246 - accuracy: 0.8695 - val_loss: 0.9050 - val_accuracy: 0.7332\n"
          ],
          "name": "stdout"
        },
        {
          "output_type": "execute_result",
          "data": {
            "text/plain": [
              "<tensorflow.python.keras.callbacks.History at 0x7f13cb1ca5c0>"
            ]
          },
          "metadata": {
            "tags": []
          },
          "execution_count": 112
        }
      ]
    },
    {
      "cell_type": "code",
      "metadata": {
        "id": "69Q_lGBBSfKU",
        "colab": {
          "base_uri": "https://localhost:8080/"
        },
        "outputId": "ac0d50ce-d761-4b9e-a313-6ce35d437c0c"
      },
      "source": [
        "np.random.seed(seed)\r\n",
        "model_d2v_06 = Sequential()\r\n",
        "model_d2v_06.add(Dense(128, activation='relu', input_dim=200))\r\n",
        "model_d2v_06.add(Dense(128, activation='relu'))\r\n",
        "model_d2v_06.add(Dense(128, activation='relu'))\r\n",
        "model_d2v_06.add(Dense(74, activation='softmax'))\r\n",
        "model_d2v_06.compile(optimizer='adam',\r\n",
        "              loss='categorical_crossentropy',\r\n",
        "              metrics=['accuracy'])\r\n",
        "\r\n",
        "model_d2v_06.fit(train_vecs_ugdbow_tgdmm, y_train, validation_data=(validation_vecs_ugdbow_tgdmm, y_validation), epochs=10, batch_size=32, verbose=2)"
      ],
      "execution_count": 113,
      "outputs": [
        {
          "output_type": "stream",
          "text": [
            "Epoch 1/10\n",
            "781/781 - 2s - loss: 2.4543 - accuracy: 0.3675 - val_loss: 1.8468 - val_accuracy: 0.4725\n",
            "Epoch 2/10\n",
            "781/781 - 2s - loss: 1.5588 - accuracy: 0.5582 - val_loss: 1.4775 - val_accuracy: 0.5682\n",
            "Epoch 3/10\n",
            "781/781 - 2s - loss: 1.1528 - accuracy: 0.6608 - val_loss: 1.2146 - val_accuracy: 0.6323\n",
            "Epoch 4/10\n",
            "781/781 - 2s - loss: 0.8901 - accuracy: 0.7319 - val_loss: 1.1318 - val_accuracy: 0.6685\n",
            "Epoch 5/10\n",
            "781/781 - 2s - loss: 0.7100 - accuracy: 0.7859 - val_loss: 1.0117 - val_accuracy: 0.7050\n",
            "Epoch 6/10\n",
            "781/781 - 2s - loss: 0.5812 - accuracy: 0.8173 - val_loss: 0.9748 - val_accuracy: 0.7124\n",
            "Epoch 7/10\n",
            "781/781 - 2s - loss: 0.4927 - accuracy: 0.8445 - val_loss: 0.9662 - val_accuracy: 0.7136\n",
            "Epoch 8/10\n",
            "781/781 - 2s - loss: 0.4266 - accuracy: 0.8662 - val_loss: 0.9688 - val_accuracy: 0.7188\n",
            "Epoch 9/10\n",
            "781/781 - 2s - loss: 0.3648 - accuracy: 0.8828 - val_loss: 0.9658 - val_accuracy: 0.7252\n",
            "Epoch 10/10\n",
            "781/781 - 2s - loss: 0.3240 - accuracy: 0.8943 - val_loss: 0.9607 - val_accuracy: 0.7335\n"
          ],
          "name": "stdout"
        },
        {
          "output_type": "execute_result",
          "data": {
            "text/plain": [
              "<tensorflow.python.keras.callbacks.History at 0x7f13c9e2b240>"
            ]
          },
          "metadata": {
            "tags": []
          },
          "execution_count": 113
        }
      ]
    },
    {
      "cell_type": "code",
      "metadata": {
        "id": "zJmb_mq-VKL7"
      },
      "source": [
        "#while True:pass"
      ],
      "execution_count": 114,
      "outputs": []
    },
    {
      "cell_type": "code",
      "metadata": {
        "id": "tYO0YwBh5wm9"
      },
      "source": [
        "while True:pass"
      ],
      "execution_count": null,
      "outputs": []
    },
    {
      "cell_type": "code",
      "metadata": {
        "id": "RALziR-EgUX_"
      },
      "source": [
        ""
      ],
      "execution_count": null,
      "outputs": []
    }
  ]
}