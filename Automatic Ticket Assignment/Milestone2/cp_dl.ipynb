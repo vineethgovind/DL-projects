{
 "cells": [
  {
   "cell_type": "code",
   "execution_count": 1,
   "metadata": {
    "colab": {
     "base_uri": "https://localhost:8080/",
     "height": 140,
     "resources": {
      "http://localhost:8080/nbextensions/google.colab/files.js": {
       "data": "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",
       "headers": [
        [
         "content-type",
         "application/javascript"
        ]
       ],
       "ok": true,
       "status": 200,
       "status_text": ""
      }
     }
    },
    "id": "ZiCE-P5OMSi5",
    "outputId": "7ae87515-78c5-48ec-ec10-12cbf29c9b9d"
   },
   "outputs": [
    {
     "data": {
      "text/html": [
       "\n",
       "     <input type=\"file\" id=\"files-25de0c2a-dfe8-4c1f-8c3c-0fcfd4261593\" name=\"files[]\" multiple disabled\n",
       "        style=\"border:none\" />\n",
       "     <output id=\"result-25de0c2a-dfe8-4c1f-8c3c-0fcfd4261593\">\n",
       "      Upload widget is only available when the cell has been executed in the\n",
       "      current browser session. Please rerun this cell to enable.\n",
       "      </output>\n",
       "      <script src=\"/nbextensions/google.colab/files.js\"></script> "
      ],
      "text/plain": [
       "<IPython.core.display.HTML object>"
      ]
     },
     "metadata": {
      "tags": []
     },
     "output_type": "display_data"
    },
    {
     "name": "stdout",
     "output_type": "stream",
     "text": [
      "Saving pre_data_dl.xlsx to pre_data_dl.xlsx\n",
      "Saving pre_data_dl_aug1.xlsx to pre_data_dl_aug1.xlsx\n",
      "Saving pre_data_dl_aug2.xlsx to pre_data_dl_aug2.xlsx\n"
     ]
    }
   ],
   "source": [
    "#from google.colab import files\n",
    "#uploaded = files.upload()"
   ]
  },
  {
   "cell_type": "code",
   "execution_count": 1,
   "metadata": {
    "id": "5pjokHDIMxvG"
   },
   "outputs": [],
   "source": [
    "import tensorflow as tf \n",
    "from tensorflow.keras.preprocessing.sequence import pad_sequences\n",
    "from tensorflow.keras import layers\n",
    "from tensorflow.keras.layers import Embedding,LSTM,TimeDistributed,Dense,Flatten,Dropout,RepeatVector,GRU,Bidirectional\n",
    "from tensorflow.keras.utils import to_categorical\n",
    "from tensorflow.keras.models import Sequential\n",
    "from tensorflow.keras.preprocessing.text import Tokenizer\n",
    "from tensorflow.keras.callbacks import ModelCheckpoint, EarlyStopping\n",
    "import numpy as np\n",
    "import pandas as pd\n",
    "from sklearn.model_selection import train_test_split\n",
    "import matplotlib.pyplot as plt\n",
    "from tensorflow.keras.optimizers import Adam"
   ]
  },
  {
   "cell_type": "code",
   "execution_count": 3,
   "metadata": {
    "colab": {
     "base_uri": "https://localhost:8080/"
    },
    "id": "rx9PWnpTM6AX",
    "outputId": "0bf2d54f-b83d-40b1-ef8b-ecfe8de92958"
   },
   "outputs": [
    {
     "name": "stdout",
     "output_type": "stream",
     "text": [
      "   Unnamed: 0  Unnamed: 0.1  \\\n",
      "0           0             0   \n",
      "1           1             1   \n",
      "2           2             2   \n",
      "3           3             3   \n",
      "4           4             4   \n",
      "\n",
      "                        Combined Description Cleaned Assignment group  \n",
      "0  login issue user manager name checked the name...            GRP_0  \n",
      "1  outlook received from hello team my are not in...            GRP_0  \n",
      "2    cannot log in to received from   cannot on best            GRP_0  \n",
      "3                         unable to access tool page            GRP_0  \n",
      "4                                              error            GRP_0  \n",
      "   Unnamed: 0                       Combined Description Cleaned  \\\n",
      "0           0  login issue user manager name checked the name...   \n",
      "1           1  outlook received from hello team my are not in...   \n",
      "2           2  cannot log in to received from hi i cannot on ...   \n",
      "3           3                         unable to access tool page   \n",
      "4           4                                              error   \n",
      "\n",
      "  Assignment group  LabelEncodings  \n",
      "0            GRP_0               0  \n",
      "1            GRP_0               0  \n",
      "2            GRP_0               0  \n",
      "3            GRP_0               0  \n",
      "4            GRP_0               0  \n",
      "   Unnamed: 0                       Combined Description Cleaned  \\\n",
      "0           0  login issue user manager name checked the name...   \n",
      "1           1  outlook received from hello team my are not in...   \n",
      "2           2  cannot log in to received from hi i cannot on ...   \n",
      "3           3                         unable to access tool page   \n",
      "4           4                                              error   \n",
      "\n",
      "  Assignment group  LabelEncodings  \n",
      "0            GRP_0               0  \n",
      "1            GRP_0               0  \n",
      "2            GRP_0               0  \n",
      "3            GRP_0               0  \n",
      "4            GRP_0               0  \n"
     ]
    }
   ],
   "source": [
    "filename='pre_data_dl.xlsx'\n",
    "data_dl=pd.read_excel(filename)\n",
    "pd.set_option('display.max_columns', None)\n",
    "print(data_dl.head())\n",
    "\n",
    "filename1='pre_data_dl_aug1.xlsx'\n",
    "filename2='pre_data_dl_aug2.xlsx'\n",
    "\n",
    "data_dl_aug1=pd.read_excel(filename1)\n",
    "pd.set_option('display.max_columns', None)\n",
    "print(data_dl_aug1.head())\n",
    "\n",
    "data_dl_aug2=pd.read_excel(filename2)\n",
    "print(data_dl_aug2.head())\n"
   ]
  },
  {
   "cell_type": "code",
   "execution_count": 4,
   "metadata": {
    "id": "FhdP0_KfNHwp"
   },
   "outputs": [],
   "source": [
    "X = (data_dl[\"Combined Description Cleaned\"])\n",
    "y= (data_dl['Assignment group'])\n",
    "\n",
    "#categorical encoding y\n",
    "y=pd.get_dummies(data_dl['Assignment group'])\n",
    "  "
   ]
  },
  {
   "cell_type": "code",
   "execution_count": 5,
   "metadata": {
    "id": "Fqd83yuiPAqX"
   },
   "outputs": [],
   "source": [
    "#parameters\n",
    "adam = Adam(lr=0.001)\n",
    "max_features=10000\n",
    "emb_dim=300\n",
    "batch_size=128\n",
    "epochs=25"
   ]
  },
  {
   "cell_type": "code",
   "execution_count": 6,
   "metadata": {
    "colab": {
     "base_uri": "https://localhost:8080/"
    },
    "id": "MG-QMXN9PSOI",
    "outputId": "be133ebb-8fd9-4f66-958b-b70d34f01f52"
   },
   "outputs": [
    {
     "name": "stdout",
     "output_type": "stream",
     "text": [
      "vocabulary size is:  3316\n"
     ]
    }
   ],
   "source": [
    "#function for tokenizer\n",
    "def dfTokenizer(df):\n",
    " tokenizer=Tokenizer(num_words=max_features,char_level=False)\n",
    " tokenizer.fit_on_texts(df)\n",
    " sequences=tokenizer.texts_to_sequences(df)\n",
    " return sequences,tokenizer\n",
    "#tokenization\n",
    "X,tokenizer = dfTokenizer(data_dl[\"Combined Description Cleaned\"]) \n",
    "vocab_size=len(tokenizer.word_index)\n",
    "print(\"vocabulary size is: \",vocab_size)"
   ]
  },
  {
   "cell_type": "code",
   "execution_count": 7,
   "metadata": {
    "id": "UyKA-0KUQD1N"
   },
   "outputs": [],
   "source": [
    "#function for padding\n",
    "def pad(x, length=None):\n",
    " if length is None:\n",
    "   length=max([len(sentence)  for sentence in x])\n",
    " return pad_sequences(x,maxlen=length,padding='post')\n",
    " \n",
    " #padding \n",
    "X=pad_sequences(X,padding='post')"
   ]
  },
  {
   "cell_type": "code",
   "execution_count": 8,
   "metadata": {
    "id": "lbNRE75PQec1"
   },
   "outputs": [],
   "source": [
    "#function for splitting the data\n",
    "def split(X,y):\n",
    " X_train_spl,X_test_spl,y_train_spl,y_test_spl=train_test_split(X,y,test_size=0.3,random_state=123)\n",
    " return X_train_spl,X_test_spl,y_train_spl,y_test_spl\n",
    "#split the data\n",
    "X_train,X_test,y_train,y_test=split(X,y)\n"
   ]
  },
  {
   "cell_type": "code",
   "execution_count": 9,
   "metadata": {
    "id": "ZwcC9_SjrSQ6"
   },
   "outputs": [],
   "source": [
    "#configuring the callback\n",
    "early_stopping =  EarlyStopping(\n",
    "    monitor='val_accuracy', \n",
    "    patience=3, \n",
    "    min_delta=0.001, \n",
    "    mode='max'\n",
    ")"
   ]
  },
  {
   "cell_type": "code",
   "execution_count": 10,
   "metadata": {
    "colab": {
     "base_uri": "https://localhost:8080/"
    },
    "id": "kcLvbfIj6-2p",
    "outputId": "c68838eb-6fac-4fd1-b019-6e8c7872c2fa"
   },
   "outputs": [
    {
     "name": "stdout",
     "output_type": "stream",
     "text": [
      "189\n"
     ]
    }
   ],
   "source": [
    "#function for plotting accuracy,loss\n",
    "def plot(model,history):\n",
    " acc = history.history['accuracy']\n",
    " val_acc = history.history['val_accuracy']\n",
    " loss = history.history['loss']\n",
    " val_loss = history.history['val_loss']\n",
    " epochs = range(1, len(acc) + 1)\n",
    " plt.plot(epochs, acc, 'bo', label='Training acc')\n",
    " plt.plot(epochs, val_acc, 'b', label='Validation acc')\n",
    " plt.title(modelname + ' Training and validation accuracy')\n",
    " plt.legend()\n",
    " plt.figure()\n",
    " plt.plot(epochs, loss, 'bo', label='Training loss')\n",
    " plt.plot(epochs, val_loss, 'b', label='Validation loss')\n",
    " plt.title('Training and validation loss')\n",
    " plt.legend()\n",
    " plt.show()\n",
    " return \n",
    "inp_len=X.shape[1]\n",
    "print(inp_len)"
   ]
  },
  {
   "cell_type": "code",
   "execution_count": 11,
   "metadata": {
    "id": "dZxJb6ugQp-j"
   },
   "outputs": [],
   "source": [
    "#Simple LSTM model\n",
    "def LSTM_model(output_len,emb_dim,input_length):\n",
    " model = tf.keras.Sequential()\n",
    " model.add(Embedding(max_features,emb_dim,input_length=inp_len))\n",
    " model.add(LSTM(512, return_sequences=True))\n",
    " model.add(Dropout(0.2))\n",
    " model.add(TimeDistributed(Dense(units = 512, activation = 'relu')))\n",
    " model.add(Flatten())\n",
    " model.add(Dense(74, activation='softmax'))\n",
    " print(model.summary())\n",
    " model.compile(optimizer='adam',\n",
    "              loss='categorical_crossentropy',\n",
    "              metrics=['accuracy'])\n",
    " return model\n",
    " \n",
    "#Using GRU\n",
    "def GRU_model(output_len,emb_dim,input_length):\n",
    " model = tf.keras.Sequential()\n",
    " model.add(Embedding(max_features,emb_dim,input_length=inp_len))\n",
    " model.add(GRU(512, return_sequences=True))\n",
    " model.add(Dropout(0.2))\n",
    " model.add(TimeDistributed(Dense(units = 512, activation = 'relu')))\n",
    " model.add(Flatten())\n",
    " model.add(Dense(74, activation='softmax'))\n",
    " print(model.summary())\n",
    " model.compile(optimizer='adam',\n",
    "              loss='categorical_crossentropy',\n",
    "              metrics=['accuracy'])\n",
    " return model\n",
    "\n",
    "#Using bidirectional LSTM\n",
    "\n",
    "def BILSTM_model(output_len,emb_dim,input_length):\n",
    " model = tf.keras.Sequential()\n",
    " model.add(Embedding(max_features,emb_dim,input_length=inp_len))\n",
    " model.add(Bidirectional(LSTM(512, return_sequences=True)))\n",
    " model.add(Dropout(0.2))\n",
    " model.add(TimeDistributed(Dense(units = 512, activation = 'relu')))\n",
    " model.add(Flatten())\n",
    " model.add(Dense(74, activation='softmax'))\n",
    " print(model.summary())\n",
    " model.compile(optimizer='adam',\n",
    "              loss='categorical_crossentropy',\n",
    "              metrics=['accuracy'])\n",
    " return model\n",
    "\n",
    "#Using bidirectional GRU\n",
    "def BIGRU_model(output_len,emb_dim,input_length):\n",
    " model = tf.keras.Sequential()\n",
    " model.add(Embedding(max_features,emb_dim,input_length=inp_len))\n",
    " model.add(Bidirectional(GRU(512, return_sequences=True)))\n",
    " model.add(Dropout(0.2))\n",
    " model.add(TimeDistributed(Dense(units = 512, activation = 'relu')))\n",
    " model.add(Flatten())\n",
    " model.add(Dense(74, activation='softmax'))\n",
    " print(model.summary())\n",
    " model.compile(optimizer='adam',\n",
    "              loss='categorical_crossentropy',\n",
    "              metrics=['accuracy'])\n",
    " return model\n"
   ]
  },
  {
   "cell_type": "code",
   "execution_count": null,
   "metadata": {
    "colab": {
     "base_uri": "https://localhost:8080/"
    },
    "id": "AlELfXNMvHj4",
    "outputId": "7d44f2c5-cbe0-4e06-b87a-b4609e2cbb2d"
   },
   "outputs": [
    {
     "name": "stdout",
     "output_type": "stream",
     "text": [
      "Model: \"sequential\"\n",
      "_________________________________________________________________\n",
      "Layer (type)                 Output Shape              Param #   \n",
      "=================================================================\n",
      "embedding (Embedding)        (None, 189, 300)          3000000   \n",
      "_________________________________________________________________\n",
      "lstm (LSTM)                  (None, 189, 512)          1665024   \n",
      "_________________________________________________________________\n",
      "dropout (Dropout)            (None, 189, 512)          0         \n",
      "_________________________________________________________________\n",
      "time_distributed (TimeDistri (None, 189, 512)          262656    \n",
      "_________________________________________________________________\n",
      "flatten (Flatten)            (None, 96768)             0         \n",
      "_________________________________________________________________\n",
      "dense_1 (Dense)              (None, 74)                7160906   \n",
      "=================================================================\n",
      "Total params: 12,088,586\n",
      "Trainable params: 12,088,586\n",
      "Non-trainable params: 0\n",
      "_________________________________________________________________\n",
      "None\n",
      "Epoch 1/25\n",
      "47/47 [==============================] - 413s 9s/step - loss: 2.8814 - accuracy: 0.4236 - val_loss: 2.0028 - val_accuracy: 0.5466\n",
      "Epoch 2/25\n",
      "47/47 [==============================] - 399s 9s/step - loss: 1.8647 - accuracy: 0.5545 - val_loss: 1.7873 - val_accuracy: 0.5866\n",
      "Epoch 3/25\n",
      "47/47 [==============================] - 390s 8s/step - loss: 1.5698 - accuracy: 0.5975 - val_loss: 1.6909 - val_accuracy: 0.6047\n",
      "Epoch 4/25\n",
      "47/47 [==============================] - 392s 8s/step - loss: 1.1465 - accuracy: 0.6846 - val_loss: 1.7560 - val_accuracy: 0.6004\n",
      "Epoch 5/25\n",
      "47/47 [==============================] - 386s 8s/step - loss: 0.8573 - accuracy: 0.7502 - val_loss: 1.8613 - val_accuracy: 0.5937\n",
      "Epoch 6/25\n",
      "47/47 [==============================] - 386s 8s/step - loss: 0.6758 - accuracy: 0.7914 - val_loss: 2.0156 - val_accuracy: 0.5796\n"
     ]
    }
   ],
   "source": [
    "model_LSTM=LSTM_model(max_features,emb_dim,inp_len) \n",
    "history=model_LSTM.fit(X_train,y_train,batch_size=batch_size,epochs=epochs,validation_data=(X_test,y_test),callbacks=[early_stopping])"
   ]
  },
  {
   "cell_type": "code",
   "execution_count": null,
   "metadata": {
    "colab": {
     "base_uri": "https://localhost:8080/",
     "height": 612
    },
    "id": "TYDtuXX64nI6",
    "outputId": "3218e4e6-6068-4289-a76d-48e3a135a176"
   },
   "outputs": [
    {
     "name": "stdout",
     "output_type": "stream",
     "text": [
      "Accuracy of LSTM for unagumented data is: 58.52652291456858\n",
      "Training Accuracy of LSTM for unagumented data is: 65.03256857395172\n",
      "Mean loss of  Validation data of LSTM for unaugmented data is : 1.852318565050761\n",
      "Mean loss of  Training data of LSTM for unaugmented data is : 1.4086221158504486\n"
     ]
    },
    {
     "data": {
      "image/png": "[encoded data removed]",
      "text/plain": [
       "<Figure size 432x288 with 1 Axes>"
      ]
     },
     "metadata": {
      "tags": []
     },
     "output_type": "display_data"
    },
    {
     "data": {
      "image/png": "[encoded data removed]",
      "text/plain": [
       "<Figure size 432x288 with 1 Axes>"
      ]
     },
     "metadata": {
      "tags": []
     },
     "output_type": "display_data"
    }
   ],
   "source": [
    "#scores_LSTM = model_LSTM.evaluate(X_test, y_test, verbose=0)\n",
    "print(\"Accuracy of LSTM for unagumented data is:\", np.array(history.history['val_accuracy']).mean()*100)\n",
    "print(\"Training Accuracy of LSTM for unagumented data is:\" ,np.array(history.history['accuracy']).mean()*100)\n",
    "print( \"Mean loss of  Validation data of LSTM for unaugmented data is :\",np.array(history.history['val_loss']).mean())\n",
    "print( \"Mean loss of  Training data of LSTM for unaugmented data is :\",np.array(history.history['loss'])\n",
    "      .mean())\n",
    "#plot for LSTM\n",
    "modelname=\"LSTMModel\"\n",
    "plot(model_LSTM,history)"
   ]
  },
  {
   "cell_type": "code",
   "execution_count": null,
   "metadata": {
    "colab": {
     "base_uri": "https://localhost:8080/"
    },
    "id": "kUE4Fla4vktV",
    "outputId": "3b7f2699-f017-44a9-a91a-ddd928469596"
   },
   "outputs": [
    {
     "name": "stdout",
     "output_type": "stream",
     "text": [
      "Model: \"sequential_1\"\n",
      "_________________________________________________________________\n",
      "Layer (type)                 Output Shape              Param #   \n",
      "=================================================================\n",
      "embedding_1 (Embedding)      (None, 189, 300)          3000000   \n",
      "_________________________________________________________________\n",
      "gru (GRU)                    (None, 189, 512)          1250304   \n",
      "_________________________________________________________________\n",
      "dropout_1 (Dropout)          (None, 189, 512)          0         \n",
      "_________________________________________________________________\n",
      "time_distributed_1 (TimeDist (None, 189, 512)          262656    \n",
      "_________________________________________________________________\n",
      "flatten_1 (Flatten)          (None, 96768)             0         \n",
      "_________________________________________________________________\n",
      "dense_3 (Dense)              (None, 74)                7160906   \n",
      "=================================================================\n",
      "Total params: 11,673,866\n",
      "Trainable params: 11,673,866\n",
      "Non-trainable params: 0\n",
      "_________________________________________________________________\n",
      "None\n",
      "Epoch 1/25\n",
      "47/47 [==============================] - 286s 6s/step - loss: 2.8740 - accuracy: 0.4273 - val_loss: 1.9851 - val_accuracy: 0.5548\n",
      "Epoch 2/25\n",
      "47/47 [==============================] - 284s 6s/step - loss: 1.8314 - accuracy: 0.5662 - val_loss: 1.8485 - val_accuracy: 0.5737\n",
      "Epoch 3/25\n",
      "47/47 [==============================] - 281s 6s/step - loss: 1.5077 - accuracy: 0.6067 - val_loss: 1.7783 - val_accuracy: 0.5678\n",
      "Epoch 4/25\n",
      "47/47 [==============================] - 276s 6s/step - loss: 1.0580 - accuracy: 0.7157 - val_loss: 1.9722 - val_accuracy: 0.5792\n",
      "Epoch 5/25\n",
      "47/47 [==============================] - 276s 6s/step - loss: 0.7960 - accuracy: 0.7732 - val_loss: 2.0374 - val_accuracy: 0.5961\n",
      "Epoch 6/25\n",
      "47/47 [==============================] - 276s 6s/step - loss: 0.5759 - accuracy: 0.8352 - val_loss: 2.3702 - val_accuracy: 0.5957\n",
      "Epoch 7/25\n",
      "47/47 [==============================] - 283s 6s/step - loss: 0.4306 - accuracy: 0.8667 - val_loss: 2.5760 - val_accuracy: 0.5831\n",
      "Epoch 8/25\n",
      "47/47 [==============================] - 278s 6s/step - loss: 0.3525 - accuracy: 0.8929 - val_loss: 2.9729 - val_accuracy: 0.5917\n"
     ]
    }
   ],
   "source": [
    "model_GRU=GRU_model(max_features,emb_dim,inp_len) \n",
    "history=model_GRU.fit(X_train,y_train,batch_size=batch_size,epochs=epochs,validation_data=(X_test,y_test),callbacks=[early_stopping])"
   ]
  },
  {
   "cell_type": "code",
   "execution_count": null,
   "metadata": {
    "colab": {
     "base_uri": "https://localhost:8080/",
     "height": 612
    },
    "id": "52kUon_c4nI6",
    "outputId": "51642a11-ac58-4159-fb93-7cde10b0bfec"
   },
   "outputs": [
    {
     "name": "stdout",
     "output_type": "stream",
     "text": [
      "Accuracy of GRU for unagumented data is: 58.02554041147232\n",
      "Training Accuracy of GRU for unagumented data is: 71.93185649812222\n",
      "Mean loss of  Validation data of GRU for unaugmented data is : 2.1925691962242126\n",
      "Mean loss of  Training data of GRU for unaugmented data is : 1.1091965660452843\n"
     ]
    },
    {
     "data": {
      "image/png": "[encoded data removed]",
      "text/plain": [
       "<Figure size 432x288 with 1 Axes>"
      ]
     },
     "metadata": {
      "tags": []
     },
     "output_type": "display_data"
    },
    {
     "data": {
      "image/png": "[encoded data removed]",
      "text/plain": [
       "<Figure size 432x288 with 1 Axes>"
      ]
     },
     "metadata": {
      "tags": []
     },
     "output_type": "display_data"
    }
   ],
   "source": [
    "print(\"Accuracy of GRU for unagumented data is:\", np.array(history.history['val_accuracy']).mean()*100)\n",
    "print(\"Training Accuracy of GRU for unagumented data is:\" ,np.array(history.history['accuracy']).mean()*100)\n",
    "print( \"Mean loss of  Validation data of GRU for unaugmented data is :\",np.array(history.history['val_loss']).mean())\n",
    "print( \"Mean loss of  Training data of GRU for unaugmented data is :\",np.array(history.history['loss'])\n",
    "      .mean())\n",
    "#plot for GRU\n",
    "modelname=\"GRUModel\"\n",
    "plot(model_GRU,history)"
   ]
  },
  {
   "cell_type": "code",
   "execution_count": null,
   "metadata": {
    "colab": {
     "base_uri": "https://localhost:8080/"
    },
    "id": "Lb2m8_ocvlWZ",
    "outputId": "f464f7bd-cbf4-4771-e76b-e0d264b452ce"
   },
   "outputs": [
    {
     "name": "stdout",
     "output_type": "stream",
     "text": [
      "Model: \"sequential_2\"\n",
      "_________________________________________________________________\n",
      "Layer (type)                 Output Shape              Param #   \n",
      "=================================================================\n",
      "embedding_2 (Embedding)      (None, 189, 300)          3000000   \n",
      "_________________________________________________________________\n",
      "bidirectional (Bidirectional (None, 189, 1024)         3330048   \n",
      "_________________________________________________________________\n",
      "dropout_2 (Dropout)          (None, 189, 1024)         0         \n",
      "_________________________________________________________________\n",
      "time_distributed_2 (TimeDist (None, 189, 512)          524800    \n",
      "_________________________________________________________________\n",
      "flatten_2 (Flatten)          (None, 96768)             0         \n",
      "_________________________________________________________________\n",
      "dense_5 (Dense)              (None, 74)                7160906   \n",
      "=================================================================\n",
      "Total params: 14,015,754\n",
      "Trainable params: 14,015,754\n",
      "Non-trainable params: 0\n",
      "_________________________________________________________________\n",
      "None\n",
      "Epoch 1/25\n",
      "47/47 [==============================] - 736s 16s/step - loss: 3.0876 - accuracy: 0.4507 - val_loss: 2.0945 - val_accuracy: 0.5411\n",
      "Epoch 2/25\n",
      "47/47 [==============================] - 725s 15s/step - loss: 1.8910 - accuracy: 0.5597 - val_loss: 1.8046 - val_accuracy: 0.5823\n",
      "Epoch 3/25\n",
      "47/47 [==============================] - 724s 15s/step - loss: 1.5526 - accuracy: 0.6006 - val_loss: 1.7386 - val_accuracy: 0.5784\n",
      "Epoch 4/25\n",
      "47/47 [==============================] - 722s 15s/step - loss: 1.1807 - accuracy: 0.6696 - val_loss: 1.7623 - val_accuracy: 0.5815\n",
      "Epoch 5/25\n",
      "47/47 [==============================] - 744s 16s/step - loss: 0.9524 - accuracy: 0.7267 - val_loss: 1.8784 - val_accuracy: 0.5898\n",
      "Epoch 6/25\n",
      "47/47 [==============================] - 722s 15s/step - loss: 0.6763 - accuracy: 0.8059 - val_loss: 2.0838 - val_accuracy: 0.5996\n",
      "Epoch 7/25\n",
      "47/47 [==============================] - 718s 15s/step - loss: 0.5526 - accuracy: 0.8354 - val_loss: 2.3829 - val_accuracy: 0.5945\n",
      "Epoch 8/25\n",
      "47/47 [==============================] - 719s 15s/step - loss: 0.4047 - accuracy: 0.8804 - val_loss: 2.4719 - val_accuracy: 0.5945\n",
      "Epoch 9/25\n",
      "47/47 [==============================] - 714s 15s/step - loss: 0.3691 - accuracy: 0.8821 - val_loss: 2.9023 - val_accuracy: 0.5965\n"
     ]
    }
   ],
   "source": [
    "model_BILSTM=BILSTM_model(max_features,emb_dim,inp_len) \n",
    "history=model_BILSTM.fit(X_train,y_train,batch_size=batch_size,epochs=epochs,validation_data=(X_test,y_test),callbacks=[early_stopping])"
   ]
  },
  {
   "cell_type": "code",
   "execution_count": null,
   "metadata": {
    "colab": {
     "base_uri": "https://localhost:8080/",
     "height": 612
    },
    "id": "CL0Reu1I4nI8",
    "outputId": "027cc493-d115-4079-ad3f-f5c15f426e44"
   },
   "outputs": [
    {
     "name": "stdout",
     "output_type": "stream",
     "text": [
      "Accuracy of BILSTM for unagumented data is: 58.42392444610596\n",
      "Training Accuracy of BILSTM for unagumented data is: 71.41359713342455\n",
      "Mean loss of  Validation data of BILSTM for unaugmented data is : 2.1243492629792957\n",
      "Mean loss of  Training data of BILSTM for unaugmented data is : 1.133795400460561\n"
     ]
    },
    {
     "data": {
      "image/png": "[encoded data removed]",
      "text/plain": [
       "<Figure size 432x288 with 1 Axes>"
      ]
     },
     "metadata": {
      "tags": []
     },
     "output_type": "display_data"
    },
    {
     "data": {
      "image/png": "[encoded data removed]",
      "text/plain": [
       "<Figure size 432x288 with 1 Axes>"
      ]
     },
     "metadata": {
      "tags": []
     },
     "output_type": "display_data"
    }
   ],
   "source": [
    "print(\"Accuracy of BILSTM for unagumented data is:\", np.array(history.history['val_accuracy']).mean()*100)\n",
    "print(\"Training Accuracy of BILSTM for unagumented data is:\" ,np.array(history.history['accuracy']).mean()*100)\n",
    "print( \"Mean loss of  Validation data of BILSTM for unaugmented data is :\",np.array(history.history['val_loss']).mean())\n",
    "print( \"Mean loss of  Training data of BILSTM for unaugmented data is :\",np.array(history.history['loss'])\n",
    "      .mean())\n",
    "\n",
    "#plot for BILSTM\n",
    "modelname=\"BILSTMModel\"\n",
    "plot(model_BILSTM,history)"
   ]
  },
  {
   "cell_type": "code",
   "execution_count": null,
   "metadata": {
    "colab": {
     "base_uri": "https://localhost:8080/"
    },
    "id": "W7j9MWsavlOs",
    "outputId": "db0d9f1d-e803-445e-d428-6f18def49ee2"
   },
   "outputs": [
    {
     "name": "stdout",
     "output_type": "stream",
     "text": [
      "Model: \"sequential_3\"\n",
      "_________________________________________________________________\n",
      "Layer (type)                 Output Shape              Param #   \n",
      "=================================================================\n",
      "embedding_3 (Embedding)      (None, 189, 300)          3000000   \n",
      "_________________________________________________________________\n",
      "bidirectional_1 (Bidirection (None, 189, 1024)         2500608   \n",
      "_________________________________________________________________\n",
      "dropout_3 (Dropout)          (None, 189, 1024)         0         \n",
      "_________________________________________________________________\n",
      "time_distributed_3 (TimeDist (None, 189, 512)          524800    \n",
      "_________________________________________________________________\n",
      "flatten_3 (Flatten)          (None, 96768)             0         \n",
      "_________________________________________________________________\n",
      "dense_7 (Dense)              (None, 74)                7160906   \n",
      "=================================================================\n",
      "Total params: 13,186,314\n",
      "Trainable params: 13,186,314\n",
      "Non-trainable params: 0\n",
      "_________________________________________________________________\n",
      "None\n",
      "Epoch 1/25\n",
      "47/47 [==============================] - 533s 11s/step - loss: 2.9384 - accuracy: 0.4135 - val_loss: 1.9684 - val_accuracy: 0.5458\n",
      "Epoch 2/25\n",
      "47/47 [==============================] - 522s 11s/step - loss: 1.7864 - accuracy: 0.5628 - val_loss: 1.8374 - val_accuracy: 0.5705\n",
      "Epoch 3/25\n",
      "47/47 [==============================] - 520s 11s/step - loss: 1.4174 - accuracy: 0.6245 - val_loss: 1.8339 - val_accuracy: 0.5843\n",
      "Epoch 4/25\n",
      "47/47 [==============================] - 520s 11s/step - loss: 1.0477 - accuracy: 0.7178 - val_loss: 2.0137 - val_accuracy: 0.5976\n",
      "Epoch 5/25\n",
      "47/47 [==============================] - 519s 11s/step - loss: 0.7193 - accuracy: 0.7870 - val_loss: 2.1912 - val_accuracy: 0.5866\n",
      "Epoch 6/25\n",
      "47/47 [==============================] - 520s 11s/step - loss: 0.4946 - accuracy: 0.8512 - val_loss: 2.5274 - val_accuracy: 0.6004\n",
      "Epoch 7/25\n",
      "47/47 [==============================] - 519s 11s/step - loss: 0.4025 - accuracy: 0.8768 - val_loss: 2.8255 - val_accuracy: 0.6004\n",
      "Epoch 8/25\n",
      "47/47 [==============================] - 526s 11s/step - loss: 0.3121 - accuracy: 0.8994 - val_loss: 3.2008 - val_accuracy: 0.5855\n",
      "Epoch 9/25\n",
      "47/47 [==============================] - 518s 11s/step - loss: 0.2878 - accuracy: 0.9069 - val_loss: 3.4024 - val_accuracy: 0.5953\n"
     ]
    }
   ],
   "source": [
    "model_BIGRU=BIGRU_model(max_features,emb_dim,inp_len) \n",
    "history=model_BIGRU.fit(X_train,y_train,batch_size=batch_size,epochs=epochs,validation_data=(X_test,y_test),callbacks=[early_stopping])"
   ]
  },
  {
   "cell_type": "code",
   "execution_count": null,
   "metadata": {
    "colab": {
     "base_uri": "https://localhost:8080/",
     "height": 612
    },
    "id": "nPVNAmIs4nI8",
    "outputId": "a8fcff04-cfd8-4fd4-9371-97704908322a"
   },
   "outputs": [
    {
     "name": "stdout",
     "output_type": "stream",
     "text": [
      "Accuracy of BIGRU for unagumented data is: 58.51560831069946\n",
      "Training Accuracy of BIGRU for unagumented data is: 74.50958457258012\n",
      "Mean loss of  Validation data of BIGRU for unaugmented data is : 2.422294855117798\n",
      "Mean loss of  Training data of BIGRU for unaugmented data is : 0.9942934215068817\n"
     ]
    },
    {
     "data": {
      "image/png": "[encoded data removed]",
      "text/plain": [
       "<Figure size 432x288 with 1 Axes>"
      ]
     },
     "metadata": {
      "tags": []
     },
     "output_type": "display_data"
    },
    {
     "data": {
      "image/png": "[encoded data removed]",
      "text/plain": [
       "<Figure size 432x288 with 1 Axes>"
      ]
     },
     "metadata": {
      "tags": []
     },
     "output_type": "display_data"
    }
   ],
   "source": [
    "print(\"Accuracy of BIGRU for unagumented data is:\", np.array(history.history['val_accuracy']).mean()*100)\n",
    "print(\"Training Accuracy of BIGRU for unagumented data is:\" ,np.array(history.history['accuracy']).mean()*100)\n",
    "print( \"Mean loss of  Validation data of BIGRU for unaugmented data is :\",np.array(history.history['val_loss']).mean())\n",
    "print( \"Mean loss of  Training data of BIGRU for unaugmented data is :\",np.array(history.history['loss'])\n",
    "      .mean())\n",
    "#plot for BIGRU\n",
    "modelname=\"BIGRUModel\"\n",
    "plot(model_BIGRU,history)"
   ]
  },
  {
   "cell_type": "code",
   "execution_count": 12,
   "metadata": {
    "id": "YmoJ5DUvt8lD"
   },
   "outputs": [],
   "source": [
    "X_aug1 = (data_dl_aug1[\"Combined Description Cleaned\"])\n",
    "y_aug1= (data_dl_aug1['Assignment group'])\n",
    "\n",
    "#categorical encoding y\n",
    "y_aug1=pd.get_dummies(data_dl_aug2['Assignment group'])\n",
    "\n",
    "\n",
    "X_aug2 = (data_dl_aug2[\"Combined Description Cleaned\"])\n",
    "y_aug2= (data_dl_aug2['Assignment group'])\n",
    "\n",
    "#categorical encoding y\n",
    "y_aug2=pd.get_dummies(data_dl_aug2['Assignment group'])\n",
    "  "
   ]
  },
  {
   "cell_type": "code",
   "execution_count": 13,
   "metadata": {
    "colab": {
     "base_uri": "https://localhost:8080/"
    },
    "id": "kvl4V_67uKb_",
    "outputId": "a2548f84-235b-4147-ff30-bc6e18183478"
   },
   "outputs": [
    {
     "name": "stdout",
     "output_type": "stream",
     "text": [
      "vocabulary size is:  3956\n",
      "vocabulary size is:  4424\n"
     ]
    }
   ],
   "source": [
    "#tokenization\n",
    "X_aug1,tokenizer = dfTokenizer(data_dl_aug1[\"Combined Description Cleaned\"]) \n",
    "vocab_size_aug1=len(tokenizer.word_index)\n",
    "print(\"vocabulary size is: \",vocab_size_aug1)\n",
    "\n",
    "X_aug2,tokenizer = dfTokenizer(data_dl_aug2[\"Combined Description Cleaned\"]) \n",
    "vocab_size_aug2=len(tokenizer.word_index)\n",
    "print(\"vocabulary size is: \",vocab_size_aug2)"
   ]
  },
  {
   "cell_type": "code",
   "execution_count": 14,
   "metadata": {
    "id": "n2n9EEXduMGz"
   },
   "outputs": [],
   "source": [
    "#padding\n",
    "X_aug1=pad_sequences(X_aug1,padding='post')\n",
    "X_aug2=pad_sequences(X_aug2,padding='post')\n",
    "y_aug1=y_aug1[0:17586]"
   ]
  },
  {
   "cell_type": "code",
   "execution_count": 15,
   "metadata": {
    "colab": {
     "base_uri": "https://localhost:8080/"
    },
    "id": "h4hMuuz0uQUD",
    "outputId": "e9085b4f-085b-4092-a185-537810b28911"
   },
   "outputs": [
    {
     "name": "stdout",
     "output_type": "stream",
     "text": [
      "191\n",
      "191\n"
     ]
    }
   ],
   "source": [
    "#split the data.Only augmented data is split using stratify\n",
    "def split_stratify(X,y):\n",
    " X_train_spl,X_test_spl,y_train_spl,y_test_spl=train_test_split(X,y,test_size=0.3,stratify=y,random_state=123)\n",
    " return X_train_spl,X_test_spl,y_train_spl,y_test_spl\n",
    "\n",
    "X_train_aug1,X_test_aug1,y_train_aug1,y_test_aug1=split_stratify(X_aug1,y_aug1)\n",
    "X_train_aug2,X_test_aug2,y_train_aug2,y_test_aug2=split_stratify(X_aug2,y_aug2)\n",
    "\n",
    "\n",
    "inp_len1=X_aug1.shape[1]\n",
    "inp_len2=X_aug2.shape[1]\n",
    "print(inp_len1)\n",
    "print(inp_len2)"
   ]
  },
  {
   "cell_type": "code",
   "execution_count": 16,
   "metadata": {
    "id": "sfd57Hy8iTjx"
   },
   "outputs": [],
   "source": [
    "#Simple LSTM model1\n",
    "def LSTM_model1(output_len,emb_dim,input_length):\n",
    " model = tf.keras.Sequential()\n",
    " model.add(Embedding(max_features,emb_dim,input_length=inp_len1))\n",
    " model.add(LSTM(512, return_sequences=True))\n",
    " model.add(Dropout(0.2))\n",
    " model.add(TimeDistributed(Dense(units = 512, activation = 'relu')))\n",
    " model.add(Flatten())\n",
    " model.add(Dense(74, activation='softmax'))\n",
    " print(model.summary())\n",
    " model.compile(optimizer='adam',\n",
    "              loss='categorical_crossentropy',\n",
    "              metrics=['accuracy'])\n",
    " return model\n",
    "\n",
    "\n",
    "\n",
    "#Using GRU\n",
    "def GRU_model1(output_len,emb_dim,input_length):\n",
    " model = tf.keras.Sequential()\n",
    " model.add(Embedding(max_features,emb_dim,input_length=inp_len1))\n",
    " model.add(GRU(512, return_sequences=True))\n",
    " model.add(Dropout(0.2))\n",
    " model.add(TimeDistributed(Dense(units = 512, activation = 'relu')))\n",
    " model.add(Flatten())\n",
    " model.add(Dense(74, activation='softmax'))\n",
    " print(model.summary())\n",
    " model.compile(optimizer='adam',\n",
    "              loss='categorical_crossentropy',\n",
    "              metrics=['accuracy'])\n",
    " return model\n",
    "\n",
    "\n",
    " #Using bidirectional LSTM\n",
    "from tensorflow.keras.layers import Bidirectional\n",
    "def BILSTM_model1(output_len,emb_dim,input_length):\n",
    " model = tf.keras.Sequential()\n",
    " model.add(Embedding(max_features,emb_dim,input_length=inp_len1))\n",
    " model.add(Bidirectional(LSTM(512, return_sequences=True)))\n",
    " model.add(Dropout(0.2))\n",
    " model.add(TimeDistributed(Dense(units = 512, activation = 'relu')))\n",
    " model.add(Flatten())\n",
    " model.add(Dense(74, activation='softmax'))\n",
    " print(model.summary())\n",
    " model.compile(optimizer='adam',\n",
    "              loss='categorical_crossentropy',\n",
    "              metrics=['accuracy'])\n",
    " return model\n",
    "\n",
    "\n",
    "#Using bidirectional GRU\n",
    "def BIGRU_model1(output_len,emb_dim,input_length):\n",
    " model = tf.keras.Sequential()\n",
    " model.add(Embedding(max_features,emb_dim,input_length=inp_len1))\n",
    " model.add(Bidirectional(GRU(512, return_sequences=True)))\n",
    " model.add(Dropout(0.2))\n",
    " model.add(TimeDistributed(Dense(units = 512, activation = 'relu')))\n",
    " model.add(Flatten())\n",
    " model.add(Dense(74, activation='softmax'))\n",
    " print(model.summary())\n",
    " model.compile(optimizer='adam',\n",
    "              loss='categorical_crossentropy',\n",
    "              metrics=['accuracy'])\n",
    " return model\n"
   ]
  },
  {
   "cell_type": "code",
   "execution_count": null,
   "metadata": {
    "colab": {
     "base_uri": "https://localhost:8080/"
    },
    "id": "d47XGO6FuUMU",
    "outputId": "4132e781-9e19-4dc2-d8c6-b5e8720f15a2"
   },
   "outputs": [
    {
     "name": "stdout",
     "output_type": "stream",
     "text": [
      "Model: \"sequential_4\"\n",
      "_________________________________________________________________\n",
      "Layer (type)                 Output Shape              Param #   \n",
      "=================================================================\n",
      "embedding_4 (Embedding)      (None, 191, 300)          3000000   \n",
      "_________________________________________________________________\n",
      "lstm_2 (LSTM)                (None, 191, 512)          1665024   \n",
      "_________________________________________________________________\n",
      "dropout_4 (Dropout)          (None, 191, 512)          0         \n",
      "_________________________________________________________________\n",
      "time_distributed_4 (TimeDist (None, 191, 512)          262656    \n",
      "_________________________________________________________________\n",
      "flatten_4 (Flatten)          (None, 97792)             0         \n",
      "_________________________________________________________________\n",
      "dense_9 (Dense)              (None, 74)                7236682   \n",
      "=================================================================\n",
      "Total params: 12,164,362\n",
      "Trainable params: 12,164,362\n",
      "Non-trainable params: 0\n",
      "_________________________________________________________________\n",
      "None\n",
      "Epoch 1/25\n",
      "97/97 [==============================] - 752s 8s/step - loss: 3.4080 - accuracy: 0.1881 - val_loss: 2.1800 - val_accuracy: 0.4043\n",
      "Epoch 2/25\n",
      "97/97 [==============================] - 839s 9s/step - loss: 1.8110 - accuracy: 0.5006 - val_loss: 1.3718 - val_accuracy: 0.6132\n",
      "Epoch 3/25\n",
      "97/97 [==============================] - 895s 9s/step - loss: 0.9535 - accuracy: 0.7284 - val_loss: 0.9978 - val_accuracy: 0.7225\n",
      "Epoch 4/25\n",
      "97/97 [==============================] - 844s 9s/step - loss: 0.5648 - accuracy: 0.8333 - val_loss: 0.8138 - val_accuracy: 0.7676\n",
      "Epoch 5/25\n",
      "97/97 [==============================] - 902s 9s/step - loss: 0.4040 - accuracy: 0.8758 - val_loss: 0.7442 - val_accuracy: 0.8017\n",
      "Epoch 6/25\n",
      "97/97 [==============================] - 905s 9s/step - loss: 0.3028 - accuracy: 0.9044 - val_loss: 0.7658 - val_accuracy: 0.8084\n",
      "Epoch 7/25\n",
      "97/97 [==============================] - 895s 9s/step - loss: 0.2271 - accuracy: 0.9274 - val_loss: 0.7522 - val_accuracy: 0.8167\n",
      "Epoch 8/25\n",
      "97/97 [==============================] - 892s 9s/step - loss: 0.2215 - accuracy: 0.9317 - val_loss: 0.8063 - val_accuracy: 0.8131\n",
      "Epoch 9/25\n",
      "97/97 [==============================] - 898s 9s/step - loss: 0.1877 - accuracy: 0.9394 - val_loss: 0.7574 - val_accuracy: 0.8262\n",
      "Epoch 10/25\n",
      "97/97 [==============================] - 924s 10s/step - loss: 0.1686 - accuracy: 0.9454 - val_loss: 0.8118 - val_accuracy: 0.8182\n",
      "Epoch 11/25\n",
      "97/97 [==============================] - 909s 9s/step - loss: 0.1687 - accuracy: 0.9462 - val_loss: 0.8007 - val_accuracy: 0.8311\n",
      "Epoch 12/25\n",
      "97/97 [==============================] - 918s 9s/step - loss: 0.1358 - accuracy: 0.9556 - val_loss: 0.8652 - val_accuracy: 0.8239\n",
      "Epoch 13/25\n",
      "97/97 [==============================] - 879s 9s/step - loss: 0.1451 - accuracy: 0.9490 - val_loss: 0.8569 - val_accuracy: 0.8262\n",
      "Epoch 14/25\n",
      "97/97 [==============================] - 885s 9s/step - loss: 0.1244 - accuracy: 0.9568 - val_loss: 0.9912 - val_accuracy: 0.8137\n"
     ]
    }
   ],
   "source": [
    "model_LSTM_aug1=LSTM_model1(max_features,emb_dim,inp_len1) \n",
    "history=model_LSTM_aug1.fit(X_train_aug1,y_train_aug1,batch_size=batch_size,epochs=epochs,validation_data=(X_test_aug1,y_test_aug1),callbacks=[early_stopping])"
   ]
  },
  {
   "cell_type": "code",
   "execution_count": null,
   "metadata": {
    "colab": {
     "base_uri": "https://localhost:8080/",
     "height": 612
    },
    "id": "8jFt83K-4nI-",
    "outputId": "146f78dd-e2d9-4c57-a5c2-026c49afbbe8"
   },
   "outputs": [
    {
     "name": "stdout",
     "output_type": "stream",
     "text": [
      "Accuracy of LSTM for level1 augmentation data is: 76.33488582713264\n",
      "Training Accuracy of LSTM for level1 augmentation  data is: 83.61668820892062\n",
      "Mean loss of  Validation data of LSTM for level1 augmentation  data is : 0.9653580401624952\n",
      "Mean loss of  Training data of LSTM forlevel1 augmentation  data is : 0.5819752386638096\n"
     ]
    },
    {
     "data": {
      "image/png": "[encoded data removed]",
      "text/plain": [
       "<Figure size 432x288 with 1 Axes>"
      ]
     },
     "metadata": {
      "tags": []
     },
     "output_type": "display_data"
    },
    {
     "data": {
      "image/png": "[encoded data removed]",
      "text/plain": [
       "<Figure size 432x288 with 1 Axes>"
      ]
     },
     "metadata": {
      "tags": []
     },
     "output_type": "display_data"
    }
   ],
   "source": [
    "print(\"Accuracy of LSTM for level1 augmentation data is:\", np.array(history.history['val_accuracy']).mean()*100)\n",
    "print(\"Training Accuracy of LSTM for level1 augmentation  data is:\" ,np.array(history.history['accuracy']).mean()*100)\n",
    "print( \"Mean loss of  Validation data of LSTM for level1 augmentation  data is :\",np.array(history.history['val_loss']).mean())\n",
    "print( \"Mean loss of  Training data of LSTM forlevel1 augmentation  data is :\",np.array(history.history['loss'])\n",
    "      .mean())\n",
    "modelname=\"LSTMModel_aug1\"\n",
    "plot(model_LSTM_aug1,history)"
   ]
  },
  {
   "cell_type": "code",
   "execution_count": null,
   "metadata": {
    "colab": {
     "base_uri": "https://localhost:8080/"
    },
    "id": "tSq6DbzHuZTd",
    "outputId": "8ec86b5d-9faa-4cff-9ece-3f7eff108f49"
   },
   "outputs": [
    {
     "name": "stdout",
     "output_type": "stream",
     "text": [
      "Model: \"sequential_5\"\n",
      "_________________________________________________________________\n",
      "Layer (type)                 Output Shape              Param #   \n",
      "=================================================================\n",
      "embedding_5 (Embedding)      (None, 191, 300)          3000000   \n",
      "_________________________________________________________________\n",
      "gru_2 (GRU)                  (None, 191, 512)          1250304   \n",
      "_________________________________________________________________\n",
      "dropout_5 (Dropout)          (None, 191, 512)          0         \n",
      "_________________________________________________________________\n",
      "time_distributed_5 (TimeDist (None, 191, 512)          262656    \n",
      "_________________________________________________________________\n",
      "flatten_5 (Flatten)          (None, 97792)             0         \n",
      "_________________________________________________________________\n",
      "dense_11 (Dense)             (None, 74)                7236682   \n",
      "=================================================================\n",
      "Total params: 11,749,642\n",
      "Trainable params: 11,749,642\n",
      "Non-trainable params: 0\n",
      "_________________________________________________________________\n",
      "None\n",
      "Epoch 1/25\n",
      "97/97 [==============================] - 633s 7s/step - loss: 3.3108 - accuracy: 0.2124 - val_loss: 2.1273 - val_accuracy: 0.4181\n",
      "Epoch 2/25\n",
      "97/97 [==============================] - 665s 7s/step - loss: 1.6066 - accuracy: 0.5599 - val_loss: 1.1548 - val_accuracy: 0.6768\n",
      "Epoch 3/25\n",
      "97/97 [==============================] - 636s 7s/step - loss: 0.6978 - accuracy: 0.8001 - val_loss: 0.7825 - val_accuracy: 0.7854\n",
      "Epoch 4/25\n",
      "97/97 [==============================] - 632s 7s/step - loss: 0.3987 - accuracy: 0.8840 - val_loss: 0.6593 - val_accuracy: 0.8139\n",
      "Epoch 5/25\n",
      "97/97 [==============================] - 625s 6s/step - loss: 0.2797 - accuracy: 0.9165 - val_loss: 0.6085 - val_accuracy: 0.8368\n",
      "Epoch 6/25\n",
      "97/97 [==============================] - 625s 6s/step - loss: 0.2232 - accuracy: 0.9306 - val_loss: 0.6267 - val_accuracy: 0.8334\n",
      "Epoch 7/25\n",
      "97/97 [==============================] - 623s 6s/step - loss: 0.1900 - accuracy: 0.9412 - val_loss: 0.6367 - val_accuracy: 0.8387\n",
      "Epoch 8/25\n",
      "97/97 [==============================] - 643s 7s/step - loss: 0.1615 - accuracy: 0.9464 - val_loss: 0.6346 - val_accuracy: 0.8431\n",
      "Epoch 9/25\n",
      "97/97 [==============================] - 641s 7s/step - loss: 0.1347 - accuracy: 0.9538 - val_loss: 0.6845 - val_accuracy: 0.8442\n",
      "Epoch 10/25\n",
      "97/97 [==============================] - 593s 6s/step - loss: 0.1354 - accuracy: 0.9556 - val_loss: 0.6662 - val_accuracy: 0.8474\n",
      "Epoch 11/25\n",
      "97/97 [==============================] - 582s 6s/step - loss: 0.1252 - accuracy: 0.9586 - val_loss: 0.7710 - val_accuracy: 0.8241\n",
      "Epoch 12/25\n",
      "97/97 [==============================] - 581s 6s/step - loss: 0.1915 - accuracy: 0.9404 - val_loss: 0.7630 - val_accuracy: 0.8404\n",
      "Epoch 13/25\n",
      "97/97 [==============================] - 583s 6s/step - loss: 0.1184 - accuracy: 0.9606 - val_loss: 0.7317 - val_accuracy: 0.8499\n",
      "Epoch 14/25\n",
      "97/97 [==============================] - 598s 6s/step - loss: 0.0988 - accuracy: 0.9660 - val_loss: 0.7513 - val_accuracy: 0.8524\n",
      "Epoch 15/25\n",
      "97/97 [==============================] - 606s 6s/step - loss: 0.0857 - accuracy: 0.9700 - val_loss: 0.7790 - val_accuracy: 0.8522\n",
      "Epoch 16/25\n",
      "97/97 [==============================] - 615s 6s/step - loss: 0.0851 - accuracy: 0.9689 - val_loss: 0.8109 - val_accuracy: 0.8578\n",
      "Epoch 17/25\n",
      "97/97 [==============================] - 613s 6s/step - loss: 0.0823 - accuracy: 0.9681 - val_loss: 0.8250 - val_accuracy: 0.8505\n",
      "Epoch 18/25\n",
      "97/97 [==============================] - 612s 6s/step - loss: 0.0847 - accuracy: 0.9697 - val_loss: 0.8344 - val_accuracy: 0.8510\n",
      "Epoch 19/25\n",
      "97/97 [==============================] - 615s 6s/step - loss: 0.0823 - accuracy: 0.9695 - val_loss: 0.8825 - val_accuracy: 0.8385\n"
     ]
    }
   ],
   "source": [
    "model_GRU_aug1=GRU_model1(max_features,emb_dim,inp_len1) \n",
    "history=model_GRU_aug1.fit(X_train_aug1,y_train_aug1,batch_size=batch_size,epochs=epochs,validation_data=(X_test_aug1,y_test_aug1),callbacks=[early_stopping])"
   ]
  },
  {
   "cell_type": "code",
   "execution_count": null,
   "metadata": {
    "colab": {
     "base_uri": "https://localhost:8080/",
     "height": 613
    },
    "id": "7y2wZ9e34nI_",
    "outputId": "252d5186-0b88-4088-9e90-26a84c3c4b85"
   },
   "outputs": [
    {
     "name": "stdout",
     "output_type": "stream",
     "text": [
      "Accuracy of GRU for level1 augmentation data is: 80.81381477807697\n",
      "Training Accuracy of GRU for level1 augmentation  data is: 88.89862800899306\n",
      "Mean loss of  Validation data of GRU for level1 augmentation  data is : 0.8278747075482419\n",
      "Mean loss of  Training data of GRU for level1 augmentation  data is : 0.392469517102367\n"
     ]
    },
    {
     "data": {
      "image/png": "[encoded data removed]",
      "text/plain": [
       "<Figure size 432x288 with 1 Axes>"
      ]
     },
     "metadata": {
      "tags": []
     },
     "output_type": "display_data"
    },
    {
     "data": {
      "image/png": "[encoded data removed]",
      "text/plain": [
       "<Figure size 432x288 with 1 Axes>"
      ]
     },
     "metadata": {
      "tags": []
     },
     "output_type": "display_data"
    }
   ],
   "source": [
    "print(\"Accuracy of GRU for level1 augmentation data is:\", np.array(history.history['val_accuracy']).mean()*100)\n",
    "print(\"Training Accuracy of GRU for level1 augmentation  data is:\" ,np.array(history.history['accuracy']).mean()*100)\n",
    "print( \"Mean loss of  Validation data of GRU for level1 augmentation  data is :\",np.array(history.history['val_loss']).mean())\n",
    "print( \"Mean loss of  Training data of GRU for level1 augmentation  data is :\",np.array(history.history['loss'])\n",
    "      .mean())\n",
    "\n",
    "modelname=\"GRUModel_aug1\"\n",
    "plot(model_GRU_aug1,history)"
   ]
  },
  {
   "cell_type": "code",
   "execution_count": null,
   "metadata": {
    "id": "qQkYMeDjdXyn"
   },
   "outputs": [],
   "source": [
    "#x"
   ]
  },
  {
   "cell_type": "code",
   "execution_count": null,
   "metadata": {
    "colab": {
     "base_uri": "https://localhost:8080/"
    },
    "id": "47BBsqxwufxo",
    "outputId": "70756602-6648-479e-c213-c6705a8fa11c"
   },
   "outputs": [
    {
     "name": "stdout",
     "output_type": "stream",
     "text": [
      "Model: \"sequential\"\n",
      "_________________________________________________________________\n",
      "Layer (type)                 Output Shape              Param #   \n",
      "=================================================================\n",
      "embedding (Embedding)        (None, 191, 300)          3000000   \n",
      "_________________________________________________________________\n",
      "bidirectional (Bidirectional (None, 191, 1024)         3330048   \n",
      "_________________________________________________________________\n",
      "dropout (Dropout)            (None, 191, 1024)         0         \n",
      "_________________________________________________________________\n",
      "time_distributed (TimeDistri (None, 191, 512)          524800    \n",
      "_________________________________________________________________\n",
      "flatten (Flatten)            (None, 97792)             0         \n",
      "_________________________________________________________________\n",
      "dense_1 (Dense)              (None, 74)                7236682   \n",
      "=================================================================\n",
      "Total params: 14,091,530\n",
      "Trainable params: 14,091,530\n",
      "Non-trainable params: 0\n",
      "_________________________________________________________________\n",
      "None\n",
      "Epoch 1/25\n",
      "97/97 [==============================] - 1608s 17s/step - loss: 3.4454 - accuracy: 0.1896 - val_loss: 2.1327 - val_accuracy: 0.4187\n",
      "Epoch 2/25\n",
      "97/97 [==============================] - 1600s 17s/step - loss: 1.7760 - accuracy: 0.5124 - val_loss: 1.3163 - val_accuracy: 0.6289\n",
      "Epoch 3/25\n",
      "97/97 [==============================] - 1598s 16s/step - loss: 0.9270 - accuracy: 0.7344 - val_loss: 0.9584 - val_accuracy: 0.7329\n",
      "Epoch 4/25\n",
      "97/97 [==============================] - 1583s 16s/step - loss: 0.5239 - accuracy: 0.8443 - val_loss: 0.8084 - val_accuracy: 0.7818\n",
      "Epoch 5/25\n",
      "97/97 [==============================] - 1590s 16s/step - loss: 0.3907 - accuracy: 0.8790 - val_loss: 0.7369 - val_accuracy: 0.8097\n",
      "Epoch 6/25\n",
      "97/97 [==============================] - 1582s 16s/step - loss: 0.2865 - accuracy: 0.9087 - val_loss: 0.6894 - val_accuracy: 0.8235\n",
      "Epoch 7/25\n",
      "97/97 [==============================] - 1584s 16s/step - loss: 0.2140 - accuracy: 0.9313 - val_loss: 0.7148 - val_accuracy: 0.8205\n",
      "Epoch 8/25\n",
      "97/97 [==============================] - 1576s 16s/step - loss: 0.1962 - accuracy: 0.9359 - val_loss: 0.7550 - val_accuracy: 0.8288\n",
      "Epoch 9/25\n",
      "97/97 [==============================] - 1599s 17s/step - loss: 0.1642 - accuracy: 0.9454 - val_loss: 0.7304 - val_accuracy: 0.8326\n",
      "Epoch 10/25\n",
      "97/97 [==============================] - 1603s 17s/step - loss: 0.1408 - accuracy: 0.9513 - val_loss: 0.7666 - val_accuracy: 0.8271\n",
      "Epoch 11/25\n",
      "97/97 [==============================] - 1604s 17s/step - loss: 0.1262 - accuracy: 0.9559 - val_loss: 0.7931 - val_accuracy: 0.8319\n",
      "Epoch 12/25\n",
      "97/97 [==============================] - 1607s 17s/step - loss: 0.1452 - accuracy: 0.9531 - val_loss: 0.7801 - val_accuracy: 0.8328\n"
     ]
    }
   ],
   "source": [
    "model_BILSTM_aug1=BILSTM_model1(max_features,emb_dim,inp_len1) \n",
    "history=model_BILSTM_aug1.fit(X_train_aug1,y_train_aug1,batch_size=batch_size,epochs=epochs,validation_data=(X_test_aug1,y_test_aug1),callbacks=[early_stopping])"
   ]
  },
  {
   "cell_type": "code",
   "execution_count": null,
   "metadata": {
    "colab": {
     "base_uri": "https://localhost:8080/",
     "height": 613
    },
    "id": "lZG2m-Al4nI_",
    "outputId": "117bffc5-5c26-4715-a4fd-03901681762c"
   },
   "outputs": [
    {
     "name": "stdout",
     "output_type": "stream",
     "text": [
      "Accuracy of BILSTM for level1 augmentation data is: 76.41205415129662\n",
      "Training Accuracy of BILSTM for level1 augmentation  data is: 82.37002342939377\n",
      "Mean loss of  Validation data of BILSTM for level1 augmentation  data is : 0.9318345834811529\n",
      "Mean loss of  Training data of BILSTM forlevel1 augmentation  data is : 0.6326616617540518\n"
     ]
    },
    {
     "data": {
      "image/png": "[encoded data removed]",
      "text/plain": [
       "<Figure size 432x288 with 1 Axes>"
      ]
     },
     "metadata": {
      "tags": []
     },
     "output_type": "display_data"
    },
    {
     "data": {
      "image/png": "[encoded data removed]",
      "text/plain": [
       "<Figure size 432x288 with 1 Axes>"
      ]
     },
     "metadata": {
      "tags": []
     },
     "output_type": "display_data"
    }
   ],
   "source": [
    "print(\"Accuracy of BILSTM for level1 augmentation data is:\", np.array(history.history['val_accuracy']).mean()*100)\n",
    "print(\"Training Accuracy of BILSTM for level1 augmentation  data is:\" ,np.array(history.history['accuracy']).mean()*100)\n",
    "print( \"Mean loss of  Validation data of BILSTM for level1 augmentation  data is :\",np.array(history.history['val_loss']).mean())\n",
    "print( \"Mean loss of  Training data of BILSTM forlevel1 augmentation  data is :\",np.array(history.history['loss'])\n",
    "      .mean())\n",
    "#plot for BILSTM\n",
    "modelname=\"BILSTMModel_aug1\"\n",
    "plot(model_BILSTM_aug1,history)"
   ]
  },
  {
   "cell_type": "code",
   "execution_count": null,
   "metadata": {
    "colab": {
     "background_save": true,
     "base_uri": "https://localhost:8080/"
    },
    "id": "EbZurK_LuhSw",
    "outputId": "6190638b-c9f1-42ce-e57b-d719af6083ee"
   },
   "outputs": [
    {
     "name": "stdout",
     "output_type": "stream",
     "text": [
      "Model: \"sequential_1\"\n",
      "_________________________________________________________________\n",
      "Layer (type)                 Output Shape              Param #   \n",
      "=================================================================\n",
      "embedding_1 (Embedding)      (None, 191, 300)          3000000   \n",
      "_________________________________________________________________\n",
      "bidirectional_1 (Bidirection (None, 191, 1024)         2500608   \n",
      "_________________________________________________________________\n",
      "dropout_1 (Dropout)          (None, 191, 1024)         0         \n",
      "_________________________________________________________________\n",
      "time_distributed_1 (TimeDist (None, 191, 512)          524800    \n",
      "_________________________________________________________________\n",
      "flatten_1 (Flatten)          (None, 97792)             0         \n",
      "_________________________________________________________________\n",
      "dense_3 (Dense)              (None, 74)                7236682   \n",
      "=================================================================\n",
      "Total params: 13,262,090\n",
      "Trainable params: 13,262,090\n",
      "Non-trainable params: 0\n",
      "_________________________________________________________________\n",
      "None\n",
      "Epoch 1/25\n",
      "97/97 [==============================] - 1160s 12s/step - loss: 3.3557 - accuracy: 0.1983 - val_loss: 2.0330 - val_accuracy: 0.4503\n",
      "Epoch 2/25\n",
      "97/97 [==============================] - 1161s 12s/step - loss: 1.5297 - accuracy: 0.5770 - val_loss: 1.0508 - val_accuracy: 0.7066\n",
      "Epoch 3/25\n",
      "97/97 [==============================] - 1157s 12s/step - loss: 0.6375 - accuracy: 0.8133 - val_loss: 0.7357 - val_accuracy: 0.7964\n",
      "Epoch 4/25\n",
      "97/97 [==============================] - 1163s 12s/step - loss: 0.3595 - accuracy: 0.8916 - val_loss: 0.6369 - val_accuracy: 0.8383\n",
      "Epoch 5/25\n",
      "97/97 [==============================] - 1178s 12s/step - loss: 0.2247 - accuracy: 0.9298 - val_loss: 0.6022 - val_accuracy: 0.8387\n",
      "Epoch 6/25\n",
      "97/97 [==============================] - 1216s 13s/step - loss: 0.1872 - accuracy: 0.9380 - val_loss: 0.6003 - val_accuracy: 0.8484\n",
      "Epoch 7/25\n",
      "97/97 [==============================] - 1217s 13s/step - loss: 0.1624 - accuracy: 0.9500 - val_loss: 0.5961 - val_accuracy: 0.8584\n",
      "Epoch 8/25\n",
      "97/97 [==============================] - 1195s 12s/step - loss: 0.1459 - accuracy: 0.9501 - val_loss: 0.6333 - val_accuracy: 0.8584\n",
      "Epoch 9/25\n",
      "97/97 [==============================] - 1154s 12s/step - loss: 0.1182 - accuracy: 0.9603 - val_loss: 0.6672 - val_accuracy: 0.8592\n",
      "Epoch 10/25\n",
      "97/97 [==============================] - 1157s 12s/step - loss: 0.1067 - accuracy: 0.9620 - val_loss: 0.6933 - val_accuracy: 0.8577\n"
     ]
    }
   ],
   "source": [
    "model_BIGRU_aug1=BIGRU_model1(max_features,emb_dim,inp_len1) \n",
    "history=model_BIGRU_aug1.fit(X_train_aug1,y_train_aug1,batch_size=batch_size,epochs=epochs,validation_data=(X_test_aug1,y_test_aug1),callbacks=[early_stopping])"
   ]
  },
  {
   "cell_type": "code",
   "execution_count": null,
   "metadata": {
    "colab": {
     "background_save": true
    },
    "id": "WvT2jo4f4nI_",
    "outputId": "ae88572a-5dc9-4865-b94e-7be9fc9845cf"
   },
   "outputs": [
    {
     "name": "stdout",
     "output_type": "stream",
     "text": [
      "Accuracy of BIGRU for level 1 augmentation data is: 79.12433624267578\n",
      "Training Accuracy of BIGRU for level1 augmentation  data is: 82.94882267713547\n",
      "Mean loss of  Validation data of BIGRU for level1 augmentation  data is : 0.824859356880188\n",
      "Mean loss of  Training data of BIGRU forlevel1 augmentation  data is : 0.6180907532572746\n"
     ]
    },
    {
     "data": {
      "image/png": "[encoded data removed]",
      "text/plain": [
       "<Figure size 432x288 with 1 Axes>"
      ]
     },
     "metadata": {
      "tags": []
     },
     "output_type": "display_data"
    },
    {
     "data": {
      "image/png": "[encoded data removed]",
      "text/plain": [
       "<Figure size 432x288 with 1 Axes>"
      ]
     },
     "metadata": {
      "tags": []
     },
     "output_type": "display_data"
    }
   ],
   "source": [
    "print(\"Accuracy of BIGRU for level 1 augmentation data is:\", np.array(history.history['val_accuracy']).mean()*100)\n",
    "print(\"Training Accuracy of BIGRU for level1 augmentation  data is:\" ,np.array(history.history['accuracy']).mean()*100)\n",
    "print( \"Mean loss of  Validation data of BIGRU for level1 augmentation  data is :\",np.array(history.history['val_loss']).mean())\n",
    "print( \"Mean loss of  Training data of BIGRU forlevel1 augmentation  data is :\",np.array(history.history['loss'])\n",
    "      .mean())\n",
    "#plot for BIGRU\n",
    "modelname=\"BIGRUModel_aug1\"\n",
    "plot(model_BIGRU_aug1,history)"
   ]
  },
  {
   "cell_type": "code",
   "execution_count": 18,
   "metadata": {
    "colab": {
     "base_uri": "https://localhost:8080/"
    },
    "id": "YXzWNefFuo9c",
    "outputId": "6c66adf7-dd31-4feb-96c5-04efce72fe46"
   },
   "outputs": [
    {
     "name": "stdout",
     "output_type": "stream",
     "text": [
      "Model: \"sequential\"\n",
      "_________________________________________________________________\n",
      "Layer (type)                 Output Shape              Param #   \n",
      "=================================================================\n",
      "embedding (Embedding)        (None, 191, 300)          3000000   \n",
      "_________________________________________________________________\n",
      "lstm (LSTM)                  (None, 191, 512)          1665024   \n",
      "_________________________________________________________________\n",
      "dropout (Dropout)            (None, 191, 512)          0         \n",
      "_________________________________________________________________\n",
      "time_distributed (TimeDistri (None, 191, 512)          262656    \n",
      "_________________________________________________________________\n",
      "flatten (Flatten)            (None, 97792)             0         \n",
      "_________________________________________________________________\n",
      "dense_1 (Dense)              (None, 74)                7236682   \n",
      "=================================================================\n",
      "Total params: 12,164,362\n",
      "Trainable params: 12,164,362\n",
      "Non-trainable params: 0\n",
      "_________________________________________________________________\n",
      "None\n",
      "Epoch 1/25\n",
      "171/171 [==============================] - 2668s 16s/step - loss: 2.4287 - accuracy: 0.3694 - val_loss: 1.2958 - val_accuracy: 0.6348\n",
      "Epoch 2/25\n",
      "171/171 [==============================] - 2703s 16s/step - loss: 0.8398 - accuracy: 0.7579 - val_loss: 0.6366 - val_accuracy: 0.8105\n",
      "Epoch 3/25\n",
      "171/171 [==============================] - 2720s 16s/step - loss: 0.4343 - accuracy: 0.8653 - val_loss: 0.4661 - val_accuracy: 0.8595\n",
      "Epoch 4/25\n",
      "171/171 [==============================] - 2728s 16s/step - loss: 0.2952 - accuracy: 0.9078 - val_loss: 0.4341 - val_accuracy: 0.8683\n",
      "Epoch 5/25\n",
      "171/171 [==============================] - 2736s 16s/step - loss: 0.2284 - accuracy: 0.9267 - val_loss: 0.3916 - val_accuracy: 0.8815\n",
      "Epoch 6/25\n",
      "171/171 [==============================] - 2647s 15s/step - loss: 0.1892 - accuracy: 0.9367 - val_loss: 0.3879 - val_accuracy: 0.8864\n",
      "Epoch 7/25\n",
      "171/171 [==============================] - 2584s 15s/step - loss: 0.1830 - accuracy: 0.9390 - val_loss: 0.4188 - val_accuracy: 0.8800\n",
      "Epoch 8/25\n",
      "171/171 [==============================] - 2633s 15s/step - loss: 0.1602 - accuracy: 0.9464 - val_loss: 0.3909 - val_accuracy: 0.8919\n",
      "Epoch 9/25\n",
      "171/171 [==============================] - 2590s 15s/step - loss: 0.1376 - accuracy: 0.9531 - val_loss: 0.3937 - val_accuracy: 0.8953\n",
      "Epoch 10/25\n",
      "171/171 [==============================] - 2745s 16s/step - loss: 0.1305 - accuracy: 0.9543 - val_loss: 0.4167 - val_accuracy: 0.8950\n",
      "Epoch 11/25\n",
      "171/171 [==============================] - 2839s 17s/step - loss: 0.1202 - accuracy: 0.9558 - val_loss: 0.4047 - val_accuracy: 0.8998\n",
      "Epoch 12/25\n",
      "171/171 [==============================] - 2669s 16s/step - loss: 0.1161 - accuracy: 0.9584 - val_loss: 0.4088 - val_accuracy: 0.8950\n",
      "Epoch 13/25\n",
      "171/171 [==============================] - 2748s 16s/step - loss: 0.1211 - accuracy: 0.9569 - val_loss: 0.4462 - val_accuracy: 0.8884\n",
      "Epoch 14/25\n",
      "171/171 [==============================] - 2670s 16s/step - loss: 0.1192 - accuracy: 0.9574 - val_loss: 0.4114 - val_accuracy: 0.8989\n"
     ]
    }
   ],
   "source": [
    "model_LSTM_aug2=LSTM_model1(max_features,emb_dim,inp_len1) \n",
    "history=model_LSTM_aug2.fit(X_train_aug2,y_train_aug2,batch_size=batch_size,epochs=epochs,validation_data=(X_test_aug2,y_test_aug2),callbacks=[early_stopping])"
   ]
  },
  {
   "cell_type": "code",
   "execution_count": 19,
   "metadata": {
    "id": "7yIy6b2H4nJA"
   },
   "outputs": [
    {
     "name": "stdout",
     "output_type": "stream",
     "text": [
      "Accuracy of LSTM for level2 augmentation data is: 86.32204234600067\n",
      "Training Accuracy of LSTM for level2 augmentation  data is: 88.46500835248402\n",
      "Mean loss of  Validation data of LSTM for level2 augmentation  data is : 0.4930925518274307\n",
      "Mean loss of  Training data of LSTM forlevel2 augmentation  data is : 0.39311610268695013\n"
     ]
    },
    {
     "data": {
      "image/png": "[encoded data removed]",
      "text/plain": [
       "<Figure size 432x288 with 1 Axes>"
      ]
     },
     "metadata": {
      "needs_background": "light"
     },
     "output_type": "display_data"
    },
    {
     "data": {
      "image/png": "[encoded data removed]",
      "text/plain": [
       "<Figure size 432x288 with 1 Axes>"
      ]
     },
     "metadata": {
      "needs_background": "light"
     },
     "output_type": "display_data"
    }
   ],
   "source": [
    "print(\"Accuracy of LSTM for level2 augmentation data is:\", np.array(history.history['val_accuracy']).mean()*100)\n",
    "print(\"Training Accuracy of LSTM for level2 augmentation  data is:\" ,np.array(history.history['accuracy']).mean()*100)\n",
    "print( \"Mean loss of  Validation data of LSTM for level2 augmentation  data is :\",np.array(history.history['val_loss']).mean())\n",
    "print( \"Mean loss of  Training data of LSTM forlevel2 augmentation  data is :\",np.array(history.history['loss'])\n",
    "      .mean())\n",
    "#plot for LSTM\n",
    "modelname=\"LSTMModel_aug2\"\n",
    "plot(model_LSTM_aug2,history)"
   ]
  },
  {
   "cell_type": "code",
   "execution_count": 20,
   "metadata": {
    "id": "S0mvWiW9uuHB"
   },
   "outputs": [
    {
     "name": "stdout",
     "output_type": "stream",
     "text": [
      "Model: \"sequential_1\"\n",
      "_________________________________________________________________\n",
      "Layer (type)                 Output Shape              Param #   \n",
      "=================================================================\n",
      "embedding_1 (Embedding)      (None, 191, 300)          3000000   \n",
      "_________________________________________________________________\n",
      "gru (GRU)                    (None, 191, 512)          1250304   \n",
      "_________________________________________________________________\n",
      "dropout_1 (Dropout)          (None, 191, 512)          0         \n",
      "_________________________________________________________________\n",
      "time_distributed_1 (TimeDist (None, 191, 512)          262656    \n",
      "_________________________________________________________________\n",
      "flatten_1 (Flatten)          (None, 97792)             0         \n",
      "_________________________________________________________________\n",
      "dense_3 (Dense)              (None, 74)                7236682   \n",
      "=================================================================\n",
      "Total params: 11,749,642\n",
      "Trainable params: 11,749,642\n",
      "Non-trainable params: 0\n",
      "_________________________________________________________________\n",
      "None\n",
      "Epoch 1/25\n",
      "171/171 [==============================] - 1982s 12s/step - loss: 2.2662 - accuracy: 0.4129 - val_loss: 1.0618 - val_accuracy: 0.6971\n",
      "Epoch 2/25\n",
      "171/171 [==============================] - 1952s 11s/step - loss: 0.6347 - accuracy: 0.8166 - val_loss: 0.5219 - val_accuracy: 0.8478\n",
      "Epoch 3/25\n",
      "171/171 [==============================] - 1965s 11s/step - loss: 0.3129 - accuracy: 0.9028 - val_loss: 0.3803 - val_accuracy: 0.8842\n",
      "Epoch 4/25\n",
      "171/171 [==============================] - 1996s 12s/step - loss: 0.2158 - accuracy: 0.9315 - val_loss: 0.3426 - val_accuracy: 0.8958\n",
      "Epoch 5/25\n",
      "171/171 [==============================] - 1942s 11s/step - loss: 0.1836 - accuracy: 0.9395 - val_loss: 0.3581 - val_accuracy: 0.8956\n",
      "Epoch 6/25\n",
      "171/171 [==============================] - 1909s 11s/step - loss: 0.1450 - accuracy: 0.9514 - val_loss: 0.3342 - val_accuracy: 0.9020\n",
      "Epoch 7/25\n",
      "171/171 [==============================] - 2000s 12s/step - loss: 0.1294 - accuracy: 0.9563 - val_loss: 0.3618 - val_accuracy: 0.9004\n",
      "Epoch 8/25\n",
      "171/171 [==============================] - 1928s 11s/step - loss: 0.1271 - accuracy: 0.9552 - val_loss: 0.3498 - val_accuracy: 0.9020\n",
      "Epoch 9/25\n",
      "171/171 [==============================] - 1878s 11s/step - loss: 0.1219 - accuracy: 0.9565 - val_loss: 0.3348 - val_accuracy: 0.9068\n",
      "Epoch 10/25\n",
      "171/171 [==============================] - 2006s 12s/step - loss: 0.1133 - accuracy: 0.9606 - val_loss: 0.3743 - val_accuracy: 0.9030\n",
      "Epoch 11/25\n",
      "171/171 [==============================] - 2044s 12s/step - loss: 0.1011 - accuracy: 0.9631 - val_loss: 0.3915 - val_accuracy: 0.9026\n",
      "Epoch 12/25\n",
      "171/171 [==============================] - 2032s 12s/step - loss: 0.1035 - accuracy: 0.9626 - val_loss: 0.3920 - val_accuracy: 0.9055\n"
     ]
    }
   ],
   "source": [
    "model_GRU_aug2=GRU_model1(max_features,emb_dim,inp_len1) \n",
    "history=model_GRU_aug2.fit(X_train_aug2,y_train_aug2,batch_size=batch_size,epochs=epochs,validation_data=(X_test_aug2,y_test_aug2),callbacks=[early_stopping])"
   ]
  },
  {
   "cell_type": "code",
   "execution_count": null,
   "metadata": {
    "id": "irMBhzLP4nJA"
   },
   "outputs": [],
   "source": [
    "print(\"Accuracy of GRU for level2 augmentation data is:\",np.array(history.history['val_accuracy']).mean()*100)\n",
    "print(\"Training Accuracy of GRU for level2 augmentation  data is:\" ,np.array(history.history['accuracy']).mean()*100)\n",
    "print( \"Mean loss of  Validation data of GRU for level2 augmentation  data is :\",np.array(history.history['val_loss']).mean())\n",
    "print( \"Mean loss of  Training data of GRU for level2 augmentation  data is :\",np.array(history.history['loss'])\n",
    "      .mean())\n",
    "#plot for GRU\n",
    "modelname=\"GRUModel_aug2\"\n",
    "plot(model_GRU_aug2,history)"
   ]
  },
  {
   "cell_type": "code",
   "execution_count": 17,
   "metadata": {
    "id": "irMBhzLP4nJA"
   },
   "outputs": [],
   "source": [
    "#x"
   ]
  },
  {
   "cell_type": "code",
   "execution_count": 18,
   "metadata": {
    "id": "yDu5IbHIuxID"
   },
   "outputs": [
    {
     "name": "stdout",
     "output_type": "stream",
     "text": [
      "Model: \"sequential\"\n",
      "_________________________________________________________________\n",
      "Layer (type)                 Output Shape              Param #   \n",
      "=================================================================\n",
      "embedding (Embedding)        (None, 191, 300)          3000000   \n",
      "_________________________________________________________________\n",
      "bidirectional (Bidirectional (None, 191, 1024)         3330048   \n",
      "_________________________________________________________________\n",
      "dropout (Dropout)            (None, 191, 1024)         0         \n",
      "_________________________________________________________________\n",
      "time_distributed (TimeDistri (None, 191, 512)          524800    \n",
      "_________________________________________________________________\n",
      "flatten (Flatten)            (None, 97792)             0         \n",
      "_________________________________________________________________\n",
      "dense_1 (Dense)              (None, 74)                7236682   \n",
      "=================================================================\n",
      "Total params: 14,091,530\n",
      "Trainable params: 14,091,530\n",
      "Non-trainable params: 0\n",
      "_________________________________________________________________\n",
      "None\n",
      "Epoch 1/25\n",
      "171/171 [==============================] - 1634s 10s/step - loss: 2.3673 - accuracy: 0.3837 - val_loss: 1.3104 - val_accuracy: 0.6413\n",
      "Epoch 2/25\n",
      "171/171 [==============================] - 1639s 10s/step - loss: 0.8030 - accuracy: 0.7649 - val_loss: 0.5880 - val_accuracy: 0.8222\n",
      "Epoch 3/25\n",
      "171/171 [==============================] - 1653s 10s/step - loss: 0.3963 - accuracy: 0.8773 - val_loss: 0.4762 - val_accuracy: 0.8626\n",
      "Epoch 4/25\n",
      "171/171 [==============================] - 1652s 10s/step - loss: 0.2629 - accuracy: 0.9181 - val_loss: 0.3977 - val_accuracy: 0.8814\n",
      "Epoch 5/25\n",
      "171/171 [==============================] - 1653s 10s/step - loss: 0.2115 - accuracy: 0.9303 - val_loss: 0.4171 - val_accuracy: 0.8756\n",
      "Epoch 6/25\n",
      "171/171 [==============================] - 1654s 10s/step - loss: 0.1760 - accuracy: 0.9423 - val_loss: 0.3729 - val_accuracy: 0.8940\n",
      "Epoch 7/25\n",
      "171/171 [==============================] - 1642s 10s/step - loss: 0.1387 - accuracy: 0.9531 - val_loss: 0.3567 - val_accuracy: 0.9035\n",
      "Epoch 8/25\n",
      "171/171 [==============================] - 1644s 10s/step - loss: 0.1225 - accuracy: 0.9577 - val_loss: 0.3711 - val_accuracy: 0.9025\n",
      "Epoch 9/25\n",
      "171/171 [==============================] - 1654s 10s/step - loss: 0.1158 - accuracy: 0.9596 - val_loss: 0.3892 - val_accuracy: 0.8984\n",
      "Epoch 10/25\n",
      "171/171 [==============================] - 1654s 10s/step - loss: 0.1196 - accuracy: 0.9579 - val_loss: 0.4099 - val_accuracy: 0.8927\n"
     ]
    }
   ],
   "source": [
    "model_BILSTM_aug2=BILSTM_model1(max_features,emb_dim,inp_len1) \n",
    "history=model_BILSTM_aug2.fit(X_train_aug2,y_train_aug2,batch_size=batch_size,epochs=epochs,validation_data=(X_test_aug2,y_test_aug2),callbacks=[early_stopping])"
   ]
  },
  {
   "cell_type": "code",
   "execution_count": 19,
   "metadata": {
    "id": "W4YewXpz4nJA"
   },
   "outputs": [
    {
     "name": "stdout",
     "output_type": "stream",
     "text": [
      "Accuracy of BILSTM for level2 augmentation data is: 85.74250042438507\n",
      "Training Accuracy of BILSTM for level2 augmentation  data is: 86.45007908344269\n",
      "Mean loss of  Validation data of BILSTM for level2 augmentation  data is : 0.5089244306087494\n",
      "Mean loss of  Training data of BILSTM for level2 augmentation  data is : 0.47137312293052674\n"
     ]
    },
    {
     "data": {
      "image/png": "[encoded data removed]",
      "text/plain": [
       "<Figure size 432x288 with 1 Axes>"
      ]
     },
     "metadata": {
      "needs_background": "light"
     },
     "output_type": "display_data"
    },
    {
     "data": {
      "image/png": "[encoded data removed]",
      "text/plain": [
       "<Figure size 432x288 with 1 Axes>"
      ]
     },
     "metadata": {
      "needs_background": "light"
     },
     "output_type": "display_data"
    }
   ],
   "source": [
    "print(\"Accuracy of BILSTM for level2 augmentation data is:\", np.array(history.history['val_accuracy']).mean()*100)\n",
    "print(\"Training Accuracy of BILSTM for level2 augmentation  data is:\" ,np.array(history.history['accuracy']).mean()*100)\n",
    "print( \"Mean loss of  Validation data of BILSTM for level2 augmentation  data is :\",np.array(history.history['val_loss']).mean())\n",
    "print( \"Mean loss of  Training data of BILSTM for level2 augmentation  data is :\",np.array(history.history['loss'])\n",
    "      .mean())\n",
    "modelname=\"BILSTMModel_aug2\"\n",
    "plot(model_BILSTM_aug2,history)"
   ]
  },
  {
   "cell_type": "code",
   "execution_count": 20,
   "metadata": {
    "id": "_CQwAShGu6_5"
   },
   "outputs": [
    {
     "name": "stdout",
     "output_type": "stream",
     "text": [
      "Model: \"sequential_1\"\n",
      "_________________________________________________________________\n",
      "Layer (type)                 Output Shape              Param #   \n",
      "=================================================================\n",
      "embedding_1 (Embedding)      (None, 191, 300)          3000000   \n",
      "_________________________________________________________________\n",
      "bidirectional_1 (Bidirection (None, 191, 1024)         2500608   \n",
      "_________________________________________________________________\n",
      "dropout_1 (Dropout)          (None, 191, 1024)         0         \n",
      "_________________________________________________________________\n",
      "time_distributed_1 (TimeDist (None, 191, 512)          524800    \n",
      "_________________________________________________________________\n",
      "flatten_1 (Flatten)          (None, 97792)             0         \n",
      "_________________________________________________________________\n",
      "dense_3 (Dense)              (None, 74)                7236682   \n",
      "=================================================================\n",
      "Total params: 13,262,090\n",
      "Trainable params: 13,262,090\n",
      "Non-trainable params: 0\n",
      "_________________________________________________________________\n",
      "None\n",
      "Epoch 1/25\n",
      "171/171 [==============================] - 1201s 7s/step - loss: 2.1674 - accuracy: 0.4350 - val_loss: 0.9487 - val_accuracy: 0.7308\n",
      "Epoch 2/25\n",
      "171/171 [==============================] - 1175s 7s/step - loss: 0.5620 - accuracy: 0.8377 - val_loss: 0.4389 - val_accuracy: 0.8678\n",
      "Epoch 3/25\n",
      "171/171 [==============================] - 1326s 8s/step - loss: 0.2666 - accuracy: 0.9173 - val_loss: 0.3382 - val_accuracy: 0.8932\n",
      "Epoch 4/25\n",
      "171/171 [==============================] - 1332s 8s/step - loss: 0.1934 - accuracy: 0.9359 - val_loss: 0.3229 - val_accuracy: 0.9050\n",
      "Epoch 5/25\n",
      "171/171 [==============================] - 1175s 7s/step - loss: 0.1632 - accuracy: 0.9450 - val_loss: 0.3735 - val_accuracy: 0.8969\n",
      "Epoch 6/25\n",
      "171/171 [==============================] - 1318s 8s/step - loss: 0.1371 - accuracy: 0.9533 - val_loss: 0.3171 - val_accuracy: 0.9117\n",
      "Epoch 7/25\n",
      "171/171 [==============================] - 1317s 8s/step - loss: 0.1115 - accuracy: 0.9611 - val_loss: 0.3045 - val_accuracy: 0.9132\n",
      "Epoch 8/25\n",
      "171/171 [==============================] - 1323s 8s/step - loss: 0.1105 - accuracy: 0.9591 - val_loss: 0.3256 - val_accuracy: 0.9147\n",
      "Epoch 9/25\n",
      "171/171 [==============================] - 1314s 8s/step - loss: 0.1091 - accuracy: 0.9600 - val_loss: 0.3770 - val_accuracy: 0.9006\n",
      "Epoch 10/25\n",
      "171/171 [==============================] - 1315s 8s/step - loss: 0.1245 - accuracy: 0.9547 - val_loss: 0.3900 - val_accuracy: 0.9035\n",
      "Epoch 11/25\n",
      "171/171 [==============================] - 1316s 8s/step - loss: 0.1037 - accuracy: 0.9611 - val_loss: 0.3659 - val_accuracy: 0.9097\n"
     ]
    }
   ],
   "source": [
    "model_BIGRU_aug2=BIGRU_model1(max_features,emb_dim,inp_len1) \n",
    "history=model_BIGRU_aug2.fit(X_train_aug2,y_train_aug2,batch_size=batch_size,epochs=epochs,validation_data=(X_test_aug2,y_test_aug2),callbacks=[early_stopping])"
   ]
  },
  {
   "cell_type": "code",
   "execution_count": 21,
   "metadata": {
    "id": "AT0XyXPl4nJB"
   },
   "outputs": [
    {
     "name": "stdout",
     "output_type": "stream",
     "text": [
      "Accuracy of BIGRU for level2 augmentation data is: 88.6099175973372\n",
      "Training Accuracy of BIGRU for level2 augmentation  data is: 89.27427476102655\n",
      "Mean loss of  Validation data of BIGRU for level2 augmentation  data is : 0.40930344570766797\n",
      "Mean loss of  Training data of BIGRU for level2 augmentation  data is : 0.3681054413318634\n"
     ]
    },
    {
     "data": {
      "image/png": "[encoded data removed]",
      "text/plain": [
       "<Figure size 432x288 with 1 Axes>"
      ]
     },
     "metadata": {
      "needs_background": "light"
     },
     "output_type": "display_data"
    },
    {
     "data": {
      "image/png": "[encoded data removed]",
      "text/plain": [
       "<Figure size 432x288 with 1 Axes>"
      ]
     },
     "metadata": {
      "needs_background": "light"
     },
     "output_type": "display_data"
    }
   ],
   "source": [
    "print(\"Accuracy of BIGRU for level2 augmentation data is:\", np.array(history.history['val_accuracy']).mean()*100)\n",
    "print(\"Training Accuracy of BIGRU for level2 augmentation  data is:\" ,np.array(history.history['accuracy']).mean()*100)\n",
    "print( \"Mean loss of  Validation data of BIGRU for level2 augmentation  data is :\",np.array(history.history['val_loss']).mean())\n",
    "print( \"Mean loss of  Training data of BIGRU for level2 augmentation  data is :\",np.array(history.history['loss'])\n",
    "      .mean())\n",
    "#plot for BIGRUm\n",
    "modelname=\"BIGRUModel_aug2\"\n",
    "plot(model_BIGRU_aug2,history)"
   ]
  },
  {
   "cell_type": "code",
   "execution_count": null,
   "metadata": {
    "id": "0QR-8idrvCk6"
   },
   "outputs": [],
   "source": []
  },
  {
   "cell_type": "code",
   "execution_count": null,
   "metadata": {
    "id": "8K-LGoiB6cH2"
   },
   "outputs": [],
   "source": []
  }
 ],
 "metadata": {
  "accelerator": "TPU",
  "colab": {
   "collapsed_sections": [],
   "name": "cp_dl (2).ipynb",
   "provenance": []
  },
  "kernelspec": {
   "display_name": "Python 3",
   "language": "python",
   "name": "python3"
  },
  "language_info": {
   "codemirror_mode": {
    "name": "ipython",
    "version": 3
   },
   "file_extension": ".py",
   "mimetype": "text/x-python",
   "name": "python",
   "nbconvert_exporter": "python",
   "pygments_lexer": "ipython3",
   "version": "3.8.5"
  }
 },
 "nbformat": 4,
 "nbformat_minor": 1
}
