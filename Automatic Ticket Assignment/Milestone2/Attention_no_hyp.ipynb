{
 "cells": [
  {
   "cell_type": "code",
   "execution_count": 2,
   "metadata": {
    "colab": {
     "base_uri": "https://localhost:8080/"
    },
    "id": "RidnctdD0XxB",
    "outputId": "7b809f98-2844-477c-86c0-71d8ed955a46"
   },
   "outputs": [
    {
     "name": "stdout",
     "output_type": "stream",
     "text": [
      "Requirement already satisfied: keras-tuner in c:\\users\\vin\\anaconda3\\lib\\site-packages (1.0.2)\n",
      "Requirement already satisfied: tabulate in c:\\users\\vin\\anaconda3\\lib\\site-packages (from keras-tuner) (0.8.7)\n",
      "Requirement already satisfied: scipy in c:\\users\\vin\\anaconda3\\lib\\site-packages (from keras-tuner) (1.5.2)\n",
      "Requirement already satisfied: scikit-learn in c:\\users\\vin\\anaconda3\\lib\\site-packages (from keras-tuner) (0.23.2)\n",
      "Requirement already satisfied: tqdm in c:\\users\\vin\\anaconda3\\lib\\site-packages (from keras-tuner) (4.51.0)\n",
      "Requirement already satisfied: terminaltables in c:\\users\\vin\\anaconda3\\lib\\site-packages (from keras-tuner) (3.1.0)\n",
      "Requirement already satisfied: future in c:\\users\\vin\\anaconda3\\lib\\site-packages (from keras-tuner) (0.18.2)\n",
      "Requirement already satisfied: requests in c:\\users\\vin\\anaconda3\\lib\\site-packages (from keras-tuner) (2.25.0)\n",
      "Requirement already satisfied: colorama in c:\\users\\vin\\anaconda3\\lib\\site-packages (from keras-tuner) (0.4.4)\n",
      "Requirement already satisfied: packaging in c:\\users\\vin\\anaconda3\\lib\\site-packages (from keras-tuner) (20.4)\n",
      "Requirement already satisfied: numpy in c:\\users\\vin\\anaconda3\\lib\\site-packages (from keras-tuner) (1.19.2)\n",
      "Requirement already satisfied: threadpoolctl>=2.0.0 in c:\\users\\vin\\anaconda3\\lib\\site-packages (from scikit-learn->keras-tuner) (2.1.0)\n",
      "Requirement already satisfied: joblib>=0.11 in c:\\users\\vin\\anaconda3\\lib\\site-packages (from scikit-learn->keras-tuner) (0.17.0)\n",
      "Requirement already satisfied: urllib3<1.27,>=1.21.1 in c:\\users\\vin\\anaconda3\\lib\\site-packages (from requests->keras-tuner) (1.25.11)\n",
      "Requirement already satisfied: chardet<4,>=3.0.2 in c:\\users\\vin\\anaconda3\\lib\\site-packages (from requests->keras-tuner) (3.0.4)\n",
      "Requirement already satisfied: certifi>=2017.4.17 in c:\\users\\vin\\anaconda3\\lib\\site-packages (from requests->keras-tuner) (2020.11.8)\n",
      "Requirement already satisfied: idna<3,>=2.5 in c:\\users\\vin\\anaconda3\\lib\\site-packages (from requests->keras-tuner) (2.10)\n",
      "Requirement already satisfied: pyparsing>=2.0.2 in c:\\users\\vin\\anaconda3\\lib\\site-packages (from packaging->keras-tuner) (2.4.7)\n",
      "Requirement already satisfied: six in c:\\users\\vin\\anaconda3\\lib\\site-packages (from packaging->keras-tuner) (1.15.0)\n",
      "   Unnamed: 0  Unnamed: 0.1  \\\n",
      "0           0             0   \n",
      "1           1             1   \n",
      "2           2             2   \n",
      "3           3             3   \n",
      "4           4             4   \n",
      "\n",
      "                        Combined Description Cleaned Assignment group  \n",
      "0  login issue user manager name checked the name...            GRP_0  \n",
      "1  outlook received from hello team my are not in...            GRP_0  \n",
      "2    cannot log in to received from   cannot on best            GRP_0  \n",
      "3                         unable to access tool page            GRP_0  \n",
      "4                                              error            GRP_0  \n",
      "   Unnamed: 0                       Combined Description Cleaned  \\\n",
      "0           0  login issue user manager name checked the name...   \n",
      "1           1  outlook received from hello team my are not in...   \n",
      "2           2  cannot log in to received from hi i cannot on ...   \n",
      "3           3                         unable to access tool page   \n",
      "4           4                                              error   \n",
      "\n",
      "  Assignment group  LabelEncodings  \n",
      "0            GRP_0               0  \n",
      "1            GRP_0               0  \n",
      "2            GRP_0               0  \n",
      "3            GRP_0               0  \n",
      "4            GRP_0               0  \n",
      "   Unnamed: 0                       Combined Description Cleaned  \\\n",
      "0           0  login issue user manager name checked the name...   \n",
      "1           1  outlook received from hello team my are not in...   \n",
      "2           2  cannot log in to received from hi i cannot on ...   \n",
      "3           3                         unable to access tool page   \n",
      "4           4                                              error   \n",
      "\n",
      "  Assignment group  LabelEncodings  \n",
      "0            GRP_0               0  \n",
      "1            GRP_0               0  \n",
      "2            GRP_0               0  \n",
      "3            GRP_0               0  \n",
      "4            GRP_0               0  \n"
     ]
    }
   ],
   "source": [
    "import tensorflow as tf \n",
    "from tensorflow.keras.preprocessing.sequence import pad_sequences\n",
    "from tensorflow.keras import layers\n",
    "from tensorflow.keras.layers import Embedding,LSTM,TimeDistributed,Dense,Flatten,Dropout,RepeatVector,GRU,Bidirectional,Permute\n",
    "from tensorflow.keras.utils import to_categorical\n",
    "from tensorflow.keras.models import Sequential\n",
    "from tensorflow.keras.preprocessing.text import Tokenizer\n",
    "from tensorflow.keras.callbacks import ModelCheckpoint, EarlyStopping\n",
    "import numpy as np\n",
    "import pandas as pd\n",
    "from sklearn.model_selection import train_test_split\n",
    "import matplotlib.pyplot as plt\n",
    "!pip install keras-tuner\n",
    "import kerastuner as kt\n",
    "from kerastuner.tuners import BayesianOptimization\n",
    "from tensorflow.keras.optimizers import Adam\n",
    "from tensorflow.keras import Input\n",
    "from keras_preprocessing import sequence\n",
    "from tensorflow.python.keras.layers import Concatenate,concatenate,Activation, dot\n",
    "\n",
    "import os\n",
    "adam = Adam(lr=0.01)\n",
    "filename='pre_data_dl.xlsx'\n",
    "data_dl=pd.read_excel(filename)\n",
    "pd.set_option('display.max_columns', None)\n",
    "print(data_dl.head())\n",
    "\n",
    "filename1='pre_data_dl_aug1.xlsx'\n",
    "filename2='pre_data_dl_aug2.xlsx'\n",
    "\n",
    "data_dl_aug1=pd.read_excel(filename1)\n",
    "pd.set_option('display.max_columns', None)\n",
    "print(data_dl_aug1.head())\n",
    "\n",
    "data_dl_aug2=pd.read_excel(filename2)\n",
    "print(data_dl_aug2.head())\n",
    "\n",
    "X = (data_dl[\"Combined Description Cleaned\"])\n",
    "y= (data_dl['Assignment group'])\n",
    "\n",
    "#categorical encoding y\n",
    "y=pd.get_dummies(data_dl['Assignment group'])\n",
    "  \n",
    "\n",
    "#parameters\n",
    "max_features=10000\n",
    "emb_dim=300\n",
    "batch_size=128\n",
    "epochs=25\n",
    "out_dim=74"
   ]
  },
  {
   "cell_type": "code",
   "execution_count": 3,
   "metadata": {
    "colab": {
     "base_uri": "https://localhost:8080/"
    },
    "id": "S5saURzr0Xxn",
    "outputId": "3068f2a6-671c-42eb-f690-7fd20f9320cf"
   },
   "outputs": [
    {
     "name": "stdout",
     "output_type": "stream",
     "text": [
      "vocabulary size is:  3316\n"
     ]
    }
   ],
   "source": [
    "#function for tokenizer\n",
    "def dfTokenizer(df):\n",
    " tokenizer=Tokenizer(num_words=max_features,char_level=False)\n",
    " tokenizer.fit_on_texts(df)\n",
    " sequences=tokenizer.texts_to_sequences(df)\n",
    " return sequences,tokenizer\n",
    "#tokenization\n",
    "X,tokenizer = dfTokenizer(data_dl[\"Combined Description Cleaned\"]) \n",
    "vocab_size=len(tokenizer.word_index)\n",
    "print(\"vocabulary size is: \",vocab_size)\n",
    "\n",
    "#function for padding\n",
    "def pad(x, length=None):\n",
    " if length is None:\n",
    "   length=max([len(sentence)  for sentence in x])\n",
    " return pad_sequences(x,maxlen=length,padding='post')\n",
    " \n",
    " #padding \n",
    "X=pad_sequences(X,padding='post')\n",
    "\n",
    "\n",
    "#function for splitting the data\n",
    "def split(X,y):\n",
    " X_train_spl,X_test_spl,y_train_spl,y_test_spl=train_test_split(X,y,test_size=0.2,random_state=123)\n",
    " return X_train_spl,X_test_spl,y_train_spl,y_test_spl\n",
    "#split the data\n",
    "X_train,X_test,y_train,y_test=split(X,y)\n",
    "\n",
    "\n",
    "#configuring the callback\n",
    "early_stopping =  EarlyStopping(\n",
    "    monitor='val_accuracy', \n",
    "    patience=3, \n",
    "    min_delta=0.001, \n",
    "    mode='max'\n",
    ")\n",
    "\n",
    "\n",
    "#function for plotting accuracy,loss\n",
    "def plot(model,history):\n",
    " acc = history.history['accuracy']\n",
    " val_acc = history.history['val_accuracy']\n",
    " loss = history.history['loss']\n",
    " val_loss = history.history['val_loss']\n",
    " epochs = range(1, len(acc) + 1)\n",
    " plt.plot(epochs, acc, 'bo', label='Training acc')\n",
    " plt.plot(epochs, val_acc, 'b', label='Validation acc')\n",
    " plt.title( ' Training and validation accuracy')\n",
    " plt.legend()\n",
    " plt.figure()\n",
    " plt.plot(epochs, loss, 'bo', label='Training loss')\n",
    " plt.plot(epochs, val_loss, 'b', label='Validation loss')\n",
    " plt.title('Training and validation loss')\n",
    " plt.legend()\n",
    " plt.show()\n",
    " return "
   ]
  },
  {
   "cell_type": "code",
   "execution_count": 4,
   "metadata": {
    "id": "L9rbjguf0Xx2"
   },
   "outputs": [],
   "source": [
    "# create attention layer\n",
    "class Attention(tf.keras.Model):\n",
    "    def __init__(self, units):\n",
    "        super(Attention, self).__init__()\n",
    "        self.W1 = tf.keras.layers.Dense(units)\n",
    "        self.W2 = tf.keras.layers.Dense(units)\n",
    "        self.V = tf.keras.layers.Dense(1)\n",
    "\n",
    "    def call(self, features, hidden):\n",
    "        hidden_with_time_axis = tf.expand_dims(hidden, 1)\n",
    "        score = tf.nn.tanh(self.W1(features) + self.W2(hidden_with_time_axis))\n",
    "        attention_weights = tf.nn.softmax(self.V(score), axis=1)\n",
    "        context_vector = attention_weights * features\n",
    "        context_vector = tf.reduce_sum(context_vector, axis=1)\n",
    "\n",
    "        return context_vector, attention_weights"
   ]
  },
  {
   "cell_type": "code",
   "execution_count": 5,
   "metadata": {
    "colab": {
     "base_uri": "https://localhost:8080/"
    },
    "id": "wgPjABSK0Xx9",
    "outputId": "35d213e5-e93b-4d21-8d6b-d385bd8b84d6"
   },
   "outputs": [
    {
     "name": "stdout",
     "output_type": "stream",
     "text": [
      "Model: \"functional_1\"\n",
      "__________________________________________________________________________________________________\n",
      "Layer (type)                    Output Shape         Param #     Connected to                     \n",
      "==================================================================================================\n",
      "input_2 (InputLayer)            [(None, 189)]        0                                            \n",
      "__________________________________________________________________________________________________\n",
      "embedding (Embedding)           (None, 189, 300)     3000000     input_2[0][0]                    \n",
      "__________________________________________________________________________________________________\n",
      "bidirectional (Bidirectional)   [(None, 189, 256), ( 439296      embedding[0][0]                  \n",
      "__________________________________________________________________________________________________\n",
      "bidirectional_1 (Bidirectional) [(None, 189, 256), ( 394240      bidirectional[0][0]              \n",
      "                                                                 bidirectional[0][1]              \n",
      "                                                                 bidirectional[0][2]              \n",
      "                                                                 bidirectional[0][3]              \n",
      "                                                                 bidirectional[0][4]              \n",
      "__________________________________________________________________________________________________\n",
      "concatenate (Concatenate)       (None, 256)          0           bidirectional_1[0][1]            \n",
      "                                                                 bidirectional_1[0][3]            \n",
      "__________________________________________________________________________________________________\n",
      "attention (Attention)           ((None, 256), (None, 65921       bidirectional_1[0][0]            \n",
      "                                                                 concatenate[0][0]                \n",
      "__________________________________________________________________________________________________\n",
      "flatten (Flatten)               (None, 256)          0           attention[0][0]                  \n",
      "__________________________________________________________________________________________________\n",
      "dense_3 (Dense)                 (None, 74)           19018       flatten[0][0]                    \n",
      "==================================================================================================\n",
      "Total params: 3,918,475\n",
      "Trainable params: 3,918,475\n",
      "Non-trainable params: 0\n",
      "__________________________________________________________________________________________________\n",
      "None\n",
      "Model: \"functional_3\"\n",
      "__________________________________________________________________________________________________\n",
      "Layer (type)                    Output Shape         Param #     Connected to                     \n",
      "==================================================================================================\n",
      "input_1 (InputLayer)            [(None, 189)]        0                                            \n",
      "__________________________________________________________________________________________________\n",
      "embedding_1 (Embedding)         (None, 189, 300)     3000000     input_1[0][0]                    \n",
      "__________________________________________________________________________________________________\n",
      "lstm_1 (LSTM)                   (None, 189, 64)      93440       embedding_1[0][0]                \n",
      "__________________________________________________________________________________________________\n",
      "dense_4 (Dense)                 (None, 189, 1)       65          lstm_1[0][0]                     \n",
      "__________________________________________________________________________________________________\n",
      "flatten_1 (Flatten)             (None, 189)          0           dense_4[0][0]                    \n",
      "__________________________________________________________________________________________________\n",
      "activation (Activation)         (None, 189)          0           flatten_1[0][0]                  \n",
      "__________________________________________________________________________________________________\n",
      "repeat_vector (RepeatVector)    (None, 64, 189)      0           activation[0][0]                 \n",
      "__________________________________________________________________________________________________\n",
      "permute (Permute)               (None, 189, 64)      0           repeat_vector[0][0]              \n",
      "__________________________________________________________________________________________________\n",
      "concatenate_2 (Concatenate)     (None, 189, 128)     0           lstm_1[0][0]                     \n",
      "                                                                 permute[0][0]                    \n",
      "__________________________________________________________________________________________________\n",
      "flatten_2 (Flatten)             (None, 24192)        0           concatenate_2[0][0]              \n",
      "__________________________________________________________________________________________________\n",
      "repeat_vector_1 (RepeatVector)  (None, 64, 24192)    0           flatten_2[0][0]                  \n",
      "__________________________________________________________________________________________________\n",
      "lstm_2 (LSTM)                   (None, 64, 64)       6209792     repeat_vector_1[0][0]            \n",
      "__________________________________________________________________________________________________\n",
      "flatten_3 (Flatten)             (None, 4096)         0           lstm_2[0][0]                     \n",
      "__________________________________________________________________________________________________\n",
      "dense_5 (Dense)                 (None, 74)           303178      flatten_3[0][0]                  \n",
      "__________________________________________________________________________________________________\n",
      "activation_1 (Activation)       (None, 74)           0           dense_5[0][0]                    \n",
      "==================================================================================================\n",
      "Total params: 9,606,475\n",
      "Trainable params: 9,606,475\n",
      "Non-trainable params: 0\n",
      "__________________________________________________________________________________________________\n",
      "None\n"
     ]
    }
   ],
   "source": [
    "inp_len=X.shape[1]\n",
    "inputs = Input(shape=(inp_len,))\n",
    "#attention with encoder only\n",
    "sequence_input = Input(shape=(inp_len), dtype='int32')        \n",
    "embedded_sequences =Embedding(max_features,emb_dim,input_length=inp_len)(sequence_input)     \n",
    "BILSTM= Bidirectional(LSTM(128, return_sequences=True,dropout=0.2,name=\"bi_lstm_0\",return_state=True))(embedded_sequences)\n",
    "#rp=RepeatVector(max_features)(lstm)\n",
    "\n",
    "#xy = tf.reshape(lstm, [189, 256])\n",
    "#rp=RepeatVector(max_features)(xy)\n",
    "\n",
    "BILSTM,forward_h, forward_c, backward_h, backward_c= Bidirectional \\\n",
    "                                                    (LSTM\n",
    "                                                    (128,\n",
    "                                                     dropout=0.2,\n",
    "                                                     return_state=True,\n",
    "                                                    \n",
    "                                                     return_sequences=True))(BILSTM)\n",
    "                                                   \n",
    "                                                   \n",
    "state_h = Concatenate()([forward_h, backward_h])\n",
    "state_c = Concatenate()([forward_c, backward_c])\n",
    "\n",
    "context_vector,attention_weights = Attention(128)(BILSTM,state_h)\n",
    "fl=Flatten()(context_vector)\n",
    "output = Dense(74, activation='sigmoid')(fl)\n",
    "\n",
    "model_att =tf.keras.Model(inputs=sequence_input, outputs=output)\n",
    "\n",
    "# summarize layers\n",
    "print(model_att.summary())\n",
    "\n",
    "\n",
    "#Attention with encoder decoder\n",
    "inp = Embedding(max_features,emb_dim,input_length=inp_len)(inputs)\n",
    "lstm_out = LSTM(64, return_sequences=True)(inp)\n",
    "\n",
    "attention = Dense(1, activation='relu')(lstm_out)\n",
    "attention = Flatten()(attention)\n",
    "attention = Activation('softmax')(attention)\n",
    "attention = RepeatVector(64)(attention)\n",
    "#attention = LSTM(64,return_sequences=False)(attention)\n",
    "attention = Permute([2,1])(attention)\n",
    "\n",
    "combined = concatenate([lstm_out, attention])\n",
    "combined_mul = Flatten()(combined)\n",
    "decode = RepeatVector(64)(combined_mul)\n",
    "\n",
    "decode = LSTM(64, return_sequences=True)(decode)\n",
    "decode=Flatten()(decode)\n",
    "decode = (Dense(74))(decode)\n",
    "\n",
    "decode = Activation('softmax')(decode)\n",
    "\n",
    "model_enc_dec_att = tf.keras.Model(inputs=inputs, outputs=decode)\n",
    "\n",
    "#model= tf.keras.Model(inputs=[encoder_inputs, decoder_inputs], outputs=[output])\n",
    "model_enc_dec_att.compile(optimizer='adam', loss='categorical_crossentropy',metrics = ['accuracy'])\n",
    "print(model_enc_dec_att.summary())"
   ]
  },
  {
   "cell_type": "code",
   "execution_count": 7,
   "metadata": {
    "id": "ak0B17Jn0XyK"
   },
   "outputs": [],
   "source": [
    "def ENC_ATT_model12(): #attention with encoder\n",
    " model = model_att\n",
    " print(model.summary())\n",
    " \n",
    " model.compile(optimizer='adam',\n",
    "              loss='categorical_crossentropy',\n",
    "              metrics=['accuracy'])\n",
    " \n",
    " return model\n",
    "\n",
    "def ENC_DEC_ATT_model12():#attention with encoder decoder\n",
    " model = model_enc_dec_att\n",
    " print(model.summary())\n",
    " model.compile(optimizer='adam',\n",
    "              loss='categorical_crossentropy',\n",
    "              metrics=['accuracy'])\n",
    " \n",
    " return model"
   ]
  },
  {
   "cell_type": "code",
   "execution_count": null,
   "metadata": {
    "id": "3QUXVypC0XyZ"
   },
   "outputs": [],
   "source": []
  },
  {
   "cell_type": "code",
   "execution_count": null,
   "metadata": {
    "colab": {
     "base_uri": "https://localhost:8080/",
     "height": 1000
    },
    "id": "CdQhXNNO0Xye",
    "outputId": "b79c6dcb-7a37-476b-813c-a77eff392ea5"
   },
   "outputs": [
    {
     "name": "stdout",
     "output_type": "stream",
     "text": [
      "Model: \"model\"\n",
      "__________________________________________________________________________________________________\n",
      "Layer (type)                    Output Shape         Param #     Connected to                     \n",
      "==================================================================================================\n",
      "input_2 (InputLayer)            [(None, 189)]        0                                            \n",
      "__________________________________________________________________________________________________\n",
      "embedding (Embedding)           (None, 189, 300)     3000000     input_2[0][0]                    \n",
      "__________________________________________________________________________________________________\n",
      "bidirectional (Bidirectional)   [(None, 189, 256), ( 439296      embedding[0][0]                  \n",
      "__________________________________________________________________________________________________\n",
      "bidirectional_1 (Bidirectional) [(None, 189, 256), ( 394240      bidirectional[0][0]              \n",
      "                                                                 bidirectional[0][1]              \n",
      "                                                                 bidirectional[0][2]              \n",
      "                                                                 bidirectional[0][3]              \n",
      "                                                                 bidirectional[0][4]              \n",
      "__________________________________________________________________________________________________\n",
      "concatenate (Concatenate)       (None, 256)          0           bidirectional_1[0][1]            \n",
      "                                                                 bidirectional_1[0][3]            \n",
      "__________________________________________________________________________________________________\n",
      "attention (Attention)           ((None, 256), (None, 65921       bidirectional_1[0][0]            \n",
      "                                                                 concatenate[0][0]                \n",
      "__________________________________________________________________________________________________\n",
      "flatten (Flatten)               (None, 256)          0           attention[0][0]                  \n",
      "__________________________________________________________________________________________________\n",
      "dense_3 (Dense)                 (None, 74)           19018       flatten[0][0]                    \n",
      "==================================================================================================\n",
      "Total params: 3,918,475\n",
      "Trainable params: 3,918,475\n",
      "Non-trainable params: 0\n",
      "__________________________________________________________________________________________________\n",
      "None\n",
      "Epoch 1/25\n",
      "53/53 [==============================] - 220s 4s/step - loss: 3.0794 - accuracy: 0.4215 - val_loss: 2.3773 - val_accuracy: 0.4832\n",
      "Epoch 2/25\n",
      "53/53 [==============================] - 208s 4s/step - loss: 2.2671 - accuracy: 0.4958 - val_loss: 1.9921 - val_accuracy: 0.5551\n",
      "Epoch 3/25\n",
      "53/53 [==============================] - 207s 4s/step - loss: 1.8686 - accuracy: 0.5590 - val_loss: 1.9305 - val_accuracy: 0.5386\n",
      "Epoch 4/25\n",
      "53/53 [==============================] - 208s 4s/step - loss: 1.6963 - accuracy: 0.5830 - val_loss: 1.8355 - val_accuracy: 0.5604\n",
      "Epoch 5/25\n",
      "53/53 [==============================] - 207s 4s/step - loss: 1.6051 - accuracy: 0.5943 - val_loss: 1.8043 - val_accuracy: 0.5692\n",
      "Epoch 6/25\n",
      "53/53 [==============================] - 207s 4s/step - loss: 1.4405 - accuracy: 0.6277 - val_loss: 1.7482 - val_accuracy: 0.5681\n",
      "Epoch 7/25\n",
      "53/53 [==============================] - 207s 4s/step - loss: 1.2667 - accuracy: 0.6652 - val_loss: 1.7722 - val_accuracy: 0.5669\n",
      "Epoch 8/25\n",
      "53/53 [==============================] - 208s 4s/step - loss: 1.1434 - accuracy: 0.6880 - val_loss: 1.7414 - val_accuracy: 0.5828\n",
      "Epoch 9/25\n",
      "53/53 [==============================] - 208s 4s/step - loss: 1.0588 - accuracy: 0.7085 - val_loss: 1.7958 - val_accuracy: 0.5893\n",
      "Epoch 10/25\n",
      "53/53 [==============================] - 207s 4s/step - loss: 0.9151 - accuracy: 0.7452 - val_loss: 1.8600 - val_accuracy: 0.5787\n",
      "Epoch 11/25\n",
      "53/53 [==============================] - 209s 4s/step - loss: 0.8524 - accuracy: 0.7660 - val_loss: 1.8880 - val_accuracy: 0.5857\n",
      "Epoch 12/25\n",
      "53/53 [==============================] - 207s 4s/step - loss: 0.7747 - accuracy: 0.7868 - val_loss: 1.9435 - val_accuracy: 0.5928\n",
      "Epoch 13/25\n",
      "53/53 [==============================] - 208s 4s/step - loss: 0.6705 - accuracy: 0.8114 - val_loss: 1.9811 - val_accuracy: 0.5834\n",
      "Epoch 14/25\n",
      "53/53 [==============================] - 207s 4s/step - loss: 0.6149 - accuracy: 0.8280 - val_loss: 2.0666 - val_accuracy: 0.5905\n",
      "Epoch 15/25\n",
      "53/53 [==============================] - 207s 4s/step - loss: 0.5513 - accuracy: 0.8382 - val_loss: 2.0615 - val_accuracy: 0.6016\n",
      "Epoch 16/25\n",
      "53/53 [==============================] - 207s 4s/step - loss: 0.5099 - accuracy: 0.8575 - val_loss: 2.0883 - val_accuracy: 0.5922\n",
      "Epoch 17/25\n",
      "53/53 [==============================] - 207s 4s/step - loss: 0.4646 - accuracy: 0.8668 - val_loss: 2.1886 - val_accuracy: 0.5910\n",
      "Epoch 18/25\n",
      "53/53 [==============================] - 207s 4s/step - loss: 0.4376 - accuracy: 0.8735 - val_loss: 2.2163 - val_accuracy: 0.5840\n"
     ]
    },
    {
     "data": {
      "image/png": "[encoded data removed]",
      "text/plain": [
       "<Figure size 432x288 with 1 Axes>"
      ]
     },
     "metadata": {
      "tags": []
     },
     "output_type": "display_data"
    },
    {
     "data": {
      "image/png": "[encoded data removed]",
      "text/plain": [
       "<Figure size 432x288 with 1 Axes>"
      ]
     },
     "metadata": {
      "tags": []
     },
     "output_type": "display_data"
    }
   ],
   "source": [
    "modelname=\"ENC_ATTModel\"\n",
    "ENC_ATT_model=ENC_ATT_model12()\n",
    "history=ENC_ATT_model.fit(X_train,y_train,batch_size=batch_size,epochs=epochs,validation_data=(X_test,y_test),callbacks=[early_stopping])\n",
    "plot(ENC_ATT_model,history)"
   ]
  },
  {
   "cell_type": "code",
   "execution_count": null,
   "metadata": {
    "colab": {
     "base_uri": "https://localhost:8080/"
    },
    "id": "0FgaS5_V0Xyi",
    "outputId": "fa45322b-3059-4c08-ce4c-75c14bf56ce6"
   },
   "outputs": [
    {
     "name": "stdout",
     "output_type": "stream",
     "text": [
      "Accuracy of ENC_ATT for unaugmented data is : 57.297191520531975\n",
      "Training Accuracy of ENC_ATT for unagumented data is: 70.79975720908907\n",
      "Mean loss of  Validation data of ENC_ATT for unaugmented data is : 1.9606214496824477\n",
      "Mean loss of  Training data of ENC_ATT for unaugmented data is : 1.1584916942649417\n"
     ]
    }
   ],
   "source": [
    "#scores_ENC_ATT =ENC_ATT_model.evaluate(X_test, y_test, verbose=0)\n",
    "#scores_ENC_ATT_val = ENC_ATT_model1.evaluate(X_train, y_train, verbose=0)\n",
    "print(\"Accuracy of ENC_ATT for unaugmented data is :\", np.array(history.history['val_accuracy']).mean()*100)\n",
    "#print(\"Validation Accuracy of ENC_ATT for unagumented data is:\", (scores_ENC_ATT_val[1]*100))\n",
    "print(\"Training Accuracy of ENC_ATT for unagumented data is:\" ,np.array(history.history['accuracy']).mean()*100)\n",
    "print( \"Mean loss of  Validation data of ENC_ATT for unaugmented data is :\",np.array(history.history['val_loss']).mean())\n",
    "print( \"Mean loss of  Training data of ENC_ATT for unaugmented data is :\",np.array(history.history['loss'])\n",
    "      .mean())"
   ]
  },
  {
   "cell_type": "code",
   "execution_count": null,
   "metadata": {
    "id": "gxk8Dm940Xyn"
   },
   "outputs": [],
   "source": [
    "#x\n",
    "      "
   ]
  },
  {
   "cell_type": "code",
   "execution_count": null,
   "metadata": {
    "colab": {
     "base_uri": "https://localhost:8080/",
     "height": 1000
    },
    "id": "62KGgCF90Xys",
    "outputId": "4dbefb55-b22a-4cb9-a196-86baf33a54ce"
   },
   "outputs": [
    {
     "name": "stdout",
     "output_type": "stream",
     "text": [
      "Model: \"model_1\"\n",
      "__________________________________________________________________________________________________\n",
      "Layer (type)                    Output Shape         Param #     Connected to                     \n",
      "==================================================================================================\n",
      "input_1 (InputLayer)            [(None, 189)]        0                                            \n",
      "__________________________________________________________________________________________________\n",
      "embedding_1 (Embedding)         (None, 189, 300)     3000000     input_1[0][0]                    \n",
      "__________________________________________________________________________________________________\n",
      "lstm_1 (LSTM)                   (None, 189, 64)      93440       embedding_1[0][0]                \n",
      "__________________________________________________________________________________________________\n",
      "dense_4 (Dense)                 (None, 189, 1)       65          lstm_1[0][0]                     \n",
      "__________________________________________________________________________________________________\n",
      "flatten_1 (Flatten)             (None, 189)          0           dense_4[0][0]                    \n",
      "__________________________________________________________________________________________________\n",
      "activation (Activation)         (None, 189)          0           flatten_1[0][0]                  \n",
      "__________________________________________________________________________________________________\n",
      "repeat_vector (RepeatVector)    (None, 64, 189)      0           activation[0][0]                 \n",
      "__________________________________________________________________________________________________\n",
      "permute (Permute)               (None, 189, 64)      0           repeat_vector[0][0]              \n",
      "__________________________________________________________________________________________________\n",
      "concatenate_2 (Concatenate)     (None, 189, 128)     0           lstm_1[0][0]                     \n",
      "                                                                 permute[0][0]                    \n",
      "__________________________________________________________________________________________________\n",
      "flatten_2 (Flatten)             (None, 24192)        0           concatenate_2[0][0]              \n",
      "__________________________________________________________________________________________________\n",
      "repeat_vector_1 (RepeatVector)  (None, 64, 24192)    0           flatten_2[0][0]                  \n",
      "__________________________________________________________________________________________________\n",
      "lstm_2 (LSTM)                   (None, 64, 64)       6209792     repeat_vector_1[0][0]            \n",
      "__________________________________________________________________________________________________\n",
      "flatten_3 (Flatten)             (None, 4096)         0           lstm_2[0][0]                     \n",
      "__________________________________________________________________________________________________\n",
      "dense_5 (Dense)                 (None, 74)           303178      flatten_3[0][0]                  \n",
      "__________________________________________________________________________________________________\n",
      "activation_1 (Activation)       (None, 74)           0           dense_5[0][0]                    \n",
      "==================================================================================================\n",
      "Total params: 9,606,475\n",
      "Trainable params: 9,606,475\n",
      "Non-trainable params: 0\n",
      "__________________________________________________________________________________________________\n",
      "None\n",
      "Epoch 1/25\n",
      "53/53 [==============================] - 559s 10s/step - loss: 2.6623 - accuracy: 0.4258 - val_loss: 2.0416 - val_accuracy: 0.5498\n",
      "Epoch 2/25\n",
      "53/53 [==============================] - 562s 11s/step - loss: 1.9328 - accuracy: 0.5424 - val_loss: 1.8748 - val_accuracy: 0.5633\n",
      "Epoch 3/25\n",
      "53/53 [==============================] - 558s 11s/step - loss: 1.6981 - accuracy: 0.5738 - val_loss: 1.8434 - val_accuracy: 0.5787\n",
      "Epoch 4/25\n",
      "53/53 [==============================] - 562s 11s/step - loss: 1.5346 - accuracy: 0.6051 - val_loss: 1.7938 - val_accuracy: 0.5716\n",
      "Epoch 5/25\n",
      "53/53 [==============================] - 552s 10s/step - loss: 1.3666 - accuracy: 0.6282 - val_loss: 1.7385 - val_accuracy: 0.5916\n",
      "Epoch 6/25\n",
      "53/53 [==============================] - 553s 10s/step - loss: 1.1573 - accuracy: 0.6746 - val_loss: 1.7970 - val_accuracy: 0.5728\n",
      "Epoch 7/25\n",
      "53/53 [==============================] - 551s 10s/step - loss: 0.9913 - accuracy: 0.7210 - val_loss: 1.8269 - val_accuracy: 0.5793\n",
      "Epoch 8/25\n",
      "53/53 [==============================] - 549s 10s/step - loss: 0.8462 - accuracy: 0.7593 - val_loss: 1.8771 - val_accuracy: 0.5763\n"
     ]
    },
    {
     "data": {
      "image/png": "[encoded data removed]",
      "text/plain": [
       "<Figure size 432x288 with 1 Axes>"
      ]
     },
     "metadata": {
      "tags": []
     },
     "output_type": "display_data"
    },
    {
     "data": {
      "image/png": "[encoded data removed]",
      "text/plain": [
       "<Figure size 432x288 with 1 Axes>"
      ]
     },
     "metadata": {
      "tags": []
     },
     "output_type": "display_data"
    }
   ],
   "source": [
    "modelname=\"ENC_DEC_ATTModel\"\n",
    "ENC_DEC_ATT_model=ENC_DEC_ATT_model12()\n",
    "history=ENC_DEC_ATT_model.fit(X_train,y_train,batch_size=batch_size,epochs=epochs,validation_data=(X_test,y_test),callbacks=[early_stopping])\n",
    "plot(ENC_DEC_ATT_model,history)"
   ]
  },
  {
   "cell_type": "code",
   "execution_count": null,
   "metadata": {
    "colab": {
     "base_uri": "https://localhost:8080/"
    },
    "id": "cNqc25Fy0Xyw",
    "outputId": "6b502d51-baa1-444d-e92b-9ca14a9442f2"
   },
   "outputs": [
    {
     "name": "stdout",
     "output_type": "stream",
     "text": [
      "Accuracy of ENC_DEC_ATT for unaugmented data is : 57.29228034615517\n",
      "Training Accuracy of ENC_DEC_ATT for unagumented data is: 62.39497438073158\n",
      "Mean loss of  Validation data of ENC_DEC_ATT for unaugmented data is : 1.8491468727588654\n",
      "Mean loss of  Training data of ENC_DEC_ATT for unaugmented data is : 1.4947385266423225\n"
     ]
    }
   ],
   "source": [
    "#scores_ENC_DEC_ATT =ENC_DEC_ATT_model.evaluate(X_test, y_test, verbose=0)\n",
    "#scores_ENC_DEC_ATT_val =ENC_DEC_ATT_model.evaluate(X_train, y_train, verbose=0)\n",
    "print(\"Accuracy of ENC_DEC_ATT for unaugmented data is :\", np.array(history.history['val_accuracy']).mean()*100)\n",
    "#print(\"Validation Accuracy of ENC_DEC_ATT for unagumented data is:\", (scores_ENC_DEC_ATT_val[1]*100))\n",
    "print(\"Training Accuracy of ENC_DEC_ATT for unagumented data is:\" ,np.array(history.history['accuracy']).mean()*100)\n",
    "print( \"Mean loss of  Validation data of ENC_DEC_ATT for unaugmented data is :\",np.array(history.history['val_loss']).mean())\n",
    "print( \"Mean loss of  Training data of ENC_DEC_ATT for unaugmented data is :\",np.array(history.history['loss']).mean())    "
   ]
  },
  {
   "cell_type": "code",
   "execution_count": 8,
   "metadata": {
    "colab": {
     "base_uri": "https://localhost:8080/"
    },
    "id": "LkEGhHDs0Xyz",
    "outputId": "7047cf1e-d1e7-4f66-8978-faafed076a8a"
   },
   "outputs": [
    {
     "name": "stdout",
     "output_type": "stream",
     "text": [
      "vocabulary size is:  3956\n",
      "vocabulary size is:  4424\n",
      "191\n"
     ]
    }
   ],
   "source": [
    "X_aug1 = (data_dl_aug1[\"Combined Description Cleaned\"])\n",
    "y_aug1= (data_dl_aug1['Assignment group'])\n",
    "\n",
    "#categorical encoding y\n",
    "y_aug1=pd.get_dummies(data_dl_aug2['Assignment group'])\n",
    "\n",
    "\n",
    "X_aug2 = (data_dl_aug2[\"Combined Description Cleaned\"])\n",
    "y_aug2= (data_dl_aug2['Assignment group'])\n",
    "\n",
    "#categorical encoding y\n",
    "y_aug2=pd.get_dummies(data_dl_aug2['Assignment group'])\n",
    "\n",
    "#tokenization\n",
    "X_aug1,tokenizer = dfTokenizer(data_dl_aug1[\"Combined Description Cleaned\"]) \n",
    "vocab_size_aug1=len(tokenizer.word_index)\n",
    "print(\"vocabulary size is: \",vocab_size_aug1)\n",
    "\n",
    "X_aug2,tokenizer = dfTokenizer(data_dl_aug2[\"Combined Description Cleaned\"]) \n",
    "vocab_size_aug2=len(tokenizer.word_index)\n",
    "print(\"vocabulary size is: \",vocab_size_aug2)\n",
    "\n",
    "#padding\n",
    "X_aug1=pad_sequences(X_aug1,padding='post')\n",
    "X_aug2=pad_sequences(X_aug2,padding='post')\n",
    "y_aug1=y_aug1[0:17586]\n",
    "\n",
    "def split_stratify(X,y):\n",
    " X_train_spl,X_test_spl,y_train_spl,y_test_spl=train_test_split(X,y,test_size=0.2,stratify=y,random_state=123)\n",
    " return X_train_spl,X_test_spl,y_train_spl,y_test_spl\n",
    "\n",
    "X_train_aug1,X_test_aug1,y_train_aug1,y_test_aug1=split_stratify(X_aug1,y_aug1)\n",
    "X_train_aug2,X_test_aug2,y_train_aug2,y_test_aug2=split_stratify(X_aug2,y_aug2)\n",
    "\n",
    "\n",
    "inp_len1=X_aug1.shape[1]\n",
    "print(inp_len1)"
   ]
  },
  {
   "cell_type": "code",
   "execution_count": null,
   "metadata": {
    "id": "kyXx321r0Xy3"
   },
   "outputs": [],
   "source": [
    "#x"
   ]
  },
  {
   "cell_type": "code",
   "execution_count": 9,
   "metadata": {
    "colab": {
     "base_uri": "https://localhost:8080/"
    },
    "id": "-OIbxTMm0Xy7",
    "outputId": "0dd425fc-e1b2-49e9-b6f6-7ddae3f25160"
   },
   "outputs": [
    {
     "name": "stdout",
     "output_type": "stream",
     "text": [
      "Model: \"functional_5\"\n",
      "__________________________________________________________________________________________________\n",
      "Layer (type)                    Output Shape         Param #     Connected to                     \n",
      "==================================================================================================\n",
      "input_3 (InputLayer)            [(None, 191)]        0                                            \n",
      "__________________________________________________________________________________________________\n",
      "embedding_2 (Embedding)         (None, 191, 300)     3000000     input_3[0][0]                    \n",
      "__________________________________________________________________________________________________\n",
      "bidirectional_2 (Bidirectional) [(None, 191, 256), ( 439296      embedding_2[0][0]                \n",
      "__________________________________________________________________________________________________\n",
      "bidirectional_3 (Bidirectional) [(None, 191, 256), ( 394240      bidirectional_2[0][0]            \n",
      "                                                                 bidirectional_2[0][1]            \n",
      "                                                                 bidirectional_2[0][2]            \n",
      "                                                                 bidirectional_2[0][3]            \n",
      "                                                                 bidirectional_2[0][4]            \n",
      "__________________________________________________________________________________________________\n",
      "concatenate_3 (Concatenate)     (None, 256)          0           bidirectional_3[0][1]            \n",
      "                                                                 bidirectional_3[0][3]            \n",
      "__________________________________________________________________________________________________\n",
      "attention_1 (Attention)         ((None, 256), (None, 16481       bidirectional_3[0][0]            \n",
      "                                                                 concatenate_3[0][0]              \n",
      "__________________________________________________________________________________________________\n",
      "flatten_4 (Flatten)             (None, 256)          0           attention_1[0][0]                \n",
      "__________________________________________________________________________________________________\n",
      "dense_9 (Dense)                 (None, 74)           19018       flatten_4[0][0]                  \n",
      "==================================================================================================\n",
      "Total params: 3,869,035\n",
      "Trainable params: 3,869,035\n",
      "Non-trainable params: 0\n",
      "__________________________________________________________________________________________________\n",
      "None\n",
      "Model: \"functional_7\"\n",
      "__________________________________________________________________________________________________\n",
      "Layer (type)                    Output Shape         Param #     Connected to                     \n",
      "==================================================================================================\n",
      "input_3 (InputLayer)            [(None, 191)]        0                                            \n",
      "__________________________________________________________________________________________________\n",
      "embedding_3 (Embedding)         (None, 191, 300)     3000000     input_3[0][0]                    \n",
      "__________________________________________________________________________________________________\n",
      "lstm_4 (LSTM)                   (None, 191, 64)      93440       embedding_3[0][0]                \n",
      "__________________________________________________________________________________________________\n",
      "dense_10 (Dense)                (None, 191, 1)       65          lstm_4[0][0]                     \n",
      "__________________________________________________________________________________________________\n",
      "flatten_5 (Flatten)             (None, 191)          0           dense_10[0][0]                   \n",
      "__________________________________________________________________________________________________\n",
      "activation_2 (Activation)       (None, 191)          0           flatten_5[0][0]                  \n",
      "__________________________________________________________________________________________________\n",
      "repeat_vector_2 (RepeatVector)  (None, 64, 191)      0           activation_2[0][0]               \n",
      "__________________________________________________________________________________________________\n",
      "permute_1 (Permute)             (None, 191, 64)      0           repeat_vector_2[0][0]            \n",
      "__________________________________________________________________________________________________\n",
      "concatenate_5 (Concatenate)     (None, 191, 128)     0           lstm_4[0][0]                     \n",
      "                                                                 permute_1[0][0]                  \n",
      "__________________________________________________________________________________________________\n",
      "flatten_6 (Flatten)             (None, 24448)        0           concatenate_5[0][0]              \n",
      "__________________________________________________________________________________________________\n",
      "repeat_vector_3 (RepeatVector)  (None, 64, 24448)    0           flatten_6[0][0]                  \n",
      "__________________________________________________________________________________________________\n",
      "lstm_5 (LSTM)                   (None, 64, 64)       6275328     repeat_vector_3[0][0]            \n",
      "__________________________________________________________________________________________________\n",
      "flatten_7 (Flatten)             (None, 4096)         0           lstm_5[0][0]                     \n",
      "__________________________________________________________________________________________________\n",
      "dense_11 (Dense)                (None, 74)           303178      flatten_7[0][0]                  \n",
      "__________________________________________________________________________________________________\n",
      "activation_3 (Activation)       (None, 74)           0           dense_11[0][0]                   \n",
      "==================================================================================================\n",
      "Total params: 9,672,011\n",
      "Trainable params: 9,672,011\n",
      "Non-trainable params: 0\n",
      "__________________________________________________________________________________________________\n",
      "None\n"
     ]
    }
   ],
   "source": [
    " \n",
    "#attention with encoder only\n",
    "\n",
    "sequence_input = Input(shape=(inp_len1), dtype='int32')        \n",
    "embedded_sequences =Embedding(max_features,emb_dim,input_length=inp_len1)(sequence_input)     \n",
    "BILSTM= Bidirectional(LSTM(128, return_sequences=True,dropout=0.2,name=\"bi_lstm_0\",return_state=True))(embedded_sequences)\n",
    "#rp=RepeatVector(max_features)(lstm)\n",
    "\n",
    "#xy = tf.reshape(lstm, [189, 256])\n",
    "#rp=RepeatVector(max_features)(xy)\n",
    "\n",
    "BILSTM,forward_h, forward_c, backward_h, backward_c= Bidirectional \\\n",
    "                                                    (LSTM\n",
    "                                                    (128,\n",
    "                                                     dropout=0.2,\n",
    "                                                     return_state=True,\n",
    "                                                    \n",
    "                                                     return_sequences=True))(BILSTM)\n",
    "                                                   \n",
    "                                                   \n",
    "state_h = Concatenate()([forward_h, backward_h])\n",
    "state_c = Concatenate()([forward_c, backward_c])\n",
    "\n",
    "context_vector,attention_weights = Attention(32)(BILSTM,state_h)\n",
    "fl=Flatten()(context_vector)\n",
    "output = Dense(74, activation='sigmoid')(fl)\n",
    "\n",
    "model_att1 =tf.keras.Model(inputs=sequence_input, outputs=output)\n",
    "\n",
    "# summarize layers\n",
    "print(model_att1.summary())\n",
    "\n",
    "\n",
    "#Attention with encoder decoder\n",
    "inp = Embedding(max_features,emb_dim,input_length=inp_len1)(sequence_input)\n",
    "lstm_out = LSTM(64, return_sequences=True)(inp)\n",
    "\n",
    "attention = Dense(1, activation='relu')(lstm_out)\n",
    "attention = Flatten()(attention)\n",
    "attention = Activation('softmax')(attention)\n",
    "attention = RepeatVector(64)(attention)\n",
    "#attention = LSTM(64,return_sequences=False)(attention)\n",
    "attention = Permute([2,1])(attention)\n",
    "\n",
    "combined = concatenate([lstm_out, attention])\n",
    "combined_mul = Flatten()(combined)\n",
    "decode = RepeatVector(64)(combined_mul)\n",
    "\n",
    "decode = LSTM(64, return_sequences=True)(decode)\n",
    "decode=Flatten()(decode)\n",
    "decode = (Dense(74))(decode)\n",
    "\n",
    "decode = Activation('softmax')(decode)\n",
    "\n",
    "model_enc_dec_att1 = tf.keras.Model(inputs=sequence_input, outputs=decode)\n",
    "\n",
    "#model= tf.keras.Model(inputs=[encoder_inputs, decoder_inputs], outputs=[output])\n",
    "model_enc_dec_att1.compile(optimizer='adam', loss='categorical_crossentropy',metrics = ['accuracy'])\n",
    "\n",
    "print(model_enc_dec_att1.summary())\n",
    "\n",
    "def ENC_ATT_model13(): #attention with encoder\n",
    "  model = model_att1\n",
    "  print(model.summary())\n",
    "  model.compile(optimizer='adam',\n",
    "              loss='categorical_crossentropy',\n",
    "              metrics=['accuracy'])\n",
    " \n",
    "  return model\n",
    "\n",
    "def ENC_DEC_ATT_model13():#attention with encoder decoder\n",
    "  model = model_enc_dec_att1\n",
    "  print(model.summary())\n",
    "  model.compile(optimizer='adam',\n",
    "              loss='categorical_crossentropy',\n",
    "              metrics=['accuracy'])\n",
    " \n",
    "  return model"
   ]
  },
  {
   "cell_type": "code",
   "execution_count": null,
   "metadata": {
    "colab": {
     "background_save": true,
     "base_uri": "https://localhost:8080/",
     "height": 1000
    },
    "id": "gPQuXpxY0Xy_",
    "outputId": "efb10a57-f9ff-48de-9648-57c7efff0e25"
   },
   "outputs": [
    {
     "name": "stdout",
     "output_type": "stream",
     "text": [
      "Model: \"model_2\"\n",
      "__________________________________________________________________________________________________\n",
      "Layer (type)                    Output Shape         Param #     Connected to                     \n",
      "==================================================================================================\n",
      "input_3 (InputLayer)            [(None, 191)]        0                                            \n",
      "__________________________________________________________________________________________________\n",
      "embedding_2 (Embedding)         (None, 191, 300)     3000000     input_3[0][0]                    \n",
      "__________________________________________________________________________________________________\n",
      "bidirectional_2 (Bidirectional) [(None, 191, 256), ( 439296      embedding_2[0][0]                \n",
      "__________________________________________________________________________________________________\n",
      "bidirectional_3 (Bidirectional) [(None, 191, 256), ( 394240      bidirectional_2[0][0]            \n",
      "                                                                 bidirectional_2[0][1]            \n",
      "                                                                 bidirectional_2[0][2]            \n",
      "                                                                 bidirectional_2[0][3]            \n",
      "                                                                 bidirectional_2[0][4]            \n",
      "__________________________________________________________________________________________________\n",
      "concatenate_3 (Concatenate)     (None, 256)          0           bidirectional_3[0][1]            \n",
      "                                                                 bidirectional_3[0][3]            \n",
      "__________________________________________________________________________________________________\n",
      "attention_1 (Attention)         ((None, 256), (None, 16481       bidirectional_3[0][0]            \n",
      "                                                                 concatenate_3[0][0]              \n",
      "__________________________________________________________________________________________________\n",
      "flatten_4 (Flatten)             (None, 256)          0           attention_1[0][0]                \n",
      "__________________________________________________________________________________________________\n",
      "dense_9 (Dense)                 (None, 74)           19018       flatten_4[0][0]                  \n",
      "==================================================================================================\n",
      "Total params: 3,869,035\n",
      "Trainable params: 3,869,035\n",
      "Non-trainable params: 0\n",
      "__________________________________________________________________________________________________\n",
      "None\n",
      "Epoch 1/25\n",
      "110/110 [==============================] - 474s 4s/step - loss: 3.5512 - accuracy: 0.1617 - val_loss: 2.9468 - val_accuracy: 0.2567\n",
      "Epoch 2/25\n",
      "110/110 [==============================] - 456s 4s/step - loss: 2.6912 - accuracy: 0.3042 - val_loss: 2.0958 - val_accuracy: 0.4349\n",
      "Epoch 3/25\n",
      "110/110 [==============================] - 470s 4s/step - loss: 1.8675 - accuracy: 0.4915 - val_loss: 1.6148 - val_accuracy: 0.5446\n",
      "Epoch 4/25\n",
      "110/110 [==============================] - 461s 4s/step - loss: 1.3424 - accuracy: 0.6288 - val_loss: 1.3427 - val_accuracy: 0.6242\n",
      "Epoch 5/25\n",
      "110/110 [==============================] - 471s 4s/step - loss: 1.0075 - accuracy: 0.7231 - val_loss: 1.1530 - val_accuracy: 0.6745\n",
      "Epoch 6/25\n",
      "110/110 [==============================] - 463s 4s/step - loss: 0.7861 - accuracy: 0.7772 - val_loss: 0.9895 - val_accuracy: 0.7166\n",
      "Epoch 7/25\n",
      "110/110 [==============================] - 476s 4s/step - loss: 0.6197 - accuracy: 0.8266 - val_loss: 0.9007 - val_accuracy: 0.7479\n",
      "Epoch 8/25\n",
      "110/110 [==============================] - 470s 4s/step - loss: 0.4969 - accuracy: 0.8607 - val_loss: 0.8395 - val_accuracy: 0.7624\n",
      "Epoch 9/25\n",
      "110/110 [==============================] - 465s 4s/step - loss: 0.4246 - accuracy: 0.8781 - val_loss: 0.8285 - val_accuracy: 0.7686\n",
      "Epoch 10/25\n",
      "110/110 [==============================] - 463s 4s/step - loss: 0.3727 - accuracy: 0.8890 - val_loss: 0.7529 - val_accuracy: 0.7925\n",
      "Epoch 11/25\n",
      "110/110 [==============================] - 464s 4s/step - loss: 0.3128 - accuracy: 0.9089 - val_loss: 0.7333 - val_accuracy: 0.7985\n",
      "Epoch 12/25\n",
      "110/110 [==============================] - 463s 4s/step - loss: 0.2745 - accuracy: 0.9193 - val_loss: 0.7160 - val_accuracy: 0.8013\n",
      "Epoch 13/25\n",
      "110/110 [==============================] - 462s 4s/step - loss: 0.2718 - accuracy: 0.9172 - val_loss: 0.7242 - val_accuracy: 0.7970\n",
      "Epoch 14/25\n",
      "110/110 [==============================] - 458s 4s/step - loss: 0.2459 - accuracy: 0.9264 - val_loss: 0.7115 - val_accuracy: 0.8067\n",
      "Epoch 15/25\n",
      "110/110 [==============================] - 463s 4s/step - loss: 0.2102 - accuracy: 0.9370 - val_loss: 0.6963 - val_accuracy: 0.8141\n",
      "Epoch 16/25\n",
      "110/110 [==============================] - 467s 4s/step - loss: 0.1811 - accuracy: 0.9430 - val_loss: 0.6913 - val_accuracy: 0.8073\n",
      "Epoch 17/25\n",
      "110/110 [==============================] - 460s 4s/step - loss: 0.1845 - accuracy: 0.9433 - val_loss: 0.7190 - val_accuracy: 0.8130\n",
      "Epoch 18/25\n",
      "110/110 [==============================] - 462s 4s/step - loss: 0.1694 - accuracy: 0.9474 - val_loss: 0.6733 - val_accuracy: 0.8184\n",
      "Epoch 19/25\n",
      "110/110 [==============================] - 458s 4s/step - loss: 0.1617 - accuracy: 0.9497 - val_loss: 0.6863 - val_accuracy: 0.8269\n",
      "Epoch 20/25\n",
      "110/110 [==============================] - 461s 4s/step - loss: 0.1578 - accuracy: 0.9469 - val_loss: 0.7179 - val_accuracy: 0.8167\n",
      "Epoch 21/25\n",
      "110/110 [==============================] - 462s 4s/step - loss: 0.1499 - accuracy: 0.9480 - val_loss: 0.6597 - val_accuracy: 0.8329\n",
      "Epoch 22/25\n",
      "110/110 [==============================] - 455s 4s/step - loss: 0.1379 - accuracy: 0.9528 - val_loss: 0.6903 - val_accuracy: 0.8289\n",
      "Epoch 23/25\n",
      "110/110 [==============================] - 473s 4s/step - loss: 0.1690 - accuracy: 0.9448 - val_loss: 0.7500 - val_accuracy: 0.8036\n",
      "Epoch 24/25\n",
      "110/110 [==============================] - 480s 4s/step - loss: 0.1854 - accuracy: 0.9393 - val_loss: 0.6786 - val_accuracy: 0.8289\n"
     ]
    },
    {
     "data": {
      "image/png": "[encoded data removed]",
      "text/plain": [
       "<Figure size 432x288 with 1 Axes>"
      ]
     },
     "metadata": {
      "tags": []
     },
     "output_type": "display_data"
    },
    {
     "data": {
      "image/png": "[encoded data removed]",
      "text/plain": [
       "<Figure size 432x288 with 1 Axes>"
      ]
     },
     "metadata": {
      "tags": []
     },
     "output_type": "display_data"
    }
   ],
   "source": [
    "modelname=\"ENC_ATTModel_aug1\"\n",
    "ENC_ATT_model1=ENC_ATT_model13()\n",
    "history=ENC_ATT_model1.fit(X_train_aug1,y_train_aug1,batch_size=batch_size,epochs=epochs,validation_data=(X_test_aug1,y_test_aug1),callbacks=[early_stopping])\n",
    "plot(ENC_ATT_model1,history)"
   ]
  },
  {
   "cell_type": "code",
   "execution_count": null,
   "metadata": {
    "colab": {
     "background_save": true
    },
    "id": "6FXPDu7x0XzC",
    "outputId": "c808976a-57f3-417a-9ffc-944255a203e6"
   },
   "outputs": [
    {
     "name": "stdout",
     "output_type": "stream",
     "text": [
      "Accuracy of ENC_ATT for level1 augmented data is : 73.82035243014494\n",
      "Training Accuracy of ENC_ATT for level1 augmented data is: 82.05531469235817\n",
      "Mean loss of  Validation data of ENC_ATT for level1 augmented data is : 0.9713333075245222\n",
      "Mean loss of  training data of ENC_ATT for level1 augmented data is : 0.6486766325930754\n"
     ]
    }
   ],
   "source": [
    "scores_ENC_ATT_aug1 =ENC_ATT_model1.evaluate(X_test_aug1, y_test_aug1, verbose=0)\n",
    "#scores_ENC_ATT_val_aug1 =ENC_ATT_model1.evaluate(X_train_aug1, y_train_aug1, verbose=0)\n",
    "print(\"Accuracy of ENC_ATT for level1 augmented data is :\", np.array(history.history['val_accuracy']).mean()*100)\n",
    "#print(\"Validation Accuracy of ENC_ATT for level1 augmented data is:\", (scores_ENC_ATT_val_aug1[1]*100))\n",
    "print(\"Training Accuracy of ENC_ATT for level1 augmented data is:\" ,np.array(history.history['accuracy']).mean()*100)\n",
    "print( \"Mean loss of  Validation data of ENC_ATT for level1 augmented data is :\",np.array(history.history['val_loss']).mean())\n",
    "print( \"Mean loss of  training data of ENC_ATT for level1 augmented data is :\",np.array(history.history['loss']).mean())"
   ]
  },
  {
   "cell_type": "code",
   "execution_count": null,
   "metadata": {
    "id": "DRcEi6UX0XzF"
   },
   "outputs": [],
   "source": [
    "modelname=\"ENC_ATTModel_aug2\"\n",
    "ENC_DEC_ATT_model1=ENC_DEC_ATT_model13()\n",
    "\n",
    "history=ENC_ATT_model1.fit(X_train_aug2,y_train_aug2,batch_size=batch_size,epochs=epochs,validation_data=(X_test_aug2,y_test_aug2),callbacks=[early_stopping])\n",
    "plot(ENC_ATT_model1,history)"
   ]
  },
  {
   "cell_type": "code",
   "execution_count": 19,
   "metadata": {
    "colab": {
     "base_uri": "https://localhost:8080/"
    },
    "id": "dIGgrRSu0XzI",
    "outputId": "f73fd34a-90f4-4d93-df73-d671472a0ed7"
   },
   "outputs": [
    {
     "name": "stdout",
     "output_type": "stream",
     "text": [
      "Accuracy of ENC_ATT for level2 augmented data is : 85.6456594807761\n",
      "Training Accuracy of ENC_ATT for level2 augmented data is: 87.83832490444183\n",
      "Mean loss of  Validation data of ENC_ATT for level2 augmented data is : 0.4934219717979431\n",
      "Mean loss of  training data of ENC_ATT for level2 augmented data is : 0.4320323584335191\n"
     ]
    }
   ],
   "source": [
    "#scores_ENC_ATT_aug2 =ENC_ATT_model1.evaluate(X_test_aug2, y_test_aug2, verbose=0)\n",
    "#scores_ENC_ATT_val_aug2 = ENC_ATT_model1.evaluate(X_train_aug2, y_train_aug2, verbose=0)\n",
    "print(\"Accuracy of ENC_ATT for level2 augmented data is :\", np.array(history.history['val_accuracy']).mean()*100)\n",
    "#print(\"Validation Accuracy of ENC_ATT for level2 augmented data is:\", (scores_ENC_ATT_val_aug2[1]*100))\n",
    "print(\"Training Accuracy of ENC_ATT for level2 augmented data is:\" ,np.array(history.history['accuracy']).mean()*100)\n",
    "print( \"Mean loss of  Validation data of ENC_ATT for level2 augmented data is :\",np.array(history.history['val_loss']).mean())\n",
    "print( \"Mean loss of  training data of ENC_ATT for level2 augmented data is :\",np.array(history.history['loss']).mean())"
   ]
  },
  {
   "cell_type": "code",
   "execution_count": 10,
   "metadata": {
    "id": "lCUst2LJ0XzK"
   },
   "outputs": [],
   "source": [
    "#x"
   ]
  },
  {
   "cell_type": "code",
   "execution_count": 11,
   "metadata": {
    "colab": {
     "base_uri": "https://localhost:8080/"
    },
    "id": "edJ6uoYL0XzL",
    "outputId": "fd22678c-2b93-40c9-8334-e251ce3e35e3"
   },
   "outputs": [
    {
     "name": "stdout",
     "output_type": "stream",
     "text": [
      "Model: \"functional_7\"\n",
      "__________________________________________________________________________________________________\n",
      "Layer (type)                    Output Shape         Param #     Connected to                     \n",
      "==================================================================================================\n",
      "input_3 (InputLayer)            [(None, 191)]        0                                            \n",
      "__________________________________________________________________________________________________\n",
      "embedding_3 (Embedding)         (None, 191, 300)     3000000     input_3[0][0]                    \n",
      "__________________________________________________________________________________________________\n",
      "lstm_4 (LSTM)                   (None, 191, 64)      93440       embedding_3[0][0]                \n",
      "__________________________________________________________________________________________________\n",
      "dense_10 (Dense)                (None, 191, 1)       65          lstm_4[0][0]                     \n",
      "__________________________________________________________________________________________________\n",
      "flatten_5 (Flatten)             (None, 191)          0           dense_10[0][0]                   \n",
      "__________________________________________________________________________________________________\n",
      "activation_2 (Activation)       (None, 191)          0           flatten_5[0][0]                  \n",
      "__________________________________________________________________________________________________\n",
      "repeat_vector_2 (RepeatVector)  (None, 64, 191)      0           activation_2[0][0]               \n",
      "__________________________________________________________________________________________________\n",
      "permute_1 (Permute)             (None, 191, 64)      0           repeat_vector_2[0][0]            \n",
      "__________________________________________________________________________________________________\n",
      "concatenate_5 (Concatenate)     (None, 191, 128)     0           lstm_4[0][0]                     \n",
      "                                                                 permute_1[0][0]                  \n",
      "__________________________________________________________________________________________________\n",
      "flatten_6 (Flatten)             (None, 24448)        0           concatenate_5[0][0]              \n",
      "__________________________________________________________________________________________________\n",
      "repeat_vector_3 (RepeatVector)  (None, 64, 24448)    0           flatten_6[0][0]                  \n",
      "__________________________________________________________________________________________________\n",
      "lstm_5 (LSTM)                   (None, 64, 64)       6275328     repeat_vector_3[0][0]            \n",
      "__________________________________________________________________________________________________\n",
      "flatten_7 (Flatten)             (None, 4096)         0           lstm_5[0][0]                     \n",
      "__________________________________________________________________________________________________\n",
      "dense_11 (Dense)                (None, 74)           303178      flatten_7[0][0]                  \n",
      "__________________________________________________________________________________________________\n",
      "activation_3 (Activation)       (None, 74)           0           dense_11[0][0]                   \n",
      "==================================================================================================\n",
      "Total params: 9,672,011\n",
      "Trainable params: 9,672,011\n",
      "Non-trainable params: 0\n",
      "__________________________________________________________________________________________________\n",
      "None\n",
      "Epoch 1/25\n",
      "110/110 [==============================] - 1620s 15s/step - loss: 2.9596 - accuracy: 0.2668 - val_loss: 2.2467 - val_accuracy: 0.3982\n",
      "Epoch 2/25\n",
      "110/110 [==============================] - 1669s 15s/step - loss: 1.7211 - accuracy: 0.5229 - val_loss: 1.3862 - val_accuracy: 0.6026\n",
      "Epoch 3/25\n",
      "110/110 [==============================] - 1698s 15s/step - loss: 0.9718 - accuracy: 0.7246 - val_loss: 0.9825 - val_accuracy: 0.7152\n",
      "Epoch 4/25\n",
      "110/110 [==============================] - 1703s 15s/step - loss: 0.5821 - accuracy: 0.8270 - val_loss: 0.7517 - val_accuracy: 0.7803\n",
      "Epoch 5/25\n",
      "110/110 [==============================] - 1711s 16s/step - loss: 0.4222 - accuracy: 0.8733 - val_loss: 0.6823 - val_accuracy: 0.7999\n",
      "Epoch 6/25\n",
      "110/110 [==============================] - 1608s 15s/step - loss: 0.3117 - accuracy: 0.9028 - val_loss: 0.6606 - val_accuracy: 0.8164\n",
      "Epoch 7/25\n",
      "110/110 [==============================] - 1612s 15s/step - loss: 0.2581 - accuracy: 0.9170 - val_loss: 0.6497 - val_accuracy: 0.8189\n",
      "Epoch 8/25\n",
      "110/110 [==============================] - 1699s 15s/step - loss: 0.2273 - accuracy: 0.9264 - val_loss: 0.6566 - val_accuracy: 0.8312\n",
      "Epoch 9/25\n",
      "110/110 [==============================] - 1658s 15s/step - loss: 0.2015 - accuracy: 0.9320 - val_loss: 0.6979 - val_accuracy: 0.8243\n",
      "Epoch 10/25\n",
      "110/110 [==============================] - 1670s 15s/step - loss: 0.1943 - accuracy: 0.9354 - val_loss: 0.6391 - val_accuracy: 0.8405\n",
      "Epoch 11/25\n",
      "110/110 [==============================] - 1715s 16s/step - loss: 0.1810 - accuracy: 0.9391 - val_loss: 0.6770 - val_accuracy: 0.8405\n",
      "Epoch 12/25\n",
      "110/110 [==============================] - 1740s 16s/step - loss: 0.1572 - accuracy: 0.9451 - val_loss: 0.6511 - val_accuracy: 0.8442\n",
      "Epoch 13/25\n",
      "110/110 [==============================] - 1752s 16s/step - loss: 0.1366 - accuracy: 0.9513 - val_loss: 0.7042 - val_accuracy: 0.8422\n",
      "Epoch 14/25\n",
      "110/110 [==============================] - 1741s 16s/step - loss: 0.1334 - accuracy: 0.9549 - val_loss: 0.7138 - val_accuracy: 0.8442\n",
      "Epoch 15/25\n",
      "110/110 [==============================] - 1726s 16s/step - loss: 0.1203 - accuracy: 0.9564 - val_loss: 0.7211 - val_accuracy: 0.8459\n",
      "Epoch 16/25\n",
      "110/110 [==============================] - 1727s 16s/step - loss: 0.1138 - accuracy: 0.9588 - val_loss: 0.7179 - val_accuracy: 0.8508\n",
      "Epoch 17/25\n",
      "110/110 [==============================] - 1686s 15s/step - loss: 0.1170 - accuracy: 0.9581 - val_loss: 0.7516 - val_accuracy: 0.8374\n",
      "Epoch 18/25\n",
      "110/110 [==============================] - 1733s 16s/step - loss: 0.1538 - accuracy: 0.9477 - val_loss: 0.8881 - val_accuracy: 0.8232\n",
      "Epoch 19/25\n",
      "110/110 [==============================] - 1802s 16s/step - loss: 0.1633 - accuracy: 0.9441 - val_loss: 0.7907 - val_accuracy: 0.8258\n"
     ]
    },
    {
     "data": {
      "image/png": "[encoded data removed]",
      "text/plain": [
       "<Figure size 432x288 with 1 Axes>"
      ]
     },
     "metadata": {
      "needs_background": "light"
     },
     "output_type": "display_data"
    },
    {
     "data": {
      "image/png": "[encoded data removed]",
      "text/plain": [
       "<Figure size 432x288 with 1 Axes>"
      ]
     },
     "metadata": {
      "needs_background": "light"
     },
     "output_type": "display_data"
    }
   ],
   "source": [
    "modelname=\"ENC_DEC_ATTModel_aug1\"\n",
    "ENC_DEC_ATT_model1=ENC_DEC_ATT_model13()\n",
    "history= ENC_DEC_ATT_model1.fit(X_train_aug1,y_train_aug1,batch_size=batch_size,epochs=epochs,validation_data=(X_test_aug1,y_test_aug1),callbacks=[early_stopping])\n",
    "plot( ENC_DEC_ATT_model1,history)"
   ]
  },
  {
   "cell_type": "code",
   "execution_count": 12,
   "metadata": {
    "id": "k9UmASGf0XzN"
   },
   "outputs": [
    {
     "name": "stdout",
     "output_type": "stream",
     "text": [
      "Accuracy of ENC_DEC_ATT for level1 augmented data is : 78.85162014710275\n",
      "Training Accuracy of ENC_DEC_ATT for level1 augmented data is: 86.22854446109972\n",
      "Mean loss of  Validation data of ENC_DEC_ATT for level1 augmented data is : 0.8404633779274789\n",
      "Mean loss of  training data of ENC_DEC_ATT for level1 augmented data is : 0.48031224663320343\n"
     ]
    }
   ],
   "source": [
    "#scores_ENC_DEC_ATT_aug1 = ENC_DEC_ATT_model1.evaluate(X_test_aug1, y_test_aug1, verbose=0)\n",
    "#scores_ENC_DEC_ATT_val_aug1 = ENC_DEC_ATT_model1.evaluate(X_train_aug1, y_train_aug1, verbose=0)\n",
    "print(\"Accuracy of ENC_DEC_ATT for level1 augmented data is :\", np.array(history.history['val_accuracy']).mean()*100)\n",
    "#print(\"Validation Accuracy of ENC_DEC_ATT for level1 augmented data is:\", (scores_ENC_DEC_ATT_val_aug1[1]*100))\n",
    "print(\"Training Accuracy of ENC_DEC_ATT for level1 augmented data is:\" ,np.array(history.history['accuracy']).mean()*100)\n",
    "print( \"Mean loss of  Validation data of ENC_DEC_ATT for level1 augmented data is :\",np.array(history.history['val_loss']).mean())\n",
    "print( \"Mean loss of  training data of ENC_DEC_ATT for level1 augmented data is :\",np.array(history.history['loss']).mean())"
   ]
  },
  {
   "cell_type": "code",
   "execution_count": 15,
   "metadata": {
    "id": "Oze-T_4K0XzP"
   },
   "outputs": [
    {
     "name": "stdout",
     "output_type": "stream",
     "text": [
      "Model: \"functional_7\"\n",
      "__________________________________________________________________________________________________\n",
      "Layer (type)                    Output Shape         Param #     Connected to                     \n",
      "==================================================================================================\n",
      "input_3 (InputLayer)            [(None, 191)]        0                                            \n",
      "__________________________________________________________________________________________________\n",
      "embedding_3 (Embedding)         (None, 191, 300)     3000000     input_3[0][0]                    \n",
      "__________________________________________________________________________________________________\n",
      "lstm_4 (LSTM)                   (None, 191, 64)      93440       embedding_3[0][0]                \n",
      "__________________________________________________________________________________________________\n",
      "dense_10 (Dense)                (None, 191, 1)       65          lstm_4[0][0]                     \n",
      "__________________________________________________________________________________________________\n",
      "flatten_5 (Flatten)             (None, 191)          0           dense_10[0][0]                   \n",
      "__________________________________________________________________________________________________\n",
      "activation_2 (Activation)       (None, 191)          0           flatten_5[0][0]                  \n",
      "__________________________________________________________________________________________________\n",
      "repeat_vector_2 (RepeatVector)  (None, 64, 191)      0           activation_2[0][0]               \n",
      "__________________________________________________________________________________________________\n",
      "permute_1 (Permute)             (None, 191, 64)      0           repeat_vector_2[0][0]            \n",
      "__________________________________________________________________________________________________\n",
      "concatenate_5 (Concatenate)     (None, 191, 128)     0           lstm_4[0][0]                     \n",
      "                                                                 permute_1[0][0]                  \n",
      "__________________________________________________________________________________________________\n",
      "flatten_6 (Flatten)             (None, 24448)        0           concatenate_5[0][0]              \n",
      "__________________________________________________________________________________________________\n",
      "repeat_vector_3 (RepeatVector)  (None, 64, 24448)    0           flatten_6[0][0]                  \n",
      "__________________________________________________________________________________________________\n",
      "lstm_5 (LSTM)                   (None, 64, 64)       6275328     repeat_vector_3[0][0]            \n",
      "__________________________________________________________________________________________________\n",
      "flatten_7 (Flatten)             (None, 4096)         0           lstm_5[0][0]                     \n",
      "__________________________________________________________________________________________________\n",
      "dense_11 (Dense)                (None, 74)           303178      flatten_7[0][0]                  \n",
      "__________________________________________________________________________________________________\n",
      "activation_3 (Activation)       (None, 74)           0           dense_11[0][0]                   \n",
      "==================================================================================================\n",
      "Total params: 9,672,011\n",
      "Trainable params: 9,672,011\n",
      "Non-trainable params: 0\n",
      "__________________________________________________________________________________________________\n",
      "None\n",
      "Epoch 1/25\n",
      "196/196 [==============================] - 2843s 15s/step - loss: 2.6383 - accuracy: 0.3656 - val_loss: 1.2505 - val_accuracy: 0.6466\n",
      "Epoch 2/25\n",
      "196/196 [==============================] - 2913s 15s/step - loss: 0.7200 - accuracy: 0.7853 - val_loss: 0.4912 - val_accuracy: 0.8480\n",
      "Epoch 3/25\n",
      "196/196 [==============================] - 2991s 15s/step - loss: 0.3098 - accuracy: 0.8997 - val_loss: 0.3774 - val_accuracy: 0.8906\n",
      "Epoch 4/25\n",
      "196/196 [==============================] - 2955s 15s/step - loss: 0.1954 - accuracy: 0.9347 - val_loss: 0.3213 - val_accuracy: 0.9038\n",
      "Epoch 5/25\n",
      "196/196 [==============================] - 2941s 15s/step - loss: 0.1569 - accuracy: 0.9463 - val_loss: 0.3271 - val_accuracy: 0.9054\n",
      "Epoch 6/25\n",
      "196/196 [==============================] - 2956s 15s/step - loss: 0.1434 - accuracy: 0.9502 - val_loss: 0.3585 - val_accuracy: 0.9012\n",
      "Epoch 7/25\n",
      "196/196 [==============================] - 2959s 15s/step - loss: 0.1310 - accuracy: 0.9539 - val_loss: 0.3549 - val_accuracy: 0.9002\n",
      "Epoch 8/25\n",
      "196/196 [==============================] - 2962s 15s/step - loss: 0.1172 - accuracy: 0.9586 - val_loss: 0.3377 - val_accuracy: 0.9082\n",
      "Epoch 9/25\n",
      "196/196 [==============================] - 2982s 15s/step - loss: 0.1196 - accuracy: 0.9570 - val_loss: 0.3589 - val_accuracy: 0.9063\n",
      "Epoch 10/25\n",
      "196/196 [==============================] - 3001s 15s/step - loss: 0.1240 - accuracy: 0.9556 - val_loss: 0.3818 - val_accuracy: 0.9017\n",
      "Epoch 11/25\n",
      "196/196 [==============================] - 2977s 15s/step - loss: 0.1318 - accuracy: 0.9530 - val_loss: 0.3777 - val_accuracy: 0.9012\n"
     ]
    },
    {
     "data": {
      "image/png": "[encoded data removed]",
      "text/plain": [
       "<Figure size 432x288 with 1 Axes>"
      ]
     },
     "metadata": {
      "needs_background": "light"
     },
     "output_type": "display_data"
    },
    {
     "data": {
      "image/png": "[encoded data removed]",
      "text/plain": [
       "<Figure size 432x288 with 1 Axes>"
      ]
     },
     "metadata": {
      "needs_background": "light"
     },
     "output_type": "display_data"
    }
   ],
   "source": [
    "\n",
    "\n",
    "modelname=\"ENC_DEC_ATTModel_aug2\"\n",
    "ENC_DEC_ATT_model1=ENC_DEC_ATT_model13()\n",
    "history= ENC_DEC_ATT_model1.fit(X_train_aug2,y_train_aug2,batch_size=batch_size,epochs=epochs,validation_data=(X_test_aug2,y_test_aug2),callbacks=[early_stopping])\n",
    "plot( ENC_DEC_ATT_model1,history)"
   ]
  },
  {
   "cell_type": "code",
   "execution_count": 16,
   "metadata": {
    "id": "YPGzHCBE0XzR"
   },
   "outputs": [
    {
     "name": "stdout",
     "output_type": "stream",
     "text": [
      "Accuracy of ENC_DEC_ATT for level2 augmented data is : 87.39355043931441\n",
      "Training Accuracy of ENC_DEC_ATT for level2 augmented data is: 87.81703114509583\n",
      "Mean loss of  Validation data of ENC_DEC_ATT for level2 augmented data is : 0.44882537018169055\n",
      "Mean loss of  training data of ENC_DEC_ATT for level2 augmented data is : 0.435214447026903\n"
     ]
    }
   ],
   "source": [
    "#scores_ENC_DEC_ATT_aug2 = ENC_DEC_ATT_model1.evaluate(X_test_aug2, y_test_aug2, verbose=0)\n",
    "#scores_ENC_DEC_ATT_val_aug2 = ENC_DEC_ATT_model1.evaluate(X_train_aug2, y_train_aug2, verbose=0)\n",
    "print(\"Accuracy of ENC_DEC_ATT for level2 augmented data is :\",np.array(history.history['val_accuracy']).mean()*100)\n",
    "#print(\"Validation Accuracy of ENC_DEC_ATT for level2 augmented data is:\", (scores_ENC_DEC_ATT_val_aug2[1]*100))\n",
    "print(\"Training Accuracy of ENC_DEC_ATT for level2 augmented data is:\" ,np.array(history.history['accuracy']).mean()*100)\n",
    "print( \"Mean loss of  Validation data of ENC_DEC_ATT for level2 augmented data is :\",np.array(history.history['val_loss']).mean())\n",
    "print( \"Mean loss of  training data of ENC_DEC_ATT for level2 augmented data is :\",np.array(history.history['loss']).mean())"
   ]
  }
 ],
 "metadata": {
  "accelerator": "GPU",
  "colab": {
   "collapsed_sections": [],
   "name": "Attention_no_hyp.ipynb",
   "provenance": []
  },
  "kernelspec": {
   "display_name": "Python 3",
   "language": "python",
   "name": "python3"
  }
 },
 "nbformat": 4,
 "nbformat_minor": 1
}
