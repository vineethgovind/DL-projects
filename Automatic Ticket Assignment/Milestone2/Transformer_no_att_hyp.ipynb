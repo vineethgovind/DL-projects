{
 "cells": [
  {
   "cell_type": "code",
   "execution_count": 6,
   "metadata": {},
   "outputs": [
    {
     "name": "stdout",
     "output_type": "stream",
     "text": [
      "   Unnamed: 0  Unnamed: 0.1  \\\n",
      "0           0             0   \n",
      "1           1             1   \n",
      "2           2             2   \n",
      "3           3             3   \n",
      "4           4             4   \n",
      "\n",
      "                        Combined Description Cleaned Assignment group  \n",
      "0  login issue user manager name checked the name...            GRP_0  \n",
      "1  outlook received from hello team my are not in...            GRP_0  \n",
      "2    cannot log in to received from   cannot on best            GRP_0  \n",
      "3                         unable to access tool page            GRP_0  \n",
      "4                                              error            GRP_0  \n",
      "   Unnamed: 0                       Combined Description Cleaned  \\\n",
      "0           0  login issue user manager name checked the name...   \n",
      "1           1  outlook received from hello team my are not in...   \n",
      "2           2  cannot log in to received from hi i cannot on ...   \n",
      "3           3                         unable to access tool page   \n",
      "4           4                                              error   \n",
      "\n",
      "  Assignment group  LabelEncodings  \n",
      "0            GRP_0               0  \n",
      "1            GRP_0               0  \n",
      "2            GRP_0               0  \n",
      "3            GRP_0               0  \n",
      "4            GRP_0               0  \n",
      "   Unnamed: 0                       Combined Description Cleaned  \\\n",
      "0           0  login issue user manager name checked the name...   \n",
      "1           1  outlook received from hello team my are not in...   \n",
      "2           2  cannot log in to received from hi i cannot on ...   \n",
      "3           3                         unable to access tool page   \n",
      "4           4                                              error   \n",
      "\n",
      "  Assignment group  LabelEncodings  \n",
      "0            GRP_0               0  \n",
      "1            GRP_0               0  \n",
      "2            GRP_0               0  \n",
      "3            GRP_0               0  \n",
      "4            GRP_0               0  \n"
     ]
    }
   ],
   "source": [
    "import tensorflow as tf \n",
    "from tensorflow.keras.preprocessing.sequence import pad_sequences\n",
    "from tensorflow.keras import layers\n",
    "from tensorflow.keras.layers import Embedding,LSTM,TimeDistributed,Dense,Flatten,Dropout,RepeatVector,GRU,Bidirectional,Permute\n",
    "from tensorflow.keras.utils import to_categorical\n",
    "from tensorflow.keras.models import Sequential\n",
    "from tensorflow.keras.preprocessing.text import Tokenizer\n",
    "from tensorflow.keras.callbacks import ModelCheckpoint, EarlyStopping\n",
    "import numpy as np\n",
    "import pandas as pd\n",
    "from sklearn.model_selection import train_test_split\n",
    "import matplotlib.pyplot as plt\n",
    "import kerastuner as kt\n",
    "from kerastuner.tuners import BayesianOptimization\n",
    "from tensorflow.keras.optimizers import Adam\n",
    "from tensorflow.keras import Input\n",
    "from keras_preprocessing import sequence\n",
    "from tensorflow.python.keras.layers import Concatenate,concatenate,Activation, dot\n",
    "\n",
    "import os\n",
    "\n",
    "filename='pre_data_dl.xlsx'\n",
    "data_dl=pd.read_excel(filename)\n",
    "pd.set_option('display.max_columns', None)\n",
    "print(data_dl.head())\n",
    "\n",
    "filename1='pre_data_dl_aug1.xlsx'\n",
    "filename2='pre_data_dl_aug2.xlsx'\n",
    "\n",
    "data_dl_aug1=pd.read_excel(filename1)\n",
    "pd.set_option('display.max_columns', None)\n",
    "print(data_dl_aug1.head())\n",
    "\n",
    "data_dl_aug2=pd.read_excel(filename2)\n",
    "print(data_dl_aug2.head())\n",
    "\n",
    "X = (data_dl[\"Combined Description Cleaned\"])\n",
    "y= (data_dl['Assignment group'])\n",
    "\n",
    "#categorical encoding y\n",
    "y=pd.get_dummies(data_dl['Assignment group'])\n",
    "  \n",
    "\n",
    "#parameters\n",
    "max_features=10000\n",
    "emb_dim=300\n",
    "batch_size=128\n",
    "epochs=25\n",
    "out_dim=74"
   ]
  },
  {
   "cell_type": "code",
   "execution_count": 7,
   "metadata": {},
   "outputs": [
    {
     "name": "stdout",
     "output_type": "stream",
     "text": [
      "vocabulary size is:  3316\n"
     ]
    }
   ],
   "source": [
    "#function for tokenizer\n",
    "def dfTokenizer(df):\n",
    " tokenizer=Tokenizer(num_words=max_features,char_level=False)\n",
    " tokenizer.fit_on_texts(df)\n",
    " sequences=tokenizer.texts_to_sequences(df)\n",
    " return sequences,tokenizer\n",
    "#tokenization\n",
    "X,tokenizer = dfTokenizer(data_dl[\"Combined Description Cleaned\"]) \n",
    "vocab_size=len(tokenizer.word_index)\n",
    "print(\"vocabulary size is: \",vocab_size)\n",
    "\n",
    "#function for padding\n",
    "def pad(x, length=None):\n",
    " if length is None:\n",
    "   length=max([len(sentence)  for sentence in x])\n",
    " return pad_sequences(x,maxlen=length,padding='post')\n",
    " \n",
    " #padding \n",
    "X=pad_sequences(X,padding='post')\n",
    "\n",
    "\n",
    "#function for splitting the data\n",
    "def split(X,y):\n",
    " X_train_spl,X_test_spl,y_train_spl,y_test_spl=train_test_split(X,y,test_size=0.3,random_state=123)\n",
    " return X_train_spl,X_test_spl,y_train_spl,y_test_spl\n",
    "#split the data\n",
    "X_train,X_test,y_train,y_test=split(X,y)\n",
    "\n",
    "\n",
    "#configuring the callback\n",
    "early_stopping =  EarlyStopping(\n",
    "    monitor='val_accuracy', \n",
    "    patience=3, \n",
    "    min_delta=0.001, \n",
    "    mode='max'\n",
    ")\n",
    "\n",
    "\n",
    "#function for plotting accuracy,loss\n",
    "def plot(model,history):\n",
    " acc = history.history['accuracy']\n",
    " val_acc = history.history['val_accuracy']\n",
    " loss = history.history['loss']\n",
    " val_loss = history.history['val_loss']\n",
    " epochs = range(1, len(acc) + 1)\n",
    " plt.plot(epochs, acc, 'bo', label='Training acc')\n",
    " plt.plot(epochs, val_acc, 'b', label='Validation acc')\n",
    " plt.title( ' Training and validation accuracy')\n",
    " plt.legend()\n",
    " plt.figure()\n",
    " plt.plot(epochs, loss, 'bo', label='Training loss')\n",
    " plt.plot(epochs, val_loss, 'b', label='Validation loss')\n",
    " plt.title('Training and validation loss')\n",
    " plt.legend()\n",
    " plt.show()\n",
    " return"
   ]
  },
  {
   "cell_type": "code",
   "execution_count": 8,
   "metadata": {},
   "outputs": [],
   "source": [
    "inp_len=X.shape[1]\n",
    "inputs = Input(shape=(inp_len,))\n",
    "\n",
    "def TRANSFORMER_model(hp):\n",
    " model = tf.keras.Sequential()\n",
    " model.add(Embedding(max_features,emb_dim,input_length=inp_len))\n",
    " model.add(Bidirectional(LSTM(64, return_sequences=False)))\n",
    " model.add(Dropout(0.2))\n",
    " model.add(RepeatVector(64))\n",
    " model.add(Bidirectional(LSTM(64, return_sequences=True)))\n",
    " model.add(TimeDistributed(Dense(units = 64, activation = 'relu')))\n",
    " model.add(Flatten())\n",
    " model.add(Dense(74, activation='softmax'))\n",
    " print(model.summary())\n",
    " lr = hp.Choice('learning_rate', [1e-2, 1e-3, 1e-4])   \n",
    " model.compile(optimizer='adam',\n",
    "              loss='categorical_crossentropy',\n",
    "              metrics=['accuracy'])\n",
    " \n",
    " return model"
   ]
  },
  {
   "cell_type": "code",
   "execution_count": 9,
   "metadata": {},
   "outputs": [],
   "source": [
    "class MyTuner(kt.tuners.BayesianOptimization):\n",
    "  def run_trial(self, trial, *args, **kwargs):\n",
    "     kwargs['batch_size'] = trial.hyperparameters.Int('batch_size', 64, 128,step=64 )\n",
    "    # kwargs['epochs'] = trial.hyperparameters.Int('epochs', 5, 10,20)\n",
    "     super(MyTuner, self).run_trial(trial, *args, **kwargs)"
   ]
  },
  {
   "cell_type": "code",
   "execution_count": 10,
   "metadata": {},
   "outputs": [
    {
     "name": "stdout",
     "output_type": "stream",
     "text": [
      "Trial 5 Complete [00h 02m 03s]\n",
      "val_accuracy: 0.5724951028823853\n",
      "\n",
      "Best val_accuracy So Far: 0.5724951028823853\n",
      "Total elapsed time: 00h 10m 16s\n",
      "INFO:tensorflow:Oracle triggered exit\n",
      "Results summary\n",
      "Results in C:/Hyperparameter/25A\\untitled_project\n",
      "Showing 5 best trials\n",
      "Objective(name='val_accuracy', direction='max')\n",
      "Trial summary\n",
      "Hyperparameters:\n",
      "learning_rate: 0.01\n",
      "batch_size: 64\n",
      "Score: 0.5724951028823853\n",
      "Trial summary\n",
      "Hyperparameters:\n",
      "learning_rate: 0.01\n",
      "batch_size: 64\n",
      "Score: 0.570923388004303\n",
      "Trial summary\n",
      "Hyperparameters:\n",
      "learning_rate: 0.0001\n",
      "batch_size: 64\n",
      "Score: 0.5654224157333374\n",
      "Trial summary\n",
      "Hyperparameters:\n",
      "learning_rate: 0.01\n",
      "batch_size: 64\n",
      "Score: 0.5630648136138916\n",
      "Trial summary\n",
      "Hyperparameters:\n",
      "learning_rate: 0.001\n",
      "batch_size: 128\n",
      "Score: 0.5622789859771729\n",
      "None\n",
      "Model: \"sequential\"\n",
      "_________________________________________________________________\n",
      "Layer (type)                 Output Shape              Param #   \n",
      "=================================================================\n",
      "embedding (Embedding)        (None, 189, 300)          3000000   \n",
      "_________________________________________________________________\n",
      "bidirectional (Bidirectional (None, 128)               186880    \n",
      "_________________________________________________________________\n",
      "dropout (Dropout)            (None, 128)               0         \n",
      "_________________________________________________________________\n",
      "repeat_vector (RepeatVector) (None, 64, 128)           0         \n",
      "_________________________________________________________________\n",
      "bidirectional_1 (Bidirection (None, 64, 128)           98816     \n",
      "_________________________________________________________________\n",
      "time_distributed (TimeDistri (None, 64, 64)            8256      \n",
      "_________________________________________________________________\n",
      "flatten (Flatten)            (None, 4096)              0         \n",
      "_________________________________________________________________\n",
      "dense_1 (Dense)              (None, 74)                303178    \n",
      "=================================================================\n",
      "Total params: 3,597,130\n",
      "Trainable params: 3,597,130\n",
      "Non-trainable params: 0\n",
      "_________________________________________________________________\n",
      "None\n",
      "Hyperparameters for TRANSFORMER are <tensorflow.python.keras.engine.sequential.Sequential object at 0x000002100D106208>\n",
      "{'learning_rate': 0.01, 'batch_size': 64}\n",
      "Epoch 1/25\n",
      "47/47 [==============================] - 132s 3s/step - loss: 1.6477 - accuracy: 0.5895 - val_loss: 1.7048 - val_accuracy: 0.5988\n",
      "Epoch 2/25\n",
      "47/47 [==============================] - 122s 3s/step - loss: 1.3729 - accuracy: 0.6363 - val_loss: 1.6639 - val_accuracy: 0.5992\n",
      "Epoch 3/25\n",
      "47/47 [==============================] - 130s 3s/step - loss: 1.1577 - accuracy: 0.6824 - val_loss: 1.6814 - val_accuracy: 0.6043\n",
      "Epoch 4/25\n",
      "47/47 [==============================] - 130s 3s/step - loss: 0.9949 - accuracy: 0.7150 - val_loss: 1.7760 - val_accuracy: 0.6020\n",
      "Epoch 5/25\n",
      "47/47 [==============================] - 130s 3s/step - loss: 0.8649 - accuracy: 0.7443 - val_loss: 1.8670 - val_accuracy: 0.6016\n",
      "Epoch 6/25\n",
      "47/47 [==============================] - 132s 3s/step - loss: 0.7509 - accuracy: 0.7744 - val_loss: 2.0801 - val_accuracy: 0.5953\n"
     ]
    },
    {
     "data": {
      "image/png": "[encoded data removed]",
      "text/plain": [
       "<Figure size 432x288 with 1 Axes>"
      ]
     },
     "metadata": {
      "needs_background": "light"
     },
     "output_type": "display_data"
    },
    {
     "data": {
      "image/png": "[encoded data removed]",
      "text/plain": [
       "<Figure size 432x288 with 1 Axes>"
      ]
     },
     "metadata": {
      "needs_background": "light"
     },
     "output_type": "display_data"
    }
   ],
   "source": [
    "tuner =MyTuner(\n",
    "    TRANSFORMER_model,\n",
    "    objective='val_accuracy',\n",
    "    max_trials=5,\n",
    "    executions_per_trial=1,\n",
    "    seed=123,\n",
    "    directory=\"C:/Hyperparameter/25A\"\n",
    ")\n",
    "\n",
    "tuner.search(X_train,y_train,validation_data=(X_test,y_test))\n",
    "print(tuner.results_summary(5))\n",
    "best_model_TRANSFORMER = tuner.get_best_models()[0]\n",
    "print(\"Hyperparameters for TRANSFORMER are\",best_model_TRANSFORMER)\n",
    "\n",
    "\n",
    "modelname=\"TRANSFORMERModel\"\n",
    "vals=tuner.oracle.get_best_trials(num_trials=1)[0].hyperparameters.values\n",
    "print(vals)\n",
    "batch_size_hyp=list(vals.values())[1]\n",
    "#epochs_hyp=list(vals.values())[2]\n",
    "history=best_model_TRANSFORMER.fit(X_train,y_train,batch_size=batch_size,epochs=epochs,validation_data=(X_test,y_test),callbacks=[early_stopping])\n",
    "plot(best_model_TRANSFORMER,history)"
   ]
  },
  {
   "cell_type": "code",
   "execution_count": 11,
   "metadata": {},
   "outputs": [
    {
     "name": "stdout",
     "output_type": "stream",
     "text": [
      "Accuracy of TRANSFORMER for unaugmented data is : 60.019647081693016\n",
      "Training Accuracy of TRANSFORMER for unagumented data is: 69.03077165285745\n",
      "Mean loss of  Validation data of TRANSFORMER for unaugmented data is : 1.7955147226651509\n",
      "Mean loss of  Training data of TRANSFORMER for unaugmented data is : 1.1314678986867268\n"
     ]
    }
   ],
   "source": [
    "print(\"Accuracy of TRANSFORMER for unaugmented data is :\", np.array(history.history['val_accuracy']).mean()*100)\n",
    "#print(\"Validation Accuracy of TRANSFORMER for unagumented data is:\", (scores_TRANSFORMER_val[1]*100))\n",
    "print(\"Training Accuracy of TRANSFORMER for unagumented data is:\" ,np.array(history.history['accuracy']).mean()*100)\n",
    "print( \"Mean loss of  Validation data of TRANSFORMER for unaugmented data is :\",np.array(history.history['val_loss']).mean())\n",
    "print( \"Mean loss of  Training data of TRANSFORMER for unaugmented data is :\",np.array(history.history['loss']).mean())        "
   ]
  },
  {
   "cell_type": "code",
   "execution_count": 12,
   "metadata": {},
   "outputs": [
    {
     "name": "stdout",
     "output_type": "stream",
     "text": [
      "vocabulary size is:  3956\n",
      "vocabulary size is:  4424\n"
     ]
    }
   ],
   "source": [
    "X_aug1 = (data_dl_aug1[\"Combined Description Cleaned\"])\n",
    "y_aug1= (data_dl_aug1['Assignment group'])\n",
    "\n",
    "#categorical encoding y\n",
    "y_aug1=pd.get_dummies(data_dl_aug2['Assignment group'])\n",
    "\n",
    "\n",
    "X_aug2 = (data_dl_aug2[\"Combined Description Cleaned\"])\n",
    "y_aug2= (data_dl_aug2['Assignment group'])\n",
    "\n",
    "#categorical encoding y\n",
    "y_aug2=pd.get_dummies(data_dl_aug2['Assignment group'])\n",
    "\n",
    "#tokenization\n",
    "X_aug1,tokenizer = dfTokenizer(data_dl_aug1[\"Combined Description Cleaned\"]) \n",
    "vocab_size_aug1=len(tokenizer.word_index)\n",
    "print(\"vocabulary size is: \",vocab_size_aug1)\n",
    "\n",
    "X_aug2,tokenizer = dfTokenizer(data_dl_aug2[\"Combined Description Cleaned\"]) \n",
    "vocab_size_aug2=len(tokenizer.word_index)\n",
    "print(\"vocabulary size is: \",vocab_size_aug2)"
   ]
  },
  {
   "cell_type": "code",
   "execution_count": 13,
   "metadata": {},
   "outputs": [],
   "source": [
    "#padding\n",
    "X_aug1=pad_sequences(X_aug1,padding='post')\n",
    "X_aug2=pad_sequences(X_aug2,padding='post')\n",
    "y_aug1=y_aug1[0:17586]"
   ]
  },
  {
   "cell_type": "code",
   "execution_count": 14,
   "metadata": {},
   "outputs": [
    {
     "name": "stdout",
     "output_type": "stream",
     "text": [
      "191\n"
     ]
    }
   ],
   "source": [
    "def split_stratify(X,y):\n",
    " X_train_spl,X_test_spl,y_train_spl,y_test_spl=train_test_split(X,y,test_size=0.3,stratify=y,random_state=123)\n",
    " return X_train_spl,X_test_spl,y_train_spl,y_test_spl\n",
    "\n",
    "X_train_aug1,X_test_aug1,y_train_aug1,y_test_aug1=split_stratify(X_aug1,y_aug1)\n",
    "X_train_aug2,X_test_aug2,y_train_aug2,y_test_aug2=split_stratify(X_aug2,y_aug2)\n",
    "\n",
    "\n",
    "inp_len1=X_aug1.shape[1]\n",
    "print(inp_len1)\n",
    "\n",
    "def TRANSFORMER_model1(hp):\n",
    " model = tf.keras.Sequential()\n",
    " model.add(Embedding(max_features,emb_dim,input_length=inp_len1))\n",
    " model.add(Bidirectional(LSTM(64, return_sequences=False)))\n",
    " model.add(Dropout(0.2))\n",
    " model.add(RepeatVector(64))\n",
    " model.add(Bidirectional(LSTM(64, return_sequences=True)))\n",
    " model.add(TimeDistributed(Dense(units = 64, activation = 'relu')))\n",
    " model.add(Flatten())\n",
    " model.add(Dense(74, activation='softmax'))\n",
    " print(model.summary())\n",
    " lr = hp.Choice('learning_rate', [1e-2, 1e-3, 1e-4])   \n",
    " model.compile(optimizer='adam',\n",
    "              loss='categorical_crossentropy',\n",
    "              metrics=['accuracy'])\n",
    " \n",
    " return model"
   ]
  },
  {
   "cell_type": "code",
   "execution_count": 15,
   "metadata": {},
   "outputs": [
    {
     "name": "stdout",
     "output_type": "stream",
     "text": [
      "Trial 5 Complete [00h 04m 06s]\n",
      "val_accuracy: 0.4859742224216461\n",
      "\n",
      "Best val_accuracy So Far: 0.4859742224216461\n",
      "Total elapsed time: 00h 23m 00s\n",
      "INFO:tensorflow:Oracle triggered exit\n",
      "Results summary\n",
      "Results in C:/Hyperparameter/27p\\untitled_project\n",
      "Showing 5 best trials\n",
      "Objective(name='val_accuracy', direction='max')\n",
      "Trial summary\n",
      "Hyperparameters:\n",
      "learning_rate: 0.001\n",
      "batch_size: 64\n",
      "Score: 0.4859742224216461\n",
      "Trial summary\n",
      "Hyperparameters:\n",
      "learning_rate: 0.01\n",
      "batch_size: 64\n",
      "Score: 0.4757392108440399\n",
      "Trial summary\n",
      "Hyperparameters:\n",
      "learning_rate: 0.0001\n",
      "batch_size: 64\n",
      "Score: 0.47536012530326843\n",
      "Trial summary\n",
      "Hyperparameters:\n",
      "learning_rate: 0.001\n",
      "batch_size: 64\n",
      "Score: 0.4516679346561432\n",
      "Trial summary\n",
      "Hyperparameters:\n",
      "learning_rate: 0.001\n",
      "batch_size: 128\n",
      "Score: 0.4234268367290497\n",
      "None\n",
      "Model: \"sequential\"\n",
      "_________________________________________________________________\n",
      "Layer (type)                 Output Shape              Param #   \n",
      "=================================================================\n",
      "embedding (Embedding)        (None, 191, 300)          3000000   \n",
      "_________________________________________________________________\n",
      "bidirectional (Bidirectional (None, 128)               186880    \n",
      "_________________________________________________________________\n",
      "dropout (Dropout)            (None, 128)               0         \n",
      "_________________________________________________________________\n",
      "repeat_vector (RepeatVector) (None, 64, 128)           0         \n",
      "_________________________________________________________________\n",
      "bidirectional_1 (Bidirection (None, 64, 128)           98816     \n",
      "_________________________________________________________________\n",
      "time_distributed (TimeDistri (None, 64, 64)            8256      \n",
      "_________________________________________________________________\n",
      "flatten (Flatten)            (None, 4096)              0         \n",
      "_________________________________________________________________\n",
      "dense_1 (Dense)              (None, 74)                303178    \n",
      "=================================================================\n",
      "Total params: 3,597,130\n",
      "Trainable params: 3,597,130\n",
      "Non-trainable params: 0\n",
      "_________________________________________________________________\n",
      "None\n",
      "Hyperparameters for TRANSFORMER are <tensorflow.python.keras.engine.sequential.Sequential object at 0x0000021028C59888>\n",
      "{'learning_rate': 0.001, 'batch_size': 64}\n",
      "Epoch 1/25\n",
      "97/97 [==============================] - 320s 3s/step - loss: 1.4802 - accuracy: 0.5780 - val_loss: 1.3639 - val_accuracy: 0.6116\n",
      "Epoch 2/25\n",
      "97/97 [==============================] - 310s 3s/step - loss: 1.0425 - accuracy: 0.6959 - val_loss: 1.1704 - val_accuracy: 0.6729\n",
      "Epoch 3/25\n",
      "97/97 [==============================] - 322s 3s/step - loss: 0.7632 - accuracy: 0.7647 - val_loss: 1.0381 - val_accuracy: 0.7136\n",
      "Epoch 4/25\n",
      "97/97 [==============================] - 325s 3s/step - loss: 0.6304 - accuracy: 0.8056 - val_loss: 0.9735 - val_accuracy: 0.7384\n",
      "Epoch 5/25\n",
      "97/97 [==============================] - 326s 3s/step - loss: 0.5037 - accuracy: 0.8416 - val_loss: 0.9072 - val_accuracy: 0.7582\n",
      "Epoch 6/25\n",
      "97/97 [==============================] - 323s 3s/step - loss: 0.4408 - accuracy: 0.8587 - val_loss: 0.9044 - val_accuracy: 0.7595\n",
      "Epoch 7/25\n",
      "97/97 [==============================] - 334s 3s/step - loss: 0.4000 - accuracy: 0.8686 - val_loss: 0.9203 - val_accuracy: 0.7708\n",
      "Epoch 8/25\n",
      "97/97 [==============================] - 324s 3s/step - loss: 0.3646 - accuracy: 0.8798 - val_loss: 0.9069 - val_accuracy: 0.7746\n",
      "Epoch 9/25\n",
      "97/97 [==============================] - 324s 3s/step - loss: 0.3221 - accuracy: 0.8937 - val_loss: 0.8592 - val_accuracy: 0.7877\n",
      "Epoch 10/25\n",
      "97/97 [==============================] - 323s 3s/step - loss: 0.2818 - accuracy: 0.9051 - val_loss: 0.8893 - val_accuracy: 0.7947\n",
      "Epoch 11/25\n",
      "97/97 [==============================] - 322s 3s/step - loss: 0.2755 - accuracy: 0.9075 - val_loss: 0.9114 - val_accuracy: 0.8008\n",
      "Epoch 12/25\n",
      "97/97 [==============================] - 323s 3s/step - loss: 0.2595 - accuracy: 0.9132 - val_loss: 0.8844 - val_accuracy: 0.8029\n",
      "Epoch 13/25\n",
      "97/97 [==============================] - 324s 3s/step - loss: 0.2727 - accuracy: 0.9081 - val_loss: 0.8964 - val_accuracy: 0.7989\n",
      "Epoch 14/25\n",
      "97/97 [==============================] - 329s 3s/step - loss: 0.2304 - accuracy: 0.9215 - val_loss: 0.9753 - val_accuracy: 0.7980\n",
      "Epoch 15/25\n",
      "97/97 [==============================] - 334s 3s/step - loss: 0.2406 - accuracy: 0.9164 - val_loss: 0.9262 - val_accuracy: 0.8033\n"
     ]
    },
    {
     "data": {
      "image/png": "[encoded data removed]",
      "text/plain": [
       "<Figure size 432x288 with 1 Axes>"
      ]
     },
     "metadata": {
      "needs_background": "light"
     },
     "output_type": "display_data"
    },
    {
     "data": {
      "image/png": "[encoded data removed]",
      "text/plain": [
       "<Figure size 432x288 with 1 Axes>"
      ]
     },
     "metadata": {
      "needs_background": "light"
     },
     "output_type": "display_data"
    }
   ],
   "source": [
    "tuner =MyTuner(\n",
    "    TRANSFORMER_model1,\n",
    "    objective='val_accuracy',\n",
    "    max_trials=5,\n",
    "    executions_per_trial=1,\n",
    "    seed=123,\n",
    "    directory=\"C:/Hyperparameter/27p\"\n",
    ")\n",
    "\n",
    "tuner.search(X_train_aug1,y_train_aug1,validation_data=(X_test_aug1,y_test_aug1))\n",
    "print(tuner.results_summary(5))\n",
    "best_model_TRANSFORMER = tuner.get_best_models()[0]\n",
    "print(\"Hyperparameters for TRANSFORMER are\",best_model_TRANSFORMER)\n",
    "\n",
    "\n",
    "modelname=\"TRANSFORMERModel_aug1\"\n",
    "vals=tuner.oracle.get_best_trials(num_trials=1)[0].hyperparameters.values\n",
    "print(vals)\n",
    "batch_size_hyp=list(vals.values())[1]\n",
    "#epochs_hyp=list(vals.values())[2]\n",
    "history=best_model_TRANSFORMER.fit(X_train_aug1,y_train_aug1,batch_size=batch_size,epochs=epochs,validation_data=(X_test_aug1,y_test_aug1),callbacks=[early_stopping])\n",
    "plot(best_model_TRANSFORMER,history)"
   ]
  },
  {
   "cell_type": "code",
   "execution_count": 16,
   "metadata": {},
   "outputs": [
    {
     "name": "stdout",
     "output_type": "stream",
     "text": [
      "Accuracy of TRANSFORMER for level1 augmented data is : 75.90598861376444\n",
      "Training Accuracy of TRANSFORMER for level1 augmented data is: 84.38884456952412\n",
      "Mean loss of  Validation data of TRANSFORMER for level1 augmented data is : 0.9684602459271748\n",
      "Mean loss of  training data of TRANSFORMER for level1 augmented data is : 0.5005269636710484\n"
     ]
    }
   ],
   "source": [
    "#scores_TRANSFORMER_aug1 =TRANSFORMER_model1.evaluate(X_test_aug1, y_test_aug1, verbose=0)\n",
    "#scores_TRANSFORMER_val_aug1 = TRANSFORMER_model1.evaluate(X_train_aug1, y_train_aug1, verbose=0)\n",
    "print(\"Accuracy of TRANSFORMER for level1 augmented data is :\", np.array(history.history['val_accuracy']).mean()*100)\n",
    "#print(\"Validation Accuracy of TRANSFORMER for level1 augmented data is:\", (scores_TRANSFORMER_val_aug1[1]*100))\n",
    "print(\"Training Accuracy of TRANSFORMER for level1 augmented data is:\" ,np.array(history.history['accuracy']).mean()*100)\n",
    "print( \"Mean loss of  Validation data of TRANSFORMER for level1 augmented data is :\",np.array(history.history['val_loss']).mean())\n",
    "print( \"Mean loss of  training data of TRANSFORMER for level1 augmented data is :\",np.array(history.history['loss']).mean())"
   ]
  },
  {
   "cell_type": "code",
   "execution_count": 17,
   "metadata": {},
   "outputs": [
    {
     "name": "stdout",
     "output_type": "stream",
     "text": [
      "Trial 5 Complete [00h 08m 43s]\n",
      "val_accuracy: 0.6217572093009949\n",
      "\n",
      "Best val_accuracy So Far: 0.6336073279380798\n",
      "Total elapsed time: 00h 48m 20s\n",
      "INFO:tensorflow:Oracle triggered exit\n",
      "Results summary\n",
      "Results in C:/Hyperparameter/27k\\untitled_project\n",
      "Showing 5 best trials\n",
      "Objective(name='val_accuracy', direction='max')\n",
      "Trial summary\n",
      "Hyperparameters:\n",
      "learning_rate: 0.01\n",
      "batch_size: 64\n",
      "Score: 0.6336073279380798\n",
      "Trial summary\n",
      "Hyperparameters:\n",
      "learning_rate: 0.01\n",
      "batch_size: 64\n",
      "Score: 0.6288032531738281\n",
      "Trial summary\n",
      "Hyperparameters:\n",
      "learning_rate: 0.01\n",
      "batch_size: 64\n",
      "Score: 0.6217572093009949\n",
      "Trial summary\n",
      "Hyperparameters:\n",
      "learning_rate: 0.0001\n",
      "batch_size: 64\n",
      "Score: 0.6038219332695007\n",
      "Trial summary\n",
      "Hyperparameters:\n",
      "learning_rate: 0.001\n",
      "batch_size: 128\n",
      "Score: 0.5834311842918396\n",
      "None\n",
      "Model: \"sequential\"\n",
      "_________________________________________________________________\n",
      "Layer (type)                 Output Shape              Param #   \n",
      "=================================================================\n",
      "embedding (Embedding)        (None, 191, 300)          3000000   \n",
      "_________________________________________________________________\n",
      "bidirectional (Bidirectional (None, 128)               186880    \n",
      "_________________________________________________________________\n",
      "dropout (Dropout)            (None, 128)               0         \n",
      "_________________________________________________________________\n",
      "repeat_vector (RepeatVector) (None, 64, 128)           0         \n",
      "_________________________________________________________________\n",
      "bidirectional_1 (Bidirection (None, 64, 128)           98816     \n",
      "_________________________________________________________________\n",
      "time_distributed (TimeDistri (None, 64, 64)            8256      \n",
      "_________________________________________________________________\n",
      "flatten (Flatten)            (None, 4096)              0         \n",
      "_________________________________________________________________\n",
      "dense_1 (Dense)              (None, 74)                303178    \n",
      "=================================================================\n",
      "Total params: 3,597,130\n",
      "Trainable params: 3,597,130\n",
      "Non-trainable params: 0\n",
      "_________________________________________________________________\n",
      "None\n",
      "Hyperparameters for TRANSFORMER are <tensorflow.python.keras.engine.sequential.Sequential object at 0x000002100D7BE888>\n",
      "{'learning_rate': 0.01, 'batch_size': 64}\n",
      "Epoch 1/25\n",
      "171/171 [==============================] - 753s 4s/step - loss: 0.9284 - accuracy: 0.7240 - val_loss: 0.8194 - val_accuracy: 0.7661\n",
      "Epoch 2/25\n",
      "171/171 [==============================] - 750s 4s/step - loss: 0.6426 - accuracy: 0.8034 - val_loss: 0.6881 - val_accuracy: 0.7993\n",
      "Epoch 3/25\n",
      "171/171 [==============================] - 740s 4s/step - loss: 0.4912 - accuracy: 0.8479 - val_loss: 0.6182 - val_accuracy: 0.8221\n",
      "Epoch 4/25\n",
      "171/171 [==============================] - 745s 4s/step - loss: 0.4176 - accuracy: 0.8696 - val_loss: 0.5633 - val_accuracy: 0.8380\n",
      "Epoch 5/25\n",
      "171/171 [==============================] - 742s 4s/step - loss: 0.3691 - accuracy: 0.8799 - val_loss: 0.5474 - val_accuracy: 0.8403\n",
      "Epoch 6/25\n",
      "171/171 [==============================] - 741s 4s/step - loss: 0.3238 - accuracy: 0.8925 - val_loss: 0.5457 - val_accuracy: 0.8468\n",
      "Epoch 7/25\n",
      "171/171 [==============================] - 736s 4s/step - loss: 0.3031 - accuracy: 0.8999 - val_loss: 0.5237 - val_accuracy: 0.8534\n",
      "Epoch 8/25\n",
      "171/171 [==============================] - 732s 4s/step - loss: 0.2694 - accuracy: 0.9108 - val_loss: 0.5430 - val_accuracy: 0.8478\n",
      "Epoch 9/25\n",
      "171/171 [==============================] - 709s 4s/step - loss: 0.2654 - accuracy: 0.9113 - val_loss: 0.5437 - val_accuracy: 0.8517\n",
      "Epoch 10/25\n",
      "171/171 [==============================] - 734s 4s/step - loss: 0.2448 - accuracy: 0.9175 - val_loss: 0.5332 - val_accuracy: 0.8593\n",
      "Epoch 11/25\n",
      "171/171 [==============================] - 689s 4s/step - loss: 0.2304 - accuracy: 0.9213 - val_loss: 0.5265 - val_accuracy: 0.8646\n",
      "Epoch 12/25\n",
      "171/171 [==============================] - 720s 4s/step - loss: 0.2240 - accuracy: 0.9242 - val_loss: 0.5621 - val_accuracy: 0.8584\n",
      "Epoch 13/25\n",
      "171/171 [==============================] - 733s 4s/step - loss: 0.2152 - accuracy: 0.9263 - val_loss: 0.5392 - val_accuracy: 0.8631\n",
      "Epoch 14/25\n",
      "171/171 [==============================] - 704s 4s/step - loss: 0.2122 - accuracy: 0.9278 - val_loss: 0.5460 - val_accuracy: 0.8606\n"
     ]
    },
    {
     "data": {
      "image/png": "[encoded data removed]",
      "text/plain": [
       "<Figure size 432x288 with 1 Axes>"
      ]
     },
     "metadata": {
      "needs_background": "light"
     },
     "output_type": "display_data"
    },
    {
     "data": {
      "image/png": "[encoded data removed]",
      "text/plain": [
       "<Figure size 432x288 with 1 Axes>"
      ]
     },
     "metadata": {
      "needs_background": "light"
     },
     "output_type": "display_data"
    }
   ],
   "source": [
    "tuner =MyTuner(\n",
    "    TRANSFORMER_model1,\n",
    "    objective='val_accuracy',\n",
    "    max_trials=5,\n",
    "    executions_per_trial=1,\n",
    "    seed=123,\n",
    "    directory=\"C:/Hyperparameter/27k\"\n",
    ")\n",
    "\n",
    "tuner.search(X_train_aug2,y_train_aug2,validation_data=(X_test_aug2,y_test_aug2))\n",
    "print(tuner.results_summary(5))\n",
    "best_model_TRANSFORMER = tuner.get_best_models()[0]\n",
    "print(\"Hyperparameters for TRANSFORMER are\",best_model_TRANSFORMER)\n",
    "\n",
    "\n",
    "modelname=\"TRANSFORMERModel_aug2\"\n",
    "vals=tuner.oracle.get_best_trials(num_trials=1)[0].hyperparameters.values\n",
    "print(vals)\n",
    "batch_size_hyp=list(vals.values())[1]\n",
    "#epochs_hyp=list(vals.values())[2]\n",
    "history=best_model_TRANSFORMER.fit(X_train_aug2,y_train_aug2,batch_size=batch_size,epochs=epochs,validation_data=(X_test_aug2,y_test_aug2),callbacks=[early_stopping])\n",
    "plot(best_model_TRANSFORMER,history)"
   ]
  },
  {
   "cell_type": "code",
   "execution_count": 18,
   "metadata": {},
   "outputs": [
    {
     "name": "stdout",
     "output_type": "stream",
     "text": [
      "Accuracy of TRANSFORMER for level2 augmented data is : 84.08317991665432\n",
      "Training Accuracy of TRANSFORMER for level2 augmented data is: 88.25811616012028\n",
      "Mean loss of  Validation data of TRANSFORMER for level2 augmented data is : 0.578521945646831\n",
      "Mean loss of  training data of TRANSFORMER for level2 augmented data is : 0.3669589225734983\n"
     ]
    }
   ],
   "source": [
    "\n",
    "print(\"Accuracy of TRANSFORMER for level2 augmented data is :\", np.array(history.history['val_accuracy']).mean()*100)\n",
    "#print(\"Validation Accuracy of TRANSFORMER for level2 augmented data is:\", (scores_TRANSFORMER_val_aug2[1]*100))\n",
    "print(\"Training Accuracy of TRANSFORMER for level2 augmented data is:\" ,np.array(history.history['accuracy']).mean()*100)\n",
    "print( \"Mean loss of  Validation data of TRANSFORMER for level2 augmented data is :\",np.array(history.history['val_loss']).mean())\n",
    "print( \"Mean loss of  training data of TRANSFORMER for level2 augmented data is :\",np.array(history.history['loss']).mean())\n"
   ]
  },
  {
   "cell_type": "code",
   "execution_count": null,
   "metadata": {},
   "outputs": [],
   "source": []
  }
 ],
 "metadata": {
  "kernelspec": {
   "display_name": "Python 3",
   "language": "python",
   "name": "python3"
  },
  "language_info": {
   "codemirror_mode": {
    "name": "ipython",
    "version": 3
   },
   "file_extension": ".py",
   "mimetype": "text/x-python",
   "name": "python",
   "nbconvert_exporter": "python",
   "pygments_lexer": "ipython3",
   "version": "3.7.6"
  }
 },
 "nbformat": 4,
 "nbformat_minor": 4
}
