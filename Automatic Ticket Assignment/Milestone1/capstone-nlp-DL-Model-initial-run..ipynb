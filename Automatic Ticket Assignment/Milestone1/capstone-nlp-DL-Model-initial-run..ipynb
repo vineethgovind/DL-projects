{
 "cells": [
  {
   "cell_type": "code",
   "execution_count": 1,
   "metadata": {
    "colab": {
     "base_uri": "https://localhost:8080/",
     "height": 140,
     "resources": {
      "http://localhost:8080/nbextensions/google.colab/files.js": {
       "data": "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",
       "headers": [
        [
         "content-type",
         "application/javascript"
        ]
       ],
       "ok": true,
       "status": 200,
       "status_text": ""
      }
     }
    },
    "id": "ZiCE-P5OMSi5",
    "outputId": "b7663a55-ab7e-467c-eeef-938bd0b35634"
   },
   "outputs": [],
   "source": [
    "#comment out if not using colab\n",
    "#from google.colab import files\n",
    "#uploaded = files.upload()"
   ]
  },
  {
   "cell_type": "code",
   "execution_count": 2,
   "metadata": {
    "id": "5pjokHDIMxvG"
   },
   "outputs": [],
   "source": [
    "import tensorflow as tf \n",
    "from tensorflow.keras.preprocessing.sequence import pad_sequences\n",
    "from tensorflow.keras import layers\n",
    "from tensorflow.keras.layers import Embedding,LSTM,TimeDistributed,Dense,Flatten,Dropout,RepeatVector,GRU,Bidirectional\n",
    "from tensorflow.keras.utils import to_categorical\n",
    "from tensorflow.keras.models import Sequential\n",
    "from tensorflow.keras.preprocessing.text import Tokenizer\n",
    "from tensorflow.keras.callbacks import ModelCheckpoint, EarlyStopping\n",
    "import numpy as np\n",
    "import pandas as pd\n",
    "from sklearn.model_selection import train_test_split\n",
    "import matplotlib.pyplot as plt\n",
    "import kerastuner as kt\n",
    "from kerastuner.tuners import BayesianOptimization\n",
    "from tensorflow.keras.optimizers import Adam,SGD,RMSprop"
   ]
  },
  {
   "cell_type": "code",
   "execution_count": 3,
   "metadata": {},
   "outputs": [
    {
     "name": "stdout",
     "output_type": "stream",
     "text": [
      "TensorFlow Version: 2.5.0-dev20201211\n",
      "Default GPU Device: /device:GPU:0\n"
     ]
    }
   ],
   "source": [
    "from distutils.version import LooseVersion\n",
    "\n",
    "# Check TensorFlow Version\n",
    "assert LooseVersion(tf.__version__) >= LooseVersion('1.0'), 'Please use TensorFlow version 1.0 or newer.  You are using {}'.format(tf.__version__)\n",
    "print('TensorFlow Version: {}'.format(tf.__version__))\n",
    "\n",
    "# Check for a GPU\n",
    "if not tf.test.gpu_device_name():\n",
    "    warnings.warn('No GPU found. Please ensure you have installed TensorFlow correctly')\n",
    "else:\n",
    "    print('Default GPU Device: {}'.format(tf.test.gpu_device_name()))"
   ]
  },
  {
   "cell_type": "code",
   "execution_count": 4,
   "metadata": {},
   "outputs": [
    {
     "name": "stdout",
     "output_type": "stream",
     "text": [
      "   Unnamed: 0  Unnamed: 0.1  \\\n",
      "0           0             0   \n",
      "1           1             1   \n",
      "2           2             2   \n",
      "3           3             3   \n",
      "4           4             4   \n",
      "\n",
      "                        Combined Description Cleaned Assignment group  \n",
      "0  login issue user manager name checked the name...            GRP_0  \n",
      "1  outlook received from hello team my are not in...            GRP_0  \n",
      "2    cannot log in to received from   cannot on best            GRP_0  \n",
      "3                         unable to access tool page            GRP_0  \n",
      "4                                              error            GRP_0  \n",
      "   Unnamed: 0                       Combined Description Cleaned  \\\n",
      "0           0  login issue user manager name checked the name...   \n",
      "1           1  outlook received from hello team my are not in...   \n",
      "2           2  cannot log in to received from hi i cannot on ...   \n",
      "3           3                         unable to access tool page   \n",
      "4           4                                              error   \n",
      "\n",
      "  Assignment group  LabelEncodings  \n",
      "0            GRP_0               0  \n",
      "1            GRP_0               0  \n",
      "2            GRP_0               0  \n",
      "3            GRP_0               0  \n",
      "4            GRP_0               0  \n",
      "   Unnamed: 0                       Combined Description Cleaned  \\\n",
      "0           0  login issue user manager name checked the name...   \n",
      "1           1  outlook received from hello team my are not in...   \n",
      "2           2  cannot log in to received from hi i cannot on ...   \n",
      "3           3                         unable to access tool page   \n",
      "4           4                                              error   \n",
      "\n",
      "  Assignment group  LabelEncodings  \n",
      "0            GRP_0               0  \n",
      "1            GRP_0               0  \n",
      "2            GRP_0               0  \n",
      "3            GRP_0               0  \n",
      "4            GRP_0               0  \n"
     ]
    }
   ],
   "source": [
    "filename='../datasets/pre_data_dl.csv'\n",
    "data_dl=pd.read_csv(filename)\n",
    "#pd.set_option('display.max_columns', None)\n",
    "print(data_dl.head())\n",
    "filename1='../datasets/pre_data_dl_aug1.csv'\n",
    "filename2='../datasets/pre_data_dl_aug2.csv'\n",
    "data_dl_aug1=pd.read_csv(filename1)\n",
    "pd.set_option('display.max_columns', None)\n",
    "print(data_dl_aug1.head())\n",
    "data_dl_aug2=pd.read_csv(filename2)\n",
    "print(data_dl_aug2.head())"
   ]
  },
  {
   "cell_type": "code",
   "execution_count": 5,
   "metadata": {
    "colab": {
     "base_uri": "https://localhost:8080/"
    },
    "id": "rx9PWnpTM6AX",
    "outputId": "57d86986-f094-4ad7-8df2-9029d2b0c934"
   },
   "outputs": [],
   "source": [
    "adam=Adam()\n",
    "sgd=SGD()\n",
    "rmsprop=RMSprop()"
   ]
  },
  {
   "cell_type": "code",
   "execution_count": 6,
   "metadata": {
    "id": "FhdP0_KfNHwp"
   },
   "outputs": [],
   "source": [
    "X = (data_dl[\"Combined Description Cleaned\"])\n",
    "y= (data_dl['Assignment group'])\n",
    "\n",
    "#categorical encoding y\n",
    "y=pd.get_dummies(data_dl['Assignment group'])\n",
    "  "
   ]
  },
  {
   "cell_type": "code",
   "execution_count": 7,
   "metadata": {
    "id": "Fqd83yuiPAqX"
   },
   "outputs": [],
   "source": [
    "#parameters\n",
    "max_features=10000\n",
    "emb_dim=300\n",
    "batch_size=1024\n",
    "epochs=10"
   ]
  },
  {
   "cell_type": "code",
   "execution_count": 8,
   "metadata": {
    "colab": {
     "base_uri": "https://localhost:8080/"
    },
    "id": "MG-QMXN9PSOI",
    "outputId": "0e732431-fca2-4c43-9409-fc43b1ca0846"
   },
   "outputs": [
    {
     "name": "stdout",
     "output_type": "stream",
     "text": [
      "vocabulary size is:  3316\n"
     ]
    }
   ],
   "source": [
    "#function for tokenizer\n",
    "def dfTokenizer(df):\n",
    " tokenizer=Tokenizer(num_words=max_features,char_level=False)\n",
    " tokenizer.fit_on_texts(df)\n",
    " sequences=tokenizer.texts_to_sequences(df)\n",
    " return sequences,tokenizer\n",
    "#tokenization\n",
    "X,tokenizer = dfTokenizer(data_dl[\"Combined Description Cleaned\"]) \n",
    "vocab_size=len(tokenizer.word_index)\n",
    "print(\"vocabulary size is: \",vocab_size)"
   ]
  },
  {
   "cell_type": "code",
   "execution_count": 9,
   "metadata": {
    "id": "UyKA-0KUQD1N"
   },
   "outputs": [],
   "source": [
    "#function for padding\n",
    "def pad(x, length=None):\n",
    " if length is None:\n",
    "   length=max([len(sentence)  for sentence in x])\n",
    " return pad_sequences(x,maxlen=length,padding='post')\n",
    " \n",
    " #padding \n",
    "X=pad_sequences(X,padding='post')"
   ]
  },
  {
   "cell_type": "code",
   "execution_count": 10,
   "metadata": {
    "id": "lbNRE75PQec1"
   },
   "outputs": [],
   "source": [
    "#function for splitting the data\n",
    "def split(X,y):\n",
    " X_train_spl,X_test_spl,y_train_spl,y_test_spl=train_test_split(X,y,test_size=0.2,random_state=123)\n",
    " return X_train_spl,X_test_spl,y_train_spl,y_test_spl\n",
    "#split the data\n",
    "X_train,X_test,y_train,y_test=split(X,y)\n"
   ]
  },
  {
   "cell_type": "code",
   "execution_count": 11,
   "metadata": {
    "id": "ZwcC9_SjrSQ6"
   },
   "outputs": [],
   "source": [
    "#configuring the callback\n",
    "early_stopping =  EarlyStopping(\n",
    "    monitor='val_accuracy', \n",
    "    patience=3, \n",
    "    min_delta=0.01, \n",
    "    mode='max'\n",
    ")"
   ]
  },
  {
   "cell_type": "code",
   "execution_count": 12,
   "metadata": {
    "colab": {
     "base_uri": "https://localhost:8080/"
    },
    "id": "kcLvbfIj6-2p",
    "outputId": "0df1896a-1b07-4d3b-885a-71bfafe4c537"
   },
   "outputs": [
    {
     "name": "stdout",
     "output_type": "stream",
     "text": [
      "189\n"
     ]
    }
   ],
   "source": [
    "#function for plotting accuracy,loss\n",
    "def plot(model,history):\n",
    " acc = history.history['accuracy']\n",
    " val_acc = history.history['val_accuracy']\n",
    " loss = history.history['loss']\n",
    " val_loss = history.history['val_loss']\n",
    " epochs = range(1, len(acc) + 1)\n",
    " plt.plot(epochs, acc, 'bo', label='Training acc')\n",
    " plt.plot(epochs, val_acc, 'b', label='Validation acc')\n",
    " plt.title(modelname + ' Training and validation accuracy')\n",
    " plt.legend()\n",
    " plt.figure()\n",
    " plt.plot(epochs, loss, 'bo', label='Training loss')\n",
    " plt.plot(epochs, val_loss, 'b', label='Validation loss')\n",
    " plt.title('Training and validation loss')\n",
    " plt.legend()\n",
    " plt.show()\n",
    " return \n",
    "inp_len=X.shape[1]\n",
    "print(inp_len)"
   ]
  },
  {
   "cell_type": "code",
   "execution_count": 13,
   "metadata": {
    "id": "dZxJb6ugQp-j"
   },
   "outputs": [],
   "source": [
    "#Simple LSTM model\n",
    "def LSTM_model(hp):\n",
    " model = tf.keras.Sequential()\n",
    " model.add(Embedding(max_features,emb_dim,input_length=inp_len))\n",
    " model.add(LSTM(512, return_sequences=True))\n",
    " model.add(Dropout(0.2))\n",
    " model.add(TimeDistributed(Dense(units = 512, activation = 'relu')))\n",
    " model.add(Flatten())\n",
    " model.add(Dense(74, activation='softmax'))\n",
    " print(model.summary())\n",
    " lr = hp.Choice('learning_rate', [1e-2, 1e-3, 1e-4])\n",
    " optimizer = hp.Choice('optimizer', ['adam', 'sgd', 'rmsprop'])\n",
    " model.compile(optimizer=optimizer,\n",
    "              loss='categorical_crossentropy',\n",
    "              metrics=['accuracy'])\n",
    " return model\n",
    " "
   ]
  },
  {
   "cell_type": "code",
   "execution_count": 14,
   "metadata": {
    "id": "dZxJb6ugQp-j"
   },
   "outputs": [],
   "source": [
    "#customising the kerastuner function to include batch size and epochs\n",
    "class MyTuner(kt.tuners.BayesianOptimization):\n",
    "  def run_trial(self, trial, *args, **kwargs):\n",
    "     kwargs['batch_size'] = trial.hyperparameters.Int('batch_size', 256, 512,step=256 )\n",
    "     kwargs['epochs'] = trial.hyperparameters.Int('epochs', 5, 10,20)\n",
    "     super(MyTuner, self).run_trial(trial, *args, **kwargs)"
   ]
  },
  {
   "cell_type": "code",
   "execution_count": 15,
   "metadata": {
    "colab": {
     "base_uri": "https://localhost:8080/",
     "height": 1000
    },
    "id": "AlELfXNMvHj4",
    "outputId": "2889f402-2598-49b3-f808-cb07cbea18e7"
   },
   "outputs": [
    {
     "name": "stdout",
     "output_type": "stream",
     "text": [
      "Trial 15 Complete [00h 00m 10s]\n",
      "val_accuracy: 0.5721862316131592\n",
      "\n",
      "Best val_accuracy So Far: 0.5987036228179932\n",
      "Total elapsed time: 00h 02m 40s\n",
      "INFO:tensorflow:Oracle triggered exit\n",
      "Results summary\n",
      "Results in C:/Hyperparameter/1/untitled_project\n",
      "Showing 5 best trials\n",
      "Objective(name='val_accuracy', direction='max')\n",
      "Trial summary\n",
      "Hyperparameters:\n",
      "learning_rate: 0.001\n",
      "batch_size: 256\n",
      "epochs: 5\n",
      "optimizer: rmsprop\n",
      "Score: 0.5987036228179932\n",
      "Trial summary\n",
      "Hyperparameters:\n",
      "learning_rate: 0.001\n",
      "batch_size: 256\n",
      "epochs: 5\n",
      "optimizer: adam\n",
      "Score: 0.5975250601768494\n",
      "Trial summary\n",
      "Hyperparameters:\n",
      "learning_rate: 0.01\n",
      "batch_size: 256\n",
      "epochs: 5\n",
      "optimizer: adam\n",
      "Score: 0.5910429954528809\n",
      "Trial summary\n",
      "Hyperparameters:\n",
      "learning_rate: 0.001\n",
      "batch_size: 256\n",
      "epochs: 5\n",
      "optimizer: rmsprop\n",
      "Score: 0.5863288044929504\n",
      "Trial summary\n",
      "Hyperparameters:\n",
      "learning_rate: 0.0001\n",
      "batch_size: 256\n",
      "epochs: 5\n",
      "optimizer: adam\n",
      "Score: 0.5851502418518066\n",
      "None\n",
      "Model: \"sequential\"\n",
      "_________________________________________________________________\n",
      "Layer (type)                 Output Shape              Param #   \n",
      "=================================================================\n",
      "embedding (Embedding)        (None, 189, 300)          3000000   \n",
      "_________________________________________________________________\n",
      "lstm (LSTM)                  (None, 189, 512)          1665024   \n",
      "_________________________________________________________________\n",
      "dropout (Dropout)            (None, 189, 512)          0         \n",
      "_________________________________________________________________\n",
      "time_distributed (TimeDistri (None, 189, 512)          262656    \n",
      "_________________________________________________________________\n",
      "flatten (Flatten)            (None, 96768)             0         \n",
      "_________________________________________________________________\n",
      "dense_1 (Dense)              (None, 74)                7160906   \n",
      "=================================================================\n",
      "Total params: 12,088,586\n",
      "Trainable params: 12,088,586\n",
      "Non-trainable params: 0\n",
      "_________________________________________________________________\n",
      "None\n",
      "Hyperparameters for LSTM are <tensorflow.python.keras.engine.sequential.Sequential object at 0x7f2110098d30>\n",
      "{'learning_rate': 0.001, 'batch_size': 256, 'epochs': 5, 'optimizer': 'rmsprop'}\n",
      "Epoch 1/5\n",
      "27/27 [==============================] - 3s 68ms/step - loss: 1.3670 - accuracy: 0.6427 - val_loss: 1.9908 - val_accuracy: 0.5398\n",
      "Epoch 2/5\n",
      "27/27 [==============================] - 2s 59ms/step - loss: 1.2042 - accuracy: 0.6802 - val_loss: 1.8325 - val_accuracy: 0.5492\n",
      "Epoch 3/5\n",
      "27/27 [==============================] - 2s 59ms/step - loss: 1.0191 - accuracy: 0.7193 - val_loss: 2.0421 - val_accuracy: 0.5321\n",
      "Epoch 4/5\n",
      "27/27 [==============================] - 2s 60ms/step - loss: 0.8289 - accuracy: 0.7623 - val_loss: 2.1069 - val_accuracy: 0.5527\n",
      "Epoch 5/5\n",
      "27/27 [==============================] - 2s 60ms/step - loss: 0.7087 - accuracy: 0.7897 - val_loss: 2.2175 - val_accuracy: 0.5893\n"
     ]
    },
    {
     "data": {
      "image/png": "[encoded data removed]",
      "text/plain": [
       "<Figure size 432x288 with 1 Axes>"
      ]
     },
     "metadata": {
      "needs_background": "light"
     },
     "output_type": "display_data"
    },
    {
     "data": {
      "image/png": "[encoded data removed]",
      "text/plain": [
       "<Figure size 432x288 with 1 Axes>"
      ]
     },
     "metadata": {
      "needs_background": "light"
     },
     "output_type": "display_data"
    },
    {
     "name": "stdout",
     "output_type": "stream",
     "text": [
      "Accuracy of LSTM for unaugmented data is : 58.927518129348755\n",
      "Validation Accuracy of LSTM for unagumented data is: 81.32370114326477\n",
      "Mean loss of  Validation data of LSTM for unaugmented data is : 2.037966322898865\n",
      "Mean loss of  Training data of LSTM for unaugmented data is : 1.0199706315994264\n"
     ]
    }
   ],
   "source": [
    "tuner =MyTuner(\n",
    "    LSTM_model,\n",
    "    objective='val_accuracy',\n",
    "    max_trials=25,\n",
    "    executions_per_trial=1,\n",
    "    seed=123,\n",
    "    directory=\"C:/Hyperparameter/1\"\n",
    ")\n",
    "\n",
    "tuner.search(X_train,y_train,validation_data=(X_test,y_test))\n",
    "print(tuner.results_summary(5))\n",
    "best_model_LSTM = tuner.get_best_models()[0]\n",
    "print(\"Hyperparameters for LSTM are\",best_model_LSTM)\n",
    "\n",
    "\n",
    "modelname=\"LSTMModel\"\n",
    "vals=tuner.oracle.get_best_trials(num_trials=1)[0].hyperparameters.values\n",
    "print(vals)\n",
    "batch_size_hyp=list(vals.values())[1]\n",
    "epochs_hyp=list(vals.values())[2]\n",
    "history=best_model_LSTM.fit(X_train,y_train,batch_size=batch_size_hyp,epochs=epochs_hyp,validation_data=(X_test,y_test),callbacks=[early_stopping])\n",
    "plot(best_model_LSTM,history)\n",
    "\n",
    "scores_LSTM =best_model_LSTM.evaluate(X_test, y_test, verbose=0)\n",
    "scores_LSTM_val = best_model_LSTM.evaluate(X_train, y_train, verbose=0)\n",
    "print(\"Accuracy of LSTM for unaugmented data is :\", (scores_LSTM[1]*100))\n",
    "print(\"Validation Accuracy of LSTM for unagumented data is:\", (scores_LSTM_val[1]*100))\n",
    "#print(\"Validation Accuracy of LSTM for unagumented data is:\" ,np.array(history.history['val_acc']).mean()*100)\n",
    "print( \"Mean loss of  Validation data of LSTM for unaugmented data is :\",np.array(history.history['val_loss']).mean())\n",
    "print( \"Mean loss of  Training data of LSTM for unaugmented data is :\",np.array(history.history['loss']).mean())"
   ]
  },
  {
   "cell_type": "code",
   "execution_count": 16,
   "metadata": {
    "id": "nCUZrTkTRR7A"
   },
   "outputs": [],
   "source": [
    "#Using GRU\n",
    "def GRU_model(hp):\n",
    " model = tf.keras.Sequential()\n",
    " model.add(Embedding(max_features,emb_dim,input_length=inp_len))\n",
    " model.add(GRU(512, return_sequences=True))\n",
    " model.add(Dropout(0.2))\n",
    " model.add(TimeDistributed(Dense(units = 512, activation = 'relu')))\n",
    " model.add(Flatten())\n",
    " model.add(Dense(74, activation='softmax'))\n",
    " print(model.summary())\n",
    " lr = hp.Choice('learning_rate', [1e-2, 1e-3, 1e-4])\n",
    " optimizer = hp.Choice('optimizer', ['adam', 'sgd', 'rmsprop'])\n",
    " model.compile(optimizer=optimizer,\n",
    "              loss='categorical_crossentropy',\n",
    "              metrics=['accuracy'])\n",
    " return model\n",
    "\n"
   ]
  },
  {
   "cell_type": "code",
   "execution_count": 17,
   "metadata": {
    "colab": {
     "base_uri": "https://localhost:8080/",
     "height": 1000
    },
    "id": "kUE4Fla4vktV",
    "outputId": "8780f068-fa52-4d5c-8389-1ac88e3f341d"
   },
   "outputs": [
    {
     "name": "stdout",
     "output_type": "stream",
     "text": [
      "Trial 15 Complete [00h 00m 09s]\n",
      "val_accuracy: 0.5763111114501953\n",
      "\n",
      "Best val_accuracy So Far: 0.601060688495636\n",
      "Total elapsed time: 00h 02m 33s\n",
      "INFO:tensorflow:Oracle triggered exit\n",
      "Results summary\n",
      "Results in C:/Hyperparameter/2/untitled_project\n",
      "Showing 5 best trials\n",
      "Objective(name='val_accuracy', direction='max')\n",
      "Trial summary\n",
      "Hyperparameters:\n",
      "learning_rate: 0.001\n",
      "batch_size: 256\n",
      "epochs: 5\n",
      "optimizer: rmsprop\n",
      "Score: 0.601060688495636\n",
      "Trial summary\n",
      "Hyperparameters:\n",
      "learning_rate: 0.001\n",
      "batch_size: 256\n",
      "epochs: 5\n",
      "optimizer: rmsprop\n",
      "Score: 0.593989372253418\n",
      "Trial summary\n",
      "Hyperparameters:\n",
      "learning_rate: 0.001\n",
      "batch_size: 256\n",
      "epochs: 5\n",
      "optimizer: rmsprop\n",
      "Score: 0.5934001207351685\n",
      "Trial summary\n",
      "Hyperparameters:\n",
      "learning_rate: 0.0001\n",
      "batch_size: 256\n",
      "epochs: 5\n",
      "optimizer: adam\n",
      "Score: 0.5869181156158447\n",
      "Trial summary\n",
      "Hyperparameters:\n",
      "learning_rate: 0.001\n",
      "batch_size: 256\n",
      "epochs: 5\n",
      "optimizer: rmsprop\n",
      "Score: 0.5839717388153076\n",
      "None\n",
      "Model: \"sequential\"\n",
      "_________________________________________________________________\n",
      "Layer (type)                 Output Shape              Param #   \n",
      "=================================================================\n",
      "embedding (Embedding)        (None, 189, 300)          3000000   \n",
      "_________________________________________________________________\n",
      "gru (GRU)                    (None, 189, 512)          1250304   \n",
      "_________________________________________________________________\n",
      "dropout (Dropout)            (None, 189, 512)          0         \n",
      "_________________________________________________________________\n",
      "time_distributed (TimeDistri (None, 189, 512)          262656    \n",
      "_________________________________________________________________\n",
      "flatten (Flatten)            (None, 96768)             0         \n",
      "_________________________________________________________________\n",
      "dense_1 (Dense)              (None, 74)                7160906   \n",
      "=================================================================\n",
      "Total params: 11,673,866\n",
      "Trainable params: 11,673,866\n",
      "Non-trainable params: 0\n",
      "_________________________________________________________________\n",
      "None\n",
      "Hyperparameters for GRU are <tensorflow.python.keras.engine.sequential.Sequential object at 0x7f213c118a60>\n",
      "{'learning_rate': 0.001, 'batch_size': 256, 'epochs': 5, 'optimizer': 'rmsprop'}\n",
      "Epoch 1/5\n",
      "27/27 [==============================] - 3s 63ms/step - loss: 0.9985 - accuracy: 0.7207 - val_loss: 1.9354 - val_accuracy: 0.5557\n",
      "Epoch 2/5\n",
      "27/27 [==============================] - 1s 55ms/step - loss: 0.8688 - accuracy: 0.7484 - val_loss: 2.0771 - val_accuracy: 0.5922\n",
      "Epoch 3/5\n",
      "27/27 [==============================] - 1s 54ms/step - loss: 0.7084 - accuracy: 0.7970 - val_loss: 2.1576 - val_accuracy: 0.5687\n",
      "Epoch 4/5\n",
      "27/27 [==============================] - 2s 56ms/step - loss: 0.6481 - accuracy: 0.8210 - val_loss: 2.4163 - val_accuracy: 0.5822\n",
      "Epoch 5/5\n",
      "27/27 [==============================] - 2s 58ms/step - loss: 0.5047 - accuracy: 0.8458 - val_loss: 2.5995 - val_accuracy: 0.5828\n"
     ]
    },
    {
     "data": {
      "image/png": "[encoded data removed]",
      "text/plain": [
       "<Figure size 432x288 with 1 Axes>"
      ]
     },
     "metadata": {
      "needs_background": "light"
     },
     "output_type": "display_data"
    },
    {
     "data": {
      "image/png": "[encoded data removed]",
      "text/plain": [
       "<Figure size 432x288 with 1 Axes>"
      ]
     },
     "metadata": {
      "needs_background": "light"
     },
     "output_type": "display_data"
    },
    {
     "name": "stdout",
     "output_type": "stream",
     "text": [
      "Accuracy of GRU for unaugmented data is : 58.27931761741638\n",
      "Validation Accuracy of GRU for unagumented data is: 86.86615824699402\n",
      "Mean loss of  Validation data of GRU for unaugmented data is : 2.237177324295044\n",
      "Mean loss of  Training data of GRU for unaugmented data is : 0.757444190979004\n"
     ]
    }
   ],
   "source": [
    "tuner =MyTuner(\n",
    "    GRU_model,\n",
    "    objective='val_accuracy',\n",
    "    max_trials=25,\n",
    "    executions_per_trial=1,\n",
    "    seed=123,\n",
    "    directory=\"C:/Hyperparameter/2\"\n",
    ")\n",
    "\n",
    "tuner.search(X_train,y_train,validation_data=(X_test,y_test))\n",
    "print(tuner.results_summary(5))\n",
    "best_model_GRU = tuner.get_best_models()[0]\n",
    "print(\"Hyperparameters for GRU are\",best_model_GRU)\n",
    "\n",
    "\n",
    "modelname=\"GRUModel\"\n",
    "vals=tuner.oracle.get_best_trials(num_trials=1)[0].hyperparameters.values\n",
    "print(vals)\n",
    "batch_size_hyp=list(vals.values())[1]\n",
    "epochs_hyp=list(vals.values())[2]\n",
    "history=best_model_GRU.fit(X_train,y_train,batch_size=batch_size_hyp,epochs=epochs_hyp,validation_data=(X_test,y_test),callbacks=[early_stopping])\n",
    "plot(best_model_GRU,history)\n",
    "\n",
    "scores_GRU =best_model_GRU.evaluate(X_test, y_test, verbose=0)\n",
    "scores_GRU_val = best_model_GRU.evaluate(X_train, y_train, verbose=0)\n",
    "print(\"Accuracy of GRU for unaugmented data is :\", (scores_GRU[1]*100))\n",
    "print(\"Validation Accuracy of GRU for unagumented data is:\", (scores_GRU_val[1]*100))\n",
    "#print(\"Validation Accuracy of GRU for unagumented data is:\" ,np.array(history.history['val_acc']).mean()*100)\n",
    "print( \"Mean loss of  Validation data of GRU for unaugmented data is :\",np.array(history.history['val_loss']).mean())\n",
    "print( \"Mean loss of  Training data of GRU for unaugmented data is :\",np.array(history.history['loss']).mean())\n"
   ]
  },
  {
   "cell_type": "code",
   "execution_count": 18,
   "metadata": {
    "id": "hgtP0GddRgIG"
   },
   "outputs": [],
   "source": [
    "#Using bidirectional LSTM\n",
    "\n",
    "def BILSTM_model(hp):\n",
    " model = tf.keras.Sequential()\n",
    " model.add(Embedding(max_features,emb_dim,input_length=inp_len))\n",
    " model.add(Bidirectional(LSTM(512, return_sequences=True)))\n",
    " model.add(Dropout(0.2))\n",
    " model.add(TimeDistributed(Dense(units = 512, activation = 'relu')))\n",
    " model.add(Flatten())\n",
    " model.add(Dense(74, activation='softmax'))\n",
    " print(model.summary())\n",
    " lr = hp.Choice('learning_rate', [1e-2, 1e-3, 1e-4])\n",
    " optimizer = hp.Choice('optimizer', ['adam', 'sgd', 'rmsprop'])\n",
    " model.compile(optimizer=optimizer,\n",
    "              loss='categorical_crossentropy',\n",
    "              metrics=['accuracy'])\n",
    " return model\n",
    "\n"
   ]
  },
  {
   "cell_type": "code",
   "execution_count": 19,
   "metadata": {
    "colab": {
     "base_uri": "https://localhost:8080/",
     "height": 1000
    },
    "id": "Lb2m8_ocvlWZ",
    "outputId": "45889635-1876-422d-dd44-ef8257a05347"
   },
   "outputs": [
    {
     "name": "stdout",
     "output_type": "stream",
     "text": [
      "Trial 15 Complete [00h 00m 16s]\n",
      "val_accuracy: 0.5792574882507324\n",
      "\n",
      "Best val_accuracy So Far: 0.5904537439346313\n",
      "Total elapsed time: 00h 04m 20s\n",
      "INFO:tensorflow:Oracle triggered exit\n",
      "Results summary\n",
      "Results in C:/Hyperparameter/3/untitled_project\n",
      "Showing 5 best trials\n",
      "Objective(name='val_accuracy', direction='max')\n",
      "Trial summary\n",
      "Hyperparameters:\n",
      "learning_rate: 0.0001\n",
      "batch_size: 256\n",
      "epochs: 5\n",
      "optimizer: adam\n",
      "Score: 0.5904537439346313\n",
      "Trial summary\n",
      "Hyperparameters:\n",
      "learning_rate: 0.001\n",
      "batch_size: 512\n",
      "epochs: 5\n",
      "optimizer: adam\n",
      "Score: 0.5798467993736267\n",
      "Trial summary\n",
      "Hyperparameters:\n",
      "learning_rate: 0.001\n",
      "batch_size: 512\n",
      "epochs: 5\n",
      "optimizer: adam\n",
      "Score: 0.5792574882507324\n",
      "Trial summary\n",
      "Hyperparameters:\n",
      "learning_rate: 0.001\n",
      "batch_size: 512\n",
      "epochs: 5\n",
      "optimizer: adam\n",
      "Score: 0.5780789852142334\n",
      "Trial summary\n",
      "Hyperparameters:\n",
      "learning_rate: 0.001\n",
      "batch_size: 512\n",
      "epochs: 5\n",
      "optimizer: adam\n",
      "Score: 0.5774896740913391\n",
      "None\n",
      "Model: \"sequential\"\n",
      "_________________________________________________________________\n",
      "Layer (type)                 Output Shape              Param #   \n",
      "=================================================================\n",
      "embedding (Embedding)        (None, 189, 300)          3000000   \n",
      "_________________________________________________________________\n",
      "bidirectional (Bidirectional (None, 189, 1024)         3330048   \n",
      "_________________________________________________________________\n",
      "dropout (Dropout)            (None, 189, 1024)         0         \n",
      "_________________________________________________________________\n",
      "time_distributed (TimeDistri (None, 189, 512)          524800    \n",
      "_________________________________________________________________\n",
      "flatten (Flatten)            (None, 96768)             0         \n",
      "_________________________________________________________________\n",
      "dense_1 (Dense)              (None, 74)                7160906   \n",
      "=================================================================\n",
      "Total params: 14,015,754\n",
      "Trainable params: 14,015,754\n",
      "Non-trainable params: 0\n",
      "_________________________________________________________________\n",
      "None\n",
      "Hyperparameters for BILSTM are <tensorflow.python.keras.engine.sequential.Sequential object at 0x7f20a438dc40>\n",
      "{'learning_rate': 0.0001, 'batch_size': 256, 'epochs': 5, 'optimizer': 'adam'}\n",
      "Epoch 1/5\n",
      "27/27 [==============================] - 4s 118ms/step - loss: 1.2360 - accuracy: 0.6649 - val_loss: 1.8345 - val_accuracy: 0.5893\n",
      "Epoch 2/5\n",
      "27/27 [==============================] - 3s 105ms/step - loss: 0.9940 - accuracy: 0.7214 - val_loss: 1.8351 - val_accuracy: 0.5963\n",
      "Epoch 3/5\n",
      "27/27 [==============================] - 3s 104ms/step - loss: 0.8241 - accuracy: 0.7578 - val_loss: 1.8888 - val_accuracy: 0.5922\n",
      "Epoch 4/5\n",
      "27/27 [==============================] - 3s 105ms/step - loss: 0.6610 - accuracy: 0.8112 - val_loss: 2.1387 - val_accuracy: 0.5852\n"
     ]
    },
    {
     "data": {
      "image/png": "[encoded data removed]",
      "text/plain": [
       "<Figure size 432x288 with 1 Axes>"
      ]
     },
     "metadata": {
      "needs_background": "light"
     },
     "output_type": "display_data"
    },
    {
     "data": {
      "image/png": "[encoded data removed]",
      "text/plain": [
       "<Figure size 432x288 with 1 Axes>"
      ]
     },
     "metadata": {
      "needs_background": "light"
     },
     "output_type": "display_data"
    },
    {
     "name": "stdout",
     "output_type": "stream",
     "text": [
      "Accuracy of BILSTM for unaugmented data is : 58.515024185180664\n",
      "Validation Accuracy of BILSTM for unagumented data is: 84.94988083839417\n",
      "Mean loss of  Validation data of BILSTM for unaugmented data is : 1.9242857992649078\n",
      "Mean loss of  Training data of BILSTM for unaugmented data is : 0.9125666618347168\n"
     ]
    }
   ],
   "source": [
    "tuner =MyTuner(\n",
    "    BILSTM_model,\n",
    "    objective='val_accuracy',\n",
    "    max_trials=25,\n",
    "    executions_per_trial=1,\n",
    "    seed=123,\n",
    "    directory=\"C:/Hyperparameter/3\"\n",
    ")\n",
    "\n",
    "tuner.search(X_train,y_train,validation_data=(X_test,y_test))\n",
    "print(tuner.results_summary(5))\n",
    "best_model_BILSTM = tuner.get_best_models()[0]\n",
    "print(\"Hyperparameters for BILSTM are\",best_model_BILSTM)\n",
    "\n",
    "\n",
    "modelname=\"BILSTMModel\"\n",
    "vals=tuner.oracle.get_best_trials(num_trials=1)[0].hyperparameters.values\n",
    "print(vals)\n",
    "batch_size_hyp=list(vals.values())[1]\n",
    "epochs_hyp=list(vals.values())[2]\n",
    "history=best_model_BILSTM.fit(X_train,y_train,batch_size=batch_size_hyp,epochs=epochs_hyp,validation_data=(X_test,y_test),callbacks=[early_stopping])\n",
    "plot(best_model_BILSTM,history)\n",
    "\n",
    "scores_BILSTM =best_model_BILSTM.evaluate(X_test, y_test, verbose=0)\n",
    "scores_BILSTM_val = best_model_BILSTM.evaluate(X_train, y_train, verbose=0)\n",
    "print(\"Accuracy of BILSTM for unaugmented data is :\", (scores_BILSTM[1]*100))\n",
    "print(\"Validation Accuracy of BILSTM for unagumented data is:\", (scores_BILSTM_val[1]*100))\n",
    "#print(\"Validation Accuracy of BILSTM for unagumented data is:\" ,np.array(history.history['val_acc']).mean()*100)\n",
    "print( \"Mean loss of  Validation data of BILSTM for unaugmented data is :\",np.array(history.history['val_loss']).mean())\n",
    "print( \"Mean loss of  Training data of BILSTM for unaugmented data is :\",np.array(history.history['loss']).mean())\n"
   ]
  },
  {
   "cell_type": "code",
   "execution_count": 20,
   "metadata": {
    "id": "oHX0pC2RSVsB"
   },
   "outputs": [],
   "source": [
    "#Using bidirectional GRU\n",
    "def BIGRU_model(hp):\n",
    " model = tf.keras.Sequential()\n",
    " model.add(Embedding(max_features,emb_dim,input_length=inp_len))\n",
    " model.add(Bidirectional(GRU(512, return_sequences=True)))\n",
    " model.add(Dropout(0.2))\n",
    " model.add(TimeDistributed(Dense(units = 512, activation = 'relu')))\n",
    " model.add(Flatten())\n",
    " model.add(Dense(74, activation='softmax'))\n",
    " print(model.summary())\n",
    " lr = hp.Choice('learning_rate', [1e-2, 1e-3, 1e-4])\n",
    " optimizer = hp.Choice('optimizer', ['adam', 'sgd', 'rmsprop'])\n",
    " model.compile(optimizer=optimizer,\n",
    "              loss='categorical_crossentropy',\n",
    "              metrics=['accuracy'])\n",
    " return model\n",
    "\n"
   ]
  },
  {
   "cell_type": "code",
   "execution_count": 21,
   "metadata": {
    "colab": {
     "base_uri": "https://localhost:8080/",
     "height": 1000
    },
    "id": "W7j9MWsavlOs",
    "outputId": "c01749f6-8181-4cc8-ec0d-2154d1913bfb"
   },
   "outputs": [
    {
     "name": "stdout",
     "output_type": "stream",
     "text": [
      "Trial 15 Complete [00h 00m 14s]\n",
      "val_accuracy: 0.5945786833763123\n",
      "\n",
      "Best val_accuracy So Far: 0.5945786833763123\n",
      "Total elapsed time: 00h 03m 47s\n",
      "INFO:tensorflow:Oracle triggered exit\n",
      "Results summary\n",
      "Results in C:/Hyperparameter/4/untitled_project\n",
      "Showing 5 best trials\n",
      "Objective(name='val_accuracy', direction='max')\n",
      "Trial summary\n",
      "Hyperparameters:\n",
      "learning_rate: 0.0001\n",
      "batch_size: 256\n",
      "epochs: 5\n",
      "optimizer: rmsprop\n",
      "Score: 0.5945786833763123\n",
      "Trial summary\n",
      "Hyperparameters:\n",
      "learning_rate: 0.0001\n",
      "batch_size: 256\n",
      "epochs: 5\n",
      "optimizer: rmsprop\n",
      "Score: 0.5898644924163818\n",
      "Trial summary\n",
      "Hyperparameters:\n",
      "learning_rate: 0.001\n",
      "batch_size: 256\n",
      "epochs: 5\n",
      "optimizer: rmsprop\n",
      "Score: 0.5880966186523438\n",
      "Trial summary\n",
      "Hyperparameters:\n",
      "learning_rate: 0.001\n",
      "batch_size: 256\n",
      "epochs: 5\n",
      "optimizer: rmsprop\n",
      "Score: 0.5863288044929504\n",
      "Trial summary\n",
      "Hyperparameters:\n",
      "learning_rate: 0.001\n",
      "batch_size: 256\n",
      "epochs: 5\n",
      "optimizer: rmsprop\n",
      "Score: 0.5851502418518066\n",
      "None\n",
      "Model: \"sequential\"\n",
      "_________________________________________________________________\n",
      "Layer (type)                 Output Shape              Param #   \n",
      "=================================================================\n",
      "embedding (Embedding)        (None, 189, 300)          3000000   \n",
      "_________________________________________________________________\n",
      "bidirectional (Bidirectional (None, 189, 1024)         2500608   \n",
      "_________________________________________________________________\n",
      "dropout (Dropout)            (None, 189, 1024)         0         \n",
      "_________________________________________________________________\n",
      "time_distributed (TimeDistri (None, 189, 512)          524800    \n",
      "_________________________________________________________________\n",
      "flatten (Flatten)            (None, 96768)             0         \n",
      "_________________________________________________________________\n",
      "dense_1 (Dense)              (None, 74)                7160906   \n",
      "=================================================================\n",
      "Total params: 13,186,314\n",
      "Trainable params: 13,186,314\n",
      "Non-trainable params: 0\n",
      "_________________________________________________________________\n",
      "None\n",
      "Hyperparameters for BIGRU are <tensorflow.python.keras.engine.sequential.Sequential object at 0x7f20a441ef70>\n",
      "{'learning_rate': 0.0001, 'batch_size': 256, 'epochs': 5, 'optimizer': 'rmsprop'}\n",
      "Epoch 1/5\n",
      "27/27 [==============================] - 4s 98ms/step - loss: 0.9723 - accuracy: 0.7265 - val_loss: 1.9492 - val_accuracy: 0.5787\n",
      "Epoch 2/5\n",
      "27/27 [==============================] - 2s 85ms/step - loss: 0.7694 - accuracy: 0.7735 - val_loss: 2.2072 - val_accuracy: 0.5775\n",
      "Epoch 3/5\n",
      "27/27 [==============================] - 2s 86ms/step - loss: 0.6282 - accuracy: 0.8145 - val_loss: 2.4237 - val_accuracy: 0.5516\n",
      "Epoch 4/5\n",
      "27/27 [==============================] - 2s 86ms/step - loss: 0.5338 - accuracy: 0.8352 - val_loss: 2.6788 - val_accuracy: 0.5899\n",
      "Epoch 5/5\n",
      "27/27 [==============================] - 2s 86ms/step - loss: 0.4439 - accuracy: 0.8603 - val_loss: 2.8052 - val_accuracy: 0.5545\n"
     ]
    },
    {
     "data": {
      "image/png": "[encoded data removed]",
      "text/plain": [
       "<Figure size 432x288 with 1 Axes>"
      ]
     },
     "metadata": {
      "needs_background": "light"
     },
     "output_type": "display_data"
    },
    {
     "data": {
      "image/png": "[encoded data removed]",
      "text/plain": [
       "<Figure size 432x288 with 1 Axes>"
      ]
     },
     "metadata": {
      "needs_background": "light"
     },
     "output_type": "display_data"
    },
    {
     "name": "stdout",
     "output_type": "stream",
     "text": [
      "Accuracy of BIGRU for unaugmented data is : 55.45079708099365\n",
      "Validation Accuracy of BIGRU for unagumented data is: 87.48525977134705\n",
      "Mean loss of  Validation data of BIGRU for unaugmented data is : 2.4128216981887816\n",
      "Mean loss of  Training data of BIGRU for unaugmented data is : 0.6832655847072602\n"
     ]
    }
   ],
   "source": [
    "tuner =MyTuner(\n",
    "    BIGRU_model,\n",
    "    objective='val_accuracy',\n",
    "    max_trials=25,\n",
    "    executions_per_trial=1,\n",
    "    seed=123,\n",
    "    directory=\"C:/Hyperparameter/4\"\n",
    ")\n",
    "\n",
    "tuner.search(X_train,y_train,validation_data=(X_test,y_test))\n",
    "print(tuner.results_summary(5))\n",
    "best_model_BIGRU = tuner.get_best_models()[0]\n",
    "print(\"Hyperparameters for BIGRU are\",best_model_BIGRU)\n",
    "\n",
    "\n",
    "modelname=\"BIGRUModel\"\n",
    "vals=tuner.oracle.get_best_trials(num_trials=1)[0].hyperparameters.values\n",
    "print(vals)\n",
    "batch_size_hyp=list(vals.values())[1]\n",
    "epochs_hyp=list(vals.values())[2]\n",
    "history=best_model_BIGRU.fit(X_train,y_train,batch_size=batch_size_hyp,epochs=epochs_hyp,validation_data=(X_test,y_test),callbacks=[early_stopping])\n",
    "plot(best_model_BIGRU,history)\n",
    "\n",
    "scores_BIGRU =best_model_BIGRU.evaluate(X_test, y_test, verbose=0)\n",
    "scores_BIGRU_val = best_model_BIGRU.evaluate(X_train, y_train, verbose=0)\n",
    "print(\"Accuracy of BIGRU for unaugmented data is :\", (scores_BIGRU[1]*100))\n",
    "print(\"Validation Accuracy of BIGRU for unagumented data is:\", (scores_BIGRU_val[1]*100))\n",
    "#print(\"Validation Accuracy of BIGRU for unagumented data is:\" ,np.array(history.history['val_acc']).mean()*100)\n",
    "print( \"Mean loss of  Validation data of BIGRU for unaugmented data is :\",np.array(history.history['val_loss']).mean())\n",
    "print( \"Mean loss of  Training data of BIGRU for unaugmented data is :\",np.array(history.history['loss']).mean())\n"
   ]
  },
  {
   "cell_type": "code",
   "execution_count": 22,
   "metadata": {
    "id": "YmoJ5DUvt8lD"
   },
   "outputs": [],
   "source": [
    "X_aug1 = (data_dl_aug1[\"Combined Description Cleaned\"])\n",
    "y_aug1= (data_dl_aug1['Assignment group'])\n",
    "\n",
    "#categorical encoding y\n",
    "y_aug1=pd.get_dummies(data_dl_aug2['Assignment group'])\n",
    "\n",
    "\n",
    "X_aug2 = (data_dl_aug2[\"Combined Description Cleaned\"])\n",
    "y_aug2= (data_dl_aug2['Assignment group'])\n",
    "\n",
    "#categorical encoding y\n",
    "y_aug2=pd.get_dummies(data_dl_aug2['Assignment group'])\n",
    "  "
   ]
  },
  {
   "cell_type": "code",
   "execution_count": 23,
   "metadata": {
    "colab": {
     "base_uri": "https://localhost:8080/"
    },
    "id": "kvl4V_67uKb_",
    "outputId": "23d0507a-d29b-473e-9474-ec96440bf194"
   },
   "outputs": [
    {
     "name": "stdout",
     "output_type": "stream",
     "text": [
      "vocabulary size is:  3956\n",
      "vocabulary size is:  4424\n"
     ]
    }
   ],
   "source": [
    "#tokenization\n",
    "X_aug1,tokenizer = dfTokenizer(data_dl_aug1[\"Combined Description Cleaned\"]) \n",
    "vocab_size_aug1=len(tokenizer.word_index)\n",
    "print(\"vocabulary size is: \",vocab_size_aug1)\n",
    "\n",
    "X_aug2,tokenizer = dfTokenizer(data_dl_aug2[\"Combined Description Cleaned\"]) \n",
    "vocab_size_aug2=len(tokenizer.word_index)\n",
    "print(\"vocabulary size is: \",vocab_size_aug2)"
   ]
  },
  {
   "cell_type": "code",
   "execution_count": 24,
   "metadata": {
    "id": "n2n9EEXduMGz"
   },
   "outputs": [],
   "source": [
    "#padding\n",
    "X_aug1=pad_sequences(X_aug1,padding='post')\n",
    "X_aug2=pad_sequences(X_aug2,padding='post')\n",
    "y_aug1=y_aug1[0:17586]"
   ]
  },
  {
   "cell_type": "code",
   "execution_count": 25,
   "metadata": {
    "colab": {
     "base_uri": "https://localhost:8080/"
    },
    "id": "h4hMuuz0uQUD",
    "outputId": "3e84b829-cccb-44c4-c0d7-864feddd7a63"
   },
   "outputs": [
    {
     "name": "stdout",
     "output_type": "stream",
     "text": [
      "191\n"
     ]
    }
   ],
   "source": [
    "#split the data.Only augmented data is split using stratify\n",
    "def split_stratify(X,y):\n",
    " X_train_spl,X_test_spl,y_train_spl,y_test_spl=train_test_split(X,y,test_size=0.2,stratify=y,random_state=123)\n",
    " return X_train_spl,X_test_spl,y_train_spl,y_test_spl\n",
    "\n",
    "X_train_aug1,X_test_aug1,y_train_aug1,y_test_aug1=split_stratify(X_aug1,y_aug1)\n",
    "X_train_aug2,X_test_aug2,y_train_aug2,y_test_aug2=split_stratify(X_aug2,y_aug2)\n",
    "\n",
    "\n",
    "inp_len1=X_aug1.shape[1]\n",
    "print(inp_len1)"
   ]
  },
  {
   "cell_type": "code",
   "execution_count": 26,
   "metadata": {
    "id": "sfd57Hy8iTjx"
   },
   "outputs": [],
   "source": [
    "#Simple LSTM model1\n",
    "def LSTM_model1(hp):\n",
    " model = tf.keras.Sequential()\n",
    " model.add(Embedding(max_features,emb_dim,input_length=inp_len1))\n",
    " model.add(LSTM(512, return_sequences=True))\n",
    " model.add(Dropout(0.2))\n",
    " model.add(TimeDistributed(Dense(units = 512, activation = 'relu')))\n",
    " model.add(Flatten())\n",
    " model.add(Dense(74, activation='softmax'))\n",
    " print(model.summary())\n",
    " lr = hp.Choice('learning_rate', [1e-2, 1e-3, 1e-4])\n",
    " optimizer = hp.Choice('optimizer', ['adam', 'sgd', 'rmsprop'])\n",
    " model.compile(optimizer=optimizer,\n",
    "              loss='categorical_crossentropy',\n",
    "              metrics=['accuracy'])\n",
    " return model\n",
    "\n",
    "\n",
    "\n",
    "#Using GRU\n",
    "def GRU_model1(hp):\n",
    " model = tf.keras.Sequential()\n",
    " model.add(Embedding(max_features,emb_dim,input_length=inp_len1))\n",
    " model.add(GRU(512, return_sequences=True))\n",
    " model.add(Dropout(0.2))\n",
    " model.add(TimeDistributed(Dense(units = 512, activation = 'relu')))\n",
    " model.add(Flatten())\n",
    " model.add(Dense(74, activation='softmax'))\n",
    " print(model.summary())\n",
    " lr = hp.Choice('learning_rate', [1e-2, 1e-3, 1e-4])\n",
    " optimizer = hp.Choice('optimizer', ['adam', 'sgd', 'rmsprop'])\n",
    " model.compile(optimizer=optimizer,\n",
    "              loss='categorical_crossentropy',\n",
    "              metrics=['accuracy'])\n",
    " return model\n",
    "\n",
    "\n",
    " #Using bidirectional LSTM\n",
    "\n",
    "def BILSTM_model1(hp):\n",
    " model = tf.keras.Sequential()\n",
    " model.add(Embedding(max_features,emb_dim,input_length=inp_len1))\n",
    " model.add(Bidirectional(LSTM(512, return_sequences=True)))\n",
    " model.add(Dropout(0.2))\n",
    " model.add(TimeDistributed(Dense(units = 512, activation = 'relu')))\n",
    " model.add(Flatten())\n",
    " model.add(Dense(74, activation='softmax'))\n",
    " print(model.summary())\n",
    " lr = hp.Choice('learning_rate', [1e-2, 1e-3, 1e-4])\n",
    " optimizer = hp.Choice('optimizer', ['adam', 'sgd', 'rmsprop'])\n",
    " model.compile(optimizer=optimizer,\n",
    "              loss='categorical_crossentropy',\n",
    "              metrics=['accuracy'])\n",
    " return model\n",
    "\n",
    "\n",
    "#Using bidirectional GRU\n",
    "def BIGRU_model1(hp):\n",
    " model = tf.keras.Sequential()\n",
    " model.add(Embedding(max_features,emb_dim,input_length=inp_len1))\n",
    " model.add(Bidirectional(GRU(512, return_sequences=True)))\n",
    " model.add(Dropout(0.2))\n",
    " model.add(TimeDistributed(Dense(units = 512, activation = 'relu')))\n",
    " model.add(Flatten())\n",
    " model.add(Dense(74, activation='softmax'))\n",
    " print(model.summary())\n",
    " lr = hp.Choice('learning_rate', [1e-2, 1e-3, 1e-4])\n",
    " optimizer = hp.Choice('optimizer', ['adam', 'sgd', 'rmsprop'])\n",
    " model.compile(optimizer=optimizer,\n",
    "              loss='categorical_crossentropy',\n",
    "              metrics=['accuracy'])\n",
    " return model\n"
   ]
  },
  {
   "cell_type": "code",
   "execution_count": 27,
   "metadata": {
    "colab": {
     "base_uri": "https://localhost:8080/",
     "height": 1000
    },
    "id": "d47XGO6FuUMU",
    "outputId": "db0930bb-d520-4a1e-bb6c-e92a058d8b1b"
   },
   "outputs": [
    {
     "name": "stdout",
     "output_type": "stream",
     "text": [
      "Trial 15 Complete [00h 00m 18s]\n",
      "val_accuracy: 0.721432626247406\n",
      "\n",
      "Best val_accuracy So Far: 0.7819783687591553\n",
      "Total elapsed time: 00h 04m 48s\n",
      "INFO:tensorflow:Oracle triggered exit\n",
      "Results summary\n",
      "Results in C:/Hyperparameter/5/untitled_project\n",
      "Showing 5 best trials\n",
      "Objective(name='val_accuracy', direction='max')\n",
      "Trial summary\n",
      "Hyperparameters:\n",
      "learning_rate: 0.0001\n",
      "batch_size: 256\n",
      "epochs: 5\n",
      "optimizer: adam\n",
      "Score: 0.7819783687591553\n",
      "Trial summary\n",
      "Hyperparameters:\n",
      "learning_rate: 0.0001\n",
      "batch_size: 512\n",
      "epochs: 5\n",
      "optimizer: adam\n",
      "Score: 0.721432626247406\n",
      "Trial summary\n",
      "Hyperparameters:\n",
      "learning_rate: 0.0001\n",
      "batch_size: 512\n",
      "epochs: 5\n",
      "optimizer: adam\n",
      "Score: 0.7148948311805725\n",
      "Trial summary\n",
      "Hyperparameters:\n",
      "learning_rate: 0.001\n",
      "batch_size: 512\n",
      "epochs: 5\n",
      "Score: 0.7146105766296387\n",
      "Trial summary\n",
      "Hyperparameters:\n",
      "learning_rate: 0.01\n",
      "batch_size: 512\n",
      "epochs: 5\n",
      "optimizer: adam\n",
      "Score: 0.7134735584259033\n",
      "None\n",
      "Model: \"sequential\"\n",
      "_________________________________________________________________\n",
      "Layer (type)                 Output Shape              Param #   \n",
      "=================================================================\n",
      "embedding (Embedding)        (None, 191, 300)          3000000   \n",
      "_________________________________________________________________\n",
      "lstm (LSTM)                  (None, 191, 512)          1665024   \n",
      "_________________________________________________________________\n",
      "dropout (Dropout)            (None, 191, 512)          0         \n",
      "_________________________________________________________________\n",
      "time_distributed (TimeDistri (None, 191, 512)          262656    \n",
      "_________________________________________________________________\n",
      "flatten (Flatten)            (None, 97792)             0         \n",
      "_________________________________________________________________\n",
      "dense_1 (Dense)              (None, 74)                7236682   \n",
      "=================================================================\n",
      "Total params: 12,164,362\n",
      "Trainable params: 12,164,362\n",
      "Non-trainable params: 0\n",
      "_________________________________________________________________\n",
      "None\n",
      "Hyperparameters for LSTM are <tensorflow.python.keras.engine.sequential.Sequential object at 0x7f20646be7f0>\n",
      "{'learning_rate': 0.0001, 'batch_size': 256, 'epochs': 5, 'optimizer': 'adam'}\n",
      "Epoch 1/5\n",
      "55/55 [==============================] - 5s 69ms/step - loss: 0.3768 - accuracy: 0.8834 - val_loss: 0.7389 - val_accuracy: 0.7968\n",
      "Epoch 2/5\n",
      "55/55 [==============================] - 4s 69ms/step - loss: 0.3000 - accuracy: 0.9088 - val_loss: 0.6529 - val_accuracy: 0.8147\n",
      "Epoch 3/5\n",
      "55/55 [==============================] - 4s 65ms/step - loss: 0.2560 - accuracy: 0.9189 - val_loss: 0.6387 - val_accuracy: 0.8164\n",
      "Epoch 4/5\n",
      "55/55 [==============================] - 4s 66ms/step - loss: 0.2326 - accuracy: 0.9261 - val_loss: 0.6415 - val_accuracy: 0.8329\n",
      "Epoch 5/5\n",
      "55/55 [==============================] - 4s 66ms/step - loss: 0.1830 - accuracy: 0.9411 - val_loss: 0.6422 - val_accuracy: 0.8346\n"
     ]
    },
    {
     "data": {
      "image/png": "[encoded data removed]",
      "text/plain": [
       "<Figure size 432x288 with 1 Axes>"
      ]
     },
     "metadata": {
      "needs_background": "light"
     },
     "output_type": "display_data"
    },
    {
     "data": {
      "image/png": "[encoded data removed]",
      "text/plain": [
       "<Figure size 432x288 with 1 Axes>"
      ]
     },
     "metadata": {
      "needs_background": "light"
     },
     "output_type": "display_data"
    },
    {
     "name": "stdout",
     "output_type": "stream",
     "text": [
      "Accuracy of LSTM for level1 augmented data is : 83.45651030540466\n",
      "Validation Accuracy of LSTM for level1 augmented data is: 94.89622116088867\n",
      "Mean loss of  Validation data of LSTM for level1 augmented data is : 0.662816834449768\n",
      "Mean loss of  training data of LSTM for level1 augmented data is : 0.2694961458444595\n"
     ]
    }
   ],
   "source": [
    "tuner =MyTuner(\n",
    "    LSTM_model1,\n",
    "    objective='val_accuracy',\n",
    "    max_trials=25,\n",
    "    executions_per_trial=1,\n",
    "    seed=123,\n",
    "    directory=\"C:/Hyperparameter/5\"\n",
    ")\n",
    "\n",
    "tuner.search(X_train_aug1,y_train_aug1,validation_data=(X_test_aug1,y_test_aug1))\n",
    "print(tuner.results_summary(5))\n",
    "best_model_LSTM = tuner.get_best_models()[0]\n",
    "print(\"Hyperparameters for LSTM are\",best_model_LSTM)\n",
    "\n",
    "\n",
    "modelname=\"LSTMModel_aug1\"\n",
    "vals=tuner.oracle.get_best_trials(num_trials=1)[0].hyperparameters.values\n",
    "print(vals)\n",
    "batch_size_hyp=list(vals.values())[1]\n",
    "epochs_hyp=list(vals.values())[2]\n",
    "history=best_model_LSTM.fit(X_train_aug1,y_train_aug1,batch_size=batch_size_hyp,epochs=epochs_hyp,validation_data=(X_test_aug1,y_test_aug1),callbacks=[early_stopping])\n",
    "plot(best_model_LSTM,history)\n",
    "\n",
    "scores_LSTM_aug1 =best_model_LSTM.evaluate(X_test_aug1, y_test_aug1, verbose=0)\n",
    "scores_LSTM_val_aug1 = best_model_LSTM.evaluate(X_train_aug1, y_train_aug1, verbose=0)\n",
    "print(\"Accuracy of LSTM for level1 augmented data is :\", (scores_LSTM_aug1[1]*100))\n",
    "print(\"Validation Accuracy of LSTM for level1 augmented data is:\", (scores_LSTM_val_aug1[1]*100))\n",
    "#print(\"Validation Accuracy of LSTM for level1 augmented data is:\" ,np.array(history.history['val_acc']).mean()*100)\n",
    "print( \"Mean loss of  Validation data of LSTM for level1 augmented data is :\",np.array(history.history['val_loss']).mean())\n",
    "print( \"Mean loss of  training data of LSTM for level1 augmented data is :\",np.array(history.history['loss']).mean())"
   ]
  },
  {
   "cell_type": "code",
   "execution_count": 28,
   "metadata": {
    "colab": {
     "base_uri": "https://localhost:8080/",
     "height": 1000
    },
    "id": "tSq6DbzHuZTd",
    "outputId": "e5507bb8-0944-4ee5-b492-0af913e3f1ef"
   },
   "outputs": [
    {
     "name": "stdout",
     "output_type": "stream",
     "text": [
      "Trial 15 Complete [00h 00m 17s]\n",
      "val_accuracy: 0.7640705108642578\n",
      "\n",
      "Best val_accuracy So Far: 0.8192154765129089\n",
      "Total elapsed time: 00h 04m 47s\n",
      "INFO:tensorflow:Oracle triggered exit\n",
      "Results summary\n",
      "Results in C:/Hyperparameter/6/untitled_project\n",
      "Showing 5 best trials\n",
      "Objective(name='val_accuracy', direction='max')\n",
      "Trial summary\n",
      "Hyperparameters:\n",
      "learning_rate: 0.0001\n",
      "batch_size: 256\n",
      "epochs: 5\n",
      "optimizer: adam\n",
      "Score: 0.8192154765129089\n",
      "Trial summary\n",
      "Hyperparameters:\n",
      "learning_rate: 0.01\n",
      "batch_size: 512\n",
      "epochs: 5\n",
      "optimizer: adam\n",
      "Score: 0.7794201374053955\n",
      "Trial summary\n",
      "Hyperparameters:\n",
      "learning_rate: 0.001\n",
      "batch_size: 512\n",
      "epochs: 5\n",
      "optimizer: adam\n",
      "Score: 0.7745878100395203\n",
      "Trial summary\n",
      "Hyperparameters:\n",
      "learning_rate: 0.001\n",
      "batch_size: 512\n",
      "epochs: 5\n",
      "optimizer: adam\n",
      "Score: 0.7708925604820251\n",
      "Trial summary\n",
      "Hyperparameters:\n",
      "learning_rate: 0.0001\n",
      "batch_size: 512\n",
      "epochs: 5\n",
      "optimizer: adam\n",
      "Score: 0.7706083059310913\n",
      "None\n",
      "Model: \"sequential\"\n",
      "_________________________________________________________________\n",
      "Layer (type)                 Output Shape              Param #   \n",
      "=================================================================\n",
      "embedding (Embedding)        (None, 191, 300)          3000000   \n",
      "_________________________________________________________________\n",
      "gru (GRU)                    (None, 191, 512)          1250304   \n",
      "_________________________________________________________________\n",
      "dropout (Dropout)            (None, 191, 512)          0         \n",
      "_________________________________________________________________\n",
      "time_distributed (TimeDistri (None, 191, 512)          262656    \n",
      "_________________________________________________________________\n",
      "flatten (Flatten)            (None, 97792)             0         \n",
      "_________________________________________________________________\n",
      "dense_1 (Dense)              (None, 74)                7236682   \n",
      "=================================================================\n",
      "Total params: 11,749,642\n",
      "Trainable params: 11,749,642\n",
      "Non-trainable params: 0\n",
      "_________________________________________________________________\n",
      "None\n",
      "Hyperparameters for GRU are <tensorflow.python.keras.engine.sequential.Sequential object at 0x7f224c629ee0>\n",
      "{'learning_rate': 0.0001, 'batch_size': 256, 'epochs': 5, 'optimizer': 'adam'}\n",
      "Epoch 1/5\n",
      "55/55 [==============================] - 4s 65ms/step - loss: 0.2653 - accuracy: 0.9164 - val_loss: 0.5472 - val_accuracy: 0.8405\n",
      "Epoch 2/5\n",
      "55/55 [==============================] - 3s 61ms/step - loss: 0.2104 - accuracy: 0.9353 - val_loss: 0.5389 - val_accuracy: 0.8511\n",
      "Epoch 3/5\n",
      "55/55 [==============================] - 3s 62ms/step - loss: 0.1770 - accuracy: 0.9460 - val_loss: 0.5622 - val_accuracy: 0.8530\n",
      "Epoch 4/5\n",
      "55/55 [==============================] - 3s 61ms/step - loss: 0.1668 - accuracy: 0.9466 - val_loss: 0.5929 - val_accuracy: 0.8505\n",
      "Epoch 5/5\n",
      "55/55 [==============================] - 3s 62ms/step - loss: 0.1496 - accuracy: 0.9518 - val_loss: 0.5772 - val_accuracy: 0.8474\n"
     ]
    },
    {
     "data": {
      "image/png": "[encoded data removed]",
      "text/plain": [
       "<Figure size 432x288 with 1 Axes>"
      ]
     },
     "metadata": {
      "needs_background": "light"
     },
     "output_type": "display_data"
    },
    {
     "data": {
      "image/png": "[encoded data removed]",
      "text/plain": [
       "<Figure size 432x288 with 1 Axes>"
      ]
     },
     "metadata": {
      "needs_background": "light"
     },
     "output_type": "display_data"
    },
    {
     "name": "stdout",
     "output_type": "stream",
     "text": [
      "Accuracy of GRU for level1 augmented data is : 84.73564386367798\n",
      "Validation Accuracy of GRU for level1 augmented data is: 95.79187035560608\n",
      "Mean loss of  Validation data of GRU for level1 augmented data is : 0.5636784076690674\n",
      "Mean loss of  training data of GRU for level1 augmented data is : 0.19667491912841797\n"
     ]
    }
   ],
   "source": [
    "tuner =MyTuner(\n",
    "    GRU_model1,\n",
    "    objective='val_accuracy',\n",
    "    max_trials=25,\n",
    "    executions_per_trial=1,\n",
    "    seed=123,\n",
    "    directory=\"C:/Hyperparameter/6\"\n",
    ")\n",
    "\n",
    "tuner.search(X_train_aug1,y_train_aug1,validation_data=(X_test_aug1,y_test_aug1))\n",
    "print(tuner.results_summary(5))\n",
    "best_model_GRU = tuner.get_best_models()[0]\n",
    "print(\"Hyperparameters for GRU are\",best_model_GRU)\n",
    "\n",
    "\n",
    "modelname=\"GRUModel_aug1\"\n",
    "vals=tuner.oracle.get_best_trials(num_trials=1)[0].hyperparameters.values\n",
    "print(vals)\n",
    "batch_size_hyp=list(vals.values())[1]\n",
    "epochs_hyp=list(vals.values())[2]\n",
    "history=best_model_GRU.fit(X_train_aug1,y_train_aug1,batch_size=batch_size_hyp,epochs=epochs_hyp,validation_data=(X_test_aug1,y_test_aug1),callbacks=[early_stopping])\n",
    "plot(best_model_GRU,history)\n",
    "\n",
    "scores_GRU_aug1 =best_model_GRU.evaluate(X_test_aug1, y_test_aug1, verbose=0)\n",
    "scores_GRU_val_aug1 = best_model_GRU.evaluate(X_train_aug1, y_train_aug1, verbose=0)\n",
    "print(\"Accuracy of GRU for level1 augmented data is :\", (scores_GRU_aug1[1]*100))\n",
    "print(\"Validation Accuracy of GRU for level1 augmented data is:\", (scores_GRU_val_aug1[1]*100))\n",
    "#print(\"Validation Accuracy of GRU for level1 augmented data is:\" ,np.array(history.history['val_acc']).mean()*100)\n",
    "print( \"Mean loss of  Validation data of GRU for level1 augmented data is :\",np.array(history.history['val_loss']).mean())\n",
    "print( \"Mean loss of  training data of GRU for level1 augmented data is :\",np.array(history.history['loss']).mean())"
   ]
  },
  {
   "cell_type": "code",
   "execution_count": 29,
   "metadata": {
    "colab": {
     "base_uri": "https://localhost:8080/",
     "height": 1250
    },
    "id": "47BBsqxwufxo",
    "outputId": "0a5fbe19-65a5-473a-e220-71a365bf4bb4"
   },
   "outputs": [
    {
     "name": "stdout",
     "output_type": "stream",
     "text": [
      "Trial 15 Complete [00h 00m 31s]\n",
      "val_accuracy: 0.7626492381095886\n",
      "\n",
      "Best val_accuracy So Far: 0.802444577217102\n",
      "Total elapsed time: 00h 07m 55s\n",
      "INFO:tensorflow:Oracle triggered exit\n",
      "Results summary\n",
      "Results in C:/Hyperparameter/7/untitled_project\n",
      "Showing 5 best trials\n",
      "Objective(name='val_accuracy', direction='max')\n",
      "Trial summary\n",
      "Hyperparameters:\n",
      "learning_rate: 0.0001\n",
      "batch_size: 256\n",
      "epochs: 5\n",
      "optimizer: adam\n",
      "Score: 0.802444577217102\n",
      "Trial summary\n",
      "Hyperparameters:\n",
      "learning_rate: 0.001\n",
      "batch_size: 256\n",
      "epochs: 5\n",
      "optimizer: rmsprop\n",
      "Score: 0.7754405736923218\n",
      "Trial summary\n",
      "Hyperparameters:\n",
      "learning_rate: 0.001\n",
      "batch_size: 256\n",
      "epochs: 5\n",
      "optimizer: rmsprop\n",
      "Score: 0.7734508514404297\n",
      "Trial summary\n",
      "Hyperparameters:\n",
      "learning_rate: 0.001\n",
      "batch_size: 256\n",
      "epochs: 5\n",
      "optimizer: rmsprop\n",
      "Score: 0.7714610695838928\n",
      "Trial summary\n",
      "Hyperparameters:\n",
      "learning_rate: 0.001\n",
      "batch_size: 256\n",
      "epochs: 5\n",
      "optimizer: rmsprop\n",
      "Score: 0.771176815032959\n",
      "None\n",
      "Model: \"sequential\"\n",
      "_________________________________________________________________\n",
      "Layer (type)                 Output Shape              Param #   \n",
      "=================================================================\n",
      "embedding (Embedding)        (None, 191, 300)          3000000   \n",
      "_________________________________________________________________\n",
      "bidirectional (Bidirectional (None, 191, 1024)         3330048   \n",
      "_________________________________________________________________\n",
      "dropout (Dropout)            (None, 191, 1024)         0         \n",
      "_________________________________________________________________\n",
      "time_distributed (TimeDistri (None, 191, 512)          524800    \n",
      "_________________________________________________________________\n",
      "flatten (Flatten)            (None, 97792)             0         \n",
      "_________________________________________________________________\n",
      "dense_1 (Dense)              (None, 74)                7236682   \n",
      "=================================================================\n",
      "Total params: 14,091,530\n",
      "Trainable params: 14,091,530\n",
      "Non-trainable params: 0\n",
      "_________________________________________________________________\n",
      "None\n",
      "Hyperparameters for BILSTM are <tensorflow.python.keras.engine.sequential.Sequential object at 0x7f201c71ef70>\n",
      "{'learning_rate': 0.0001, 'batch_size': 256, 'epochs': 5, 'optimizer': 'adam'}\n",
      "Epoch 1/5\n",
      "55/55 [==============================] - 8s 114ms/step - loss: 0.3511 - accuracy: 0.8951 - val_loss: 0.6283 - val_accuracy: 0.8147\n",
      "Epoch 2/5\n",
      "55/55 [==============================] - 6s 108ms/step - loss: 0.2689 - accuracy: 0.9169 - val_loss: 0.6148 - val_accuracy: 0.8272\n",
      "Epoch 3/5\n",
      "55/55 [==============================] - 6s 108ms/step - loss: 0.2291 - accuracy: 0.9301 - val_loss: 0.6548 - val_accuracy: 0.8215\n",
      "Epoch 4/5\n",
      "55/55 [==============================] - 6s 108ms/step - loss: 0.1945 - accuracy: 0.9391 - val_loss: 0.5984 - val_accuracy: 0.8360\n",
      "Epoch 5/5\n",
      "55/55 [==============================] - 6s 108ms/step - loss: 0.1779 - accuracy: 0.9416 - val_loss: 0.5950 - val_accuracy: 0.8377\n"
     ]
    },
    {
     "data": {
      "image/png": "[encoded data removed]",
      "text/plain": [
       "<Figure size 432x288 with 1 Axes>"
      ]
     },
     "metadata": {
      "needs_background": "light"
     },
     "output_type": "display_data"
    },
    {
     "data": {
      "image/png": "[encoded data removed]",
      "text/plain": [
       "<Figure size 432x288 with 1 Axes>"
      ]
     },
     "metadata": {
      "needs_background": "light"
     },
     "output_type": "display_data"
    },
    {
     "name": "stdout",
     "output_type": "stream",
     "text": [
      "Accuracy of BILSTM for level1 augmented data is : 83.76918435096741\n",
      "Validation Accuracy of BILSTM for level1 augmented  data is: 94.96729969978333\n",
      "Mean loss of  Validation data of BILSTM for level1 augmented data is : 0.6182543992996216\n",
      "Mean loss of  training data of BILSTM for level1 augmented data is : 0.24896386563777922\n"
     ]
    }
   ],
   "source": [
    "tuner =MyTuner(\n",
    "    BILSTM_model1,\n",
    "    objective='val_accuracy',\n",
    "    max_trials=25,\n",
    "    executions_per_trial=1,\n",
    "    seed=123,\n",
    "    directory=\"C:/Hyperparameter/7\"\n",
    ")\n",
    "\n",
    "tuner.search(X_train_aug1,y_train_aug1,validation_data=(X_test_aug1,y_test_aug1))\n",
    "print(tuner.results_summary(5))\n",
    "best_model_BILSTM = tuner.get_best_models()[0]\n",
    "print(\"Hyperparameters for BILSTM are\",best_model_BILSTM)\n",
    "\n",
    "\n",
    "modelname=\"BILSTMModel_aug1\"\n",
    "vals=tuner.oracle.get_best_trials(num_trials=1)[0].hyperparameters.values\n",
    "print(vals)\n",
    "batch_size_hyp=list(vals.values())[1]\n",
    "epochs_hyp=list(vals.values())[2]\n",
    "history=best_model_BILSTM.fit(X_train_aug1,y_train_aug1,batch_size=batch_size_hyp,epochs=epochs_hyp,validation_data=(X_test_aug1,y_test_aug1),callbacks=[early_stopping])\n",
    "plot(best_model_BILSTM,history)\n",
    "\n",
    "scores_BILSTM_aug1 =best_model_BILSTM.evaluate(X_test_aug1, y_test_aug1, verbose=0)\n",
    "scores_BILSTM_val_aug1 = best_model_BILSTM.evaluate(X_train_aug1, y_train_aug1, verbose=0)\n",
    "print(\"Accuracy of BILSTM for level1 augmented data is :\", (scores_BILSTM_aug1[1]*100))\n",
    "print(\"Validation Accuracy of BILSTM for level1 augmented  data is:\", (scores_BILSTM_val_aug1[1]*100))\n",
    "#print(\"Validation Accuracy of BILSTM forlevel1 augmented data is:\" ,np.array(history.history['val_acc']).mean()*100)\n",
    "print( \"Mean loss of  Validation data of BILSTM for level1 augmented data is :\",np.array(history.history['val_loss']).mean())\n",
    "print( \"Mean loss of  training data of BILSTM for level1 augmented data is :\",np.array(history.history['loss']).mean())\n"
   ]
  },
  {
   "cell_type": "code",
   "execution_count": 30,
   "metadata": {
    "colab": {
     "base_uri": "https://localhost:8080/",
     "height": 1250
    },
    "id": "EbZurK_LuhSw",
    "outputId": "47543f6f-b9b4-44f4-e299-97ee9ffac7a1"
   },
   "outputs": [
    {
     "name": "stdout",
     "output_type": "stream",
     "text": [
      "Trial 15 Complete [00h 00m 26s]\n",
      "val_accuracy: 0.762080729007721\n",
      "\n",
      "Best val_accuracy So Far: 0.8385446071624756\n",
      "Total elapsed time: 00h 07m 04s\n",
      "INFO:tensorflow:Oracle triggered exit\n",
      "Results summary\n",
      "Results in C:/Hyperparameter/8/untitled_project\n",
      "Showing 5 best trials\n",
      "Objective(name='val_accuracy', direction='max')\n",
      "Trial summary\n",
      "Hyperparameters:\n",
      "learning_rate: 0.0001\n",
      "batch_size: 256\n",
      "epochs: 5\n",
      "optimizer: adam\n",
      "Score: 0.8385446071624756\n",
      "Trial summary\n",
      "Hyperparameters:\n",
      "learning_rate: 0.001\n",
      "batch_size: 512\n",
      "epochs: 5\n",
      "optimizer: adam\n",
      "Score: 0.7913587093353271\n",
      "Trial summary\n",
      "Hyperparameters:\n",
      "learning_rate: 0.001\n",
      "batch_size: 512\n",
      "epochs: 5\n",
      "Score: 0.7907902002334595\n",
      "Trial summary\n",
      "Hyperparameters:\n",
      "learning_rate: 0.001\n",
      "batch_size: 512\n",
      "epochs: 5\n",
      "optimizer: adam\n",
      "Score: 0.7907902002334595\n",
      "Trial summary\n",
      "Hyperparameters:\n",
      "learning_rate: 0.001\n",
      "batch_size: 512\n",
      "epochs: 5\n",
      "optimizer: adam\n",
      "Score: 0.7882319688796997\n",
      "None\n",
      "Model: \"sequential\"\n",
      "_________________________________________________________________\n",
      "Layer (type)                 Output Shape              Param #   \n",
      "=================================================================\n",
      "embedding (Embedding)        (None, 191, 300)          3000000   \n",
      "_________________________________________________________________\n",
      "bidirectional (Bidirectional (None, 191, 1024)         2500608   \n",
      "_________________________________________________________________\n",
      "dropout (Dropout)            (None, 191, 1024)         0         \n",
      "_________________________________________________________________\n",
      "time_distributed (TimeDistri (None, 191, 512)          524800    \n",
      "_________________________________________________________________\n",
      "flatten (Flatten)            (None, 97792)             0         \n",
      "_________________________________________________________________\n",
      "dense_1 (Dense)              (None, 74)                7236682   \n",
      "=================================================================\n",
      "Total params: 13,262,090\n",
      "Trainable params: 13,262,090\n",
      "Non-trainable params: 0\n",
      "_________________________________________________________________\n",
      "None\n",
      "Hyperparameters for BIGRU are <tensorflow.python.keras.engine.sequential.Sequential object at 0x7f215c321550>\n",
      "{'learning_rate': 0.0001, 'batch_size': 256, 'epochs': 5, 'optimizer': 'adam'}\n",
      "Epoch 1/5\n",
      "55/55 [==============================] - 7s 99ms/step - loss: 0.2359 - accuracy: 0.9322 - val_loss: 0.5096 - val_accuracy: 0.8582\n",
      "Epoch 2/5\n",
      "55/55 [==============================] - 5s 97ms/step - loss: 0.1779 - accuracy: 0.9442 - val_loss: 0.5393 - val_accuracy: 0.8565\n",
      "Epoch 3/5\n",
      "55/55 [==============================] - 5s 96ms/step - loss: 0.1448 - accuracy: 0.9523 - val_loss: 0.5499 - val_accuracy: 0.8567\n",
      "Epoch 4/5\n",
      "55/55 [==============================] - 6s 101ms/step - loss: 0.1358 - accuracy: 0.9553 - val_loss: 0.5288 - val_accuracy: 0.8650\n"
     ]
    },
    {
     "data": {
      "image/png": "[encoded data removed]",
      "text/plain": [
       "<Figure size 432x288 with 1 Axes>"
      ]
     },
     "metadata": {
      "needs_background": "light"
     },
     "output_type": "display_data"
    },
    {
     "data": {
      "image/png": "[encoded data removed]",
      "text/plain": [
       "<Figure size 432x288 with 1 Axes>"
      ]
     },
     "metadata": {
      "needs_background": "light"
     },
     "output_type": "display_data"
    },
    {
     "name": "stdout",
     "output_type": "stream",
     "text": [
      "Accuracy of BIGRU for level1 augmented data is : 86.49801015853882\n",
      "Validation Accuracy of BIGRU for level1 augmented data is: 96.20414972305298\n",
      "Mean loss of  Validation data of BIGRU for level1 augmented data is : 0.5318908840417862\n",
      "Mean loss of  training data of BIGRU for level1 augmented data is : 0.17793748527765274\n"
     ]
    }
   ],
   "source": [
    "tuner =MyTuner(\n",
    "    BIGRU_model1,\n",
    "    objective='val_accuracy',\n",
    "    max_trials=25,\n",
    "    executions_per_trial=1,\n",
    "    seed=123,\n",
    "    directory=\"C:/Hyperparameter/8\"\n",
    ")\n",
    "\n",
    "tuner.search(X_train_aug1,y_train_aug1,validation_data=(X_test_aug1,y_test_aug1))\n",
    "print(tuner.results_summary(5))\n",
    "best_model_BIGRU = tuner.get_best_models()[0]\n",
    "print(\"Hyperparameters for BIGRU are\",best_model_BIGRU)\n",
    "\n",
    "\n",
    "modelname=\"BIGRUModel_aug1\"\n",
    "vals=tuner.oracle.get_best_trials(num_trials=1)[0].hyperparameters.values\n",
    "print(vals)\n",
    "batch_size_hyp=list(vals.values())[1]\n",
    "epochs_hyp=list(vals.values())[2]\n",
    "history=best_model_BIGRU.fit(X_train_aug1,y_train_aug1,batch_size=batch_size_hyp,epochs=epochs_hyp,validation_data=(X_test_aug1,y_test_aug1),callbacks=[early_stopping])\n",
    "plot(best_model_BIGRU,history)\n",
    "\n",
    "scores_BIGRU_aug1 =best_model_BIGRU.evaluate(X_test_aug1, y_test_aug1, verbose=0)\n",
    "scores_BIGRU_val_aug1 = best_model_BIGRU.evaluate(X_train_aug1, y_train_aug1, verbose=0)\n",
    "print(\"Accuracy of BIGRU for level1 augmented data is :\", (scores_BIGRU_aug1[1]*100))\n",
    "print(\"Validation Accuracy of BIGRU for level1 augmented data is:\", (scores_BIGRU_val_aug1[1]*100))\n",
    "#print(\"Validation Accuracy of BIGRU for level1 augmented data is:\" ,np.array(history.history['val_acc']).mean()*100)\n",
    "print( \"Mean loss of  Validation data of BIGRU for level1 augmented data is :\",np.array(history.history['val_loss']).mean())\n",
    "print( \"Mean loss of  training data of BIGRU for level1 augmented data is :\",np.array(history.history['loss']).mean())\n"
   ]
  },
  {
   "cell_type": "code",
   "execution_count": 31,
   "metadata": {
    "colab": {
     "base_uri": "https://localhost:8080/",
     "height": 1000
    },
    "id": "YXzWNefFuo9c",
    "outputId": "2b120a00-4205-47b6-a37a-ec88d87a70e9"
   },
   "outputs": [
    {
     "name": "stdout",
     "output_type": "stream",
     "text": [
      "Trial 15 Complete [00h 00m 29s]\n",
      "val_accuracy: 0.8328262567520142\n",
      "\n",
      "Best val_accuracy So Far: 0.8824659585952759\n",
      "Total elapsed time: 00h 08m 02s\n",
      "INFO:tensorflow:Oracle triggered exit\n",
      "Results summary\n",
      "Results in C:/Hyperparameter/9/untitled_project\n",
      "Showing 5 best trials\n",
      "Objective(name='val_accuracy', direction='max')\n",
      "Trial summary\n",
      "Hyperparameters:\n",
      "learning_rate: 0.0001\n",
      "batch_size: 256\n",
      "epochs: 5\n",
      "optimizer: adam\n",
      "Score: 0.8824659585952759\n",
      "Trial summary\n",
      "Hyperparameters:\n",
      "learning_rate: 0.01\n",
      "batch_size: 256\n",
      "epochs: 5\n",
      "optimizer: adam\n",
      "Score: 0.8792634010314941\n",
      "Trial summary\n",
      "Hyperparameters:\n",
      "learning_rate: 0.001\n",
      "batch_size: 256\n",
      "epochs: 5\n",
      "optimizer: rmsprop\n",
      "Score: 0.8768615126609802\n",
      "Trial summary\n",
      "Hyperparameters:\n",
      "learning_rate: 0.001\n",
      "batch_size: 256\n",
      "epochs: 5\n",
      "optimizer: adam\n",
      "Score: 0.8731785416603088\n",
      "Trial summary\n",
      "Hyperparameters:\n",
      "learning_rate: 0.001\n",
      "batch_size: 256\n",
      "epochs: 5\n",
      "optimizer: rmsprop\n",
      "Score: 0.8664531707763672\n",
      "None\n",
      "Model: \"sequential\"\n",
      "_________________________________________________________________\n",
      "Layer (type)                 Output Shape              Param #   \n",
      "=================================================================\n",
      "embedding (Embedding)        (None, 191, 300)          3000000   \n",
      "_________________________________________________________________\n",
      "lstm (LSTM)                  (None, 191, 512)          1665024   \n",
      "_________________________________________________________________\n",
      "dropout (Dropout)            (None, 191, 512)          0         \n",
      "_________________________________________________________________\n",
      "time_distributed (TimeDistri (None, 191, 512)          262656    \n",
      "_________________________________________________________________\n",
      "flatten (Flatten)            (None, 97792)             0         \n",
      "_________________________________________________________________\n",
      "dense_1 (Dense)              (None, 74)                7236682   \n",
      "=================================================================\n",
      "Total params: 12,164,362\n",
      "Trainable params: 12,164,362\n",
      "Non-trainable params: 0\n",
      "_________________________________________________________________\n",
      "None\n",
      "Hyperparameters for LSTM are <tensorflow.python.keras.engine.sequential.Sequential object at 0x7f201cdb5880>\n",
      "{'learning_rate': 0.0001, 'batch_size': 256, 'epochs': 5, 'optimizer': 'adam'}\n",
      "Epoch 1/5\n",
      "98/98 [==============================] - 7s 68ms/step - loss: 0.2140 - accuracy: 0.9319 - val_loss: 0.3804 - val_accuracy: 0.8850\n",
      "Epoch 2/5\n",
      "98/98 [==============================] - 6s 65ms/step - loss: 0.1792 - accuracy: 0.9375 - val_loss: 0.4012 - val_accuracy: 0.8791\n",
      "Epoch 3/5\n",
      "98/98 [==============================] - 6s 65ms/step - loss: 0.1769 - accuracy: 0.9410 - val_loss: 0.4105 - val_accuracy: 0.8898\n",
      "Epoch 4/5\n",
      "98/98 [==============================] - 6s 66ms/step - loss: 0.1580 - accuracy: 0.9462 - val_loss: 0.3760 - val_accuracy: 0.8946\n"
     ]
    },
    {
     "data": {
      "image/png": "[encoded data removed]",
      "text/plain": [
       "<Figure size 432x288 with 1 Axes>"
      ]
     },
     "metadata": {
      "needs_background": "light"
     },
     "output_type": "display_data"
    },
    {
     "data": {
      "image/png": "[encoded data removed]",
      "text/plain": [
       "<Figure size 432x288 with 1 Axes>"
      ]
     },
     "metadata": {
      "needs_background": "light"
     },
     "output_type": "display_data"
    },
    {
     "name": "stdout",
     "output_type": "stream",
     "text": [
      "Accuracy of LSTM for level2 augmented data is : 89.46357369422913\n",
      "Validation Accuracy of LSTM for level2 augmented data is: 95.5797553062439\n",
      "Mean loss of  Validation data of LSTM for level2 augmented data is : 0.3920552432537079\n",
      "Mean loss of  training data of LSTM for level2 augmented data is : 0.18390267714858055\n"
     ]
    }
   ],
   "source": [
    "tuner =MyTuner(\n",
    "    LSTM_model1,\n",
    "    objective='val_accuracy',\n",
    "    max_trials=25,\n",
    "    executions_per_trial=1,\n",
    "    seed=123,\n",
    "    directory=\"C:/Hyperparameter/9\"\n",
    ")\n",
    "\n",
    "tuner.search(X_train_aug2,y_train_aug2,validation_data=(X_test_aug2,y_test_aug2))\n",
    "print(tuner.results_summary(5))\n",
    "best_model_LSTM = tuner.get_best_models()[0]\n",
    "print(\"Hyperparameters for LSTM are\",best_model_LSTM)\n",
    "\n",
    "\n",
    "modelname=\"LSTMModel_aug2\"\n",
    "vals=tuner.oracle.get_best_trials(num_trials=1)[0].hyperparameters.values\n",
    "print(vals)\n",
    "batch_size_hyp=list(vals.values())[1]\n",
    "epochs_hyp=list(vals.values())[2]\n",
    "history=best_model_LSTM.fit(X_train_aug2,y_train_aug2,batch_size=batch_size_hyp,epochs=epochs_hyp,validation_data=(X_test_aug2,y_test_aug2),callbacks=[early_stopping])\n",
    "plot(best_model_LSTM,history)\n",
    "\n",
    "scores_LSTM_aug2 =best_model_LSTM.evaluate(X_test_aug2, y_test_aug2, verbose=0)\n",
    "scores_LSTM_val_aug2 = best_model_LSTM.evaluate(X_train_aug2, y_train_aug2, verbose=0)\n",
    "print(\"Accuracy of LSTM for level2 augmented data is :\", (scores_LSTM_aug2[1]*100))\n",
    "print(\"Validation Accuracy of LSTM for level2 augmented data is:\", (scores_LSTM_val_aug2[1]*100))\n",
    "#print(\"Validation Accuracy of LSTM for level2 augmented data is:\" ,np.array(history.history['val_acc']).mean()*100)\n",
    "print( \"Mean loss of  Validation data of LSTM for level2 augmented data is :\",np.array(history.history['val_loss']).mean())\n",
    "print( \"Mean loss of  training data of LSTM for level2 augmented data is :\",np.array(history.history['loss']).mean())"
   ]
  },
  {
   "cell_type": "code",
   "execution_count": 32,
   "metadata": {
    "colab": {
     "base_uri": "https://localhost:8080/",
     "height": 1000
    },
    "id": "S0mvWiW9uuHB",
    "outputId": "2df76808-fce2-4780-f947-649b87508f46"
   },
   "outputs": [
    {
     "name": "stdout",
     "output_type": "stream",
     "text": [
      "Trial 15 Complete [00h 00m 27s]\n",
      "val_accuracy: 0.8438751101493835\n",
      "\n",
      "Best val_accuracy So Far: 0.9068054556846619\n",
      "Total elapsed time: 00h 07m 32s\n",
      "INFO:tensorflow:Oracle triggered exit\n",
      "Results summary\n",
      "Results in C:/Hyperparameter/10/untitled_project\n",
      "Showing 5 best trials\n",
      "Objective(name='val_accuracy', direction='max')\n",
      "Trial summary\n",
      "Hyperparameters:\n",
      "learning_rate: 0.01\n",
      "batch_size: 256\n",
      "epochs: 5\n",
      "optimizer: adam\n",
      "Score: 0.9068054556846619\n",
      "Trial summary\n",
      "Hyperparameters:\n",
      "learning_rate: 0.0001\n",
      "batch_size: 256\n",
      "epochs: 5\n",
      "optimizer: adam\n",
      "Score: 0.9034427404403687\n",
      "Trial summary\n",
      "Hyperparameters:\n",
      "learning_rate: 0.001\n",
      "batch_size: 256\n",
      "epochs: 5\n",
      "optimizer: rmsprop\n",
      "Score: 0.8981585502624512\n",
      "Trial summary\n",
      "Hyperparameters:\n",
      "learning_rate: 0.001\n",
      "batch_size: 256\n",
      "epochs: 5\n",
      "optimizer: adam\n",
      "Score: 0.8970376253128052\n",
      "Trial summary\n",
      "Hyperparameters:\n",
      "learning_rate: 0.01\n",
      "batch_size: 512\n",
      "epochs: 5\n",
      "optimizer: adam\n",
      "Score: 0.8941553235054016\n",
      "None\n",
      "Model: \"sequential\"\n",
      "_________________________________________________________________\n",
      "Layer (type)                 Output Shape              Param #   \n",
      "=================================================================\n",
      "embedding (Embedding)        (None, 191, 300)          3000000   \n",
      "_________________________________________________________________\n",
      "gru (GRU)                    (None, 191, 512)          1250304   \n",
      "_________________________________________________________________\n",
      "dropout (Dropout)            (None, 191, 512)          0         \n",
      "_________________________________________________________________\n",
      "time_distributed (TimeDistri (None, 191, 512)          262656    \n",
      "_________________________________________________________________\n",
      "flatten (Flatten)            (None, 97792)             0         \n",
      "_________________________________________________________________\n",
      "dense_1 (Dense)              (None, 74)                7236682   \n",
      "=================================================================\n",
      "Total params: 11,749,642\n",
      "Trainable params: 11,749,642\n",
      "Non-trainable params: 0\n",
      "_________________________________________________________________\n",
      "None\n",
      "Hyperparameters for GRU are <tensorflow.python.keras.engine.sequential.Sequential object at 0x7f215c0df070>\n",
      "{'learning_rate': 0.01, 'batch_size': 256, 'epochs': 5, 'optimizer': 'adam'}\n",
      "Epoch 1/5\n",
      "98/98 [==============================] - 7s 64ms/step - loss: 0.1600 - accuracy: 0.9491 - val_loss: 0.3417 - val_accuracy: 0.9022\n",
      "Epoch 2/5\n",
      "98/98 [==============================] - 6s 61ms/step - loss: 0.1543 - accuracy: 0.9494 - val_loss: 0.3167 - val_accuracy: 0.9071\n",
      "Epoch 3/5\n",
      "98/98 [==============================] - 6s 61ms/step - loss: 0.1334 - accuracy: 0.9546 - val_loss: 0.3073 - val_accuracy: 0.9129\n",
      "Epoch 4/5\n",
      "98/98 [==============================] - 6s 61ms/step - loss: 0.1131 - accuracy: 0.9607 - val_loss: 0.3076 - val_accuracy: 0.9127\n",
      "Epoch 5/5\n",
      "98/98 [==============================] - 6s 61ms/step - loss: 0.1053 - accuracy: 0.9639 - val_loss: 0.3315 - val_accuracy: 0.9108\n"
     ]
    },
    {
     "data": {
      "image/png": "[encoded data removed]",
      "text/plain": [
       "<Figure size 432x288 with 1 Axes>"
      ]
     },
     "metadata": {
      "needs_background": "light"
     },
     "output_type": "display_data"
    },
    {
     "data": {
      "image/png": "[encoded data removed]",
      "text/plain": [
       "<Figure size 432x288 with 1 Axes>"
      ]
     },
     "metadata": {
      "needs_background": "light"
     },
     "output_type": "display_data"
    },
    {
     "name": "stdout",
     "output_type": "stream",
     "text": [
      "Accuracy of GRU for level2 augmented data is : 91.08086228370667\n",
      "Validation Accuracy of GRU for level2 augmented data is: 96.77690863609314\n",
      "Mean loss of  Validation data of GRU for level2 augmented data is : 0.3209525287151337\n",
      "Mean loss of  training data of GRU for level2 augmented data is : 0.1344526320695877\n"
     ]
    }
   ],
   "source": [
    "tuner =MyTuner(\n",
    "    GRU_model1,\n",
    "    objective='val_accuracy',\n",
    "    max_trials=25,\n",
    "    executions_per_trial=1,\n",
    "    seed=123,\n",
    "    directory=\"C:/Hyperparameter/10\"\n",
    ")\n",
    "\n",
    "tuner.search(X_train_aug2,y_train_aug2,validation_data=(X_test_aug2,y_test_aug2))\n",
    "print(tuner.results_summary(5))\n",
    "best_model_GRU = tuner.get_best_models()[0]\n",
    "print(\"Hyperparameters for GRU are\",best_model_GRU)\n",
    "\n",
    "\n",
    "modelname=\"GRUModel_aug2\"\n",
    "vals=tuner.oracle.get_best_trials(num_trials=1)[0].hyperparameters.values\n",
    "print(vals)\n",
    "batch_size_hyp=list(vals.values())[1]\n",
    "epochs_hyp=list(vals.values())[2]\n",
    "history=best_model_GRU.fit(X_train_aug2,y_train_aug2,batch_size=batch_size_hyp,epochs=epochs_hyp,validation_data=(X_test_aug2,y_test_aug2),callbacks=[early_stopping])\n",
    "plot(best_model_GRU,history)\n",
    "\n",
    "scores_GRU_aug2 =best_model_GRU.evaluate(X_test_aug2, y_test_aug2, verbose=0)\n",
    "scores_GRU_val_aug2 = best_model_GRU.evaluate(X_train_aug2, y_train_aug2, verbose=0)\n",
    "print(\"Accuracy of GRU for level2 augmented data is :\", (scores_GRU_aug2[1]*100))\n",
    "print(\"Validation Accuracy of GRU for level2 augmented data is:\", (scores_GRU_val_aug2[1]*100))\n",
    "#print(\"Validation Accuracy of GRU for level2 augmented data is:\" ,np.array(history.history['val_acc']).mean()*100)\n",
    "print( \"Mean loss of  Validation data of GRU for level2 augmented data is :\",np.array(history.history['val_loss']).mean())\n",
    "print( \"Mean loss of  training data of GRU for level2 augmented data is :\",np.array(history.history['loss']).mean())"
   ]
  },
  {
   "cell_type": "code",
   "execution_count": 33,
   "metadata": {
    "colab": {
     "base_uri": "https://localhost:8080/"
    },
    "id": "yDu5IbHIuxID",
    "outputId": "43bc2782-9cef-4fca-916d-23f543989636"
   },
   "outputs": [
    {
     "name": "stdout",
     "output_type": "stream",
     "text": [
      "Trial 15 Complete [00h 00m 54s]\n",
      "val_accuracy: 0.8883907198905945\n",
      "\n",
      "Best val_accuracy So Far: 0.8962370157241821\n",
      "Total elapsed time: 00h 13m 41s\n",
      "INFO:tensorflow:Oracle triggered exit\n",
      "Results summary\n",
      "Results in C:/Hyperparameter/11/untitled_project\n",
      "Showing 5 best trials\n",
      "Objective(name='val_accuracy', direction='max')\n",
      "Trial summary\n",
      "Hyperparameters:\n",
      "learning_rate: 0.0001\n",
      "batch_size: 256\n",
      "epochs: 5\n",
      "optimizer: rmsprop\n",
      "Score: 0.8962370157241821\n",
      "Trial summary\n",
      "Hyperparameters:\n",
      "learning_rate: 0.001\n",
      "batch_size: 256\n",
      "epochs: 5\n",
      "optimizer: rmsprop\n",
      "Score: 0.8883907198905945\n",
      "Trial summary\n",
      "Hyperparameters:\n",
      "learning_rate: 0.001\n",
      "batch_size: 256\n",
      "epochs: 5\n",
      "optimizer: rmsprop\n",
      "Score: 0.8872697949409485\n",
      "Trial summary\n",
      "Hyperparameters:\n",
      "learning_rate: 0.0001\n",
      "batch_size: 256\n",
      "epochs: 5\n",
      "optimizer: adam\n",
      "Score: 0.8859887719154358\n",
      "Trial summary\n",
      "Hyperparameters:\n",
      "learning_rate: 0.001\n",
      "batch_size: 256\n",
      "epochs: 5\n",
      "optimizer: rmsprop\n",
      "Score: 0.882786214351654\n",
      "None\n",
      "Model: \"sequential\"\n",
      "_________________________________________________________________\n",
      "Layer (type)                 Output Shape              Param #   \n",
      "=================================================================\n",
      "embedding (Embedding)        (None, 191, 300)          3000000   \n",
      "_________________________________________________________________\n",
      "bidirectional (Bidirectional (None, 191, 1024)         3330048   \n",
      "_________________________________________________________________\n",
      "dropout (Dropout)            (None, 191, 1024)         0         \n",
      "_________________________________________________________________\n",
      "time_distributed (TimeDistri (None, 191, 512)          524800    \n",
      "_________________________________________________________________\n",
      "flatten (Flatten)            (None, 97792)             0         \n",
      "_________________________________________________________________\n",
      "dense_1 (Dense)              (None, 74)                7236682   \n",
      "=================================================================\n",
      "Total params: 14,091,530\n",
      "Trainable params: 14,091,530\n",
      "Non-trainable params: 0\n",
      "_________________________________________________________________\n",
      "None\n",
      "Hyperparameters for BILSTM are <tensorflow.python.keras.engine.sequential.Sequential object at 0x7f203437efa0>\n",
      "{'learning_rate': 0.0001, 'batch_size': 256, 'epochs': 5, 'optimizer': 'rmsprop'}\n",
      "Epoch 1/5\n",
      "98/98 [==============================] - 12s 107ms/step - loss: 0.2159 - accuracy: 0.9292 - val_loss: 0.3646 - val_accuracy: 0.8902\n",
      "Epoch 2/5\n",
      "98/98 [==============================] - 10s 103ms/step - loss: 0.1879 - accuracy: 0.9358 - val_loss: 0.3073 - val_accuracy: 0.9046\n",
      "Epoch 3/5\n",
      "98/98 [==============================] - 10s 103ms/step - loss: 0.1465 - accuracy: 0.9480 - val_loss: 0.4263 - val_accuracy: 0.8932\n",
      "Epoch 4/5\n",
      "98/98 [==============================] - 10s 103ms/step - loss: 0.1498 - accuracy: 0.9519 - val_loss: 0.3879 - val_accuracy: 0.8969\n",
      "Epoch 5/5\n",
      "98/98 [==============================] - 10s 103ms/step - loss: 0.1219 - accuracy: 0.9560 - val_loss: 0.3194 - val_accuracy: 0.9166\n"
     ]
    },
    {
     "data": {
      "image/png": "[encoded data removed]",
      "text/plain": [
       "<Figure size 432x288 with 1 Axes>"
      ]
     },
     "metadata": {
      "needs_background": "light"
     },
     "output_type": "display_data"
    },
    {
     "data": {
      "image/png": "[encoded data removed]",
      "text/plain": [
       "<Figure size 432x288 with 1 Axes>"
      ]
     },
     "metadata": {
      "needs_background": "light"
     },
     "output_type": "display_data"
    },
    {
     "name": "stdout",
     "output_type": "stream",
     "text": [
      "Accuracy of BILSTM for level2 augmented data is : 91.65732860565186\n",
      "Validation Accuracy of BILSTM for level2 augmented  data is: 96.06822729110718\n",
      "Mean loss of  Validation data of BILSTM for level2 augmented data is : 0.3611151397228241\n",
      "Mean loss of  training data of BILSTM for level2 augmented data is : 0.1640914961695671\n"
     ]
    }
   ],
   "source": [
    "tuner =MyTuner(\n",
    "    BILSTM_model1,\n",
    "    objective='val_accuracy',\n",
    "    max_trials=25,\n",
    "    executions_per_trial=1,\n",
    "    seed=123,\n",
    "    directory=\"C:/Hyperparameter/11\"\n",
    ")\n",
    "\n",
    "tuner.search(X_train_aug2,y_train_aug2,validation_data=(X_test_aug2,y_test_aug2))\n",
    "print(tuner.results_summary(5))\n",
    "best_model_BILSTM = tuner.get_best_models()[0]\n",
    "print(\"Hyperparameters for BILSTM are\",best_model_BILSTM)\n",
    "\n",
    "\n",
    "modelname=\"BILSTMModel_aug2\"\n",
    "vals=tuner.oracle.get_best_trials(num_trials=1)[0].hyperparameters.values\n",
    "print(vals)\n",
    "batch_size_hyp=list(vals.values())[1]\n",
    "epochs_hyp=list(vals.values())[2]\n",
    "history=best_model_BILSTM.fit(X_train_aug2,y_train_aug2,batch_size=batch_size_hyp,epochs=epochs_hyp,validation_data=(X_test_aug2,y_test_aug2),callbacks=[early_stopping])\n",
    "plot(best_model_BILSTM,history)\n",
    "\n",
    "scores_BILSTM_aug2 =best_model_BILSTM.evaluate(X_test_aug2, y_test_aug2, verbose=0)\n",
    "scores_BILSTM_val_aug2 = best_model_BILSTM.evaluate(X_train_aug2, y_train_aug2, verbose=0)\n",
    "print(\"Accuracy of BILSTM for level2 augmented data is :\", (scores_BILSTM_aug2[1]*100))\n",
    "print(\"Validation Accuracy of BILSTM for level2 augmented  data is:\", (scores_BILSTM_val_aug2[1]*100))\n",
    "#print(\"Validation Accuracy of BILSTM forlevel2 augmented data is:\" ,np.array(history.history['val_acc']).mean()*100)\n",
    "print( \"Mean loss of  Validation data of BILSTM for level2 augmented data is :\",np.array(history.history['val_loss']).mean())\n",
    "print( \"Mean loss of  training data of BILSTM for level2 augmented data is :\",np.array(history.history['loss']).mean())"
   ]
  },
  {
   "cell_type": "code",
   "execution_count": 34,
   "metadata": {
    "id": "_CQwAShGu6_5"
   },
   "outputs": [
    {
     "name": "stdout",
     "output_type": "stream",
     "text": [
      "Trial 15 Complete [00h 00m 49s]\n",
      "val_accuracy: 0.9084067344665527\n",
      "\n",
      "Best val_accuracy So Far: 0.9168935418128967\n",
      "Total elapsed time: 00h 12m 28s\n",
      "INFO:tensorflow:Oracle triggered exit\n",
      "Results summary\n",
      "Results in C:/Hyperparameter/12/untitled_project\n",
      "Showing 5 best trials\n",
      "Objective(name='val_accuracy', direction='max')\n",
      "Trial summary\n",
      "Hyperparameters:\n",
      "learning_rate: 0.0001\n",
      "batch_size: 256\n",
      "epochs: 5\n",
      "optimizer: rmsprop\n",
      "Score: 0.9168935418128967\n",
      "Trial summary\n",
      "Hyperparameters:\n",
      "learning_rate: 0.001\n",
      "batch_size: 256\n",
      "epochs: 5\n",
      "optimizer: rmsprop\n",
      "Score: 0.9135308265686035\n",
      "Trial summary\n",
      "Hyperparameters:\n",
      "learning_rate: 0.001\n",
      "batch_size: 256\n",
      "epochs: 5\n",
      "optimizer: rmsprop\n",
      "Score: 0.9108086228370667\n",
      "Trial summary\n",
      "Hyperparameters:\n",
      "learning_rate: 0.001\n",
      "batch_size: 256\n",
      "epochs: 5\n",
      "optimizer: rmsprop\n",
      "Score: 0.9104883670806885\n",
      "Trial summary\n",
      "Hyperparameters:\n",
      "learning_rate: 0.001\n",
      "batch_size: 256\n",
      "epochs: 5\n",
      "optimizer: rmsprop\n",
      "Score: 0.9100080132484436\n",
      "None\n",
      "Model: \"sequential\"\n",
      "_________________________________________________________________\n",
      "Layer (type)                 Output Shape              Param #   \n",
      "=================================================================\n",
      "embedding (Embedding)        (None, 191, 300)          3000000   \n",
      "_________________________________________________________________\n",
      "bidirectional (Bidirectional (None, 191, 1024)         2500608   \n",
      "_________________________________________________________________\n",
      "dropout (Dropout)            (None, 191, 1024)         0         \n",
      "_________________________________________________________________\n",
      "time_distributed (TimeDistri (None, 191, 512)          524800    \n",
      "_________________________________________________________________\n",
      "flatten (Flatten)            (None, 97792)             0         \n",
      "_________________________________________________________________\n",
      "dense_1 (Dense)              (None, 74)                7236682   \n",
      "=================================================================\n",
      "Total params: 13,262,090\n",
      "Trainable params: 13,262,090\n",
      "Non-trainable params: 0\n",
      "_________________________________________________________________\n",
      "None\n",
      "Hyperparameters for BIGRU are <tensorflow.python.keras.engine.sequential.Sequential object at 0x7f2064083f70>\n",
      "{'learning_rate': 0.0001, 'batch_size': 256, 'epochs': 5, 'optimizer': 'rmsprop'}\n",
      "Epoch 1/5\n",
      "98/98 [==============================] - 11s 96ms/step - loss: 0.1399 - accuracy: 0.9521 - val_loss: 0.2716 - val_accuracy: 0.9127\n",
      "Epoch 2/5\n",
      "98/98 [==============================] - 9s 93ms/step - loss: 0.1336 - accuracy: 0.9535 - val_loss: 0.2852 - val_accuracy: 0.9174\n",
      "Epoch 3/5\n",
      "98/98 [==============================] - 9s 93ms/step - loss: 0.1051 - accuracy: 0.9618 - val_loss: 0.2861 - val_accuracy: 0.9231\n",
      "Epoch 4/5\n",
      "98/98 [==============================] - 9s 95ms/step - loss: 0.1041 - accuracy: 0.9620 - val_loss: 0.2943 - val_accuracy: 0.9211\n",
      "Epoch 5/5\n",
      "98/98 [==============================] - 9s 94ms/step - loss: 0.0958 - accuracy: 0.9651 - val_loss: 0.2901 - val_accuracy: 0.9207\n"
     ]
    },
    {
     "data": {
      "image/png": "[encoded data removed]",
      "text/plain": [
       "<Figure size 432x288 with 1 Axes>"
      ]
     },
     "metadata": {
      "needs_background": "light"
     },
     "output_type": "display_data"
    },
    {
     "data": {
      "image/png": "[encoded data removed]",
      "text/plain": [
       "<Figure size 432x288 with 1 Axes>"
      ]
     },
     "metadata": {
      "needs_background": "light"
     },
     "output_type": "display_data"
    },
    {
     "name": "stdout",
     "output_type": "stream",
     "text": [
      "Accuracy of BIGRU for level2 augmented data is : 92.07366108894348\n",
      "Validation Accuracy of BIGRU for level2 augmented data is: 96.97309136390686\n",
      "Mean loss of  Validation data of BIGRU for level2 augmented data is : 0.28544187545776367\n",
      "Mean loss of  training data of BIGRU for level2 augmented data is : 0.12415355145931244\n"
     ]
    }
   ],
   "source": [
    "tuner =MyTuner(\n",
    "    BIGRU_model1,\n",
    "    objective='val_accuracy',\n",
    "    max_trials=25,\n",
    "    executions_per_trial=1,\n",
    "    seed=123,\n",
    "    directory=\"C:/Hyperparameter/12\"\n",
    ")\n",
    "\n",
    "tuner.search(X_train_aug2,y_train_aug2,validation_data=(X_test_aug2,y_test_aug2))\n",
    "print(tuner.results_summary(5))\n",
    "best_model_BIGRU = tuner.get_best_models()[0]\n",
    "print(\"Hyperparameters for BIGRU are\",best_model_BIGRU)\n",
    "\n",
    "\n",
    "modelname=\"BIGRUModel_aug2\"\n",
    "vals=tuner.oracle.get_best_trials(num_trials=1)[0].hyperparameters.values\n",
    "print(vals)\n",
    "batch_size_hyp=list(vals.values())[1]\n",
    "epochs_hyp=list(vals.values())[2]\n",
    "history=best_model_BIGRU.fit(X_train_aug2,y_train_aug2,batch_size=batch_size_hyp,epochs=epochs_hyp,validation_data=(X_test_aug2,y_test_aug2),callbacks=[early_stopping])\n",
    "plot(best_model_BIGRU,history)\n",
    "\n",
    "scores_BIGRU_aug2 =best_model_BIGRU.evaluate(X_test_aug2, y_test_aug2, verbose=0)\n",
    "scores_BIGRU_val_aug2 = best_model_BIGRU.evaluate(X_train_aug2, y_train_aug2, verbose=0)\n",
    "print(\"Accuracy of BIGRU for level2 augmented data is :\", (scores_BIGRU_aug2[1]*100))\n",
    "print(\"Validation Accuracy of BIGRU for level2 augmented data is:\", (scores_BIGRU_val_aug2[1]*100))\n",
    "#print(\"Validation Accuracy of BIGRU for level2 augmented data is:\" ,np.array(history.history['val_acc']).mean()*100)\n",
    "print( \"Mean loss of  Validation data of BIGRU for level2 augmented data is :\",np.array(history.history['val_loss']).mean())\n",
    "print( \"Mean loss of  training data of BIGRU for level2 augmented data is :\",np.array(history.history['loss']).mean())"
   ]
  },
  {
   "cell_type": "code",
   "execution_count": 35,
   "metadata": {
    "id": "0QR-8idrvCk6"
   },
   "outputs": [
    {
     "name": "stdout",
     "output_type": "stream",
     "text": [
      "Accuracy of LSTM with hyperparameter tuning for unagumented data is: 58.927518129348755\n",
      "Accuracy of GRU with hyperparameter tuning for unagumented data is: 58.27931761741638\n",
      "Accuracy of BILSTM with hyperparameter tuning unagumented data is: 58.515024185180664\n",
      "Accuracy of BIGRU with hyperparameter tuning unagumented data is: 55.45079708099365\n",
      "Accuracy of LSTM with hyperparameter tuning for level1 augmentation data is: 83.45651030540466\n",
      "Accuracy of GRU with hyperparameter tuning for level1 augmentation data is: 84.73564386367798\n",
      "Accuracy of BILSTM with hyperparameter tuning for level1 augmentation data is: 83.76918435096741\n",
      "Accuracy of BIGRU with hyperparameter tuning for level1 augmentation data is: 86.49801015853882\n",
      "Accuracy of LSTM with hyperparameter tuning for level2 augmentation data is: 89.46357369422913\n",
      "Accuracy of GRU with hyperparameter tuning for level2 augmentation data is: 91.08086228370667\n",
      "Accuracy of BILSTM with hyperparameter tuning for level2 augmentation data is: 91.65732860565186\n",
      "Accuracy of BIGRU with hyperparameter tuning for level2 augmentation data is: 92.07366108894348\n"
     ]
    }
   ],
   "source": [
    "print(\"Accuracy of LSTM with hyperparameter tuning for unagumented data is:\", (scores_LSTM[1]*100))\n",
    "print(\"Accuracy of GRU with hyperparameter tuning for unagumented data is:\",  (scores_GRU[1]*100))\n",
    "print(\"Accuracy of BILSTM with hyperparameter tuning unagumented data is:\", (scores_BILSTM[1]*100))\n",
    "print(\"Accuracy of BIGRU with hyperparameter tuning unagumented data is:\", (scores_BIGRU[1]*100))\n",
    "\n",
    "\n",
    "print(\"Accuracy of LSTM with hyperparameter tuning for level1 augmentation data is:\", (scores_LSTM_aug1[1]*100))\n",
    "print(\"Accuracy of GRU with hyperparameter tuning for level1 augmentation data is:\", (scores_GRU_aug1[1]*100))\n",
    "print(\"Accuracy of BILSTM with hyperparameter tuning for level1 augmentation data is:\", (scores_BILSTM_aug1[1]*100))\n",
    "print(\"Accuracy of BIGRU with hyperparameter tuning for level1 augmentation data is:\", (scores_BIGRU_aug1[1]*100))\n",
    "\n",
    "\n",
    "print(\"Accuracy of LSTM with hyperparameter tuning for level2 augmentation data is:\", (scores_LSTM_aug2[1]*100))\n",
    "print(\"Accuracy of GRU with hyperparameter tuning for level2 augmentation data is:\", (scores_GRU_aug2[1]*100))\n",
    "print(\"Accuracy of BILSTM with hyperparameter tuning for level2 augmentation data is:\", (scores_BILSTM_aug2[1]*100))\n",
    "print(\"Accuracy of BIGRU with hyperparameter tuning for level2 augmentation data is:\", (scores_BIGRU_aug2[1]*100))\n"
   ]
  },
  {
   "cell_type": "code",
   "execution_count": null,
   "metadata": {
    "id": "8K-LGoiB6cH2"
   },
   "outputs": [],
   "source": []
  }
 ],
 "metadata": {
  "accelerator": "TPU",
  "colab": {
   "collapsed_sections": [],
   "name": "cp_dl.ipynb",
   "provenance": []
  },
  "kernelspec": {
   "display_name": "Python 3",
   "language": "python",
   "name": "python3"
  },
  "language_info": {
   "codemirror_mode": {
    "name": "ipython",
    "version": 3
   },
   "file_extension": ".py",
   "mimetype": "text/x-python",
   "name": "python",
   "nbconvert_exporter": "python",
   "pygments_lexer": "ipython3",
   "version": "3.8.5"
  }
 },
 "nbformat": 4,
 "nbformat_minor": 1
}
