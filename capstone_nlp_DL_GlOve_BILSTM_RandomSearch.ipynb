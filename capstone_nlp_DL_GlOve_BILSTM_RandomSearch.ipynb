{
  "nbformat": 4,
  "nbformat_minor": 0,
  "metadata": {
    "accelerator": "GPU",
    "colab": {
      "name": "capstone-nlp-DL-GlOve-BILSTM_RandomSearch.ipynb",
      "provenance": [],
      "collapsed_sections": [],
      "toc_visible": true
    },
    "kernelspec": {
      "display_name": "Python 3",
      "language": "python",
      "name": "python3"
    },
    "language_info": {
      "codemirror_mode": {
        "name": "ipython",
        "version": 3
      },
      "file_extension": ".py",
      "mimetype": "text/x-python",
      "name": "python",
      "nbconvert_exporter": "python",
      "pygments_lexer": "ipython3",
      "version": "3.8.5"
    }
  },
  "cells": [
    {
      "cell_type": "markdown",
      "metadata": {
        "id": "hgTu5Caw90Bv"
      },
      "source": [
        "#### Import the necessary libraries"
      ]
    },
    {
      "cell_type": "code",
      "metadata": {
        "id": "GFwQQAsRyHIy",
        "scrolled": true
      },
      "source": [
        "#pip install jupyter_contrib_nbextensions && jupyter contrib nbextension install"
      ],
      "execution_count": null,
      "outputs": []
    },
    {
      "cell_type": "code",
      "metadata": {
        "colab": {
          "base_uri": "https://localhost:8080/"
        },
        "id": "vwhZC_OeyYTx",
        "scrolled": true,
        "outputId": "6836dba1-c88b-476a-8a10-9a15303fb225"
      },
      "source": [
        "#%%script false --no-raise-error\n",
        "!pip install keras-tuner\n",
        "#!pip install seaborn\n",
        "#!pip install sklearn\n",
        "#!pip install numba "
      ],
      "execution_count": null,
      "outputs": [
        {
          "output_type": "stream",
          "text": [
            "Requirement already satisfied: keras-tuner in /usr/local/lib/python3.6/dist-packages (1.0.2)\n",
            "Requirement already satisfied: scikit-learn in /usr/local/lib/python3.6/dist-packages (from keras-tuner) (0.22.2.post1)\n",
            "Requirement already satisfied: scipy in /usr/local/lib/python3.6/dist-packages (from keras-tuner) (1.4.1)\n",
            "Requirement already satisfied: requests in /usr/local/lib/python3.6/dist-packages (from keras-tuner) (2.23.0)\n",
            "Requirement already satisfied: numpy in /usr/local/lib/python3.6/dist-packages (from keras-tuner) (1.19.4)\n",
            "Requirement already satisfied: future in /usr/local/lib/python3.6/dist-packages (from keras-tuner) (0.16.0)\n",
            "Requirement already satisfied: tabulate in /usr/local/lib/python3.6/dist-packages (from keras-tuner) (0.8.7)\n",
            "Requirement already satisfied: tqdm in /usr/local/lib/python3.6/dist-packages (from keras-tuner) (4.41.1)\n",
            "Requirement already satisfied: terminaltables in /usr/local/lib/python3.6/dist-packages (from keras-tuner) (3.1.0)\n",
            "Requirement already satisfied: colorama in /usr/local/lib/python3.6/dist-packages (from keras-tuner) (0.4.4)\n",
            "Requirement already satisfied: packaging in /usr/local/lib/python3.6/dist-packages (from keras-tuner) (20.8)\n",
            "Requirement already satisfied: joblib>=0.11 in /usr/local/lib/python3.6/dist-packages (from scikit-learn->keras-tuner) (1.0.0)\n",
            "Requirement already satisfied: certifi>=2017.4.17 in /usr/local/lib/python3.6/dist-packages (from requests->keras-tuner) (2020.12.5)\n",
            "Requirement already satisfied: idna<3,>=2.5 in /usr/local/lib/python3.6/dist-packages (from requests->keras-tuner) (2.10)\n",
            "Requirement already satisfied: chardet<4,>=3.0.2 in /usr/local/lib/python3.6/dist-packages (from requests->keras-tuner) (3.0.4)\n",
            "Requirement already satisfied: urllib3!=1.25.0,!=1.25.1,<1.26,>=1.21.1 in /usr/local/lib/python3.6/dist-packages (from requests->keras-tuner) (1.24.3)\n",
            "Requirement already satisfied: pyparsing>=2.0.2 in /usr/local/lib/python3.6/dist-packages (from packaging->keras-tuner) (2.4.7)\n"
          ],
          "name": "stdout"
        }
      ]
    },
    {
      "cell_type": "code",
      "metadata": {
        "colab": {
          "base_uri": "https://localhost:8080/"
        },
        "id": "m4MQemInNflK",
        "outputId": "66a5d83a-0aee-4f57-be36-26f3f0ccf414"
      },
      "source": [
        "from google.colab import drive\n",
        "drive.mount('/content/drive')"
      ],
      "execution_count": null,
      "outputs": [
        {
          "output_type": "stream",
          "text": [
            "Drive already mounted at /content/drive; to attempt to forcibly remount, call drive.mount(\"/content/drive\", force_remount=True).\n"
          ],
          "name": "stdout"
        }
      ]
    },
    {
      "cell_type": "code",
      "metadata": {
        "id": "vtGusp6mPmmY"
      },
      "source": [
        "#!wget http://nlp.stanford.edu/data/glove.840B.300d.zip -P drive/MyDrive/embeddings"
      ],
      "execution_count": null,
      "outputs": []
    },
    {
      "cell_type": "code",
      "metadata": {
        "id": "0e1-S7X6RfBS"
      },
      "source": [
        "#!ls\n",
        "#!cd drive/MyDrive\n",
        "#!mv glove* drive/MyDrive/embeddings\n",
        "#!unzip drive/MyDrive/embeddings/glove*.zip drive/MyDrive/embeddings/."
      ],
      "execution_count": null,
      "outputs": []
    },
    {
      "cell_type": "code",
      "metadata": {
        "colab": {
          "base_uri": "https://localhost:8080/"
        },
        "id": "JVPhbbDUqpJr",
        "scrolled": false,
        "outputId": "2b5151a1-c572-41e8-95c8-bc8d964810ae"
      },
      "source": [
        "#!ls -al\n",
        "!rm -r checkpoint*\n",
        "!rm -r my_logs\n",
        "!rm -r logs*\n",
        "!rm -r outputs*\n",
        "#!ls -al"
      ],
      "execution_count": null,
      "outputs": [
        {
          "output_type": "stream",
          "text": [
            "rm: cannot remove 'checkpoint*': No such file or directory\n",
            "rm: cannot remove 'logs*': No such file or directory\n"
          ],
          "name": "stdout"
        }
      ]
    },
    {
      "cell_type": "code",
      "metadata": {
        "id": "O3vI8jSIz_Fs",
        "scrolled": true
      },
      "source": [
        "#Import necessary libraries from python\n",
        "import numpy as np\n",
        "import keras\n",
        "import seaborn as sns\n",
        "from matplotlib import pyplot as plt\n",
        "from scipy.io import loadmat\n",
        "import random\n",
        "from random import randrange\n",
        "import pandas as pd\n",
        "from sklearn import preprocessing\n",
        "from sklearn.feature_extraction.text import CountVectorizer, TfidfVectorizer\n",
        "from sklearn.model_selection import train_test_split\n",
        "from sklearn.feature_extraction.text import TfidfTransformer\n",
        "import os \n",
        "import itertools\n",
        "from random import seed\n",
        "from random import randint\n",
        "#Import Tensorflow, keras, libraries for model building and tuning\n",
        "import tensorflow as tf\n",
        "from tensorflow.keras.models import Sequential, Model\n",
        "from tensorflow.keras.layers import Input, Dropout, Flatten, Dense, Embedding, LSTM, GRU\n",
        "from tensorflow.keras.layers import BatchNormalization, TimeDistributed, Conv1D, MaxPooling1D\n",
        "from tensorflow.keras.preprocessing.text import Tokenizer\n",
        "from tensorflow.keras.layers import Concatenate\n",
        "from sklearn.metrics import roc_curve, accuracy_score, precision_score, recall_score, f1_score\n",
        "from sklearn.metrics import precision_recall_curve, confusion_matrix, classification_report\n",
        "from tensorflow.keras.preprocessing.text import Tokenizer\n",
        "from tensorflow.keras.layers import Dense, Dropout, Flatten, Conv2D, MaxPool2D, BatchNormalization, Activation, Embedding\n",
        "from tensorflow.keras import regularizers, optimizers\n",
        "from tensorflow.keras.callbacks import ModelCheckpoint\n",
        "from tensorflow.keras.callbacks import Callback, EarlyStopping\n",
        "from kerastuner import RandomSearch\n",
        "from kerastuner.engine import hyperparameters\n",
        "import kerastuner as kt\n",
        "%matplotlib inline"
      ],
      "execution_count": null,
      "outputs": []
    },
    {
      "cell_type": "code",
      "metadata": {
        "scrolled": true,
        "id": "TQmTLEYoLOe9"
      },
      "source": [
        "#from numba import cuda \n",
        "#device = cuda.get_current_device()\n",
        "#device.reset()\n",
        "\n",
        "\n",
        "#cuda.select_device(0)\n",
        "#cuda.close()"
      ],
      "execution_count": null,
      "outputs": []
    },
    {
      "cell_type": "code",
      "metadata": {
        "scrolled": true,
        "colab": {
          "base_uri": "https://localhost:8080/"
        },
        "id": "2ewmNQhJLOe9",
        "outputId": "af7eb5f5-ffe7-4c29-e7b9-2bb9b95add0f"
      },
      "source": [
        "from distutils.version import LooseVersion\n",
        "\n",
        "# Check TensorFlow Version\n",
        "assert LooseVersion(tf.__version__) >= LooseVersion('1.0'), 'Please use TensorFlow version 1.0 or newer.  You are using {}'.format(tf.__version__)\n",
        "print('TensorFlow Version: {}'.format(tf.__version__))\n",
        "\n",
        "# Check for a GPU\n",
        "if not tf.test.gpu_device_name():\n",
        "    warnings.warn('No GPU found. Please ensure you have installed TensorFlow correctly')\n",
        "else:\n",
        "    print('Default GPU Device: {}'.format(tf.test.gpu_device_name()))"
      ],
      "execution_count": null,
      "outputs": [
        {
          "output_type": "stream",
          "text": [
            "TensorFlow Version: 2.4.0\n",
            "Default GPU Device: /device:GPU:0\n"
          ],
          "name": "stdout"
        }
      ]
    },
    {
      "cell_type": "code",
      "metadata": {
        "scrolled": true,
        "colab": {
          "base_uri": "https://localhost:8080/"
        },
        "id": "Hqw2FbFTLOe9",
        "outputId": "ddc7852e-48d0-4e01-acbb-3044b1683e5d"
      },
      "source": [
        "gpus = tf.config.experimental.list_physical_devices('GPU')\n",
        "if gpus:\n",
        "  # Restrict TensorFlow to only allocate 1GB of memory on the first GPU\n",
        "  try:\n",
        "    tf.config.experimental.set_virtual_device_configuration(\n",
        "        gpus[0],\n",
        "        [tf.config.experimental.VirtualDeviceConfiguration(memory_limit=10000)])\n",
        "    logical_gpus = tf.config.experimental.list_logical_devices('GPU')\n",
        "    print(len(gpus), \"Physical GPUs,\", len(logical_gpus), \"Logical GPUs\")\n",
        "  except RuntimeError as e:\n",
        "    # Virtual devices must be set before GPUs have been initialized\n",
        "    print(e)"
      ],
      "execution_count": null,
      "outputs": [
        {
          "output_type": "stream",
          "text": [
            "1 Physical GPUs, 1 Logical GPUs\n"
          ],
          "name": "stdout"
        }
      ]
    },
    {
      "cell_type": "code",
      "metadata": {
        "id": "YWdiz3n_z_Fy",
        "scrolled": true
      },
      "source": [
        "#mydata = pd.read_csv('datasets/input_data_after_preprocessing_for_ml.csv')\n",
        "augmented_df = pd.read_csv('drive/MyDrive/datasets/pre_data_dl_aug2.csv')"
      ],
      "execution_count": null,
      "outputs": []
    },
    {
      "cell_type": "code",
      "metadata": {
        "scrolled": true,
        "id": "_P5fOdnPLOe-"
      },
      "source": [
        "#Tfidf_vect = TfidfVectorizer(max_features=5000)\n",
        "#Tfidf_vect.fit(Ticket.Description)\n",
        "#X_train_tfidf = Tfidf_vect.transform(X_train)\n",
        "#X_test_tfidf = Tfidf_vect.transform(X_test)"
      ],
      "execution_count": null,
      "outputs": []
    },
    {
      "cell_type": "code",
      "metadata": {
        "scrolled": true,
        "colab": {
          "base_uri": "https://localhost:8080/"
        },
        "id": "4g1A7nmcLOe-",
        "outputId": "d99ce2c5-ecf5-4cd2-975e-3f3bb64ca343"
      },
      "source": [
        "len(augmented_df['Assignment group'])"
      ],
      "execution_count": null,
      "outputs": [
        {
          "output_type": "execute_result",
          "data": {
            "text/plain": [
              "31221"
            ]
          },
          "metadata": {
            "tags": []
          },
          "execution_count": 13
        }
      ]
    },
    {
      "cell_type": "code",
      "metadata": {
        "colab": {
          "base_uri": "https://localhost:8080/"
        },
        "id": "2l7njF9MLOe-",
        "outputId": "6e374d1c-3d79-4375-9f0e-7397f9adc811"
      },
      "source": [
        "df2 = augmented_df\n",
        "augmented_df['Assignment group by number'] = augmented_df['Assignment group'].str[4:]\n",
        "augmented_df['Assignment group by number'] = augmented_df['Assignment group by number'].astype(int)\n",
        "augmented_df.info()"
      ],
      "execution_count": null,
      "outputs": [
        {
          "output_type": "stream",
          "text": [
            "<class 'pandas.core.frame.DataFrame'>\n",
            "RangeIndex: 31221 entries, 0 to 31220\n",
            "Data columns (total 5 columns):\n",
            " #   Column                        Non-Null Count  Dtype \n",
            "---  ------                        --------------  ----- \n",
            " 0   Unnamed: 0                    31221 non-null  int64 \n",
            " 1   Combined Description Cleaned  31221 non-null  object\n",
            " 2   Assignment group              31221 non-null  object\n",
            " 3   LabelEncodings                31221 non-null  int64 \n",
            " 4   Assignment group by number    31221 non-null  int64 \n",
            "dtypes: int64(3), object(2)\n",
            "memory usage: 1.2+ MB\n"
          ],
          "name": "stdout"
        }
      ]
    },
    {
      "cell_type": "code",
      "metadata": {
        "scrolled": true,
        "colab": {
          "base_uri": "https://localhost:8080/",
          "height": 485
        },
        "id": "a-5oDYe6LOe-",
        "outputId": "b636c222-5334-4821-d357-c7484d366e1e"
      },
      "source": [
        "augmented_df"
      ],
      "execution_count": null,
      "outputs": [
        {
          "output_type": "execute_result",
          "data": {
            "text/html": [
              "<div>\n",
              "<style scoped>\n",
              "    .dataframe tbody tr th:only-of-type {\n",
              "        vertical-align: middle;\n",
              "    }\n",
              "\n",
              "    .dataframe tbody tr th {\n",
              "        vertical-align: top;\n",
              "    }\n",
              "\n",
              "    .dataframe thead th {\n",
              "        text-align: right;\n",
              "    }\n",
              "</style>\n",
              "<table border=\"1\" class=\"dataframe\">\n",
              "  <thead>\n",
              "    <tr style=\"text-align: right;\">\n",
              "      <th></th>\n",
              "      <th>Unnamed: 0</th>\n",
              "      <th>Combined Description Cleaned</th>\n",
              "      <th>Assignment group</th>\n",
              "      <th>LabelEncodings</th>\n",
              "      <th>Assignment group by number</th>\n",
              "    </tr>\n",
              "  </thead>\n",
              "  <tbody>\n",
              "    <tr>\n",
              "      <th>0</th>\n",
              "      <td>0</td>\n",
              "      <td>login issue user manager name checked the name...</td>\n",
              "      <td>GRP_0</td>\n",
              "      <td>0</td>\n",
              "      <td>0</td>\n",
              "    </tr>\n",
              "    <tr>\n",
              "      <th>1</th>\n",
              "      <td>1</td>\n",
              "      <td>outlook received from hello team my are not in...</td>\n",
              "      <td>GRP_0</td>\n",
              "      <td>0</td>\n",
              "      <td>0</td>\n",
              "    </tr>\n",
              "    <tr>\n",
              "      <th>2</th>\n",
              "      <td>2</td>\n",
              "      <td>cannot log in to received from hi i cannot on ...</td>\n",
              "      <td>GRP_0</td>\n",
              "      <td>0</td>\n",
              "      <td>0</td>\n",
              "    </tr>\n",
              "    <tr>\n",
              "      <th>3</th>\n",
              "      <td>3</td>\n",
              "      <td>unable to access tool page</td>\n",
              "      <td>GRP_0</td>\n",
              "      <td>0</td>\n",
              "      <td>0</td>\n",
              "    </tr>\n",
              "    <tr>\n",
              "      <th>4</th>\n",
              "      <td>4</td>\n",
              "      <td>error</td>\n",
              "      <td>GRP_0</td>\n",
              "      <td>0</td>\n",
              "      <td>0</td>\n",
              "    </tr>\n",
              "    <tr>\n",
              "      <th>...</th>\n",
              "      <td>...</td>\n",
              "      <td>...</td>\n",
              "      <td>...</td>\n",
              "      <td>...</td>\n",
              "      <td>...</td>\n",
              "    </tr>\n",
              "    <tr>\n",
              "      <th>31216</th>\n",
              "      <td>14776</td>\n",
              "      <td>setup eu difficult we</td>\n",
              "      <td>GRP_24</td>\n",
              "      <td>17</td>\n",
              "      <td>24</td>\n",
              "    </tr>\n",
              "    <tr>\n",
              "      <th>31217</th>\n",
              "      <td>14777</td>\n",
              "      <td>configuration eu easier we</td>\n",
              "      <td>GRP_24</td>\n",
              "      <td>17</td>\n",
              "      <td>24</td>\n",
              "    </tr>\n",
              "    <tr>\n",
              "      <th>31218</th>\n",
              "      <td>14778</td>\n",
              "      <td>disable eu tool we</td>\n",
              "      <td>GRP_24</td>\n",
              "      <td>17</td>\n",
              "      <td>24</td>\n",
              "    </tr>\n",
              "    <tr>\n",
              "      <th>31219</th>\n",
              "      <td>14779</td>\n",
              "      <td>configure eu use we</td>\n",
              "      <td>GRP_24</td>\n",
              "      <td>17</td>\n",
              "      <td>24</td>\n",
              "    </tr>\n",
              "    <tr>\n",
              "      <th>31220</th>\n",
              "      <td>14780</td>\n",
              "      <td>configure o tool we</td>\n",
              "      <td>GRP_24</td>\n",
              "      <td>17</td>\n",
              "      <td>24</td>\n",
              "    </tr>\n",
              "  </tbody>\n",
              "</table>\n",
              "<p>31221 rows × 5 columns</p>\n",
              "</div>"
            ],
            "text/plain": [
              "       Unnamed: 0  ... Assignment group by number\n",
              "0               0  ...                          0\n",
              "1               1  ...                          0\n",
              "2               2  ...                          0\n",
              "3               3  ...                          0\n",
              "4               4  ...                          0\n",
              "...           ...  ...                        ...\n",
              "31216       14776  ...                         24\n",
              "31217       14777  ...                         24\n",
              "31218       14778  ...                         24\n",
              "31219       14779  ...                         24\n",
              "31220       14780  ...                         24\n",
              "\n",
              "[31221 rows x 5 columns]"
            ]
          },
          "metadata": {
            "tags": []
          },
          "execution_count": 15
        }
      ]
    },
    {
      "cell_type": "code",
      "metadata": {
        "scrolled": true,
        "colab": {
          "base_uri": "https://localhost:8080/"
        },
        "id": "wvNshn3mLOe_",
        "outputId": "d9997ef6-95a2-4225-e4e5-bf7ac84c1332"
      },
      "source": [
        "y = np.asarray(augmented_df['Assignment group by number'])\n",
        "y"
      ],
      "execution_count": null,
      "outputs": [
        {
          "output_type": "execute_result",
          "data": {
            "text/plain": [
              "array([ 0,  0,  0, ..., 24, 24, 24])"
            ]
          },
          "metadata": {
            "tags": []
          },
          "execution_count": 16
        }
      ]
    },
    {
      "cell_type": "code",
      "metadata": {
        "id": "4MPnBlVFLOe_"
      },
      "source": [
        "labels = tf.keras.utils.to_categorical(augmented_df['Assignment group by number'])"
      ],
      "execution_count": null,
      "outputs": []
    },
    {
      "cell_type": "code",
      "metadata": {
        "colab": {
          "base_uri": "https://localhost:8080/"
        },
        "id": "5OIkfYTXLOe_",
        "outputId": "02e7085f-3b95-44ea-acf8-93172ce624db"
      },
      "source": [
        "#labels[np.arange(arr.size),arr] = 1\n",
        "labels"
      ],
      "execution_count": null,
      "outputs": [
        {
          "output_type": "execute_result",
          "data": {
            "text/plain": [
              "array([[1., 0., 0., ..., 0., 0., 0.],\n",
              "       [1., 0., 0., ..., 0., 0., 0.],\n",
              "       [1., 0., 0., ..., 0., 0., 0.],\n",
              "       ...,\n",
              "       [0., 0., 0., ..., 0., 0., 0.],\n",
              "       [0., 0., 0., ..., 0., 0., 0.],\n",
              "       [0., 0., 0., ..., 0., 0., 0.]], dtype=float32)"
            ]
          },
          "metadata": {
            "tags": []
          },
          "execution_count": 18
        }
      ]
    },
    {
      "cell_type": "code",
      "metadata": {
        "scrolled": true,
        "id": "seK9qyPBLOe_"
      },
      "source": [
        "#Tfidf_vect = TfidfVectorizer(max_features=5000)\n",
        "#X_train_counts =Tfidf_vect.fit_transform(augmented_df['Combined Description Cleaned'])\n",
        "#X_train_counts = count_vect.fit_transform(augmented_df['Combined Description Cleaned'])\n",
        "#X_train_tfidf = Tfidf_vect.transform(X_train)\n",
        "#X_test_tfidf = Tfidf_vect.transform(X_test)\n",
        "#print(X_train_counts.shape)"
      ],
      "execution_count": null,
      "outputs": []
    },
    {
      "cell_type": "code",
      "metadata": {
        "scrolled": true,
        "id": "Ua0v8V3DLOe_"
      },
      "source": [
        "#count_vect = CountVectorizer()\n",
        "#X_train_counts = count_vect.fit_transform(augmented_df['Combined Description Cleaned'])\n",
        "#print(X_train_counts.shape)"
      ],
      "execution_count": null,
      "outputs": []
    },
    {
      "cell_type": "code",
      "metadata": {
        "scrolled": true,
        "id": "F9zCiVOZLOe_"
      },
      "source": [
        "#tfidf_transformer = TfidfTransformer()\n",
        "#X_train_tfidf = tfidf_transformer.fit_transform(X_train_counts)\n",
        "#print(X_train_tfidf.shape)"
      ],
      "execution_count": null,
      "outputs": []
    },
    {
      "cell_type": "code",
      "metadata": {
        "scrolled": true,
        "id": "N-jf2X8VLOfA"
      },
      "source": [
        "# test_size = 0.3\n",
        "#X_train, X_test, y_train, y_test = train_test_split(X_train_tfidf, y, test_size=test_size)"
      ],
      "execution_count": null,
      "outputs": []
    },
    {
      "cell_type": "code",
      "metadata": {
        "scrolled": true,
        "id": "bzUFzkkULOfA"
      },
      "source": [
        "#X_train_tfidf"
      ],
      "execution_count": null,
      "outputs": []
    },
    {
      "cell_type": "code",
      "metadata": {
        "scrolled": true,
        "id": "ZhsSvdnHLOfA"
      },
      "source": [
        "#X_train_tfidf_reordered = tf.sparse.reorder(X_train_tfidf)\n",
        "#y_train_reordered = tf.sparse.reorder(y_train)\n",
        "#y_train"
      ],
      "execution_count": null,
      "outputs": []
    },
    {
      "cell_type": "code",
      "metadata": {
        "scrolled": true,
        "id": "bHW2CMaeLOfA"
      },
      "source": [
        "BATCH_SIZE=128\n",
        "EPOCHS=100"
      ],
      "execution_count": null,
      "outputs": []
    },
    {
      "cell_type": "code",
      "metadata": {
        "scrolled": true,
        "id": "0Vi4UAuuLOfA"
      },
      "source": [
        "import os\n",
        "project_path = 'embeddings'\n",
        "#os.chdir(project_path)\n",
        "# Create embedding matrix\n",
        "EMBEDDING_FILE = 'drive/MyDrive/embeddings/glove.840B.300d.txt'\n",
        "MAX_SEQUENCE_LENGTH = 500\n",
        "EMBEDDING_DIM=300\n",
        "MAX_NB_WORDS=75000\n",
        "\n",
        "# Function to generate Embedding\n",
        "def loadData_Tokenizer(X_train, X_test,filename):\n",
        "    np.random.seed(7)\n",
        "    text = np.concatenate((X_train, X_test), axis=0)\n",
        "    text = np.array(text)\n",
        "    tokenizer = Tokenizer(num_words=MAX_NB_WORDS)\n",
        "    tokenizer.fit_on_texts(text)\n",
        "    sequences = tokenizer.texts_to_sequences(text)\n",
        "    word_index = tokenizer.word_index\n",
        "    text = pad_sequences(sequences, maxlen=MAX_SEQUENCE_LENGTH)\n",
        "    print('Found %s unique tokens.' % len(word_index))\n",
        "    indices = np.arange(text.shape[0])\n",
        "    text = text[indices]\n",
        "    print(text.shape)\n",
        "    X_train = text[0:len(X_train), ]\n",
        "    X_test = text[len(X_train):, ]\n",
        "    embeddings_index = {}\n",
        "    print(filename)\n",
        "    print(os.getcwd())\n",
        "    f = open(filename, encoding=\"utf8\")\n",
        "    for line in f:\n",
        "        values = line.split()\n",
        "        word = values[0]\n",
        "        try:\n",
        "            coefs = np.asarray(values[1:], dtype='float32')\n",
        "        except:\n",
        "            pass\n",
        "        embeddings_index[word] = coefs\n",
        "    f.close()\n",
        "    print('Total %s word vectors.' % len(embeddings_index))\n",
        "    return (X_train, X_test, word_index,embeddings_index)\n",
        "\n",
        "\n",
        "embedding_matrix = []"
      ],
      "execution_count": null,
      "outputs": []
    },
    {
      "cell_type": "code",
      "metadata": {
        "scrolled": true,
        "id": "Tyos59e9LOfA"
      },
      "source": [
        "def buildEmbed_matrices(word_index,embedding_dim):\n",
        "    embedding_matrix = np.random.random((len(word_index) + 1, embedding_dim))\n",
        "    for word, i in word_index.items():\n",
        "        embedding_vector = embeddings_index.get(word)\n",
        "        if embedding_vector is not None:\n",
        "            # words not found in embedding index will be all-zeros.\n",
        "            if len(embedding_matrix[i]) !=len(embedding_vector):\n",
        "                print(\"could not broadcast input array from shape\",str(len(embedding_matrix[i])), \"into shape\",str(len(embedding_vector)),\n",
        "                      \" Please make sure your\"\" EMBEDDING_DIM is equal to embedding_vector file ,GloVe,\")\n",
        "                exit(1)\n",
        "            embedding_matrix[i] = embedding_vector\n",
        "    return embedding_matrix"
      ],
      "execution_count": null,
      "outputs": []
    },
    {
      "cell_type": "code",
      "metadata": {
        "scrolled": true,
        "colab": {
          "base_uri": "https://localhost:8080/"
        },
        "id": "um4yKBP5LOfB",
        "outputId": "f243fa3a-13ab-4c53-8de2-879c7fd7959e"
      },
      "source": [
        "# Make a copy of the Ticket dataframe for future use\n",
        "augmented_df_copy = augmented_df\n",
        "# Create training and test datasets with 80:20 ratio\n",
        "X_train, X_test, y_train, y_test = train_test_split(augmented_df['Combined Description Cleaned'], \n",
        "                                                    y, \n",
        "                                                    test_size=0.20, \n",
        "                                                    random_state=42,\n",
        "                                                    shuffle=True,\n",
        "                                                    stratify=y)\n",
        "print('\\033[1mShape of the training set:\\033[0m', X_train.shape, X_test.shape)\n",
        "print('\\033[1mShape of the test set:\\033[0m', X_test.shape, y_test.shape)"
      ],
      "execution_count": null,
      "outputs": [
        {
          "output_type": "stream",
          "text": [
            "\u001b[1mShape of the training set:\u001b[0m (24976,) (6245,)\n",
            "\u001b[1mShape of the test set:\u001b[0m (6245,) (6245,)\n"
          ],
          "name": "stdout"
        }
      ]
    },
    {
      "cell_type": "code",
      "metadata": {
        "scrolled": true,
        "colab": {
          "base_uri": "https://localhost:8080/"
        },
        "id": "XkWUhIkQLOfB",
        "outputId": "cff1c5fd-f06b-43ab-9f4d-f6b481c377d3"
      },
      "source": [
        "# Generate Glove embedded datasets\n",
        "from tensorflow.keras.preprocessing.sequence import pad_sequences\n",
        "X_train_Glove, X_test_Glove, word_index, embeddings_index = loadData_Tokenizer(X_train,X_test,EMBEDDING_FILE)\n",
        "embedding_matrix = buildEmbed_matrices(word_index,EMBEDDING_DIM)"
      ],
      "execution_count": null,
      "outputs": [
        {
          "output_type": "stream",
          "text": [
            "Found 4424 unique tokens.\n",
            "(31221, 500)\n",
            "drive/MyDrive/embeddings/glove.840B.300d.txt\n",
            "/content\n",
            "Total 2195884 word vectors.\n"
          ],
          "name": "stdout"
        }
      ]
    },
    {
      "cell_type": "code",
      "metadata": {
        "scrolled": true,
        "id": "nZlfiqPMLOfB",
        "colab": {
          "base_uri": "https://localhost:8080/"
        },
        "outputId": "9b5fbded-0dea-44d7-cd03-fe029b5878a6"
      },
      "source": [
        "value = augmented_df['Assignment group'].value_counts().sort_values(ascending=False).index\n",
        "len(value)"
      ],
      "execution_count": null,
      "outputs": [
        {
          "output_type": "execute_result",
          "data": {
            "text/plain": [
              "74"
            ]
          },
          "metadata": {
            "tags": []
          },
          "execution_count": 30
        }
      ]
    },
    {
      "cell_type": "code",
      "metadata": {
        "scrolled": true,
        "id": "HTmjyAaOLOfB"
      },
      "source": [
        "# A method to train and test the model\n",
        "def run_dl_model(model, X_train, X_test, y_train, y_test, \n",
        "                       epochs=10,batch_size=128, logs_dir=\"my_logs\"):\n",
        "\n",
        "    tf.keras.backend.clear_session()\n",
        "    #checkpoint_every_epoch = get_checkpoint_every_epoch()\n",
        "    run_logdir = get_run_logdir(root_logdir=logs_dir) # e.g., './my_logs/' + run_id\n",
        "    tensorboard_cb = keras.callbacks.TensorBoard(run_logdir)\n",
        "    checkpoint_best_only = get_checkpoint_best_only()\n",
        "    early_stopping = get_early_stopping(monitor='val_loss', mode='min',patience=5)\n",
        "    reduce_lr = reduce_learning_rate_on_plateaue(monitor='val_loss', mode='min', patience=5)\n",
        "    with tf.device(\"/gpu:0\"): \n",
        "        history = model.fit(X_train, y_train, validation_data=(X_test, y_test),epochs=epochs, batch_size=batch_size,verbose=1,\n",
        "                            callbacks=[tensorboard_cb, PrintValTrainRatioCallback(),\n",
        "                            #checkpoint_every_epoch,\n",
        "                            checkpoint_best_only,\n",
        "                            reduce_lr ,\n",
        "                            print_lr,\n",
        "                            early_stopping\n",
        "                            ])\n",
        "      \n",
        "    return history"
      ],
      "execution_count": null,
      "outputs": []
    },
    {
      "cell_type": "markdown",
      "metadata": {
        "id": "0lu8i-pK_RWu"
      },
      "source": [
        "### Build the MLP model first"
      ]
    },
    {
      "cell_type": "markdown",
      "metadata": {
        "id": "ak82cDPr_rDL"
      },
      "source": [
        "##### Define a few useful functions and classes"
      ]
    },
    {
      "cell_type": "code",
      "metadata": {
        "id": "kapVWN0ZT4Zb",
        "scrolled": true
      },
      "source": [
        "def get_evaluation_accuracy(model, X_test, y_test):\n",
        "    \"\"\"Test model classification accuracy\"\"\"\n",
        "    eval_loss, eval_acc = model.evaluate(x=X_test, y=y_test, verbose=0)\n",
        "    print('Evaluation Accuracy: {acc:0.3f}'.format(acc=eval_acc))\n",
        "    print('Evaluation Loss: {acc:0.3f}'.format(acc=eval_loss))\n",
        "\n",
        "# Function to build Deep NN\n",
        "def build_dnn_model(shape, nClasses, dropout=0.3):\n",
        "    model = Sequential()\n",
        "    node = 512 # number of nodes\n",
        "    nLayers = 4 # number of  hidden layer\n",
        "    model.add(Dense(node,input_dim=shape,activation='relu'))\n",
        "    model.add(Dropout(dropout))\n",
        "    for i in range(0,nLayers):\n",
        "        model.add(Dense(node,input_dim=node,activation='relu'))\n",
        "        model.add(Dropout(dropout))\n",
        "        model.add(BatchNormalization())\n",
        "    model.add(Dense(nClasses, activation='softmax'))\n",
        "    model.compile(loss='sparse_categorical_crossentropy',\n",
        "                  optimizer='adam',\n",
        "                  metrics=['accuracy'])\n",
        "    print(model.summary())\n",
        "    return model\n",
        "\n",
        "def get_optimizer():\n",
        "    return tf.keras.optimizers.SGD(lr=0.001, momentum=0.9)\n",
        "\n",
        "def build_cnn_model(word_index, embeddings_matrix, nclasses,dropout=0.2):\n",
        "    model = Sequential()\n",
        "    embedding_layer = Embedding(len(word_index) + 1,\n",
        "                                EMBEDDING_DIM,\n",
        "                                weights=[embeddings_matrix],\n",
        "                                input_length=MAX_SEQUENCE_LENGTH,\n",
        "                                trainable=True)\n",
        "  # applying a more complex convolutional approach\n",
        "    convs = []\n",
        "    filter_sizes = []\n",
        "    layer = 5\n",
        "    for fl in range(0,layer):\n",
        "        filter_sizes.append((fl+2))\n",
        "    node = 128\n",
        "    sequence_input = Input(shape=(MAX_SEQUENCE_LENGTH,), dtype='int32')\n",
        "    embedded_sequences = embedding_layer(sequence_input)\n",
        "    for fsz in filter_sizes:\n",
        "        l_conv = Conv1D(node, kernel_size=fsz, activation='relu')(embedded_sequences)\n",
        "        l_pool = MaxPooling1D(5)(l_conv)\n",
        "        #l_pool = Dropout(0.25)(l_pool)\n",
        "        convs.append(l_pool)\n",
        "    l_merge = Concatenate(axis=1)(convs)\n",
        "    l_cov1 = Conv1D(node, 5, activation='relu')(l_merge)\n",
        "    l_cov1 = Dropout(dropout)(l_cov1)\n",
        "    l_batch1 = BatchNormalization()(l_cov1)\n",
        "    l_pool1 = MaxPooling1D(5)(l_batch1)\n",
        "    l_cov2 = Conv1D(node, 5, activation='relu')(l_pool1)\n",
        "    l_cov2 = Dropout(dropout)(l_cov2)\n",
        "    l_batch2 = BatchNormalization()(l_cov2)\n",
        "    l_pool2 = MaxPooling1D(30)(l_batch2)\n",
        "    l_flat = Flatten()(l_pool2)\n",
        "    l_dense = Dense(1024, activation='relu')(l_flat)\n",
        "    l_dense = Dropout(dropout)(l_dense)\n",
        "    l_dense = Dense(512, activation='relu')(l_dense)\n",
        "    l_dense = Dropout(dropout)(l_dense)\n",
        "    preds = Dense(nclasses, activation='softmax')(l_dense)\n",
        "    model = Model(sequence_input, preds)\n",
        "    \n",
        "    model.compile(loss='sparse_categorical_crossentropy',\n",
        "                  optimizer=get_optimizer(),\n",
        "                  metrics=['accuracy'])\n",
        "    \n",
        "    print(model.summary())\n",
        "    return model\n",
        "\n",
        "# Build GRU model\n",
        "def build_gru_model(word_index, embeddings_matrix, nclasses,dropout=0.2):\n",
        "    model = Sequential()\n",
        "    hidden_layer = 6\n",
        "    gru_node = 32\n",
        "    \n",
        "    model.add(Embedding(len(word_index) + 1,\n",
        "                                EMBEDDING_DIM,\n",
        "                                weights=[embeddings_matrix],\n",
        "                                input_length=MAX_SEQUENCE_LENGTH,\n",
        "                                trainable=True))\n",
        "    print(gru_node)\n",
        "    for i in range(0,hidden_layer):\n",
        "        model.add(tf.compat.v1.keras.layers.CuDNNGRU(gru_node,return_sequences=True))\n",
        "        model.add(Dropout(dropout))\n",
        "        model.add(BatchNormalization())\n",
        "    model.add(tf.compat.v1.keras.layers.CuDNNGRU(gru_node))\n",
        "    model.add(Dropout(dropout))\n",
        "    model.add(BatchNormalization())\n",
        "    model.add(Dense(256, activation='relu'))\n",
        "    model.add(BatchNormalization())\n",
        "    model.add(Dense(nclasses, activation='softmax'))\n",
        "    model.compile(loss='sparse_categorical_crossentropy',\n",
        "                      optimizer=get_optimizer(),\n",
        "                      metrics=['accuracy'])\n",
        "    \n",
        "    print(model.summary())\n",
        "    return model\n",
        "\n",
        "# Build lstm model\n",
        "\n",
        "def build_lstm_model(#word_index, \n",
        "                     nclasses=74,\n",
        "                     dropout=0.2,\n",
        "                     hidden_layer=6,\n",
        "                     lstm_node = 3,\n",
        "                     dense_node= 256,\n",
        "                     loss='adam',\n",
        "#                     optimizer=get_optimizer(),\n",
        "                     accuracy='accuracy',\n",
        "                     activation='relu',\n",
        "                     output_activation='softmax'\n",
        "                    ):\n",
        "    print(embedding_matrix)\n",
        "    print(len(word_index) + 1)\n",
        "    print(EMBEDDING_DIM)\n",
        "    model = Sequential() \n",
        "    model.add(Embedding(len(word_index) + 1,\n",
        "                                EMBEDDING_DIM,\n",
        "                                weights=[embedding_matrix],\n",
        "                                input_length=MAX_SEQUENCE_LENGTH,\n",
        "                                trainable=True))\n",
        "    #print(gru_node)\n",
        "    for i in range(0,hidden_layer):\n",
        "        model.add(tf.compat.v1.keras.layers.CuDNNLSTM(lstm_node,return_sequences=True))\n",
        "        model.add(Dropout(dropout))\n",
        "        model.add(BatchNormalization())\n",
        "    model.add(tf.compat.v1.keras.layers.CuDNNLSTM(lstm_node))\n",
        "    model.add(Dropout(dropout))\n",
        "    model.add(BatchNormalization())\n",
        "    model.add(Dense(dense_node, activation=activation ))\n",
        "    model.add(BatchNormalization())\n",
        "    model.add(Dense(nclasses, activation=output_activation))\n",
        "    model.compile(loss=loss,\n",
        "                      optimizer='adam',\n",
        "                      metrics=[accuracy])\n",
        "    \n",
        "    print(model.summary())\n",
        "    return model\n",
        "\n",
        "def get_model(input_shape, batch_size, len):\n",
        "  \"\"\"\n",
        "  model = Sequential([\n",
        "                      Flatten(input_shape=input_shape),\n",
        "                      Dense(128*6, activation='relu'),\n",
        "                      Dense(128*6, activation='relu'\n",
        "                            #kernel_regularizer=tf.keras.regularizers.l2(0.01)\n",
        "                      ),\n",
        "                      Dense(128*6, activation='relu'\n",
        "                            #kernel_regularizer=tf.keras.regularizers.l2(0.01)\n",
        "                      ),\n",
        "                      Dense(10, activation='softmax')\n",
        "\n",
        "  ])\n",
        "  model = Sequential([\n",
        "                      Flatten(input_shape=input_shape),\n",
        "                      #BatchNormalization(),\n",
        "                      Dense(128*6, kernel_initializer='he_uniform'),\n",
        "                      #BatchNormalization(),\n",
        "                      Activation('relu', ),\n",
        "                      Dropout(0.2),\n",
        "                      Dense(128*6, kernel_initializer='he_uniform'),\n",
        "                      #BatchNormalization(),\n",
        "                      Activation('relu'),\n",
        "                      Dropout(0.2),\n",
        "                      Dense(128*6, kernel_initializer='he_uniform'),\n",
        "                      #BatchNormalization(),\n",
        "                      Activation('relu'),\n",
        "                      Dense(10, activation='softmax')\n",
        "\n",
        "  ])\n",
        "  \"\"\"\n",
        "  #for SELU - prerequisites are initialzer=lecun_normal, input should be standardized, \n",
        "  \n",
        "  model = Sequential([\n",
        "                      Flatten(input_shape=input_shape),\n",
        "                      BatchNormalization(),\n",
        "                      Dense(128*6, kernel_initializer='lecun_normal'),\n",
        "                      BatchNormalization(),\n",
        "                      Activation('selu', ),\n",
        "                      Dropout(0.2),\n",
        "                      Dense(128*6, kernel_initializer='lecun_normal'),\n",
        "                      BatchNormalization(),\n",
        "                      Activation('selu'),\n",
        "                      Dropout(0.2),\n",
        "                      Dense(128*6, kernel_initializer='lecun_normal'),\n",
        "                      BatchNormalization(),\n",
        "                      Activation('selu'),\n",
        "                      Dense(10, activation='softmax')\n",
        "\n",
        "  ])\n",
        "  #s = 20 * len // batch_size # number of steps in 20 epochs (batch size = 32)\n",
        "  #learning_rate = tf.keras.optimizers.schedules.ExponentialDecay(0.01, s, 0.1)\n",
        "  #optimizer = tf.keras.optimizers.Adam(lr=1e-4, amsgrad=True)\n",
        "  optimizer=tf.keras.optimizers.SGD(lr=0.001, momentum=0.9, nesterov=True) \n",
        "  model.compile(optimizer=optimizer,\n",
        "                loss=tf.keras.losses.sparse_categorical_crossentropy,\n",
        "                metrics=['accuracy'])\n",
        "  return model\n",
        "\n",
        "\n",
        "\n",
        "def reduce_learning_rate_on_plateaue(patience=3,monitor='val_loss',mode='min'):\n",
        "    #reduce_lr = tf.keras.callbacks.ReduceLROnPlateau(monitor=monitor, factor=0.3, patience=patience,\n",
        "    #                                                 mode=mode, verbose=1)\n",
        "    reduce_lr = tf.keras.callbacks.ReduceLROnPlateau(monitor=monitor, \n",
        "                                  factor=0.1, \n",
        "                                  patience=10, \n",
        "                                  verbose=1, \n",
        "                                  mode=mode, \n",
        "                                  min_delta=0.0001, \n",
        "                                  cooldown=5, \n",
        "                                  min_lr=1e-6)\n",
        "    return reduce_lr\n",
        "\n",
        "lr_schedule = tf.keras.callbacks.LearningRateScheduler(\n",
        "              lambda epoch: 1e-3 * 10**(epoch / 10))\n",
        "\n",
        "\n",
        "def get_early_stopping(patience=3,monitor='val_loss',mode='min'):\n",
        "    \"\"\"\n",
        "    This function should return an EarlyStopping callback that stops training when\n",
        "    the validation (testing) accuracy has not improved in the last 3 epochs.\n",
        "    HINT: use the EarlyStopping callback with the correct 'monitor' and 'patience'\n",
        "    \"\"\"\n",
        "    return tf.keras.callbacks.EarlyStopping(\n",
        "        monitor=monitor,  patience=patience, verbose=1, mode=mode\n",
        "    )   \n",
        "\n",
        "def get_checkpoint_every_epoch( checkpoint_path = 'checkpoints_every_epoch/checkpoint_{epoch:03d}'):\n",
        "    \"\"\"\n",
        "    This function should return a ModelCheckpoint object that:\n",
        "    - saves the weights only at the end of every epoch\n",
        "    - saves into a directory called 'checkpoints_every_epoch' inside the current working directory\n",
        "    - generates filenames in that directory like 'checkpoint_XXX' where\n",
        "      XXX is the epoch number formatted to have three digits, e.g. 001, 002, 003, etc.\n",
        "    \"\"\"\n",
        "    checkpoint_path = checkpoint_path\n",
        "    return ModelCheckpoint(filepath=checkpoint_path,\n",
        "                             save_freq='epoch', #if save_freq is an integer like 1000, save every 1000 samples \n",
        "                             save_weights_only=True,verbose=1)   \n",
        "\n",
        "def get_checkpoint_best_only(monitor='val_accuracy',\n",
        "                             checkpoint_best_path = 'checkpoints_best_only/checkpoint'):\n",
        "    \"\"\"\n",
        "    This function should return a ModelCheckpoint object that:\n",
        "    - saves only the weights that generate the highest validation (testing) accuracy\n",
        "    - saves into a directory called 'checkpoints_best_only' inside the current working directory\n",
        "    - generates a file called 'checkpoints_best_only/checkpoint' \n",
        "    \"\"\"\n",
        "    checkpoint_best_path = checkpoint_best_path\n",
        "    return ModelCheckpoint(filepath=checkpoint_best_path,\n",
        "                                  save_weights_only=True,\n",
        "                                  save_freq='epoch',\n",
        "                                  save_best_only=False,\n",
        "                                  verbose=1,\n",
        "                                  monitor=monitor)    \n",
        "    \n",
        "def get_run_logdir(root_logdir=\"my_logs\"):\n",
        "    import time\n",
        "    run_id = time.strftime(\"run_%Y_%m_%d-%H_%M_%S\")\n",
        "    return os.path.join(root_logdir, run_id)\n",
        "\n",
        "#run_logdir = get_run_logdir() # e.g., './my_logs/' + run_id\n",
        "\n",
        "#tensorboard_cb = keras.callbacks.TensorBoard(run_logdir)\n",
        "\n",
        "class LossAndMetricCallback(tf.keras.callbacks.Callback):\n",
        "\n",
        "    # Print the loss after every second batch in the training set\n",
        "    def on_train_batch_end(self, batch, logs=None):\n",
        "        if batch %2 ==0:\n",
        "            print('\\n After batch {}, the loss is {:7.2f}.'.format(batch, logs['loss']))\n",
        "    \n",
        "    # Print the loss after each batch in the test set\n",
        "    def on_test_batch_end(self, batch, logs=None):\n",
        "        print('\\n After batch {}, the loss is {:7.2f}.'.format(batch, logs['loss']))\n",
        "\n",
        "    # Print the loss and mean absolute error after each epoch\n",
        "    def on_epoch_end(self, epoch, logs=None):\n",
        "        print('Epoch {}: Average loss is {:7.2f}, mean absolute error is {:7.2f}.'.format(epoch, logs['loss'], logs['mae']))\n",
        "    \n",
        "    # Notify the user when prediction has finished on each batch\n",
        "    def on_predict_batch_end(self,batch, logs=None):\n",
        "        print(\"Finished prediction on batch {}!\".format(batch))\n",
        "\n",
        "class PrintValTrainRatioCallback(tf.keras.callbacks.Callback):\n",
        "    def on_epoch_end(self, epoch, logs):\n",
        "        print(\"\\nval/train: {:.2f}\".format(logs[\"val_loss\"] / logs[\"loss\"]))\n",
        "\n",
        "class lr_print_cb(tf.keras.callbacks.Callback):\n",
        "    def on_epoch_end(self, epoch, logs=None):\n",
        "        lr = self.model.optimizer.lr\n",
        "        #decay = self.model.optimizer.decay\n",
        "        #iterations = self.model.optimizer.iterations\n",
        "        #lr_with_decay = lr / (1. + decay * K.cast(iterations, K.dtype(decay)))\n",
        "        print(\"Learning Rate = \", lr)\n",
        "        \n",
        "print_lr = lr_print_cb()\n",
        "\n",
        "test_logdir = get_run_logdir()\n",
        "writer = tf.summary.create_file_writer(test_logdir)\n",
        "with writer.as_default():\n",
        "    for step in range(1, 1000 + 1):\n",
        "        tf.summary.scalar(\"my_scalar\", np.sin(step / 10), step=step)\n",
        "        data = (np.random.randn(100) + 2) * step / 100 # some random data\n",
        "        tf.summary.histogram(\"my_hist\", data, buckets=50, step=step)\n",
        "        images = np.random.rand(2, 32, 32, 3) # random 32×32 RGB images\n",
        "        tf.summary.image(\"my_images\", images * step / 1000, step=step)\n",
        "        texts = [\"The step is \" + str(step), \"Its square is \" + str(step**2)]\n",
        "        tf.summary.text(\"my_text\", texts, step=step)\n",
        "        sine_wave = tf.math.sin(tf.range(12000) / 48000 * 2 * np.pi * step)\n",
        "        audio = tf.reshape(tf.cast(sine_wave, tf.float32), [1, -1, 1])\n",
        "        tf.summary.audio(\"my_audio\", audio, sample_rate=48000, step=step)\n",
        "        \n",
        "#Function to plot accuracy\n",
        "def plot_accuracy(history):\n",
        "  try:\n",
        "      plt.plot(history.history['accuracy'])\n",
        "      plt.plot(history.history['val_accuracy'])\n",
        "  except KeyError:\n",
        "      plt.plot(history.history['acc'])\n",
        "      plt.plot(history.history['val_acc'])\n",
        "  plt.title('Accuracy vs. epochs')\n",
        "  plt.ylabel('Accuracy')\n",
        "  plt.xlabel('Epoch')\n",
        "  plt.legend(['Training', 'Validation'], loc='lower right')\n",
        "  plt.show() \n",
        "\n",
        "#Function to plot loss\n",
        "def plot_loss(history, scale=1):\n",
        "  try:\n",
        "      plt.plot(history.history['loss'])\n",
        "      plt.plot( [x / scale for x in history.history['val_loss']] )\n",
        "  except KeyError:\n",
        "      plt.plot(history.history['loss'])\n",
        "      plt.plot([x / scale for x in history.history['val_loss']] )\n",
        "  plt.title('Loss vs. epochs')\n",
        "  plt.ylabel('Loss')\n",
        "  plt.xlabel('Epoch')\n",
        "  plt.legend(['Training', 'Validation'], loc='upper right')\n",
        "  plt.show() \n",
        "\n",
        "def plot_to_image(figure):\n",
        "  \"\"\"Converts the matplotlib plot specified by 'figure' to a PNG image and\n",
        "  returns it. The supplied figure is closed and inaccessible after this call.\"\"\"\n",
        "  # Save the plot to a PNG in memory.\n",
        "  buf = io.BytesIO()\n",
        "  plt.savefig(buf, format='png')\n",
        "  # Closing the figure prevents it from being displayed directly inside\n",
        "  # the notebook.\n",
        "  plt.close(figure)\n",
        "  buf.seek(0)\n",
        "  # Convert PNG buffer to TF image\n",
        "  image = tf.image.decode_png(buf.getvalue(), channels=4)\n",
        "  # Add the batch dimension\n",
        "  image = tf.expand_dims(image, 0)\n",
        "  return image\n",
        "\n",
        "#Function to plot the confusion matrix that will be called at the end of each epoch\n",
        "#The confusion matrix will be visible in the Tensor Board  \n",
        "class_names=['0','1','2','3','4','5','6','7','8','9']\n",
        "def plot_confusion_matrix(cm, class_names):\n",
        "  \"\"\"\n",
        "  Returns a matplotlib figure containing the plotted confusion matrix.\n",
        "\n",
        "  Args:\n",
        "    cm (array, shape = [n, n]): a confusion matrix of integer classes\n",
        "    class_names (array, shape = [n]): String names of the integer classes\n",
        "  \"\"\"\n",
        "  figure = plt.figure(figsize=(8, 8))\n",
        "  plt.imshow(cm, interpolation='nearest', cmap=plt.cm.Blues)\n",
        "  plt.title(\"Confusion matrix\")\n",
        "  plt.colorbar()\n",
        "  tick_marks = np.arange(len(class_names))\n",
        "  plt.xticks(tick_marks, class_names, rotation=45)\n",
        "  plt.yticks(tick_marks, class_names)\n",
        "\n",
        "  # Normalize the confusion matrix.\n",
        "  cm = np.around(cm.astype('float') / cm.sum(axis=1)[:, np.newaxis], decimals=2)\n",
        "\n",
        "  # Use white text if squares are dark; otherwise black.\n",
        "  threshold = cm.max() / 2.\n",
        "  for i, j in itertools.product(range(cm.shape[0]), range(cm.shape[1])):\n",
        "    color = \"white\" if cm[i, j] > threshold else \"black\"\n",
        "    plt.text(j, i, cm[i, j], horizontalalignment=\"center\", color=color)\n",
        "\n",
        "  plt.tight_layout()\n",
        "  plt.ylabel('True label')\n",
        "  plt.xlabel('Predicted label')\n",
        "  return figure\n",
        "\n",
        "def log_confusion_matrix(epoch, logs):\n",
        "  # Use the model to predict the values from the validation dataset.\n",
        "  test_pred_raw = model1.predict(test_images)\n",
        "  test_pred = np.argmax(test_pred_raw, axis=1)\n",
        "\n",
        "  # Calculate the confusion matrix.\n",
        "  cm = sklearn.metrics.confusion_matrix(test_labels, test_pred)\n",
        "  # Log the confusion matrix as an image summary.\n",
        "  figure = plot_confusion_matrix(cm, class_names=class_names)\n",
        "  cm_image = plot_to_image(figure)\n",
        "\n",
        "  # Log the confusion matrix as an image summary.\n",
        "  with file_writer_cm.as_default():\n",
        "    tf.summary.image(\"Confusion Matrix\", cm_image, step=epoch)\n",
        "\n",
        "# Define the per-epoch callback.\n",
        "cm_callback = tf.keras.callbacks.LambdaCallback(on_epoch_end=log_confusion_matrix)\n",
        "\n",
        "def print_values(history):\n",
        "  print(\"Mean Accuracy for the validation dataset: \")\n",
        "  print(np.array(history.history['val_accuracy']).mean())\n",
        "  print(\"Mean Loss for the validation dataset: \")\n",
        "  print(np.array(history.history['val_loss']).mean())\n",
        "  print(\"Mean Accuracy for the training dataset: \")\n",
        "  print(np.array(history.history['accuracy']).mean())\n",
        "  print(\"Mean Loss for the training dataset: \")\n",
        "  print(np.array(history.history['loss']).mean())\n",
        "\n",
        "def print_results(model, X_train, X_test, y_train, y_test):\n",
        "    y_pred = model.predict(X_test)\n",
        "    y_pred = np.argmax(y_pred, axis=1)\n",
        "    y_train_pred = model.predict(X_train)\n",
        "    y_train_pred = np.argmax(y_train_pred, axis=1)\n",
        "    \n",
        "    print('Prediction Model:', model)\n",
        "    print('-'*80)\n",
        "    print('Training accuracy: %.2f%%' % (accuracy_score(y_train,y_train_pred) * 100))\n",
        "    print('Testing accuracy: %.2f%%' % (accuracy_score(y_test, y_pred) * 100))\n",
        "    print('-'*80)\n",
        "    #print('Confusion matrix:\\n %s' % (confusion_matrix(y_test, y_pred)))\n",
        "    cm = confusion_matrix(y_test, y_pred)\n",
        "    \n",
        "    \n",
        "    cm_df = pd.DataFrame(cm)\n",
        "    plt.figure(figsize=(20,10))  \n",
        "    sns.heatmap(cm_df, annot=True)\n",
        "    print('-'*80)\n",
        "    print('Classification report:\\n %s' % (classification_report(y_test, y_pred)))\n",
        "\n",
        "def print_scores(model,X_test,y_test):\n",
        "    y_pred = model.predict(X_test)\n",
        "    y_pred = np.argmax(y_pred, axis=1)\n",
        "    precision = precision_score(y_test, y_pred, average='weighted')\n",
        "    print('Precision: %f' % precision)\n",
        "    recall = recall_score(y_test, y_pred, average='weighted')\n",
        "    print('Recall: %f' % recall)\n",
        "    # f1: 2 tp / (2 tp + fp + fn)\n",
        "    f1 = f1_score(y_test, y_pred, average='weighted')\n",
        "    print('F1 score: %f' % f1)\n",
        "    print('-'*80)\n",
        "\n",
        "    \n",
        "def print_classification_report(model,X_test,y_test):\n",
        "    y_pred = model.predict(X_test)\n",
        "    y_pred = np.argmax(y_pred, axis=1)\n",
        "    print('Classification report:\\n %s' % (classification_report(y_test, y_pred)))\n",
        "\n",
        "    \n",
        "def print_confusion_matrix(model,X_test,y_test):\n",
        "    y_pred = model.predict(X_test)\n",
        "    y_pred = np.argmax(y_pred, axis=1)\n",
        "    cm = confusion_matrix(y_test, y_pred)  \n",
        "    cm_df = pd.DataFrame(cm)\n",
        "    plt.figure(figsize=(20,10))  \n",
        "    sns.heatmap(cm_df, annot=True)\n"
      ],
      "execution_count": null,
      "outputs": []
    },
    {
      "cell_type": "code",
      "metadata": {
        "id": "maVM_xzQw6m4",
        "scrolled": true
      },
      "source": [
        "#%%script false --no-raise-error\n",
        "from tensorboard.plugins.hparams import api as hp2\n",
        "def build_model(hp):\n",
        "    #word_index, embeddings_matrix, nclasses = get_params()\n",
        "    model = Sequential()\n",
        "    hidden_layer = 6\n",
        "    #gru_node = 32\n",
        "    dropout=0.2\n",
        "    #HP_DROPOUT = hp2.HParam('dropout', hp2.RealInterval(0.1, 0.2))\n",
        "\n",
        "    model.add(Embedding(len(word_index) + 1,\n",
        "                                EMBEDDING_DIM,\n",
        "                                weights=[embedding_matrix],\n",
        "                                input_length=MAX_SEQUENCE_LENGTH,\n",
        "                                trainable=True))\n",
        "    #print(gru_node)\n",
        "    for i in range(0,hidden_layer):\n",
        "        model.add(tf.keras.layers.Bidirectional(tf.compat.v1.keras.layers.CuDNNLSTM(\n",
        "            units=hp.Int('lstm_node_1_units', min_value=16, max_value=256, step=16),\n",
        "            #units=hp.Choice('lstm_node_1_units', values = [32,128,256]),\n",
        "           return_sequences=True\n",
        "        )))\n",
        "        model.add(\n",
        "            Dropout(\n",
        "                hp.Choice('dropout_1', values = [0.1,0.2,0.3,0.4,0.5]),\n",
        "            ))\n",
        "        model.add(BatchNormalization())\n",
        "    model.add(tf.keras.layers.Bidirectional(\n",
        "        #tf.compat.v1.keras.layers.CuDNNGRU(gru_node)\n",
        "        tf.compat.v1.keras.layers.CuDNNLSTM(\n",
        "        units=hp.Int('lstm_node_2_units', min_value=16, max_value=256, step=16)\n",
        "            #units=hp.Choice('lstm_node_2_units', values = [32,128,256])\n",
        "    )))\n",
        "    model.add(\n",
        "        Dropout(\n",
        "                hp.Choice('dropout_2', values = [0.1,0.2,0.3,0.4,0.5]),   \n",
        "        ))\n",
        "    model.add(BatchNormalization())\n",
        "    model.add(\n",
        "        #Dense(256, activation='relu')\n",
        "        Dense(units=hp.Int('dense_1_units', min_value=32, max_value=512, step=16),\n",
        "              #units=hp.Choice('dense_1_units', values = [32,128,256]),\n",
        "        activation='relu'\n",
        "    ))\n",
        "    model.add(BatchNormalization())\n",
        "    model.add(Dense(74, activation='softmax'))\n",
        "    #lr = hp.Choice('learning_rate', values=[0.001, 1e-2, 1e-3, 1e-4])\n",
        "    #momentum = hp.Choice('momentum', values=[0.0, 0.2, 0.4, 0.6, 0.8, 0.9])\n",
        "    optimizer=tf.keras.optimizers.SGD(hp.Choice('learning_rate', values = [1e-2, 1e-3, 1e-4]),\n",
        "                                      hp.Choice('momentum', values=[0.0, 0.2, 0.4, 0.6, 0.8, 0.9]))\n",
        "    model.compile(optimizer=optimizer,\n",
        "                loss = 'sparse_categorical_crossentropy',\n",
        "                metrics=['accuracy']\n",
        "                )\n",
        "    return model"
      ],
      "execution_count": null,
      "outputs": []
    },
    {
      "cell_type": "code",
      "metadata": {
        "id": "-p1vTzAZLOfE"
      },
      "source": [
        "%%script false --no-raise-error\n",
        "tuner_search = kt.Hyperband(\n",
        "    build_model,\n",
        "    objective='val_accuracy',\n",
        "    max_epochs=30,\n",
        "    hyperband_iterations=20,\n",
        "    directory='outputs', \n",
        "    project_name='TicketAssignment'\n",
        ")"
      ],
      "execution_count": null,
      "outputs": []
    },
    {
      "cell_type": "code",
      "metadata": {
        "id": "ebElZ54mw94x",
        "scrolled": true
      },
      "source": [
        "#%%script false --no-raise-error\n",
        "tuner_search = RandomSearch(build_model,\n",
        "                            objective='val_accuracy',\n",
        "                            max_trials=10, \n",
        "                            directory='outputs', \n",
        "                            project_name='TicketAssignment'\n",
        "                            )"
      ],
      "execution_count": null,
      "outputs": []
    },
    {
      "cell_type": "code",
      "metadata": {
        "id": "3nySRDCnxAXF",
        "scrolled": false
      },
      "source": [
        "#%%script false --no-raise-error\n",
        "#logs_dir=\"logs_model_CNN\"\n",
        "#run_logdir = get_run_logdir(root_logdir=logs_dir) # e.g., './my_logs/' + run_id\n",
        "#tensorboard_cb = keras.callbacks.TensorBoard(run_logdir)\n",
        "checkpoint_best_only = get_checkpoint_best_only()\n",
        "early_stopping = get_early_stopping(monitor='val_loss', mode='min',patience=10)\n",
        "reduce_lr = reduce_learning_rate_on_plateaue(monitor='val_loss', mode='min', patience=10)\n",
        "\n",
        "tuner_search.search(X_train_Glove, y_train,epochs=10, batch_size=16, \n",
        "                   validation_data=(X_test_Glove, y_test), \n",
        "                   verbose=1,\n",
        "                   callbacks=[#tensorboard_cb,\n",
        "                            #PrintValTrainRatioCallback(),\n",
        "                            #checkpoint_every_epoch,\n",
        "                            #checkpoint_best_only,\n",
        "                            print_lr,\n",
        "                            reduce_lr , early_stopping\n",
        "                            ])\n",
        "\n",
        "#history = run_dl_model(model_GRU, X_train_Glove, X_test_Glove, y_train, y_test,\n",
        "#                   epochs=3, batch_size=32,logs_dir=\"logs_model_CNN\")#    with tf.device(\"/gpu:0\"): \n",
        "#        history = model.fit(X_train, y_train, validation_data=(X_test, y_test),epochs=epochs, batch_size=batch_size,verbose=1,\n",
        "#                            callbacks=[tensorboard_cb, PrintValTrainRatioCallback(),\n",
        "#                            #checkpoint_every_epoch,\n",
        "#                            checkpoint_best_only,\n",
        "#                            reduce_lr , early_stopping\n",
        "#                            ])"
      ],
      "execution_count": null,
      "outputs": []
    },
    {
      "cell_type": "code",
      "metadata": {
        "id": "FCASXuZUxCq6",
        "scrolled": true,
        "colab": {
          "base_uri": "https://localhost:8080/"
        },
        "outputId": "281c4d88-02bf-4cec-c9da-808f8beb41ba"
      },
      "source": [
        "#%%script false --no-raise-error\n",
        "hyperparams = tuner_search.get_best_hyperparameters(num_trials = 5)[0]\n",
        "hyperparams"
      ],
      "execution_count": null,
      "outputs": [
        {
          "output_type": "execute_result",
          "data": {
            "text/plain": [
              "<kerastuner.engine.hyperparameters.HyperParameters at 0x7f4060ea9e10>"
            ]
          },
          "metadata": {
            "tags": []
          },
          "execution_count": 37
        }
      ]
    },
    {
      "cell_type": "code",
      "metadata": {
        "id": "G5WIs_bTLOfF",
        "colab": {
          "base_uri": "https://localhost:8080/"
        },
        "outputId": "411ffdd6-6c25-4034-c548-8f4f905ea778"
      },
      "source": [
        "#%%script false --no-raise-error\n",
        "best_model = tuner_search.get_best_models(num_models=1)[0]\n",
        "loss, mse = best_model.evaluate(X_test_Glove, y_test)"
      ],
      "execution_count": null,
      "outputs": [
        {
          "output_type": "stream",
          "text": [
            "196/196 [==============================] - 44s 178ms/step - loss: 1.4805 - accuracy: 0.5729\n"
          ],
          "name": "stdout"
        }
      ]
    },
    {
      "cell_type": "code",
      "metadata": {
        "scrolled": false,
        "id": "e1HjkEf-LOfF",
        "colab": {
          "base_uri": "https://localhost:8080/"
        },
        "outputId": "2234eaee-804b-41db-f6a0-82e964b2474d"
      },
      "source": [
        "#%%script false --no-raise-error\n",
        "history = run_dl_model(best_model, X_train_Glove, X_test_Glove, y_train, y_test,\n",
        "                   epochs=100, batch_size=32,logs_dir=\"logs_model_LSTM\")#  "
      ],
      "execution_count": null,
      "outputs": [
        {
          "output_type": "stream",
          "text": [
            "Epoch 1/100\n",
            "781/781 [==============================] - 304s 378ms/step - loss: 1.2050 - accuracy: 0.6494 - val_loss: 1.1474 - val_accuracy: 0.6591\n",
            "\n",
            "val/train: 0.95\n",
            "\n",
            "Epoch 00001: saving model to checkpoints_best_only/checkpoint\n",
            "Learning Rate =  <tf.Variable 'SGD/learning_rate:0' shape=() dtype=float32, numpy=0.01>\n",
            "Epoch 2/100\n",
            "781/781 [==============================] - 285s 365ms/step - loss: 1.0546 - accuracy: 0.6870 - val_loss: 1.0983 - val_accuracy: 0.6737\n",
            "\n",
            "val/train: 1.04\n",
            "\n",
            "Epoch 00002: saving model to checkpoints_best_only/checkpoint\n",
            "Learning Rate =  <tf.Variable 'SGD/learning_rate:0' shape=() dtype=float32, numpy=0.01>\n",
            "Epoch 3/100\n",
            "781/781 [==============================] - 285s 366ms/step - loss: 0.9587 - accuracy: 0.7131 - val_loss: 0.9035 - val_accuracy: 0.7303\n",
            "\n",
            "val/train: 0.94\n",
            "\n",
            "Epoch 00003: saving model to checkpoints_best_only/checkpoint\n",
            "Learning Rate =  <tf.Variable 'SGD/learning_rate:0' shape=() dtype=float32, numpy=0.01>\n",
            "Epoch 4/100\n",
            "781/781 [==============================] - 286s 366ms/step - loss: 0.8707 - accuracy: 0.7374 - val_loss: 0.8779 - val_accuracy: 0.7398\n",
            "\n",
            "val/train: 1.01\n",
            "\n",
            "Epoch 00004: saving model to checkpoints_best_only/checkpoint\n",
            "Learning Rate =  <tf.Variable 'SGD/learning_rate:0' shape=() dtype=float32, numpy=0.01>\n",
            "Epoch 5/100\n",
            "781/781 [==============================] - 286s 366ms/step - loss: 0.8007 - accuracy: 0.7526 - val_loss: 0.8424 - val_accuracy: 0.7526\n",
            "\n",
            "val/train: 1.05\n",
            "\n",
            "Epoch 00005: saving model to checkpoints_best_only/checkpoint\n",
            "Learning Rate =  <tf.Variable 'SGD/learning_rate:0' shape=() dtype=float32, numpy=0.01>\n",
            "Epoch 6/100\n",
            "781/781 [==============================] - 286s 366ms/step - loss: 0.7225 - accuracy: 0.7797 - val_loss: 0.8066 - val_accuracy: 0.7592\n",
            "\n",
            "val/train: 1.12\n",
            "\n",
            "Epoch 00006: saving model to checkpoints_best_only/checkpoint\n",
            "Learning Rate =  <tf.Variable 'SGD/learning_rate:0' shape=() dtype=float32, numpy=0.01>\n",
            "Epoch 7/100\n",
            "781/781 [==============================] - 285s 365ms/step - loss: 0.6883 - accuracy: 0.7886 - val_loss: 0.7963 - val_accuracy: 0.7664\n",
            "\n",
            "val/train: 1.16\n",
            "\n",
            "Epoch 00007: saving model to checkpoints_best_only/checkpoint\n",
            "Learning Rate =  <tf.Variable 'SGD/learning_rate:0' shape=() dtype=float32, numpy=0.01>\n",
            "Epoch 8/100\n",
            "781/781 [==============================] - 285s 365ms/step - loss: 0.6427 - accuracy: 0.8050 - val_loss: 0.6861 - val_accuracy: 0.8040\n",
            "\n",
            "val/train: 1.07\n",
            "\n",
            "Epoch 00008: saving model to checkpoints_best_only/checkpoint\n",
            "Learning Rate =  <tf.Variable 'SGD/learning_rate:0' shape=() dtype=float32, numpy=0.01>\n",
            "Epoch 9/100\n",
            "781/781 [==============================] - 285s 365ms/step - loss: 0.5802 - accuracy: 0.8195 - val_loss: 0.6281 - val_accuracy: 0.8197\n",
            "\n",
            "val/train: 1.08\n",
            "\n",
            "Epoch 00009: saving model to checkpoints_best_only/checkpoint\n",
            "Learning Rate =  <tf.Variable 'SGD/learning_rate:0' shape=() dtype=float32, numpy=0.01>\n",
            "Epoch 10/100\n",
            "781/781 [==============================] - 285s 365ms/step - loss: 0.5485 - accuracy: 0.8306 - val_loss: 0.6093 - val_accuracy: 0.8259\n",
            "\n",
            "val/train: 1.11\n",
            "\n",
            "Epoch 00010: saving model to checkpoints_best_only/checkpoint\n",
            "Learning Rate =  <tf.Variable 'SGD/learning_rate:0' shape=() dtype=float32, numpy=0.01>\n",
            "Epoch 11/100\n",
            "781/781 [==============================] - 282s 360ms/step - loss: 0.5189 - accuracy: 0.8386 - val_loss: 0.5921 - val_accuracy: 0.8320\n",
            "\n",
            "val/train: 1.14\n",
            "\n",
            "Epoch 00011: saving model to checkpoints_best_only/checkpoint\n",
            "Learning Rate =  <tf.Variable 'SGD/learning_rate:0' shape=() dtype=float32, numpy=0.01>\n",
            "Epoch 12/100\n",
            "781/781 [==============================] - 281s 360ms/step - loss: 0.4892 - accuracy: 0.8461 - val_loss: 0.6317 - val_accuracy: 0.8146\n",
            "\n",
            "val/train: 1.29\n",
            "\n",
            "Epoch 00012: saving model to checkpoints_best_only/checkpoint\n",
            "Learning Rate =  <tf.Variable 'SGD/learning_rate:0' shape=() dtype=float32, numpy=0.01>\n",
            "Epoch 13/100\n",
            "781/781 [==============================] - 283s 363ms/step - loss: 0.4403 - accuracy: 0.8632 - val_loss: 0.5319 - val_accuracy: 0.8477\n",
            "\n",
            "val/train: 1.21\n",
            "\n",
            "Epoch 00013: saving model to checkpoints_best_only/checkpoint\n",
            "Learning Rate =  <tf.Variable 'SGD/learning_rate:0' shape=() dtype=float32, numpy=0.01>\n",
            "Epoch 14/100\n",
            "781/781 [==============================] - 283s 362ms/step - loss: 0.4287 - accuracy: 0.8658 - val_loss: 0.5221 - val_accuracy: 0.8458\n",
            "\n",
            "val/train: 1.22\n",
            "\n",
            "Epoch 00014: saving model to checkpoints_best_only/checkpoint\n",
            "Learning Rate =  <tf.Variable 'SGD/learning_rate:0' shape=() dtype=float32, numpy=0.01>\n",
            "Epoch 15/100\n",
            "781/781 [==============================] - 281s 360ms/step - loss: 0.4085 - accuracy: 0.8723 - val_loss: 0.5260 - val_accuracy: 0.8517\n",
            "\n",
            "val/train: 1.29\n",
            "\n",
            "Epoch 00015: saving model to checkpoints_best_only/checkpoint\n",
            "Learning Rate =  <tf.Variable 'SGD/learning_rate:0' shape=() dtype=float32, numpy=0.01>\n",
            "Epoch 16/100\n",
            "781/781 [==============================] - 284s 364ms/step - loss: 0.3834 - accuracy: 0.8791 - val_loss: 0.4635 - val_accuracy: 0.8642\n",
            "\n",
            "val/train: 1.21\n",
            "\n",
            "Epoch 00016: saving model to checkpoints_best_only/checkpoint\n",
            "Learning Rate =  <tf.Variable 'SGD/learning_rate:0' shape=() dtype=float32, numpy=0.01>\n",
            "Epoch 17/100\n",
            "781/781 [==============================] - 286s 366ms/step - loss: 0.3507 - accuracy: 0.8884 - val_loss: 0.4828 - val_accuracy: 0.8620\n",
            "\n",
            "val/train: 1.38\n",
            "\n",
            "Epoch 00017: saving model to checkpoints_best_only/checkpoint\n",
            "Learning Rate =  <tf.Variable 'SGD/learning_rate:0' shape=() dtype=float32, numpy=0.01>\n",
            "Epoch 18/100\n",
            "781/781 [==============================] - 284s 363ms/step - loss: 0.3331 - accuracy: 0.8919 - val_loss: 0.4629 - val_accuracy: 0.8653\n",
            "\n",
            "val/train: 1.39\n",
            "\n",
            "Epoch 00018: saving model to checkpoints_best_only/checkpoint\n",
            "Learning Rate =  <tf.Variable 'SGD/learning_rate:0' shape=() dtype=float32, numpy=0.01>\n",
            "Epoch 19/100\n",
            "781/781 [==============================] - 282s 361ms/step - loss: 0.3223 - accuracy: 0.8957 - val_loss: 0.4331 - val_accuracy: 0.8765\n",
            "\n",
            "val/train: 1.34\n",
            "\n",
            "Epoch 00019: saving model to checkpoints_best_only/checkpoint\n",
            "Learning Rate =  <tf.Variable 'SGD/learning_rate:0' shape=() dtype=float32, numpy=0.01>\n",
            "Epoch 20/100\n",
            "781/781 [==============================] - 282s 361ms/step - loss: 0.3235 - accuracy: 0.8965 - val_loss: 0.4613 - val_accuracy: 0.8701\n",
            "\n",
            "val/train: 1.43\n",
            "\n",
            "Epoch 00020: saving model to checkpoints_best_only/checkpoint\n",
            "Learning Rate =  <tf.Variable 'SGD/learning_rate:0' shape=() dtype=float32, numpy=0.01>\n",
            "Epoch 21/100\n",
            "781/781 [==============================] - 284s 364ms/step - loss: 0.3105 - accuracy: 0.9001 - val_loss: 0.4254 - val_accuracy: 0.8793\n",
            "\n",
            "val/train: 1.37\n",
            "\n",
            "Epoch 00021: saving model to checkpoints_best_only/checkpoint\n",
            "Learning Rate =  <tf.Variable 'SGD/learning_rate:0' shape=() dtype=float32, numpy=0.01>\n",
            "Epoch 22/100\n",
            "781/781 [==============================] - 284s 363ms/step - loss: 0.3018 - accuracy: 0.9024 - val_loss: 0.4600 - val_accuracy: 0.8669\n",
            "\n",
            "val/train: 1.52\n",
            "\n",
            "Epoch 00022: saving model to checkpoints_best_only/checkpoint\n",
            "Learning Rate =  <tf.Variable 'SGD/learning_rate:0' shape=() dtype=float32, numpy=0.01>\n",
            "Epoch 23/100\n",
            "781/781 [==============================] - 283s 362ms/step - loss: 0.2835 - accuracy: 0.9089 - val_loss: 0.4250 - val_accuracy: 0.8780\n",
            "\n",
            "val/train: 1.50\n",
            "\n",
            "Epoch 00023: saving model to checkpoints_best_only/checkpoint\n",
            "Learning Rate =  <tf.Variable 'SGD/learning_rate:0' shape=() dtype=float32, numpy=0.01>\n",
            "Epoch 24/100\n",
            "781/781 [==============================] - 285s 365ms/step - loss: 0.2830 - accuracy: 0.9088 - val_loss: 0.4176 - val_accuracy: 0.8796\n",
            "\n",
            "val/train: 1.48\n",
            "\n",
            "Epoch 00024: saving model to checkpoints_best_only/checkpoint\n",
            "Learning Rate =  <tf.Variable 'SGD/learning_rate:0' shape=() dtype=float32, numpy=0.01>\n",
            "Epoch 25/100\n",
            "781/781 [==============================] - 283s 363ms/step - loss: 0.2766 - accuracy: 0.9109 - val_loss: 0.4108 - val_accuracy: 0.8804\n",
            "\n",
            "val/train: 1.49\n",
            "\n",
            "Epoch 00025: saving model to checkpoints_best_only/checkpoint\n",
            "Learning Rate =  <tf.Variable 'SGD/learning_rate:0' shape=() dtype=float32, numpy=0.01>\n",
            "Epoch 26/100\n",
            "781/781 [==============================] - 280s 359ms/step - loss: 0.2706 - accuracy: 0.9129 - val_loss: 0.3968 - val_accuracy: 0.8895\n",
            "\n",
            "val/train: 1.47\n",
            "\n",
            "Epoch 00026: saving model to checkpoints_best_only/checkpoint\n",
            "Learning Rate =  <tf.Variable 'SGD/learning_rate:0' shape=() dtype=float32, numpy=0.01>\n",
            "Epoch 27/100\n",
            "781/781 [==============================] - 283s 363ms/step - loss: 0.2466 - accuracy: 0.9191 - val_loss: 0.4038 - val_accuracy: 0.8929\n",
            "\n",
            "val/train: 1.64\n",
            "\n",
            "Epoch 00027: saving model to checkpoints_best_only/checkpoint\n",
            "Learning Rate =  <tf.Variable 'SGD/learning_rate:0' shape=() dtype=float32, numpy=0.01>\n",
            "Epoch 28/100\n",
            "781/781 [==============================] - 283s 362ms/step - loss: 0.2305 - accuracy: 0.9240 - val_loss: 0.4233 - val_accuracy: 0.8876\n",
            "\n",
            "val/train: 1.84\n",
            "\n",
            "Epoch 00028: saving model to checkpoints_best_only/checkpoint\n",
            "Learning Rate =  <tf.Variable 'SGD/learning_rate:0' shape=() dtype=float32, numpy=0.01>\n",
            "Epoch 29/100\n",
            "781/781 [==============================] - 284s 364ms/step - loss: 0.2124 - accuracy: 0.9281 - val_loss: 0.3633 - val_accuracy: 0.8996\n",
            "\n",
            "val/train: 1.71\n",
            "\n",
            "Epoch 00029: saving model to checkpoints_best_only/checkpoint\n",
            "Learning Rate =  <tf.Variable 'SGD/learning_rate:0' shape=() dtype=float32, numpy=0.01>\n",
            "Epoch 30/100\n",
            "781/781 [==============================] - 282s 361ms/step - loss: 0.2217 - accuracy: 0.9270 - val_loss: 0.3866 - val_accuracy: 0.8934\n",
            "\n",
            "val/train: 1.74\n",
            "\n",
            "Epoch 00030: saving model to checkpoints_best_only/checkpoint\n",
            "Learning Rate =  <tf.Variable 'SGD/learning_rate:0' shape=() dtype=float32, numpy=0.01>\n",
            "Epoch 31/100\n",
            "781/781 [==============================] - 278s 356ms/step - loss: 0.2068 - accuracy: 0.9304 - val_loss: 0.3924 - val_accuracy: 0.8924\n",
            "\n",
            "val/train: 1.90\n",
            "\n",
            "Epoch 00031: saving model to checkpoints_best_only/checkpoint\n",
            "Learning Rate =  <tf.Variable 'SGD/learning_rate:0' shape=() dtype=float32, numpy=0.01>\n",
            "Epoch 32/100\n",
            "781/781 [==============================] - 284s 364ms/step - loss: 0.2166 - accuracy: 0.9282 - val_loss: 0.4100 - val_accuracy: 0.8884\n",
            "\n",
            "val/train: 1.89\n",
            "\n",
            "Epoch 00032: saving model to checkpoints_best_only/checkpoint\n",
            "Learning Rate =  <tf.Variable 'SGD/learning_rate:0' shape=() dtype=float32, numpy=0.01>\n",
            "Epoch 33/100\n",
            "781/781 [==============================] - 283s 363ms/step - loss: 0.2068 - accuracy: 0.9305 - val_loss: 0.4003 - val_accuracy: 0.8945\n",
            "\n",
            "val/train: 1.94\n",
            "\n",
            "Epoch 00033: saving model to checkpoints_best_only/checkpoint\n",
            "Learning Rate =  <tf.Variable 'SGD/learning_rate:0' shape=() dtype=float32, numpy=0.01>\n",
            "Epoch 34/100\n",
            "781/781 [==============================] - 282s 361ms/step - loss: 0.2089 - accuracy: 0.9303 - val_loss: 0.4496 - val_accuracy: 0.8818\n",
            "\n",
            "val/train: 2.15\n",
            "\n",
            "Epoch 00034: saving model to checkpoints_best_only/checkpoint\n",
            "Learning Rate =  <tf.Variable 'SGD/learning_rate:0' shape=() dtype=float32, numpy=0.01>\n",
            "Epoch 00034: early stopping\n"
          ],
          "name": "stdout"
        }
      ]
    },
    {
      "cell_type": "code",
      "metadata": {
        "id": "E6Dd-xpIEprm",
        "scrolled": true,
        "colab": {
          "base_uri": "https://localhost:8080/",
          "height": 283
        },
        "outputId": "0bcf5647-ff08-4c25-ad49-adfcf89881c0"
      },
      "source": [
        "#%%script false --no-raise-error\n",
        "# Plot Learning Rate vs. Loss\n",
        "plt.semilogx(history.history['lr'], history.history['loss'])\n",
        "#plt.axis([1e-1, 2e-2, 0, 2])\n",
        "plt.xlabel('Learning Rate')\n",
        "plt.ylabel('Training Loss')\n",
        "plt.show()"
      ],
      "execution_count": null,
      "outputs": [
        {
          "output_type": "display_data",
          "data": {
            "image/png": "[encoded data removed]",
            "text/plain": [
              "<Figure size 432x288 with 1 Axes>"
            ]
          },
          "metadata": {
            "tags": [],
            "needs_background": "light"
          }
        }
      ]
    },
    {
      "cell_type": "code",
      "metadata": {
        "id": "mGpxLHX97QSu",
        "scrolled": false
      },
      "source": [
        "%%script false --no-raise-error\n",
        "#%load_ext tensorboard\n",
        "%reload_ext tensorboard\n",
        "%tensorboard --logdir=./logs_model_LSTM --port=6009"
      ],
      "execution_count": null,
      "outputs": []
    },
    {
      "cell_type": "markdown",
      "metadata": {
        "id": "Y1Zat_cyLOfF"
      },
      "source": [
        "# Print the classification accuracy metrics"
      ]
    },
    {
      "cell_type": "markdown",
      "metadata": {
        "id": "zJ9UOxq6LOfF"
      },
      "source": [
        "#### Print the Accuracy Test Scores"
      ]
    },
    {
      "cell_type": "code",
      "metadata": {
        "scrolled": true,
        "id": "VJ_6ZkXzLOfF",
        "colab": {
          "base_uri": "https://localhost:8080/"
        },
        "outputId": "96f40e83-27bb-4b95-d3de-36d4ecc91895"
      },
      "source": [
        "#%%script false --no-raise-error\n",
        "get_evaluation_accuracy(best_model, X_test_Glove, y_test)"
      ],
      "execution_count": null,
      "outputs": [
        {
          "output_type": "stream",
          "text": [
            "Evaluation Accuracy: 0.882\n",
            "Evaluation Loss: 0.450\n"
          ],
          "name": "stdout"
        }
      ]
    },
    {
      "cell_type": "markdown",
      "metadata": {
        "id": "qGV5rjuMLOfF"
      },
      "source": [
        "####Print the average Accuracy, loss values from Training & Validation Datasets for comparison"
      ]
    },
    {
      "cell_type": "code",
      "metadata": {
        "scrolled": true,
        "id": "kMj5WQ_aLOfF",
        "colab": {
          "base_uri": "https://localhost:8080/"
        },
        "outputId": "9b74df55-a6e4-4d01-a187-f3cbbd532285"
      },
      "source": [
        "#%%script false --no-raise-error\n",
        "print_values(history)"
      ],
      "execution_count": null,
      "outputs": [
        {
          "output_type": "stream",
          "text": [
            "Mean Accuracy for the validation dataset: \n",
            "0.8372015216771294\n",
            "Mean Loss for the validation dataset: \n",
            "0.5667102152810377\n",
            "Mean Accuracy for the training dataset: \n",
            "0.8577045763240141\n",
            "Mean Loss for the training dataset: \n",
            "0.4572651806999655\n"
          ],
          "name": "stdout"
        }
      ]
    },
    {
      "cell_type": "markdown",
      "metadata": {
        "id": "wqxLxkpeLOfF"
      },
      "source": [
        "\n",
        "### Plot the Test & Training Loss"
      ]
    },
    {
      "cell_type": "code",
      "metadata": {
        "id": "pPPbzGhVz_GW",
        "scrolled": true,
        "colab": {
          "base_uri": "https://localhost:8080/",
          "height": 295
        },
        "outputId": "96fbc4fd-3210-48b0-a146-4355a2e930e7"
      },
      "source": [
        "#%%script false --no-raise-error\n",
        "plot_accuracy(history)"
      ],
      "execution_count": null,
      "outputs": [
        {
          "output_type": "display_data",
          "data": {
            "image/png": "[encoded data removed]",
            "text/plain": [
              "<Figure size 432x288 with 1 Axes>"
            ]
          },
          "metadata": {
            "tags": [],
            "needs_background": "light"
          }
        }
      ]
    },
    {
      "cell_type": "markdown",
      "metadata": {
        "id": "45ia708TemSS"
      },
      "source": [
        "\n",
        "### Plot the Test & Training Loss"
      ]
    },
    {
      "cell_type": "code",
      "metadata": {
        "id": "zu7rtsKgeY12",
        "scrolled": false,
        "colab": {
          "base_uri": "https://localhost:8080/",
          "height": 295
        },
        "outputId": "a8ad6c1f-af12-417e-e74f-a2fbec91114f"
      },
      "source": [
        "#%%script false --no-raise-error\n",
        "plot_loss(history)"
      ],
      "execution_count": null,
      "outputs": [
        {
          "output_type": "display_data",
          "data": {
            "image/png": "[encoded data removed]",
            "text/plain": [
              "<Figure size 432x288 with 1 Axes>"
            ]
          },
          "metadata": {
            "tags": [],
            "needs_background": "light"
          }
        }
      ]
    },
    {
      "cell_type": "code",
      "metadata": {
        "scrolled": true,
        "id": "Ij2pdhlELOfG",
        "colab": {
          "base_uri": "https://localhost:8080/"
        },
        "outputId": "2ee60544-0571-498e-93ab-eb8051db968a"
      },
      "source": [
        "#%%script false --no-raise-error\n",
        "print_scores(best_model, X_test_Glove, y_test)"
      ],
      "execution_count": null,
      "outputs": [
        {
          "output_type": "stream",
          "text": [
            "Precision: 0.887594\n",
            "Recall: 0.881825\n",
            "F1 score: 0.877918\n",
            "--------------------------------------------------------------------------------\n"
          ],
          "name": "stdout"
        },
        {
          "output_type": "stream",
          "text": [
            "/usr/local/lib/python3.6/dist-packages/sklearn/metrics/_classification.py:1272: UndefinedMetricWarning: Precision is ill-defined and being set to 0.0 in labels with no predicted samples. Use `zero_division` parameter to control this behavior.\n",
            "  _warn_prf(average, modifier, msg_start, len(result))\n"
          ],
          "name": "stderr"
        }
      ]
    },
    {
      "cell_type": "code",
      "metadata": {
        "scrolled": true,
        "id": "lYEWagl3LOfG",
        "colab": {
          "base_uri": "https://localhost:8080/"
        },
        "outputId": "fc115433-2c42-4950-f9d6-b9eaa0038914"
      },
      "source": [
        "#%%script false --no-raise-error\n",
        "print_classification_report(best_model, X_test_Glove, y_test)"
      ],
      "execution_count": null,
      "outputs": [
        {
          "output_type": "stream",
          "text": [
            "Classification report:\n",
            "               precision    recall  f1-score   support\n",
            "\n",
            "           0       0.89      0.56      0.68       599\n",
            "           1       0.86      0.78      0.82        46\n",
            "           2       0.88      0.95      0.92       390\n",
            "           3       0.84      0.94      0.89       309\n",
            "           4       0.92      0.95      0.93       148\n",
            "           5       0.79      0.48      0.60       116\n",
            "           6       0.92      0.83      0.87       162\n",
            "           7       0.93      0.98      0.95       101\n",
            "           8       0.76      0.91      0.83       559\n",
            "           9       0.94      0.66      0.78       151\n",
            "          10       0.89      0.97      0.93       135\n",
            "          11       0.95      0.93      0.94        44\n",
            "          12       0.94      0.93      0.94       382\n",
            "          13       0.93      0.96      0.94       227\n",
            "          14       0.91      0.92      0.92       176\n",
            "          15       0.83      0.91      0.87        54\n",
            "          16       0.89      0.96      0.93       142\n",
            "          17       0.98      1.00      0.99        60\n",
            "          18       0.98      0.96      0.97       132\n",
            "          19       0.89      0.94      0.92       312\n",
            "          20       0.87      0.90      0.88        51\n",
            "          21       0.94      0.98      0.96        45\n",
            "          22       0.98      0.98      0.98        44\n",
            "          23       0.95      1.00      0.97        39\n",
            "          24       0.95      0.97      0.96       288\n",
            "          25       0.93      0.99      0.96       191\n",
            "          26       0.89      0.94      0.91        80\n",
            "          27       0.76      0.94      0.84        31\n",
            "          28       0.83      0.87      0.85        69\n",
            "          29       0.96      0.93      0.94       148\n",
            "          30       0.91      0.91      0.91        53\n",
            "          31       0.75      0.93      0.83        92\n",
            "          32       0.86      1.00      0.92         6\n",
            "          33       0.90      0.91      0.91       174\n",
            "          34       0.90      0.92      0.91        96\n",
            "          35       1.00      1.00      1.00         3\n",
            "          36       0.75      0.64      0.69        14\n",
            "          37       0.95      0.95      0.95        22\n",
            "          38       1.00      1.00      1.00         6\n",
            "          39       0.72      0.92      0.81        25\n",
            "          40       0.89      0.97      0.93        66\n",
            "          41       0.95      0.92      0.93        59\n",
            "          42       0.91      0.96      0.94        55\n",
            "          43       1.00      0.78      0.88         9\n",
            "          44       0.95      0.76      0.84        25\n",
            "          45       0.93      0.93      0.93        42\n",
            "          46       0.91      1.00      0.95        10\n",
            "          47       0.82      0.66      0.73        35\n",
            "          48       1.00      1.00      1.00        35\n",
            "          49       0.90      0.90      0.90        10\n",
            "          50       0.55      0.95      0.69        19\n",
            "          51       0.90      0.82      0.86        11\n",
            "          52       1.00      1.00      1.00        12\n",
            "          53       0.93      0.87      0.90        15\n",
            "          54       1.00      1.00      1.00         3\n",
            "          55       0.91      0.91      0.91        11\n",
            "          56       0.67      1.00      0.80         4\n",
            "          57       1.00      1.00      1.00         2\n",
            "          58       0.67      1.00      0.80         4\n",
            "          59       1.00      1.00      1.00         8\n",
            "          60       0.28      0.56      0.38        16\n",
            "          61       1.00      1.00      1.00         1\n",
            "          62       0.91      0.97      0.94        33\n",
            "          63       1.00      0.75      0.86         4\n",
            "          64       0.00      0.00      0.00         1\n",
            "          65       0.94      1.00      0.97        15\n",
            "          66       1.00      1.00      1.00         4\n",
            "          67       0.50      1.00      0.67         1\n",
            "          68       1.00      1.00      1.00         4\n",
            "          69       1.00      1.00      1.00         3\n",
            "          70       1.00      1.00      1.00         1\n",
            "          71       0.75      1.00      0.86         3\n",
            "          72       0.00      0.00      0.00         1\n",
            "          73       1.00      1.00      1.00         1\n",
            "\n",
            "    accuracy                           0.88      6245\n",
            "   macro avg       0.86      0.89      0.87      6245\n",
            "weighted avg       0.89      0.88      0.88      6245\n",
            "\n"
          ],
          "name": "stdout"
        },
        {
          "output_type": "stream",
          "text": [
            "/usr/local/lib/python3.6/dist-packages/sklearn/metrics/_classification.py:1272: UndefinedMetricWarning: Precision and F-score are ill-defined and being set to 0.0 in labels with no predicted samples. Use `zero_division` parameter to control this behavior.\n",
            "  _warn_prf(average, modifier, msg_start, len(result))\n"
          ],
          "name": "stderr"
        }
      ]
    },
    {
      "cell_type": "code",
      "metadata": {
        "scrolled": true,
        "id": "CZ5NMclLLOfG",
        "colab": {
          "base_uri": "https://localhost:8080/"
        },
        "outputId": "4c2cac1a-fd19-4431-e643-e9cf9da13546"
      },
      "source": [
        "#%%script false --no-raise-error\n",
        "print_confusion_matrix(best_model, X_test_Glove, y_test)"
      ],
      "execution_count": null,
      "outputs": [
        {
          "output_type": "display_data",
          "data": {
            "image/png": "[encoded data removed]",
            "text/plain": [
              "<Figure size 1440x720 with 2 Axes>"
            ]
          },
          "metadata": {
            "tags": [],
            "needs_background": "light"
          }
        }
      ]
    }
  ]
}