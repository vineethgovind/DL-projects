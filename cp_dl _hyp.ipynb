{
 "cells": [
  {
   "cell_type": "code",
   "execution_count": 27,
   "metadata": {
    "colab": {
     "base_uri": "https://localhost:8080/",
     "height": 140,
     "resources": {
      "http://localhost:8080/nbextensions/google.colab/files.js": {
       "data": "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",
       "headers": [
        [
         "content-type",
         "application/javascript"
        ]
       ],
       "ok": true,
       "status": 200,
       "status_text": ""
      }
     }
    },
    "id": "ZiCE-P5OMSi5",
    "outputId": "b7663a55-ab7e-467c-eeef-938bd0b35634"
   },
   "outputs": [],
   "source": [
    "#comment out if not using colab\n",
    "#from google.colab import files\n",
    "#uploaded = files.upload()"
   ]
  },
  {
   "cell_type": "code",
   "execution_count": 1,
   "metadata": {
    "id": "5pjokHDIMxvG"
   },
   "outputs": [],
   "source": [
    "import tensorflow as tf \n",
    "from tensorflow.keras.preprocessing.sequence import pad_sequences\n",
    "from tensorflow.keras import layers\n",
    "from tensorflow.keras.layers import Embedding,LSTM,TimeDistributed,Dense,Flatten,Dropout,RepeatVector,GRU,Bidirectional\n",
    "from tensorflow.keras.utils import to_categorical\n",
    "from tensorflow.keras.models import Sequential\n",
    "from tensorflow.keras.preprocessing.text import Tokenizer\n",
    "from tensorflow.keras.callbacks import ModelCheckpoint, EarlyStopping\n",
    "import numpy as np\n",
    "import pandas as pd\n",
    "from sklearn.model_selection import train_test_split\n",
    "import matplotlib.pyplot as plt\n",
    "import kerastuner as kt\n",
    "from kerastuner.tuners import BayesianOptimization\n",
    "from tensorflow.keras.optimizers import Adam"
   ]
  },
  {
   "cell_type": "code",
   "execution_count": 3,
   "metadata": {
    "colab": {
     "base_uri": "https://localhost:8080/"
    },
    "id": "rx9PWnpTM6AX",
    "outputId": "57d86986-f094-4ad7-8df2-9029d2b0c934"
   },
   "outputs": [
    {
     "name": "stdout",
     "output_type": "stream",
     "text": [
      "   Unnamed: 0  Unnamed: 0.1  \\\n",
      "0           0             0   \n",
      "1           1             1   \n",
      "2           2             2   \n",
      "3           3             3   \n",
      "4           4             4   \n",
      "\n",
      "                        Combined Description Cleaned Assignment group  \n",
      "0  login issue user manager name checked the name...            GRP_0  \n",
      "1  outlook received from hello team my are not in...            GRP_0  \n",
      "2    cannot log in to received from   cannot on best            GRP_0  \n",
      "3                         unable to access tool page            GRP_0  \n",
      "4                                              error            GRP_0  \n",
      "   Unnamed: 0                       Combined Description Cleaned  \\\n",
      "0           0  login issue user manager name checked the name...   \n",
      "1           1  outlook received from hello team my are not in...   \n",
      "2           2  cannot log in to received from hi i cannot on ...   \n",
      "3           3                         unable to access tool page   \n",
      "4           4                                              error   \n",
      "\n",
      "  Assignment group  LabelEncodings  \n",
      "0            GRP_0               0  \n",
      "1            GRP_0               0  \n",
      "2            GRP_0               0  \n",
      "3            GRP_0               0  \n",
      "4            GRP_0               0  \n",
      "   Unnamed: 0                       Combined Description Cleaned  \\\n",
      "0           0  login issue user manager name checked the name...   \n",
      "1           1  outlook received from hello team my are not in...   \n",
      "2           2  cannot log in to received from hi i cannot on ...   \n",
      "3           3                         unable to access tool page   \n",
      "4           4                                              error   \n",
      "\n",
      "  Assignment group  LabelEncodings  \n",
      "0            GRP_0               0  \n",
      "1            GRP_0               0  \n",
      "2            GRP_0               0  \n",
      "3            GRP_0               0  \n",
      "4            GRP_0               0  \n"
     ]
    }
   ],
   "source": [
    "filename='pre_data_dl.xlsx'\n",
    "data_dl=pd.read_excel(filename)\n",
    "pd.set_option('display.max_columns', None)\n",
    "print(data_dl.head())\n",
    "\n",
    "filename1='pre_data_dl_aug1.xlsx'\n",
    "filename2='pre_data_dl_aug2.xlsx'\n",
    "\n",
    "data_dl_aug1=pd.read_excel(filename1)\n",
    "pd.set_option('display.max_columns', None)\n",
    "print(data_dl_aug1.head())\n",
    "\n",
    "data_dl_aug2=pd.read_excel(filename2)\n",
    "print(data_dl_aug2.head())\n"
   ]
  },
  {
   "cell_type": "code",
   "execution_count": 4,
   "metadata": {
    "id": "FhdP0_KfNHwp"
   },
   "outputs": [],
   "source": [
    "X = (data_dl[\"Combined Description Cleaned\"])\n",
    "y= (data_dl['Assignment group'])\n",
    "\n",
    "#categorical encoding y\n",
    "y=pd.get_dummies(data_dl['Assignment group'])\n",
    "  "
   ]
  },
  {
   "cell_type": "code",
   "execution_count": 5,
   "metadata": {
    "id": "Fqd83yuiPAqX"
   },
   "outputs": [],
   "source": [
    "#parameters\n",
    "max_features=10000\n",
    "emb_dim=300\n",
    "batch_size=128\n",
    "epochs=25"
   ]
  },
  {
   "cell_type": "code",
   "execution_count": 6,
   "metadata": {
    "colab": {
     "base_uri": "https://localhost:8080/"
    },
    "id": "MG-QMXN9PSOI",
    "outputId": "0e732431-fca2-4c43-9409-fc43b1ca0846"
   },
   "outputs": [
    {
     "name": "stdout",
     "output_type": "stream",
     "text": [
      "vocabulary size is:  3316\n"
     ]
    }
   ],
   "source": [
    "#function for tokenizer\n",
    "def dfTokenizer(df):\n",
    " tokenizer=Tokenizer(num_words=max_features,char_level=False)\n",
    " tokenizer.fit_on_texts(df)\n",
    " sequences=tokenizer.texts_to_sequences(df)\n",
    " return sequences,tokenizer\n",
    "#tokenization\n",
    "X,tokenizer = dfTokenizer(data_dl[\"Combined Description Cleaned\"]) \n",
    "vocab_size=len(tokenizer.word_index)\n",
    "print(\"vocabulary size is: \",vocab_size)"
   ]
  },
  {
   "cell_type": "code",
   "execution_count": 7,
   "metadata": {
    "id": "UyKA-0KUQD1N"
   },
   "outputs": [],
   "source": [
    "#function for padding\n",
    "def pad(x, length=None):\n",
    " if length is None:\n",
    "   length=max([len(sentence)  for sentence in x])\n",
    " return pad_sequences(x,maxlen=length,padding='post')\n",
    " \n",
    " #padding \n",
    "X=pad_sequences(X,padding='post')"
   ]
  },
  {
   "cell_type": "code",
   "execution_count": 8,
   "metadata": {
    "id": "lbNRE75PQec1"
   },
   "outputs": [],
   "source": [
    "#function for splitting the data\n",
    "def split(X,y):\n",
    " X_train_spl,X_test_spl,y_train_spl,y_test_spl=train_test_split(X,y,test_size=0.2,random_state=123)\n",
    " return X_train_spl,X_test_spl,y_train_spl,y_test_spl\n",
    "#split the data\n",
    "X_train,X_test,y_train,y_test=split(X,y)\n"
   ]
  },
  {
   "cell_type": "code",
   "execution_count": 9,
   "metadata": {
    "id": "ZwcC9_SjrSQ6"
   },
   "outputs": [],
   "source": [
    "#configuring the callback\n",
    "early_stopping =  EarlyStopping(\n",
    "    monitor='val_accuracy', \n",
    "    patience=3, \n",
    "    min_delta=0.001, \n",
    "    mode='max'\n",
    ")"
   ]
  },
  {
   "cell_type": "code",
   "execution_count": 10,
   "metadata": {
    "colab": {
     "base_uri": "https://localhost:8080/"
    },
    "id": "kcLvbfIj6-2p",
    "outputId": "0df1896a-1b07-4d3b-885a-71bfafe4c537"
   },
   "outputs": [
    {
     "name": "stdout",
     "output_type": "stream",
     "text": [
      "189\n"
     ]
    }
   ],
   "source": [
    "#function for plotting accuracy,loss\n",
    "def plot(model,history):\n",
    " acc = history.history['accuracy']\n",
    " val_acc = history.history['val_accuracy']\n",
    " loss = history.history['loss']\n",
    " val_loss = history.history['val_loss']\n",
    " epochs = range(1, len(acc) + 1)\n",
    " plt.plot(epochs, acc, 'bo', label='Training acc')\n",
    " plt.plot(epochs, val_acc, 'b', label='Validation acc')\n",
    " plt.title(modelname + ' Training and validation accuracy')\n",
    " plt.legend()\n",
    " plt.figure()\n",
    " plt.plot(epochs, loss, 'bo', label='Training loss')\n",
    " plt.plot(epochs, val_loss, 'b', label='Validation loss')\n",
    " plt.title('Training and validation loss')\n",
    " plt.legend()\n",
    " plt.show()\n",
    " return \n",
    "inp_len=X.shape[1]\n",
    "print(inp_len)"
   ]
  },
  {
   "cell_type": "code",
   "execution_count": 11,
   "metadata": {
    "id": "dZxJb6ugQp-j"
   },
   "outputs": [],
   "source": [
    "#Simple LSTM model\n",
    "def LSTM_model(hp):\n",
    " model = tf.keras.Sequential()\n",
    " model.add(Embedding(max_features,emb_dim,input_length=inp_len))\n",
    " model.add(LSTM(512, return_sequences=True))\n",
    " model.add(Dropout(0.2))\n",
    " model.add(TimeDistributed(Dense(units = 512, activation = 'relu')))\n",
    " model.add(Flatten())\n",
    " model.add(Dense(74, activation='softmax'))\n",
    " print(model.summary())\n",
    " lr = hp.Choice('learning_rate', [1e-2, 1e-3, 1e-4])\n",
    " model.compile(optimizer=Adam(lr),\n",
    "              loss='categorical_crossentropy',\n",
    "              metrics=['accuracy'])\n",
    " return model\n",
    " \n",
    "#Using GRU\n",
    "def GRU_model(hp):\n",
    " model = tf.keras.Sequential()\n",
    " model.add(Embedding(max_features,emb_dim,input_length=inp_len))\n",
    " model.add(GRU(512, return_sequences=True))\n",
    " model.add(Dropout(0.2))\n",
    " model.add(TimeDistributed(Dense(units = 512, activation = 'relu')))\n",
    " model.add(Flatten())\n",
    " model.add(Dense(74, activation='softmax'))\n",
    " print(model.summary())\n",
    " lr = hp.Choice('learning_rate', [1e-2, 1e-3, 1e-4])\n",
    " model.compile(optimizer=Adam(lr),\n",
    "              loss='categorical_crossentropy',\n",
    "              metrics=['accuracy'])\n",
    " return model    \n",
    "\n",
    "#BILSTM\n",
    "def BILSTM_model(hp):\n",
    " model = tf.keras.Sequential()\n",
    " model.add(Embedding(max_features,emb_dim,input_length=inp_len))\n",
    " model.add(Bidirectional(LSTM(512, return_sequences=True)))\n",
    " model.add(Dropout(0.2))\n",
    " model.add(TimeDistributed(Dense(units = 512, activation = 'relu')))\n",
    " model.add(Flatten())\n",
    " model.add(Dense(74, activation='softmax'))\n",
    " print(model.summary())\n",
    " lr = hp.Choice('learning_rate', [1e-2, 1e-3, 1e-4])\n",
    " model.compile(optimizer=Adam(lr),\n",
    "              loss='categorical_crossentropy',\n",
    "              metrics=['accuracy'])\n",
    " return model\n",
    "\n",
    "#Using bidirectional GRU\n",
    "def BIGRU_model(hp):\n",
    " model = tf.keras.Sequential()\n",
    " model.add(Embedding(max_features,emb_dim,input_length=inp_len))\n",
    " model.add(Bidirectional(GRU(512, return_sequences=True)))\n",
    " model.add(Dropout(0.2))\n",
    " model.add(TimeDistributed(Dense(units = 512, activation = 'relu')))\n",
    " model.add(Flatten())\n",
    " model.add(Dense(74, activation='softmax'))\n",
    " print(model.summary())\n",
    " lr = hp.Choice('learning_rate', [1e-2, 1e-3, 1e-4])\n",
    " model.compile(optimizer=Adam(lr),\n",
    "              loss='categorical_crossentropy',\n",
    "              metrics=['accuracy'])\n",
    " return model\n",
    "\n"
   ]
  },
  {
   "cell_type": "code",
   "execution_count": 19,
   "metadata": {
    "id": "dZxJb6ugQp-j"
   },
   "outputs": [],
   "source": [
    "#customising the kerastuner function to include batch size and epochs\n",
    "class MyTuner(kt.tuners.BayesianOptimization):\n",
    "  def run_trial(self, trial, *args, **kwargs):\n",
    "     kwargs['batch_size'] = trial.hyperparameters.Int('batch_size', 256, 512,step=256 )\n",
    "     #kwargs['epochs'] = trial.hyperparameters.Int('epochs', 5, 10,20)\n",
    "     super(MyTuner, self).run_trial(trial, *args, **kwargs)"
   ]
  },
  {
   "cell_type": "code",
   "execution_count": 39,
   "metadata": {
    "colab": {
     "base_uri": "https://localhost:8080/",
     "height": 1000
    },
    "id": "AlELfXNMvHj4",
    "outputId": "2889f402-2598-49b3-f808-cb07cbea18e7"
   },
   "outputs": [
    {
     "name": "stdout",
     "output_type": "stream",
     "text": [
      "INFO:tensorflow:Reloading Oracle from existing project C:/Hyperparameter/40a\\untitled_project\\oracle.json\n",
      "Model: \"sequential\"\n",
      "_________________________________________________________________\n",
      "Layer (type)                 Output Shape              Param #   \n",
      "=================================================================\n",
      "embedding (Embedding)        (None, 189, 300)          3000000   \n",
      "_________________________________________________________________\n",
      "lstm (LSTM)                  (None, 189, 512)          1665024   \n",
      "_________________________________________________________________\n",
      "dropout (Dropout)            (None, 189, 512)          0         \n",
      "_________________________________________________________________\n",
      "time_distributed (TimeDistri (None, 189, 512)          262656    \n",
      "_________________________________________________________________\n",
      "flatten (Flatten)            (None, 96768)             0         \n",
      "_________________________________________________________________\n",
      "dense_1 (Dense)              (None, 74)                7160906   \n",
      "=================================================================\n",
      "Total params: 12,088,586\n",
      "Trainable params: 12,088,586\n",
      "Non-trainable params: 0\n",
      "_________________________________________________________________\n",
      "None\n",
      "INFO:tensorflow:Reloading Tuner from C:/Hyperparameter/40a\\untitled_project\\tuner0.json\n",
      "INFO:tensorflow:Oracle triggered exit\n",
      "Results summary\n",
      "Results in C:/Hyperparameter/40a\\untitled_project\n",
      "Showing 5 best trials\n",
      "Objective(name='val_accuracy', direction='max')\n",
      "Trial summary\n",
      "Hyperparameters:\n",
      "learning_rate: 0.001\n",
      "batch_size: 256\n",
      "Score: 0.49558043479919434\n",
      "Trial summary\n",
      "Hyperparameters:\n",
      "learning_rate: 0.001\n",
      "batch_size: 512\n",
      "Score: 0.483205646276474\n",
      "Trial summary\n",
      "Hyperparameters:\n",
      "learning_rate: 0.001\n",
      "batch_size: 512\n",
      "Score: 0.483205646276474\n",
      "Trial summary\n",
      "Hyperparameters:\n",
      "learning_rate: 0.0001\n",
      "batch_size: 256\n",
      "Score: 0.483205646276474\n",
      "Trial summary\n",
      "Hyperparameters:\n",
      "learning_rate: 0.01\n",
      "batch_size: 256\n",
      "Score: 0.46965232491493225\n",
      "None\n",
      "Model: \"sequential\"\n",
      "_________________________________________________________________\n",
      "Layer (type)                 Output Shape              Param #   \n",
      "=================================================================\n",
      "embedding (Embedding)        (None, 189, 300)          3000000   \n",
      "_________________________________________________________________\n",
      "lstm (LSTM)                  (None, 189, 512)          1665024   \n",
      "_________________________________________________________________\n",
      "dropout (Dropout)            (None, 189, 512)          0         \n",
      "_________________________________________________________________\n",
      "time_distributed (TimeDistri (None, 189, 512)          262656    \n",
      "_________________________________________________________________\n",
      "flatten (Flatten)            (None, 96768)             0         \n",
      "_________________________________________________________________\n",
      "dense_1 (Dense)              (None, 74)                7160906   \n",
      "=================================================================\n",
      "Total params: 12,088,586\n",
      "Trainable params: 12,088,586\n",
      "Non-trainable params: 0\n",
      "_________________________________________________________________\n",
      "None\n",
      "Hyperparameters for LSTM are <tensorflow.python.keras.engine.sequential.Sequential object at 0x000002E20AB17790>\n",
      "{'learning_rate': 0.001, 'batch_size': 256}\n",
      "Epoch 1/25\n",
      "27/27 [==============================] - 170s 6s/step - loss: 2.0432 - accuracy: 0.5304 - val_loss: 1.9089 - val_accuracy: 0.5592\n",
      "Epoch 2/25\n",
      "27/27 [==============================] - 173s 6s/step - loss: 1.6904 - accuracy: 0.5909 - val_loss: 1.7898 - val_accuracy: 0.5804\n",
      "Epoch 3/25\n",
      "27/27 [==============================] - 143s 5s/step - loss: 1.4415 - accuracy: 0.6279 - val_loss: 1.7575 - val_accuracy: 0.5893\n",
      "Epoch 4/25\n",
      "27/27 [==============================] - 133s 5s/step - loss: 1.1821 - accuracy: 0.6797 - val_loss: 1.7419 - val_accuracy: 0.6040\n",
      "Epoch 5/25\n",
      "27/27 [==============================] - 132s 5s/step - loss: 0.9653 - accuracy: 0.7229 - val_loss: 1.7863 - val_accuracy: 0.6022\n",
      "Epoch 6/25\n",
      "27/27 [==============================] - 137s 5s/step - loss: 0.7949 - accuracy: 0.7751 - val_loss: 1.9197 - val_accuracy: 0.5916\n",
      "Epoch 7/25\n",
      "27/27 [==============================] - 146s 5s/step - loss: 0.6755 - accuracy: 0.7995 - val_loss: 2.0176 - val_accuracy: 0.6034\n"
     ]
    },
    {
     "data": {
      "image/png": "[encoded data removed]",
      "text/plain": [
       "<Figure size 432x288 with 1 Axes>"
      ]
     },
     "metadata": {
      "needs_background": "light"
     },
     "output_type": "display_data"
    },
    {
     "data": {
      "image/png": "[encoded data removed]",
      "text/plain": [
       "<Figure size 432x288 with 1 Axes>"
      ]
     },
     "metadata": {
      "needs_background": "light"
     },
     "output_type": "display_data"
    }
   ],
   "source": [
    "tuner =MyTuner(\n",
    "    LSTM_model,\n",
    "    objective='val_accuracy',\n",
    "    max_trials=5,\n",
    "    executions_per_trial=1,\n",
    "    seed=123,\n",
    "    directory=\"C:/Hyperparameter/40a\"\n",
    ")\n",
    "\n",
    "tuner.search(X_train,y_train,validation_data=(X_test,y_test))\n",
    "print(tuner.results_summary(5))\n",
    "best_model_LSTM = tuner.get_best_models()[0]\n",
    "print(\"Hyperparameters for LSTM are\",best_model_LSTM)\n",
    "\n",
    "\n",
    "modelname=\"LSTMModel\"\n",
    "vals=tuner.oracle.get_best_trials(num_trials=1)[0].hyperparameters.values\n",
    "print(vals)\n",
    "batch_size_hyp=list(vals.values())[1]\n",
    "#epochs_hyp=list(vals.values())[2]\n",
    "history=best_model_LSTM.fit(X_train,y_train,batch_size=batch_size_hyp,epochs=epochs,validation_data=(X_test,y_test),callbacks=[early_stopping])\n",
    "plot(best_model_LSTM,history)"
   ]
  },
  {
   "cell_type": "code",
   "execution_count": 40,
   "metadata": {
    "colab": {
     "base_uri": "https://localhost:8080/",
     "height": 1000
    },
    "id": "AlELfXNMvHj4",
    "outputId": "2889f402-2598-49b3-f808-cb07cbea18e7"
   },
   "outputs": [],
   "source": [
    "scores_LSTM =best_model_LSTM.evaluate(X_test, y_test, verbose=0)\n",
    "scores_LSTM_val = best_model_LSTM.evaluate(X_train, y_train, verbose=0)"
   ]
  },
  {
   "cell_type": "code",
   "execution_count": 41,
   "metadata": {
    "colab": {
     "base_uri": "https://localhost:8080/",
     "height": 1000
    },
    "id": "AlELfXNMvHj4",
    "outputId": "2889f402-2598-49b3-f808-cb07cbea18e7"
   },
   "outputs": [
    {
     "name": "stdout",
     "output_type": "stream",
     "text": [
      "Accuracy of LSTM for unaugmented data is : 59.0032832963126\n",
      "Training Accuracy of LSTM for unagumented data is: 67.52021653311593\n",
      "Mean loss of  Validation data of LSTM for unaugmented data is : 1.8459778683526176\n",
      "Mean loss of  Training data of LSTM for unaugmented data is : 1.256141415664128\n"
     ]
    }
   ],
   "source": [
    "print(\"Accuracy of LSTM for unaugmented data is :\", np.array(history.history['val_accuracy']).mean()*100)\n",
    "print(\"Training Accuracy of LSTM for unagumented data is:\" ,np.array(history.history['accuracy']).mean()*100)\n",
    "print( \"Mean loss of  Validation data of LSTM for unaugmented data is :\",np.array(history.history['val_loss']).mean())\n",
    "print( \"Mean loss of  Training data of LSTM for unaugmented data is :\",np.array(history.history['loss']).mean())"
   ]
  },
  {
   "cell_type": "code",
   "execution_count": 42,
   "metadata": {
    "colab": {
     "base_uri": "https://localhost:8080/",
     "height": 1000
    },
    "id": "kUE4Fla4vktV",
    "outputId": "8780f068-fa52-4d5c-8389-1ac88e3f341d"
   },
   "outputs": [
    {
     "name": "stdout",
     "output_type": "stream",
     "text": [
      "Trial 5 Complete [00h 02m 19s]\n",
      "val_accuracy: 0.5415439009666443\n",
      "\n",
      "Best val_accuracy So Far: 0.5415439009666443\n",
      "Total elapsed time: 00h 11m 04s\n",
      "INFO:tensorflow:Oracle triggered exit\n",
      "Results summary\n",
      "Results in C:/Hyperparameter/40b\\untitled_project\n",
      "Showing 5 best trials\n",
      "Objective(name='val_accuracy', direction='max')\n",
      "Trial summary\n",
      "Hyperparameters:\n",
      "learning_rate: 0.001\n",
      "batch_size: 256\n",
      "Score: 0.5415439009666443\n",
      "Trial summary\n",
      "Hyperparameters:\n",
      "learning_rate: 0.001\n",
      "batch_size: 512\n",
      "Score: 0.483205646276474\n",
      "Trial summary\n",
      "Hyperparameters:\n",
      "learning_rate: 0.0001\n",
      "batch_size: 256\n",
      "Score: 0.483205646276474\n",
      "Trial summary\n",
      "Hyperparameters:\n",
      "learning_rate: 0.001\n",
      "batch_size: 512\n",
      "Score: 0.483205646276474\n",
      "Trial summary\n",
      "Hyperparameters:\n",
      "learning_rate: 0.01\n",
      "batch_size: 256\n",
      "Score: 0.41190335154533386\n",
      "None\n",
      "Model: \"sequential\"\n",
      "_________________________________________________________________\n",
      "Layer (type)                 Output Shape              Param #   \n",
      "=================================================================\n",
      "embedding (Embedding)        (None, 189, 300)          3000000   \n",
      "_________________________________________________________________\n",
      "gru (GRU)                    (None, 189, 512)          1250304   \n",
      "_________________________________________________________________\n",
      "dropout (Dropout)            (None, 189, 512)          0         \n",
      "_________________________________________________________________\n",
      "time_distributed (TimeDistri (None, 189, 512)          262656    \n",
      "_________________________________________________________________\n",
      "flatten (Flatten)            (None, 96768)             0         \n",
      "_________________________________________________________________\n",
      "dense_1 (Dense)              (None, 74)                7160906   \n",
      "=================================================================\n",
      "Total params: 11,673,866\n",
      "Trainable params: 11,673,866\n",
      "Non-trainable params: 0\n",
      "_________________________________________________________________\n",
      "None\n",
      "Hyperparameters for GRU are <tensorflow.python.keras.engine.sequential.Sequential object at 0x000002E211E084F0>\n",
      "{'learning_rate': 0.001, 'batch_size': 256}\n",
      "Epoch 1/25\n",
      "27/27 [==============================] - 111s 4s/step - loss: 1.9251 - accuracy: 0.5503 - val_loss: 1.8820 - val_accuracy: 0.5651\n",
      "Epoch 2/25\n",
      "27/27 [==============================] - 111s 4s/step - loss: 1.5982 - accuracy: 0.6039 - val_loss: 1.8261 - val_accuracy: 0.5852\n",
      "Epoch 3/25\n",
      "27/27 [==============================] - 110s 4s/step - loss: 1.3075 - accuracy: 0.6514 - val_loss: 1.8634 - val_accuracy: 0.5787\n",
      "Epoch 4/25\n",
      "27/27 [==============================] - 111s 4s/step - loss: 1.0384 - accuracy: 0.7136 - val_loss: 1.9055 - val_accuracy: 0.5975\n",
      "Epoch 5/25\n",
      "27/27 [==============================] - 111s 4s/step - loss: 0.8186 - accuracy: 0.7711 - val_loss: 2.0722 - val_accuracy: 0.5852\n",
      "Epoch 6/25\n",
      "27/27 [==============================] - 110s 4s/step - loss: 0.6662 - accuracy: 0.8093 - val_loss: 2.2514 - val_accuracy: 0.6064\n",
      "Epoch 7/25\n",
      "27/27 [==============================] - 111s 4s/step - loss: 0.5514 - accuracy: 0.8370 - val_loss: 2.4192 - val_accuracy: 0.5751\n",
      "Epoch 8/25\n",
      "27/27 [==============================] - 111s 4s/step - loss: 0.4539 - accuracy: 0.8629 - val_loss: 2.6288 - val_accuracy: 0.6052\n",
      "Epoch 9/25\n",
      "27/27 [==============================] - 110s 4s/step - loss: 0.3964 - accuracy: 0.8815 - val_loss: 2.7595 - val_accuracy: 0.5952\n"
     ]
    },
    {
     "data": {
      "image/png": "[encoded data removed]",
      "text/plain": [
       "<Figure size 432x288 with 1 Axes>"
      ]
     },
     "metadata": {
      "needs_background": "light"
     },
     "output_type": "display_data"
    },
    {
     "data": {
      "image/png": "[encoded data removed]",
      "text/plain": [
       "<Figure size 432x288 with 1 Axes>"
      ]
     },
     "metadata": {
      "needs_background": "light"
     },
     "output_type": "display_data"
    }
   ],
   "source": [
    "tuner =MyTuner(\n",
    "    GRU_model,\n",
    "    objective='val_accuracy',\n",
    "    max_trials=5,\n",
    "    executions_per_trial=1,\n",
    "    seed=123,\n",
    "    directory=\"C:/Hyperparameter/40b\"\n",
    ")\n",
    "\n",
    "tuner.search(X_train,y_train,validation_data=(X_test,y_test))\n",
    "print(tuner.results_summary(5))\n",
    "best_model_GRU = tuner.get_best_models()[0]\n",
    "print(\"Hyperparameters for GRU are\",best_model_GRU)\n",
    "\n",
    "\n",
    "modelname=\"GRUModel\"\n",
    "vals=tuner.oracle.get_best_trials(num_trials=1)[0].hyperparameters.values\n",
    "print(vals)\n",
    "batch_size_hyp=list(vals.values())[1]\n",
    "#epochs_hyp=list(vals.values())[2]\n",
    "history=best_model_GRU.fit(X_train,y_train,batch_size=batch_size_hyp,epochs=epochs,validation_data=(X_test,y_test),callbacks=[early_stopping])\n",
    "plot(best_model_GRU,history)"
   ]
  },
  {
   "cell_type": "code",
   "execution_count": 43,
   "metadata": {
    "colab": {
     "base_uri": "https://localhost:8080/",
     "height": 1000
    },
    "id": "kUE4Fla4vktV",
    "outputId": "8780f068-fa52-4d5c-8389-1ac88e3f341d"
   },
   "outputs": [
    {
     "name": "stdout",
     "output_type": "stream",
     "text": [
      "Accuracy of GRU for unaugmented data is : 58.816211753421356\n",
      "Training Accuracy of GRU for unagumented data is: 74.23185176319546\n",
      "Mean loss of  Validation data of GRU for unaugmented data is : 2.178678962919447\n",
      "Mean loss of  Training data of GRU for unaugmented data is : 0.9728716181384193\n"
     ]
    }
   ],
   "source": [
    "print(\"Accuracy of GRU for unaugmented data is :\", np.array(history.history['val_accuracy']).mean()*100)\n",
    "print(\"Training Accuracy of GRU for unagumented data is:\" ,np.array(history.history['accuracy']).mean()*100)\n",
    "print( \"Mean loss of  Validation data of GRU for unaugmented data is :\",np.array(history.history['val_loss']).mean())\n",
    "print( \"Mean loss of  Training data of GRU for unaugmented data is :\",np.array(history.history['loss']).mean())"
   ]
  },
  {
   "cell_type": "code",
   "execution_count": 44,
   "metadata": {
    "colab": {
     "base_uri": "https://localhost:8080/",
     "height": 1000
    },
    "id": "Lb2m8_ocvlWZ",
    "outputId": "45889635-1876-422d-dd44-ef8257a05347"
   },
   "outputs": [
    {
     "name": "stdout",
     "output_type": "stream",
     "text": [
      "Trial 5 Complete [00h 06m 23s]\n",
      "val_accuracy: 0.49558043479919434\n",
      "\n",
      "Best val_accuracy So Far: 0.49558043479919434\n",
      "Total elapsed time: 00h 29m 26s\n",
      "INFO:tensorflow:Oracle triggered exit\n",
      "Results summary\n",
      "Results in C:/Hyperparameter/40C\\untitled_project\n",
      "Showing 5 best trials\n",
      "Objective(name='val_accuracy', direction='max')\n",
      "Trial summary\n",
      "Hyperparameters:\n",
      "learning_rate: 0.001\n",
      "batch_size: 256\n",
      "Score: 0.49558043479919434\n",
      "Trial summary\n",
      "Hyperparameters:\n",
      "learning_rate: 0.001\n",
      "batch_size: 512\n",
      "Score: 0.483205646276474\n",
      "Trial summary\n",
      "Hyperparameters:\n",
      "learning_rate: 0.0001\n",
      "batch_size: 256\n",
      "Score: 0.483205646276474\n",
      "Trial summary\n",
      "Hyperparameters:\n",
      "learning_rate: 0.001\n",
      "batch_size: 512\n",
      "Score: 0.483205646276474\n",
      "Trial summary\n",
      "Hyperparameters:\n",
      "learning_rate: 0.01\n",
      "batch_size: 256\n",
      "Score: 0.43606364727020264\n",
      "None\n",
      "Model: \"sequential\"\n",
      "_________________________________________________________________\n",
      "Layer (type)                 Output Shape              Param #   \n",
      "=================================================================\n",
      "embedding (Embedding)        (None, 189, 300)          3000000   \n",
      "_________________________________________________________________\n",
      "bidirectional (Bidirectional (None, 189, 1024)         3330048   \n",
      "_________________________________________________________________\n",
      "dropout (Dropout)            (None, 189, 1024)         0         \n",
      "_________________________________________________________________\n",
      "time_distributed (TimeDistri (None, 189, 512)          524800    \n",
      "_________________________________________________________________\n",
      "flatten (Flatten)            (None, 96768)             0         \n",
      "_________________________________________________________________\n",
      "dense_1 (Dense)              (None, 74)                7160906   \n",
      "=================================================================\n",
      "Total params: 14,015,754\n",
      "Trainable params: 14,015,754\n",
      "Non-trainable params: 0\n",
      "_________________________________________________________________\n",
      "None\n",
      "Hyperparameters for BILSTM are <tensorflow.python.keras.engine.sequential.Sequential object at 0x000002E2184DC370>\n",
      "{'learning_rate': 0.001, 'batch_size': 256}\n",
      "Epoch 1/25\n",
      "27/27 [==============================] - 376s 14s/step - loss: 2.1238 - accuracy: 0.5211 - val_loss: 1.9182 - val_accuracy: 0.5616\n",
      "Epoch 2/25\n",
      "27/27 [==============================] - 422s 16s/step - loss: 1.7019 - accuracy: 0.5874 - val_loss: 1.8177 - val_accuracy: 0.5622\n",
      "Epoch 3/25\n",
      "27/27 [==============================] - 428s 16s/step - loss: 1.4635 - accuracy: 0.6246 - val_loss: 1.7997 - val_accuracy: 0.5840\n",
      "Epoch 4/25\n",
      "27/27 [==============================] - 428s 16s/step - loss: 1.2127 - accuracy: 0.6723 - val_loss: 1.8074 - val_accuracy: 0.5681\n",
      "Epoch 5/25\n",
      "27/27 [==============================] - 423s 16s/step - loss: 0.9954 - accuracy: 0.7205 - val_loss: 1.8097 - val_accuracy: 0.5899\n",
      "Epoch 6/25\n",
      "27/27 [==============================] - 427s 16s/step - loss: 0.8147 - accuracy: 0.7656 - val_loss: 2.0039 - val_accuracy: 0.5910\n",
      "Epoch 7/25\n",
      "27/27 [==============================] - 424s 16s/step - loss: 0.6594 - accuracy: 0.8104 - val_loss: 2.1438 - val_accuracy: 0.5869\n",
      "Epoch 8/25\n",
      "27/27 [==============================] - 425s 16s/step - loss: 0.5561 - accuracy: 0.8340 - val_loss: 2.3103 - val_accuracy: 0.5846\n",
      "Epoch 9/25\n",
      "27/27 [==============================] - 424s 16s/step - loss: 0.4827 - accuracy: 0.8589 - val_loss: 2.3854 - val_accuracy: 0.5822\n"
     ]
    },
    {
     "data": {
      "image/png": "[encoded data removed]",
      "text/plain": [
       "<Figure size 432x288 with 1 Axes>"
      ]
     },
     "metadata": {
      "needs_background": "light"
     },
     "output_type": "display_data"
    },
    {
     "data": {
      "image/png": "[encoded data removed]",
      "text/plain": [
       "<Figure size 432x288 with 1 Axes>"
      ]
     },
     "metadata": {
      "needs_background": "light"
     },
     "output_type": "display_data"
    }
   ],
   "source": [
    "tuner =MyTuner(\n",
    "    BILSTM_model,\n",
    "    objective='val_accuracy',\n",
    "    max_trials=5,\n",
    "    executions_per_trial=1,\n",
    "    seed=123,\n",
    "    directory=\"C:/Hyperparameter/40C\"\n",
    ")\n",
    "\n",
    "tuner.search(X_train,y_train,validation_data=(X_test,y_test))\n",
    "print(tuner.results_summary(5))\n",
    "best_model_BILSTM = tuner.get_best_models()[0]\n",
    "print(\"Hyperparameters for BILSTM are\",best_model_BILSTM)\n",
    "\n",
    "\n",
    "modelname=\"BILSTMModel\"\n",
    "vals=tuner.oracle.get_best_trials(num_trials=1)[0].hyperparameters.values\n",
    "print(vals)\n",
    "batch_size_hyp=list(vals.values())[1]\n",
    "#epochs_hyp=list(vals.values())[2]\n",
    "history=best_model_BILSTM.fit(X_train,y_train,batch_size=batch_size_hyp,epochs=epochs,validation_data=(X_test,y_test),callbacks=[early_stopping])\n",
    "plot(best_model_BILSTM,history)"
   ]
  },
  {
   "cell_type": "code",
   "execution_count": 45,
   "metadata": {
    "colab": {
     "base_uri": "https://localhost:8080/",
     "height": 1000
    },
    "id": "Lb2m8_ocvlWZ",
    "outputId": "45889635-1876-422d-dd44-ef8257a05347"
   },
   "outputs": [
    {
     "name": "stdout",
     "output_type": "stream",
     "text": [
      "Accuracy of BILSTM for unaugmented data is : 57.89301461643643\n",
      "Training Accuracy of BILSTM for unagumented data is: 71.05444206131828\n",
      "Mean loss of  Validation data of BILSTM for unaugmented data is : 1.9995683828989665\n",
      "Mean loss of  Training data of BILSTM for unaugmented data is : 1.1122389833132427\n"
     ]
    }
   ],
   "source": [
    "print(\"Accuracy of BILSTM for unaugmented data is :\", np.array(history.history['val_accuracy']).mean()*100)\n",
    "print(\"Training Accuracy of BILSTM for unagumented data is:\" ,np.array(history.history['accuracy']).mean()*100)\n",
    "print( \"Mean loss of  Validation data of BILSTM for unaugmented data is :\",np.array(history.history['val_loss']).mean())\n",
    "print( \"Mean loss of  Training data of BILSTM for unaugmented data is :\",np.array(history.history['loss']).mean())"
   ]
  },
  {
   "cell_type": "code",
   "execution_count": 46,
   "metadata": {
    "colab": {
     "base_uri": "https://localhost:8080/",
     "height": 1000
    },
    "id": "W7j9MWsavlOs",
    "outputId": "c01749f6-8181-4cc8-ec0d-2154d1913bfb"
   },
   "outputs": [
    {
     "name": "stdout",
     "output_type": "stream",
     "text": [
      "Trial 5 Complete [00h 05m 03s]\n",
      "val_accuracy: 0.5403653383255005\n",
      "\n",
      "Best val_accuracy So Far: 0.5403653383255005\n",
      "Total elapsed time: 00h 24m 11s\n",
      "INFO:tensorflow:Oracle triggered exit\n",
      "Results summary\n",
      "Results in C:/Hyperparameter/40D\\untitled_project\n",
      "Showing 5 best trials\n",
      "Objective(name='val_accuracy', direction='max')\n",
      "Trial summary\n",
      "Hyperparameters:\n",
      "learning_rate: 0.001\n",
      "batch_size: 256\n",
      "Score: 0.5403653383255005\n",
      "Trial summary\n",
      "Hyperparameters:\n",
      "learning_rate: 0.001\n",
      "batch_size: 512\n",
      "Score: 0.4920447766780853\n",
      "Trial summary\n",
      "Hyperparameters:\n",
      "learning_rate: 0.0001\n",
      "batch_size: 256\n",
      "Score: 0.483205646276474\n",
      "Trial summary\n",
      "Hyperparameters:\n",
      "learning_rate: 0.001\n",
      "batch_size: 512\n",
      "Score: 0.483205646276474\n",
      "Trial summary\n",
      "Hyperparameters:\n",
      "learning_rate: 0.01\n",
      "batch_size: 256\n",
      "Score: 0.20329993963241577\n",
      "None\n",
      "Model: \"sequential\"\n",
      "_________________________________________________________________\n",
      "Layer (type)                 Output Shape              Param #   \n",
      "=================================================================\n",
      "embedding (Embedding)        (None, 189, 300)          3000000   \n",
      "_________________________________________________________________\n",
      "bidirectional (Bidirectional (None, 189, 1024)         2500608   \n",
      "_________________________________________________________________\n",
      "dropout (Dropout)            (None, 189, 1024)         0         \n",
      "_________________________________________________________________\n",
      "time_distributed (TimeDistri (None, 189, 512)          524800    \n",
      "_________________________________________________________________\n",
      "flatten (Flatten)            (None, 96768)             0         \n",
      "_________________________________________________________________\n",
      "dense_1 (Dense)              (None, 74)                7160906   \n",
      "=================================================================\n",
      "Total params: 13,186,314\n",
      "Trainable params: 13,186,314\n",
      "Non-trainable params: 0\n",
      "_________________________________________________________________\n",
      "None\n",
      "Hyperparameters for BIGRU are <tensorflow.python.keras.engine.sequential.Sequential object at 0x000002E22369DCD0>\n",
      "{'learning_rate': 0.001, 'batch_size': 256}\n",
      "Epoch 1/25\n",
      "27/27 [==============================] - 292s 11s/step - loss: 1.8998 - accuracy: 0.5578 - val_loss: 1.8515 - val_accuracy: 0.5681\n",
      "Epoch 2/25\n",
      "27/27 [==============================] - 302s 11s/step - loss: 1.5718 - accuracy: 0.5985 - val_loss: 1.8113 - val_accuracy: 0.5822\n",
      "Epoch 3/25\n",
      "27/27 [==============================] - 288s 11s/step - loss: 1.2820 - accuracy: 0.6577 - val_loss: 1.9256 - val_accuracy: 0.5869\n",
      "Epoch 4/25\n",
      "27/27 [==============================] - 297s 11s/step - loss: 1.0075 - accuracy: 0.7195 - val_loss: 1.9385 - val_accuracy: 0.5863\n",
      "Epoch 5/25\n",
      "27/27 [==============================] - 276s 10s/step - loss: 0.7720 - accuracy: 0.7786 - val_loss: 2.1785 - val_accuracy: 0.5887\n",
      "Epoch 6/25\n",
      "27/27 [==============================] - 275s 10s/step - loss: 0.5875 - accuracy: 0.8299 - val_loss: 2.3444 - val_accuracy: 0.5834\n",
      "Epoch 7/25\n",
      "27/27 [==============================] - 288s 11s/step - loss: 0.4725 - accuracy: 0.8594 - val_loss: 2.6163 - val_accuracy: 0.5651\n",
      "Epoch 8/25\n",
      "27/27 [==============================] - 312s 12s/step - loss: 0.3900 - accuracy: 0.8807 - val_loss: 2.7746 - val_accuracy: 0.5798\n"
     ]
    },
    {
     "data": {
      "image/png": "[encoded data removed]",
      "text/plain": [
       "<Figure size 432x288 with 1 Axes>"
      ]
     },
     "metadata": {
      "needs_background": "light"
     },
     "output_type": "display_data"
    },
    {
     "data": {
      "image/png": "[encoded data removed]",
      "text/plain": [
       "<Figure size 432x288 with 1 Axes>"
      ]
     },
     "metadata": {
      "needs_background": "light"
     },
     "output_type": "display_data"
    }
   ],
   "source": [
    "tuner =MyTuner(\n",
    "    BIGRU_model,\n",
    "    objective='val_accuracy',\n",
    "    max_trials=5,\n",
    "    executions_per_trial=1,\n",
    "    seed=123,\n",
    "    directory=\"C:/Hyperparameter/40D\"\n",
    ")\n",
    "\n",
    "tuner.search(X_train,y_train,validation_data=(X_test,y_test))\n",
    "print(tuner.results_summary(5))\n",
    "best_model_BIGRU = tuner.get_best_models()[0]\n",
    "print(\"Hyperparameters for BIGRU are\",best_model_BIGRU)\n",
    "\n",
    "\n",
    "modelname=\"BIGRUModel\"\n",
    "vals=tuner.oracle.get_best_trials(num_trials=1)[0].hyperparameters.values\n",
    "print(vals)\n",
    "batch_size_hyp=list(vals.values())[1]\n",
    "#epochs_hyp=list(vals.values())[2]\n",
    "history=best_model_BIGRU.fit(X_train,y_train,batch_size=batch_size_hyp,epochs=epochs,validation_data=(X_test,y_test),callbacks=[early_stopping])\n",
    "plot(best_model_BIGRU,history)"
   ]
  },
  {
   "cell_type": "code",
   "execution_count": 47,
   "metadata": {
    "colab": {
     "base_uri": "https://localhost:8080/",
     "height": 1000
    },
    "id": "W7j9MWsavlOs",
    "outputId": "c01749f6-8181-4cc8-ec0d-2154d1913bfb"
   },
   "outputs": [
    {
     "name": "stdout",
     "output_type": "stream",
     "text": [
      "Accuracy of BIGRU for unaugmented data is : 58.00677686929703\n",
      "Training Accuracy of BIGRU for unagumented data is: 73.5259436070919\n",
      "Mean loss of  Validation data of BIGRU for unaugmented data is : 2.180098280310631\n",
      "Mean loss of  Training data of BIGRU for unaugmented data is : 0.9979034997522831\n"
     ]
    }
   ],
   "source": [
    "print(\"Accuracy of BIGRU for unaugmented data is :\", np.array(history.history['val_accuracy']).mean()*100)\n",
    "print(\"Training Accuracy of BIGRU for unagumented data is:\" ,np.array(history.history['accuracy']).mean()*100)\n",
    "print( \"Mean loss of  Validation data of BIGRU for unaugmented data is :\",np.array(history.history['val_loss']).mean())\n",
    "print( \"Mean loss of  Training data of BIGRU for unaugmented data is :\",np.array(history.history['loss']).mean())"
   ]
  },
  {
   "cell_type": "code",
   "execution_count": 12,
   "metadata": {
    "id": "YmoJ5DUvt8lD"
   },
   "outputs": [],
   "source": [
    "X_aug1 = (data_dl_aug1[\"Combined Description Cleaned\"])\n",
    "y_aug1= (data_dl_aug1['Assignment group'])\n",
    "\n",
    "#categorical encoding y\n",
    "y_aug1=pd.get_dummies(data_dl_aug2['Assignment group'])\n",
    "\n",
    "\n",
    "X_aug2 = (data_dl_aug2[\"Combined Description Cleaned\"])\n",
    "y_aug2= (data_dl_aug2['Assignment group'])\n",
    "\n",
    "#categorical encoding y\n",
    "y_aug2=pd.get_dummies(data_dl_aug2['Assignment group'])\n",
    "  "
   ]
  },
  {
   "cell_type": "code",
   "execution_count": 13,
   "metadata": {
    "colab": {
     "base_uri": "https://localhost:8080/"
    },
    "id": "kvl4V_67uKb_",
    "outputId": "23d0507a-d29b-473e-9474-ec96440bf194"
   },
   "outputs": [
    {
     "name": "stdout",
     "output_type": "stream",
     "text": [
      "vocabulary size is:  3956\n",
      "vocabulary size is:  4424\n"
     ]
    }
   ],
   "source": [
    "#tokenization\n",
    "X_aug1,tokenizer = dfTokenizer(data_dl_aug1[\"Combined Description Cleaned\"]) \n",
    "vocab_size_aug1=len(tokenizer.word_index)\n",
    "print(\"vocabulary size is: \",vocab_size_aug1)\n",
    "\n",
    "X_aug2,tokenizer = dfTokenizer(data_dl_aug2[\"Combined Description Cleaned\"]) \n",
    "vocab_size_aug2=len(tokenizer.word_index)\n",
    "print(\"vocabulary size is: \",vocab_size_aug2)"
   ]
  },
  {
   "cell_type": "code",
   "execution_count": 14,
   "metadata": {
    "id": "n2n9EEXduMGz"
   },
   "outputs": [],
   "source": [
    "#padding\n",
    "X_aug1=pad_sequences(X_aug1,padding='post')\n",
    "X_aug2=pad_sequences(X_aug2,padding='post')\n",
    "y_aug1=y_aug1[0:17586]"
   ]
  },
  {
   "cell_type": "code",
   "execution_count": 15,
   "metadata": {
    "colab": {
     "base_uri": "https://localhost:8080/"
    },
    "id": "h4hMuuz0uQUD",
    "outputId": "3e84b829-cccb-44c4-c0d7-864feddd7a63"
   },
   "outputs": [
    {
     "name": "stdout",
     "output_type": "stream",
     "text": [
      "191\n"
     ]
    }
   ],
   "source": [
    "#split the data.Only augmented data is split using stratify\n",
    "def split_stratify(X,y):\n",
    " X_train_spl,X_test_spl,y_train_spl,y_test_spl=train_test_split(X,y,test_size=0.2,stratify=y,random_state=123)\n",
    " return X_train_spl,X_test_spl,y_train_spl,y_test_spl\n",
    "\n",
    "X_train_aug1,X_test_aug1,y_train_aug1,y_test_aug1=split_stratify(X_aug1,y_aug1)\n",
    "X_train_aug2,X_test_aug2,y_train_aug2,y_test_aug2=split_stratify(X_aug2,y_aug2)\n",
    "\n",
    "\n",
    "inp_len1=X_aug1.shape[1]\n",
    "print(inp_len1)"
   ]
  },
  {
   "cell_type": "code",
   "execution_count": 16,
   "metadata": {
    "id": "sfd57Hy8iTjx"
   },
   "outputs": [],
   "source": [
    "#Simple LSTM model1\n",
    "def LSTM_model1(hp):\n",
    " model = tf.keras.Sequential()\n",
    " model.add(Embedding(max_features,emb_dim,input_length=inp_len1))\n",
    " model.add(LSTM(512, return_sequences=True))\n",
    " model.add(Dropout(0.2))\n",
    " model.add(TimeDistributed(Dense(units = 512, activation = 'relu')))\n",
    " model.add(Flatten())\n",
    " model.add(Dense(74, activation='softmax'))\n",
    " print(model.summary())\n",
    " lr = hp.Choice('learning_rate', [1e-2, 1e-3, 1e-4])\n",
    " model.compile(optimizer=Adam(lr),\n",
    "              loss='categorical_crossentropy',\n",
    "              metrics=['accuracy'])\n",
    " return model\n",
    "\n",
    "\n",
    "\n",
    "#Using GRU\n",
    "def GRU_model1(hp):\n",
    " model = tf.keras.Sequential()\n",
    " model.add(Embedding(max_features,emb_dim,input_length=inp_len1))\n",
    " model.add(GRU(512, return_sequences=True))\n",
    " model.add(Dropout(0.2))\n",
    " model.add(TimeDistributed(Dense(units = 512, activation = 'relu')))\n",
    " model.add(Flatten())\n",
    " model.add(Dense(74, activation='softmax'))\n",
    " print(model.summary())\n",
    " lr = hp.Choice('learning_rate', [1e-2, 1e-3, 1e-4])\n",
    " model.compile(optimizer=Adam(lr),\n",
    "              loss='categorical_crossentropy',\n",
    "              metrics=['accuracy'])\n",
    " return model\n",
    "\n",
    "\n",
    " #Using bidirectional LSTM\n",
    "\n",
    "def BILSTM_model1(hp):\n",
    " model = tf.keras.Sequential()\n",
    " model.add(Embedding(max_features,emb_dim,input_length=inp_len1))\n",
    " model.add(Bidirectional(LSTM(512, return_sequences=True)))\n",
    " model.add(Dropout(0.2))\n",
    " model.add(TimeDistributed(Dense(units = 512, activation = 'relu')))\n",
    " model.add(Flatten())\n",
    " model.add(Dense(74, activation='softmax'))\n",
    " print(model.summary())\n",
    " lr = hp.Choice('learning_rate', [1e-2, 1e-3, 1e-4])\n",
    " model.compile(optimizer=Adam(lr),\n",
    "              loss='categorical_crossentropy',\n",
    "              metrics=['accuracy'])\n",
    " return model\n",
    "\n",
    "\n",
    "#Using bidirectional GRU\n",
    "def BIGRU_model1(hp):\n",
    " model = tf.keras.Sequential()\n",
    " model.add(Embedding(max_features,emb_dim,input_length=inp_len1))\n",
    " model.add(Bidirectional(GRU(512, return_sequences=True)))\n",
    " model.add(Dropout(0.2))\n",
    " model.add(TimeDistributed(Dense(units = 512, activation = 'relu')))\n",
    " model.add(Flatten())\n",
    " model.add(Dense(74, activation='softmax'))\n",
    " print(model.summary())\n",
    " lr = hp.Choice('learning_rate', [1e-2, 1e-3, 1e-4])\n",
    " model.compile(optimizer=Adam(lr),\n",
    "              loss='categorical_crossentropy',\n",
    "              metrics=['accuracy'])\n",
    " return model\n",
    "\n",
    "\n"
   ]
  },
  {
   "cell_type": "code",
   "execution_count": 25,
   "metadata": {
    "colab": {
     "base_uri": "https://localhost:8080/",
     "height": 1000
    },
    "id": "d47XGO6FuUMU",
    "outputId": "db0930bb-d520-4a1e-bb6c-e92a058d8b1b"
   },
   "outputs": [
    {
     "name": "stdout",
     "output_type": "stream",
     "text": [
      "INFO:tensorflow:Reloading Oracle from existing project C:/Hyperparameter/40e\\untitled_project\\oracle.json\n",
      "Model: \"sequential\"\n",
      "_________________________________________________________________\n",
      "Layer (type)                 Output Shape              Param #   \n",
      "=================================================================\n",
      "embedding (Embedding)        (None, 191, 300)          3000000   \n",
      "_________________________________________________________________\n",
      "lstm (LSTM)                  (None, 191, 512)          1665024   \n",
      "_________________________________________________________________\n",
      "dropout (Dropout)            (None, 191, 512)          0         \n",
      "_________________________________________________________________\n",
      "time_distributed (TimeDistri (None, 191, 512)          262656    \n",
      "_________________________________________________________________\n",
      "flatten (Flatten)            (None, 97792)             0         \n",
      "_________________________________________________________________\n",
      "dense_1 (Dense)              (None, 74)                7236682   \n",
      "=================================================================\n",
      "Total params: 12,164,362\n",
      "Trainable params: 12,164,362\n",
      "Non-trainable params: 0\n",
      "_________________________________________________________________\n",
      "None\n",
      "INFO:tensorflow:Reloading Tuner from C:/Hyperparameter/40e\\untitled_project\\tuner0.json\n",
      "INFO:tensorflow:Oracle triggered exit\n",
      "Results summary\n",
      "Results in C:/Hyperparameter/40e\\untitled_project\n",
      "Showing 5 best trials\n",
      "Objective(name='val_accuracy', direction='max')\n",
      "Trial summary\n",
      "Hyperparameters:\n",
      "learning_rate: 0.001\n",
      "batch_size: 256\n",
      "Score: 0.32802727818489075\n",
      "Trial summary\n",
      "Hyperparameters:\n",
      "learning_rate: 0.001\n",
      "batch_size: 512\n",
      "Score: 0.2075042575597763\n",
      "Trial summary\n",
      "Hyperparameters:\n",
      "learning_rate: 0.0001\n",
      "batch_size: 256\n",
      "Score: 0.2023877203464508\n",
      "Trial summary\n",
      "Hyperparameters:\n",
      "learning_rate: 0.01\n",
      "batch_size: 256\n",
      "Score: 0.1986924409866333\n",
      "Trial summary\n",
      "Hyperparameters:\n",
      "learning_rate: 0.0001\n",
      "batch_size: 512\n",
      "Score: 0.17026719450950623\n",
      "None\n",
      "Model: \"sequential\"\n",
      "_________________________________________________________________\n",
      "Layer (type)                 Output Shape              Param #   \n",
      "=================================================================\n",
      "embedding (Embedding)        (None, 191, 300)          3000000   \n",
      "_________________________________________________________________\n",
      "lstm (LSTM)                  (None, 191, 512)          1665024   \n",
      "_________________________________________________________________\n",
      "dropout (Dropout)            (None, 191, 512)          0         \n",
      "_________________________________________________________________\n",
      "time_distributed (TimeDistri (None, 191, 512)          262656    \n",
      "_________________________________________________________________\n",
      "flatten (Flatten)            (None, 97792)             0         \n",
      "_________________________________________________________________\n",
      "dense_1 (Dense)              (None, 74)                7236682   \n",
      "=================================================================\n",
      "Total params: 12,164,362\n",
      "Trainable params: 12,164,362\n",
      "Non-trainable params: 0\n",
      "_________________________________________________________________\n",
      "None\n",
      "Hyperparameters for LSTM are <tensorflow.python.keras.engine.sequential.Sequential object at 0x000002670CA09D00>\n",
      "{'learning_rate': 0.001, 'batch_size': 256}\n",
      "Epoch 1/25\n",
      "55/55 [==============================] - 415s 8s/step - loss: 1.9943 - accuracy: 0.4581 - val_loss: 1.6327 - val_accuracy: 0.5469\n",
      "Epoch 2/25\n",
      "55/55 [==============================] - 337s 6s/step - loss: 1.1686 - accuracy: 0.6638 - val_loss: 1.1296 - val_accuracy: 0.6669\n",
      "Epoch 3/25\n",
      "55/55 [==============================] - 341s 6s/step - loss: 0.7295 - accuracy: 0.7849 - val_loss: 0.8532 - val_accuracy: 0.7499\n",
      "Epoch 4/25\n",
      "55/55 [==============================] - 330s 6s/step - loss: 0.5063 - accuracy: 0.8477 - val_loss: 0.7440 - val_accuracy: 0.7732\n",
      "Epoch 5/25\n",
      "55/55 [==============================] - 329s 6s/step - loss: 0.3812 - accuracy: 0.8819 - val_loss: 0.7034 - val_accuracy: 0.8016\n",
      "Epoch 6/25\n",
      "55/55 [==============================] - 458s 8s/step - loss: 0.3095 - accuracy: 0.9009 - val_loss: 0.6441 - val_accuracy: 0.8178\n",
      "Epoch 7/25\n",
      "55/55 [==============================] - 399s 7s/step - loss: 0.2574 - accuracy: 0.9185 - val_loss: 0.6343 - val_accuracy: 0.8204\n",
      "Epoch 8/25\n",
      "55/55 [==============================] - 351s 6s/step - loss: 0.2225 - accuracy: 0.9273 - val_loss: 0.6466 - val_accuracy: 0.8275\n",
      "Epoch 9/25\n",
      "55/55 [==============================] - 352s 6s/step - loss: 0.1962 - accuracy: 0.9337 - val_loss: 0.6167 - val_accuracy: 0.8329\n",
      "Epoch 10/25\n",
      "55/55 [==============================] - 350s 6s/step - loss: 0.1776 - accuracy: 0.9409 - val_loss: 0.6349 - val_accuracy: 0.8397\n",
      "Epoch 11/25\n",
      "55/55 [==============================] - 350s 6s/step - loss: 0.1732 - accuracy: 0.9416 - val_loss: 0.6904 - val_accuracy: 0.8206\n",
      "Epoch 12/25\n",
      "55/55 [==============================] - 355s 6s/step - loss: 0.1674 - accuracy: 0.9435 - val_loss: 0.6710 - val_accuracy: 0.8405\n",
      "Epoch 13/25\n",
      "55/55 [==============================] - 351s 6s/step - loss: 0.1663 - accuracy: 0.9446 - val_loss: 0.6696 - val_accuracy: 0.8368\n"
     ]
    },
    {
     "data": {
      "image/png": "[encoded data removed]",
      "text/plain": [
       "<Figure size 432x288 with 1 Axes>"
      ]
     },
     "metadata": {
      "needs_background": "light"
     },
     "output_type": "display_data"
    },
    {
     "data": {
      "image/png": "[encoded data removed]",
      "text/plain": [
       "<Figure size 432x288 with 1 Axes>"
      ]
     },
     "metadata": {
      "needs_background": "light"
     },
     "output_type": "display_data"
    }
   ],
   "source": [
    "tuner =MyTuner(\n",
    "    LSTM_model1,\n",
    "    objective='val_accuracy',\n",
    "    max_trials=5,\n",
    "    executions_per_trial=1,\n",
    "    seed=123,\n",
    "    directory=\"C:/Hyperparameter/40e\"\n",
    ")\n",
    "\n",
    "tuner.search(X_train_aug1,y_train_aug1,validation_data=(X_test_aug1,y_test_aug1))\n",
    "print(tuner.results_summary(5))\n",
    "best_model_LSTM = tuner.get_best_models()[0]\n",
    "print(\"Hyperparameters for LSTM are\",best_model_LSTM)\n",
    "\n",
    "\n",
    "modelname=\"LSTMModel_aug1\"\n",
    "vals=tuner.oracle.get_best_trials(num_trials=1)[0].hyperparameters.values\n",
    "print(vals)\n",
    "batch_size_hyp=list(vals.values())[1]\n",
    "#epochs_hyp=list(vals.values())[2]\n",
    "history=best_model_LSTM.fit(X_train_aug1,y_train_aug1,batch_size=batch_size_hyp,epochs=epochs,validation_data=(X_test_aug1,y_test_aug1),callbacks=[early_stopping])\n",
    "plot(best_model_LSTM,history)"
   ]
  },
  {
   "cell_type": "code",
   "execution_count": 26,
   "metadata": {
    "colab": {
     "base_uri": "https://localhost:8080/",
     "height": 1000
    },
    "id": "d47XGO6FuUMU",
    "outputId": "db0930bb-d520-4a1e-bb6c-e92a058d8b1b"
   },
   "outputs": [
    {
     "name": "stdout",
     "output_type": "stream",
     "text": [
      "Accuracy of LSTM for level1 augmented data is : 78.26562386292679\n",
      "Training Accuracy of LSTM for level1 augmented data is: 85.28848909414731\n",
      "Mean loss of  Validation data of LSTM for level1 augmented data is : 0.7900317311286926\n",
      "Mean loss of  training data of LSTM for level1 augmented data is : 0.49615159172278184\n"
     ]
    }
   ],
   "source": [
    "print(\"Accuracy of LSTM for level1 augmented data is :\", np.array(history.history['val_accuracy']).mean()*100)\n",
    "print(\"Training Accuracy of LSTM for level1 augmented data is:\" ,np.array(history.history['accuracy']).mean()*100)\n",
    "print( \"Mean loss of  Validation data of LSTM for level1 augmented data is :\",np.array(history.history['val_loss']).mean())\n",
    "print( \"Mean loss of  training data of LSTM for level1 augmented data is :\",np.array(history.history['loss']).mean())"
   ]
  },
  {
   "cell_type": "code",
   "execution_count": 72,
   "metadata": {
    "colab": {
     "base_uri": "https://localhost:8080/",
     "height": 1000
    },
    "id": "d47XGO6FuUMU",
    "outputId": "db0930bb-d520-4a1e-bb6c-e92a058d8b1b"
   },
   "outputs": [],
   "source": [
    "                                                                                                   \n",
    "#x"
   ]
  },
  {
   "cell_type": "code",
   "execution_count": 73,
   "metadata": {
    "colab": {
     "base_uri": "https://localhost:8080/",
     "height": 1000
    },
    "id": "tSq6DbzHuZTd",
    "outputId": "e5507bb8-0944-4ee5-b492-0af913e3f1ef"
   },
   "outputs": [
    {
     "name": "stdout",
     "output_type": "stream",
     "text": [
      "Trial 5 Complete [00h 04m 41s]\n",
      "val_accuracy: 0.36043205857276917\n",
      "\n",
      "Best val_accuracy So Far: 0.36043205857276917\n",
      "Total elapsed time: 00h 23m 50s\n",
      "INFO:tensorflow:Oracle triggered exit\n",
      "Results summary\n",
      "Results in C:/Hyperparameter/40Z\\untitled_project\n",
      "Showing 5 best trials\n",
      "Objective(name='val_accuracy', direction='max')\n",
      "Trial summary\n",
      "Hyperparameters:\n",
      "learning_rate: 0.001\n",
      "batch_size: 256\n",
      "Score: 0.36043205857276917\n",
      "Trial summary\n",
      "Hyperparameters:\n",
      "learning_rate: 0.001\n",
      "batch_size: 512\n",
      "Score: 0.24616259336471558\n",
      "Trial summary\n",
      "Hyperparameters:\n",
      "learning_rate: 0.0001\n",
      "batch_size: 256\n",
      "Score: 0.2038089781999588\n",
      "Trial summary\n",
      "Hyperparameters:\n",
      "learning_rate: 0.0001\n",
      "batch_size: 256\n",
      "Score: 0.20181921124458313\n",
      "Trial summary\n",
      "Hyperparameters:\n",
      "learning_rate: 0.01\n",
      "batch_size: 256\n",
      "Score: 0.08840250223875046\n",
      "None\n",
      "Model: \"sequential\"\n",
      "_________________________________________________________________\n",
      "Layer (type)                 Output Shape              Param #   \n",
      "=================================================================\n",
      "embedding (Embedding)        (None, 191, 300)          3000000   \n",
      "_________________________________________________________________\n",
      "gru (GRU)                    (None, 191, 512)          1250304   \n",
      "_________________________________________________________________\n",
      "dropout (Dropout)            (None, 191, 512)          0         \n",
      "_________________________________________________________________\n",
      "time_distributed (TimeDistri (None, 191, 512)          262656    \n",
      "_________________________________________________________________\n",
      "flatten (Flatten)            (None, 97792)             0         \n",
      "_________________________________________________________________\n",
      "dense_1 (Dense)              (None, 74)                7236682   \n",
      "=================================================================\n",
      "Total params: 11,749,642\n",
      "Trainable params: 11,749,642\n",
      "Non-trainable params: 0\n",
      "_________________________________________________________________\n",
      "None\n",
      "Hyperparameters for GRU are <tensorflow.python.keras.engine.sequential.Sequential object at 0x000002E218177C70>\n"
     ]
    }
   ],
   "source": [
    "tuner =MyTuner(\n",
    "    GRU_model1,\n",
    "    objective='val_accuracy',\n",
    "    max_trials=5,\n",
    "    executions_per_trial=1,\n",
    "    seed=123,\n",
    "    directory=\"C:/Hyperparameter/40Z\"\n",
    ")\n",
    "\n",
    "tuner.search(X_train_aug1,y_train_aug1,validation_data=(X_test_aug1,y_test_aug1))\n",
    "print(tuner.results_summary(5))\n",
    "best_model_GRU = tuner.get_best_models()[0]\n",
    "print(\"Hyperparameters for GRU are\",best_model_GRU)"
   ]
  },
  {
   "cell_type": "code",
   "execution_count": 74,
   "metadata": {
    "colab": {
     "base_uri": "https://localhost:8080/",
     "height": 1000
    },
    "id": "tSq6DbzHuZTd",
    "outputId": "e5507bb8-0944-4ee5-b492-0af913e3f1ef"
   },
   "outputs": [
    {
     "name": "stdout",
     "output_type": "stream",
     "text": [
      "{'learning_rate': 0.001, 'batch_size': 256}\n",
      "Epoch 1/25\n",
      "55/55 [==============================] - 279s 5s/step - loss: 1.8264 - accuracy: 0.5026 - val_loss: 1.4363 - val_accuracy: 0.6040\n",
      "Epoch 2/25\n",
      "55/55 [==============================] - 275s 5s/step - loss: 0.9177 - accuracy: 0.7346 - val_loss: 0.8936 - val_accuracy: 0.7413\n",
      "Epoch 3/25\n",
      "55/55 [==============================] - 278s 5s/step - loss: 0.5350 - accuracy: 0.8409 - val_loss: 0.7149 - val_accuracy: 0.7879\n",
      "Epoch 4/25\n",
      "55/55 [==============================] - 239s 4s/step - loss: 0.3563 - accuracy: 0.8896 - val_loss: 0.5628 - val_accuracy: 0.8323\n",
      "Epoch 5/25\n",
      "55/55 [==============================] - 238s 4s/step - loss: 0.2679 - accuracy: 0.9193 - val_loss: 0.5564 - val_accuracy: 0.8394\n",
      "Epoch 6/25\n",
      "55/55 [==============================] - 238s 4s/step - loss: 0.2181 - accuracy: 0.9328 - val_loss: 0.5273 - val_accuracy: 0.8488\n",
      "Epoch 7/25\n",
      "55/55 [==============================] - 238s 4s/step - loss: 0.1803 - accuracy: 0.9418 - val_loss: 0.5610 - val_accuracy: 0.8567\n",
      "Epoch 8/25\n",
      "55/55 [==============================] - 240s 4s/step - loss: 0.1660 - accuracy: 0.9462 - val_loss: 0.5851 - val_accuracy: 0.8519\n",
      "Epoch 9/25\n",
      "55/55 [==============================] - 238s 4s/step - loss: 0.1464 - accuracy: 0.9533 - val_loss: 0.5944 - val_accuracy: 0.8530\n",
      "Epoch 10/25\n",
      "55/55 [==============================] - 239s 4s/step - loss: 0.1320 - accuracy: 0.9566 - val_loss: 0.5605 - val_accuracy: 0.8593\n",
      "Epoch 11/25\n",
      "55/55 [==============================] - 237s 4s/step - loss: 0.1272 - accuracy: 0.9576 - val_loss: 0.5737 - val_accuracy: 0.8533\n",
      "Epoch 12/25\n",
      "55/55 [==============================] - 238s 4s/step - loss: 0.1261 - accuracy: 0.9581 - val_loss: 0.5801 - val_accuracy: 0.8607\n",
      "Epoch 13/25\n",
      "55/55 [==============================] - 237s 4s/step - loss: 0.1158 - accuracy: 0.9599 - val_loss: 0.5849 - val_accuracy: 0.8638\n",
      "Epoch 14/25\n",
      "55/55 [==============================] - 237s 4s/step - loss: 0.1127 - accuracy: 0.9610 - val_loss: 0.6433 - val_accuracy: 0.8599\n",
      "Epoch 15/25\n",
      "55/55 [==============================] - 238s 4s/step - loss: 0.1172 - accuracy: 0.9598 - val_loss: 0.6535 - val_accuracy: 0.8567\n",
      "Epoch 16/25\n",
      "55/55 [==============================] - 238s 4s/step - loss: 0.1103 - accuracy: 0.9619 - val_loss: 0.5924 - val_accuracy: 0.8587\n"
     ]
    },
    {
     "data": {
      "image/png": "[encoded data removed]",
      "text/plain": [
       "<Figure size 432x288 with 1 Axes>"
      ]
     },
     "metadata": {
      "needs_background": "light"
     },
     "output_type": "display_data"
    },
    {
     "data": {
      "image/png": "[encoded data removed]",
      "text/plain": [
       "<Figure size 432x288 with 1 Axes>"
      ]
     },
     "metadata": {
      "needs_background": "light"
     },
     "output_type": "display_data"
    }
   ],
   "source": [
    "modelname=\"GRUModel_aug1\"\n",
    "vals=tuner.oracle.get_best_trials(num_trials=1)[0].hyperparameters.values\n",
    "print(vals)\n",
    "batch_size_hyp=list(vals.values())[1]\n",
    "#epochs_hyp=list(vals.values())[2]\n",
    "history=best_model_GRU.fit(X_train_aug1,y_train_aug1,batch_size=batch_size_hyp,epochs=epochs,validation_data=(X_test_aug1,y_test_aug1),callbacks=[early_stopping])\n",
    "plot(best_model_GRU,history)"
   ]
  },
  {
   "cell_type": "code",
   "execution_count": 75,
   "metadata": {
    "colab": {
     "base_uri": "https://localhost:8080/",
     "height": 1000
    },
    "id": "tSq6DbzHuZTd",
    "outputId": "e5507bb8-0944-4ee5-b492-0af913e3f1ef"
   },
   "outputs": [
    {
     "name": "stdout",
     "output_type": "stream",
     "text": [
      "Accuracy of GRU for level1 augmented data is : 82.67481587827206\n",
      "Training Accuracy of GRU for level1 augmented data is: 89.84930403530598\n",
      "Mean loss of  Validation data of GRU for level1 augmented data is : 0.6637609228491783\n",
      "Mean loss of  training data of GRU for level1 augmented data is : 0.3409577514976263\n"
     ]
    }
   ],
   "source": [
    "print(\"Accuracy of GRU for level1 augmented data is :\", np.array(history.history['val_accuracy']).mean()*100)\n",
    "print(\"Training Accuracy of GRU for level1 augmented data is:\" ,np.array(history.history['accuracy']).mean()*100)\n",
    "print( \"Mean loss of  Validation data of GRU for level1 augmented data is :\",np.array(history.history['val_loss']).mean())\n",
    "print( \"Mean loss of  training data of GRU for level1 augmented data is :\",np.array(history.history['loss']).mean())"
   ]
  },
  {
   "cell_type": "code",
   "execution_count": 76,
   "metadata": {
    "colab": {
     "base_uri": "https://localhost:8080/",
     "height": 1250
    },
    "id": "47BBsqxwufxo",
    "outputId": "0a5fbe19-65a5-473a-e220-71a365bf4bb4"
   },
   "outputs": [
    {
     "name": "stdout",
     "output_type": "stream",
     "text": [
      "Trial 5 Complete [00h 12m 31s]\n",
      "val_accuracy: 0.3320068120956421\n",
      "\n",
      "Best val_accuracy So Far: 0.3320068120956421\n",
      "Total elapsed time: 00h 56m 53s\n",
      "INFO:tensorflow:Oracle triggered exit\n",
      "Results summary\n",
      "Results in C:/Hyperparameter/40F\\untitled_project\n",
      "Showing 5 best trials\n",
      "Objective(name='val_accuracy', direction='max')\n",
      "Trial summary\n",
      "Hyperparameters:\n",
      "learning_rate: 0.001\n",
      "batch_size: 256\n",
      "Score: 0.3320068120956421\n",
      "Trial summary\n",
      "Hyperparameters:\n",
      "learning_rate: 0.001\n",
      "batch_size: 512\n",
      "Score: 0.24673110246658325\n",
      "Trial summary\n",
      "Hyperparameters:\n",
      "learning_rate: 0.0001\n",
      "batch_size: 256\n",
      "Score: 0.19926095008850098\n",
      "Trial summary\n",
      "Hyperparameters:\n",
      "learning_rate: 0.01\n",
      "batch_size: 256\n",
      "Score: 0.17026719450950623\n",
      "Trial summary\n",
      "Hyperparameters:\n",
      "learning_rate: 0.0001\n",
      "batch_size: 512\n",
      "Score: 0.17026719450950623\n",
      "None\n",
      "Model: \"sequential\"\n",
      "_________________________________________________________________\n",
      "Layer (type)                 Output Shape              Param #   \n",
      "=================================================================\n",
      "embedding (Embedding)        (None, 191, 300)          3000000   \n",
      "_________________________________________________________________\n",
      "bidirectional (Bidirectional (None, 191, 1024)         3330048   \n",
      "_________________________________________________________________\n",
      "dropout (Dropout)            (None, 191, 1024)         0         \n",
      "_________________________________________________________________\n",
      "time_distributed (TimeDistri (None, 191, 512)          524800    \n",
      "_________________________________________________________________\n",
      "flatten (Flatten)            (None, 97792)             0         \n",
      "_________________________________________________________________\n",
      "dense_1 (Dense)              (None, 74)                7236682   \n",
      "=================================================================\n",
      "Total params: 14,091,530\n",
      "Trainable params: 14,091,530\n",
      "Non-trainable params: 0\n",
      "_________________________________________________________________\n",
      "None\n",
      "Hyperparameters for BILSTM are <tensorflow.python.keras.engine.sequential.Sequential object at 0x000002E210CAAF40>\n",
      "{'learning_rate': 0.001, 'batch_size': 256}\n",
      "Epoch 1/25\n",
      "55/55 [==============================] - 774s 14s/step - loss: 2.0221 - accuracy: 0.4629 - val_loss: 1.6060 - val_accuracy: 0.5452\n",
      "Epoch 2/25\n",
      "55/55 [==============================] - 778s 14s/step - loss: 1.1496 - accuracy: 0.6724 - val_loss: 1.0983 - val_accuracy: 0.6828\n",
      "Epoch 3/25\n",
      "55/55 [==============================] - 817s 15s/step - loss: 0.6942 - accuracy: 0.7957 - val_loss: 0.8079 - val_accuracy: 0.7663\n",
      "Epoch 4/25\n",
      "55/55 [==============================] - 825s 15s/step - loss: 0.4764 - accuracy: 0.8578 - val_loss: 0.6720 - val_accuracy: 0.8030\n",
      "Epoch 5/25\n",
      "55/55 [==============================] - 899s 16s/step - loss: 0.3512 - accuracy: 0.8887 - val_loss: 0.6276 - val_accuracy: 0.8121\n",
      "Epoch 6/25\n",
      "55/55 [==============================] - 946s 17s/step - loss: 0.2822 - accuracy: 0.9108 - val_loss: 0.5935 - val_accuracy: 0.8289\n",
      "Epoch 7/25\n",
      "55/55 [==============================] - 963s 18s/step - loss: 0.2434 - accuracy: 0.9247 - val_loss: 0.5917 - val_accuracy: 0.8337\n",
      "Epoch 8/25\n",
      "55/55 [==============================] - 962s 17s/step - loss: 0.2070 - accuracy: 0.9341 - val_loss: 0.5992 - val_accuracy: 0.8385\n",
      "Epoch 9/25\n",
      "55/55 [==============================] - 973s 18s/step - loss: 0.1849 - accuracy: 0.9389 - val_loss: 0.5746 - val_accuracy: 0.8474\n",
      "Epoch 10/25\n",
      "55/55 [==============================] - 1056s 19s/step - loss: 0.1616 - accuracy: 0.9446 - val_loss: 0.5782 - val_accuracy: 0.8459\n",
      "Epoch 11/25\n",
      "55/55 [==============================] - 1050s 19s/step - loss: 0.1510 - accuracy: 0.9490 - val_loss: 0.5855 - val_accuracy: 0.8448\n",
      "Epoch 12/25\n",
      "55/55 [==============================] - 1004s 18s/step - loss: 0.1368 - accuracy: 0.9530 - val_loss: 0.5822 - val_accuracy: 0.8525\n",
      "Epoch 13/25\n",
      "55/55 [==============================] - 1008s 18s/step - loss: 0.1324 - accuracy: 0.9543 - val_loss: 0.5903 - val_accuracy: 0.8550\n",
      "Epoch 14/25\n",
      "55/55 [==============================] - 1018s 19s/step - loss: 0.1180 - accuracy: 0.9584 - val_loss: 0.6329 - val_accuracy: 0.8550\n",
      "Epoch 15/25\n",
      "55/55 [==============================] - 1021s 19s/step - loss: 0.1132 - accuracy: 0.9608 - val_loss: 0.6117 - val_accuracy: 0.8493\n",
      "Epoch 16/25\n",
      "55/55 [==============================] - 1022s 19s/step - loss: 0.1194 - accuracy: 0.9583 - val_loss: 0.8097 - val_accuracy: 0.8150\n"
     ]
    },
    {
     "data": {
      "image/png": "[encoded data removed]",
      "text/plain": [
       "<Figure size 432x288 with 1 Axes>"
      ]
     },
     "metadata": {
      "needs_background": "light"
     },
     "output_type": "display_data"
    },
    {
     "data": {
      "image/png": "[encoded data removed]",
      "text/plain": [
       "<Figure size 432x288 with 1 Axes>"
      ]
     },
     "metadata": {
      "needs_background": "light"
     },
     "output_type": "display_data"
    }
   ],
   "source": [
    "tuner =MyTuner(\n",
    "    BILSTM_model1,\n",
    "    objective='val_accuracy',\n",
    "    max_trials=5,\n",
    "    executions_per_trial=1,\n",
    "    seed=123,\n",
    "    directory=\"C:/Hyperparameter/40F\"\n",
    ")\n",
    "\n",
    "tuner.search(X_train_aug1,y_train_aug1,validation_data=(X_test_aug1,y_test_aug1))\n",
    "print(tuner.results_summary(5))\n",
    "best_model_BILSTM = tuner.get_best_models()[0]\n",
    "print(\"Hyperparameters for BILSTM are\",best_model_BILSTM)\n",
    "\n",
    "\n",
    "modelname=\"BILSTMModel_aug1\"\n",
    "vals=tuner.oracle.get_best_trials(num_trials=1)[0].hyperparameters.values\n",
    "print(vals)\n",
    "batch_size_hyp=list(vals.values())[1]\n",
    "#epochs_hyp=list(vals.values())[2]\n",
    "history=best_model_BILSTM.fit(X_train_aug1,y_train_aug1,batch_size=batch_size_hyp,epochs=epochs,validation_data=(X_test_aug1,y_test_aug1),callbacks=[early_stopping])\n",
    "plot(best_model_BILSTM,history)"
   ]
  },
  {
   "cell_type": "code",
   "execution_count": 77,
   "metadata": {
    "colab": {
     "base_uri": "https://localhost:8080/",
     "height": 1250
    },
    "id": "47BBsqxwufxo",
    "outputId": "0a5fbe19-65a5-473a-e220-71a365bf4bb4"
   },
   "outputs": [
    {
     "name": "stdout",
     "output_type": "stream",
     "text": [
      "Accuracy of BILSTM for level1 augmented data is : 80.47185875475407\n",
      "Training Accuracy of BILSTM for level1 augmented data is: 87.90251016616821\n",
      "Mean loss of  Validation data of BILSTM for level1 augmented data is : 0.7225862517952919\n",
      "Mean loss of  training data of BILSTM for level1 augmented data is : 0.40896331472322345\n"
     ]
    }
   ],
   "source": [
    "print(\"Accuracy of BILSTM for level1 augmented data is :\", np.array(history.history['val_accuracy']).mean()*100)\n",
    "print(\"Training Accuracy of BILSTM for level1 augmented data is:\" ,np.array(history.history['accuracy']).mean()*100)\n",
    "print( \"Mean loss of  Validation data of BILSTM for level1 augmented data is :\",np.array(history.history['val_loss']).mean())\n",
    "print( \"Mean loss of  training data of BILSTM for level1 augmented data is :\",np.array(history.history['loss']).mean())"
   ]
  },
  {
   "cell_type": "code",
   "execution_count": 78,
   "metadata": {
    "colab": {
     "base_uri": "https://localhost:8080/",
     "height": 1250
    },
    "id": "EbZurK_LuhSw",
    "outputId": "47543f6f-b9b4-44f4-e299-97ee9ffac7a1"
   },
   "outputs": [
    {
     "name": "stdout",
     "output_type": "stream",
     "text": [
      "Trial 5 Complete [00h 12m 44s]\n",
      "val_accuracy: 0.35218873620033264\n",
      "\n",
      "Best val_accuracy So Far: 0.35218873620033264\n",
      "Total elapsed time: 00h 57m 30s\n",
      "INFO:tensorflow:Oracle triggered exit\n",
      "Results summary\n",
      "Results in C:/Hyperparameter/40G\\untitled_project\n",
      "Showing 5 best trials\n",
      "Objective(name='val_accuracy', direction='max')\n",
      "Trial summary\n",
      "Hyperparameters:\n",
      "learning_rate: 0.001\n",
      "batch_size: 256\n",
      "Score: 0.35218873620033264\n",
      "Trial summary\n",
      "Hyperparameters:\n",
      "learning_rate: 0.001\n",
      "batch_size: 512\n",
      "Score: 0.2441728264093399\n",
      "Trial summary\n",
      "Hyperparameters:\n",
      "learning_rate: 0.0001\n",
      "batch_size: 256\n",
      "Score: 0.1986924409866333\n",
      "Trial summary\n",
      "Hyperparameters:\n",
      "learning_rate: 0.01\n",
      "batch_size: 256\n",
      "Score: 0.19755542278289795\n",
      "Trial summary\n",
      "Hyperparameters:\n",
      "learning_rate: 0.0001\n",
      "batch_size: 512\n",
      "Score: 0.17026719450950623\n",
      "None\n",
      "Model: \"sequential\"\n",
      "_________________________________________________________________\n",
      "Layer (type)                 Output Shape              Param #   \n",
      "=================================================================\n",
      "embedding (Embedding)        (None, 191, 300)          3000000   \n",
      "_________________________________________________________________\n",
      "bidirectional (Bidirectional (None, 191, 1024)         2500608   \n",
      "_________________________________________________________________\n",
      "dropout (Dropout)            (None, 191, 1024)         0         \n",
      "_________________________________________________________________\n",
      "time_distributed (TimeDistri (None, 191, 512)          524800    \n",
      "_________________________________________________________________\n",
      "flatten (Flatten)            (None, 97792)             0         \n",
      "_________________________________________________________________\n",
      "dense_1 (Dense)              (None, 74)                7236682   \n",
      "=================================================================\n",
      "Total params: 13,262,090\n",
      "Trainable params: 13,262,090\n",
      "Non-trainable params: 0\n",
      "_________________________________________________________________\n",
      "None\n",
      "Hyperparameters for BIGRU are <tensorflow.python.keras.engine.sequential.Sequential object at 0x000002E22B0AD700>\n",
      "{'learning_rate': 0.001, 'batch_size': 256}\n",
      "Epoch 1/25\n",
      "55/55 [==============================] - 742s 13s/step - loss: 1.7083 - accuracy: 0.5299 - val_loss: 1.3412 - val_accuracy: 0.6120\n",
      "Epoch 2/25\n",
      "55/55 [==============================] - 740s 13s/step - loss: 0.8368 - accuracy: 0.7590 - val_loss: 0.7979 - val_accuracy: 0.7555\n",
      "Epoch 3/25\n",
      "55/55 [==============================] - 740s 13s/step - loss: 0.4727 - accuracy: 0.8583 - val_loss: 0.6220 - val_accuracy: 0.8167\n",
      "Epoch 4/25\n",
      "55/55 [==============================] - 739s 13s/step - loss: 0.3028 - accuracy: 0.9045 - val_loss: 0.5835 - val_accuracy: 0.8374\n",
      "Epoch 5/25\n",
      "55/55 [==============================] - 738s 13s/step - loss: 0.2270 - accuracy: 0.9289 - val_loss: 0.5465 - val_accuracy: 0.8482\n",
      "Epoch 6/25\n",
      "55/55 [==============================] - 739s 13s/step - loss: 0.1775 - accuracy: 0.9426 - val_loss: 0.5648 - val_accuracy: 0.8559\n",
      "Epoch 7/25\n",
      "55/55 [==============================] - 739s 13s/step - loss: 0.1530 - accuracy: 0.9495 - val_loss: 0.5572 - val_accuracy: 0.8553\n",
      "Epoch 8/25\n",
      "55/55 [==============================] - 740s 13s/step - loss: 0.1604 - accuracy: 0.9502 - val_loss: 0.5588 - val_accuracy: 0.8539\n",
      "Epoch 9/25\n",
      "55/55 [==============================] - 740s 13s/step - loss: 0.1415 - accuracy: 0.9539 - val_loss: 0.5889 - val_accuracy: 0.8627\n",
      "Epoch 10/25\n",
      "55/55 [==============================] - 741s 13s/step - loss: 0.1346 - accuracy: 0.9568 - val_loss: 0.5271 - val_accuracy: 0.8644\n",
      "Epoch 11/25\n",
      "55/55 [==============================] - 742s 13s/step - loss: 0.1092 - accuracy: 0.9620 - val_loss: 0.5330 - val_accuracy: 0.8675\n",
      "Epoch 12/25\n",
      "55/55 [==============================] - 740s 13s/step - loss: 0.1060 - accuracy: 0.9623 - val_loss: 0.6007 - val_accuracy: 0.8613\n",
      "Epoch 13/25\n",
      "55/55 [==============================] - 738s 13s/step - loss: 0.1078 - accuracy: 0.9624 - val_loss: 0.5877 - val_accuracy: 0.8636\n",
      "Epoch 14/25\n",
      "55/55 [==============================] - 740s 13s/step - loss: 0.0972 - accuracy: 0.9637 - val_loss: 0.6028 - val_accuracy: 0.8636\n"
     ]
    },
    {
     "data": {
      "image/png": "[encoded data removed]",
      "text/plain": [
       "<Figure size 432x288 with 1 Axes>"
      ]
     },
     "metadata": {
      "needs_background": "light"
     },
     "output_type": "display_data"
    },
    {
     "data": {
      "image/png": "[encoded data removed]",
      "text/plain": [
       "<Figure size 432x288 with 1 Axes>"
      ]
     },
     "metadata": {
      "needs_background": "light"
     },
     "output_type": "display_data"
    }
   ],
   "source": [
    "tuner =MyTuner(\n",
    "    BIGRU_model1,\n",
    "    objective='val_accuracy',\n",
    "    max_trials=5,\n",
    "    executions_per_trial=1,\n",
    "    seed=123,\n",
    "    directory=\"C:/Hyperparameter/40G\"\n",
    ")\n",
    "\n",
    "tuner.search(X_train_aug1,y_train_aug1,validation_data=(X_test_aug1,y_test_aug1))\n",
    "print(tuner.results_summary(5))\n",
    "best_model_BIGRU = tuner.get_best_models()[0]\n",
    "print(\"Hyperparameters for BIGRU are\",best_model_BIGRU)\n",
    "\n",
    "\n",
    "modelname=\"BIGRUModel_aug1\"\n",
    "vals=tuner.oracle.get_best_trials(num_trials=1)[0].hyperparameters.values\n",
    "print(vals)\n",
    "batch_size_hyp=list(vals.values())[1]\n",
    "#epochs_hyp=list(vals.values())[2]\n",
    "history=best_model_BIGRU.fit(X_train_aug1,y_train_aug1,batch_size=batch_size_hyp,epochs=epochs,validation_data=(X_test_aug1,y_test_aug1),callbacks=[early_stopping])\n",
    "plot(best_model_BIGRU,history)"
   ]
  },
  {
   "cell_type": "code",
   "execution_count": 79,
   "metadata": {
    "colab": {
     "base_uri": "https://localhost:8080/",
     "height": 1250
    },
    "id": "EbZurK_LuhSw",
    "outputId": "47543f6f-b9b4-44f4-e299-97ee9ffac7a1"
   },
   "outputs": [
    {
     "name": "stdout",
     "output_type": "stream",
     "text": [
      "Accuracy of BIGRU for level1 augmented data is : 82.98546160970416\n",
      "Training Accuracy of BIGRU for level1 augmented data is: 89.88738400595528\n",
      "Mean loss of  Validation data of BIGRU for level1 augmented data is : 0.6437162458896637\n",
      "Mean loss of  training data of BIGRU for level1 augmented data is : 0.3382162499640669\n"
     ]
    }
   ],
   "source": [
    "print(\"Accuracy of BIGRU for level1 augmented data is :\", np.array(history.history['val_accuracy']).mean()*100)\n",
    "print(\"Training Accuracy of BIGRU for level1 augmented data is:\" ,np.array(history.history['accuracy']).mean()*100)\n",
    "print( \"Mean loss of  Validation data of BIGRU for level1 augmented data is :\",np.array(history.history['val_loss']).mean())\n",
    "print( \"Mean loss of  training data of BIGRU for level1 augmented data is :\",np.array(history.history['loss']).mean())"
   ]
  },
  {
   "cell_type": "code",
   "execution_count": 80,
   "metadata": {
    "colab": {
     "base_uri": "https://localhost:8080/",
     "height": 1000
    },
    "id": "YXzWNefFuo9c",
    "outputId": "2b120a00-4205-47b6-a37a-ec88d87a70e9"
   },
   "outputs": [
    {
     "name": "stdout",
     "output_type": "stream",
     "text": [
      "Trial 10 Complete [00h 13m 14s]\n",
      "val_accuracy: 0.15004003047943115\n",
      "\n",
      "Best val_accuracy So Far: 0.5482786297798157\n",
      "Total elapsed time: 01h 45m 02s\n",
      "INFO:tensorflow:Oracle triggered exit\n",
      "Results summary\n",
      "Results in C:/Hyperparameter/40I\\untitled_project\n",
      "Showing 5 best trials\n",
      "Objective(name='val_accuracy', direction='max')\n",
      "Trial summary\n",
      "Hyperparameters:\n",
      "learning_rate: 0.001\n",
      "batch_size: 256\n",
      "Score: 0.5482786297798157\n",
      "Trial summary\n",
      "Hyperparameters:\n",
      "learning_rate: 0.001\n",
      "batch_size: 512\n",
      "Score: 0.3556445240974426\n",
      "Trial summary\n",
      "Hyperparameters:\n",
      "learning_rate: 0.001\n",
      "batch_size: 512\n",
      "Score: 0.3391513228416443\n",
      "Trial summary\n",
      "Hyperparameters:\n",
      "learning_rate: 0.001\n",
      "batch_size: 512\n",
      "Score: 0.3159327507019043\n",
      "Trial summary\n",
      "Hyperparameters:\n",
      "learning_rate: 0.01\n",
      "batch_size: 256\n",
      "Score: 0.24355484545230865\n",
      "None\n",
      "Model: \"sequential\"\n",
      "_________________________________________________________________\n",
      "Layer (type)                 Output Shape              Param #   \n",
      "=================================================================\n",
      "embedding (Embedding)        (None, 191, 300)          3000000   \n",
      "_________________________________________________________________\n",
      "lstm (LSTM)                  (None, 191, 512)          1665024   \n",
      "_________________________________________________________________\n",
      "dropout (Dropout)            (None, 191, 512)          0         \n",
      "_________________________________________________________________\n",
      "time_distributed (TimeDistri (None, 191, 512)          262656    \n",
      "_________________________________________________________________\n",
      "flatten (Flatten)            (None, 97792)             0         \n",
      "_________________________________________________________________\n",
      "dense_1 (Dense)              (None, 74)                7236682   \n",
      "=================================================================\n",
      "Total params: 12,164,362\n",
      "Trainable params: 12,164,362\n",
      "Non-trainable params: 0\n",
      "_________________________________________________________________\n",
      "None\n",
      "Hyperparameters for LSTM are <tensorflow.python.keras.engine.sequential.Sequential object at 0x000002E22CE7FA60>\n",
      "{'learning_rate': 0.001, 'batch_size': 256}\n",
      "Epoch 1/25\n",
      "98/98 [==============================] - 784s 8s/step - loss: 1.0481 - accuracy: 0.6971 - val_loss: 0.7345 - val_accuracy: 0.7859\n",
      "Epoch 2/25\n",
      "98/98 [==============================] - 783s 8s/step - loss: 0.5331 - accuracy: 0.8381 - val_loss: 0.5222 - val_accuracy: 0.8439\n",
      "Epoch 3/25\n",
      "98/98 [==============================] - 782s 8s/step - loss: 0.3586 - accuracy: 0.8883 - val_loss: 0.4659 - val_accuracy: 0.8647\n",
      "Epoch 4/25\n",
      "98/98 [==============================] - 782s 8s/step - loss: 0.2738 - accuracy: 0.9111 - val_loss: 0.3994 - val_accuracy: 0.8812\n",
      "Epoch 5/25\n",
      "98/98 [==============================] - 781s 8s/step - loss: 0.2289 - accuracy: 0.9260 - val_loss: 0.3692 - val_accuracy: 0.8922\n",
      "Epoch 6/25\n",
      "98/98 [==============================] - 782s 8s/step - loss: 0.1884 - accuracy: 0.9363 - val_loss: 0.3588 - val_accuracy: 0.8962\n",
      "Epoch 7/25\n",
      "98/98 [==============================] - 781s 8s/step - loss: 0.1611 - accuracy: 0.9451 - val_loss: 0.3980 - val_accuracy: 0.8882\n",
      "Epoch 8/25\n",
      "98/98 [==============================] - 783s 8s/step - loss: 0.1606 - accuracy: 0.9439 - val_loss: 0.3919 - val_accuracy: 0.8929\n",
      "Epoch 9/25\n",
      "98/98 [==============================] - 779s 8s/step - loss: 0.1353 - accuracy: 0.9524 - val_loss: 0.3387 - val_accuracy: 0.9041\n",
      "Epoch 10/25\n",
      "98/98 [==============================] - 782s 8s/step - loss: 0.1237 - accuracy: 0.9552 - val_loss: 0.3573 - val_accuracy: 0.9030\n",
      "Epoch 11/25\n",
      "98/98 [==============================] - 781s 8s/step - loss: 0.1212 - accuracy: 0.9578 - val_loss: 0.3741 - val_accuracy: 0.9022\n",
      "Epoch 12/25\n",
      "98/98 [==============================] - 785s 8s/step - loss: 0.1179 - accuracy: 0.9575 - val_loss: 0.3933 - val_accuracy: 0.9026\n"
     ]
    },
    {
     "data": {
      "image/png": "[encoded data removed]",
      "text/plain": [
       "<Figure size 432x288 with 1 Axes>"
      ]
     },
     "metadata": {
      "needs_background": "light"
     },
     "output_type": "display_data"
    },
    {
     "data": {
      "image/png": "[encoded data removed]",
      "text/plain": [
       "<Figure size 432x288 with 1 Axes>"
      ]
     },
     "metadata": {
      "needs_background": "light"
     },
     "output_type": "display_data"
    }
   ],
   "source": []
  },
  {
   "cell_type": "code",
   "execution_count": 85,
   "metadata": {
    "colab": {
     "base_uri": "https://localhost:8080/",
     "height": 1000
    },
    "id": "YXzWNefFuo9c",
    "outputId": "2b120a00-4205-47b6-a37a-ec88d87a70e9"
   },
   "outputs": [],
   "source": [
    "#x"
   ]
  },
  {
   "cell_type": "code",
   "execution_count": 86,
   "metadata": {
    "colab": {
     "base_uri": "https://localhost:8080/",
     "height": 1000
    },
    "id": "S0mvWiW9uuHB",
    "outputId": "2df76808-fce2-4780-f947-649b87508f46"
   },
   "outputs": [
    {
     "name": "stdout",
     "output_type": "stream",
     "text": [
      "INFO:tensorflow:Reloading Oracle from existing project C:/Hyperparameter/4OJ\\untitled_project\\oracle.json\n",
      "WARNING:tensorflow:Unresolved object in checkpoint: (root).optimizer.iter\n",
      "WARNING:tensorflow:Unresolved object in checkpoint: (root).optimizer.beta_1\n",
      "WARNING:tensorflow:Unresolved object in checkpoint: (root).optimizer.beta_2\n",
      "WARNING:tensorflow:Unresolved object in checkpoint: (root).optimizer.decay\n",
      "WARNING:tensorflow:Unresolved object in checkpoint: (root).optimizer.learning_rate\n",
      "WARNING:tensorflow:A checkpoint was restored (e.g. tf.train.Checkpoint.restore or tf.keras.Model.load_weights) but not all checkpointed values were used. See above for specific issues. Use expect_partial() on the load status object, e.g. tf.train.Checkpoint.restore(...).expect_partial(), to silence these warnings, or use assert_consumed() to make the check explicit. See https://www.tensorflow.org/guide/checkpoint#loading_mechanics for details.\n",
      "Model: \"sequential\"\n",
      "_________________________________________________________________\n",
      "Layer (type)                 Output Shape              Param #   \n",
      "=================================================================\n",
      "embedding (Embedding)        (None, 191, 300)          3000000   \n",
      "_________________________________________________________________\n",
      "gru (GRU)                    (None, 191, 512)          1250304   \n",
      "_________________________________________________________________\n",
      "dropout (Dropout)            (None, 191, 512)          0         \n",
      "_________________________________________________________________\n",
      "time_distributed (TimeDistri (None, 191, 512)          262656    \n",
      "_________________________________________________________________\n",
      "flatten (Flatten)            (None, 97792)             0         \n",
      "_________________________________________________________________\n",
      "dense_1 (Dense)              (None, 74)                7236682   \n",
      "=================================================================\n",
      "Total params: 11,749,642\n",
      "Trainable params: 11,749,642\n",
      "Non-trainable params: 0\n",
      "_________________________________________________________________\n",
      "None\n",
      "INFO:tensorflow:Reloading Tuner from C:/Hyperparameter/4OJ\\untitled_project\\tuner0.json\n",
      "INFO:tensorflow:Oracle triggered exit\n",
      "Results summary\n",
      "Results in C:/Hyperparameter/4OJ\\untitled_project\n",
      "Showing 5 best trials\n",
      "Objective(name='val_accuracy', direction='max')\n",
      "Trial summary\n",
      "Hyperparameters:\n",
      "learning_rate: 0.001\n",
      "batch_size: 256\n",
      "Score: 0.6004803776741028\n",
      "Trial summary\n",
      "Hyperparameters:\n",
      "learning_rate: 0.001\n",
      "batch_size: 512\n",
      "Score: 0.356285035610199\n",
      "Trial summary\n",
      "Hyperparameters:\n",
      "learning_rate: 0.01\n",
      "batch_size: 256\n",
      "Score: 0.23650920391082764\n",
      "Trial summary\n",
      "Hyperparameters:\n",
      "learning_rate: 0.0001\n",
      "batch_size: 256\n",
      "Score: 0.13674940168857574\n",
      "Trial summary\n",
      "Hyperparameters:\n",
      "learning_rate: 0.01\n",
      "batch_size: 512\n",
      "Score: 0.123939149081707\n",
      "None\n",
      "Model: \"sequential\"\n",
      "_________________________________________________________________\n",
      "Layer (type)                 Output Shape              Param #   \n",
      "=================================================================\n",
      "embedding (Embedding)        (None, 191, 300)          3000000   \n",
      "_________________________________________________________________\n",
      "gru (GRU)                    (None, 191, 512)          1250304   \n",
      "_________________________________________________________________\n",
      "dropout (Dropout)            (None, 191, 512)          0         \n",
      "_________________________________________________________________\n",
      "time_distributed (TimeDistri (None, 191, 512)          262656    \n",
      "_________________________________________________________________\n",
      "flatten (Flatten)            (None, 97792)             0         \n",
      "_________________________________________________________________\n",
      "dense_1 (Dense)              (None, 74)                7236682   \n",
      "=================================================================\n",
      "Total params: 11,749,642\n",
      "Trainable params: 11,749,642\n",
      "Non-trainable params: 0\n",
      "_________________________________________________________________\n",
      "None\n",
      "Hyperparameters for GRU are <tensorflow.python.keras.engine.sequential.Sequential object at 0x000002E285169310>\n",
      "{'learning_rate': 0.001, 'batch_size': 256}\n",
      "Epoch 1/25\n",
      "98/98 [==============================] - 762s 8s/step - loss: 0.8633 - accuracy: 0.7533 - val_loss: 0.5578 - val_accuracy: 0.8363\n",
      "Epoch 2/25\n",
      "98/98 [==============================] - 797s 8s/step - loss: 0.3931 - accuracy: 0.8812 - val_loss: 0.3976 - val_accuracy: 0.8786\n",
      "Epoch 3/25\n",
      "98/98 [==============================] - 730s 7s/step - loss: 0.2584 - accuracy: 0.9183 - val_loss: 0.3226 - val_accuracy: 0.9042\n",
      "Epoch 4/25\n",
      "98/98 [==============================] - 730s 7s/step - loss: 0.2030 - accuracy: 0.9364 - val_loss: 0.3529 - val_accuracy: 0.8919\n",
      "Epoch 5/25\n",
      "98/98 [==============================] - 728s 7s/step - loss: 0.1636 - accuracy: 0.9449 - val_loss: 0.3257 - val_accuracy: 0.9089\n",
      "Epoch 6/25\n",
      "98/98 [==============================] - 726s 7s/step - loss: 0.1466 - accuracy: 0.9507 - val_loss: 0.3412 - val_accuracy: 0.9034\n",
      "Epoch 7/25\n",
      "98/98 [==============================] - 727s 7s/step - loss: 0.1324 - accuracy: 0.9550 - val_loss: 0.3212 - val_accuracy: 0.9092\n",
      "Epoch 8/25\n",
      "98/98 [==============================] - 729s 7s/step - loss: 0.1201 - accuracy: 0.9567 - val_loss: 0.3270 - val_accuracy: 0.9094\n"
     ]
    },
    {
     "data": {
      "image/png": "[encoded data removed]",
      "text/plain": [
       "<Figure size 432x288 with 1 Axes>"
      ]
     },
     "metadata": {
      "needs_background": "light"
     },
     "output_type": "display_data"
    },
    {
     "data": {
      "image/png": "[encoded data removed]",
      "text/plain": [
       "<Figure size 432x288 with 1 Axes>"
      ]
     },
     "metadata": {
      "needs_background": "light"
     },
     "output_type": "display_data"
    }
   ],
   "source": [
    "tuner =MyTuner(\n",
    "    GRU_model1,\n",
    "    objective='val_accuracy',\n",
    "    max_trials=5,\n",
    "    executions_per_trial=1,\n",
    "    seed=123,\n",
    "    directory=\"C:/Hyperparameter/4OJ\"\n",
    ")\n",
    "\n",
    "tuner.search(X_train_aug2,y_train_aug2,validation_data=(X_test_aug2,y_test_aug2))\n",
    "print(tuner.results_summary(5))\n",
    "best_model_GRU = tuner.get_best_models()[0]\n",
    "print(\"Hyperparameters for GRU are\",best_model_GRU)\n",
    "\n",
    "\n",
    "modelname=\"GRUModel_aug2\"\n",
    "vals=tuner.oracle.get_best_trials(num_trials=1)[0].hyperparameters.values\n",
    "print(vals)\n",
    "batch_size_hyp=list(vals.values())[1]\n",
    "#epochs_hyp=list(vals.values())[2]\n",
    "history=best_model_GRU.fit(X_train_aug2,y_train_aug2,batch_size=batch_size_hyp,epochs=epochs,validation_data=(X_test_aug2,y_test_aug2),callbacks=[early_stopping])\n",
    "plot(best_model_GRU,history)"
   ]
  },
  {
   "cell_type": "code",
   "execution_count": 87,
   "metadata": {
    "colab": {
     "base_uri": "https://localhost:8080/",
     "height": 1000
    },
    "id": "S0mvWiW9uuHB",
    "outputId": "2df76808-fce2-4780-f947-649b87508f46"
   },
   "outputs": [
    {
     "name": "stdout",
     "output_type": "stream",
     "text": [
      "Accuracy of GRU for level2 augmented data is : 89.27541971206665\n",
      "Training Accuracy of GRU for level2 augmented data is: 91.20605736970901\n",
      "Mean loss of  Validation data of GRU for level2 augmented data is : 0.36826013028621674\n",
      "Mean loss of  training data of GRU for level2 augmented data is : 0.2850606543943286\n"
     ]
    }
   ],
   "source": [
    "print(\"Accuracy of GRU for level2 augmented data is :\", np.array(history.history['val_accuracy']).mean()*100)\n",
    "print(\"Training Accuracy of GRU for level2 augmented data is:\" ,np.array(history.history['accuracy']).mean()*100)\n",
    "print( \"Mean loss of  Validation data of GRU for level2 augmented data is :\",np.array(history.history['val_loss']).mean())\n",
    "print( \"Mean loss of  training data of GRU for level2 augmented data is :\",np.array(history.history['loss']).mean())"
   ]
  },
  {
   "cell_type": "code",
   "execution_count": 27,
   "metadata": {
    "colab": {
     "base_uri": "https://localhost:8080/"
    },
    "id": "yDu5IbHIuxID",
    "outputId": "43bc2782-9cef-4fca-916d-23f543989636"
   },
   "outputs": [
    {
     "name": "stdout",
     "output_type": "stream",
     "text": [
      "INFO:tensorflow:Reloading Oracle from existing project C:/Hyperparameter/40K\\untitled_project\\oracle.json\n",
      "Model: \"sequential\"\n",
      "_________________________________________________________________\n",
      "Layer (type)                 Output Shape              Param #   \n",
      "=================================================================\n",
      "embedding (Embedding)        (None, 191, 300)          3000000   \n",
      "_________________________________________________________________\n",
      "bidirectional (Bidirectional (None, 191, 1024)         3330048   \n",
      "_________________________________________________________________\n",
      "dropout (Dropout)            (None, 191, 1024)         0         \n",
      "_________________________________________________________________\n",
      "time_distributed (TimeDistri (None, 191, 512)          524800    \n",
      "_________________________________________________________________\n",
      "flatten (Flatten)            (None, 97792)             0         \n",
      "_________________________________________________________________\n",
      "dense_1 (Dense)              (None, 74)                7236682   \n",
      "=================================================================\n",
      "Total params: 14,091,530\n",
      "Trainable params: 14,091,530\n",
      "Non-trainable params: 0\n",
      "_________________________________________________________________\n",
      "None\n",
      "INFO:tensorflow:Reloading Tuner from C:/Hyperparameter/40K\\untitled_project\\tuner0.json\n",
      "INFO:tensorflow:Oracle triggered exit\n",
      "Results summary\n",
      "Results in C:/Hyperparameter/40K\\untitled_project\n",
      "Showing 5 best trials\n",
      "Objective(name='val_accuracy', direction='max')\n",
      "Trial summary\n",
      "Hyperparameters:\n",
      "learning_rate: 0.001\n",
      "batch_size: 256\n",
      "Score: 0.5231385231018066\n",
      "Trial summary\n",
      "Hyperparameters:\n",
      "learning_rate: 0.001\n",
      "batch_size: 512\n",
      "Score: 0.36733385920524597\n",
      "Trial summary\n",
      "Hyperparameters:\n",
      "learning_rate: 0.0001\n",
      "batch_size: 256\n",
      "Score: 0.15100079774856567\n",
      "Trial summary\n",
      "Hyperparameters:\n",
      "learning_rate: 0.0001\n",
      "batch_size: 512\n",
      "Score: 0.12570056319236755\n",
      "Trial summary\n",
      "Hyperparameters:\n",
      "learning_rate: 0.01\n",
      "batch_size: 256\n",
      "Score: 0.0959167331457138\n",
      "None\n",
      "Model: \"sequential\"\n",
      "_________________________________________________________________\n",
      "Layer (type)                 Output Shape              Param #   \n",
      "=================================================================\n",
      "embedding (Embedding)        (None, 191, 300)          3000000   \n",
      "_________________________________________________________________\n",
      "bidirectional (Bidirectional (None, 191, 1024)         3330048   \n",
      "_________________________________________________________________\n",
      "dropout (Dropout)            (None, 191, 1024)         0         \n",
      "_________________________________________________________________\n",
      "time_distributed (TimeDistri (None, 191, 512)          524800    \n",
      "_________________________________________________________________\n",
      "flatten (Flatten)            (None, 97792)             0         \n",
      "_________________________________________________________________\n",
      "dense_1 (Dense)              (None, 74)                7236682   \n",
      "=================================================================\n",
      "Total params: 14,091,530\n",
      "Trainable params: 14,091,530\n",
      "Non-trainable params: 0\n",
      "_________________________________________________________________\n",
      "None\n",
      "Hyperparameters for BILSTM are <tensorflow.python.keras.engine.sequential.Sequential object at 0x0000026710043C70>\n",
      "{'learning_rate': 0.001, 'batch_size': 256}\n",
      "Epoch 1/25\n",
      "98/98 [==============================] - 1728s 18s/step - loss: 1.1476 - accuracy: 0.6736 - val_loss: 0.7812 - val_accuracy: 0.7728\n",
      "Epoch 2/25\n",
      "98/98 [==============================] - 1754s 18s/step - loss: 0.5457 - accuracy: 0.8386 - val_loss: 0.5159 - val_accuracy: 0.8412\n",
      "Epoch 3/25\n",
      "98/98 [==============================] - 1673s 17s/step - loss: 0.3460 - accuracy: 0.8939 - val_loss: 0.4163 - val_accuracy: 0.8700\n",
      "Epoch 4/25\n",
      "98/98 [==============================] - 1530s 16s/step - loss: 0.2514 - accuracy: 0.9206 - val_loss: 0.3802 - val_accuracy: 0.8897\n",
      "Epoch 5/25\n",
      "98/98 [==============================] - 1595s 16s/step - loss: 0.2254 - accuracy: 0.9276 - val_loss: 0.3554 - val_accuracy: 0.8934\n",
      "Epoch 6/25\n",
      "98/98 [==============================] - 1578s 16s/step - loss: 0.1790 - accuracy: 0.9395 - val_loss: 0.3698 - val_accuracy: 0.8966\n",
      "Epoch 7/25\n",
      "98/98 [==============================] - 1551s 16s/step - loss: 0.1646 - accuracy: 0.9444 - val_loss: 0.3490 - val_accuracy: 0.9004\n",
      "Epoch 8/25\n",
      "98/98 [==============================] - 1623s 17s/step - loss: 0.1421 - accuracy: 0.9515 - val_loss: 0.3448 - val_accuracy: 0.9071\n",
      "Epoch 9/25\n",
      "98/98 [==============================] - 1654s 17s/step - loss: 0.1247 - accuracy: 0.9558 - val_loss: 0.3382 - val_accuracy: 0.9074\n",
      "Epoch 10/25\n",
      "98/98 [==============================] - 1508s 15s/step - loss: 0.1201 - accuracy: 0.9574 - val_loss: 0.3445 - val_accuracy: 0.9060\n",
      "Epoch 11/25\n",
      "98/98 [==============================] - 1711s 17s/step - loss: 0.1160 - accuracy: 0.9588 - val_loss: 0.3413 - val_accuracy: 0.9114\n",
      "Epoch 12/25\n",
      "98/98 [==============================] - 1674s 17s/step - loss: 0.1093 - accuracy: 0.9612 - val_loss: 0.3585 - val_accuracy: 0.9090\n",
      "Epoch 13/25\n",
      "98/98 [==============================] - 1677s 17s/step - loss: 0.1089 - accuracy: 0.9601 - val_loss: 0.3692 - val_accuracy: 0.9004\n",
      "Epoch 14/25\n",
      "98/98 [==============================] - 1673s 17s/step - loss: 0.1014 - accuracy: 0.9622 - val_loss: 0.3549 - val_accuracy: 0.9122\n"
     ]
    },
    {
     "data": {
      "image/png": "[encoded data removed]",
      "text/plain": [
       "<Figure size 432x288 with 1 Axes>"
      ]
     },
     "metadata": {
      "needs_background": "light"
     },
     "output_type": "display_data"
    },
    {
     "data": {
      "image/png": "[encoded data removed]",
      "text/plain": [
       "<Figure size 432x288 with 1 Axes>"
      ]
     },
     "metadata": {
      "needs_background": "light"
     },
     "output_type": "display_data"
    }
   ],
   "source": [
    "tuner =MyTuner(\n",
    "    BILSTM_model1,\n",
    "    objective='val_accuracy',\n",
    "    max_trials=5,\n",
    "    executions_per_trial=1,\n",
    "    seed=123,\n",
    "    directory=\"C:/Hyperparameter/40K\"\n",
    ")\n",
    "\n",
    "tuner.search(X_train_aug2,y_train_aug2,validation_data=(X_test_aug2,y_test_aug2))\n",
    "print(tuner.results_summary(5))\n",
    "best_model_BILSTM = tuner.get_best_models()[0]\n",
    "print(\"Hyperparameters for BILSTM are\",best_model_BILSTM)\n",
    "\n",
    "\n",
    "modelname=\"BILSTMModel_aug2\"\n",
    "vals=tuner.oracle.get_best_trials(num_trials=1)[0].hyperparameters.values\n",
    "print(vals)\n",
    "batch_size_hyp=list(vals.values())[1]\n",
    "#epochs_hyp=list(vals.values())[2]\n",
    "history=best_model_BILSTM.fit(X_train_aug2,y_train_aug2,batch_size=batch_size_hyp,epochs=epochs,validation_data=(X_test_aug2,y_test_aug2),callbacks=[early_stopping])\n",
    "plot(best_model_BILSTM,history)"
   ]
  },
  {
   "cell_type": "code",
   "execution_count": 28,
   "metadata": {
    "colab": {
     "base_uri": "https://localhost:8080/"
    },
    "id": "yDu5IbHIuxID",
    "outputId": "43bc2782-9cef-4fca-916d-23f543989636"
   },
   "outputs": [
    {
     "name": "stdout",
     "output_type": "stream",
     "text": [
      "Accuracy of BILSTM for level2 augmented data is : 88.69724358831134\n",
      "Training Accuracy of BILSTM for level2 augmented data is: 91.75122337681907\n",
      "Mean loss of  Validation data of BILSTM for level2 augmented data is : 0.401363159929003\n",
      "Mean loss of  training data of BILSTM for level2 augmented data is : 0.26301945373415947\n"
     ]
    }
   ],
   "source": [
    "print(\"Accuracy of BILSTM for level2 augmented data is :\", np.array(history.history['val_accuracy']).mean()*100)\n",
    "print(\"Training Accuracy of BILSTM for level2 augmented data is:\" ,np.array(history.history['accuracy']).mean()*100)\n",
    "print( \"Mean loss of  Validation data of BILSTM for level2 augmented data is :\",np.array(history.history['val_loss']).mean())\n",
    "print( \"Mean loss of  training data of BILSTM for level2 augmented data is :\",np.array(history.history['loss']).mean())"
   ]
  },
  {
   "cell_type": "code",
   "execution_count": 20,
   "metadata": {
    "colab": {
     "base_uri": "https://localhost:8080/"
    },
    "id": "yDu5IbHIuxID",
    "outputId": "43bc2782-9cef-4fca-916d-23f543989636"
   },
   "outputs": [],
   "source": [
    "#x"
   ]
  },
  {
   "cell_type": "code",
   "execution_count": 21,
   "metadata": {
    "id": "_CQwAShGu6_5"
   },
   "outputs": [
    {
     "name": "stdout",
     "output_type": "stream",
     "text": [
      "INFO:tensorflow:Reloading Oracle from existing project C:/Hyperparameter/40L\\untitled_project\\oracle.json\n",
      "Model: \"sequential\"\n",
      "_________________________________________________________________\n",
      "Layer (type)                 Output Shape              Param #   \n",
      "=================================================================\n",
      "embedding (Embedding)        (None, 191, 300)          3000000   \n",
      "_________________________________________________________________\n",
      "bidirectional (Bidirectional (None, 191, 1024)         2500608   \n",
      "_________________________________________________________________\n",
      "dropout (Dropout)            (None, 191, 1024)         0         \n",
      "_________________________________________________________________\n",
      "time_distributed (TimeDistri (None, 191, 512)          524800    \n",
      "_________________________________________________________________\n",
      "flatten (Flatten)            (None, 97792)             0         \n",
      "_________________________________________________________________\n",
      "dense_1 (Dense)              (None, 74)                7236682   \n",
      "=================================================================\n",
      "Total params: 13,262,090\n",
      "Trainable params: 13,262,090\n",
      "Non-trainable params: 0\n",
      "_________________________________________________________________\n",
      "None\n",
      "INFO:tensorflow:Reloading Tuner from C:/Hyperparameter/40L\\untitled_project\\tuner0.json\n",
      "INFO:tensorflow:Oracle triggered exit\n",
      "Results summary\n",
      "Results in C:/Hyperparameter/40L\\untitled_project\n",
      "Showing 5 best trials\n",
      "Objective(name='val_accuracy', direction='max')\n",
      "Trial summary\n",
      "Hyperparameters:\n",
      "learning_rate: 0.001\n",
      "batch_size: 256\n",
      "Score: 0.6499599814414978\n",
      "Trial summary\n",
      "Hyperparameters:\n",
      "learning_rate: 0.001\n",
      "batch_size: 512\n",
      "Score: 0.4469175338745117\n",
      "Trial summary\n",
      "Hyperparameters:\n",
      "learning_rate: 0.01\n",
      "batch_size: 256\n",
      "Score: 0.21200960874557495\n",
      "Trial summary\n",
      "Hyperparameters:\n",
      "learning_rate: 0.0001\n",
      "batch_size: 256\n",
      "Score: 0.1396317034959793\n",
      "Trial summary\n",
      "Hyperparameters:\n",
      "learning_rate: 0.01\n",
      "batch_size: 512\n",
      "Score: 0.1252201795578003\n",
      "None\n",
      "Model: \"sequential\"\n",
      "_________________________________________________________________\n",
      "Layer (type)                 Output Shape              Param #   \n",
      "=================================================================\n",
      "embedding (Embedding)        (None, 191, 300)          3000000   \n",
      "_________________________________________________________________\n",
      "bidirectional (Bidirectional (None, 191, 1024)         2500608   \n",
      "_________________________________________________________________\n",
      "dropout (Dropout)            (None, 191, 1024)         0         \n",
      "_________________________________________________________________\n",
      "time_distributed (TimeDistri (None, 191, 512)          524800    \n",
      "_________________________________________________________________\n",
      "flatten (Flatten)            (None, 97792)             0         \n",
      "_________________________________________________________________\n",
      "dense_1 (Dense)              (None, 74)                7236682   \n",
      "=================================================================\n",
      "Total params: 13,262,090\n",
      "Trainable params: 13,262,090\n",
      "Non-trainable params: 0\n",
      "_________________________________________________________________\n",
      "None\n",
      "Hyperparameters for BIGRU are <tensorflow.python.keras.engine.sequential.Sequential object at 0x000002676D7256A0>\n",
      "{'learning_rate': 0.001, 'batch_size': 256}\n",
      "Epoch 1/25\n",
      "98/98 [==============================] - 1377s 14s/step - loss: 0.7093 - accuracy: 0.7991 - val_loss: 0.4815 - val_accuracy: 0.8544\n",
      "Epoch 2/25\n",
      "98/98 [==============================] - 1427s 15s/step - loss: 0.3248 - accuracy: 0.9021 - val_loss: 0.3468 - val_accuracy: 0.8934\n",
      "Epoch 3/25\n",
      "98/98 [==============================] - 1436s 15s/step - loss: 0.2175 - accuracy: 0.9323 - val_loss: 0.3455 - val_accuracy: 0.8972\n",
      "Epoch 4/25\n",
      "98/98 [==============================] - 1451s 15s/step - loss: 0.1773 - accuracy: 0.9429 - val_loss: 0.2920 - val_accuracy: 0.9161\n",
      "Epoch 5/25\n",
      "98/98 [==============================] - 1460s 15s/step - loss: 0.1401 - accuracy: 0.9541 - val_loss: 0.2779 - val_accuracy: 0.9182\n",
      "Epoch 6/25\n",
      "98/98 [==============================] - 1473s 15s/step - loss: 0.1185 - accuracy: 0.9587 - val_loss: 0.2940 - val_accuracy: 0.9172\n",
      "Epoch 7/25\n",
      "98/98 [==============================] - 1470s 15s/step - loss: 0.1180 - accuracy: 0.9585 - val_loss: 0.3231 - val_accuracy: 0.9086\n",
      "Epoch 8/25\n",
      "98/98 [==============================] - 1469s 15s/step - loss: 0.1057 - accuracy: 0.9624 - val_loss: 0.2835 - val_accuracy: 0.9215\n",
      "Epoch 9/25\n",
      "98/98 [==============================] - 1482s 15s/step - loss: 0.1129 - accuracy: 0.9612 - val_loss: 0.2949 - val_accuracy: 0.9158\n",
      "Epoch 10/25\n",
      "98/98 [==============================] - 1476s 15s/step - loss: 0.1015 - accuracy: 0.9628 - val_loss: 0.3042 - val_accuracy: 0.9195\n",
      "Epoch 11/25\n",
      "98/98 [==============================] - 1487s 15s/step - loss: 0.0900 - accuracy: 0.9654 - val_loss: 0.3163 - val_accuracy: 0.9207\n"
     ]
    },
    {
     "data": {
      "image/png": "[encoded data removed]",
      "text/plain": [
       "<Figure size 432x288 with 1 Axes>"
      ]
     },
     "metadata": {
      "needs_background": "light"
     },
     "output_type": "display_data"
    },
    {
     "data": {
      "image/png": "[encoded data removed]",
      "text/plain": [
       "<Figure size 432x288 with 1 Axes>"
      ]
     },
     "metadata": {
      "needs_background": "light"
     },
     "output_type": "display_data"
    }
   ],
   "source": [
    "\n",
    "\n",
    "\n",
    "\n",
    "\n",
    "tuner =MyTuner(\n",
    "    BIGRU_model1,\n",
    "    objective='val_accuracy',\n",
    "    max_trials=5,\n",
    "    executions_per_trial=1,\n",
    "    seed=123,\n",
    "    directory=\"C:/Hyperparameter/40L\"\n",
    ")\n",
    "\n",
    "tuner.search(X_train_aug2,y_train_aug2,validation_data=(X_test_aug2,y_test_aug2))\n",
    "print(tuner.results_summary(5))\n",
    "best_model_BIGRU = tuner.get_best_models()[0]\n",
    "print(\"Hyperparameters for BIGRU are\",best_model_BIGRU)\n",
    "\n",
    "\n",
    "modelname=\"BIGRUModel_aug2\"\n",
    "vals=tuner.oracle.get_best_trials(num_trials=1)[0].hyperparameters.values\n",
    "print(vals)\n",
    "batch_size_hyp=list(vals.values())[1]\n",
    "#epochs_hyp=list(vals.values())[2]\n",
    "history=best_model_BIGRU.fit(X_train_aug2,y_train_aug2,batch_size=batch_size_hyp,epochs=epochs,validation_data=(X_test_aug2,y_test_aug2),callbacks=[early_stopping])\n",
    "plot(best_model_BIGRU,history)"
   ]
  },
  {
   "cell_type": "code",
   "execution_count": 22,
   "metadata": {
    "id": "_CQwAShGu6_5"
   },
   "outputs": [
    {
     "name": "stdout",
     "output_type": "stream",
     "text": [
      "Accuracy of BIGRU for level2 augmented data is : 90.75041900981556\n",
      "Training Accuracy of BIGRU for level2 augmented data is: 93.63279613581571\n",
      "Mean loss of  Validation data of BIGRU for level2 augmented data is : 0.3235979296944358\n",
      "Mean loss of  training data of BIGRU for level2 augmented data is : 0.20142006264491516\n"
     ]
    }
   ],
   "source": [
    "print(\"Accuracy of BIGRU for level2 augmented data is :\", np.array(history.history['val_accuracy']).mean()*100)\n",
    "print(\"Training Accuracy of BIGRU for level2 augmented data is:\" ,np.array(history.history['accuracy']).mean()*100)\n",
    "print( \"Mean loss of  Validation data of BIGRU for level2 augmented data is :\",np.array(history.history['val_loss']).mean())\n",
    "print( \"Mean loss of  training data of BIGRU for level2 augmented data is :\",np.array(history.history['loss']).mean())"
   ]
  },
  {
   "cell_type": "code",
   "execution_count": 23,
   "metadata": {
    "id": "_CQwAShGu6_5"
   },
   "outputs": [
    {
     "name": "stdout",
     "output_type": "stream",
     "text": [
      "INFO:tensorflow:Reloading Oracle from existing project C:/Hyperparameter/40I\\untitled_project\\oracle.json\n",
      "Model: \"sequential\"\n",
      "_________________________________________________________________\n",
      "Layer (type)                 Output Shape              Param #   \n",
      "=================================================================\n",
      "embedding (Embedding)        (None, 191, 300)          3000000   \n",
      "_________________________________________________________________\n",
      "lstm (LSTM)                  (None, 191, 512)          1665024   \n",
      "_________________________________________________________________\n",
      "dropout (Dropout)            (None, 191, 512)          0         \n",
      "_________________________________________________________________\n",
      "time_distributed (TimeDistri (None, 191, 512)          262656    \n",
      "_________________________________________________________________\n",
      "flatten (Flatten)            (None, 97792)             0         \n",
      "_________________________________________________________________\n",
      "dense_1 (Dense)              (None, 74)                7236682   \n",
      "=================================================================\n",
      "Total params: 12,164,362\n",
      "Trainable params: 12,164,362\n",
      "Non-trainable params: 0\n",
      "_________________________________________________________________\n",
      "None\n",
      "INFO:tensorflow:Reloading Tuner from C:/Hyperparameter/40I\\untitled_project\\tuner0.json\n",
      "INFO:tensorflow:Oracle triggered exit\n",
      "Results summary\n",
      "Results in C:/Hyperparameter/40I\\untitled_project\n",
      "Showing 5 best trials\n",
      "Objective(name='val_accuracy', direction='max')\n",
      "Trial summary\n",
      "Hyperparameters:\n",
      "learning_rate: 0.001\n",
      "batch_size: 256\n",
      "Score: 0.5482786297798157\n",
      "Trial summary\n",
      "Hyperparameters:\n",
      "learning_rate: 0.001\n",
      "batch_size: 512\n",
      "Score: 0.3556445240974426\n",
      "Trial summary\n",
      "Hyperparameters:\n",
      "learning_rate: 0.001\n",
      "batch_size: 512\n",
      "Score: 0.3391513228416443\n",
      "Trial summary\n",
      "Hyperparameters:\n",
      "learning_rate: 0.001\n",
      "batch_size: 512\n",
      "Score: 0.3159327507019043\n",
      "Trial summary\n",
      "Hyperparameters:\n",
      "learning_rate: 0.01\n",
      "batch_size: 256\n",
      "Score: 0.24355484545230865\n",
      "None\n",
      "Model: \"sequential\"\n",
      "_________________________________________________________________\n",
      "Layer (type)                 Output Shape              Param #   \n",
      "=================================================================\n",
      "embedding (Embedding)        (None, 191, 300)          3000000   \n",
      "_________________________________________________________________\n",
      "lstm (LSTM)                  (None, 191, 512)          1665024   \n",
      "_________________________________________________________________\n",
      "dropout (Dropout)            (None, 191, 512)          0         \n",
      "_________________________________________________________________\n",
      "time_distributed (TimeDistri (None, 191, 512)          262656    \n",
      "_________________________________________________________________\n",
      "flatten (Flatten)            (None, 97792)             0         \n",
      "_________________________________________________________________\n",
      "dense_1 (Dense)              (None, 74)                7236682   \n",
      "=================================================================\n",
      "Total params: 12,164,362\n",
      "Trainable params: 12,164,362\n",
      "Non-trainable params: 0\n",
      "_________________________________________________________________\n",
      "None\n",
      "Hyperparameters for LSTM are <tensorflow.python.keras.engine.sequential.Sequential object at 0x0000026772343EB0>\n",
      "{'learning_rate': 0.001, 'batch_size': 256}\n",
      "Epoch 1/25\n",
      "98/98 [==============================] - 752s 8s/step - loss: 1.0504 - accuracy: 0.6970 - val_loss: 0.7569 - val_accuracy: 0.7851\n",
      "Epoch 2/25\n",
      "98/98 [==============================] - 774s 8s/step - loss: 0.5368 - accuracy: 0.8356 - val_loss: 0.5225 - val_accuracy: 0.8360\n",
      "Epoch 3/25\n",
      "98/98 [==============================] - 752s 8s/step - loss: 0.3507 - accuracy: 0.8894 - val_loss: 0.4313 - val_accuracy: 0.8649\n",
      "Epoch 4/25\n",
      "98/98 [==============================] - 751s 8s/step - loss: 0.2697 - accuracy: 0.9137 - val_loss: 0.4113 - val_accuracy: 0.8759\n",
      "Epoch 5/25\n",
      "98/98 [==============================] - 757s 8s/step - loss: 0.2186 - accuracy: 0.9268 - val_loss: 0.3982 - val_accuracy: 0.8839\n",
      "Epoch 6/25\n",
      "98/98 [==============================] - 753s 8s/step - loss: 0.1950 - accuracy: 0.9348 - val_loss: 0.3700 - val_accuracy: 0.8882\n",
      "Epoch 7/25\n",
      "98/98 [==============================] - 752s 8s/step - loss: 0.1772 - accuracy: 0.9408 - val_loss: 0.3655 - val_accuracy: 0.8916\n",
      "Epoch 8/25\n",
      "98/98 [==============================] - 751s 8s/step - loss: 0.1530 - accuracy: 0.9469 - val_loss: 0.3623 - val_accuracy: 0.8967\n",
      "Epoch 9/25\n",
      "98/98 [==============================] - 753s 8s/step - loss: 0.1796 - accuracy: 0.9429 - val_loss: 0.3727 - val_accuracy: 0.8953\n",
      "Epoch 10/25\n",
      "98/98 [==============================] - 753s 8s/step - loss: 0.1332 - accuracy: 0.9542 - val_loss: 0.3582 - val_accuracy: 0.9041\n",
      "Epoch 11/25\n",
      "98/98 [==============================] - 753s 8s/step - loss: 0.1141 - accuracy: 0.9592 - val_loss: 0.3980 - val_accuracy: 0.9002\n",
      "Epoch 12/25\n",
      "98/98 [==============================] - 756s 8s/step - loss: 0.1121 - accuracy: 0.9598 - val_loss: 0.3674 - val_accuracy: 0.9031\n",
      "Epoch 13/25\n",
      "98/98 [==============================] - 753s 8s/step - loss: 0.1022 - accuracy: 0.9615 - val_loss: 0.3778 - val_accuracy: 0.9039\n"
     ]
    },
    {
     "data": {
      "image/png": "[encoded data removed]",
      "text/plain": [
       "<Figure size 432x288 with 1 Axes>"
      ]
     },
     "metadata": {
      "needs_background": "light"
     },
     "output_type": "display_data"
    },
    {
     "data": {
      "image/png": "[encoded data removed]",
      "text/plain": [
       "<Figure size 432x288 with 1 Axes>"
      ]
     },
     "metadata": {
      "needs_background": "light"
     },
     "output_type": "display_data"
    }
   ],
   "source": [
    "tuner =MyTuner(\n",
    "    LSTM_model1,\n",
    "    objective='val_accuracy',\n",
    "    max_trials=10,\n",
    "    executions_per_trial=1,\n",
    "    seed=123,\n",
    "    directory=\"C:/Hyperparameter/40I\"\n",
    ")\n",
    "\n",
    "tuner.search(X_train_aug2,y_train_aug2,validation_data=(X_test_aug2,y_test_aug2))\n",
    "print(tuner.results_summary(5))\n",
    "best_model_LSTM = tuner.get_best_models()[0]\n",
    "print(\"Hyperparameters for LSTM are\",best_model_LSTM)\n",
    "\n",
    "\n",
    "modelname=\"LSTMModel_aug2\"\n",
    "vals=tuner.oracle.get_best_trials(num_trials=1)[0].hyperparameters.values\n",
    "print(vals)\n",
    "batch_size_hyp=list(vals.values())[1]\n",
    "#epochs_hyp=list(vals.values())[2]\n",
    "history=best_model_LSTM.fit(X_train_aug2,y_train_aug2,batch_size=batch_size_hyp,epochs=epochs,validation_data=(X_test_aug2,y_test_aug2),callbacks=[early_stopping])\n",
    "plot(best_model_LSTM,history)"
   ]
  },
  {
   "cell_type": "code",
   "execution_count": 24,
   "metadata": {
    "id": "_CQwAShGu6_5"
   },
   "outputs": [
    {
     "name": "stdout",
     "output_type": "stream",
     "text": [
      "Accuracy of LSTM for level2 augmented data is : 87.91525547321027\n",
      "Training Accuracy of LSTM for level2 augmented data is: 91.25160162265485\n",
      "Mean loss of  Validation data of LSTM for level2 augmented data is : 0.4224692491384653\n",
      "Mean loss of  training data of LSTM for level2 augmented data is : 0.2763491960672232\n"
     ]
    }
   ],
   "source": [
    "print(\"Accuracy of LSTM for level2 augmented data is :\", np.array(history.history['val_accuracy']).mean()*100)\n",
    "print(\"Training Accuracy of LSTM for level2 augmented data is:\" ,np.array(history.history['accuracy']).mean()*100)\n",
    "print( \"Mean loss of  Validation data of LSTM for level2 augmented data is :\",np.array(history.history['val_loss']).mean())\n",
    "print( \"Mean loss of  training data of LSTM for level2 augmented data is :\",np.array(history.history['loss']).mean())"
   ]
  },
  {
   "cell_type": "code",
   "execution_count": null,
   "metadata": {
    "id": "8K-LGoiB6cH2"
   },
   "outputs": [],
   "source": []
  }
 ],
 "metadata": {
  "accelerator": "TPU",
  "colab": {
   "collapsed_sections": [],
   "name": "cp_dl.ipynb",
   "provenance": []
  },
  "kernelspec": {
   "display_name": "Python 3",
   "language": "python",
   "name": "python3"
  },
  "language_info": {
   "codemirror_mode": {
    "name": "ipython",
    "version": 3
   },
   "file_extension": ".py",
   "mimetype": "text/x-python",
   "name": "python",
   "nbconvert_exporter": "python",
   "pygments_lexer": "ipython3",
   "version": "3.8.5"
  }
 },
 "nbformat": 4,
 "nbformat_minor": 1
}
