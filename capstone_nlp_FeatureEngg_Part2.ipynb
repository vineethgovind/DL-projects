{
  "nbformat": 4,
  "nbformat_minor": 0,
  "metadata": {
    "kernelspec": {
      "display_name": "Python 3",
      "language": "python",
      "name": "python3"
    },
    "language_info": {
      "codemirror_mode": {
        "name": "ipython",
        "version": 3
      },
      "file_extension": ".py",
      "mimetype": "text/x-python",
      "name": "python",
      "nbconvert_exporter": "python",
      "pygments_lexer": "ipython3",
      "version": "3.8.5"
    },
    "colab": {
      "name": "capstone_nlp_FeatureEngg-Part2.ipynb",
      "provenance": [],
      "collapsed_sections": [
        "v1qYpaJ3kDwP",
        "kNNlrRQBktF_",
        "EnOufayemi3X",
        "CYChYp5fnPnF",
        "NkxvcKDmw_u4"
      ],
      "toc_visible": true,
      "machine_shape": "hm"
    },
    "accelerator": "GPU"
  },
  "cells": [
    {
      "cell_type": "code",
      "metadata": {
        "id": "pciKqcdcw7sV"
      },
      "source": [
        "import pandas as pd  \n",
        "import numpy as np\n",
        "import matplotlib.pyplot as plt\n",
        "import tensorflow as tf\n",
        "plt.style.use('fivethirtyeight')\n",
        "\n",
        "%matplotlib inline\n",
        "%config InlineBackend.figure_format = 'retina'"
      ],
      "execution_count": 1,
      "outputs": []
    },
    {
      "cell_type": "code",
      "metadata": {
        "colab": {
          "base_uri": "https://localhost:8080/"
        },
        "id": "stnGDyvyxMnP",
        "outputId": "ceba49a3-075c-42e4-8004-36e526d79fa2"
      },
      "source": [
        "from google.colab import drive\n",
        "drive.mount('/content/drive')"
      ],
      "execution_count": 2,
      "outputs": [
        {
          "output_type": "stream",
          "text": [
            "Mounted at /content/drive\n"
          ],
          "name": "stdout"
        }
      ]
    },
    {
      "cell_type": "code",
      "metadata": {
        "colab": {
          "base_uri": "https://localhost:8080/",
          "height": 204
        },
        "id": "d4zJkf-9w7sW",
        "outputId": "6639129f-08e6-4aae-979e-b3935b867b64"
      },
      "source": [
        "my_df = pd.read_csv('drive/MyDrive/datasets/pre_data_dl_aug2.csv')\n",
        "#my_df = pd.read_csv(csv,index_col=0)\n",
        "my_df.head()"
      ],
      "execution_count": 3,
      "outputs": [
        {
          "output_type": "execute_result",
          "data": {
            "text/html": [
              "<div>\n",
              "<style scoped>\n",
              "    .dataframe tbody tr th:only-of-type {\n",
              "        vertical-align: middle;\n",
              "    }\n",
              "\n",
              "    .dataframe tbody tr th {\n",
              "        vertical-align: top;\n",
              "    }\n",
              "\n",
              "    .dataframe thead th {\n",
              "        text-align: right;\n",
              "    }\n",
              "</style>\n",
              "<table border=\"1\" class=\"dataframe\">\n",
              "  <thead>\n",
              "    <tr style=\"text-align: right;\">\n",
              "      <th></th>\n",
              "      <th>Unnamed: 0</th>\n",
              "      <th>Combined Description Cleaned</th>\n",
              "      <th>Assignment group</th>\n",
              "      <th>LabelEncodings</th>\n",
              "    </tr>\n",
              "  </thead>\n",
              "  <tbody>\n",
              "    <tr>\n",
              "      <th>0</th>\n",
              "      <td>0</td>\n",
              "      <td>login issue user manager name checked the name...</td>\n",
              "      <td>GRP_0</td>\n",
              "      <td>0</td>\n",
              "    </tr>\n",
              "    <tr>\n",
              "      <th>1</th>\n",
              "      <td>1</td>\n",
              "      <td>outlook received from hello team my are not in...</td>\n",
              "      <td>GRP_0</td>\n",
              "      <td>0</td>\n",
              "    </tr>\n",
              "    <tr>\n",
              "      <th>2</th>\n",
              "      <td>2</td>\n",
              "      <td>cannot log in to received from hi i cannot on ...</td>\n",
              "      <td>GRP_0</td>\n",
              "      <td>0</td>\n",
              "    </tr>\n",
              "    <tr>\n",
              "      <th>3</th>\n",
              "      <td>3</td>\n",
              "      <td>unable to access tool page</td>\n",
              "      <td>GRP_0</td>\n",
              "      <td>0</td>\n",
              "    </tr>\n",
              "    <tr>\n",
              "      <th>4</th>\n",
              "      <td>4</td>\n",
              "      <td>error</td>\n",
              "      <td>GRP_0</td>\n",
              "      <td>0</td>\n",
              "    </tr>\n",
              "  </tbody>\n",
              "</table>\n",
              "</div>"
            ],
            "text/plain": [
              "   Unnamed: 0  ... LabelEncodings\n",
              "0           0  ...              0\n",
              "1           1  ...              0\n",
              "2           2  ...              0\n",
              "3           3  ...              0\n",
              "4           4  ...              0\n",
              "\n",
              "[5 rows x 4 columns]"
            ]
          },
          "metadata": {
            "tags": []
          },
          "execution_count": 3
        }
      ]
    },
    {
      "cell_type": "code",
      "metadata": {
        "colab": {
          "base_uri": "https://localhost:8080/"
        },
        "id": "k8AvqEjyx8bw",
        "outputId": "411b0032-91ed-4231-ae22-877102654a85"
      },
      "source": [
        "df2 = my_df\n",
        "my_df['Assignment group by number'] = my_df['Assignment group'].str[4:]\n",
        "my_df['Assignment group by number'] = my_df['Assignment group by number'].astype(int)\n",
        "my_df.info()"
      ],
      "execution_count": 4,
      "outputs": [
        {
          "output_type": "stream",
          "text": [
            "<class 'pandas.core.frame.DataFrame'>\n",
            "RangeIndex: 31221 entries, 0 to 31220\n",
            "Data columns (total 5 columns):\n",
            " #   Column                        Non-Null Count  Dtype \n",
            "---  ------                        --------------  ----- \n",
            " 0   Unnamed: 0                    31221 non-null  int64 \n",
            " 1   Combined Description Cleaned  31221 non-null  object\n",
            " 2   Assignment group              31221 non-null  object\n",
            " 3   LabelEncodings                31221 non-null  int64 \n",
            " 4   Assignment group by number    31221 non-null  int64 \n",
            "dtypes: int64(3), object(2)\n",
            "memory usage: 1.2+ MB\n"
          ],
          "name": "stdout"
        }
      ]
    },
    {
      "cell_type": "code",
      "metadata": {
        "colab": {
          "base_uri": "https://localhost:8080/"
        },
        "id": "lm8eFMaJw7sW",
        "outputId": "664ebe26-453e-45ab-d5af-b438f5906cca"
      },
      "source": [
        "my_df.dropna(inplace=True)\n",
        "my_df.reset_index(drop=True,inplace=True)\n",
        "my_df.info()"
      ],
      "execution_count": 5,
      "outputs": [
        {
          "output_type": "stream",
          "text": [
            "<class 'pandas.core.frame.DataFrame'>\n",
            "RangeIndex: 31221 entries, 0 to 31220\n",
            "Data columns (total 5 columns):\n",
            " #   Column                        Non-Null Count  Dtype \n",
            "---  ------                        --------------  ----- \n",
            " 0   Unnamed: 0                    31221 non-null  int64 \n",
            " 1   Combined Description Cleaned  31221 non-null  object\n",
            " 2   Assignment group              31221 non-null  object\n",
            " 3   LabelEncodings                31221 non-null  int64 \n",
            " 4   Assignment group by number    31221 non-null  int64 \n",
            "dtypes: int64(3), object(2)\n",
            "memory usage: 1.2+ MB\n"
          ],
          "name": "stdout"
        }
      ]
    },
    {
      "cell_type": "code",
      "metadata": {
        "id": "1TYa-7tBw7sX"
      },
      "source": [
        "x = my_df['Combined Description Cleaned']\n",
        "y = my_df['Assignment group by number']"
      ],
      "execution_count": 6,
      "outputs": []
    },
    {
      "cell_type": "code",
      "metadata": {
        "id": "UNZmGFaad51Y"
      },
      "source": [
        "#y = tf.keras.utils.to_categorical(y)"
      ],
      "execution_count": 7,
      "outputs": []
    },
    {
      "cell_type": "code",
      "metadata": {
        "id": "I8xeAElLw7sX"
      },
      "source": [
        "from sklearn.model_selection import train_test_split\n",
        "SEED = 2000\n",
        "x_train, x_validation_and_test, y_train, y_validation_and_test = train_test_split(x, y, test_size=.02,\n",
        "                                                                                  random_state=SEED, shuffle=True)\n",
        "                                                                                 # stratify=y)\n",
        "x_validation, x_test, y_validation, y_test = train_test_split(x_validation_and_test, y_validation_and_test, test_size=.5, random_state=SEED)"
      ],
      "execution_count": 8,
      "outputs": []
    },
    {
      "cell_type": "code",
      "metadata": {
        "colab": {
          "base_uri": "https://localhost:8080/"
        },
        "id": "vrKnNcKlfMe6",
        "outputId": "22957049-1459-4e12-9656-411a40365ccf"
      },
      "source": [
        "y_train.shape"
      ],
      "execution_count": 9,
      "outputs": [
        {
          "output_type": "execute_result",
          "data": {
            "text/plain": [
              "(30596,)"
            ]
          },
          "metadata": {
            "tags": []
          },
          "execution_count": 9
        }
      ]
    },
    {
      "cell_type": "code",
      "metadata": {
        "colab": {
          "base_uri": "https://localhost:8080/"
        },
        "id": "1DPubI-kfQ_F",
        "outputId": "66d12c17-98a4-42cc-b388-cc7f75ef9e1a"
      },
      "source": [
        "y_validation.shape"
      ],
      "execution_count": 10,
      "outputs": [
        {
          "output_type": "execute_result",
          "data": {
            "text/plain": [
              "(312,)"
            ]
          },
          "metadata": {
            "tags": []
          },
          "execution_count": 10
        }
      ]
    },
    {
      "cell_type": "code",
      "metadata": {
        "id": "wKD2Zc-vw7sX"
      },
      "source": [
        "from sklearn.linear_model import LogisticRegression"
      ],
      "execution_count": 11,
      "outputs": []
    },
    {
      "cell_type": "markdown",
      "metadata": {
        "id": "1vpELwjVw7sX"
      },
      "source": [
        "## Doc2Vec"
      ]
    },
    {
      "cell_type": "markdown",
      "metadata": {
        "id": "LS_CqoRXw7sX"
      },
      "source": [
        "Before we jump into doc2vec, it will be better to first start by word2vec. \"Word2vec is a group of related models that are used to produce word embeddings. These models are shallow, two-layer neural networks that are trained to reconstruct linguistic contexts of words.\""
      ]
    },
    {
      "cell_type": "markdown",
      "metadata": {
        "id": "w_JYgNqFw7sZ"
      },
      "source": [
        "DM: \n",
        "This is the Doc2Vec model analogous to CBOW model in Word2vec. The paragraph vectors are obtained by training a neural network on the task of inferring a centre word based on context words and a context paragraph. \n",
        "\n",
        "DBOW:\n",
        "This is the Doc2Vec model analogous to Skip-gram model in Word2Vec. The paragraph vectors are obtained by training a neural network on the task of predicting a probability distribution of words in a paragraph given a randomly-sampled word from the paragraph."
      ]
    },
    {
      "cell_type": "markdown",
      "metadata": {
        "id": "1dEs4yhTw7sZ"
      },
      "source": [
        "Below are the methods I used to get the vectors for each ticket.\n",
        "\n",
        "1. DBOW (Distributed Bag of Words)\n",
        "2. DMC (Distributed Memory Concatenated)\n",
        "3. DMM (Distributed Memory Mean)\n",
        "4. DBOW + DMC\n",
        "5. DBOW + DMM\n",
        "\n",
        "With above vectors, I fit a simple logistic regression model and evaluated the result on the validation set."
      ]
    },
    {
      "cell_type": "code",
      "metadata": {
        "id": "rZ5XwG-6w7sa"
      },
      "source": [
        "from tqdm import tqdm\n",
        "tqdm.pandas(desc=\"progress-bar\")\n",
        "from gensim.models import Doc2Vec\n",
        "from gensim.models.doc2vec import LabeledSentence\n",
        "import multiprocessing\n",
        "from sklearn import utils"
      ],
      "execution_count": 12,
      "outputs": []
    },
    {
      "cell_type": "code",
      "metadata": {
        "id": "eFXvuBqEw7sa"
      },
      "source": [
        "def labelize_tickets_ug(tickets,label):\n",
        "    result = []\n",
        "    prefix = label\n",
        "    for i, t in zip(tickets.index, tickets):\n",
        "        result.append(LabeledSentence(t.split(), [prefix + '_%s' % i]))\n",
        "    return result"
      ],
      "execution_count": 13,
      "outputs": []
    },
    {
      "cell_type": "markdown",
      "metadata": {
        "id": "NHz3qs67w7sa"
      },
      "source": [
        "Also, the same rationale has been applied in the Gensim's Doc2Vec tutorial. In the IMDB tutorial, vector training is occurring on all documents of the data set, including all train/test/dev set. https://github.com/RaRe-Technologies/gensim/blob/develop/docs/notebooks/doc2vec-IMDB.ipynb"
      ]
    },
    {
      "cell_type": "code",
      "metadata": {
        "colab": {
          "base_uri": "https://localhost:8080/"
        },
        "id": "IB0m92N_w7sa",
        "outputId": "7f1cb7e9-a0f1-4ae5-ab99-332346b164ae"
      },
      "source": [
        "all_x = pd.concat([x_train,x_validation,x_test])\n",
        "all_x_w2v = labelize_tickets_ug(all_x, 'all')"
      ],
      "execution_count": 14,
      "outputs": [
        {
          "output_type": "stream",
          "text": [
            "/usr/local/lib/python3.6/dist-packages/ipykernel_launcher.py:5: DeprecationWarning: Call to deprecated `LabeledSentence` (Class will be removed in 4.0.0, use TaggedDocument instead).\n",
            "  \"\"\"\n"
          ],
          "name": "stderr"
        }
      ]
    },
    {
      "cell_type": "code",
      "metadata": {
        "colab": {
          "base_uri": "https://localhost:8080/"
        },
        "id": "L8iC6ZFGw7sa",
        "outputId": "3e4ad90b-5d17-46de-926a-efa6f83d95b1"
      },
      "source": [
        "len(all_x_w2v)"
      ],
      "execution_count": 15,
      "outputs": [
        {
          "output_type": "execute_result",
          "data": {
            "text/plain": [
              "31221"
            ]
          },
          "metadata": {
            "tags": []
          },
          "execution_count": 15
        }
      ]
    },
    {
      "cell_type": "code",
      "metadata": {
        "colab": {
          "base_uri": "https://localhost:8080/"
        },
        "id": "EjgF4Kifykfm",
        "outputId": "301799fa-797d-4043-806d-030462e61219"
      },
      "source": [
        "all_x_w2v"
      ],
      "execution_count": 16,
      "outputs": [
        {
          "output_type": "execute_result",
          "data": {
            "text/plain": [
              "[LabeledSentence(words=['my', 'screen', 'would', 'momentarily', 'and', 'return', 'with', 'the', 'following', 'display', 'driver', 'stopped', 'i', 'have', 'just', 'recently', 'after', 'change', 'every', 'time', 'used', 'need', 'dealing', 'huge', 'information', 'out', 'message', 'this', 'could', 'happen', 'as', 'often', 'when', 'am', 'excel', 'twice', 'it', 'was', 'so', 'bad', 'that', 'turn', 'blue', 'some', 'information', 'on', 'crash', 'dump', 'to', 'force', 'restart'], tags=['all_15866']),\n",
              " LabeledSentence(words=['need', 'access', 'to', 'rule', 'system', 'other', 'enter', 'user', 'id', 'of', 'the', 'issue', 'transaction', 'needs', 'or', 'was', 'working', 'with', 'describe', 't', 'code', 'if', 'you', 'are', 'already', 'a', 'not', 'authorized', 'message', 'recreate', 'condition', 'then', 'do', 'and', 'attach', 'result', 'ticketing', 'tool', 'ticket', 'attached', 'provide', 'same', 'as', 'this'], tags=['all_14653']),\n",
              " LabeledSentence(words=['new', 'received', 'from', 'hi', 'trying', 'to', 'instanotherll', 'a', 'license', 'server', 'on', 'this', 'new', 'server', 'i', 'was', 'just', 'logged', 'onto', 'it', 'but', 'it', 'now', 'be', 'unavailable', 'd', 'manager', 'engineering', 'technology'], tags=['all_11271']),\n",
              " LabeledSentence(words=['external', 'user', 'for', 'help', 'calendar', 'issue'], tags=['all_2206']),\n",
              " LabeledSentence(words=['intercompany', 'tool', 'issue', 'from', 'sent', 'subject', 're', 'hello', 'ask', 'find', 'the', 'be', 'informed', 'that', 'same', 'currency', 'problem', 'on', 'a', 'new', 'shipment', 'under', 'above', 'for', 'show', 'total', 'amount', 'of', 'us', 'real', 'value', 'which', 'number', 'is', 'each', 'check', 'urgently', 'currently', 'hold', 'in', 'our', 'warehouse', 'see', 'below', 'correspondence', 'previous', 'from', 'june'], tags=['all_9457']),\n",
              " LabeledSentence(words=['unable', 'to', 'access', 'forecast', 'plan', 'the'], tags=['all_25664']),\n",
              " LabeledSentence(words=['master', 'by', 'are', 'in', 'and', 'material', 'report', 'statistics', 'extended', 'on', 'august', 'which', 'we', 'had', 'to', 'correct', 'this', 'morning', 'today', 'that', 'were', 'blank', 'corrected', 'if', 'manually', 'these', 'the', 'system', 'does', 'not', 'allow', 'us', 'save', 'with', 'a', 'blank', 'need', 'populate', 'these'], tags=['all_26342']),\n",
              " LabeledSentence(words=['when', 'grade', 'on', 'material', 'engineering', 'utility', 'is', 'not', 'if', 'selected', 'used', 'to', 'change', 'the', 'a', 'logic', 'that', 'valid', 'for', 'new', 'grade', 'this', 'working', 'correctly', 'save', 'id', 'screen', 'and', 'invalid', 'are', 'being', 'left', 'affecting', 'all', 'just', 'one', 'needs', 'corrected', 'save', 'delete'], tags=['all_22260']),\n",
              " LabeledSentence(words=['our', 'we', 'the', 'error', 'message', 'transfer', 'unit', 'missing'], tags=['all_2149']),\n",
              " LabeledSentence(words=['wrong', 'in', 'received', 'from', 'hello', 'a', 'drawing', 'was', 'saved', 'under', 'the', 'number', 'hesitate', 'delete', 'best'], tags=['all_24441']),\n",
              " LabeledSentence(words=['collaboration', 'platform', 'site', 'request', 'hello', 'can', 'you', 'add', 'the', 'below', 'to', 'as', 'team', 'i', 'should', 'have', 'ownership', 'edit', 'access'], tags=['all_364']),\n",
              " LabeledSentence(words=['job', 'job', 'in', 'job', 'schedule', 'time', 'received', 'from', 'connection', 'error', 'to', 'system'], tags=['all_22246']),\n",
              " LabeledSentence(words=['tool', 'application', 'sending', 'multiple', 'via', 'hi', 'as', 'there', 'send', 'also', 'out', 'of', 'on', 'a', 'daily', 'basis', 'the', 'server', 'same', 'for', 'last', 'since', 'th', 'are', 'duplicate', 'example', 'see', 'attached', 'i', 'have', 'been', 'daily', 'one', 'more', 'thing', 'to', 'note', 'is', 'that', 'count', 'sent', 'per', 'day', 'but', 'not', 'doubled', 'be', 'it', 'twice', 'instead', 'them', 'times', 'issue', 'escalate', 'higher', 'management', 'greatly', 'appreciate', 'if', 'you', 'could', 'look', 'into', 'this', 'let', 'me', 'know', 'need'], tags=['all_17176']),\n",
              " LabeledSentence(words=['encryption', 'see', 'agent', 'deployment', 'received', 'from', 'hello', 'i', 'do', 'but', 'believe', 'my', 'computer', 'the', 'new', 'agent', 'should', 'be', 'concerned', 'yet', 'about', 'it', 'almost', 'a', 'month', 'ago'], tags=['all_14889']),\n",
              " LabeledSentence(words=['battery', 'at', 'warn', 'status', 'showing'], tags=['all_22888']),\n",
              " LabeledSentence(words=['issue', 'when', 'received', 'from', 'hello', 'we', 'are', 'an', 'the', 'following', 'in', 'partner', 'and', 'have', 'to', 'update', 'this', 'field', 'multiple', 'times', 'before', 'it', 'works', 'is', 'causing', 'with', 'so', 'plebute', 'as', 'high', 'priority', 'i', 'had', 'record', 'below', 'at', 'least', 'saved'], tags=['all_15367']),\n",
              " LabeledSentence(words=['server', 'was', 'down', 'up', 'of', 'data', 'request', 'timed', 'out', 'ping', 'statistics', 'for', 'sent', 'received', 'lost', 'loss'], tags=['all_19635']),\n",
              " LabeledSentence(words=['ask', 'delete', 'following', 'these', 'session', 'by'], tags=['all_7243']),\n",
              " LabeledSentence(words=['access', 'point', 'win'], tags=['all_21449']),\n",
              " LabeledSentence(words=['not', 'able', 'to', 'do', 'for', 'error', 'personal', 'delivery', 'customer', 'have', 'different', 'profit', 'message', 'customer', 'customer', 'item'], tags=['all_14454']),\n",
              " LabeledSentence(words=['job', 'job', 'in', 'job', 'schedule', 'at', 'received', 'from', 'am', 'error', 'cannot', 'authenticate', 'interface', 'soap', 'fault', 'detail', 'connection', 'is', 'not', 'available', 'id', 'to', 'create', 'stream', 'path'], tags=['all_22201']),\n",
              " LabeledSentence(words=['urgent', 'pleanotherse', 'create', 'tax', 'code', 'a', 'in', 'is', 'really', 'urgent', 'as', 'we', 'have', 'to', 'post', 'vat', 'tool', 'by', 'the', 'end', 'of', 'week', 'example', 'there', 'was', 'an', 'export', 'goods', 'from', 'this', 'location', 'from', 'plant', 'plant', 'delivery', 'not', 'posted', 'finance'], tags=['all_29924']),\n",
              " LabeledSentence(words=['security', 'in', 'suspicious', 'activity', 'alert', 'can', 'only', 'detect', 'less', 'than'], tags=['all_16857']),\n",
              " LabeledSentence(words=['the', 'computer', 'in', 'my', 'office', 'needs', 'access', 'to', 'drive', 'for', 'rolling', 'data', 'this', 'is', 'a', 'location', 'our', 'rolling', 'information', 'currently', 'i', 'need', 'interrupt', 'their', 'data', 'entry', 'extract', 'information', 'project', 'also', 'stopping', 'calculating', 'density', 'number', 'can', 'you', 'fix', 'this', 'limited', 'experience', 'with', 'does', 'not', 'help', 'me', 'problem', 'like', 'path', 'land', 'contact'], tags=['all_11025']),\n",
              " LabeledSentence(words=['unable', 'to', 'create', 'delivery', 'please', 'provide', 'the', 'following', 'what', 'order', 'number', 'material', 'or', 'item', 'warehouse', 'location', 'plant', 'issue', 'description', 'error', 'message', 'it', 'is', 'legal', 'control', 'issue', 'was', 'extended', 'plant', 'by', 'team', 'but', 'group', 'extend', 'automatically', 'also', 'product', 'and', 'for', 'like', 'all', 'eu', 'should', 'be', 'set', 'like', 'ear', 'we', 'have', 'same', 'problem', 'with', 'new', 'country', 'republic', 'plant', 'turkey', 'plant', 'manually', 'process', 'take', 'a', 'lot', 'times', 'export', 'team', 'every', 'day', 'very', 'often', 'block', 'after', 'n', 'stocks', 'only', 'example', 'will', 'check', 'problem', 'find', 'root', 'cause', 'solve', 'it'], tags=['all_842']),\n",
              " LabeledSentence(words=['need', 'access', 'for', 'received', 'from', 'hi', 'there', 'we', 'need', 'give', 'the', 'same', 'as', 'i', 'have', 'drive'], tags=['all_26502']),\n",
              " LabeledSentence(words=['engineering', 'tool', 'from', 'sent', 'august', 'am', 'to', 'subject', 'tool', 'please', 'guide', 'me', 'how', 'to', 'install', 'have', 'tried', 'on', 'its', 'not', 'done', 'reply', 'perfect', 'g', 'arcade'], tags=['all_4858']),\n",
              " LabeledSentence(words=['please', 'change', 'password', 'and', 'pin', 'and', 'the', 'eu', 'tool'], tags=['all_13955']),\n",
              " LabeledSentence(words=['cable', 'to', 'meeting', 'room', 'received', 'from', 'hello', 'team', 'please', 'arrange', 'the', 'all', 'connect', 'projector', 'since', 'most', 'of', 'new', 'are', 'dependent', 'where', 'we', 'unable', 'via', 'current', 'and', 'always', 'depend', 'it', 'sometime', 'might', 'be', 'in', 'that', 'case', 'its', 'very', 'difficult', 'lead', 'logistics'], tags=['all_4648']),\n",
              " LabeledSentence(words=['talk', 'would', 'received', 'from', 'hello', 'refer', 'the', 'below', 'screen', 'took', 'warm'], tags=['all_27992']),\n",
              " LabeledSentence(words=['collaboration', 'platform', 'site', 'request', 'hello', 'will', 'you', 'add', 'the', 'below', 'to', 'as', 'team', 'i', 'should', 'have', 'ownership', 'edit', 'access'], tags=['all_17934']),\n",
              " LabeledSentence(words=['circuit', 'outage', 'carrier', 'vendor', 'is', 'down', 'since', 'am', 'on', 'site', 'up', 'primary', 'what', 'type', 'of', 'x', 'network', 'circuit', 'power', 'please', 'specify', 'outage', 'top', 'no', 'when', 'did', 'it', 'start', 'maintenance', 'power', 'no', 'company', 'power', 'provider', 'network', 'maint', 'does', 'have', 'a', 'backup', 'yes', 'active', 'yes', 'contact', 'notified', 'remote', 'dialing', 'na', 'facility', 'reset', 'na', 'working', 'yes', 'vendor', 'ticket', 'global', 'vendor', 'vendor', 'additional', 'diagnostics'], tags=['all_15948']),\n",
              " LabeledSentence(words=['outlook', 'and', 'an', 'incorrect'], tags=['all_12872']),\n",
              " LabeledSentence(words=['average', 'disk', 'free', 'on', 'f', 'is', 'now', 'however', 'below', 'the', 'warning', 'threshold', 'out', 'of', 'total', 'size'], tags=['all_15494']),\n",
              " LabeledSentence(words=['printer', 'problem', 'issue', 'information', 'please', 'complete', 'all', 'below', 'if', 'not', 'it', 'will', 'be', 'returned', 'back', 'to', 'the', 'requester', 'provide', 'review', 'ticket', 'not', 'able', 'resolve', 'then', 'assign', 'appropriate', 'group', 'per', 'your', 'assignment', 'naming', 'make', 'model', 'ex', 'wy', 'color', 'detailed', 'description', 'of', 'when', 'i', 'try', 'send', 'a', 'document', 'this', 'printer', 'driver', 'update', 'next', 'name', 'click', 'print', 'and', 'several', 'times', 'before', 'error', 'cannot', 'print', 'due', 'with', 'current', 'setup', 'have', 'printed', 'on', 'my', 'machine', 'before', 'type', 'printing', 'excel', 'tool', 'delivery', 'note', 'production', 'specifically', 'word', 'but', 'also', 'tried', 'printing', 'what', 'system', 'or', 'application', 'being', 'used', 'at', 'time', 'problem', 'word', 'excel', 'outlook', 'all', 'does', 'respond', 'ping', 'command', 'network', 'power', 'cycle', 'been', 'na', 'system', 'which', 'system', 'its', 'an', 'can', 'output', 'another', 'temporarily', 'too', 'is', 'correctly', 'scan', 'copy', 'attach', 'ticketing', 'tool', 'ticket'], tags=['all_12165']),\n",
              " LabeledSentence(words=['reset', 'for', 'password', 'management', 'tool', 'password', 'reset', 'i', 'my', 'tonight', 'as', 'already', 'forgot', 'it', 'cannot', 'log', 'on', 'to', 'anything'], tags=['all_23415']),\n",
              " LabeledSentence(words=['power', 'adaptor', 'in', 'station', 'is', 'faulty', 'if', 'i', 'connect', 'my', 'to', 'and', 'try', 'on', 'encounter', 'the', 'attached', 'message', 'have', 'confirmed', 'that', 'message', 'does', 'not', 'be', 'use', 'external', 'or', 'another', 'station', 'serial', 'number', 'of', 'had', 'location', 'k'], tags=['all_26272']),\n",
              " LabeledSentence(words=['interface', 'on', 'be', 'down', 'since', 'am'], tags=['all_12790']),\n",
              " LabeledSentence(words=['average', 'disk', 'free', 'on', 'e', 'is', 'now', 'out', 'of', 'total', 'size', 'the', 'warning', 'in', 'tool', 'which', 'below', 'warning', 'threshold', 'need', 'to', 'check'], tags=['all_17345']),\n",
              " LabeledSentence(words=['the', 'attached', 'in', 'directed', 'status', 'but', 'cannot', 'be', 'per', 'subject', 'i', 'have', 'status', 'to', 'release', 'error', 'message', 'enter', 'channel', 'manager', 'account', 'is', 'available', 'can', 'you', 'please', 'solve'], tags=['all_15585']),\n",
              " LabeledSentence(words=['good', 'job', 'in', 'job', 'schedule', 'at', 'previously', 'from'], tags=['all_27375']),\n",
              " LabeledSentence(words=['switch', 'at', 'is', 'down', 'since', 'am'], tags=['all_5339']),\n",
              " LabeledSentence(words=['regular', 'backup', 'is', 'unsuccessful', 'the', 'system', 'to', 'in', 'the', 'next', 'half', 'month'], tags=['all_22579']),\n",
              " LabeledSentence(words=['of', 'system', 'received', 'from', 'please', 'provide', 'it', 'support', 'for', 'the', 'on', 'new', 'in', 'main', 'training', 'room', 'we', 'need', 'to', 'complete', 'first', 'sign', 'off', 'vendor'], tags=['all_13719']),\n",
              " LabeledSentence(words=['job', 'tool', 'fix', 'in', 'job', 'schedule', 'at', 'received', 'from'], tags=['all_7251']),\n",
              " LabeledSentence(words=['was', 'set', 'up', 'to', 'get', 'one', 'monthly', 'use', 'but', 'they', 'are', 'getting', 'multiple', 'account', 'tool', 'as', 'combined', 'billing', 'for', 'august', 'received', 'see', 'attached'], tags=['all_10217']),\n",
              " LabeledSentence(words=['i', 'need', 'access', 'to', 'finance', 'section', 'of', 'hub', 'previously', 'from', 'could', 'always', 'get', 'into', 'the', 'section', 'and', 'now', 'cannot', 'access', 'please', 'regional', 'controller'], tags=['all_17709']),\n",
              " LabeledSentence(words=['job', 'in', 'job', 'schedule', 'hand', 'received', 'from', 'at'], tags=['all_6102']),\n",
              " LabeledSentence(words=['engineering', 'tool', 'does', 'not', 'open', 'exception', 'log', 'attached'], tags=['all_15395']),\n",
              " LabeledSentence(words=['latitude', 'e', 'does', 'not', 'properly', 'boot', 'up', 'i', 'going', 'a', 'blue', 'empty', 'screen', 'with', 'no', 'log', 'on', 'mask'], tags=['all_14672']),\n",
              " LabeledSentence(words=['for', 'training', 'received', 'out', 'please', 'activate', 'the', 'badge', 'below', 'training', 'they', 'need', 'to', 'be', 'active', 'from', 'st', 'at', 'am'], tags=['all_18021']),\n",
              " LabeledSentence(words=['credit', 'component', 'is', 'not', 'doing', 'in', 'prod', 'author', 'author', 'we', 'are', 'getting', 'the', 'following', 'error', 'console', 'uncaught', 'function'], tags=['all_15452']),\n",
              " LabeledSentence(words=['german', 'call', 'caller', 'disconnected', 'after', 'hearing'], tags=['all_5068']),\n",
              " LabeledSentence(words=['upgrade', 'to', 'office', 'currently', 'there', 'are', 'two', 'of', 'on', 'my', 'computer', 'in', 'the', 'bit', 'folder', 'and', 'folder', 'delete', 'old', 'repair', 'new', 'one'], tags=['all_1821']),\n",
              " LabeledSentence(words=['power', 'at', 'is', 'hard', 'down', 'since', 'am', 'on', 'what', 'type', 'of', 'outage', 'x', 'network', 'circuit', 'power', 'please', 'specify', 'outage', 'top', 'site', 'no', 'when', 'did', 'it', 'start', 'am', 'maintenance', 'power', 'no', 'company', 'provider', 'network', 'no', 'maint', 'does', 'have', 'a', 'backup', 'circuit', 'no', 'active', 'na', 'contact', 'notified', 'control', 'dialing', 'equipment', 'reset', 'working', 'vendor', 'ticket', 'global', 'vendor', 'vendor', 'additional', 'diagnostics'], tags=['all_7790']),\n",
              " LabeledSentence(words=['instead', 'of', 'prior', 'for', 'location', 'and', 'order', 'operation', 'mi', 'the', 'in', 'status', 'looking', 'at', 'was', 'partially', 'confirmed', 'by', 'automatic', 'pause', 'which', 'change', 'log', 'all', 'were', 'done', 'its', 'weird', 'since', 'is', 'showing', 'status', 'provided', 'but', 'itself', 'does', 'not', 'make', 'sense', 'this', 'issue', 'so', 'team', 'can', 'do', 'a', 'deep', 'dive', 'come', 'up', 'with', 'solution'], tags=['all_2961']),\n",
              " LabeledSentence(words=['network', 'outonege', 'in', 'coating', 'limited', 'site', 'is', 'hard', 'down', 'since', 'am', 'at', 'what', 'type', 'of', 'x', 'network', 'circuit', 'power', 'please', 'specify', 'outage', 'top', 'no', 'when', 'did', 'it', 'start', 'maintenance', 'power', 'no', 'company', 'power', 'provider', 'network', 'no', 'maint', 'does', 'have', 'a', 'backup', 'circuit', 'no', 'active', 'no', 'contact', 'notified', 'remote', 'dialing', 'equipment', 'reset', 'working', 'on', 'vendor', 'ticket', 'global', 'vendor', 'vendor', 'additional', 'diagnostics'], tags=['all_19687']),\n",
              " LabeledSentence(words=['job', 'job', 'in', 'job', 'resume', 'at', 'received', 'from'], tags=['all_9487']),\n",
              " LabeledSentence(words=['volume', 'e', 'out', 'server', 'is', 'over', 'space', 'available', 'g'], tags=['all_15337']),\n",
              " LabeledSentence(words=['node', 'at', 'is', 'down', 'since', 'module', 'on', 'and'], tags=['all_6934']),\n",
              " LabeledSentence(words=['password', 'must', 'be', 'reset', 'again', 'accessible', 'with', 'the', 'probably', 'blocked', 'account'], tags=['all_11423']),\n",
              " LabeledSentence(words=['unable', 'to', 'login', 'ess', 'portal'], tags=['all_948']),\n",
              " LabeledSentence(words=['dump', 'from', 'system', 'received', 'from', 'hello', 'it', 'helper', 'recently', 'i', 'always', 'got', 'some', 'working', 'flow', 'to', 'remind', 'me', 'approve', 'and', 'but', 'that', 'already', 'no', 'in', 'can', 'you', 'help', 'check'], tags=['all_7778']),\n",
              " LabeledSentence(words=['i', 'need', 'connected', 'for', 'at', 'hello', 'x', 'm', 'and', 'm', 'that', 'remain', 'permanently', 'connected', 'are'], tags=['all_24879']),\n",
              " LabeledSentence(words=['analysis', 'making', 'office', 'is', 'not', 'working'], tags=['all_13873']),\n",
              " LabeledSentence(words=['afternoon', 'job', 'in', 'schedule', 'job', 'received', 'from', 'job', 'schedule', 'job', 'd', 'at'], tags=['all_16715']),\n",
              " LabeledSentence(words=['circuit', 'outage', 'carrier', 'is', 'down', 'at', 'am', 'on', 'site', 'up', 'secondary', 'what', 'type', 'of', 'network', 'x', 'circuit', 'power', 'please', 'specify', 'outage', 'top', 'no', 'when', 'did', 'it', 'start', 'am', 'maintenance', 'power', 'no', 'company', 'power', 'provider', 'network', 'no', 'maint', 'does', 'have', 'a', 'backup', 'yes', 'active', 'yes', 'contact', 'notified', 'remote', 'dialing', 'na', 'equipment', 'reset', 'na', 'working', 'yes', 'vendor', 'ticket', 'global', 'vendor', 'vendor', 'additional', 'diagnostics'], tags=['all_2011']),\n",
              " LabeledSentence(words=['and', 'perhaps', 'those', 'as', 'well', 'outlook', 'refusing', 'to', 'send', 'reply', 'many', 'a', 'new', 'will', 'send', 'but', 'stall', 'with', 'but', 'error', 'this', 'be', 'happening', 'only', 'office', 'i', 'personally', 'am', 'got', 'from', 'mi', 'suspect', 'systemic', 'problem', 'company', 'wide'], tags=['all_29327']),\n",
              " LabeledSentence(words=['unable', 'to', 'login', 'collaboration', 'platform', 'site', 'from', 'home'], tags=['all_4593']),\n",
              " LabeledSentence(words=['material', 'specification', 'code', 'the', 'is', 'available', 'in', 'system', 'but', 'once', 'it', 'engineering', 'tool', 'there', 'an', 'error', 'no'], tags=['all_9636']),\n",
              " LabeledSentence(words=['advanced', 'search', 'does', 'not', 'use', 'the', 'material', 'field', 'on', 'form', 'same', 'set', 'of', 'is', 'returned', 'regardless', 'if', 'leave', 'blank', 'or', 'any', 'material'], tags=['all_24898']),\n",
              " LabeledSentence(words=['please', 'assist', 'in', 'logging', 'into', 'tool', 'from', 'know', 'attached', 'screen', 'shot', 'he', 'took', 'unable', 'to', 'access', 'his'], tags=['all_28164']),\n",
              " LabeledSentence(words=['the', 'terminate', 'action', 'for', 'from', 'sent', 'august', 'to', 'subject', 'amar', 'hello', 'a', 'termination', 'effective', 'been', 'below', 'link', 'to', 'view'], tags=['all_17077']),\n",
              " LabeledSentence(words=['will', 'not', 'create', 'delivery', 'for', 'i', 'had', 'company', 'south', 'look', 'at', 'the', 'and', 'someone', 'our', 'facility', 'nobody', 'is', 'able', 'to', 'help', 'me'], tags=['all_21707']),\n",
              " LabeledSentence(words=['stop', 'hi', 'please', 'the', 'attached', 'with', 'immediate', 'effect'], tags=['all_3240']),\n",
              " LabeledSentence(words=['issue', 'with', 'the', 'difference', 'amount', 'in', 'po', 'approval', 'report', 'with', 'also', 'kindly', 'remove', 'as', 'this', 'is', 'no', 'longer', 'used'], tags=['all_23156']),\n",
              " LabeledSentence(words=['report', 'on', 'blocked', 'open', 'this', 'was', 'several', 'when', 'and', 'opening', 'particular', 'report'], tags=['all_1008']),\n",
              " LabeledSentence(words=['please', 'create', 'received', 'from', 'hello', 'k', 'reference', 'user', 'manage'], tags=['all_12612']),\n",
              " LabeledSentence(words=['folder', 'access', 'request', 'to', 'the', 'followhaventng', 'for', 'our', 'financial', 'review', 'review', 'i', 'need', 'get', 'read', 'write', 'you', 'here', 'be', 'able', 'open', 'them'], tags=['all_30336']),\n",
              " LabeledSentence(words=['network', 'russia', 'warehouse', 'is', 'down', 'since', 'am', 'on', 'what', 'type', 'of', 'outage', 'x', 'network', 'circuit', 'supply', 'please', 'specify', 'outage', 'top', 'site', 'no', 'when', 'did', 'it', 'start', 'maintenance', 'power', 'no', 'company', 'power', 'provider', 'network', 'no', 'maint', 'does', 'have', 'a', 'backup', 'circuit', 'no', 'active', 'na', 'contact', 'notified', 'yes', 'remote', 'dialing', 'na', 'equipment', 'reset', 'no', 'working', 'na', 'vendor', 'ticket', 'global', 'vendor', 'vendor', 'additional', 'diagnostics'], tags=['all_9761']),\n",
              " LabeledSentence(words=['cockpit', 'application', 'condition', 'latest', 'not', 'possible', 'to', 'built', 'up', 'an', 'price', 'record', 'quote', 'line', 'item'], tags=['all_21604']),\n",
              " LabeledSentence(words=['access', 'on', 'of', 'collaboration', 'platform', 'finance', 'link', 'where', 'user', 'needs'], tags=['all_19030']),\n",
              " LabeledSentence(words=['in', 'the', 'where', 'cannot', 'connect', 'to', 'but', 'can', 'needs', 'be', 'on', 'network', 'order', 'print'], tags=['all_11575']),\n",
              " LabeledSentence(words=['needs', 'the', 'to', 'go', 'folder', 'documentation'], tags=['all_18404']),\n",
              " LabeledSentence(words=['new', 'team', 'not', 'on', 'bob', 'from', 'ess', 'and', 'manager', 'ess', 'first', 'the', 'be', 'refer', 'still', 'old', 'data', 'need', 'to', 'reflect', 'are', 'already', 'phone'], tags=['all_17783']),\n",
              " LabeledSentence(words=['we', 'need', 'for', 'the', 'st', 'year', 'one', 'apprenticeship', 'hello'], tags=['all_18874']),\n",
              " LabeledSentence(words=['server', 'active', 'directory', 'the', 'is', 'down', 'since', 'am', 'out'], tags=['all_28474']),\n",
              " LabeledSentence(words=['job', 'in', 'job', 'schedule', 'up', 'received', 'out'], tags=['all_28703']),\n",
              " LabeledSentence(words=['server', 'is', 'not', 'we', 'are', 'to', 'login', 'into', 'our', 'pay', 'interface', 'apply', 'and', 'this', 'the', 'second', 'time', 'within', 'two', 'that', 'an', 'issue', 'with', 'server', 'please', 'advise', 'when', 'been', 'corrected'], tags=['all_17439']),\n",
              " LabeledSentence(words=['blade', 'chassis', 'non', 'critical', 'hardware', 'hi', 'team', 'with', 'the', 'new', 'functionality', 'and', 'that', 'tool', 'us', 'we', 'have', 'for', 'sensor', 'in', 'turn', 'is', 'some', 'even', 'you', 'please', 'investigate', 'advise'], tags=['all_25448']),\n",
              " LabeledSentence(words=['screen', 'problem', 'received', 'from', 'dear', 'it', 'team', 'i', 'am', 'face', 'problem', 'in', 'my', 'screen', 'there', 'is', 'vertical', 'line', 'are', 'come', 'on', 'from', 'today', 'refer', 'below', 'pic', 'also', 'was', 'facing', 'this', 'but', 'not', 'permanent', 'its', 'continue', 'screen', 'kindly', 'look', 'into', 'it', 'application', 'engineering'], tags=['all_11839']),\n",
              " LabeledSentence(words=['not', 'working', 'received', 'from', 'i', 'cannot', 'make', 'a', 'call', 'through', 'my', 'hear', 'them', 'and', 'they', 'me'], tags=['all_5155']),\n",
              " LabeledSentence(words=['please', 'fix', 'the', 'under', 'description', 'in', 'swath', 'and', 'you', 'work', 'on', 'it', 'please', 'transaction', 'communication', 'fail', 'with', 'partner', 'update', 'system', 'error', 'j', 'b', 'ne', 'update', 'error', 'during', 'table'], tags=['all_21887']),\n",
              " LabeledSentence(words=['security', 'in', 'possible', 'tor', 'activity', 'source', 'source', 'destination', 'system', 'name', 'user', 'location', 'status', 'no', 'field', 'yes', 'no', 'event', 'below', 'indicate', 'related', 'id', 'summary', 'imp', 'type', 'code', 'occurrence', 'count', 'host', 'and', 'connection', 'information', 'incoming', 'protocol', 'device', 'name', 'log', 'time', 'at', 'action', 'blocked', 'score', 'sherlock', 'rule', 'id', 'she', 'inspector', 'ontology', 'type', 'agent', 'detail', 'from', 'on', 'interface', 'outside'], tags=['all_24990']),\n",
              " LabeledSentence(words=['no', 'audio', 'beginning', 'also', 'does', 'not', 'work'], tags=['all_13895']),\n",
              " LabeledSentence(words=['hello', 'please', 'urgently', 'fix', 'most', 'error', 'best'], tags=['all_2132']),\n",
              " LabeledSentence(words=['drawing', 'response', 'is', 'error', 'even', 'though', 'a', 'successful', 'received', 'when', 'i', 'send', 'the', 'input', 'to', 'drawing', 'always', 'get', 'reply', 'not', 'sent', 'but', 'still', 'for', 'example', 'below', 'i', 'mail', 'doc', 'delivery', 'doc', 'billing', 'doc', 'doc', 'pur', 'mat', 'drawing', 'doc', 'language', 'mail', 'flag', 'document', 'number', 'special', 'material', 'in', 'it', 'which', 'drawing', 'above', 'input', 'expect', 'and', 'definitely', 'fine', 'however', 'from', 'does', 'make', 'sense', 'as', 'do', 'important', 'of', 'file', 'site', 'works', 'just', 'valid', 'message', 'successfully'], tags=['all_5144']),\n",
              " LabeledSentence(words=['cannot', 'access', 'mail', 'from', 'any', 'device', 'either', 'outlook', 'i', 'lost', 'to', 'on', 'went', 'in', 'and', 'checked', 'the', 'o', 'setting', 'for', 'my', 'account', 'found', 'error', 'attached', 'error', 'account', 'removed', 'e', 'license', 'applied', 'e', 'see', 'if', 'that', 'would', 'resolve', 'issue', 'but', 'still', 'cannot', 'get', 'into', 'try', 'via', 'attachment', 'error', 'this', 'may', 'be', 'an', 'with', 'all', 'they', 'have', 'receive', 'so', 'will', 'not', 'concerning', 'ticket'], tags=['all_20341']),\n",
              " LabeledSentence(words=['unable', 'to', 'fill', 'of', 'expense', 'report', 'form', 'for', 'employee'], tags=['all_11598']),\n",
              " LabeledSentence(words=['looking', 'he', 'in', 'job', 'schedule', 'at', 'received', 'from'], tags=['all_9029']),\n",
              " LabeledSentence(words=['received', 'from', 'hello', 'i', 'am', 'from', 'branch', 'facing', 'issue', 'of', 'network', 'every', 'when', 'seated', 'at', 'room', 'building', 'request', 'you', 'to', 'arrange', 'resolve', 'the'], tags=['all_23998']),\n",
              " LabeledSentence(words=['access', 'to', 'added', 'user', 'the', 'f', 'employee', 'group', 'will', 'and', 'call', 'in', 'if', 'he', 'any'], tags=['all_3662']),\n",
              " LabeledSentence(words=['good', 'in', 'job', 'schedule', 'at', 'received', 'from'], tags=['all_11368']),\n",
              " LabeledSentence(words=['insert', 'to', 'no', 'please', 'the', 'delivery', 'mention', 'in', 'book'], tags=['all_18662']),\n",
              " LabeledSentence(words=['network', 'outage', 'site', 'hard', 'down', 'since', 'am', 'on', 'what', 'type', 'of', 'x', 'network', 'circuit', 'power', 'please', 'refer', 'outage', 'top', 'no', 'when', 'did', 'it', 'start', 'maintenance', 'power', 'no', 'company', 'power', 'provider', 'network', 'no', 'maint', 'does', 'have', 'a', 'backup', 'circuit', 'yes', 'active', 'no', 'contact', 'notified', 'remote', 'dialing', 'equipment', 'reset', 'working', 'vendor', 'ticket', 'global', 'vendor', 'vendor', 'additional', 'diagnostics'], tags=['all_22910']),\n",
              " LabeledSentence(words=['with', 'eu', 'utility', 'we'], tags=['all_23234']),\n",
              " LabeledSentence(words=['insert', 'option', 'not', 'working', 'in', 'need', 'excel'], tags=['all_17410']),\n",
              " LabeledSentence(words=['password', 'reset', 'request', 'to', 'the', 'following', 'user', 'in', 'your', 'organization', 'a', 'be', 'for', 'their', 'account', 'first', 'name', 'last', 'consider', 'this', 'validate', 'is', 'authentic', 'before', 'if', 'you', 'have', 'determined', 'that', 'valid', 'request', 'use', 'portal', 'office', 'azure', 'user', 'want', 'let', 'own', 'check', 'out', 'how', 'can', 'enable', 'with', 'just', 'few', 'sincerely', 'company', 'message', 'was', 'sent', 'from', 'an', 'unmonitored', 'address', 'please', 'do', 'not', 'reply', 'message'], tags=['all_1890']),\n",
              " LabeledSentence(words=['system', 'down', 'received', 'from', 'hi', 'plant', 'encounter', 'down', 'due', 'to', 'this', 'issue', 'we', 'may', 'or', 'not', 'able', 'fulfill', 'local', 'for', 'today', 'it', 'depend', 'on', 'how', 'fast', 'the', 'will', 'be', 'up', 'i', 'have', 'raise', 'ticket', 'operation', 'supervisor', 'company', 'distribution', 'of'], tags=['all_637']),\n",
              " LabeledSentence(words=['manager', 'pointing', 'wrongly', 'to', 'given', 'and', 'should', 'be', 'not', 'like', 'wise', 'executive', 'this', 'only', 'being', 'today', 'see', 'attached'], tags=['all_9154']),\n",
              " LabeledSentence(words=['connectivity', 'concern', 'at', 'company', 'carrier', 'location', 'fa', 'best'], tags=['all_24277']),\n",
              " LabeledSentence(words=['over', 'word', 'label', 'printing', 'i', 'want', 'to', 'print', 'a', 'number', 'letter', 'in', 'as', 'with', 'the', 'layout', 'covid', 'this', 'does', 'should', 'work', 'that', 'i', 'can', 'read', 'it', 'scan', 'gun', 'phone'], tags=['all_30020']),\n",
              " LabeledSentence(words=['i', 'must', 'see', 'the', 'folder', 'of', 'a', 'please', 'help', 'to', 'actually', 'it', 'out'], tags=['all_28536']),\n",
              " LabeledSentence(words=['quote', 'save', 'material', 'creation', 'process', 'with', 'with', 'engine', 'broken', 'in', 'engine', 'it', 'only', 'an', 'error', 'message', 'line', 'item', 'specify', 'positive', 'only', 'to', 'be', 'a', 'change', 'yesterday', 'between', 'and', 'server', 'time', 'we', 'there', 'is', 'break', 'the', 'number', 'sequence', 'all', 'younger', 'than', 'does', 'not', 'neither', 'or'], tags=['all_8365']),\n",
              " LabeledSentence(words=['is', 'over', 'heating', 'left', 'side', 'and', 'audio', 'output', 'plug', 'also', 'not', 'working', 'system', 'fast'], tags=['all_26743']),\n",
              " LabeledSentence(words=['my', 'concern', 'print', 'are', 'set', 'in', 'portrait', 'orientation', 'and', 'they', 'all', 'can', 'you', 'help', 'me', 'see', 'it', 'accountant'], tags=['all_8873']),\n",
              " LabeledSentence(words=['unlock', 'and', 'user', 'reset', 'in'], tags=['all_19572']),\n",
              " LabeledSentence(words=['and', 'handling', 'hello', 'please', 'access', 'the', 'folder', 'department', 'training', 'handling', 'with', 'most'], tags=['all_31104']),\n",
              " LabeledSentence(words=['account', 'of', 'is', 'disabled'], tags=['all_3208']),\n",
              " LabeledSentence(words=['job', 'in', 'job', 'schedule', 'as', 'given', 'from'], tags=['all_28708']),\n",
              " LabeledSentence(words=['install', 'viewer', 'available', 'at', 'p', 'way', 'in', 'the'], tags=['all_22143']),\n",
              " LabeledSentence(words=['balancing', 'error', 'in', 'even', 'after', 'to', 'unable', 'connect', 'it', 'was', 'working', 'back'], tags=['all_2675']),\n",
              " LabeledSentence(words=['loan', 'switch', 'help', 'to', 'install', 'the', 'and', 'lan', 'cable', 'off', 'newly', 'cubicle'], tags=['all_25264']),\n",
              " LabeledSentence(words=['account', 'because', 'not', 'match', 'inventory', 'inventory', 'product', 'code', 'ledger'], tags=['all_20829']),\n",
              " LabeledSentence(words=['printer', 'problem', 'issue', 'information', 'please', 'complete', 'all', 'below', 'if', 'not', 'it', 'will', 'be', 'returned', 'back', 'to', 'the', 'requester', 'provide', 'review', 'ticket', 'not', 'able', 'resolve', 'then', 'assign', 'appropriate', 'group', 'per', 'your', 'assignment', 'name', 'make', 'model', 'ex', 'wy', 'detailed', 'description', 'of', 'error', 'i', 'need', 'and', 'install', 'a', 'driver', 'from', 'computer', 'print', 'type', 'printing', 'excel', 'word', 'tool', 'delivery', 'note', 'production', 'what', 'system', 'or', 'application', 'being', 'used', 'at', 'time', 'problem', 'printing', 'all', 'does', 'respond', 'ping', 'command', 'on', 'network', 'power', 'cycle', 'been', 'sure', 'this', 'system', 'which', 'system', 'its', 'an', 'can', 'output', 'another', 'temporarily', 'too', 'document', 'is', 'correctly', 'scan', 'copy', 'attach', 'ticketing', 'tool', 'ticket'], tags=['all_196']),\n",
              " LabeledSentence(words=['unable', 'to', 'create', 'and', 'were', 'for', 'per', 'found', 'the', 'error', 'message', 'as', 'attached', 'please', 'help', 'fixing', 'this', 'advise', 'back', 'us'], tags=['all_1346']),\n",
              " LabeledSentence(words=['is', 'not', 'from', 'included', 'on', 'the', 'list', 'she', 'coming', 'this', 'address'], tags=['all_1109']),\n",
              " LabeledSentence(words=['access', 'to', 'is', 'no', 'longer', 'possible', 'error', 'message', 'connect', 'server', 'as', 'in', 'the', 'press', 'shop', 'number', 'correct', 'and', 'was', 'not', 'or', 'thank', 'you'], tags=['all_25394']),\n",
              " LabeledSentence(words=['type', 'missing', 'to', 'personal', 'number', 'from', 'sent', 'am', 'to', 'subject', 'aw', 'hello', 'me', 'send', 'know', 'the', 'below', 'attached', 'screen', 'best'], tags=['all_21275']),\n",
              " LabeledSentence(words=['battery', 'please', 'get', 'a', 'new', 'phone', 'replacement', 'please', 'one'], tags=['all_4882']),\n",
              " LabeledSentence(words=['sound', 'coming', 'from', 'computer', 'while', 'any', 'device', 'or', 'up', 'monitor'], tags=['all_10760']),\n",
              " LabeledSentence(words=['business', 'instance', 'related', 'to', 'please', 'refer', 'this', 'ticket', 'for', 'more'], tags=['all_16773']),\n",
              " LabeledSentence(words=['maintain', 'error', 'in'], tags=['all_28636']),\n",
              " LabeledSentence(words=['analysis', 'for', 'office', 'ago', 'tool', 'upgrade', 'the', 'on'], tags=['all_19017']),\n",
              " LabeledSentence(words=['without', 'sound', 'from', 'the', 'phone'], tags=['all_8006']),\n",
              " LabeledSentence(words=['license', 'issue', 'cannot', 'running', 'as', 'of', 'early', 'am', 'a', 'server', 'not', 'found', 'error', 'this', 'is', 'affecting', 'production', 'in', 'the', 'site'], tags=['all_20281']),\n",
              " LabeledSentence(words=['unable', 'to', 'create', 'delivery', 'please', 'provide', 'the', 'following', 'what', 'order', 'number', 'particular', 'or', 'item', 'warehouse', 'location', 'plant', 'issue', 'description', 'error', 'message', 'nothing', 'no', 'message'], tags=['all_16017']),\n",
              " LabeledSentence(words=['outlook', 'spell', 'check', 'not', 'working', 'repeated', 'issue', 'received', 'from', 'hello', 'find', 'the', 'error', 'in', 'outlook', 'this', 'is', 'a', 'error', 'time', 'again', 'need', 'your', 'attention', 'permanent', 'solution', 'warm'], tags=['all_5725']),\n",
              " LabeledSentence(words=['create', 'making', 'ad', 'group', 'the', 'in', 'is', 'to', 'be', 'all', 'lower', 'case'], tags=['all_16713']),\n",
              " LabeledSentence(words=['locked', 'by', 'user', 'cannot', 'be', 'for', 'edit', 'as', 'it', 'to', 'in', 'the', 'by', 'is', 'within', 'status', 'all', 'part', 'seem', 'checked', 'in', 'so', 'please', 'unlock'], tags=['all_10675']),\n",
              " LabeledSentence(words=['return', 'is', 'up', 'in', 'under', 'pending', 'hay', 'as', 'of', 'not', 'with', 'customer', 'order', 'being', 'due', 'to', 'credit', 'involved', 'this', 'return', 'been', 'received', 'on'], tags=['all_16136']),\n",
              " LabeledSentence(words=['phone', 'is', 'not', 'connected', 'with', 'server', 'yes', 'i', 'cannot', 'pick', 'up', 'the', 'phone', 'this', 'error', 'message', 'could', 'you', 'help', 'me', 'please', 'id', 'best'], tags=['all_24281']),\n",
              " LabeledSentence(words=['and', 'availability', 'look', 'up', 'in', 'dynamics', 'not', 'working', 'the', 'attached', 'is', 'out', 'she', 'a', 'product', 'that', 'we', 'have', 'screen'], tags=['all_7688']),\n",
              " LabeledSentence(words=['failing', 'defeat', 'code', 'red', 'blue', 'screen'], tags=['all_9166']),\n",
              " LabeledSentence(words=['and', 'went', 'back', 'as', 'on'], tags=['all_27776']),\n",
              " LabeledSentence(words=['circuit', 'outage', 'at', 'since', 'am', 'site', 'is', 'on', 'primary', 'circuit', 'what', 'type', 'of', 'outage', 'network', 'x', 'circuit', 'power', 'please', 'specify', 'outage', 'top', 'maybe', 'when', 'did', 'it', 'start', 'maintenance', 'power', 'no', 'company', 'power', 'provider', 'network', 'no', 'maint', 'does', 'have', 'a', 'backup', 'yes', 'active', 'yes', 'contact', 'notified', 'yes', 'remote', 'dialing', 'equipment', 'reset', 'working', 'yes', 'vendor', 'ticket', 'global', 'vendor', 'vendor', 'additional', 'diagnostics'], tags=['all_14182']),\n",
              " LabeledSentence(words=['collaboration', 'platform', 'industrial', 'received', 'from', 'good', 'afternoon', 'can', 'you', 'plebothe', 'add', 'a', 'new', 'library', 'heading', 'talent', 'review', 'to', 'the', 'area', 'also', 'remove', 'cope', 'as', 'owner', 'of', 'this', 'portion', 'page', 'can', 'myself', 'and'], tags=['all_29813']),\n",
              " LabeledSentence(words=['create', 'express', 'stock', 'transit', 'for', 'order', 'art', 'hi', 'it', 'can', 'you', 'please', 'help', 'check', 'why', 'i', 'do', 'not', 'see', 'any', 'error', 'off', 'our', 'side'], tags=['all_11988']),\n",
              " LabeledSentence(words=['are', 'not', 'revenue', 'the', 'correct', 'amount', 'of', 'revenue', 'please', 'look', 'at', 'procedure', 'that', 'is', 'different', 'on', 'direct', 'and'], tags=['all_14446']),\n",
              " LabeledSentence(words=['job', 'tool', 'tool', 'prod', 'in', 'job', 'next', 'at', 'received', 'from', 'am', 'error'], tags=['all_20505']),\n",
              " LabeledSentence(words=['need', 'to', 'get', 'the', 'expense', 'direct', 'as', 'well', 'welcome', 'our', 'next', 'available', 'agent', 'will', 'be', 'with', 'you', 'shortly', 'interaction', 'agent', 'visitor', 'conversation', 'hi', 'hello', 'how', 'are', 'today', 'i', 'am', 'doing', 'great', 'about', 'good'], tags=['all_5479']),\n",
              " LabeledSentence(words=['microphone', 'from', 'handset', 'phone', 'defective', 'please', 'change', 'phone'], tags=['all_11091']),\n",
              " LabeledSentence(words=['connectivity', 'outage', 'warehouse', 'node', 'is', 'down', 'am', 'what', 'type', 'of', 'outage', 'x', 'network', 'circuit', 'power', 'please', 'specify', 'outage', 'top', 'site', 'no', 'when', 'did', 'it', 'start', 'am', 'maintenance', 'power', 'no', 'company', 'power', 'provider', 'network', 'no', 'maint', 'does', 'have', 'a', 'backup', 'circuit', 'no', 'active', 'no', 'contact', 'notified', 'remote', 'dialing', 'equipment', 'reset', 'working', 'on', 'vendor', 'ticket', 'global', 'vendor', 'vendor', 'additional', 'diagnostics'], tags=['all_17687']),\n",
              " LabeledSentence(words=['outbound', 'not', 'possible', 'via', 'system', 'inbound', 'are', 'working', 'fine', 'please', 'check'], tags=['all_208']),\n",
              " LabeledSentence(words=['cannot', 'get', 'to', 'customer', 'application', 'support', 'something', 'obviously', 'with', 'the', 'phone', 'you', 'a', 'message', 'their', 'number', 'be'], tags=['all_30487']),\n",
              " LabeledSentence(words=['folder', 'access', 'for', 'from', 'sent', 'august', 'am', 'to', 'regarding', 're', 'june', 'and', 'time', 'vacation', 'are', 'missing', 'hi', 'kindly', 'note', 'that', 'there', 'multiple', 'under', 'please', 'mention', 'which', 'specific', 'to', 'be', 'given'], tags=['all_14017']),\n",
              " LabeledSentence(words=['network', 'outage', 'at', 'pa', 'location', 'plant', 'and', 'both', 'are', 'affected', 'outlook', 'contact'], tags=['all_5554']),\n",
              " LabeledSentence(words=['volume', 'on', 'client', 'is', 'over', 'space', 'available'], tags=['all_24686']),\n",
              " LabeledSentence(words=['the', 'projector', 'in', 'hall', 'is', 'not', 'working', 'it', 'on', 'but', 'getting', 'no', 'video', 'screen'], tags=['all_26054']),\n",
              " LabeledSentence(words=['scanner', 'place', 'lion', 'paper'], tags=['all_29452']),\n",
              " LabeledSentence(words=['urgent', 'delivery', 'note', 'order', 'in', 'received', 'up', 'hello', 'it', 'urgently', 'ask', 'for', 'help', 'as', 'the', 'truck', 'is', 'already', 'here', 'to', 'collect', 'and', 'a', 'needs', 'be', 'please', 'clarify', 'thank', 'you', 'best'], tags=['all_13564']),\n",
              " LabeledSentence(words=['no', 'secure', 'to', 'engineering', 'tool', 'see', 'attachment'], tags=['all_8570']),\n",
              " LabeledSentence(words=['only', 'running', 'slow', 'since', 'last', 'in', 'is', 'working', 'fine', 'all', 'are', 'slow', 'contact', 'system', 'all', 'checked', 'with', 'team', 'no', 'as', 'such', 'team', 'utilization', 'now', 'confirmed', 'that', 'quality', 'half', 'an', 'hour', 'calling', 'basis', 'on', 'call', 'support'], tags=['all_11774']),\n",
              " LabeledSentence(words=['circuit', 'outage', 'router', 'is', 'down', 'at', 'am', 'on', 'site', 'up', 'what', 'type', 'of', 'network', 'x', 'circuit', 'power', 'please', 'specify', 'outage', 'top', 'no', 'when', 'did', 'it', 'begin', 'maintenance', 'power', 'no', 'company', 'power', 'provider', 'network', 'na', 'maint', 'does', 'have', 'a', 'backup', 'yes', 'active', 'yes', 'contact', 'notified', 'remote', 'dialing', 'na', 'equipment', 'reset', 'working', 'yes', 'vendor', 'ticket', 'global', 'vendor', 'vendor', 'additional', 'diagnostics'], tags=['all_20004']),\n",
              " LabeledSentence(words=['blank', 'screen'], tags=['all_5182']),\n",
              " LabeledSentence(words=['from', 'sent', 'august', 'am', 'to', 'subject', 'dear', 'it', 'help', 'please', 'help', 'to', 'sort', 'out', 'issue', 'with', 'he', 'he', 'is', 'based', 'in', 'contact', 'are', 'as', 'below', 'application', 'engineer'], tags=['all_16251']),\n",
              " LabeledSentence(words=['production', 'average', 'disk', 'free', 'on', 'home', 'is', 'now', 'which', 'below', 'the', 'warning', 'threshold', 'out', 'of', 'total', 'size'], tags=['all_5835']),\n",
              " LabeledSentence(words=['an', 'ethical', 'moment', 'from', 'the', 'office', 'of', 'ethics', 'and', 'compliance', 'link', 'not', 'opening', 'hi', 'this', 'is', 'opening', 'from', 'sent', 'august', 'to', 'subject', 'compliance', 'dear', 'team', 'company', 'with', 'periodic', 'ethical', 'to', 'remind', 'you', 'your', 'responsibility', 'in', 'good', 'click', 'here', 'access', 'current'], tags=['all_6331']),\n",
              " LabeledSentence(words=['could', 'not', 'to', 'via', 'error', 'message', 'in', 'both', 'partner', 'no', 'connection'], tags=['all_1825']),\n",
              " LabeledSentence(words=['access', 'to', 'dot', 'revenue', 'and', 'hi', 'kindly'], tags=['all_13635']),\n",
              " LabeledSentence(words=['please', 'to', 'provide', 'allow', 'environment', 'user', 'environment', 'production', 'for', 'the', 'he', 'need', 'this', 'open', 'theses', 'and'], tags=['all_19749']),\n",
              " LabeledSentence(words=['not', 'able', 'to', 'login', 'system', 'my', 'user', 'id', 'both', 'on', 'new', 'hardware', 'computer', 'name', 'aim'], tags=['all_23440']),\n",
              " LabeledSentence(words=['data', 'maintenance', 'window', 'credential', 'during', 'olive', 'week', 'on', 'i', 'was', 'able', 'to', 'get', 'into', 'data', 'maintenance', 'operator', 'id', 'exact', 'listed', 'below', 'had', 'open', 'his', 'he', 'for', 'help', 'and', 'plant', 'manager', 'manager', 'stopped', 'by', 'desk', 'question', 'confirm', 'something', 'original', 'about', 'interrupt', 'a', 'new', 'tab', 'right', 'next', 'of', 'then', 'went', 'tab', 'log', 'out', 'i', 'enter', 'my', 'own', 'maintenance', 'but', 'some', 'thing', 'weird', 'the', 'moment', 'switched', 'tab', 'already', 'logged', 'in', 'without', 'entering', 'id', 'double', 'checked', 'with', 'that', 'if', 'maybe', 'they', 'confirmed', 'application', 'took', 'me', 'home', 'screen'], tags=['all_2496']),\n",
              " LabeledSentence(words=['account', 'locked', 'in'], tags=['all_135']),\n",
              " LabeledSentence(words=['error', 'message', 'and', 'dufferent', 'during', 'working', 'on', 'i', 'm', 'getting', 'exit', 'i', 'attached'], tags=['all_21772']),\n",
              " LabeledSentence(words=['eu', 'tool', 'batch', 'management', 'does', 'not', 'work', 'working', 'and', 'the', 'is', 'almost', 'impossible', 'of', 'no', 'longer', 'possible', 'at', 'moment', 'currently'], tags=['all_7566']),\n",
              " LabeledSentence(words=['backup', 'data', 'received', 'from', 'dear', 'sir', 'brought', 'mistake', 'one', 'of', 'the', 'folder', 'in', 'been', 'can', 'to', 'retrieve', 'same', 'with', 'best'], tags=['all_30221']),\n",
              " LabeledSentence(words=['running', 'from', 'is', 'an', 'issue', 'reaching', 'received', 'alert', 'am', 'on', 'attached', 'the', 'screen', 'shot'], tags=['all_626']),\n",
              " LabeledSentence(words=['spoof', 'issue', 'out', 'sent', 'august', 'to', 'subject', 'hello', 'all'], tags=['all_17435']),\n",
              " LabeledSentence(words=['insert', 'to', 'no', 'please', 'the', 'deliver', 'note', 'in', 'book'], tags=['all_7851']),\n",
              " LabeledSentence(words=['sign', 'in', 'password', 'received', 'from', 'team', 'i', 'was', 'recently', 'advised', 'that', 'my', 'went', 'to', 'the', 'manager', 'site', 'and', 'all', 'for', 'different', 'except', 'one', 'log', 'onto', 'computer', 'change', 'how', 'do', 'this', 'one'], tags=['all_2736']),\n",
              " LabeledSentence(words=['job', 'job', 'the', 'job', 'schedule', 'at', 'received', 'up'], tags=['all_28491']),\n",
              " LabeledSentence(words=['job', 'job', 'in', 'job', 'schedule', 'at', 'received', 'out'], tags=['all_9400']),\n",
              " LabeledSentence(words=['issue', 'with', 'tool', 'received', 'from', 'hello', 'please', 'look', 'in', 'to', 'the', 'below', 'and', 'help', 'resolve', 'issue'], tags=['all_4435']),\n",
              " LabeledSentence(words=['job', 'tool', 'prod', 'in', 'job', 'next', 'at', 'receive', 'from'], tags=['all_29096']),\n",
              " LabeledSentence(words=['unable', 'to', 'access', 'collaboration', 'platform', 's', 'language', 'explorer', 'customer', 'number', 'telephone', 'platform', 'problem', 'when', 'i', 'try', 'error', 'the', 'server', 'is', 'busy', 'now', 'again', 'later', 'correlation', 'date', 'and', 'time', 'am'], tags=['all_2975']),\n",
              " LabeledSentence(words=['only', 'down', 'since', 'at', 'on', 'company', 'unlink', 'to'], tags=['all_11122']),\n",
              " LabeledSentence(words=['battery', 'issue', 'facing', 'charging', 'issue', 'computer', 'name', 'aide', 'customer', 'tag'], tags=['all_7151']),\n",
              " LabeledSentence(words=['shop', 'floor', 'record', 'error', 'operator', 'second', 'shift', 'machine', 'wag', 'grinding', 'making', 'cell', 'cannot', 'correctly', 'his', 'work', 'data', 'on', 'there', 'is', 'a', 'few', 'days', 'the', 'of', 'day', 'are', 'extended', 'to', 'next', 'as', 'if', 'they', 'had', 'not', 'been', 'closed'], tags=['all_16189']),\n",
              " LabeledSentence(words=['in', 'system', 'stuck', 'due', 'to', 'leaving', 'the', 'company', 'was', 'by', 'before', 'she', 'left', 'company', 'task', 'list', 'complete', 'left', 'are', 'not', 'i', 'with', 'me', 'but', 'it', 'wont', 'complete'], tags=['all_7757']),\n",
              " LabeledSentence(words=['invalid', 'order', 'number', 'we', 'see', 'in', 'mi', 'that', 'intact', 'is', 'material', 'number', 'need', 'to', 'know', 'how', 'this', 'was', 'as', 'production'], tags=['all_21015']),\n",
              " LabeledSentence(words=['training', 'room', 'cannot', 'connect', 'bearer'], tags=['all_1436']),\n",
              " LabeledSentence(words=['my', 'telephony', 'will', 'not', 'can', 'me', 'to', 'pick', 'up', 'a', 'call', 'or', 'make', 'phone'], tags=['all_9288']),\n",
              " LabeledSentence(words=['folder', 'provide', 'to', 'permission', 'write', 'and', 'read', 'location'], tags=['all_24640']),\n",
              " LabeledSentence(words=['impossible', 'to', 'remove', 'country', 'of', 'origin', 'data', 'on', 'and', 'export', 'customer', 'were', 'made', 'a', 'with', 'in', 'tool', 'number', 'there', 'is', 'also', 'and', 'as', 'please', 'note', 'that', 'are', 'automatic', 'manual', 'master', 'level', 'classification', 'i', 'checked', 'no', 'print', 'but', 'it', 'does', 'not', 'work'], tags=['all_22638']),\n",
              " LabeledSentence(words=['looking', 'job', 'in', 'job', 'schedule', 'at', 'received', 'from'], tags=['all_6541']),\n",
              " LabeledSentence(words=['and', 'ad', 'making', 'please', 'create', 'an', 'the', 'in', 'is', 'to', 'be', 'all'], tags=['all_18018']),\n",
              " LabeledSentence(words=['final', 'tool', 'for', 'project', 'is', 'not', 'working', 'correctly', 'dear', 'it', 'team', 'i', 'have', 'again', 'an', 'issue', 'with', 'a', 'tool', 'the', 'following', 'order', 'we', 'had', 'down', 'payment', 'of', 'all', 'but', 'shipment', 'item', 'and', 'been', 'shipped', 'hence', 'are', 'to', 'do', 'this', 'so', 'tried', 'did', 'work', 'amount', 'got', 'twice', 'them', 'one', 'another', 'after', 'that', 'it', 'still', 'wrong', 'amount', 'was', 'shown', 'need', 'minus', 'payment', 'can', 'you', 'please', 'look', 'help', 'me', 'this', 'single', 'issue', 'already', 'several', 'times'], tags=['all_2452']),\n",
              " LabeledSentence(words=['delegation', 'i', 'would', 'like', 'to', 'have', 'myself', 'accepted', 'the', 'and', 'will', 'be', 'assuming', 'his'], tags=['all_1198']),\n",
              " LabeledSentence(words=['job', 'hard', 'in', 'job', 'schedule', 'at', 'received', 'to'], tags=['all_30576']),\n",
              " LabeledSentence(words=['error', 'message', 'user', 'is', 'not', 'within', 'the', 'project', 'release', 'please', 'contact', 'my', 'user', 'id', 'closely', 'at', 'for', 'and', 'was', 'to', 'reinstall', 'client', 'installation', 'kit', 'what', 'already', 'done', 'with', 'below', 'links', 'when', 'i', 'start', 'enter', 'name', 'password', 'receive', 'following'], tags=['all_28398']),\n",
              " LabeledSentence(words=['please', 'upgrade', 'and', 'office', 'to', 'the'], tags=['all_2327']),\n",
              " LabeledSentence(words=['installation'], tags=['all_4683']),\n",
              " LabeledSentence(words=['lunch', 'computer', 'back', 'the', 'employee', 'in', 'is'], tags=['all_14797']),\n",
              " LabeledSentence(words=['re', 'ticket', 'center', 'authorization', 'received', 'from', 'hi', 'this', 'is'], tags=['all_4491']),\n",
              " LabeledSentence(words=['tool', 'portal', 'is', 'not', 'working'], tags=['all_5773']),\n",
              " LabeledSentence(words=['unable', 'to', 'login', 'distributor', 'tool', 'as', 'password'], tags=['all_2092']),\n",
              " LabeledSentence(words=['little', 'zebra', 'print', 'received', 'from', 'dear', 'all', 'this', 'is', 'jay', 'from', 'plant', 'plant', 'label', 'whenever', 'we', 'do', 'for', 'export', 'butmetimes', 'printer', 'does', 'not', 'the', 'so', 'cancel', 'shipment', 'and', 'redo', 'there', 'another', 'way', 'us', 'to', 'have', 'not'], tags=['all_19517']),\n",
              " LabeledSentence(words=['vicinity', 'service', 'down', 'from', 'sent', 'am', 'to', 'subject', 're', 'long', 'hello', 'there', 'is', 'an', 'alarm', 'on', 'one', 'of', 'circuit', 'id', 'at', 'please', 'can', 'you', 'open', 'a', 'ticket', 'with', 'global', 'and'], tags=['all_8535']),\n",
              " LabeledSentence(words=['business', 'client', 'search', 'server', 'not', 'works', 'hi', 'i', 'can', 'find', 'in', 'engineering', 'tool', 'but', 'is', 'working', 'request', 'you', 'to', 'check', 'for', 'indexing', 'and', 'do', 'the', 'needful', 'as', 'we', 'need', 'some'], tags=['all_15457']),\n",
              " LabeledSentence(words=['need', 'access', 'to', 'rule', 'system', 'other', 'enter', 'user', 'id', 'of', 'the', 'issue', 'transaction', 'needs', 'or', 'was', 'working', 'with', 'describe', 't', 'code', 'if', 'you', 'are', 'getting', 'a', 'not', 'authorized', 'message', 'recreate', 'condition', 'then', 'do', 'and', 'attach', 'result', 'ticketing', 'tool', 'ticket', 'attached', 'provide', 'same', 'as', 'this'], tags=['all_4880']),\n",
              " LabeledSentence(words=['the', 'cor', 'report', 'will', 'not', 'work', 'this', 'is', 'critical', 'way', 'financial', 'close', 'transaction', 'when', 'ran', 'no', 'data', 'a', 'sa', 'report'], tags=['all_23791']),\n",
              " LabeledSentence(words=['job', 'job', 'within', 'job', 'schedule', 'at', 'received', 'from'], tags=['all_24564']),\n",
              " LabeledSentence(words=['change', 'payment', 'for', 'only', 'accounting', 'view', 'from', 'v', 'to', 'v', 'received', 'from', 'dear', 'it', 'please', 'create', 'a', 'ticket', 'update', 'the', 'vendor', 'master', 'file', 'move', 'or', 'another', 'available', 'colleague', 'should', 'be', 'done', 'today', 'very', 'urgent'], tags=['all_5366']),\n",
              " LabeledSentence(words=['access', 'want', 's', 'drive', 'received', 'from', 'hello', 'kindly', 'request', 'give'], tags=['all_28442']),\n",
              " LabeledSentence(words=['collaboration', 'platform', 'in', 'not', 'received', 'from', 'why', 'are', 'these', 'coming', 'i', 'have', 'been', 'told', 'what', 'they', 'mean', 'but', 'should', 'should', 'please', 'enter', 'a', 'ticket', 'for', 'collaboration'], tags=['all_28726']),\n",
              " LabeledSentence(words=['machine', 'r', 'without', 'function', 'here', 'check'], tags=['all_8667']),\n",
              " LabeledSentence(words=['security', 'in', 'suspicious', 'activity', 'new', 'warning', 'can', 'only', 'detection', 'less', 'than'], tags=['all_26439']),\n",
              " LabeledSentence(words=['not', 'able', 'to', 'do', 'customer', 'vale', 'account', 'have', 'different', 'profit', 'for', 'delivery', 'order', 'urgent', 'error', 'message', 'no', 'diagnosis', 'sure', 'multiple', 'assigned', 'within', 'a', 'document', 'item', 'however', 'all', 'with', 'center', 'must', 'be', 'the', 'same', 'center', 'procedure', 'if', 'is', 'an', 'message', 'check', 'and', 'change', 'so', 'that', 'are', 'can', 'this', 'from', 'warning', 'notification', 'or', 'it', 'completely', 'so', 'see', 'implementation', 'guide', 'step', 'under', 'general', 'control', 'message', 'class'], tags=['all_30006']),\n",
              " LabeledSentence(words=['possible', 'bthath', 'command', 'injection', 'attempt', 'in', 'we', 'are', 'seeing', 'in', 'header', 'incoming', 'being', 'by', 'your', 'device', 'that', 'one', 'or', 'more', 'to', 'discover', 'whether', 'of', 'is', 'vulnerable', 'a', 'shell', 'remote', 'code', 'execution', 'vulnerability', 'ce', 'successful', 'exploitation', 'these', 'may', 'result', 'information', 'disclosure', 'execution', 'as', 'the', 'traffic', 'an', 'exploit', 'said', 'application', 'this', 'you', 'via', 'medium', 'priority', 'ticket', 'blocking', 'each', 'source', 'address', 'not', 'be', 'productive', 'due', 'ability', 'switch', 'through', 'use', 'such', 'tor', 'and', 'please', 'investigate', 'environment', 'determine', 'running', 'version', 'application', 'targeted'], tags=['all_25344']),\n",
              " LabeledSentence(words=['see', 'attachment', 'description', 'does', 'not', 'show', 'the', 'correctly', 'for', 'master', 'but', 'me'], tags=['all_5377']),\n",
              " LabeledSentence(words=['ess', 'portal', 'received', 'from', 'hi', 'team', 'i', 'was', 'going', 'into', 'the', 'file', 'and', 'some', 'for', 'this', 'is', 'screen', 'that', 'up', 'on', 'my', 'report', 'button', 'when', 'am', 'logged', 'please', 'assist', 'in', 'getting', 'to', 'engineer'], tags=['all_26987']),\n",
              " LabeledSentence(words=['install', 'analysis', 'office', 'in', 'since', 'version', 'is', 'yes', 'team', 'please', 'and', 'set', 'up', 'hand', 'at', 'present', 'which', 'not', 'compatible', 'with', 'issue', 'best'], tags=['all_13061']),\n",
              " LabeledSentence(words=['are', 'unable', 'to', 'open', 'work', 'stand', 'open', 'engineering', 'tool', 'all', 'user', 'in', 'plant', 'people', 'no', 'error', 'message', 'contact', 'no'], tags=['all_24166']),\n",
              " LabeledSentence(words=['support', 'for', 'converted', 'ewe'], tags=['all_24428']),\n",
              " LabeledSentence(words=['no', 'access', 'to', 'engineering', 'tool', 'see', 'attached'], tags=['all_19262']),\n",
              " LabeledSentence(words=['worked', 'in', 'job', 'schedule', 'at', 'received', 'from'], tags=['all_29695']),\n",
              " LabeledSentence(words=['need', 'access', 'to', 'user', 'for', 'incident', 'system', 'other', 'enter', 'id', 'of', 'the', 'issue', 'transaction', 'needs', 'or', 'was', 'working', 'with', 'general', 'change', 'pro', 'describe', 'can', 'you', 'please', 'create', 'an', 'account', 'in', 'set', 'type', 'since', 'will', 'business', 'client', 'er', 'open', 'was', 'and', 'connection', 'also', 'they', 'would', 'active', 'directory', 'give', 'if', 'are', 'getting', 'a', 'not', 'authorized', 'message', 'recreate', 'condition', 'then', 'do', 'attach', 'result', 'ticketing', 'tool', 'ticket', 'external', 'provide', 'same', 'as', 'this', 'user'], tags=['all_5081']),\n",
              " LabeledSentence(words=['will', 'not', 'turns', 'on'], tags=['all_9534']),\n",
              " LabeledSentence(words=['unable', 'to', 'open', 'from', 'engineering', 'tool', 'because', 'opening', 'tool', 'below', 'error', 'process', 'fetch', 'system', 'error'], tags=['all_14765']),\n",
              " LabeledSentence(words=['company', 'center', 'added', 'help', 'with', 'a', 'item', 'please', 'add', 'to', 'my', 'and', 'on', 'account', 'i', 'accidently', 'the', 'provided', 'restore'], tags=['all_8277']),\n",
              " LabeledSentence(words=['error', 'system', 'the', 'module', 'was', 'not', 'found', 'druver', 'same', 'i', 'would', 'like', 'to', 'create', 'a', 'serial', 'letter', 'but', 'cannot', 'open', 'my', 'data', 'source', 'excel', 'list', 'ask', 'for', 'help', 'thank', 'you'], tags=['all_31066']),\n",
              " LabeledSentence(words=['performance', 'in', 'different', 'with', 'and', 'eu', 'tool', 'especially', 'several', 'eu', 'tool', 'the', 'search', 'see', 'attachment', 'almost', 'complete', 'day'], tags=['all_8610']),\n",
              " LabeledSentence(words=['evening', 'job', 'in', 'regular', 'job', 'received', 'from', 'job', 'schedule', 'job', 'at'], tags=['all_25382']),\n",
              " LabeledSentence(words=['and', 'perhaps', 'other', 'as', 'well', 'outlook', 'refusing', 'to', 'send', 'reply', 'many', 'a', 'new', 'will', 'send', 'but', 'up', 'with', 'not', 'error', 'this', 'be', 'happening', 'only', 'office', 'i', 'personally', 'am', 'got', 'from', 'mi', 'suspect', 'systemic', 'problem', 'company', 'high'], tags=['all_29322']),\n",
              " LabeledSentence(words=['were', 'been', 'informed', 'but', 'company', 'office', 'faced', 'the', 'problem', 'of', 'access', 'please', 'help', 'check', 'and', 'confirm', 'do', 'needful', 'on', 'below', 'request'], tags=['all_12988']),\n",
              " LabeledSentence(words=['intermittent', 'service', 'on', 'server', 'in', 'probably', 'a', 'restart', 'production', 'server', 'the', 'exception', 'and', 'internal', 'server', 'error', 'error', 'while', 'trying', 'to', 'invoke', 'method', 'of', 'null', 'object', 'loaded', 'from', 'local', 'variable', 'local', 'list', 'issue', 'can', 'be', 'a', 'company', 'customer', 'base', 'material', 'finishing', 'b', 'starting', 'scratch', 'i', 'select', 'product', 'platform', 'roughing', 'but', 'screen', 'c', 'language', 'different', 'en', 'de', 'we', 'had', 'this', 'already', 'two', 'times', 'before', 'it', 'always', 'is', 'good', 'contact', 'person', 'for', 'as', 'he', 'was', 'working', 'root', 'cause', 'with', 'our', 'external', 'vendor'], tags=['all_27319']),\n",
              " LabeledSentence(words=['is', 'not', 'working', 'unable', 'to', 'connect', 'setup', 'should', 'be', 'phone'], tags=['all_13842']),\n",
              " LabeledSentence(words=['no', 'accounting', 'for', 'nothing', 'are', 'please', 'help'], tags=['all_10721']),\n",
              " LabeledSentence(words=['job', 'hot', 'in', 'job', 'schedule', 'around', 'previously', 'from'], tags=['all_30908']),\n",
              " LabeledSentence(words=['as', 'soon', 'i', 'do', 'select', 'financial', 'or', 'financial', 'the', 'company', 'overall', 'value', 'get', 'no', 'data', 'found', 'contact', 'does', 'not', 'show', 'any', 'limit', 'time', 'sind', 'is', 'there', 'again', 'a', 'general', 'be', 'question', 'at', 'moment', 'need', 'to', 'create', 'my', 'upper', 'management', 'and', 'no', 'information', 'out', 'have', 'several', 'times', 'na', 'even', 'note', 'urgent', 'finally', 'review', 'tomorrow', 'morning', 'with', 'pull', 'bunch', 'of', 'data', 'checked', 'another', 'colleague', 'same', 'issue'], tags=['all_9412']),\n",
              " LabeledSentence(words=['network', 'outage', 'site', 'is', 'hard', 'down', 'at', 'on', 'no', 'backup', 'circuit', 'what', 'type', 'of', 'outage', 'x', 'network', 'circuit', 'power', 'please', 'specify', 'outage', 'top', 'no', 'when', 'did', 'it', 'going', 'maintenance', 'power', 'no', 'company', 'power', 'provider', 'network', 'maint', 'does', 'have', 'a', 'circuit', 'no', 'active', 'no', 'contact', 'notified', 'remote', 'dialing', 'na', 'equipment', 'reset', 'na', 'working', 'vendor', 'ticket', 'global', 'vendor', 'vendor', 'additional', 'diagnostics'], tags=['all_15913']),\n",
              " LabeledSentence(words=['shop', 'floor', 'record', 'error', 'operator', 'second', 'shift', 'machine', 'wag', 'grinding', 'process', 'cell', 'cannot', 'correctly', 'his', 'work', 'data', 'on', 'there', 'is', 'a', 'few', 'days', 'the', 'of', 'day', 'are', 'extended', 'to', 'next', 'as', 'if', 'they', 'had', 'not', 'been', 'closed'], tags=['all_5768']),\n",
              " LabeledSentence(words=['unable', 'to', 'create', 'please', 'providing', 'the', 'following', 'what', 'order', 'number', 'material', 'or', 'item', 'warehouse', 'location', 'plant', 'issue', 'description', 'error', 'message', 'cannot', 'run', 'although', 'stock'], tags=['all_8141']),\n",
              " LabeledSentence(words=['error', 'sa', 'tool', 'extract', 'receuved', 'up', 'i', 'cannot', 'run', 'the', 'tool', 'extract', 'an', 'error', 'best'], tags=['all_30296']),\n",
              " LabeledSentence(words=['on', 'the', 'dead', 'cell', 'is', 'a', 'technical', 'fault', 'request', 'missing'], tags=['all_2753']),\n",
              " LabeledSentence(words=['creation', 'error', 'since', 'we', 'have', 'many', 'that', 'multiple', 'assigned', 'to', 'their', 'profile', 'there', 'is', 'an', 'issue', 'when', 'they', 'add', 'new', 'create', 'related', 'the', 'future', 'selected', 'works', 'fine', 'change', 'and', 'exact', 'same', 'system', 'error', 'already', 'a', 'problem', 'as', 'user', 'cannot', 'recipient', 'address', 'for', 'different', 'duplication', 'check', 'should', 'only', 'be', 'done', 'against', 'of', 'currently'], tags=['all_21480']),\n",
              " LabeledSentence(words=['need', 'a', 'handset', 'mouse', 'for', 'my'], tags=['all_28062']),\n",
              " LabeledSentence(words=['they', 'unable', 'to', 'connect', 'the', 'network', 'in', 'server', 'is', 'also', 'not', 'reachable'], tags=['all_12550']),\n",
              " LabeledSentence(words=['create', 'quote', 'is', 'not', 'works', 'in', 'distributor', 'tool'], tags=['all_20681']),\n",
              " LabeledSentence(words=['production', 'wrong', 'number', 'of', 'process', 'but', 'found', 'at', 'time', 'glad'], tags=['all_16987']),\n",
              " LabeledSentence(words=['kindly', 'upgrade', 'paint', 'shop', 'and'], tags=['all_19781']),\n",
              " LabeledSentence(words=['when', 'giving', 'from', 'the', 'sent', 'show', 'up', 'in', 'my', 'personal', 'folder', 'contact', 'summary', 'and', 'not', 'business', 'folder', 'it', 'does', 'this', 'for', 'all', 'company', 'box'], tags=['all_23774']),\n",
              " LabeledSentence(words=['cisco', 'access', 'point', 'is', 'not', 'working', 'received', 'this', 'hall', 'mac', 'address'], tags=['all_13122']),\n",
              " LabeledSentence(words=['even', 'mouse', 'is', 'not', 'working', 'in', 'system'], tags=['all_13182']),\n",
              " LabeledSentence(words=['circuit', 'outage', 'south', 'is', 'down', 'at', 'am', 'on', 'what', 'type', 'of', 'network', 'x', 'circuit', 'power', 'please', 'specify', 'outage', 'top', 'site', 'no', 'when', 'did', 'it', 'start', 'maintenance', 'power', 'no', 'company', 'power', 'provider', 'network', 'maint', 'does', 'have', 'a', 'backup', 'maybe', 'active', 'yes', 'contact', 'notified', 'yes', 'remote', 'dialing', 'equipment', 'reset', 'working', 'vendor', 'ticket', 'global', 'vendor', 'vendor', 'additional', 'diagnostics'], tags=['all_17116']),\n",
              " LabeledSentence(words=['disk', 'space', 'utilization', 'alert', 'on', 'e', 'free', 'less', 'least', 'and', 'under', 'free', 'engineering', 'tooling'], tags=['all_23851']),\n",
              " LabeledSentence(words=['urgent', 'help', 'to', 'issue', 'received', 'from', 'hello', 'there', 'is', 'no', 'tab', 'in', 'my', 'outlook', 'ribbon', 'please', 'advise', 'did', 'channel', 'partner', 'specialist', 'company', 'p', 'office', 'm', 'technical', 'support'], tags=['all_1957']),\n",
              " LabeledSentence(words=['i', 'cannot', 'log', 'into', 'tried', 'the', 'computer', 'and', 'logging', 'one', 'get', 'a', 'blank', 'screen'], tags=['all_7083']),\n",
              " LabeledSentence(words=['not', 'able', 'to', 'add', 'id', 'as', 'printer', 'in', 'my', 'after', 'crash', 'system', 'up', 'an', 'error', 'cannot', 'printer'], tags=['all_13338']),\n",
              " LabeledSentence(words=['file', 'server', 'not', 'the', 'at', 'back', 'of', 'one', 'on', 'site', 'is', 'linking', 'part', 'plant', 'does', 'access', 'to', 'network', 'please', 'help', 'check', 'local', 'contact'], tags=['all_3457']),\n",
              " LabeledSentence(words=['system', 'out', 'received', 'from', 'hi', 'plant', 'encounter', 'down', 'due', 'to', 'this', 'issue', 'we', 'may', 'or', 'not', 'able', 'fulfill', 'local', 'for', 'today', 'it', 'depend', 'on', 'how', 'faster', 'the', 'will', 'be', 'up', 'i', 'have', 'raise', 'ticket', 'operation', 'supervisor', 'company', 'distribution', 'of'], tags=['all_29687']),\n",
              " LabeledSentence(words=['unable', 'to', 'access', 'map', 'above', 'builder'], tags=['all_9117']),\n",
              " LabeledSentence(words=['access', 'issue', 'system', 'other', 'enter', 'user', 'id', 'of', 'the', 'issue', 'transaction', 'should', 'or', 'was', 'working', 'with', 'can', 'understand', 'currently', 'does', 'not', 'have', 'to', 'view', 'please', 'upgrade', 'her', 'as', 'this', 'is', 'a', 'necessary', 'requirement', 'for', 'all', 'on', 'company', 'team', 'provide', 'same', 'user'], tags=['all_29382']),\n",
              " LabeledSentence(words=['computer', 'up', 'slow'], tags=['all_11555']),\n",
              " LabeledSentence(words=['i', 'cannot', 'provide', 'data', 'into', 'cannot', 'information', 'in', 'during', 'working', 'on', 'it', 'is', 'stopping', 'my', 'job', 'and', 'showing', 'that', 'kind', 'of', 'alert', 'which', 'have', 'attached', 'its', 'happening', 'from', 'yesterday', 'to', 'today', 'every', 'second', 'or', 'time', 'when', 'myself', 'starting', 'fill', 'data', 'this', 'worked', 'before', 'just'], tags=['all_21571']),\n",
              " LabeledSentence(words=['sent', 'from', 'shipping', 'tool', 'received', 'from', 'untheble', 'to', 'convert', 'a', 'order', 'for', 'this', 'item', 'also', 'create', 'production', 'error', 'message', 'both', 'times'], tags=['all_23066']),\n",
              " LabeledSentence(words=['locked', 'by', 'user', 'cannot', 'be', 'for', 'edit', 'as', 'it', 'to', 'place', 'the', 'by', 'is', 'within', 'status', 'all', 'main', 'seem', 'checked', 'in', 'so', 'please', 'unlock'], tags=['all_10676']),\n",
              " LabeledSentence(words=['alt', 'and', 'delete', 'are', 'not', 'working', 'alt', 'unable', 'to', 'login', 'dell', 'latitude', 'contact', 'no', 'user', 'click', 'on', 'easy', 'access', 'option', 'enable', 'type', 'without', 'key', 'banked', 'with', 'help', 'of', 'cursor', 'control', 'no', 'way', 'button', 'is'], tags=['all_23449']),\n",
              " LabeledSentence(words=['job', 'job', 'in', 'job', 'resume', 'at', 'received', 'from'], tags=['all_9470']),\n",
              " LabeledSentence(words=['work', 'hot', 'in', 'job', 'next', 'at', 'received', 'from'], tags=['all_29750']),\n",
              " LabeledSentence(words=['network', 'outage', 'russia', 'warehouse', 'is', 'down', 'since', 'am', 'on', 'what', 'type', 'of', 'x', 'network', 'circuit', 'power', 'please', 'specify', 'outage', 'top', 'site', 'no', 'when', 'did', 'it', 'start', 'am', 'maintenance', 'power', 'no', 'company', 'power', 'provider', 'network', 'no', 'maint', 'does', 'have', 'a', 'backup', 'circuit', 'no', 'active', 'na', 'contact', 'notified', 'remote', 'dialing', 'na', 'equipment', 'reset', 'no', 'working', 'na', 'vendor', 'get', 'global', 'vendor', 'vendor', 'additional', 'diagnostics'], tags=['all_15981']),\n",
              " LabeledSentence(words=['bring', 'platform', 'information', 'hello', 'the', 'user', 'accidentally', 'from', 'collaboration', 'platform', 'yesterday', 'is', 'possible', 'recover', 'this', 'information'], tags=['all_28274']),\n",
              " LabeledSentence(words=['setup', 'new', '\\\\'], tags=['all_6169']),\n",
              " LabeledSentence(words=['application', 'hand', 'prod', 'on', 'node', 'is', 'into', 'a', 'warning', 'state', 'load', 'high', 'for', 'that', 'service'], tags=['all_11348']),\n",
              " LabeledSentence(words=['analysis', 'not', 'working', 'to', 'run', 'my', 'quote', 'it', 'is', 'showing', 'in', 'tool', 'bar', 'when', 'i', 'try', 'open', 'through', 'business', 'problem', 'the', 'launcher', 'with', 'add', 'registered', 'correctly'], tags=['all_18824']),\n",
              " LabeledSentence(words=['hello', 'a', 'termination', 'for', 'beneficial', 'been', 'from', 'sent', 'am', 'make', 'subject', 'the', 'terminate', 'action', 'click', 'link', 'to', 'view', 'here'], tags=['all_30863']),\n",
              " LabeledSentence(words=['watching', 'antivirus', 'prod', 'node', 'at', 'is', 'down', 'since', 'on'], tags=['all_1854']),\n",
              " LabeledSentence(words=['circuit', 'outage', 'company', 'secondary', 'only', 'down', 'since', 'am', 'on', 'what', 'type', 'of', 'network', 'x', 'circuit', 'power', 'please', 'specify', 'outage', 'top', 'site', 'yes', 'when', 'did', 'it', 'start', 'maintenance', 'power', 'no', 'company', 'power', 'provider', 'network', 'maint', 'does', 'have', 'a', 'backup', 'yes', 'active', 'yes', 'contact', 'notified', 'no', 'remote', 'dialing', 'na', 'equipment', 'reset', 'no', 'working', 'yes', 'vendor', 'ticket', 'global', 'vendor', 'vendor', 'additional', 'diagnostics'], tags=['all_15996']),\n",
              " LabeledSentence(words=['outlook', 'frozen', 'for', 'all'], tags=['all_7341']),\n",
              " LabeledSentence(words=['job', 'in', 'job', 'resume', 'at', 'received', 'from'], tags=['all_8867']),\n",
              " LabeledSentence(words=['from', 'plant', 'warehouse', 'will', 'not', 'release', 'need', 'fixed', 'urgently', 'urgent', 'help', 'see', 'attached', 'document', 'example', 'order', 'missing', 'is', 'many', 'getting', 'error', 'when', 'trying', 'to', 'add', 'as', 'plant', 'i', 'have', 'checked', 'plant', 'plant', 'also', 'same', 'problem'], tags=['all_26033']),\n",
              " LabeledSentence(words=['logged', 'credential', 'for', 'new', 'please', 'create', 'below', 'user'], tags=['all_10439']),\n",
              " LabeledSentence(words=['mi', 'password', 'reset', 'unlock', 'account'], tags=['all_4449']),\n",
              " LabeledSentence(words=['received', 'from', 'good', 'evening', 'i', 'have', 'lost', 'my', 'login', 'icon', 'can', 'this', 'be'], tags=['all_3603']),\n",
              " LabeledSentence(words=['i', 'cannot', 'have', 'preview', 'of', 'in', 'explorer', 'just', 'sure'], tags=['all_19617']),\n",
              " LabeledSentence(words=['do', 'not', 'receive', 'information', 'received', 'from', 'hi', 'team', 'i', 'originally', 'about', 'this', 'at', 'the', 'start', 'of', 'august', 'and', 'nothing', 'been', 'currently', 'anything', 'for', 'now', 'have', 'tried', 'to', 'log', 'into', 'ethics', 'via', 'collaboration', 'platform', 'following', 'error', 'message', 'welcome', 'company', 'business', 'conduct', 'center', 'ethics', 'training', 'site', 'our', 'indicate', 'that', 'login', 'you', 'used', 'access', 'site', 'from', 'company', 'match', 'we', 'on', 'file', 'within', 'active', 'directory', 'please', 'submit', 'a', 'ticket', 'global', 'support', 'ensure', 'your', 'network', 'id', 'is', 'correctly', 'can', 'assist', 'in', 'setting', 'up', 'these'], tags=['all_9662']),\n",
              " LabeledSentence(words=['job', 'job', 'in', 'job', 'schedule', 'around', 'received', 'from'], tags=['all_6553']),\n",
              " LabeledSentence(words=['user', 'cannot', 'create', 'out', 'of', 'punch', 'now', 'he', 'get', 'the', 'right', 'document', 'type', 'but', 'several', 'other', 'wrong', 'material', 'group', 'is', 'shown', 'instead', 'default', 'should', 'be', 'select', 'in', 'accounting', 'there', 'as', 'default', 'for', 'him', 'order', 'and', 'account', 'does', 'not', 'come', 'up', 'automatically', 'got', 'information', 'that', 'all', 'this', 'plant', 'had', 'i', 'will', 'a', 'mail', 'colleague', 'with', 'person', 'who', 'issue', 'add', 'it', 'soon', 'have', 'mail'], tags=['all_4890']),\n",
              " LabeledSentence(words=['access', 'point', 'defeat'], tags=['all_2821']),\n",
              " LabeledSentence(words=['remotely', 'malfunction', 'the', 'operating', 'system', 'of', 'the', 'by', 'tensile', 'testing', 'machine', 'quality', 'control', 'department', 'very', 'slowly', 'and', 'was', 'lost'], tags=['all_15923']),\n",
              " LabeledSentence(words=['i', 'can', 'get', 'into', 'my', 'computer', 'an', 'error', 'no', 'register'], tags=['all_29450']),\n",
              " LabeledSentence(words=['change', 'the', 'folder', 'in', 'box', 'and', 'becomes', 'a', 'every', 'day', 'office', 'to', 'update'], tags=['all_17749']),\n",
              " LabeledSentence(words=['external', 'monsomethingor', 'will', 'not', 'stay', 'on', 'it', 'briefly', 'then', 'goes', 'out'], tags=['all_12958']),\n",
              " LabeledSentence(words=['bend', 'batch', 'job', 'job', 'in', 'job', 'schedule', 'at'], tags=['all_4457']),\n",
              " LabeledSentence(words=['please', 'ensure', 'access', 'received', 'from', 'i', 'need', 'to', 'the', 'following', 'path', 'there', 'for', 'approval', 'company', 'plant', 'controller'], tags=['all_28580']),\n",
              " LabeledSentence(words=['audio', 'issue', 'in', 'dell', 'language', 'explorer', 'customer', 'number', 'telephone', 'summary', 'cannot', 'get', 'the', 'volume', 'up', 'high', 'enough', 'it', 'was', 'well', 'yesterday', 'now', 'not', 'enough', 'for', 'conference'], tags=['all_21229']),\n",
              " LabeledSentence(words=['primary', 'telephone', 'flow', 'down', 'company', 'eu', 'plant', 'hello', 'from', 'same', 'mail', 'for', 'inform', 'that', 'we', 'have', 'all', 'incoming', 'and', 'external', 'are', 'not', 'running', 'i', 'a', 'to', 'investigate', 'the', 'problem', 'no'], tags=['all_17960']),\n",
              " LabeledSentence(words=['please', 'send', 'expense', 'report', 'to', 'for', 'approve', 'manually', 'approval', 'its', 'stuck', 'w', 'due', 'relationship'], tags=['all_13050']),\n",
              " LabeledSentence(words=['unable', 'to', 'install', 'engineering', 'engineering', 't'], tags=['all_3264']),\n",
              " LabeledSentence(words=['user', 'unable', 'to', 'hotel', 'advised', 'the', 'shut', 'down', 'for', 'sec', 'and', 'restart', 'device', 'network', 'center', 'connection', 'caller', 'confirmed', 'that', 'he', 'was', 'able', 'login', 'issue', 'resolved'], tags=['all_5027']),\n",
              " LabeledSentence(words=['cache', 'production', 'service', 'is', 'down', 'since', 'am', 'on'], tags=['all_6356']),\n",
              " LabeledSentence(words=['customer', 'are', 'not', 'printing', 'the', 'tax', 'amount', 'on', 'received', 'from', 'user', 'cannot', 'log', 'into', 'his', 'engineering', 'muchl', 'and', 'too', 'many', 'incorrect', 'login', 'engineering', 'engineering', 'unable', 'to', 'contact', 'server', 'i', 'suspect', 'is', 'blocked', 'from', 'these', 'due', 'too', 'login', 'did', 'recently', 'password'], tags=['all_21681']),\n",
              " LabeledSentence(words=['system', 'monitor', 'resolution', 'problem', 'be', 'able', 'to', 'set', 'x'], tags=['all_17211']),\n",
              " LabeledSentence(words=['need', 'to', 'be', 'repair'], tags=['all_6338']),\n",
              " LabeledSentence(words=['there', 'lan', 'an', 'we'], tags=['all_6801']),\n",
              " LabeledSentence(words=['host', 'is', 'disconnected', 'within', 'sphere'], tags=['all_19621']),\n",
              " LabeledSentence(words=['incorrect', 'message', 'in', 'message', 'object', 'notification', 'business', 'operation', 'not', 'your', 'user', 'master'], tags=['all_26190']),\n",
              " LabeledSentence(words=['engineering', 'tool', 'issue', 'from', 'sent', 'to', 'subject', 'dear', 'please', 'find', 'below', 'the', 'of', 'face', 'during', 'help', 'me', 'to', 'resolve', 'same'], tags=['all_6918']),\n",
              " LabeledSentence(words=['account', 'locked', 'out', 'on', 'be'], tags=['all_3140']),\n",
              " LabeledSentence(words=['with', 'lan', 'on', 'the', 'computer', 'there', 'essay'], tags=['all_19168']),\n",
              " LabeledSentence(words=['network', 'multiple', 'are', 'running', 'slow', 'how', 'did', 'you', 'determine', 'there', 'all', 'system', 'very', 'slowly', 'is', 'only', 'slow', 'please', 'use', 'the', 'easy', 'ticket', 'within', 'folder', 'if', 'no', 'more', 'than', 'one', 'impacted', 'yes', 'what', 'server', 'on', 'server', 'name', 'in', 'status', 'bar', 'at', 'bottom', 'right', 'of', 'your', 'screen', 'eu', 'tool', 'do', 'other', 'also', 'notice', 'response', 'times', 'yes', 'many', 'plant', 'eu', 'tool', 'print', 'create', 'delivery'], tags=['all_22218']),\n",
              " LabeledSentence(words=['user', 'help', 'to', 'login', 'connected', 'the', 'system', 'help', 'issue', 'resolved'], tags=['all_5732']),\n",
              " LabeledSentence(words=['is', 'up', 'since', 'on', 'l', 'connection', 'to', 'top'], tags=['all_15505']),\n",
              " LabeledSentence(words=['at', 'south', 'with', 'light', 'linking', 'is', 'showing', 'orange', 'front', 'panel', 'please', 'see', 'attach', 'file'], tags=['all_13540']),\n",
              " LabeledSentence(words=['phone', 'display', 'from', 'judo', 'sent', 'august', 'am', 'to', 'facility', 'subject', 'amar', 'regard', 'hi', 'we', 'are', 'forwarding', 'your', 'request', 'to', 'the', 'help', 'desk', 'it', 'desk', 'is', 'contact', 'for', 'any'], tags=['all_26008']),\n",
              " LabeledSentence(words=['job', 'tool', 'prod', 'full', 'in', 'job', 'next', 'at', 'received', 'this'], tags=['all_29181']),\n",
              " LabeledSentence(words=['not', 'working', 'received', 'from', 'hi', 'there', 'i', 'tried', 'to', 'use', 'my', 'but', 'it', 'still', 'loading', 'after', 'have', 'the', 'office', 'check', 'can', 'you', 'help', 'fix', 'that'], tags=['all_4311']),\n",
              " LabeledSentence(words=['wrongful', 'tool', 'received', 'from', 'good', 'morning', 'their', 'customer', 'was', 'for', 'a', 'sample', 'line', 'that', 'as', 'no', 'charge', 'in', 'i', 'will', 'be', 'issuing', 'credit', 'to', 'the', 'customer', 'amount', 'but', 'can', 'you', 'tell', 'me', 'why', 'it', 'begin', 'with', 'best'], tags=['all_8599']),\n",
              " LabeledSentence(words=['scanning', 'does', 'be', 'work', 'for', 'the', 'public', 'with', 'printer', 'work'], tags=['all_24318']),\n",
              " LabeledSentence(words=['urgent', 'in', 'are', 'that', 'tnevery', 'cannot', 'beyond', 'so', 'the', 'chat', 'feature', 'he', 'and', 'his', 'unable', 'to', 'chat', 'when', 'fill', 'out', 'form', 'next', 'page', 'comes', 'up', 'only', 'with', 'company'], tags=['all_28804']),\n",
              " LabeledSentence(words=['removing', 'from', 'of', 'requisition', 'approval', 'approval', 'i', 'get', 'repeat', 'for', 'purchase', 'but', 'they', 'have', 'been', 'long', 'ago'], tags=['all_17929']),\n",
              " LabeledSentence(words=['manager', 'in', 'business', 'explorer', 'the', 'following', 'cannot', 'sure', 'please', 'check', 'them', 'security', 'and', 'with', 'respect', 'to', 'bob'], tags=['all_28345']),\n",
              " LabeledSentence(words=['unable', 'to', 'generate', 'po', 'as', 'per', 'were', 'found', 'the', 'error', 'when', 'generating', 'attached', 'please', 'help', 'fixing', 'this', 'concern'], tags=['all_23527']),\n",
              " LabeledSentence(words=['plant', 'depreciation', 'issue', 'received', 'from', 'dear', 'i', 'find', 'a', 'gap', 'between', 'report', 'and', 'asset', 'balance', 's', 'all', 'in', 'for', 'cost', 'center', 'we', 'only', 'add', 'two', 'so', 'the', 'should', 'be', 'increase', 'but', 'when', 'run', 'can', 'you', 'give', 'me', 'some', 'idea', 'about', 'this'], tags=['all_3907']),\n",
              " LabeledSentence(words=['the', 'network', 'cthenection', 'lost', 'at', 'am', 'in', 'time', 'been', 'going', 'on', 'could', 'you', 'check', 'reason'], tags=['all_14145']),\n",
              " LabeledSentence(words=['account', 'unlock', 'for'], tags=['all_3536']),\n",
              " LabeledSentence(words=['disable', 'for', 'password', 'management', 'tool', 'password', 'reset', 'please', 'password'], tags=['all_7830']),\n",
              " LabeledSentence(words=['working', 'job', 'b', 'in', 'job', 'schedule', 'at', 'received', 'from'], tags=['all_14788']),\n",
              " LabeledSentence(words=['reset', 'for', 'password', 'management', 'tool', 'password', 'reset', 'was', 'but', 'be', 'not', 'allow', 'production'], tags=['all_20657']),\n",
              " LabeledSentence(words=['and', 'and', 'external', 'monitor', 'new', 'desk', 'space'], tags=['all_15011']),\n",
              " LabeledSentence(words=['network', 'outage', 'site', 'hard', 'down', 'since', 'at', 'no', 'backup', 'circuit', 'what', 'type', 'one', 'x', 'network', 'circuit', 'power', 'please', 'specify', 'outage', 'top', 'no', 'when', 'did', 'it', 'start', 'maintenance', 'power', 'no', 'company', 'power', 'provider', 'network', 'maint', 'does', 'have', 'a', 'circuit', 'no', 'active', 'na', 'contact', 'notified', 'remote', 'dialing', 'na', 'equipment', 'reset', 'na', 'working', 'on', 'na', 'vendor', 'ticket', 'global', 'vendor', 'vendor', 'vendor', 'additional', 'diagnostics'], tags=['all_17761']),\n",
              " LabeledSentence(words=['new', 'cannot', 'connect', 'to', 'one', 'reader', 'via', 'port'], tags=['all_25518']),\n",
              " LabeledSentence(words=['well', 'notion', 'order'], tags=['all_22261']),\n",
              " LabeledSentence(words=['access', 'issue', 'reset', 'password', 'for', 'system', 'other', 'enter', 'user', 'id', 'of', 'the', 'issue', 'transaction', 'need', 'or', 'was', 'working', 'with', 'describe', 'if', 'you', 'are', 'getting', 'a', 'not', 'authorized', 'message', 'recreate', 'condition', 'then', 'do', 'and', 'attach', 'result', 'to', 'ticketing', 'tool', 'ticket', 'provide', 'same', 'as', 'this', 'user'], tags=['all_7765']),\n",
              " LabeledSentence(words=['machine', 'is', 'not', 'clear', 'to', 'there', 'thick', 'black', 'ink', 'on', 'the', 'machine', 'please', 'help', 'check', 'it', 'hope', 'you'], tags=['all_22025']),\n",
              " LabeledSentence(words=['eu', 'tool', 'not', 'working', 'the', 'work', 'been', 'with', 'system', 'to', 'a', 'standstill', 'it', 'you', 'be', 'assumed', 'then', 'machine', 'operator', 'no', 'longer', 'normal', 'maintenance', 'without', 'stopping', 'are'], tags=['all_13160']),\n",
              " LabeledSentence(words=['foreign', 'trade', 'data', 'missing', 'dear', 'but', 'team', 'i', 'checked', 'this', 'morning', 'unfortunately', 'there', 'are', 'still', 'where', 'do', 'not', 'know', 'what', 'to', 'do', 'can', 'you', 'please', 'check', 'tool', 'error', 'and', 'the', 'data', 'but', 'is', 'coming', 'as', 'we', 'have', 'end', 'need', 'fix', 'today'], tags=['all_23991']),\n",
              " LabeledSentence(words=['china', 'and', 'multiple', 'went', 'down', 'around', 'am', 'on', 'job', 'name'], tags=['all_22878']),\n",
              " LabeledSentence(words=['system', 'is', 'account', 'cannot', 'log', 'in', 'to', 'the', 'system', 'please', 'provide', 'of', 'issue', 'the', 'account'], tags=['all_5250']),\n",
              " LabeledSentence(words=['expense', 'posting', 'not', 'from', 'to', 'for', 'fund', 'id', 'and', 'budget', 'affected', 'are', 'below'], tags=['all_25866']),\n",
              " LabeledSentence(words=['what', 'is', 'this', 'trailing', 'mail'], tags=['all_4923']),\n",
              " LabeledSentence(words=['job', 'payroll', 'na', 'u', 'in', 'job', 'schedule', 'as', 'received', 'to'], tags=['all_27153']),\n",
              " LabeledSentence(words=['create', 'object', 'for', 'account', 'plant', 'to', 'do', 'delivery', 'is', 'not', 'possible', 'error', 'below', 'an', 'assignment', 'a', 'message', 'no', 'condition', 'you', 'have', 'defined', 'that', 'relevant', 'cost', 'accounting', 'system', 'response', 'as', 'element', 'this', 'must', 'always', 'specify', 'assignment', 'procedure', 'enter', 'one', 'of', 'the', 'following', 'order', 'center', 'center', 'activity', 'type', 'item', 'for', 'project', 'or', 'relevant', 'was', 'element', 'process', 'network', 'network', 'business', 'process', 'profitability', 'segment', 'real', 'estate', 'posting', 'row', 'affected'], tags=['all_11345']),\n",
              " LabeledSentence(words=['received', 'from', 'printer', 'defective', 'thbe', 'communication', 'is', 'intended', 'solely', 'for', 'the', 'use', 'of', 'and', 'may', 'contain', 'information', 'that', 'confidential', 'worthy', 'protection', 'or', 'from', 'disclosure', 'under', 'applicable', 'law', 'distribution', 'distribution', 'reproduction', 'by', 'other', 'than', 'strictly', 'if', 'you', 'have', 'message', 'mistake', 'please', 'notify', 'sender', 'delete', 'message', 'company', 'select', 'following', 'link', 'to', 'view', 'disclaimer', 'in', 'an', 'alternate', 'language'], tags=['all_19298']),\n",
              " LabeledSentence(words=['looking', 'in', 'job', 'schedule', 'time', 'received', 'from'], tags=['all_29519']),\n",
              " LabeledSentence(words=['error', 'with', 'engineering', 'tool', 'play', 'and', 'company', 'hi', 'team', 'i', 'need', 'your', 'help', 'two', 'the', 'tool', 'attachment', 'in', 'ticket', 'error', 'computer', 'if', 'you', 'already', 'more', 'please', 'please', 'me'], tags=['all_29914']),\n",
              " LabeledSentence(words=['newly', 'employee', 'phone', 'number'], tags=['all_18837']),\n",
              " LabeledSentence(words=['engineering', 'tool', 'issue', 'high', 'importance', 'received', 'from', 'i', 'several', 'a', 'couple', 'of', 'days', 'ago', 'and', 'now', 'it', 'will', 'not', 'let', 'me', 'create', 'the', 'report', 'need', 'this', 'resolved'], tags=['all_10987']),\n",
              " LabeledSentence(words=['access', 'received', 'from', 'dear', 'men', 'and', 'i', 'need', 'to', 'may'], tags=['all_30716']),\n",
              " LabeledSentence(words=['create', 'a', 'purchase', 'requisition', 'with', 'does', 'not', 'work', 'any', 'much', 'i', 'got', 'following', 'error', 'massage', 'action', 'could', 'be', 'no', 'data', 'found', 'for', 'employee', 'inform', 'system', 'administrator'], tags=['all_21386']),\n",
              " LabeledSentence(words=['job', 'job', 'in', 'job', 'schedule', 'at', 'sent', 'from'], tags=['all_8115']),\n",
              " LabeledSentence(words=['want', 'to', 'make', 'sure', 'if', 'is', 'in', 'maintenance', 'right', 'now', 'language', 'explorer', 'customer', 'number', 'telephone', 'connect', 'company', 'server'], tags=['all_2049']),\n",
              " LabeledSentence(words=['multiple', 'display', 'not', 'working'], tags=['all_4464']),\n",
              " LabeledSentence(words=['need', 'help', 'one', 'of', 'my', 'team', 'password'], tags=['all_1268']),\n",
              " LabeledSentence(words=['forwarding', 'received', 'from', 'left', 'company', 'facility', 'on', 'i', 'am', 'assuming', 'partial', 'for', 'can', 'you', 'please', 'set', 'down', 'any', 'to', 'my', 'address', 'advise', 'if', 'there', 'is', 'anything', 'else', 'part', 'or', 'manager'], tags=['all_20122']),\n",
              " LabeledSentence(words=['outlook', 'spell', 'check', 'error', 'repeated', 'issue', 'received', 'from', 'warm'], tags=['all_5721']),\n",
              " LabeledSentence(words=['job', 'payroll', 'na', 'u', 'in', 'job', 'schedule', 'as', 'received', 'from'], tags=['all_6562']),\n",
              " LabeledSentence(words=['expense', 'recent', 'issue', 'getting', 'alert', 'in', 'report', 'attached', 'please', 'change', 'cost', 'center', 'for', 'user'], tags=['all_20978']),\n",
              " LabeledSentence(words=['device', 'generating', 'a', 'high', 'volume', 'of', 'repeat', 'outbound', 'connection', 'for', 'in', 'we', 'are', 'seeing', 'your', 'traffic', 'blocked', 'from', 'to', 'port', 'remote', 'procedure', 'call', 'external', 'host', 'this', 'may', 'indicate', 'misconfiguration', 'where', 'the', 'is', 'blocking', 'legitimate', 'also', 'reaching', 'out', 'malicious', 'or', 'worm', 'code', 'incident', 'you', 'via', 'medium', 'priority', 'ticket', 'and', 'per', 'our', 'default', 'event', 'handling', 'if', 'would', 'like', 'us', 'handle', 'these', 'differently', 'in', 'future', 'see', 'below', 'have', 'any', 'further', 'please', 'let', 'know', 'either', 'by', 'corresponding', 'back', 'soc', 'calling', 'at', 'fully', 'login', 'failure', 'explicit', 'notification', 'phone', 'call', 'automatically', 'resolve', 'directly', 'portal', 'no', 'explicit', 'but', 'will', 'be', 'available', 'portal', 'sincerely', 'soc'], tags=['all_25184']),\n",
              " LabeledSentence(words=['can', 'not', 'do', 'z', 'for', 'to', 'with', 'received', 'from', 'dear', 'it', 'what', 'use', 'want', 'to', 'confirm', 'but', 'below', 'error', 'help', 'check', 'fix'], tags=['all_25097']),\n",
              " LabeledSentence(words=['interface', 'on', 'is', 'down', 'since', 'am', 'logged', 'to', 'switch', 'found', 'interface', 'down', 'edit', 'line', 'protocol', 'country'], tags=['all_21227']),\n",
              " LabeledSentence(words=['we', 'just', 'an', 'error', 'send', 'message', 'register', 'in', 'the', 'network', 'not', 'all', 'can', 'be', 'wait', 'a', 'moment'], tags=['all_29495']),\n",
              " LabeledSentence(words=['to', 'recover', 'folder', 'that', 'by', 'mistake', 'copied', 'x', 'drive', 'i', 'want'], tags=['all_152']),\n",
              " LabeledSentence(words=['collaboration', 'platform', 'access', 'not', 'going', 'the', 'received', 'from', 'to', 'the', 'concerned', 'i', 'am', 'unable', 'collaboration', 'platform', 'please', 'resolve', 'it', 'at'], tags=['all_11237']),\n",
              " LabeledSentence(words=['received', 'from', 'i', 'am', 'a', 'discount', 'here', 'is', 'the', 'screen', 'getting'], tags=['all_5890']),\n",
              " LabeledSentence(words=['no', 'access', 'from', 'department', 'ce', 'to', 'ie', 'contact'], tags=['all_15260']),\n",
              " LabeledSentence(words=['it', 'help', 'sent', 'from', 'hello', 'team', 'can', 'you', 'open', 'a', 'ticket', 'to', 'be', 'assigned', 'forth', 'i', 'need', 'with', 'excel', 'and'], tags=['all_24267']),\n",
              " LabeledSentence(words=['web', 'prod', 'al', 'service', 'is', 'down', 'down', 'al', 'wrong', 'number', 'of', 'process', 'al', 'found'], tags=['all_6358']),\n",
              " LabeledSentence(words=['i', 'need', 'removed', 'from', 'my', 'profile', 'in', 'the', 'new', 'single', 'either', 'on', 'and', 'yet', 'still', 'it', 'affected', 'number', 'outlook', 'as', 'well', 'anyone', 'who', 'me', 'their', 'contact', 'list', 'only', 'that', 'should', 'be', 'associated', 'with', 'is', 'if', 'you', 'do', 'an', 'employee', 'search', 'will', 'see', 'number'], tags=['all_9547']),\n",
              " LabeledSentence(words=['error', 'when', 'in', 'received', 'from', 'good', 'morning', 'as', 'with', 'i', 'send', 'of', 'error', 'message', 'that', 'shopping', 'contact'], tags=['all_22668']),\n",
              " LabeledSentence(words=['when', 'customer', 'service', 'an', 'order', 'for', 'they', 'get', 'the', 'error', 'office', 'not', 'valid', 'flat', 'low', 'this', 'is', 'a', 'company', 'account', 'with', 'few', 'on', 'shipping', 'was', 'to', 'ground', 'and', 'default', 'carrier', 'bob', 'that', 'i', 'ticket', 'his', 'i', 'believe', 'some', 'logic', 'added', 'so', 'infrastructure', 'would', 'try', 'use', 'rate', 'but', 'should', 'definitely', 'be', 'there', 'have', 'copied', 'input', 'in', 'can', 'you', 'please', 'enter', 'ticket', 'it', 'corrected', 'able', 'table'], tags=['all_16392']),\n",
              " LabeledSentence(words=['error', 'sa', 'tool', 'extract', 'receive', 'from', 'i', 'cannot', 'run', 'the', 'tool', 'extract', 'an', 'error', 'best'], tags=['all_7675']),\n",
              " LabeledSentence(words=['circuit', 'outage', 'at', 'since', 'am', 'site', 'is', 'up', 'primary', 'circuit', 'what', 'type', 'of', 'outage', 'network', 'x', 'circuit', 'power', 'please', 'specify', 'outage', 'top', 'yes', 'when', 'did', 'it', 'start', 'maintenance', 'power', 'no', 'company', 'power', 'provider', 'network', 'no', 'maint', 'does', 'have', 'a', 'backup', 'yes', 'active', 'yes', 'contact', 'notified', 'yes', 'remote', 'dialing', 'equipment', 'reset', 'working', 'yes', 'vendor', 'ticket', 'global', 'vendor', 'vendor', 'additional', 'diagnostics'], tags=['all_24190']),\n",
              " LabeledSentence(words=['of', 'monthly', 'able', 'hand', 'tables'], tags=['all_19880']),\n",
              " LabeledSentence(words=['i', 'cannot', 'access', 'same', 'dob', 'report', 'was', 'able', 'to', 'this', 'before', 'need', 'report', 'for', 'global', 'business'], tags=['all_8948']),\n",
              " LabeledSentence(words=['configure', 'new', 'step', 'bird'], tags=['all_16202']),\n",
              " LabeledSentence(words=['unable', 'to', 'do', 'for', 'given', 'from', 'dear', 'it', 'help', 'check', 'we', 'this'], tags=['all_19699']),\n",
              " LabeledSentence(words=['i', 'am', 'to', 'stock', 'in', 'another', 'plant', 'the', 'deliver', 'plant', 'of', 'plant', 'but', 'it', 'will', 'not', 'there', 'summary'], tags=['all_3626']),\n",
              " LabeledSentence(words=['with', 'company', 'business', 'mailbox'], tags=['all_4399']),\n",
              " LabeledSentence(words=['reset', 'my', 'password', 'request', 'you', 'to', 'and', 'send', 'it', 'across'], tags=['all_1753']),\n",
              " LabeledSentence(words=['manually', 'for', 'car', 'password', 'management', 'tool', 'password', 'reset', 'the'], tags=['all_13085']),\n",
              " LabeledSentence(words=['with', 'eu', 'easy'], tags=['all_8653']),\n",
              " LabeledSentence(words=['ie', 'user', 'is', 'with', 'his', 'explorer', 'the', 'page', 'refreshing', 'and', 'up', 'a', 'all', 'error'], tags=['all_17702']),\n",
              " LabeledSentence(words=['checked'], tags=['all_25233']),\n",
              " LabeledSentence(words=['job', 'job', 'd', 'in', 'job', 'schedule', 'at', 'given', 'from'], tags=['all_7905']),\n",
              " LabeledSentence(words=['network', 'outage', 'russia', 'warehouse', 'is', 'down', 'since', 'on', 'what', 'type', 'of', 'x', 'network', 'circuit', 'power', 'please', 'specify', 'outage', 'top', 'site', 'no', 'when', 'did', 'it', 'start', 'maintenance', 'power', 'no', 'company', 'power', 'provider', 'network', 'maint', 'does', 'have', 'a', 'backup', 'circuit', 'no', 'active', 'na', 'contact', 'notified', 'remote', 'dialing', 'na', 'equipment', 'reset', 'no', 'working', 'na', 'vendor', 'ticket', 'global', 'vendor', 'vendor', 'additional', 'diagnosis'], tags=['all_14007']),\n",
              " LabeledSentence(words=['plant', 'depreciation', 'issue', 'received', 'from', 'dear', 'i', 'find', 'a', 'gap', 'between', 'report', 'and', 'asset', 'balance', 's', 'all', 'in', 'making', 'cost', 'center', 'we', 'only', 'add', 'two', 'so', 'the', 'should', 'be', 'increase', 'but', 'when', 'run', 'can', 'you', 'give', 'me', 'some', 'idea', 'about', 'this'], tags=['all_23178']),\n",
              " LabeledSentence(words=['order', 'issue', 'please', 'look', 'at', 'sale', 'from', 'and', 'the', 'went', 'to', 'showing', 'did', 'not', 'change', 'review', 'possible', 'maybe', 'batch'], tags=['all_1626']),\n",
              " LabeledSentence(words=['please', 'check', 'from', 'delivery', 'note'], tags=['all_2826']),\n",
              " LabeledSentence(words=['production', 'password', 'reset', 'language', 'explorer', 'customer', 'number', 'telephone', 'out', 'of', 'on', 'too', 'many', 'tried', 'to', 'use', 'what', 'i', 'know', 'is', 'my', 'but', 'it', 'wont', 'let', 'me', 'may', 'be', 'due', 'access', 'request', 'ticket', 'no'], tags=['all_4197']),\n",
              " LabeledSentence(words=['job', 'job', 'in', 'job', 'resume', 'at', 'receive', 'from'], tags=['all_29234']),\n",
              " LabeledSentence(words=['web', 'prod', 'al', 'service', 'be', 'down', 'down', 'al', 'wrong', 'number', 'of', 'process', 'al', 'found'], tags=['all_26771']),\n",
              " LabeledSentence(words=['login', 'concern', 'connected', 'to', 'the', 'user', 'system', 'user', 'is', 'on', 'company', 'network', 'when', 'its', 'him', 'a', 'error'], tags=['all_20537']),\n",
              " LabeledSentence(words=['information', 'restore', 'the', 'from', 'external', 'hard', 'disk', 'to'], tags=['all_16992']),\n",
              " LabeledSentence(words=['engineering', 'tool', 'beginning', 'error', 'post', 'login', 'screen', 'attached', 'to', 'the', 'version', 'and', 'bit', 'install', 'from', 'data', 'folder', 'retired', 'install', 'still', 'no', 'go', 'ability', 'system', 'with', 'same', 'id', 'password', 'please', 'contact', 'get', 'access', 'this', 'new'], tags=['all_24814']),\n",
              " LabeledSentence(words=['half', 'the', 'on', 'my', 'are', 'gone', 'after', 'a', 'and', 'been', 'applied'], tags=['all_24525']),\n",
              " LabeledSentence(words=['unable', 'to', 'connect', 'expense', 'reimbursement', 'page', 'load'], tags=['all_1893']),\n",
              " LabeledSentence(words=['when', 'i', 'create', 'a', 'recurring', 'appointment', 'in', 'get', 'an', 'error', 'record', 'is', 'otherwise', 'unavailable', 'this', 'see', 'attachment'], tags=['all_13990']),\n",
              " LabeledSentence(words=['i', 'can', 'not', 'create', 'a', 'delivery', 'order', 'number', 'error', 'sending', 'server'], tags=['all_20614']),\n",
              " LabeledSentence(words=['discount', 'form', 'issue', 'from', 'sent', 'to', 'subject', 'amar', 're', 'con', 'team', 'please', 'help', 'me', 'check', 'collaboration', 'platform', 'he', 'is', 'getting', 'this', 'error', 'with', 'the', 'tool', 'we', 'already', 'to', 'isd', 'its', 'not', 'an'], tags=['all_20570']),\n",
              " LabeledSentence(words=['for', 'issue', 'received', 'from', 'we', 'had', 'a', 'schedule', 'agreement', 'about', 'which', 'request', 'delivery', 'time', 'is', 'in', 'and', 'the', 'stocks', 'will', 'meet', 'our', 'agreement', 'but', 'there', 'plant', 'then', 'it', 'took', 'all', 'current', 'plant', 'stock', 'only', 'confirmed', 'us', 'as', 'below', 'cannot', 'demand', 'so', 'want', 'to', 'check', 'what', 'rule', 'confirm', 'date', 'why', 'stock', 'back', 'order', 'not', 'previous', 'order', 'bee'], tags=['all_20812']),\n",
              " LabeledSentence(words=['printer', 'em', 'no', 'longer', 'works', 'despite', 'several', 'print', 'other', 'hesitate', 'also', 'install', 'em'], tags=['all_11475']),\n",
              " LabeledSentence(words=['please', 'delete', 'the', 'attached', 'series', 'of', 'meeting', 'was', 'by', 'a', 'former', 'employee', 'organizer', 'subject', 'from', 'sent', 'august', 'am', 'to', 'froth', 'when', 'every', 'effective', 'until', 'from', 'to', 'eastern', 'time', 'us', 'canada', 'where'], tags=['all_20716']),\n",
              " LabeledSentence(words=['ticket', 'no', 'register', 'ie', 'tax', 'code', 'in', 'received', 'from', 'hey', 'any', 'status', 'on', 'this'], tags=['all_8445']),\n",
              " LabeledSentence(words=['modify', 'to', 'calculate', 'full', 'instead', 'of', 'delta', 'the', 'current', 'team', 'a', 'value', 'and', 'it', 'in', 'previous', 'period', 'get', 'this', 'needs', 'be', 'calculating', 'delta', 'procedure', 'will', 'true', 'number', 'by', 'retroactively', 'all', 'direct', 'revenue', 'well'], tags=['all_21560']),\n",
              " LabeledSentence(words=['since', 'server', 'not', 'requirement'], tags=['all_18493']),\n",
              " LabeledSentence(words=['access', 'issue', 'access', 'user', 'id', 'got', 'locked', 'system', 'other', 'enter', 'of', 'the', 'transaction', 'needs', 'or', 'was', 'working', 'with', 'describe', 'issue', 'locked', 'please', 'release', 'if', 'you', 'are', 'getting', 'a', 'not', 'authorized', 'message', 'recreate', 'condition', 'then', 'do', 'and', 'attach', 'result', 'to', 'kiosk', 'tool', 'ticket', 'provide', 'same', 'as', 'this', 'user'], tags=['all_24201']),\n",
              " LabeledSentence(words=['customer', 'i', 'cannot', 'select', 'the', 'and', 'edit', 'it', 'see', 'picture', 'below', 'there', 'is', 'no', 'button', 'for', 'new', 'or', 'you', 'which', 'we', 'had', 'in', 'previous', 'select', 'not', 'active'], tags=['all_10130']),\n",
              " LabeledSentence(words=['time', 'recording', 'is', 'not', 'working', 'eu', 'tool', 'unable', 'to', 'connect', 'server', 'in', 'does', 'work', 'on', 'the'], tags=['all_6291']),\n",
              " LabeledSentence(words=['unable', 'to', 'send', 'mail', 'with', 'forward', 'restriction'], tags=['all_5587']),\n",
              " LabeledSentence(words=['calculator', 'with', 'eu', 'tool', 'up'], tags=['all_18865']),\n",
              " LabeledSentence(words=['computer', 'unable', 'to', 'connection', 'company', 'network', 'get', 'message'], tags=['all_22032']),\n",
              " LabeledSentence(words=['work', 'payroll', 'ko', 'u', 'in', 'job', 'schedule', 'at', 'received', 'from'], tags=['all_27152']),\n",
              " LabeledSentence(words=['be', 'over', 'space', 'available', 'g'], tags=['all_20962']),\n",
              " LabeledSentence(words=['fan', 'defective', 'industrial', 'control', 'detect', 'nit'], tags=['all_7793']),\n",
              " LabeledSentence(words=['my', 'station', 'is', 'not', 'charging', 'computer', 'checked', 'all', 'the', 'and', 'its', 'still', 'computer'], tags=['all_6273']),\n",
              " LabeledSentence(words=['bob', 'recehaventved', 'from', 'dear', 'all', 'can', 'someone', 'please', 'check', 'and', 'fix', 'the', 'problem', 'reps', 'that', 'are', 'not', 'available', 'in', 'bob', 'i', 'checked', 'too', 'also', 'get', 'error', 'message'], tags=['all_12630']),\n",
              " LabeledSentence(words=['mi', 'is', 'not', 'can', 'be', 'going', 'system', 'locking', 'up', 'or', 'giving', 'error', 'see', 'below', 'there', 'was', 'a', 'technical', 'error', 'please', 'try', 'again', 'if', 'the', 'problem', 'notify', 'an', 'administrator', 'following', 'while', 'request', 'object', 'object', 'status', 'error', 'internal', 'server', 'operator', 'have', 'computer', 'multiple', 'times'], tags=['all_26620']),\n",
              " LabeledSentence(words=['cannot', 'poster', 'to', 'under', 'my', 'profile', 'on'], tags=['all_17915']),\n",
              " LabeledSentence(words=['since', 'server', 'not', 'applicable'], tags=['all_744']),\n",
              " LabeledSentence(words=['initiative', 'platform', 'received', 'from', 'it', 'is', 'the', 'attached', 'these', 'do', 'not', 'report', 'to', 'him', 'please', 'advise', 'why', 'he', 'these'], tags=['all_24079']),\n",
              " LabeledSentence(words=['collaboratiup', 'platform', 'permission', 'help', 'i', 'made', 'a', 'mistake', 'and', 'change', 'the', 'do', 'basically', 'everything', 'on', 'following', 'page', 'to', 'see', 'if', 'there', 'was', 'way', 'restore', 'all', 'what', 'they', 'were', 'yesterday'], tags=['all_10952']),\n",
              " LabeledSentence(words=['suddenly', 'received', 'from', 'many', 'good'], tags=['all_23282']),\n",
              " LabeledSentence(words=['the', 'note', 'however', 'was', 'always', 'blank', 'at', 'bottom', 'of', 'quotation', 'missing', 'please', 'help', 'to', 'put', 'it', 'back', 'see', 'attachment'], tags=['all_30289']),\n",
              " LabeledSentence(words=['collaboration', 'platform', 'received', 'from', 'venue', 'last', 'week', 'i', 'setup', 'collaboration', 'platform', 'and', 'after', 'start', 'my', 'collaboration', 'platform', 'did', 'not', 'recognize', 'me', 'as', 'owner', 'so', 'that', 'make', 'any', 'action', 'today', 'again', 'now', 'it', 'is', 'telling', 'connect', 'to', 'the', 'server', 'while', 'connection', 'was', 'established', 'hope', 'you', 'can', 'help', 'fixing', 'those', 'met', 'greet', 'company', 'm', 't', 'f', 'him', 'se'], tags=['all_22031']),\n",
              " LabeledSentence(words=['for', 'help', 'dear', 'it', 'the', 'following', 'is', 'the', 'entry', 'link', 'of', 'after', 'i', 'log', 'in', 'file', 'cannot', 'be', 'please', 'to', 'find', 'out', 'what', 'problem', 'adobe', 'reader', 'version', 'needs', 'two', 'links', 'best'], tags=['all_5730']),\n",
              " LabeledSentence(words=['mac', 'been', 'as', 'unavailable', 'via', 'ers', 'and', 'you', 'may', 'they', 'no', 'connectivity'], tags=['all_27741']),\n",
              " LabeledSentence(words=['unable', 'to', 'pull', 'up', 'on', 'and', 'tab', 'in', 'ess'], tags=['all_319']),\n",
              " LabeledSentence(words=['evening', 'batch', 'job', 'known'], tags=['all_26777']),\n",
              " LabeledSentence(words=['zebra', 'printer', 'issue', 'label', 'not', 'working', 'error', 'connection', 'to', 'could', 'be', 'made', 'in', 'attachment', 'are', 'getting', 'printed'], tags=['all_1502']),\n",
              " LabeledSentence(words=['error', 'code', 'x', 'when', 'user', 'on', 'mobile', 'for', 'management', 'team', 'the', 'above', 'is', 'sure', 'attached'], tags=['all_24255']),\n",
              " LabeledSentence(words=['require', 'set', 'up', 'mobile', 'link', 'company', 'received', 'from', 'it', 'please', 'kindly', 'user', 'model'], tags=['all_5815']),\n",
              " LabeledSentence(words=['since', 'configuration', 'not', 'appropriate'], tags=['all_30242']),\n",
              " LabeledSentence(words=['setup', 'know', 'ewe'], tags=['all_8804']),\n",
              " LabeledSentence(words=['engineering', 'tool', 'not', 'working', 'received', 'from', 'dear', 'sir', 'is', 'able', 'to', 'access', 'his', 'tool', 'he', 'for', 'help', 'also', 'from', 'it', 'but', 'till', 'date', 'nothing', 'ahead', 'please', 'get', 'and', 'install', 'the', 'same', 'at', 'best'], tags=['all_2140']),\n",
              " LabeledSentence(words=['the', 'at', 'botablem', 'of', 'hub', 'home', 'page', 'seem', 'to', 'be', 'missing', 'i', 'tried', 'in', 'both', 'ie', 'and'], tags=['all_25897']),\n",
              " LabeledSentence(words=['circuit', 'outage', 'south', 'south', 'router', 'is', 'down', 'at', 'on', 'site', 'up', 'primary', 'what', 'type', 'of', 'network', 'x', 'circuit', 'power', 'please', 'specify', 'outage', 'top', 'no', 'when', 'did', 'it', 'start', 'maintenance', 'power', 'no', 'company', 'power', 'provider', 'network', 'no', 'maint', 'does', 'they', 'a', 'backup', 'yes', 'active', 'yes', 'contact', 'notified', 'remote', 'dialing', 'na', 'equipment', 'reset', 'na', 'working', 'yes', 'vendor', 'ticket', 'global', 'vendor', 'vendor', 'additional', 'diagnostics'], tags=['all_9514']),\n",
              " LabeledSentence(words=['job', 'job', 'in', 'job', 'schedule', 'at', 'received', 'up'], tags=['all_10781']),\n",
              " LabeledSentence(words=['process', 'where', 'are', 'auto', 'received', 'is', 'not', 'working', 'as', 'designed', 'resulting', 'in', 'blocked', 'additional', 'work', 'for', 'the', 'and', 'buyer', 'who', 'cannot', 'control', 'this', 'process', 'please', 'correct', 'missing', 'goods', 'receipts', 'on', 'attached', 'file', 'make', 'a', 'permanent', 'correction', 'so', 'that', 'done', 'timely', 'fashion', 'going', 'back', 'do', 'close', 'ticket', 'until', 'fix', 'place'], tags=['all_20130']),\n",
              " LabeledSentence(words=['reset', 'the', 'password', 'for', 'the', 'other', 'phone', 'system', 'interaction', 'only', 'need', 'rest', 'in', 'my', 'office'], tags=['all_8893']),\n",
              " LabeledSentence(words=['unable', 'to', 'login', 'sphere', 'client', 'server', 'service', 'is', 'in', 'stopped', 'that'], tags=['all_20192']),\n",
              " LabeledSentence(words=['security', 'in', 'repeat', 'outbound', 'connection', 'for', 'from', 'source', 'system', 'name', 'evil', 'user', 'name', 'location', 'status', 'no', 'field', 'yes', 'no', 'no', 'event', 'below', 'incident', 'overview', 'we', 'are', 'seeing', 'your', 'device', 'generating', 'a', 'high', 'volume', 'of', 'repeat', 'traffic', 'blocked', 'evil', 'to', 'port', 'remote', 'procedure', 'call', 'external', 'host', 'this', 'may', 'indicate', 'misconfiguration', 'where', 'the', 'is', 'blocking', 'legitimate', 'also', 'reaching', 'out', 'malicious', 'or', 'worm', 'code', 'full', 'login', 'failure', 'explicit', 'notification', 'via', 'priority', 'ticket', 'and', 'phone', 'call', 'automatically', 'resolve', 'directly', 'portal', 'no', 'explicit', 'but', 'will', 'be', 'available', 'in', 'portal', 'sincerely', 'soc', 'technical', 'remote', 'known', 'as', 'protocol', 'that', 'an', 'application', 'execute', 'code', 'another', 'address', 'space', 'commonly', 'on', 'computer', 'network', 'without', 'explicitly', 'interaction', 'is', 'same', 'whether', 'regional', 'remote', 'by', 'client', 'which', 'request', 'message', 'server', 'with', 'response', 'its', 'process', 'used', 'such', 'exchange', 'service', 'server', 'well', 'other', 'have', 'been', 'several', 'propagation', 'include', 'wrestle', 'data', 'related', 'id', 'summary', 'occurrence', 'count', 'information', 'evil', 'port', 'destination', 'outgoing', 'protocol', 'log', 'time', 'at', 'action', 'blocked', 'score', 'sherlock', 'rule', 'id', 'she', 'inspector', 'ontology', 'type', 'agent', 'detail', 'deny', 'inside', 'inside', 'x', 'inside'], tags=['all_15941']),\n",
              " LabeledSentence(words=['ie', 'went', 'to', 'not', 'legitimate', 'with', 'registry', 'failure', 'of', 'operating', 'system'], tags=['all_4282']),\n",
              " LabeledSentence(words=['server', 'one', 'previously', 'from', 'we', 'are', 'an', 'interruption', 'in', 'our', 'involved', 'with', 'most', 'of', 'the', 'network', 'not', 'operational', 'due', 'to', 'this', 'problem', 'please', 'advise', 'best'], tags=['all_29264']),\n",
              " LabeledSentence(words=['update', 'the', 'telephony', 'impossible', 'do', 'not', 'assign', 'to', 'when', 'delete', 'update', 'it', 'will', 'run', 'every', 'day', 'telephony', 'phone', 'system', 'therefore', 'we', 'need', 'have', 'a', 'easy', 'way', 'removed', 'or', 'avoid', 'be', 'this', 'is', 'global', 'issue', 'although', 'mostly', 'seen', 'within'], tags=['all_21789']),\n",
              " LabeledSentence(words=['robot', 'at', 'is', 'active', 'since', 'am', 'on'], tags=['all_25594']),\n",
              " LabeledSentence(words=['alt', 'interface', 'without', 'function', 'probably', 'defective', 'graphics', 'card'], tags=['all_8136']),\n",
              " LabeledSentence(words=['customer', 'not', 'getting', 'order', 'automatically', 'received', 'from', 'two', 'have', 'been', 'the', 'like', 'they', 'for', 'coming', 'both', 'are', 'under', 'same', 'top', 'pare', 'not', 'and', 'should', 'be', 'sending', 'to', 'since', 'th', 'them', 'can', 'someone', 'look', 'into', 'this', 'this', 'is', 'affecting', 'paying', 'as', 'use', 'a', 'receiver', 'so', 'pay', 'bill', 'senior', 'engineer', 'company'], tags=['all_6720']),\n",
              " LabeledSentence(words=['event', 'the', 'value', 'and', 'cutoff', 'for', 'is'], tags=['all_27021']),\n",
              " LabeledSentence(words=['network', 'outage', 'engineering', 'warehouse', 'company', 'is', 'down', 'since', 'am', 'on', 'what', 'example', 'of', 'x', 'network', 'circuit', 'power', 'please', 'specify', 'outage', 'top', 'site', 'no', 'when', 'did', 'it', 'start', 'maintenance', 'power', 'no', 'company', 'power', 'provider', 'network', 'no', 'maint', 'does', 'have', 'a', 'backup', 'circuit', 'no', 'active', 'no', 'contact', 'notified', 'remote', 'dialing', 'equipment', 'reset', 'working', 'vendor', 'ticket', 'global', 'vendor', 'vendor', 'additional', 'diagnostics'], tags=['all_19477']),\n",
              " LabeledSentence(words=['been', 'for', 'huge', 'number', 'of', 'in', 'we', 'are', 'facing', 'that', 'german', 'cannot', 'enter', 'their', 'because', 'does', 'not', 'exbet', 'again', 'have', 'to', 'create', 'it', 'manually', 'each', 'them', 'which', 'is', 'really', 'time', 'consuming', 'some', 'do', 'not', 'even', 'know', 'who', 'contact', 'when', 'the', 'error', 'comes', 'up', 'what', 'why', 'was', 'can', 'be', 'automatically', 'somehow'], tags=['all_22016']),\n",
              " LabeledSentence(words=['my', 'system', 'remote', 'access', 'received', 'from', 'dear', 'sir', 'is', 'cannot', 'able', 'so', 'me', 'look', 'into', 'that', 'with'], tags=['all_4429']),\n",
              " LabeledSentence(words=['code', 'error', 'received', 'from', 'thanks', 'please', 'find', 'below', 'error', 'kindly', 'help', 'to', 'resolve', 'this', 'issue', 'on', 'urgent', 'basis', 'best'], tags=['all_10726']),\n",
              " LabeledSentence(words=['not', 'able', 'to', 'see', 'in', 'the', 'concern'], tags=['all_19887']),\n",
              " LabeledSentence(words=['telephony', 'the', 'of', 'payment', 'are', 'not', 'place', 'line', 'between', 'and', 'customer', 'story', 'days', 'net', 'i', 'that', 'both', 'should', 'reflect', 'same', 'data', 'according', 'to', 'information', 'received', 'from', 'it', 'was', 'by', 'finance', 'could', 'you', 'please', 'change', 'back'], tags=['all_26335']),\n",
              " LabeledSentence(words=['are', 'going', 'fail', 'due', 'to', 'error', 'issue'], tags=['all_18986']),\n",
              " LabeledSentence(words=['mobile', 'device', 'activation', 'successfully', 'done'], tags=['all_4241']),\n",
              " LabeledSentence(words=['telephone', 'extension', 'defective', 'display', 'barely', 'legible', 'connection', 'durintog', 'is', 'interrupted', 'in', 'the', 'middle'], tags=['all_14620']),\n",
              " LabeledSentence(words=['reset', 'the', 'password', 'for', 'on', 'other', 'communication'], tags=['all_21009']),\n",
              " LabeledSentence(words=['engineering', 'tool', 'will', 'not', 'work', 'received', 'from', 'hi', 'i', 'cannot', 'open', 'close', 'or', 'manipulate', 'certain', 'of', 'my', 'on', 'tool', 'one', 'it', 'difficult', 'to', 'with', 'our', 'team', 'in', 'please', 'have', 'a', 'look'], tags=['all_31111']),\n",
              " LabeledSentence(words=['afternoon', 'batch', 'job', 'job', 'job'], tags=['all_11760']),\n",
              " LabeledSentence(words=['recall', 'ticket', 'no', 'i', 'need', 'to', 'request', 'access', 'change', 'production', 'without', 'in', 'go', 'and', 'plant', 'received', 'from', 'would', 'like', 'recall', 'the', 'message', 'plant'], tags=['all_13657']),\n",
              " LabeledSentence(words=['install', 'bit', 'version', 'of', 'office', 'well', 'in', 'the', 'production'], tags=['all_26353']),\n",
              " LabeledSentence(words=['urgent', 'need', 'allow', 'to', 'all', 'roanoke', 'for', 'new', 'machine', 'user', 'mi', 'implementation', 'today', 'received', 'from', 'in', 'have', 'been', 'login', 'full', 'access', 'please', 'add', 'this', 'production', 'is', 'down', 'plant', 'controller', 'us', 'plant'], tags=['all_17153']),\n",
              " LabeledSentence(words=['need', 'access', 'way', 'like'], tags=['all_7754']),\n",
              " LabeledSentence(words=['received', 'from', 'i', 'think', 'this', 'is', 'drop', 'box', 'sent', 'august', 'am', 'to', 'subject', 'you', 'have', 'new', 'document', 'via', 'same', 'removed', 'by', 'sender', 'dear', 'a', 'user', 'sent', 'some', 'through', 'view', 'here'], tags=['all_25162']),\n",
              " LabeledSentence(words=['weekly', 'of', 'prod'], tags=['all_5256']),\n",
              " LabeledSentence(words=['reset', 'for', 'password', 'management', 'tool', 'password', 'reset', 'i', 'just', 'need', 'to', 'my', 'the', 'interaction', 'telephony', 'user', 'name', 'which'], tags=['all_13100']),\n",
              " LabeledSentence(words=['simulation', 'hi', 'we', 'request', 'you', 'to', 'provide', 'one', 'beacon', 'who', 'is', 'providing', 'technical', 'support', 'for', 'usage', 'at', 'design'], tags=['all_24780']),\n",
              " LabeledSentence(words=['access', 'issue', 'system', 'many', 'enter', 'user', 'id', 'of', 'the', 'issue', 'transaction', 'needs', 'or', 'was', 'working', 'with', 'can', 'describe', 'currently', 'because', 'not', 'have', 'to', 'view', 'please', 'upgrade', 'her', 'as', 'this', 'is', 'a', 'necessary', 'requirement', 'for', 'all', 'on', 'company', 'team', 'provide', 'same', 'user'], tags=['all_29389']),\n",
              " LabeledSentence(words=['sound', 'issue', 'with', 'the', 'of', 'theres', 'no'], tags=['all_2635']),\n",
              " LabeledSentence(words=['change', 'in', 'ethics', 'received', 'from', 'dear', 'all', 'had', 'a', 'from', 'company', 'to', 'that', 'this', 'is', 'now', 'with', 'our', 'ethnic', 'site', 'knowlcome', 'the', 'business', 'conduct', 'center', 'ethics', 'training', 'site', 'indicate', 'login', 'you', 'used', 'access', 'site', 'company', 'collaboration', 'platform', 'do', 'not', 'match', 'we', 'have', 'on', 'file', 'within', 'active', 'directory', 'please', 'submit', 'ticket', 'global', 'support', 'ensure', 'your', 'network', 'id', 'correctly', 'into', 'make', 'sure', 'i', 'can', 'again'], tags=['all_22294']),\n",
              " LabeledSentence(words=['user', 'in', 'for', 'an', 'update'], tags=['all_5050']),\n",
              " LabeledSentence(words=['calculator', 'for', 'length', 'calculating', 'machine'], tags=['all_7405']),\n",
              " LabeledSentence(words=['not'], tags=['all_1915']),\n",
              " LabeledSentence(words=['cannot', 'be', 'in', 'as', 'the', 'same', 'message', 'are', 'each', 'of', 'error', 'shown', 'they', 'posted', 'for', 'problem', 'please', 'help', 'settle', 'them'], tags=['all_5215']),\n",
              " LabeledSentence(words=['order', 'date', 'hello', 'it', 'please', 'check', 'why', 'the', 'system', 'a', 'date'], tags=['all_5000']),\n",
              " LabeledSentence(words=['question', 'who', 'is', 'taking', 'care', 'on', 'report', 'that', 'not', 'customer', 'stock', 'are', 'the', 'order', 'already', 'but', 'reserved', 'for', 'many', 'therefore', 'will', 'sit', 'there', 'ever', 'would', 'you', 'please', 'address', 'to', 'people', 'responsible', 'allow', 'us', 'reduce', 'level'], tags=['all_10308']),\n",
              " LabeledSentence(words=['content', 'not', 'showing', 'up', 'in', 'meeting'], tags=['all_3780']),\n",
              " LabeledSentence(words=['login', 'profile', 'for', 'i', 'need', 'to', 'complete', 'a', 'task', 'in', 'but', 'get', 'error', 'see', 'attachment', 'please', 'cancel', 'as', 'this', 'got', 'by', 'mistake'], tags=['all_21824']),\n",
              " LabeledSentence(words=['no', 'network', 'connection', 'for', 'computer', 'pleonese', 'establish', 'measuring', 'room', 'hall', 'a'], tags=['all_10902']),\n",
              " LabeledSentence(words=['need', 'access', 'to', 'by', 'please', 'find', 'attachment', 'collaboration', 'platform', 'user', 'id'], tags=['all_900']),\n",
              " LabeledSentence(words=['manually', 'for', 'm'], tags=['all_20599']),\n",
              " LabeledSentence(words=['place', 'incorrect', 'status', 'please', 'advise', 'reason', 'for', 'and', 'restart'], tags=['all_28306']),\n",
              " LabeledSentence(words=['vat', 'not', 'tally', 'from', 'sent', 'to', 'subject', 'dan', 're', 'please', 'refer', 'below', 'mail', 'which', 'that', 'does', 'in', 'the', 'no', 'and', 'tool', 'no', 'i', 'had', 'raised', 'similar', 'ticket', 'last', 'week', 'for', 'some', 'other', 'we', 'are', 'coming', 'across', 'such', 'frequently', 'send', 'you', 'to', 'ensure', 'this', 'type', 'of', 'error', 'is', 'repeated'], tags=['all_11848']),\n",
              " LabeledSentence(words=['know', 'are', 'currently', 'unable', 'to', 'post', 'tool', 'doc', 'for', 'po', 'please', 'advice', 'how', 'proceed'], tags=['all_14771']),\n",
              " LabeledSentence(words=['occurrence', 'network', 'outage', 'every', 'in', 'and', 'same', 'are', 'affected', 'contact'], tags=['all_28328']),\n",
              " LabeledSentence(words=['good', 'hand', 'way', 'in', 'job', 'time', 'at', 'received', 'from'], tags=['all_29190']),\n",
              " LabeledSentence(words=['node', 'at', 'is', 'out', 'since', 'configuration', 'on', 'and'], tags=['all_28189']),\n",
              " LabeledSentence(words=['tool', 'issue', 'refer', 'to', 'this', 'tool', 'no', 'the', 'printed', 'is', 'not', 'complete', 'ie', 'line', 'item', 'no', 'quantity', 'unit', 'price', 'and', 'total', 'amount', 'are', 'also', 'total', 'correct', 'attached', 'related', 'delivery', 'note', 'as', 'making', 'your', 'information', 'please', 'help', 'fix', 'inform', 'us'], tags=['all_20754']),\n",
              " LabeledSentence(words=['can', 'log', 'in', 'daisy', 'hung', 'hi', 'according', 'to', 'the', 'in', 'why', 'cannot', 'it', 'be', 'posted', 'your', 'system', 'for', 'antivirus', 'check', 'please', 'ensure', 'following', 'is', 'true', 'and', 'try', 'again', 'or', 'contact', 'administrator', 'up', 'date', 'antivirus', 'no', 'older', 'than', 'days', 'you', 'have', 'recently', 'not', 'longer', 'days', 'ago', 'there', 'a', 'problem', 'with', 'virus', 'not'], tags=['all_20643']),\n",
              " LabeledSentence(words=['interface', 'fa', 'on', 'is', 'down', 'since', 'interface', 'wireless'], tags=['all_13528']),\n",
              " LabeledSentence(words=['me', 'access', 'to', 'bank', 'from', 'sent', 'to', 'subject', 'folder', 'ticket', 'no', 'hesitate', 'read', 'only', 'the', 'following', 'folder', 'kind'], tags=['all_20062']),\n",
              " LabeledSentence(words=['job', 'hand', 'arc', 'in', 'job', 'schedule', 'at', 'received', 'from'], tags=['all_3311']),\n",
              " LabeledSentence(words=['wrong', 'number', 'of', 'process', 'found', 'observing', 'below', 'alert', 'in', 'tool', 'since', 'on', 'note', 'that', 'we', 'have', 'a', 'ticket', 'well', 'the', 'same', 'issue', 'but', 'like', 'time', 'was', 'resolved'], tags=['all_16862']),\n",
              " LabeledSentence(words=['compensation', 'system', 'is', 'missing', 'the', 'which', 'for', 'all', 'of', 'north', 'field', 'please', 'assign', 'able', 'team', 'and', 'consult', 'resolution'], tags=['all_10532']),\n",
              " LabeledSentence(words=['desk', 'is', 'moving', 'need', 'run', 'to', 'new', 'location', 'and', 'service', 'needs', 'be', 'in', 'the', 'next', 'week', 'control', 'moving', 'make', 'room', 'for', 'other', 'equipment', 'this', 'computer', 'setup', 'of', 'which', 'are', 'connected', 'furnace', 'by', 'within', 'table', 'physically', 'move', 'location', 'area', 'shop', 'floor', 'access', 'their', 'work', 'all', 'must'], tags=['all_21411']),\n",
              " LabeledSentence(words=['looking', 'easy', 'prod', 'in', 'job', 'schedule', 'at', 'received', 'from'], tags=['all_29121']),\n",
              " LabeledSentence(words=['employment', 'status', 'new', 'us', 'temp', 'page', 'down', 'to', 'ensure', 'that', 'all', 'data', 'are', 'complete', 'before', 'use', 'this', 'template', 'for', 'please', 'id', 'first', 'name', 'last', 'location', 'supervisor', 'sponsor', 'cost', 'center', 'external', 'company', 'what', 'do', 'they', 'need', 'access', 'on', 'mi', 'mi', 'yes', 'if', 'is', 'user', 'operator', 'or', 'and', 'meaning', 'security', 'note', 'mi', 'add', 'user', 'account', 'person', 'yes', 'by', 'default', 'a', 'k', 'license', 'will', 'be', 'assigned', 'of', 'collaboration', 'platform', 'only', 'not', 'outlook', 'client', 'client', 'more', 'costly', 'e', 'must', 'assigned', 'can', 'used', 'only', 'computer', 'assign', 'license', 'like', 'who', 'review', 'until', 'date', 'the', 'computer', 'it', 'name', 'remote', 'provide', 'which', 'network', 'needs', 'via', 'start', 'date'], tags=['all_30479']),\n",
              " LabeledSentence(words=['on', 'sure', 'we', 'essay', 'box', 'continuously'], tags=['all_13582']),\n",
              " LabeledSentence(words=['does', 'not', 'work', 'log', 'me', 'on', 'when', 'i', 'turn', 'the', 'computer', 'phone'], tags=['all_1700']),\n",
              " LabeledSentence(words=['update', 'of', 'ae', 'to', 'and', 'hand', 'my', 'please', 'confirm', 'change', 'current', 'manager', 'c', 'does', 'this', 'can', 'a', 'in'], tags=['all_17401']),\n",
              " LabeledSentence(words=['access', 'locked', 'dad', 'me', 'out', 'i', 'tried', 'going', 'into', 'password', 'management', 'tool', 'to', 'reset', 'me', 'password', 'but', 'listed', 'can', 'you', 'please', 'unlock', 'account'], tags=['all_7099']),\n",
              " LabeledSentence(words=['collaboration', 'platform', 'assistance', 'received', 'from', 'hello', 'i', 'need', 'some', 'entire', 'of', 'the', 'collaboration', 'platform', 'page', 'for', 'my', 'department', 'specifically', 'there', 'is', 'a', 'link', 'on', 'our', 'that', 'to', 'document', 'ensure', 'more', 'up', 'date', 'version', 'document', 'linked'], tags=['all_14425']),\n",
              " LabeledSentence(words=['bad', 'printing', 'quality', 'at', 'received', 'from', 'hello', 'we', 'use', 'our', 'printer', 'for', 'of', 'production', 'and', 'in', 'one', 'step', 'the', 'moment', 'have', 'a', 'very', 'on', 'tower', 'tower', 'is', 'original', 'same', 'as', 'printer', 'it', 'checked', 'also', 'regarding', 'his', 'works', 'correct', 'did', 'print', 'from', 'word', 'good', 'quality', 'form', 'should', 'check', 'could', 'you', 'checked', 'this', 'please', 'was', 'there', 'change'], tags=['all_15228']),\n",
              " LabeledSentence(words=['job', 'bop', 'plant', 'a', 'in', 'job', 'schedule', 'at', 'received', 'from'], tags=['all_74']),\n",
              " LabeledSentence(words=['the', 'computer', 'in', 'my', 'office', 'needs', 'access', 'to', 'drive', 'for', 'rolling', 'data', 'this', 'is', 'a', 'location', 'our', 'rolling', 'information', 'currently', 'i', 'need', 'interrupt', 'their', 'data', 'post', 'extract', 'information', 'project', 'also', 'stopped', 'calculating', 'density', 'number', 'can', 'you', 'fix', 'this', 'limited', 'experience', 'with', 'does', 'not', 'help', 'me', 'problem', 'like', 'path', 'land', 'contact'], tags=['all_21415']),\n",
              " LabeledSentence(words=['diesel', 'problem'], tags=['all_29845']),\n",
              " LabeledSentence(words=['reset', 'for', 'password', 'manage', 'tool', 'password', 'reset', 'the'], tags=['all_8511']),\n",
              " LabeledSentence(words=['assuming'], tags=['all_29019']),\n",
              " LabeledSentence(words=['buswithiness', 'partner', 'id', 'received', 'from', 'hello', 'team', 'can', 'you', 'please', 'create', 'a', 'for', 'in', 'solution', 'manager', 'team', 'lead', 'transportation', 'global', 'it'], tags=['all_29370']),\n",
              " LabeledSentence(words=['need', 'access', 'to', 'of', 'for', 'a', 'month'], tags=['all_11481']),\n",
              " LabeledSentence(words=['is', 'down', 'since', 'on', 'went', 'during', 'the', 'sup', 'engine', 'replacement', 'activity', 'but', 'per'], tags=['all_25110']),\n",
              " LabeledSentence(words=['copy', 'of', 'telephone', 'bill', 'i', 'request', 'to', 'provide', 'a', 'the', 'mobile', 'phone', 'with', 'period', 'from', 'june'], tags=['all_20988']),\n",
              " LabeledSentence(words=['job', 'needs', 'received', 'from', 'there', 'is', 'a', 'that', 'had', 'been', 'printing', 'out', 'every', 'morning', 'on', 'i', 'need', 'it', 'this', 'the', 'one', 'printed', 'today', 'if', 'you', 'look', 'at', 'tomorrow', 'date', 'able', 'see', 'will', 'point', 'major', 'controller'], tags=['all_31092']),\n",
              " LabeledSentence(words=['replace', 'internal', 'on', 'e', 'because', 'to', 'cracking', 'issue'], tags=['all_16428']),\n",
              " LabeledSentence(words=['or', 'duplicate', 'all', 'and', 'for', 'can', 'be', 'also'], tags=['all_18084']),\n",
              " LabeledSentence(words=['security', 'tool', 'password', 'manager', 'service', 'down', 'in', 'element', 'server', 'application', 'is', 'down', 'name'], tags=['all_12691']),\n",
              " LabeledSentence(words=['drive', 'encryption', 'attention'], tags=['all_5747']),\n",
              " LabeledSentence(words=['can', 'not', 'reach', 'to', 'password', 'management', 'tool', 'password', 'manager', 'change', 'my', 'language', 'explorer', 'customer', 'number', 'summary'], tags=['all_404']),\n",
              " LabeledSentence(words=['bend', 'job', 'tax', 'functionality', 'daily', 'tax', 'interface', 'daily'], tags=['all_19809']),\n",
              " LabeledSentence(words=['circuit', 'outage', 'secondary', 'is', 'down', 'since', 'on', 'what', 'type', 'of', 'outage', 'network', 'x', 'circuit', 'power', 'please', 'specify', 'outage', 'top', 'site', 'yes', 'when', 'did', 'it', 'start', 'maintenance', 'power', 'company', 'power', 'provider', 'network', 'maint', 'does', 'have', 'a', 'backup', 'yes', 'active', 'yes', 'contact', 'notified', 'remote', 'dialing', 'equipment', 'reset', 'working', 'customer', 'ticket', 'global', 'vendor', 'vendor', 'additional', 'diagnostics'], tags=['all_26143']),\n",
              " LabeledSentence(words=['is', 'down', 'since', 'around', 'on', 'company', 'unlink', 'to'], tags=['all_21507']),\n",
              " LabeledSentence(words=['conelculation', 'of', 'the', 'claim', 'amount', 'will', 'make', 'a', 'mistake', 'from', 'sent', 'august', 'am', 'to', 'subject', 'hi', 'please', 'fix', 'this', 'total', 'money', 'best'], tags=['all_17524']),\n",
              " LabeledSentence(words=['password', 'locked', 'received', 'from', 'hello', 'i', 'no', 'login', 'id', 'is', 'arrange', 'to', 'unlock', 'the', 'same', 'immediately'], tags=['all_4412']),\n",
              " LabeledSentence(words=['please', 'identify', 'source', 'user', 'involved', 'in', 'deletion', 'of', 'from', 'sending', 'august', 'to', 'subject', 'hello', 'request', 'your', 'assistance', 'the', 'who', 'in', 'subject', 'let', 'me', 'know', 'if', 'you', 'need', 'a', 'ticket', 'to', 'be'], tags=['all_24066']),\n",
              " LabeledSentence(words=['access', 'received', 'from', 'hello', 'team', 'i', 'have', 'recently', 'es', 'group', 'as', 'a', 'engineer', 'request', 'you', 'to', 'provide', 'me', 'for', 'check', 'in', 'please', 'do', 'the', 'needful'], tags=['all_10634']),\n",
              " LabeledSentence(words=['holiday', 'list', 'needs', 'newly', 'someone', 'all', 'of', 'the', 'from', 'on', 'hub', 'there', 'should', 'be', 'a', 'backup', 'in', 'that', 'can', 'please', 'restore', 'list'], tags=['all_16771']),\n",
              " LabeledSentence(words=['station', 'within', 'is', 'not', 'working'], tags=['all_7507']),\n",
              " LabeledSentence(words=['record', 'received', 'from', 'amy', 'li', 'sent', 'to', 'subject', 're', 'we', 'want', 'to', 'understand', 'why', 'the', 'cost', 'is', 'high', 'for', 'in', 'plant', 'select', 'one', 'example', 'this', 'plant', 'ship', 'plant', 'purchase', 'relevant', 'and', 'intercompany', 'billing', 'plant', 'shipment', 'plant', 'did', 'not', 'so', 'delivery', 'on', 'this', 'from', 'margin', 'report', 'it', 'high', 'based', 'lot', 'size', 'same', 'as', 'order'], tags=['all_19370']),\n",
              " LabeledSentence(words=['network', 'outage', 'south', 'site', 'is', 'enough', 'down', 'since', 'am', 'on', 'what', 'type', 'of', 'outage', 'x', 'network', 'circuit', 'power', 'please', 'specify', 'outage', 'top', 'no', 'when', 'did', 'it', 'start', 'maintenance', 'power', 'no', 'company', 'power', 'provider', 'network', 'no', 'maint', 'does', 'have', 'a', 'backup', 'circuit', 'no', 'active', 'no', 'contact', 'notified', 'remote', 'dialing', 'equipment', 'reset', 'working', 'vendor', 'ticket', 'global', 'vendor', 'vendor', 'additional', 'diagnostics'], tags=['all_19896']),\n",
              " LabeledSentence(words=['mass', 'to', 'normal', 'table', 'a', 'place'], tags=['all_28470']),\n",
              " LabeledSentence(words=['security', 'report'], tags=['all_1384']),\n",
              " LabeledSentence(words=['power', 'outage', 'company', 'circuit', 'is', 'down', 'at', 'on', 'site', 'up', 'primary', 'what', 'type', 'of', 'outage', 'network', 'x', 'circuit', 'power', 'please', 'specify', 'outage', 'top', 'site', 'when', 'did', 'it', 'start', 'maintenance', 'power', 'not', 'company', 'provider', 'network', 'no', 'maint', 'does', 'have', 'a', 'backup', 'yes', 'active', 'yes', 'contact', 'notified', 'remote', 'dialing', 'na', 'equipment', 'reset', 'na', 'working', 'yes', 'vendor', 'ticket', 'global', 'vendor', 'vendor', 'additional', 'diagnostics'], tags=['all_25661']),\n",
              " LabeledSentence(words=['telephony', 'r', 'please', 'can', 'you', 'reset', 'release', 'my', 'password', 'received', 'out', 'hello', 'all', 'how', 'are', 'you', 'best'], tags=['all_14102']),\n",
              " LabeledSentence(words=['telephony', 'is', 'missing', 'from', 'received', 'multiple', 'security', 'and', 'now', 'the', 'screen', 'ran', 'check', 'to', 'see', 'that', 'on', 'install', 'in', 'absence', 'of', 'used', 'remove', 'all', 'still', 'install', 'a', 'repair', 'tool', 'dot', 'net', 'need', 'help', 'setup', 'compatible', 'version', 're', 'r', 'checked', 'previous', 'y', 'contact', 'number', 'name', 'os', 'version', 'bit', 'sop', 'yn', 'n', 'na', 'next', 'assignment', 'reason', 'for', 'reassignment', 'client', 'cost', 'center'], tags=['all_6504']),\n",
              " LabeledSentence(words=['system', 'failure', 'blue', 'touch'], tags=['all_23507']),\n",
              " LabeledSentence(words=['office', 'specifically', 'outlook', 'is', 'very', 'slow', 'to', 'respond', 'manually', 'refresh', 'update'], tags=['all_1189']),\n",
              " LabeledSentence(words=['item', 'issue', 'with', 'the', 'easier', 'for'], tags=['all_17126']),\n",
              " LabeledSentence(words=['company', 'interface', 'is', 'down', 'since', 'out', 'interface'], tags=['all_20644']),\n",
              " LabeledSentence(words=['job', 'hot', 'in', 'job', 'next', 'at', 'received', 'from'], tags=['all_7482']),\n",
              " LabeledSentence(words=['please', 'set', 'up', 'the', 'write', 'read', 'authorization', 'for', 'folder', 'm', 'good', 'morning', 'thank', 'you', 'best', 'when'], tags=['all_12618']),\n",
              " LabeledSentence(words=['synchronization', 'no', 'in', 'the', 'last', 'investigate'], tags=['all_15651']),\n",
              " LabeledSentence(words=['watching', 'antivirus', 'site', 'server', 'one', 'it', 'since', 'th'], tags=['all_9335']),\n",
              " LabeledSentence(words=['unable', 'to', 'approve', 'expense', 'report', 'from', 'sent', 'august', 'to', 'subject', 're', 'been', 'his', 'below', 'but', 'it', 'did', 'not', 'show', 'up', 'as', 'a', 'task', 'for', 'me', 'in', 'the', 'ess', 'portal', 'three', 'other', 'two', 'before', 'and', 'one', 'after', 'please', 'identify', 'why', 'submittal', 'my', 'system', 'approve', 'i', 'received', 'that', 'he', 'submit', 'original', 'message', 'following', 'your', 'approval', 'personnel', 'no', 'start', 'date', 'end', 'total', 'reimbursement', 'amount', 'review', 'this', 'full', 'log', 'into', 'universal', 'on', 'manager'], tags=['all_4726']),\n",
              " LabeledSentence(words=['circuit', 'outage', 'pa', 'plant', 'secondary', 'is', 'down', 'at', 'on', 'what', 'type', 'of', 'network', 'x', 'circuit', 'power', 'please', 'specify', 'outage', 'top', 'site', 'yes', 'when', 'did', 'it', 'start', 'maintenance', 'power', 'no', 'partner', 'power', 'provider', 'network', 'maint', 'does', 'have', 'a', 'backup', 'yes', 'active', 'yes', 'contact', 'notified', 'remote', 'dialing', 'na', 'equipment', 'reset', 'na', 'working', 'yes', 'vendor', 'ticket', 'global', 'vendor', 'vendor', 'additional', 'diagnostics'], tags=['all_16852']),\n",
              " LabeledSentence(words=['user', 'unable', 'to', 'login', 'the', 'advised', 'user', 'restart', 'and', 'try', 'with', 'new', 'go', 'reset', 'help', 'connected', 'system', 'help', 'password', 'manager', 'tool', 'password', 'tool', 'change', 'sync', 'company', 'network', 'calling', 'confirmed', 'that', 'he', 'was', 'able', 'login', 'issue', 'resolved'], tags=['all_7733']),\n",
              " LabeledSentence(words=['security', 'in', 'scanning', 'activity', 'incident', 'overview', 'we', 'are', 'seeing', 'your', 'device', 'generating', 'imp', 'type', 'code', 'for', 'traffic', 'from', 'port', 'no', 'of', 'to', 'device', 'these', 'indicative', 'possible', 'vulnerability', 'the', 'address', 'a', 'page', 'where', 'you', 'can', 'request', 'be', 'their', 'scanning', 'this', 'via', 'medium', 'priority', 'ticket', 'and', 'no', 'phone', 'call', 'per', 'our', 'default', 'handling', 'unless', 'would', 'like', 'us', 'handle', 'differently', 'in', 'future', 'see', 'below', 'or', 'have', 'any', 'further', 'please', 'let', 'know', 'either', 'by', 'corresponding', 'back', 'soc', 'calling', 'at', 'full', 'explicit', 'notification', 'high', 'call', 'automatically', 'resolve', 'portal', 'no', 'explicit', 'but', 'will', 'available', 'portal', 'sincerely', 'soc', 'technical', 'that', 'may', 'exist', 'across', 'create', 'path', 'gain', 'access', 'exploit', 'environment', 'used', 'identify', 'quantify', 'specific', 'environment', 'based', 'on', 'known', 'an', 'unauthorized', 'host', 'knowledge', 'could', 'later', 'potentially', 'interfere', 'with', 'service', 'availability', 'execute', 'code', 'attacker', 'access', 'event', 'data', 'related', 'id', 'summary', 'occurrence', 'count', 'host', 'connection', 'information', 'source', 'incoming', 'protocol', 'name', 'log', 'time', 'action', 'blocked', 'score', 'sherlock', 'rule', 'id', 'she', 'inspector', 'ontology', 'type', 'agent', 'detail', 'interface', 'outside'], tags=['all_15322']),\n",
              " LabeledSentence(words=['telephony', 'phone', 'issue', 'received', 'from', 'hello', 'it', 'yesterday', 'i', 'had', 'the', 'and', 'system', 'update', 'done', 'today', 'notice', 'that', 'it', 'a', 'yellow', 'icon', 'showing', 'am', 'on', 'but', 'not', 'not', 'can', 'can', 'please', 'assist', 'quickly'], tags=['all_13043']),\n",
              " LabeledSentence(words=['general', 'issue'], tags=['all_2222']),\n",
              " LabeledSentence(words=['be', 'able', 'to', 'login', 'ethics'], tags=['all_26739']),\n",
              " LabeledSentence(words=['volume', 'on', 'configure', 'is', 'over', 'space', 'only'], tags=['all_24654']),\n",
              " LabeledSentence(words=['phone', 'defective', 'm', 'with', 'extension', 'battery', 'no', 'longer', 'than', 'day', 'can', 'know', 'on', 'the', 'display', 'clip'], tags=['all_21684']),\n",
              " LabeledSentence(words=['power', 'outage', 'company', 'hard', 'down', 'since', 'on', 'what', 'type', 'of', 'outage', 'x', 'network', 'circuit', 'power', 'please', 'specify', 'outage', 'top', 'site', 'yes', 'when', 'did', 'it', 'start', 'mainteehnce', 'power', 'na', 'company', 'provider', 'network', 'maint', 'does', 'have', 'a', 'backup', 'circuit', 'yes', 'active', 'no', 'contact', 'notified', 'remote', 'dialing', 'na', 'equipment', 'reset', 'working', 'na', 'vendor', 'ticket', 'global', 'vendor', 'vendor', 'yes', 'additional', 'diagnostics'], tags=['all_8225']),\n",
              " LabeledSentence(words=['loop', 'back', 'for', 'primary', 'configure', 'at', 'went', 'unreachable'], tags=['all_11195']),\n",
              " LabeledSentence(words=['not', 'coming', 'to', 'concern'], tags=['all_8451']),\n",
              " LabeledSentence(words=['job', 'hot', 'the', 'job', 'schedule', 'around', 'received', 'from'], tags=['all_29740']),\n",
              " LabeledSentence(words=['tool', 'with', 'daily', 'and', 'report', 'received', 'from', 'not', 'reply', 'from', 'please', 'create', 'a', 'case', 'what', 'we', 'need', 'is', 'possibility', 'to', 'subscribe', 'report', 'receive', 'the', 'mi', 'data', 'per', 'instead', 'of', 'total', 'industrial', 'combined', 'tooling', 'mi', 'best'], tags=['all_22358']),\n",
              " LabeledSentence(words=['reset', 'the', 'password', 'for', 'on', 'please', 'my', 'in', 'system'], tags=['all_2813']),\n",
              " LabeledSentence(words=['job', 'in', 'job', 'resume', 'at', 'received', 'from'], tags=['all_8658']),\n",
              " LabeledSentence(words=['be', 'not', 'loading', 'all', 'environment', 'is', 'showing', 'and', 'unable', 'to', 'add', 'patch', 'but', 'same', 'issue', 'it', 'also', 'later', 'manually', 'added', 'different', 'environment', 'can', 'you', 'please', 'check', 'how', 'getting', 'without', 'making', 'any', 'refer', 'computer'], tags=['all_14434']),\n",
              " LabeledSentence(words=['printer', 'issue', 'your', 'file', 'could', 'not', 'be', 'printed', 'due', 'to', 'an', 'error', 'up', 'e'], tags=['all_17876']),\n",
              " LabeledSentence(words=['cannot', 'connect', 'to', 'eu', 'from', 'home', 'need', 'use', 'it', 'while', 'na', 'is', 'down', 'when', 'company', 'on', 'the', 'new', 'window', 'show', 'network', 'access', 'after', 'i', 'get', 'error', 'a', 'connection', 'remote', 'computer', 'could', 'not', 'be', 'established', 'so', 'port', 'used', 'for', 'this', 'was', 'closed'], tags=['all_4212']),\n",
              " LabeledSentence(words=['job', 'job', 'in', 'job', 'schedule', 'at', 'sent', 'from', 'backup', 'statistics', 'session', 'time', 'disk', 'aborted', 'total', 'media', 'used', 'agent'], tags=['all_18355']),\n",
              " LabeledSentence(words=['need', 'a', 'newly', 'working', 'mouse'], tags=['all_21982']),\n",
              " LabeledSentence(words=['balancing', 'problem', 'in'], tags=['all_18046']),\n",
              " LabeledSentence(words=['network', 'refinery', 'is', 'hard', 'down', 'since', 'at', 'am', 'on', 'no', 'backup', 'circuit', 'what', 'type', 'of', 'outage', 'x', 'network', 'circuit', 'power', 'please', 'specify', 'outage', 'top', 'site', 'yes', 'when', 'did', 'it', 'start', 'maintenance', 'power', 'company', 'power', 'provider', 'network', 'maint', 'does', 'have', 'a', 'circuit', 'na', 'active', 'na', 'contact', 'notified', 'remote', 'dialing', 'equipment', 'reset', 'working', 'vendor', 'ticket', 'global', 'vendor', 'vendor', 'additional', 'diagnostics'], tags=['all_5887']),\n",
              " LabeledSentence(words=['security', 'in', 'suspicious', 'active', 'warning', 'can', 'only', 'detect', 'less', 'than'], tags=['all_10455']),\n",
              " LabeledSentence(words=['making', 'delivery', 'note', 'not', 'possible', 'please', 'see', 'message'], tags=['all_9626']),\n",
              " LabeledSentence(words=['stopped', 'hi', 'please', 'the', 'attached', 'with', 'immediate', 'effect'], tags=['all_22136']),\n",
              " LabeledSentence(words=['the', 'unit', 'of', 'to', 'item', 'cannot', 'be', 'we', 'need', 'to', 'revise', 'for', 'order', 'no', 'all', 'i', 'but', 'change', 'please', 'check', 'and', 'help'], tags=['all_21139']),\n",
              " LabeledSentence(words=['united', 'hence', 'with', 'making', 'outbound', 'this', 'is', 'on', 'the', 'telephony', 'as'], tags=['all_20290']),\n",
              " LabeledSentence(words=['bad', 'monitor', 'near', 'brake', 'line'], tags=['all_4371']),\n",
              " LabeledSentence(words=['well', 'training', 'received', 'from', 'please', 'activarounde', 'the', 'badge', 'below', 'training', 'they', 'need', 'to', 'be', 'active', 'from', 'st', 'at', 'am'], tags=['all_28560']),\n",
              " LabeledSentence(words=['expense', 'report', 'not', 'working', 'when', 'trying', 'to', 'create', 'an', 'in', 'ess', 'i', 'get', 'the', 'following', 'error', 'well', 'does', 'exist', 'no', 'unlocked', 'my', 'personnel', 'number', 'and', 'nothing'], tags=['all_14190']),\n",
              " LabeledSentence(words=['and', 'price', 'not', 'calculating', 'on', 'quotation', 'net', 'unit', 'are', 'but', 'other', 'loaded', 'see', 'in', 'attached', 'need', 'to', 'send', 'customer', 'for'], tags=['all_28688']),\n",
              " LabeledSentence(words=['connection', 'to', 'switched', 'is', 'down', 'at', 'am', 'ping', 'profile'], tags=['all_25604']),\n",
              " LabeledSentence(words=['finance', 'portal', 'on', 'the', 'connected', 'received', 'from', 'company', 'help', 'i', 'was', 'unable', 'to', 'access', 'hub', 'even', 'though', 'have', 'done', 'this', 'in', 'far', 'below', 'message', 'could', 'you', 'please', 'check', 'my', 'and', 'let', 'me', 'know', 'what', 'need', 'do', 'reinstate'], tags=['all_30974']),\n",
              " LabeledSentence(words=['error', 'message', 'durwithing', 'route', 'card', 'release', 'received', 'from', 'hello', 'while', 'and', 'not', 'get', 'printed', 'help', 'in', 'the', 'issue', 'p', 'please', 'do', 'print', 'this', 'unless', 'it', 'is', 'absolutely', 'necessary', 'spread', 'environmental', 'awareness', 'confidentiality', 'caution', 'communication', 'any', 'intended', 'only', 'for', 'sole', 'use', 'of', 'to', 'whom', 'may', 'contain', 'information', 'that', 'exempt', 'from', 'disclosure', 'by', 'someone', 'other', 'than', 'recipient', 'strictly', 'if', 'your', 'receipt', 'notify', 'sender', 'original', 'immediately'], tags=['all_21162']),\n",
              " LabeledSentence(words=['r', 'no', 'za', 'cannot', 'be', 'sometimes', 'take', 'a', 'look', 'at', 'the', 'way', 'drive', 'please', 'for', 'completion', 'by', 'm', 'eu', 'tool'], tags=['all_16124']),\n",
              " LabeledSentence(words=['network', 'outage', 'at', 'since', 'what', 'type', 'of', 'outage', 'x', 'network', 'circuit', 'control', 'please', 'specify', 'outage', 'top', 'site', 'yes', 'when', 'did', 'it', 'start', 'maintenance', 'power', 'no', 'company', 'power', 'provider', 'network', 'maint', 'does', 'have', 'a', 'backup', 'circuit', 'yes', 'active', 'no', 'contact', 'notified', 'remote', 'dialing', 'equipment', 'reset', 'working', 'on', 'vendor', 'ticket', 'global', 'vendor', 'vendor', 'additional', 'diagnostics'], tags=['all_23534']),\n",
              " LabeledSentence(words=['cannot', 'to', 'closed', 'on', 'the', 'computer'], tags=['all_29394']),\n",
              " LabeledSentence(words=['account', 'is', 'locked', 'out', 'ad'], tags=['all_1704']),\n",
              " LabeledSentence(words=['should', 'access', 'to'], tags=['all_24537']),\n",
              " LabeledSentence(words=['reset', 'for', 'v', 'password', 'management', 'use', 'password', 'reset'], tags=['all_17788']),\n",
              " LabeledSentence(words=['printer', 'issue', 'language', 'explorer', 'customer', 'number', 'telephone', 'to', 'connect', 'a'], tags=['all_6123']),\n",
              " LabeledSentence(words=['it', 'request', 'received', 'from', 'hello', 'my', 'supervisor', 'me', 'to', 'send', 'an', 'request', 'i', 'am', 'able', 'access', 'in', 'some', 'on', 'our', 'h', 'drive', 'but', 'not', 'all', 'would', 'like', 'permission', 'that', 'are', 'the', 'quality', 'control', 'folder', 'at', 'quality', 'control'], tags=['all_3914']),\n",
              " LabeledSentence(words=['please', 'provide', 'access', 'received', 'from', 'i', 'need', 'to', 'same', 'following', 'path', 'see', 'for', 'approval', 'company', 'plant', 'controller'], tags=['all_18027']),\n",
              " LabeledSentence(words=['cannot', 'print', 'drawing', 'when', 'to', 'from', 'eu', 'a', 'missing', 'cover', 'page', 'is', 'being', 'printed', 'my', 'guess', 'that', 'although', 'the', 'in', 'status', 'all', 'still', 'reside', 'storage'], tags=['all_26519']),\n",
              " LabeledSentence(words=['job', 'payroll', 'sa', 'u', 'in', 'job', 'schedule', 'at', 'received', 'from'], tags=['all_6566']),\n",
              " LabeledSentence(words=['cannot', 'be', 'we', 'are', 'serious', 'with', 'shopping', 'in', 'a', 'buyer', 'group', 'of', 'is', 'and', 'not', 'changeable', 'since', 'this', 'to', 'different', 'porch', 'it', 'an', 'error', 'that', 'only', 'when', 'need', 'immediate', 'that', 'on', 'this', 'no', 'one', 'can', 'create', 'at', 'all'], tags=['all_22663']),\n",
              " LabeledSentence(words=['complaint', 'no', 'something', 'ticket', 'received', 'from', 'hello', 'please', 'raise', 'on', 'behalf', 'of', 'me', 'for', 'error', 'and', 'its', 'not', 'to', 'with', 'best'], tags=['all_22375']),\n",
              " LabeledSentence(words=['setup', 'and', 'remote', 'company', 'use', 'cannot', 'be', 'logged', 'in', 'to', 'it', 'the', 'domain', 'membership', 'is', 'broken'], tags=['all_18401']),\n",
              " LabeledSentence(words=['unable', 'ways', 'connect'], tags=['all_27448']),\n",
              " LabeledSentence(words=['change', 'date', 'received', 'from', 'hello', 'team', 'writing', 'to', 'want', 'as', 'a', 'request', 'the', 'date', 'for', 'couple', 'of', 'from', 'eastern', 'time', 'time', 'which', 'should', 'be', 'time', 'could', 'please', 'so', 'kind', 'perform', 'and', 'let', 'us', 'know', 'is', 'additional', 'information', 'our', 'side'], tags=['all_13893']),\n",
              " LabeledSentence(words=['german', 'payroll', 'collaboration', 'platform', 'site', 'received', 'from', 'hello', 'please', 'create', 'a', 'standard', 'template', 'for', 'the', 'implementation', 'project', 'and', 'as', 'backup', 'full', 'update', 'access', 'should', 'also', 'be', 'used', 'to', 'we', 'will', 'require', 'those', 'external', 'to', 'company', 'have', 'certain', 'well', 'inform', 'soon', 'been', 'many'], tags=['all_12382']),\n",
              " LabeledSentence(words=['excel', 'is', 'blank', 'before', 'open', 'file'], tags=['all_10715']),\n",
              " LabeledSentence(words=['c', 'disk', 'volume', 'is', 'out', 'space', 'available', 'g'], tags=['all_29252']),\n",
              " LabeledSentence(words=['outlook', 'not', 'received', 'from', 'please', 'see', 'below', 'error', 'my', 'is', 'and', 'it', 'saying', 'password', 'wrong', 'or', 'wont', 'connect', 'to', 'server', 'when', 'i', 'open', 'the', 'am', 'enter', 'but', 'after', 'doing', 'so', 'server', 'will', 'connect', 'currently', 'version', 'of', 'on', 'explorer'], tags=['all_3348']),\n",
              " LabeledSentence(words=['po', 'number', 'been', 'posted', 'with', 'incorrect', 'account'], tags=['all_1434']),\n",
              " LabeledSentence(words=['expense', 'report', 'received', 'from', 'own', 'will', 'not', 'submit', 'to', 'manager', 'it', 'only', 'please', 'submit', 'this', 'on', 'all', 'l', 'plant', 'manager'], tags=['all_14013']),\n",
              " LabeledSentence(words=['instead', 'monitor'], tags=['all_8355']),\n",
              " LabeledSentence(words=['disk', 'space', 'utilization', 'alert', 'on', 'e', 'free', 'less', 'more', 'and', 'under', 'free', 'engineering', 'tooling'], tags=['all_13806']),\n",
              " LabeledSentence(words=['power', 'outage', 'site', 'is', 'hard', 'down', 'since', 'glad', 'what', 'type', 'of', 'outage', 'x', 'network', 'circuit', 'power', 'please', 'specify', 'outage', 'top', 'no', 'when', 'did', 'it', 'start', 'maintenance', 'power', 'no', 'company', 'provider', 'network', 'no', 'maint', 'does', 'have', 'a', 'backup', 'circuit', 'no', 'active', 'no', 'contact', 'notified', 'remote', 'dialing', 'equipment', 'reset', 'working', 'on', 'vendor', 'ticket', 'global', 'vendor', 'vendor', 'additional', 'calibration'], tags=['all_27170']),\n",
              " LabeledSentence(words=['listing', 'folder', 'access', 'received', 'from', 'dear', 'and', 'madame', 'i', 'am', 'of', 'the', 'drive', 'works', 'council', 'at', 'plant', 'need', 'an', 'overview', 'who', 'to', 'above', 'folder', 'please', 'send', 'me', 'this', 'list', 'immediately', 'sincerely', 'yours', 'chairman', 'company', 'this', 'communication', 'is', 'intended', 'solely', 'for', 'use', 'may', 'contain', 'information', 'that', 'confidential', 'confidential', 'or', 'exempt', 'from', 'disclosure', 'under', 'applicable', 'law', 'distribution', 'distribution', 'reproduction', 'by', 'other', 'than', 'strictly', 'if', 'you', 'have', 'message', 'mistake', 'notify', 'sender', 'delete', 'message', 'select', 'following', 'link', 'view', 'disclaimer', 'in', 'alternate', 'language'], tags=['all_4794']),\n",
              " LabeledSentence(words=['ie', 'browser', 'issue', 'not', 'loading', 'its', 'contents', 'completely'], tags=['all_2044']),\n",
              " LabeledSentence(words=['reset', 'and', 'password', 'management', 'use', 'password', 'reset', 'the'], tags=['all_30752']),\n",
              " LabeledSentence(words=['create', 'guest'], tags=['all_2257']),\n",
              " LabeledSentence(words=['login', 'issue', 'connected', 'to', 'the', 'user', 'system', 'user', 'is', 'on', 'company', 'network', 'before', 'its', 'him', 'a', 'error'], tags=['all_10029']),\n",
              " LabeledSentence(words=['ticket', 'found', 'doing', 'nothing', 'received', 'out'], tags=['all_14760']),\n",
              " LabeledSentence(words=['printer', 'on', 'server', 'is', 'not', 'right', 'for', 'x', 'to', 'fine', 'but', 'when', 'trying', 'print', 'continuously', 'and', 'thtime', 'is', 'it', 'used', 'a', 'x', 'from', 'it', 'fine', 'si', 'at', 'this'], tags=['all_12082']),\n",
              " LabeledSentence(words=['job', 'search', 'server', 'dev', 'daily', 'in', 'job', 'schedule', 'at', 'received', 'from', 'backup', 'statistics', 'session', 'time', 'boot', 'aborted', 'total', 'media', 'used', 'agent'], tags=['all_12867']),\n",
              " LabeledSentence(words=['after', 'the', 'ie', 'browser', 'control', 'that', 'that', 'user', 'been', 'logged', 'out', 'and', 'cannot', 'log', 'in', 'to', 'system'], tags=['all_28432']),\n",
              " LabeledSentence(words=['printer', 'issue', 'delivery', 'out', 'and', 'contact', 'error', 'message', 'install', 'driver', 'access', 'is', 'while', 'printing'], tags=['all_9420']),\n",
              " LabeledSentence(words=['well', 'fixed', 'unit', 'we'], tags=['all_28752']),\n",
              " LabeledSentence(words=['e', 'party', 'this', 'old', 'that', 'he', 'needs', 'to', 'login', 'but', 'cannot', 'when', 'it', 'is', 'connected', 'the', 'network', 'error', 'security', 'on', 'server', 'does', 'not', 'have', 'a', 'computer', 'account', 'for', 'trust', 'relationship', 'can', 'once', 'its', 'with', 'an', 'password', 'play', 'some', 'and', 'his', 'new', 'drive', 'please', 'see', 'why', 'be', 'found', 'in', 'same'], tags=['all_12782']),\n",
              " LabeledSentence(words=['conversion', 'production', 'obviously', 'number', 'of', 'process', 'ex', 'but', 'found'], tags=['all_17274']),\n",
              " LabeledSentence(words=['power', 'disruption', 'fine', 'company', 'secondary', 'circuit', 'and', 'showing', 'down', 'since', 'am', 'on', 'what', 'type', 'of', 'outage', 'network', 'x', 'circuit', 'power', 'please', 'specify', 'outage', 'top', 'site', 'yes', 'when', 'did', 'it', 'start', 'maintenance', 'power', 'na', 'provider', 'network', 'na', 'maint', 'does', 'have', 'a', 'backup', 'yes', 'active', 'yes', 'contact', 'notified', 'na', 'remote', 'dialing', 'na', 'equipment', 'reset', 'na', 'working', 'vendor', 'ticket', 'global', 'vendor', 'vendor', 'yes', 'additional', 'diagnostics'], tags=['all_19928']),\n",
              " LabeledSentence(words=['transaction', 'does', 'not', 'work', 'received', 'from', 'hello', 'the', 'following', 'error', 'message', 'sincerely', 'yours', 'financial', 'quality', 'specialist'], tags=['all_23013']),\n",
              " LabeledSentence(words=['approval', 'i', 'am', 'you', 'as', 'we', 'have', 'with', 'our', 'with', 'credit', 'memo', 'respectively', 'mas', 'several', 'regarding', 'this', 'topic', 'which', 'unfortunately', 'did', 'not', 'lead', 'to', 'a', 'final', 'solution', 'maybe', 'it', 'is', 'language', 'problem', 'my', 'part', 'anyway', 'hope', 'that', 'you', 'can', 'help', 'get', 'fixed', 'the', 'organization', 'are', 'regardless', 'who', 'person', 'in', 'customer', 'account', 'level', 'substitute', 'if', 'possible', 'substitute', 'plus', 'often', 'these', 'wrong', 'person', 'example', 'was', 'me', 'at', 'and', 'but', 'then', 'wo', 'nothing', 'do', 'it', 'lot', 'of', 'time', 'gather', 'forward', 'them', 'responsible', 'appreciate', 'your', 'help'], tags=['all_22950']),\n",
              " LabeledSentence(words=['cable', 'via', 'losing'], tags=['all_22998']),\n",
              " LabeledSentence(words=['system', 'down', 'received', 'from', 'hi', 'plant', 'encounter', 'down', 'due', 'to', 'this', 'issue', 'we', 'may', 'or', 'not', 'able', 'fulfill', 'local', 'for', 'today', 'it', 'depend', 'on', 'how', 'fast', 'the', 'will', 'be', 'up', 'i', 'could', 'raise', 'ticket', 'operation', 'supervisor', 'company', 'distribution', 'of'], tags=['all_7461']),\n",
              " LabeledSentence(words=['dynamics', 'open', 'from', 'received', 'from', 'hello', 'all', 'personnel', 'by', 'mistake', 'his', 'week', 'ago', 'can', 'someone', 'please', 'check', 'if', 'these', 'be'], tags=['all_19483']),\n",
              " LabeledSentence(words=['can', 'not', 'create', 'delivery', 'for', 'i', 'had', 'company', 'south', 'look', 'at', 'the', 'and', 'something', 'our', 'facility', 'nobody', 'is', 'able', 'to', 'help', 'me'], tags=['all_21708']),\n",
              " LabeledSentence(words=['you', 'give', 'the', 'same', 'access', 'to', 'server', 'as', 'me', 'my', 'phone', 'is'], tags=['all_8563']),\n",
              " LabeledSentence(words=['job', 'easier', 'tool', 'prod', 'full', 'in', 'job', 'schedule', 'at', 'received', 'from'], tags=['all_9091']),\n",
              " LabeledSentence(words=['reset', 'for', 'password', 'management', 'utility', 'password', 'reset', 'my', 'does', 'not', 'work', 'blocked'], tags=['all_18638']),\n",
              " LabeledSentence(words=['cannot', 'to', 'connection'], tags=['all_13432']),\n",
              " LabeledSentence(words=['summary', 'showing', 'user', 'issue', 'from', 'us', 'plant', 'please', 'see', 'attached', 'picture'], tags=['all_20437']),\n",
              " LabeledSentence(words=['forward', 'received', 'from', 'dear', 'team', 'we', 'need', 'to', 'cancel', 'help', 'reverse', 'the', 'tool', 'in', 'company'], tags=['all_12672']),\n",
              " LabeledSentence(words=['update', 'of', 'ae', 'to', 'both', 'hand', 'a', 'current', 'manager', 'does', 'this', 'need', 'change', 'in', 'mason', 'mason'], tags=['all_26851']),\n",
              " LabeledSentence(words=['eu', 'tool', 'when', 'confirmation', 'are', 'not', 'able', 'to', 'reduce', 'scrap', 'that', 'have', 'been', 'rectified', 'in'], tags=['all_27564']),\n",
              " LabeledSentence(words=['need', 'to', 'upgrade', 'the', 'outlook', 'language', 'explorer', 'business', 'number', 'telephone'], tags=['all_17044']),\n",
              " LabeledSentence(words=['running', 'from', 'is', 'an', 'issue', 'reaching', 'received', 'alert', 'am', 'on', 'attached', 'of', 'display', 'shot'], tags=['all_29620']),\n",
              " LabeledSentence(words=['interface', 'on', 'be', 'down', 'since'], tags=['all_7364']),\n",
              " LabeledSentence(words=['locked', 'put', 'of', 'please', 'reset', 'password', 'system', 'other', 'enter', 'user', 'id', 'the', 'issue', 'transaction', 'needs', 'or', 'was', 'working', 'with', 'describe', 'if', 'you', 'are', 'getting', 'a', 'not', 'authorized', 'message', 'recreate', 'condition', 'then', 'do', 'and', 'attach', 'result', 'to', 'ticketing', 'tool', 'ticket', 'provide', 'access', 'same', 'as', 'this', 'user'], tags=['all_22458']),\n",
              " LabeledSentence(words=['system', 'monitor', 'resolution', 'problem', 'not', 'able', 'to', 'set', 'm'], tags=['all_26726']),\n",
              " LabeledSentence(words=['g', 'is', 'now', 'out', 'server', 'over', 'space', 'available', 'g'], tags=['all_15223']),\n",
              " LabeledSentence(words=['scan', 'for', 'server', 'completion', 'new', 'category', 'task', 'owner', 'documentation', 'see', 'attached', 'profile', 'global', 'security', 'create', 'and', 'add', 'the', 'appropriate', 'group', 'local', 'implement', 'tool', 'to', 'tool', 'inventory', 'management', 'antivirus', 'nawab', 'up', 'backup', 'configure'], tags=['all_26305']),\n",
              " LabeledSentence(words=['not', 'able', 'to', 'login', 'account', 'locked', 'out'], tags=['all_4218']),\n",
              " LabeledSentence(words=['should', 'to', 'distribute', 'against', 'and', 'production', 'hello', 'an', 'example', 'in', 'for', 'fixing', 'order', 'receive', 'is', 'the', 'issue', 'does', 'only', 'appear', 'case', 'user', 'ship', 'a', 'but', 'also', 'when', 'trying', 'order', 'shipping', 'it', 'like', 'allow', 'finish', 'date', 'due', 'or', 'past', 'purple', 'red', 'example', 'following', 'need', 'be', 'should', 'force', 'shipment', 'even', 'though', 'just', 'stock', 'transfer', 'use', 'start', 'rather', 'than', 'determine', 'whether', 'basic', 'of', 'blue', 'example', 'yellow', 'which', 'already', 'shown', 'transaction'], tags=['all_25785']),\n",
              " LabeledSentence(words=['request', 'to', 'remove', 'day', 'pick', 'route', 'logic', 'from', 'supply', 'chainto', 'for', 'customer', 'in', 'plant', 'view'], tags=['all_10026']),\n",
              " LabeledSentence(words=['help', 'with', 'engineering', 'tool', 'error', 'hi', 'team', 'could', 'you', 'please', 'automatically', 'to', 'open', 'the', 'engineering', 'tool', 'he', 'did', 'file', 'in', 'site', 'error', 'verification', 'name', 'is', 'error', 'this', 'message', 'all', 'site', 'attachment', 'screen', 'and', 'zip', 'let', 'me', 'know', 'if', 'have', 'more', 'can', 'contact', 'user'], tags=['all_9890']),\n",
              " LabeledSentence(words=['not', 'able', 'to', 'call', 'telephony', 'number', 'of', 'former', 'location', 'when', 'try', 'ex', 'or', 'we', 'could', 'hear', 'each', 'i', 'can', 'her', 'them', 'they', 'me', 'but', 'cannot', 'communicate', 'did', 'a', 'with', 'all', 'ex', 'and', 'it', 'works', 'normally'], tags=['all_23916']),\n",
              " LabeledSentence(words=['job', 'into', 'job', 'schedule', 'hand', 'way', 'received', 'from', 'at'], tags=['all_16284']),\n",
              " LabeledSentence(words=['issue', 'with', 'engineering', 'received', 'from', 'hello', 'i', 'am', 'not', 'able', 'to', 'see', 'option', 'for', 'new', 'customer', 'dealer', 'in', 'the', 'engineering', 'tool', 'please', 'help', 'me', 'resolve', 'issue'], tags=['all_1831']),\n",
              " LabeledSentence(words=['telephony', 'password', 'reset', 'very', 'morning', 'need', 'a', 'for', 'id'], tags=['all_9718']),\n",
              " LabeledSentence(words=['automatic', 'analysis', 'does', 'not', 'work'], tags=['all_19797']),\n",
              " LabeledSentence(words=['user', 'account', 'not', 'in', 'validity', 'date', 'unable', 'to', 'login', 'invalid'], tags=['all_9257']),\n",
              " LabeledSentence(words=['delivery', 'no', 'depreciation', 'billing', 'error', 'message', 'but', 'the', 'does', 'exist', 'unable', 'to', 'process', 'order', 'through', 'shipping', 'system', 'due', 'not', 'billing'], tags=['all_22557']),\n",
              " LabeledSentence(words=['want', 'for', 'material', 'plant', 'plant', 'thanks'], tags=['all_6536']),\n",
              " LabeledSentence(words=['corresponding', 'at', 'is', 'down', 'since'], tags=['all_13484']),\n",
              " LabeledSentence(words=['the', 'host', 'cannot', 'be', 'turned', 'on', 'on', 'the', 'power', 'light', 'is', 'normal', 'as', 'panel', 'are', 'always'], tags=['all_14002']),\n",
              " LabeledSentence(words=['i', 'am', 'get', 'this', 'error', 'when', 'trying', 'to', 'open', 'a', 'hand', 'file', 'can', 'you', 'help', 'excel', 'add', 'in', 'issue'], tags=['all_22266']),\n",
              " LabeledSentence(words=['query', 'attendance', 'tool', 'account'], tags=['all_4768']),\n",
              " LabeledSentence(words=['application', 'mi', 'on', 'node', 'be', 'down'], tags=['all_19275']),\n",
              " LabeledSentence(words=['install', 'reflect', 'at', 'of', 'trainee', 'to'], tags=['all_14497']),\n",
              " LabeledSentence(words=['job', 'hot', 'in', 'job', 'schedule', 'at', 'received', 'from', 'major', 'drive', 'time', 'cannot', 'write', 'to', 'device', 'io', 'error', 'backup', 'statistics', 'session', 'time', 'disk', 'aborted', 'total', 'media', 'used', 'agent', 'exit', 'status', 'system', 'user', 'eastern', 'daylight'], tags=['all_3820']),\n",
              " LabeledSentence(words=['cannot', 'find', 'in', 'telephony', 'i', 'as', 'well', 'telephony', 'had', 'access', 'until', 'last', 'week', 'both', 'possibly', 'on', 'too'], tags=['all_8472']),\n",
              " LabeledSentence(words=['computer', 'failure', 'in', 'the', 'control', 'room', 'on', 'third', 'floor', 'of', 'mill', 'the', 'computer', 'powder', 'cannot', 'be', 'when', 'on', 'and', 'power', 'indicator', 'light', 'orange'], tags=['all_12351']),\n",
              " LabeledSentence(words=['yesterday', 'afternoon', 'it', 'does', 'would', 'exist', 'in', 'but', 'the', 'anti', 'iso', 'already', 'when', 'i', 'try', 'to', 'recreate', 'with'], tags=['all_14614']),\n",
              " LabeledSentence(words=['when', 'i', 'call', 'the', 'office', 'with', 'telephony', 'cannot', 'hear', 'me', 'me', 'but', 'can', 'them', 'this', 'twice', 'today', 'last', 'interaction', 'id', 'also', 'some', 'ago', 'they', 'no', 'other', 'people', 'inside', 'and', 'outside', 'company'], tags=['all_11040']),\n",
              " LabeledSentence(words=['account', 'locked', 'in', 'ad'], tags=['all_1145']),\n",
              " LabeledSentence(words=['pi', 'and', 'connectivity', 'issue', 'certificate', 'renewal', 'hi', 'all', 'we', 'have', 'a', 'issue', 'between', 'due', 'to', 'on', 'azure', 'that', 'is', 'not', 'yet', 'side', 'issue', 'data', 'area', 'data', 'partner', 'are', 'being', 'from', 'worked', 'with', 'it', 'vice', 'in', 'prod', 'dev', 'start', 'time', 'th', 'when', 'customer', 'master', 'team', 'the', 'prospect', 'account', 'did', 'not', 'come', 'into', 'still', 'status', 'which', 'basically', 'they', 'by', 'target', 'system', 'upon', 'some', 'log', 'analysis', 'trying', 'identify', 'root', 'cause', 'pi', 'basis', 'its', 'been', 'production', 'environment', 'since', 'around', 'same', 'behavior', 'tool', 'of', 'various', 'nonproduction', 'as', 'well', 'you', 'can', 'find', 'error', 'system', 'postal', 'chain', 'cause', 'it', 'for', 'th', 'sept', 'expiration', 'date', 'th', 'but', 'new', 'they', 'even', 'aware', 'this', 'change', 'so', 'got', 'broken', 'next', 'need', 'chain', 'be', 'sent', 'so', 'update', 'whom', 'i', 'reach', 'out', 'do', 'an', 'house', 'or', 'want', 'me', 'open', 'case', 'once', 'received', 'maybe', 'first', 'then', 'confirmation', 'works', 'apply'], tags=['all_27625']),\n",
              " LabeledSentence(words=['reset', 'the', 'password', 'and', 'on', 'other', 'interaction'], tags=['all_19567']),\n",
              " LabeledSentence(words=['help', 'to', 'create', 'delivery', 'note', 'for', 'received', 'from', 'dear', 'it', 'would', 'you', 'its', 'urgent', 'plant', 'for', 'what', 'error', 'we', 'unable', 'create'], tags=['all_11688']),\n",
              " LabeledSentence(words=['the', 'attendance', 'system', 'cannot', 'enter', 'please', 'handled', 'it', 'thank', 'you'], tags=['all_19093']),\n",
              " LabeledSentence(words=['rebate', 'will', 'not', 'create', 'partial', 'settlement', 'a', 'with', 'transaction', 'i', 'have', 'confirmed', 'agreement', 'particular', 'that', 'there', 'were', 'during', 'the', 'month', 'of', 'august', 'other', 'are', 'working', 'to', 'credit', 'without', 'fail', 'please', 'advise', 'what', 'could', 'be', 'cause', 'and', 'correct', 'also', 'note', 'this', 'same', 'process', 'worked', 'generate'], tags=['all_13669']),\n",
              " LabeledSentence(words=['re', 'need', 'a', 'little', 'received', 'from', 'is', 'the', 'delivery', 'output', 'type', 'which', 'was', 'for', 'baker', 'huge', 'when', 'went', 'live', 'on', 'note', 'will', 'be', 'added', 'automatically', 'as', 'soon', 'if', 'there', 'no', 'specific', 'customer', 'in', 'this', 'scenario', 'since', 'we', 'have', 'already', 'with', 'it', 'print', 'immediately', 'printer', 'been', 'defined', 'default', 'printer', 'and', 'combination', 'complexity', 'that', 'are', 'shipping', 'to', 'from', 'both', 'can', 'you', 'please', 'confirm', 'z', 'your', 'help', 'check', 'team', 'they', 'printing', 'note', 'based', 'above', 'information', 'shall', 'let', 'know', 'an', 'senior', 'analyst', 'global', 'do', 'not', 'unless', 'really', 'preserve', 'planet', 'earth', 'sent', 'to', 'subject', 'sorry', 'i', 'never', 'just', 'say', 'know', 'how', 'its', 'sure', 'my', 'dilemma', 'still', 'who', 'do', 'contact', 'about', 'this', 'not', 'sure', 'ask', 'it', 'are', 'not', 'easy', 'explain', 'stuff', 'are', 'wanting', 'transaction', 'screen', 'instead', 'of', 'used', 'were', 'but', 'what', 'myself', 'me', 'ill', 'try', 'better', 'an', 'example', 'want', 'faff', 'get', 'right', 'now', 'after', 'go', 'add', 'here', 'faff'], tags=['all_2930']),\n",
              " LabeledSentence(words=['tool', 'access', 'received', 'from', 'good', 'morning', 'i', 'am', 'unable', 'to', 'run', 'any', 'in', 'today', 'it', 'worked', 'fine', 'yesterday', 'please', 'advise'], tags=['all_4400']),\n",
              " LabeledSentence(words=['unable', 'to', 'print', 'no', 'connection', 'between', 'the', 'and', 'server', 'normal', 'printing', 'works', 'works', 'fine', 'on', 'win', 'issue', 'is', 'only', 'with', 'scanner', 'it', 'a', 'printer'], tags=['all_13878']),\n",
              " LabeledSentence(words=['company', 'unlink', 'to', 'is', 'down', 'although', 'on'], tags=['all_22060']),\n",
              " LabeledSentence(words=['re', 'logging', 'into', 'mi', 'supervisor', 'in', 'error', 'internal', 'server', 'error', 'received', 'from', 'hi', 'recent', 'we', 'have', 'some', 'to', 'improve', 'the', 'performance', 'can', 'you', 'please', 'check', 'if', 'are', 'but', 'getting', 'same', 'issue'], tags=['all_8484']),\n",
              " LabeledSentence(words=['unable', 'to', 'login', 'the', 'switch', 'well', 'it', 'is', 'with', 'memory', 'issue'], tags=['all_25161']),\n",
              " LabeledSentence(words=['disk', 'space', 'utilization', 'is', 'out', 'and', 'currently', 'available', 'alert'], tags=['all_18628']),\n",
              " LabeledSentence(words=['job', 'he', 'in', 'job', 'schedule', 'at', 'received', 'up'], tags=['all_14380']),\n",
              " LabeledSentence(words=['ticket', 'update', 'no'], tags=['all_715']),\n",
              " LabeledSentence(words=['received', 'from', 'hello', 'what', 'should', 'we', 'be', 'on', 'out', 'phone', 'or', 'business', 'collaboration', 'platform', 'and', 'back', 'our', 'phone', 'cloud', 'computer', 'best'], tags=['all_5249']),\n",
              " LabeledSentence(words=['metal', 'cutting', 'technology', 'company', 'hi', 'team', 'i', 'have', 'the', 'attach', 'quote', 'however', 'it', 'is', 'not', 'up', 'showing', 'correctly', 'see', 'attached', 'can', 'you', 'please', 'fix', 'this', 'as', 'soon', 'possible'], tags=['all_20826']),\n",
              " LabeledSentence(words=['job', 'job', 'in', 'job', 'schedule', 'at', 'sent', 'out'], tags=['all_27118']),\n",
              " LabeledSentence(words=['our', 'server', 'is', 'getting', 'full', 'again', 'i', 'have', 'found', 'g', 'that', 'can', 'erase', 'but', 'dont', 'last', 'too', 'long', 'you', 'help', 'language', 'explorer', 'customer', 'number', 'telephone'], tags=['all_15671']),\n",
              " LabeledSentence(words=['oracle', 'finance', 'financial', 'management', 'web', 'tier', 'server', 'providing', 'monitor', 'tier'], tags=['all_14735']),\n",
              " LabeledSentence(words=['although', 'server', 'not', 'appropriate'], tags=['all_30244']),\n",
              " LabeledSentence(words=['connectivity', 'outage', 'south', 'site', 'is', 'hard', 'down', 'since', 'am', 'on', 'what', 'type', 'of', 'outage', 'x', 'network', 'circuit', 'power', 'please', 'specify', 'outage', 'top', 'no', 'when', 'did', 'it', 'start', 'maintenance', 'power', 'company', 'power', 'provider', 'network', 'maint', 'does', 'have', 'a', 'backup', 'circuit', 'active', 'contact', 'notified', 'remote', 'dialing', 'supply', 'reset', 'working', 'vendor', 'ticket', 'global', 'vendor', 'vendor', 'additional', 'diagnostics'], tags=['all_29270']),\n",
              " LabeledSentence(words=['create', 'express', 'stock', 'transit', 'for', 'to', 'art', 'hi', 'it', 'can', 'you', 'please', 'help', 'check', 'why', 'i', 'do', 'not', 'see', 'any', 'error', 'on', 'our', 'side'], tags=['all_22253']),\n",
              " LabeledSentence(words=['access', 'lock', 'dad', 'me', 'out', 'i', 'tried', 'going', 'into', 'password', 'management', 'tool', 'to', 'reset', 'my', 'password', 'but', 'listed', 'can', 'you', 'please', 'unlock', 'account'], tags=['all_18050']),\n",
              " LabeledSentence(words=['aid', 'needs', 'to', 'format', 'well', 'reinstall'], tags=['all_20603']),\n",
              " LabeledSentence(words=['is', 'randomly', 'and', 'which', 'office'], tags=['all_8588']),\n",
              " LabeledSentence(words=['ordinary', 'no', 'full', 'access', 'to', 'the', 'following', 'eu', 'tool', 'by', 'sent', 'am', 'to', 'subject', 'authorization', 'for', 'module', 'hello', 'trunk', 'eu', 'tool', 'batch', 'management', 'powder', 'control', 'station', 'grateful', 'yours', 'russia', 'supervisor', 'rod', 'production', 'registered', 'office', 'general', 'partner', 'company', 'this', 'communication', 'is', 'intended', 'solely', 'use', 'of', 'and', 'may', 'contain', 'information', 'that', 'confidential', 'confidential', 'or', 'exempt', 'from', 'disclosure', 'under', 'applicable', 'law', 'distribution', 'distribution', 'reproduction', 'this', 'by', 'other', 'than', 'strictly', 'if', 'you', 'have', 'received', 'message', 'mistake', 'please', 'notify', 'sender', 'delete', 'message', 'select', 'link', 'view', 'disclaimer', 'in', 'an', 'alternate', 'language'], tags=['all_12114']),\n",
              " LabeledSentence(words=['unable', 'to', 'launch', 'outlook'], tags=['all_719']),\n",
              " LabeledSentence(words=['quote', 'bucket', 'projector', 'adapter', 'for', 'dell', 'latitude', 'received', 'from', 'dear', 'sir', 'please', 'give', 'the', 'adopted', 'my', 'with', 'best'], tags=['all_18650']),\n",
              " LabeledSentence(words=['monitor', 'on', 'which', 'out'], tags=['all_25358']),\n",
              " LabeledSentence(words=['unable', 'to', 'check', 'does', 'not', 'sync', 'account', 'are', 'outdated', 'from', 'phone', 'tried', 'repair', 'the', 'and', 'its', 'showing', 'that', 'not', 'possible', 'even', 'user', 'remove', 'read', 'account'], tags=['all_14458']),\n",
              " LabeledSentence(words=['not', 'possible', 'after', 'the', 'error', 'multiple', 'affected', 'please', 'see', 'message', 'attached'], tags=['all_5549']),\n",
              " LabeledSentence(words=['outlook', 'unable', 'to', 'open', 'the', 'its', 'at', 'method', 'stage'], tags=['all_30439']),\n",
              " LabeledSentence(words=['customer', 'not', 'getting', 'order', 'automatically', 'received', 'from', 'two', 'have', 'been', 'the', 'like', 'they', 'for', 'past', 'both', 'are', 'over', 'same', 'top', 'pare', 'not', 'as', 'should', 'be', 'sending', 'to', 'since', 'th', 'them', 'can', 'someone', 'look', 'into', 'this', 'this', 'is', 'affecting', 'paying', 'as', 'use', 'a', 'receiver', 'so', 'pay', 'bill', 'senior', 'engineer', 'company'], tags=['all_27585']),\n",
              " LabeledSentence(words=['is', 'currently', 'higher', 'utilization', 'please', 'explain'], tags=['all_30092']),\n",
              " LabeledSentence(words=['error', 'with', 'engineering', 'tool', 'play', 'and', 'company', 'hi', 'team', 'i', 'needs', 'your', 'help', 'two', 'the', 'tool', 'attachment', 'in', 'ticket', 'error', 'computer', 'if', 'you', 'have', 'more', 'please', 'please', 'me'], tags=['all_29912']),\n",
              " LabeledSentence(words=['the', 'terminate', 'action', 'for', 'from', 'sent', 'to', 'subject', 'hello', 'a', 'termination', 's', 'effective', 'already'], tags=['all_7319']),\n",
              " LabeledSentence(words=['attendance', 'tool', 'password', 'received', 'from', 'hi', 'i', 'have', 'forgotten', 'the', 'my', 'user', 'id', 'is', 'with', 'best'], tags=['all_5428']),\n",
              " LabeledSentence(words=['access', 'issue', 'be', 'hand', 'system', 'other', 'enter', 'user', 'id', 'of', 'the', 'issue', 'transaction', 'needs', 'or', 'was', 'working', 'with', 'explain', 'password', 'no', 'longer', 'possible', 'too', 'many', 'provide', 'same', 'as', 'this', 'user'], tags=['all_13298']),\n",
              " LabeledSentence(words=['unable', 'to', 'login', 'ethics', 'training', 'course', 'hi', 'once', 'trying', 'course', 'i', 'get', 'the', 'web', 'page', 'as', 'unregistered', 'user', 'please', 'can', 'you', 'help', 'in', 'this'], tags=['all_20204']),\n",
              " LabeledSentence(words=['costing', 'issue', 'for', 'material', 'in', 'plant', 'plant', 'received', 'from', 'hi', 'can', 'some', 'help', 'me', 'with', 'a', 'issue', 'this', 'is', 'one', 'that', 'made', 'at', 'plant', 'and', 'was', 'extended', 'to', 'plant', 'as', 'you', 'see', 'the', 'cost', 'i', 'think', 'incorrect', 'when', 'try', 'it', 'coming', 'on', 'an', 'warning', 'message', 'of', 'mat', 'plant', 'itemization', 'does', 'not', 'match', 'component', 'split', 'am', 'sure', 'what', 'need', 'do', 'correct', 'this', 'help', 'cad', 'best'], tags=['all_8071']),\n",
              " LabeledSentence(words=['invalid', 'no', 'possible', 'with', 'these', 'error', 'when', 'entering', 'a', 'stock', 'transfer', 'for', 'material', 'from', 'plant', 'to', 'plant'], tags=['all_19020']),\n",
              " LabeledSentence(words=['interface', 'on', 'is', 'off'], tags=['all_24729']),\n",
              " LabeledSentence(words=['urgent', 'only', 'the', 'attachment', 'are', 'showing', 'up', 'in', 'my', 'active', 'mobile'], tags=['all_24681']),\n",
              " LabeledSentence(words=['printer', 'configure', 'bit', 'driver', 'install', 'on', 'new'], tags=['all_8896']),\n",
              " LabeledSentence(words=['issue', 'received', 'from', 'hello', 'facing', 'login', 'problem', 'password', 'with', 'best'], tags=['all_3729']),\n",
              " LabeledSentence(words=['issue', 'received', 'from', 'hello', 'before', 'i', 'try', 'to', 'create', 'a', 'new', 'number', 'well', 'with', 'storage', 'location', 'plant', 'the', 'under', 'plant', 'even', 'is', 'as', 'plant', 'in', 'line', 'item', 'rectify', 'same'], tags=['all_30791']),\n",
              " LabeledSentence(words=['balancing', 'error', 'received', 'from', 'good', 'morning', 'please', 'help', 'a', 'few', 'of', 'us', 'the', 'south', 'office', 'in', 'cannot', 'log', 'into', 'we', 'are', 'all', 'getting', 'on', 'it', 'like', 'line', 'is', 'down', 'not', 'affecting', 'everyone', 'kind'], tags=['all_3391']),\n",
              " LabeledSentence(words=['data', 'again', 'down', 'for'], tags=['all_27909']),\n",
              " LabeledSentence(words=['network', 'multiple', 'are', 'running', 'slow', 'how', 'did', 'you', 'determine', 'there', 'all', 'system', 'very', 'slowly', 'is', 'only', 'slow', 'please', 'use', 'the', 'quick', 'ticket', 'within', 'folder', 'if', 'no', 'more', 'than', 'one', 'impacted', 'yes', 'what', 'server', 'on', 'server', 'name', 'in', 'status', 'bar', 'at', 'bottom', 'right', 'of', 'your', 'screen', 'eu', 'easy', 'do', 'other', 'also', 'notice', 'response', 'times', 'yes', 'many', 'plant', 'eu', 'tool', 'print', 'create', 'delivery'], tags=['all_11952']),\n",
              " LabeledSentence(words=['password', 'received', 'from', 'hello', 'could', 'you', 'please', 'help', 'me', 'on', 'unlocking', 'the', 'it', 'is', 'blocked', 'for', 'entering', 'wrong', 'password', 'best'], tags=['all_5239']),\n",
              " LabeledSentence(words=['loading', 'failure', 'after', 'is', 'and', 'the', 'button', 'cannot', 'be', 'displayed', 'on', 'browser', 'interface'], tags=['all_4006']),\n",
              " LabeledSentence(words=['error', 'when', 'in', 'received', 'from', 'good', 'morning', 'as', 'with', 'i', 'send', 'same', 'error', 'message', 'that', 'shopping', 'contact'], tags=['all_12453']),\n",
              " LabeledSentence(words=['job', 'if', 'eu', 'in', 'job', 'schedule', 'at', 'sent', 'from'], tags=['all_21203']),\n",
              " LabeledSentence(words=['job', 'in', 'job', 'schedule', 'job', 'received', 'out', 'at'], tags=['all_15604']),\n",
              " LabeledSentence(words=['need', 'to', 'be', 'fix'], tags=['all_17215']),\n",
              " LabeledSentence(words=['network', 'outage', 'company', 'is', 'down', 'since', 'off', 'what', 'type', 'of', 'x', 'network', 'circuit', 'power', 'please', 'specify', 'outage', 'top', 'site', 'no', 'when', 'did', 'it', 'start', 'maintenance', 'power', 'no', 'company', 'power', 'provider', 'network', 'maint', 'does', 'have', 'a', 'backup', 'circuit', 'yes', 'active', 'no', 'contact', 'notified', 'remote', 'dialing', 'na', 'equipment', 'reset', 'no', 'working', 'na', 'vendor', 'ticket', 'global', 'vendor', 'vendor', 'additional', 'diagnostics'], tags=['all_13534']),\n",
              " LabeledSentence(words=['well', 'access', 'point', 'conference', 'room', 'r', 'e', 'nit'], tags=['all_12657']),\n",
              " LabeledSentence(words=['reset', 'to', 'received', 'from', 'hello', 'can', 'you', 'help', 'me', 'of', 'plant', 'stock', 'report', 'marked', 'below', 'thank', 'process', 'company', 'director', 'fairy', 'this', 'communication', 'is', 'intended', 'solely', 'for', 'use', 'of', 'and', 'may', 'contain', 'information', 'that', 'confidential', 'confidential', 'or', 'exempt', 'from', 'disclosure', 'under', 'applicable', 'law', 'distribution', 'distribution', 'reproduction', 'this', 'by', 'other', 'than', 'strictly', 'if', 'have', 'message', 'mistake', 'please', 'notify', 'sender', 'delete', 'message', 'select', 'following', 'link', 'view', 'disclaimer', 'in', 'an', 'alternate', 'language'], tags=['all_12428']),\n",
              " LabeledSentence(words=['uncan', 'able', 'connect'], tags=['all_27444']),\n",
              " LabeledSentence(words=['supply', 'service', 'kit', 'for', 'we'], tags=['all_3473']),\n",
              " LabeledSentence(words=['for', 'and', 'internal', 'monitor', 'new', 'desk', 'space'], tags=['all_24872']),\n",
              " LabeledSentence(words=['the', 'will', 'be', 'used', 'to', 'password', 'company', 'via', 'hello', 'i', 'assume', 'that', 'we', 'need', 'delete', 'this', 'user', 'profile', 'on', 'so', 'please', 'send', 'a', 'ticket', 'team', 'because', 'his', 'account', 'in', 'active', 'directory', 'is', 'not', 'locked', 'manager', 'an', 'password', 'hi', 'can', 'you', 'reset', 'my', 'again', 'last', 'was', 'it', 'does', 'not', 'work', 'cannot', 'at', 'moment'], tags=['all_7095']),\n",
              " LabeledSentence(words=['printer', 'em', 'no', 'not', 'works', 'despite', 'several', 'print', 'other', 'please', 'also', 'install', 'em'], tags=['all_21828']),\n",
              " LabeledSentence(words=['please', 'have', 'a', 'look', 'at', 'po', 'of', 'and', 'page', 'should', 'only', 'be', 'printing', 'as', 'last', 'to', 'order', 'not', 'after', 'each', 'page'], tags=['all_15426']),\n",
              " LabeledSentence(words=['volume', 'f', 'deb', 'is', 'over', 'space', 'available', 'm'], tags=['all_3162']),\n",
              " LabeledSentence(words=['mi', 'is', 'not', 'can', 'be', 'out', 'system', 'locking', 'up', 'or', 'giving', 'error', 'see', 'below', 'there', 'was', 'a', 'technical', 'error', 'please', 'try', 'again', 'if', 'the', 'problem', 'notify', 'an', 'administrator', 'following', 'while', 'request', 'object', 'object', 'status', 'error', 'internal', 'server', 'operator', 'have', 'computer', 'multiple', 'times'], tags=['all_6259']),\n",
              " LabeledSentence(words=['him', 'time', 'received', 'from', 'team', 'we', 'need', 'to', 'update', 'the', 'report', 'for', 'him', 'because', 'of', 'new', 'employee', 'please', 'see', 'below', 'by', 'sent', 'august', 'to', 'subject', 'aw', 'added', 'hello', 'everybody', 'in', 'must', 'also', 'be', 'length', 'can', 'arrange', 'accordingly', 'sincerely', 'knowrs', 'this', 'communication', 'is', 'intended', 'solely', 'use', 'and', 'may', 'contain', 'information', 'that', 'confidential', 'confidential', 'or', 'exempt', 'from', 'disclosure', 'under', 'applicable', 'law', 'distribution', 'distribution', 'reproduction', 'this', 'by', 'other', 'than', 'strictly', 'if', 'you', 'have', 'message', 'mistake', 'notify', 'sender', 'delete', 'message', 'company', 'select', 'following', 'link', 'view', 'disclaimer', 'an', 'alternate', 'language'], tags=['all_14977']),\n",
              " LabeledSentence(words=['mouse', 'all', 'over', 'the', 'window', 'again', 'received', 'from', 'i', 'had', 'this', 'problem', 'was', 'resolved', 'by', 'replacement', 'of', 'hardware', 'however', 'am', 'support'], tags=['all_13511']),\n",
              " LabeledSentence(words=['job', 'in', 'job', 'schedule', 'he', 'received', 'up', 'at'], tags=['all_17257']),\n",
              " LabeledSentence(words=['power', 'outage', 'site', 'is', 'hard', 'down', 'since', 'glad', 'what', 'type', 'of', 'outage', 'x', 'network', 'circuit', 'power', 'please', 'specify', 'outage', 'top', 'no', 'when', 'did', 'it', 'start', 'maintenance', 'power', 'no', 'company', 'provider', 'network', 'no', 'maint', 'does', 'have', 'a', 'backup', 'circuit', 'no', 'active', 'no', 'contact', 'notified', 'control', 'dialing', 'equipment', 'reset', 'working', 'on', 'vendor', 'ticket', 'global', 'vendor', 'vendor', 'additional', 'diagnostics'], tags=['all_27172']),\n",
              " LabeledSentence(words=['do', 'not', 'creanotherte', 'a', 'demand', 'received', 'from', 'hello', 'help', 'the', 'agreement', 'is', 'shown', 'in', 'as', 'demand', 'but', 'no', 'po', 'for', 'production', 'plant', 'not', 'maybe', 'it', 'problem', 'with', 'material', 'type', 'best'], tags=['all_20737']),\n",
              " LabeledSentence(words=['for', 'order', 'note', 'not', 'possible', 'please', 'see', 'message'], tags=['all_20190']),\n",
              " LabeledSentence(words=['cannot', 'to', 'login', 'm'], tags=['all_22013']),\n",
              " LabeledSentence(words=['plant', 'received', 'from', 'helping', 'it', 'help', 'please', 'refer', 'to', 'the', 'below', 'delivery', 'note', 'number', 'we', 'are', 'not', 'able', 'return', 'on', 'this'], tags=['all_15816']),\n",
              " LabeledSentence(words=['job', 'hot', 'the', 'job', 'schedule', 'up', 'received', 'from'], tags=['all_29739']),\n",
              " LabeledSentence(words=['circuit', 'outage', 'at', 'since', 'am', 'site', 'is', 'on', 'primary', 'circuit', 'what', 'type', 'of', 'outage', 'network', 'x', 'circuit', 'power', 'please', 'specify', 'outage', 'top', 'guess', 'when', 'did', 'it', 'start', 'maintenance', 'power', 'no', 'company', 'power', 'provider', 'network', 'no', 'maint', 'does', 'have', 'a', 'backup', 'yes', 'active', 'yes', 'contact', 'notified', 'yes', 'remote', 'dialing', 'equipment', 'reset', 'working', 'yes', 'vendor', 'ticket', 'global', 'vendor', 'vendor', 'additional', 'diagnostics'], tags=['all_24192']),\n",
              " LabeledSentence(words=['error', 'message', 'and', 'different', 'during', 'working', 'on', 'i', 'm', 'getting', 'exit', 'i', 'attached'], tags=['all_3010']),\n",
              " LabeledSentence(words=['id', 'printer', 'not', 'working', 'at', 'provider'], tags=['all_21444']),\n",
              " LabeledSentence(words=['termination', 'for', 'hello', 'a', 'effective', 'been', 'below', 'the', 'link', 'to', 'view', 'here'], tags=['all_18692']),\n",
              " LabeledSentence(words=['user', 'with', 'site', 'and', 'also', 'vendor', 'number'], tags=['all_1401']),\n",
              " LabeledSentence(words=['client', 'license', 'and', 'be', 'now', 'the', 'mode', 'eagle'], tags=['all_27664']),\n",
              " LabeledSentence(words=['in', 'universal', 'ticket', 'received', 'from', 'all', 'this', 'with', 'and', 'the', 'problem', 'is', 'not', 'by', 'exclusion', 'list', 'or', 'because', 'of', 'a', 'security', 'configuration', 'where', 'but', 'no', 'notification', 'we', 'to', 'screen', 'sud', 'attached', 'incident', 'you', 'will', 'see', 'address', 'with', 'incorrectly', 'please', 'update', 'dear', 'madam', 'sir', 'i', 'am', 'longer', 'my', 'outlook', 'how', 'can', 'restore', 'these', 'kind'], tags=['all_21192']),\n",
              " LabeledSentence(words=['job', 'arc', 'in', 'job', 'regular', 'at', 'received', 'from'], tags=['all_14828']),\n",
              " LabeledSentence(words=['unable', 'to', 'generate', 'as', 'per', 'please', 'find', 'the', 'error', 'message', 'attached', 'copy', 'help', 'fixing', 'this', 'issue'], tags=['all_9003']),\n",
              " LabeledSentence(words=['replacement', 'tape', 'printer', 'we'], tags=['all_6996']),\n",
              " LabeledSentence(words=['needs', 'the', 'to', 'save', 'folder', 'documentation'], tags=['all_689']),\n",
              " LabeledSentence(words=['posting', 'error', 'urgently', 'received', 'from', 'hi', 'team', 'kindly', 'create', 'a', 'ticket', 'and', 'allocate', 'it', 'to', 'me'], tags=['all_9962']),\n",
              " LabeledSentence(words=['machine', 'please', 'check', 'the', 'of', 'my', 'machine', 'so', 'is', 'out', 'ordinary', 'even', 'though', 'end', 'month'], tags=['all_23940']),\n",
              " LabeledSentence(words=['personal', 'run', 'no', 'longer', 'available', 'after', 'server', 'migration', 'please', 'restore', 'your', 'as', 'soon', 'possible', 'unavailable'], tags=['all_15191']),\n",
              " LabeledSentence(words=['but', 'working', 'received', 'from', 'dear', 'sir', 'i', 'had', 'tried', 'to', 'open', 'please', 'see', 'here', 'the', 'attachment', 'for', 'message', 'while', 'opening', 'same'], tags=['all_16215']),\n",
              " LabeledSentence(words=['import', 'assistant', 'did', 'not', 'work', 'correctly', 'was', 'possible'], tags=['all_26557']),\n",
              " LabeledSentence(words=['engineering', 'tool', 'not', 'opening'], tags=['all_1202']),\n",
              " LabeledSentence(words=['job', 'expense', 'na', 'u', 'in', 'job', 'schedule', 'at', 'receive', 'from'], tags=['all_29050']),\n",
              " LabeledSentence(words=['job', 'payroll', 'sa', 'u', 'in', 'job', 'schedule', 'at', 'given', 'from'], tags=['all_27160']),\n",
              " LabeledSentence(words=['job', 'couple', 'in', 'job', 'regular', 'at', 'received', 'from'], tags=['all_29749']),\n",
              " LabeledSentence(words=['devoid', 'data', 'the', 'beyond', 'been', 'used', 'to', 'devoid', 'data'], tags=['all_19136']),\n",
              " LabeledSentence(words=['power', 'outage', 'sa', 'circuit', 'is', 'down', 'at', 'am', 'on', 'site', 'up', 'primary', 'what', 'type', 'of', 'network', 'x', 'circuit', 'power', 'please', 'specify', 'outage', 'top', 'no', 'when', 'did', 'it', 'start', 'improvement', 'power', 'no', 'company', 'provider', 'network', 'no', 'maint', 'does', 'have', 'a', 'backup', 'yes', 'active', 'yes', 'contact', 'notified', 'remote', 'dialing', 'na', 'equipment', 'reset', 'na', 'working', 'yes', 'vendor', 'ticket', 'global', 'vendor', 'vendor', 'additional', 'diagnostics'], tags=['all_12198']),\n",
              " LabeledSentence(words=['eu', 'easy', 'does', 'not', 'worked'], tags=['all_29649']),\n",
              " LabeledSentence(words=['job', 'in', 'job', 'schedule', 'at', 'received', 'from', 'major', 'hard', 'time', 'am', 'cannot', 'write', 'to', 'device', 'io', 'error'], tags=['all_9966']),\n",
              " LabeledSentence(words=['turn', 'off', 'telephony', 'and', 'turkey', 'between', 'local', 'time', 'time', 'due', 'to', 'meeting', 'by'], tags=['all_17513']),\n",
              " LabeledSentence(words=['on', 'big', 'is', 'but', 'stable', 'in', 'the', 'meeting', 'room', 'if', 'we', 'have', 'a', 'at', 'with', 'lot', 'of', 'like', 'today', 'stable', 'will', 'get', 'frequently', 'i', 'do', 'possibility', 'to', 'check', 'how', 'much', 'are', 'connected', 'which', 'for', 'problem'], tags=['all_16066']),\n",
              " LabeledSentence(words=['job', 'job', 'a', 'into', 'job', 'schedule', 'at', 'received', 'from'], tags=['all_14833']),\n",
              " LabeledSentence(words=['the', 'correct', 'delivery', 'are', 'not', 'showing', 'on', 'schedule', 'and', 'output', 'so', 'is', 'set', 'up', 'to', 'shipment', 'day', 'air', 'which', 'would', 'be', 'however', 'a', 'date', 'of', 'days', 'quote', 'was', 'with', 'next', 'shipping', 'should', 'but', 'it'], tags=['all_22104']),\n",
              " LabeledSentence(words=['reset', 'the', 'password', 'for', 'on', 'production', 'please', 'user', 'old', 'one', 'locked', 'now'], tags=['all_25523']),\n",
              " LabeledSentence(words=['record', 'received', 'from', 'amy', 'li', 'sent', 'to', 'subject', 're', 'we', 'want', 'to', 'understand', 'why', 'the', 'cost', 'is', 'high', 'for', 'in', 'plant', 'select', 'one', 'example', 'this', 'plant', 'ship', 'plant', 'order', 'relevant', 'and', 'intercompany', 'billing', 'plant', 'shipment', 'plant', 'did', 'not', 'so', 'delivery', 'on', 'this', 'from', 'margin', 'report', 'it', 'high', 'based', 'lot', 'size', 'same', 'as', 'order'], tags=['all_1348']),\n",
              " LabeledSentence(words=['disk', 'free', 'on', 'c', 'is', 'now', 'which', 'below', 'the', 'warning', 'threshold', 'out', 'one', 'total', 'size'], tags=['all_17262']),\n",
              " LabeledSentence(words=['fi', 'two', 'to', 'be', 'added', 'i', 'am', 'sorry', 'have', 'another', 'that', 'need', 'added', 'and', 'please', 'copy', 'from', 'the', 'question', 'is', 'the', 'error', 'only', 'comes', 'up', 'if', 'someone', 'clear', 'open', 'for', 'these', 'this', 'incident', 'been', 'against', 'ticket', 'no'], tags=['all_17572']),\n",
              " LabeledSentence(words=['network', 'outage', 'south', 'site', 'is', 'hard', 'down', 'since', 'am', 'on', 'what', 'type', 'the', 'outage', 'x', 'network', 'circuit', 'power', 'please', 'specify', 'outage', 'top', 'no', 'when', 'did', 'it', 'start', 'redoenance', 'power', 'company', 'power', 'provider', 'network', 'maint', 'does', 'have', 'a', 'backup', 'circuit', 'active', 'contact', 'notified', 'remote', 'dialing', 'equipment', 'reset', 'working', 'vendor', 'ticket', 'global', 'vendor', 'vendor', 'additional', 'diagnostics'], tags=['all_29277']),\n",
              " LabeledSentence(words=['microphone', 'from', 'mobile', 'phone', 'defective', 'you', 'change', 'phone'], tags=['all_21477']),\n",
              " LabeledSentence(words=['account', 'disabled', 'for', 'user'], tags=['all_6178']),\n",
              " LabeledSentence(words=['update', 'user', 'to', 'understanding', 'roll'], tags=['all_12202']),\n",
              " LabeledSentence(words=['please', 'one', 'user', 'correctly', 'after', 'license', 'all', 'network', 'are', 'missing'], tags=['all_30042']),\n",
              " LabeledSentence(words=['a', 'user', 'was', 'able', 'to', 'add', 'partner', 'in', 'and', 'they', 'do', 'not', 'have', 'security', 'do', 'so', 'please', 'advise', 'how', 'this', 'can', 'be', 'fixed', 'someone', 'the', 'service', 'center', 'successfully', 'an', 'customer', 'master', 'account', 'we', 'set', 'it', 'up', 'that', 'only', 'assignment', 'mast', 'partner', 'role', 'would', 'access', 'function', 'here', 'is', 'summary', 'of', 'what', 'per', 'he', 'strange', 'system', 'gave', 'him', 'warning', 'not', 'could', 'even', 'save', 'until', 'field', 'but', 'added', 'function', 'anyway', 'when', 'saved', 'account', 'the'], tags=['all_20293']),\n",
              " LabeledSentence(words=['hesitate', 'assist', 'in', 'logging', 'into', 'tool', 'from', 'sure', 'attached', 'screen', 'shot', 'he', 'was', 'unable', 'to', 'access', 'his'], tags=['all_28166']),\n",
              " LabeledSentence(words=['the', 'does', 'withoutt', 'work', 'there', 'is', 'no', 'option', 'in', 'check', 'status'], tags=['all_21117']),\n",
              " LabeledSentence(words=['out', 'was', 'probably', 'defective', 'machine'], tags=['all_24863']),\n",
              " LabeledSentence(words=['i', 'have', 'a', 'issue', 'reversed', 'for', 'order', 'when', 'went', 'to', 'van', 'complete', 'delivery', 'get', 'language', 'explorer', 'customer', 'number', 'telephone', 'it', 'team', 'this', 'message', 'value', 'of', 'counter', 'doc', 'in', 'supply', 'chain', 'is', 'but', 'should', 'be', 'please', 'give'], tags=['all_23037']),\n",
              " LabeledSentence(words=['good', 'in', 'job', 'schedule', 'cold', 'received', 'from', 'at'], tags=['all_16303']),\n",
              " LabeledSentence(words=['job', 'out', 'os', 'way', 'in', 'job', 'schedule', 'at', 'received', 'up'], tags=['all_29161']),\n",
              " LabeledSentence(words=['why', 'number', 'of', 'process', 'but', 'found'], tags=['all_24727']),\n",
              " LabeledSentence(words=['ak', 'in', 'outlook', 'not', 'working', 'received', 'from', 'hello', 'can', 'you', 'please', 'help', 'me', 'to', 'solve', 'the', 'following', 'issue', 'whenever', 'i', 'want', 'start', 'outlook', 'then', 'get', 'this', 'dynamics', 'message', 'order', 'proceed', 'further', 'have', 'click', 'cancel', 'several', 'times', 'x', 'or', 'x', 'is', 'but', 'there', 'no', 'connection', 'with', 'which', 'need', 's', 'kind'], tags=['all_5914']),\n",
              " LabeledSentence(words=['power', 'issue', 'is', 'not', 'get', 'on'], tags=['all_16070']),\n",
              " LabeledSentence(words=['calendar', 'hello', 'please', 'have', 'a', 'look', 'thank', 'why'], tags=['all_28054']),\n",
              " LabeledSentence(words=['job', 'job', 'one', 'in', 'job', 'schedule', 'at', 'received', 'from'], tags=['all_14835']),\n",
              " LabeledSentence(words=['wild', 'card', 'search', 'for', 'grade', 'be', 'but', 'working', 'in', 'by', 'part', 'number', 'distributor', 'tool'], tags=['all_30698']),\n",
              " LabeledSentence(words=['unable', 'to', 'install', 'android', 'on', 'phone'], tags=['all_10035']),\n",
              " LabeledSentence(words=['manipulator', 'server', 'cabinet', 'is', 'down', 'since', 'am', 'on'], tags=['all_25473']),\n",
              " LabeledSentence(words=['in', 'is', 'not', 'working'], tags=['all_662']),\n",
              " LabeledSentence(words=['in', 'service', 'be', 'not', 'running'], tags=['all_14381']),\n",
              " LabeledSentence(words=['please', 'help', 'delete', 'and', 'invoice', 'run', 'in', 'code', 'f'], tags=['all_12482']),\n",
              " LabeledSentence(words=['all', 'my', 'in', 'collaboration', 'platform', 'have', 'welcome', 'our', 'next', 'available', 'whether', 'will', 'be', 'with', 'you', 'shortly', 'interaction', 'agent', 'visitor', 'the', 'conversation', 'hi'], tags=['all_13675']),\n",
              " LabeledSentence(words=['link', 'received', 'from', 'hello', 'i', 'am', 'not', 'able', 'to', 'log', 'on', 'above', 'network', 'with', 'me', 'login', 'please', 'check', 'and', 'resolve', 'as', 'my', 'work', 'is', 'getting'], tags=['all_4443']),\n",
              " LabeledSentence(words=['printer', 'assignment', 'to', 'the', 'schedule', 'received', 'from', 'hello', 'because', 'our', 'is', 'defective', 'we', 'are', 'temporarily', 'would', 'you', 'therefore', 'please', 'same', 'all', 'in', 'plant', 'who', 'currently', 'assigned', 'best', 'child'], tags=['all_24156']),\n",
              " LabeledSentence(words=['cannot', 'see', 'all', 'him', 'customer', 'in', 'm', 'does', 'not', 'find', 'three', 'that', 'are', 'included', 'plan', 'on', 'the', 'my', 'active', 'view', 'also', 'he', 'some', 'list', 'do', 'belong', 'to', 'him', 'attached', 'this', 'ticket'], tags=['all_17485']),\n",
              " LabeledSentence(words=['hand', 'scanner', 'on', 'with', 'r', 'still', 'does', 'not', 'work', 'after', 'spare', 'replacement', 'please', 'check', 'and', 'replace', 'again', 'if', 'necessary'], tags=['all_19461']),\n",
              " LabeledSentence(words=['with', 'lan', 'for', 'computer', 'disturbance', 'machine'], tags=['all_7182']),\n",
              " LabeledSentence(words=['job', 'hand', 'os', 'way', 'in', 'job', 'schedule', 'at', 'received', 'to'], tags=['all_7274']),\n",
              " LabeledSentence(words=['update', 'installation', 'for', 'to', 'full', 'and', 'adjust', 'current', 'office'], tags=['all_16455']),\n",
              " LabeledSentence(words=['disk', 'free', 'on', 'h', 'is', 'now', 'average', 'which', 'below', 'the', 'warning', 'zero', 'out', 'of', 'total', 'size'], tags=['all_16461']),\n",
              " LabeledSentence(words=['server', 'migration', 'we', 'are', 'not', 'able', 'to', 'access', 'any', 'in', 'folder', 'ce', 'at', 'the', 'new'], tags=['all_5172']),\n",
              " LabeledSentence(words=['on', 'went', 'down', 'at', 'wondering'], tags=['all_8990']),\n",
              " LabeledSentence(words=['security', 'the', 'no', 'entry', 'source', 'system', 'name', 'user', 'location', 'current', 'no', 'field', 'yes', 'no', 'event', 'below'], tags=['all_27933']),\n",
              " LabeledSentence(words=['volume', 'f', 'aa', 'is', 'over', 'space', 'available', 'f'], tags=['all_30423']),\n",
              " LabeledSentence(words=['it', 'is', 'our', 'join', 'urgent'], tags=['all_10324']),\n",
              " LabeledSentence(words=['we', 'be', 'not', 'getting', 'communication', 'in', 'to', 'attendance', 'tool', 'system', 'from', 'the', 'following', 'request', 'you', 'check', 'on', 'priority'], tags=['all_22191']),\n",
              " LabeledSentence(words=['with', 'engineering', 'tool', 'system', 'received', 'from', 'hello', 'feel', 'very', 'sorry', 'to', 'say', 'off', 'late', 'we', 'are', 'facing', 'lots', 'of', 'system', 'please', 'note', 'the', 'below', 'not', 'in', 'ascending', 'order', 'looking', 'for', 'particular', 'become', 'a', 'dream', 'best'], tags=['all_20006']),\n",
              " LabeledSentence(words=['on', 'the', 'we', 'isre', 'printing', 'germanother', 'instead', 'of', 'there', 'was', 'a', 'change', 'in', 'bank', 'made', 'with', 'ticket', 'no', 'this', 'is', 'not', 'correctly', 'it', 'showing', 'correct', 'data', 'but', 'german', 'example', 'address', 'onto', 'account', 'number', 'i', 'also', 'see', 'that', 'an', 'extra', 'text', 'being', 'printed', 'for', 'bitter', 'sie', 'unsure', 'please', 'note', 'our', 'new', 'only', 'version', 'should', 'print', 'both', 'and'], tags=['all_30174']),\n",
              " LabeledSentence(words=['encryption', 'see', 'agent', 'deployment', 'received', 'from', 'hello', 'i', 'do', 'not', 'believe', 'my', 'computer', 'the', 'new', 'agent', 'should', 'be', 'concerned', 'yet', 'there', 'it', 'almost', 'a', 'month', 'ago'], tags=['all_14887']),\n",
              " LabeledSentence(words=['rounding', 'off', 'the', 'total', 'of', 'an', 'order', 'we', 'have', 'and', 'that', 'me', 'correct', 'unit', 'price', 'because', 'entire', 'quote', 'is', 'off', 'can', 'this', 'be', 'fixed', 'will', 'deny', 'payment', 'if', 'does', 'not', 'match', 'what', 'is'], tags=['all_13549']),\n",
              " LabeledSentence(words=['on', 'had', 'probably', 'defective', 'machine'], tags=['all_15000']),\n",
              " LabeledSentence(words=['excel', 'is', 'blank', 'when', 'open', 'format'], tags=['all_10713']),\n",
              " LabeledSentence(words=['plan', 'guest', 'access', 'for', 'from', 'sent', 'to', 'subject', 'hello', 'we', 'are', 'to', 'with', 'an', 'party', 'adapter', 'which', 'worked', 'before', 'built', 'in', 'from', 'their', 'notebook', 'is', 'working', 'just', 'fine', 'both', 'of', 'the', 'able', 'find', 'said', 'it', 'possible', 'that', 'some', 'kind', 'mandatory', 'dab', 'best'], tags=['all_11287']),\n",
              " LabeledSentence(words=['reinstall', 'and', 'ce', 'easier'], tags=['all_29479']),\n",
              " LabeledSentence(words=['please', 'provide', 'of', 'the', 'issue', 'but', 'able', 'to', 'view', 'attachment', 'customer', 'yesterday', 'i', 'received', 'hourglass', 'only', 'losing', 'on', 'and', 'off', 'did', 'not', 'solve', 'today', 'following', 'message', 'is', 'bottom'], tags=['all_8858']),\n",
              " LabeledSentence(words=['working', 'from', 'home', 'connection', 'to', 'disconnected', 'i', 'continue', 'get', 'and', 'have', 'reconnect', 'multiple', 'times', 'a', 'day'], tags=['all_3338']),\n",
              " LabeledSentence(words=['eu', 'tool', 'does', 'not', 'work', 'error', 'message', 'which', 'error', 'h', 'unknown'], tags=['all_18908']),\n",
              " LabeledSentence(words=['other', 'service', 'are', 'faster', 'for', 'all'], tags=['all_11498']),\n",
              " LabeledSentence(words=['network', 'on', 'not', 'connection', 'since'], tags=['all_18134']),\n",
              " LabeledSentence(words=['cannot', 'get', 'my', 'plug', 'to', 'work', 'on'], tags=['all_30375']),\n",
              " LabeledSentence(words=['average', 'disk', 'free', 'on', 'e', 'is', 'now', 'out', 'of', 'total', 'size', 'the', 'alarm', 'in', 'tool', 'which', 'below', 'warning', 'threshold', 'need', 'to', 'check'], tags=['all_6377']),\n",
              " LabeledSentence(words=['from', 'sent', 'august', 'am', 'to', 'subject', 'hi', 'it', 'needs', 'please', 'assist', 'to', 'create', 'for', 'the', 'above'], tags=['all_25826']),\n",
              " LabeledSentence(words=['ask', 'from', 'dynamics', 'issue', 'contact'], tags=['all_23886']),\n",
              " LabeledSentence(words=['load', 'communication', 'on'], tags=['all_20981']),\n",
              " LabeledSentence(words=['delivery', 'wrong', 'one', 'of', 'the', 'colleague', 'with', 'actually', 'but', 'when', 'note', 'was', 'printed', 'we', 'that', 'it', 'deliverable', 'as', 'instead', 'should', 'not', 'allow', 'this', 'there', 'kind', 'issue', 'reference', 'ticket'], tags=['all_5067']),\n",
              " LabeledSentence(words=['reset', 'the', 'authentication', 'for', 'on', 'other', 'telephony', 'hello', 'please', 'user', 'as', 'she', 'forgotten', 'it', 'and', 'therefore', 'cannot', 'log', 'into', 'her', 'interaction', 'provide', 'with', 'new', 'password'], tags=['all_24676']),\n",
              " LabeledSentence(words=['job', 'job', 'in', 'job', 'schedule', 'at', 'given', 'from'], tags=['all_14980']),\n",
              " LabeledSentence(words=['disconnect', 'down', 'at', 'only', 'since'], tags=['all_29198']),\n",
              " LabeledSentence(words=['unable', 'to', 'print', 'driver', 'not', 'found'], tags=['all_788']),\n",
              " LabeledSentence(words=['delegatdonton', 'i', 'would', 'like', 'to', 'have', 'myself', 'accepted', 'the', 'and', 'will', 'be', 'assuming', 'his'], tags=['all_8434']),\n",
              " LabeledSentence(words=['master', 'cost', 'center', 'missing', 'for', 'a', 'person', 'number', 'should', 'be'], tags=['all_4056']),\n",
              " LabeledSentence(words=['looking', 'hot', 'in', 'job', 'schedule', 'at', 'received', 'from', 'major', 'drive', 'time', 'cannot', 'write', 'to', 'device', 'ti', 'error'], tags=['all_29765']),\n",
              " LabeledSentence(words=['m', 'drive', 'access', 'request', 'received', 'from', 'hi', 'please', 'provide', 'press', 'tool', 'folder', 'for', 'following', 'with', 'great'], tags=['all_18997']),\n",
              " LabeledSentence(words=['c', 'disk', 'volume', 'is', 'up', 'space', 'only', 'g'], tags=['all_29251']),\n",
              " LabeledSentence(words=['disable', 'for', 'password', 'management', 'tool', 'password', 'reset'], tags=['all_10179']),\n",
              " LabeledSentence(words=['code', 'error', 'received', 'from', 'hi', 'please', 'find', 'below', 'error', 'kindly', 'help', 'to', 'resolve', 'this', 'concern', 'on', 'urgent', 'basis', 'best'], tags=['all_21157']),\n",
              " LabeledSentence(words=['network', 'hard', 'down', 'since', 'am', 'what', 'type', 'of', 'disruption', 'x', 'network', 'circuit', 'power', 'please', 'specify', 'outage', 'top', 'site', 'no', 'when', 'did', 'it', 'start', 'maintenance', 'power', 'no', 'company', 'power', 'provider', 'network', 'no', 'maint', 'does', 'have', 'a', 'backup', 'circuit', 'no', 'active', 'na', 'contact', 'notified', 'remote', 'dialing', 'no', 'equipment', 'reset', 'no', 'working', 'on', 'vendor', 'ticket', 'global', 'vendor', 'vendor', 'no', 'yes', 'na', 'additional', 'diagnostics'], tags=['all_16344']),\n",
              " LabeledSentence(words=['hello', 'on', 'my', 'order', 'below', 'i', 'have', 'drop', 'that', 'will', 'not', 'tool', 'they', 'customer', 'item', 'and', 'from', 'sent', 'to', 'subject', 'ship', 'po', 'ask', 'advise', 'update', 'your', 'with', 'new', 'address', 'inside', 'representative'], tags=['all_18683']),\n",
              " LabeledSentence(words=['insufficient', 'on', 'web'], tags=['all_2076']),\n",
              " LabeledSentence(words=['need', 'access', 'to', 'place', 'floor', 'corrected', 'i', 'do', 'not', 'have', 'the', 'update', 'work', 'in', 'shop', 'floor', 'system', 'tab', 'it', 'like', 'am', 'missing', 'some'], tags=['all_22160']),\n",
              " LabeledSentence(words=['outlook', 'cannot', 'open', 'showing', 'that', 'it', 'cannot', 'can', 'a', 'new', 'stack', 'protection', 'page', 'please', 'provide', 'of', 'the', 'issue', 'hi', 'my', 'computer', 'mailbox', 'be', 'can', 'you', 'help', 'me', 'thank', 'show', 'system', 'error', 'guard', 'other', 'your', 'with', 'me', 'id'], tags=['all_28530']),\n",
              " LabeledSentence(words=['problem', 'with', 'received', 'from', 'hi', 'i', 'am', 'trouble', 'getting', 'there', 'are', 'no', 'in', 'the', 'when', 'pull', 'up', 'a', 'report', 'application', 'knight', 'sent', 'to', 'subject', 're', 'hi', 'you', 'may', 'have', 'to', 'put', 'an', 'it', 'ticket', 'get', 'this', 'fixed'], tags=['all_1123']),\n",
              " LabeledSentence(words=['kindly', 'copy', 'the', 'of', 'user', 'id', 'to', 'other', 'folder'], tags=['all_17851']),\n",
              " LabeledSentence(words=['joining', 'through'], tags=['all_4202']),\n",
              " LabeledSentence(words=['and', 'scanner', 'and', 'printer', 'at', 'the', 'is', 'not', 'when', 'it', 'scanning', 'something', 'scan', 'green', 'it', 'cannot', 'print', 'anything', 'up', 'but', 'nothing', 'comes', 'out'], tags=['all_15791']),\n",
              " LabeledSentence(words=['reset', 'for', 'password', 'management', 'tool', 'password', 'reset', 'as', 'per', 'system', 'instruction', 'now', 'i', 'they', 'the', 'password', 'but', 'unable', 'to', 'login'], tags=['all_6957']),\n",
              " LabeledSentence(words=['computer', 'suddenly', 'flooded', 'help', 'deal', 'with', 'it', 'please', 'hand', 'in', 'thank', 'you'], tags=['all_22081']),\n",
              " LabeledSentence(words=['business', 'client', 'received', 'from', 'request', 'access', 'way', 'need', 'my', 'id', 'is'], tags=['all_30255']),\n",
              " LabeledSentence(words=['noise', 'issue', 'not', 'working'], tags=['all_25041']),\n",
              " LabeledSentence(words=['engintoeering', 'tool', 'will', 'not', 'worked', 'received', 'from', 'hi', 'i', 'cannot', 'open', 'close', 'or', 'manipulate', 'any', 'of', 'my', 'on', 'tool', 'this', 'it', 'difficult', 'to', 'with', 'our', 'team', 'in', 'please', 'have', 'a', 'look'], tags=['all_31117']),\n",
              " LabeledSentence(words=['record', 'received', 'from', 'amy', 'li', 'sent', 'to', 'subject', 're', 'we', 'want', 'to', 'understand', 'why', 'the', 'cost', 'is', 'high', 'for', 'in', 'produce', 'select', 'one', 'example', 'this', 'plant', 'ship', 'plant', 'order', 'relevant', 'and', 'intercompany', 'billing', 'plant', 'shipment', 'plant', 'did', 'not', 'so', 'delivery', 'on', 'this', 'from', 'margin', 'report', 'it', 'high', 'based', 'lot', 'size', 'same', 'as', 'order'], tags=['all_8686']),\n",
              " LabeledSentence(words=['job', 'the', 'job', 'schedule', 'eu', 'tool', 'notch', 'received', 'from', 'at'], tags=['all_25526']),\n",
              " LabeledSentence(words=['unable', 'to', 'take', 'graphic', 'out', 'from', 'wy'], tags=['all_6653']),\n",
              " LabeledSentence(words=['an', 'inspection', 'plan', 'i', 'have', 'been', 'working', 'on', 'and', 'it', 'does', 'not', 'seem', 'to', 'be', 'working', 'because', 'am', 'not', 'able', 'view', 'the', 'batch', 'number', 'for', 'this', 'in', 'tried', 'create', 'lot', 'as', 'well', 'either', 'no', 'valid', 'type', 'material', 'was', 'found', 'or', 'selected', 'is', 'warning', 'can', 'you', 'please', 'assist', 'me', 'with', 'this', 'alloy', 'needs', 'ship', 'today', 'contact', 'phone'], tags=['all_9437']),\n",
              " LabeledSentence(words=['business', 'workplace', 'is', 'not', 'working', 'for', 'working', 'i', 'have', 'a', 'background', 'report', 'to', 'run', 'and', 'deliver', 'my', 'but', 'it', 'also', 'tried', 'create', 'send', 'the', 'send', 'myself', 'get', 'error', 'user', 'does', 'exist', 'even', 'though', 'show', 'up', 'in', 'transaction'], tags=['all_20837']),\n",
              " LabeledSentence(words=['no', 'noise', 'from', 'the', 'phone'], tags=['all_18792']),\n",
              " LabeledSentence(words=['reinstall', 'we'], tags=['all_2417']),\n",
              " LabeledSentence(words=['i', 'cannot', 'get', 'into', 'my', 'system', 'an', 'error', 'no', 'inform'], tags=['all_29443']),\n",
              " LabeledSentence(words=['telephone', 'dwhichplay', 'received', 'from', 'hello', 'the', 'of', 'my', 'phone', 'is', 'partly', 'invisible', 'and', 'therefore', 'very', 'difficult', 'to', 'read', 'thank', 'you', 'so', 'much', 'many', 'best'], tags=['all_14277']),\n",
              " LabeledSentence(words=['received', 'from', 'dear', 'all', 'would', 'you', 'please', 'do', 'me', 'a', 'favor', 'plant', 'is', 'on', 'the', 'origin', 'audit', 'and', 'we', 'are', 'document', 'to', 'attached', 'file', 'i', 'cannot', 'extract', 'based', 'tell', 'know', 'if', 'there', 'any', 'way', 'can', 'not', 'old', 'data'], tags=['all_30877']),\n",
              " LabeledSentence(words=['i', 'need', 'access', 'to', 'this', 'link', 'received', 'from', 'hello', 'access', 'report', 'many', 'thanks', 'with', 'best'], tags=['all_1220']),\n",
              " LabeledSentence(words=['application', 'response', 'time', 'other', 'network', 'work', 'normally', 'please', 'provide', 'in', 'the', 'template', 'below', 'if', 'multiple', 'are', 'impacted', 'use', 'quick', 'ticket', 'folder', 'site', 'location', 'user', 'id', 'ad', 'system', 'you', 'seeing', 'performance', 'on', 'please', 'list', 'all', 'that', 'slow', 'create', 'an', 'area', 'this', 'way', 'finance', 'how', 'can', 'issue', 'be', 'replicated', 'by', 'it', 'support', 'group', 'other', 'this', 'there', 'remote', 'attach', 'relevant', 'and', 'exact', 'times', 'when'], tags=['all_22400']),\n",
              " LabeledSentence(words=['job', 'he', 'in', 'job', 'schedule', 'at', 'received', 'from'], tags=['all_1561']),\n",
              " LabeledSentence(words=['circuit', 'outage', 'secondary', 'is', 'down', 'since', 'on', 'what', 'type', 'of', 'outage', 'network', 'x', 'circuit', 'power', 'please', 'specify', 'outage', 'top', 'site', 'no', 'when', 'did', 'it', 'start', 'maintesance', 'power', 'na', 'company', 'power', 'provider', 'network', 'na', 'maint', 'does', 'have', 'a', 'backup', 'yes', 'active', 'yes', 'contact', 'notified', 'na', 'remote', 'dialing', 'na', 'equipment', 'reset', 'na', 'working', 'yes', 'vendor', 'ticket', 'global', 'vendor', 'vendor', 'na', 'na', 'additional', 'diagnostics'], tags=['all_14420']),\n",
              " LabeledSentence(words=['user', 'profile', 'for', 'i', 'need', 'to', 'complete', 'a', 'task', 'in', 'but', 'get', 'error', 'see', 'attachment', 'please', 'cancel', 'as', 'this', 'got', 'by', 'mistake'], tags=['all_3030']),\n",
              " LabeledSentence(words=['collaboration', 'platform', 'industrial', 'received', 'from', 'good', 'afternoon', 'can', 'can', 'plethate', 'add', 'a', 'new', 'library', 'heading', 'talent', 'review', 'to', 'the', 'area', 'also', 'remove', 'cope', 'as', 'owner', 'of', 'this', 'portion', 'page', 'use', 'myself', 'and'], tags=['all_29809']),\n",
              " LabeledSentence(words=['up', 'folder', 'share', 'delegation', 'of', 'to', 'please', 'user', 'access', 'o', 'drive', 'full', 'name', 'telephone', 'summary', 'as', 'you', 'may', 'know', 'will', 'be', 'retiring', 'from', 'company', 'on', 'th', 'me', 'her'], tags=['all_19127']),\n",
              " LabeledSentence(words=['system', 'is', 'down', 'while', 'at', 'plant', 'every', 'evening', 'between', 'and', 'sometimes', 'it', 'with', 'z', 'process', 'during', 'the', 'shipping', 'tool', 'shipping', 'system', 'process', 'this', 'been', 'going', 'on', 'for', 'last', 'couple', 'of', 'shipping', 'supervisor', 'shift', 'can', 'be', 'if', 'additional', 'information', 'there', 'was', 'ticket', 'night', 'but', 'closed', 'yesterday', 'because', 'not', 'slow', 'morning', 'only', 'night'], tags=['all_19958']),\n",
              " LabeledSentence(words=['how', 'to', 'recall', 'send', 'message', 'in', 'outlook'], tags=['all_3705']),\n",
              " LabeledSentence(words=['pair', 'formation', 'error', 'for', 'which', 'have', 'right', 'information', 'status', 'in', 'possible', 'operation', 'operator', 'unable', 'to', 'final', 'confirm', 'the', 'time', 'event', 'up', 'confirmation', 'and', 'everything', 'correct', 'mi', 'is', 'throwing', 'out', 'pair', 'formation'], tags=['all_10577']),\n",
              " LabeledSentence(words=['system', 'drive', 'c', 'of', 'server', 'is', 'full', 'again', 'received', 'from', 'hello', 'please', 'check', 'we', 'had', 'the', 'same', 'issue', 'ago', 'ticket', 'and', 'identify', 'solve', 'cause', 'problem', 'not', 'only', 'impact', 'it', 'virtual', 'center', 'server'], tags=['all_19993']),\n",
              " LabeledSentence(words=['cannot', 'or', 'print', 'to', 'i'], tags=['all_19133']),\n",
              " LabeledSentence(words=['job', 'job', 'into', 'job', 'schedule', 'at', 'received', 'from'], tags=['all_14987']),\n",
              " LabeledSentence(words=['help', 'with', 'excel', 'that', 'from', 'received', 'from', 'could', 'you', 'please', 'advise', 'what', 'i', 'should', 'take', 'to', 'allow', 'the', 'attached', 'refresh', 'data', 'below', 'is', 'error', 'message', 'get', 'when', 'open', 'and', 'enable', 'content', 'w', 'regional', 'key', 'account', 'manager', 'east', 'coast'], tags=['all_5199']),\n",
              " LabeledSentence(words=['urgent', 'help', 'outlook', 'to', 'issue', 'problem', 'set', 'regarding', 'a', 'calendar', 'item', 'an', 'account', 'it', 'does', 'not', 'show', 'in', 'the', 'assignment', 'account', 'record'], tags=['all_10820']),\n",
              " LabeledSentence(words=['volume', 'c', 'is', 'up', 'space', 'available', 'g'], tags=['all_19253']),\n",
              " LabeledSentence(words=['account', 'is', 'locked', 'locked', 'please', 'locked', 'the', 'account'], tags=['all_16372']),\n",
              " LabeledSentence(words=['like', 'the', 'network', 'account', 'is', 'locked', 'it', 'needs', 'to', 'be', 'unlocked', 'aero', 'used', 'in', 'of', 'tool', 'this', 'be', 'affect', 's', 'as', 'they', 'not', 'able', 'access', 'their'], tags=['all_21132']),\n",
              " LabeledSentence(words=['i', 'used', 'to', 'have', 'access', 'this', 'location', 'on', 'collaboration', 'platform', 'now', 'do', 'not', 'need', 'access', 'received', 'from', 'regional', 'interface'], tags=['all_6634']),\n",
              " LabeledSentence(words=['i', 'need', 'access', 'to', 'the', 'folder', 'on', 'project', 'platform', 'cannot', 'find', 'a', 'mi', 'certificate', 'form', 'collaboration', 'platform', 'and', 'make', 'sure', 'it', 'was', 'not'], tags=['all_13824']),\n",
              " LabeledSentence(words=['job', 'tool', 'prod', 'in', 'job', 'schedule', 'at', 'given', 'from'], tags=['all_11684']),\n",
              " LabeledSentence(words=['cannot', 'printed', 'to', 'the', 'my', 'profile', 'on'], tags=['all_28223']),\n",
              " LabeledSentence(words=['for', 'error', 'message', 'tool', 'document', 'still', 'message', 'cannot', 'posting', 'in', 'description', 'is', 'about', 'po'], tags=['all_24852']),\n",
              " LabeledSentence(words=['set', 'up', 'read', 'and', 'write', 'access', 'to', 'the', 'folder', 'm', 'hello', 'please', 'set', 'authorization', 'for', 'user', 'on', 'thank', 'sure'], tags=['all_10873']),\n",
              " LabeledSentence(words=['delivery', 'note', 'creation', 'request', 'received', 'from', 'hello', 'it', 'team', 'could', 'you', 'please', 'create', 'for', 'below', 'order', 'we', 'got', 'the', 'error', 'message', 'hence', 'cannot', 'issue', 'note', 'so', 'line', 'item', 'order', 'plant', 'plant', 'can', 'there', 'available', 'stock', 'via', 'screen', 'b', 'but', 'this', 'item', 'when', 'manually', 'tried', 'to', 'n', 'b'], tags=['all_10707']),\n",
              " LabeledSentence(words=['key', 'being', 'taken', 'out', 'from', 'be', 'analyzer', 'revenue', 'actually', 'that', 'removed', 'automatically'], tags=['all_9387']),\n",
              " LabeledSentence(words=['restore', 'directory', 'from', 'public', 'hello', 'i', 'lost', 'the', 'folder', 'drive', 'can', 'get', 'it', 'back', 'with', 'then', 'put', 'in', 'drive', 'distribution', 'many', 'thanks', 'advance', 'child'], tags=['all_23477']),\n",
              " LabeledSentence(words=['node', 'at', 'which', 'down', 'since'], tags=['all_23560']),\n",
              " LabeledSentence(words=['sent', 'from', 'shipped', 'tool', 'received', 'from', 'unable', 'to', 'convert', 'a', 'order', 'for', 'this', 'item', 'also', 'create', 'production', 'error', 'message', 'both', 'times'], tags=['all_12913']),\n",
              " LabeledSentence(words=['please', 'turns', 'off', 'eligibility', 'for', 'ethics', 'user'], tags=['all_17413']),\n",
              " LabeledSentence(words=['status', 'c', 'only', 'now'], tags=['all_22723']),\n",
              " LabeledSentence(words=['job', 'tool', 'powder', 'prod', 'complete', 'in', 'job', 'schedule', 'up', 'received', 'from'], tags=['all_29207']),\n",
              " LabeledSentence(words=['job', 'hand', 'arc', 'in', 'job', 'schedule', 'at', 'received', 'from'], tags=['all_2435']),\n",
              " LabeledSentence(words=['secure', 'issue', 'system', 'other', 'enter', 'user', 'id', 'of', 'the', 'issue', 'transaction', 'needs', 'or', 'was', 'working', 'with', 'pro', 'describe', 'need', 'in', 'if', 'you', 'are', 'getting', 'a', 'not', 'authorized', 'message', 'recreate', 'condition', 'then', 'do', 'and', 'attach', 'result', 'to', 'ticketing', 'tool', 'ticket', 'provide', 'same', 'as', 'this', 'user'], tags=['all_16812']),\n",
              " LabeledSentence(words=['printer', 'em', 'failing', 'no', 'longer', 'any', 'error', 'in', 'the', 'paper', 'feed', 'according', 'to', 'instruction', 'up', 'message', 'and', 'found', 'nothing'], tags=['all_21769']),\n",
              " LabeledSentence(words=['network', 'outage', 'russia', 'warehouse', 'is', 'down', 'since', 'on', 'what', 'type', 'of', 'x', 'network', 'circuit', 'power', 'please', 'specify', 'outage', 'top', 'site', 'no', 'when', 'did', 'it', 'start', 'maintenance', 'power', 'no', 'company', 'power', 'provider', 'network', 'maint', 'does', 'have', 'a', 'backup', 'circuit', 'no', 'active', 'na', 'contact', 'notified', 'remote', 'dialing', 'na', 'equipment', 'reset', 'no', 'working', 'na', 'vendor', 'ticket', 'global', 'vendor', 'vendor', 'additional', 'diagnostics'], tags=['all_4469']),\n",
              " LabeledSentence(words=['eu', 'tool', 'is', 'not', 'be', 'confirmation', 'also', 'possible', 'the', 'last', 'was', 'on', 'th', 'at', 'am'], tags=['all_19668']),\n",
              " LabeledSentence(words=['received', 'from', 'hello', 'add', 'my', 'name', 'in', 'to', 'this', 'team', 'also', 'i', 'need', 'organizational', 'power', 'of', 'since', 'have', 'heading', 'team', 'after', 'left', 'company', 'with', 'kind'], tags=['all_28520']),\n",
              " LabeledSentence(words=['c', 'on', 'server', 'is', 'over', 'space', 'available', 'g', 'volume', 'cee'], tags=['all_5386']),\n",
              " LabeledSentence(words=['unable', 'to', 'login', 'outlook', 'and'], tags=['all_6263']),\n",
              " LabeledSentence(words=['reference', 'implant', 'while', 'trying', 'to', 'invoke', 'the', 'instance', 'of', 'a', 'null', 'object', 'loaded', 'from', 'local', 'variable', 'when', 'i', 'try', 'look', 'at', 'configuration', 'for', 'get', 'an', 'error', 'phone'], tags=['all_23614']),\n",
              " LabeledSentence(words=['on', 'r', 'the', 'hall', 'c', 'near', 'office', 'does', 'not', 'start', 'up', 'invite', 'as', 'a', 'replacement', 'is', 'already', 'and', 'new', 'one', 'been', 'ordered'], tags=['all_18978']),\n",
              " LabeledSentence(words=['both', 'will', 'not', 'boot'], tags=['all_11391']),\n",
              " LabeledSentence(words=['team', 'disk', 'space', 'for', 'is', 'full', 'can', 'not', 'create', 'safety', 'data', 'any', 'more', 'i', 'figured', 'out', 'that', 'new', 'more', 'this', 'on', 'the', 'production', 'system', 'came', 'back', 'with', 'following', 'issue', 'hi', 'drive', 'where', 'prod', 'full', 'das', 'have', 'to', 'make', 'it', 'bigger', 'so', 'its', 'just', 'a', 'of', 'enough', 'space', 'you', 'let', 'them', 'know'], tags=['all_2098']),\n",
              " LabeledSentence(words=['long', 'monitor', 'in', 'the', 'cube', 'is', 'not', 'working'], tags=['all_15331']),\n",
              " LabeledSentence(words=['i', 'cannot', 'get', 'into', 'the', 'network', 'on', 'my'], tags=['all_17798']),\n",
              " LabeledSentence(words=['one', 'computer', 'card', 'cannot', 'connect', 'to', 'the', 'received', 'from', 'is', 'not', 'connected', 'please', 'forward', 'he', 'human', 'road', 'shanghai', 'china'], tags=['all_15628']),\n",
              " LabeledSentence(words=['in', 'conference', 'room', 'received', 'from', 'please', 'investigate', 'and', 'repair', 'the', 'cause', 'of', 'weak', 'signal', 'area', 'we', 'used', 'to', 'have', 'full', 'making', 'some', 'reason', 'it', 'is', 'barley'], tags=['all_22777']),\n",
              " LabeledSentence(words=['please', 'latest', 'm'], tags=['all_21837']),\n",
              " LabeledSentence(words=['outlook', 'the', 'folder', 'the', 'box', 'anothernd', 'becomes', 'a', 'every', 'day', 'office', 'to', 'update'], tags=['all_27726']),\n",
              " LabeledSentence(words=['computer', 'run', 'slow'], tags=['all_11557']),\n",
              " LabeledSentence(words=['disable', 'for', 'l', 'lineman', 'password', 'management', 'tool', 'password', 'reset', 'the'], tags=['all_17100']),\n",
              " LabeledSentence(words=['report', 'pro', 'clean', 'is', 'resulting', 'in', 'aba', 'error', 'i', 'tried', 'to', 'run', 'the', 'through', 'background', 'job', 'with', 'following', 'but', 'it', 'shown', 'below', 'input', 'variant', 'clean', 'application', 'quantity', 'of', 'inactive', 'content', 'have', 'attached', 'screen', 'same', 'document', 'we', 'are', 'working', 'on', 'this', 'ticket', 'being', 'without', 'configuration', 'ticket'], tags=['all_6076']),\n",
              " LabeledSentence(words=['use', 'performance', 'please', 'in', 'engineering', 'tool'], tags=['all_14198']),\n",
              " LabeledSentence(words=['duplication', 'of', 'network', 'address', 'received', 'from', 'gentle', 'i', 'have', 'two', 'that', 'are', 'trying', 'to', 'share', 'an', 'they', 'one', 'is', 'a', 'printer', 'with', 'the', 'and', 'other', 'new', 'display', 'for', 'get', 'its', 'address', 'assigned', 'hard', 'my', 'guess', 'did', 'not', 'set', 'static', 'in', 'should', 'this', 'corrected', 'so', 'will', 'pick', 'up', 'another'], tags=['all_17591']),\n",
              " LabeledSentence(words=['not', 'working', 'unable', 'to', 'log', 'in', 'through', 'the', 'portal', 'on', 'hub', 'whenever', 'i', 'click', 'page', 'taken', 'a', 'login', 'screen', 'instead', 'of', 'being', 'logged', 'directly', 'into', 'system', 'have', 'tried', 'clearing', 'my', 'browser', 'cache', 'and', 'logging', 'both', 'ie'], tags=['all_17133']),\n",
              " LabeledSentence(words=['dell', 'the', 'system', 'going', 'in', 'to', 'a', 'loop', 'of', 'shutting', 'down', 'advised', 'login', 'restart', 'not', 'happening', 'service', 'tag', 'contact', 'os', 'win'], tags=['all_16142']),\n",
              " LabeledSentence(words=['pick', 'up', 'old', 'it', 'supply'], tags=['all_15420']),\n",
              " LabeledSentence(words=['security', 'in', 'repeat', 'outbound', 'connection', 'for', 'from', 'source', 'system', 'name', 'evil', 'user', 'name', 'location', 'status', 'no', 'field', 'yes', 'no', 'no', 'event', 'below', 'incident', 'overview', 'we', 'are', 'seeing', 'your', 'device', 'generating', 'a', 'high', 'volume', 'of', 'repeat', 'traffic', 'blocked', 'evil', 'to', 'port', 'remote', 'procedure', 'call', 'external', 'host', 'this', 'may', 'indicate', 'misconfiguration', 'where', 'the', 'is', 'blocking', 'legitimate', 'also', 'reaching', 'out', 'malicious', 'or', 'worm', 'code', 'you', 'via', 'medium', 'priority', 'ticket', 'and', 'per', 'our', 'default', 'handling', 'if', 'would', 'like', 'us', 'handle', 'these', 'differently', 'in', 'future', 'see', 'have', 'any', 'further', 'please', 'let', 'know', 'either', 'by', 'corresponding', 'back', 'soc', 'calling', 'at', 'full', 'login', 'failure', 'explicit', 'notification', 'phone', 'call', 'automatically', 'resolve', 'directly', 'portal', 'no', 'explicit', 'but', 'will', 'be', 'available', 'portal', 'sincerely', 'soc', 'technical', 'remote', 'known', 'as', 'protocol', 'that', 'an', 'application', 'execute', 'code', 'another', 'address', 'space', 'commonly', 'on', 'computer', 'network', 'without', 'explicitly', 'interaction', 'is', 'same', 'consider', 'local', 'remote', 'client', 'which', 'request', 'message', 'server', 'with', 'response', 'its', 'process', 'used', 'such', 'exchange', 'service', 'server', 'well', 'other', 'been', 'several', 'propagation', 'include', 'wrestle', 'data', 'related', 'id', 'summary', 'occurrence', 'count', 'information', 'evil', 'port', 'destination', 'outgoing', 'protocol', 'log', 'time', 'action', 'blocked', 'score', 'sherlock', 'rule', 'id', 'she', 'inspector', 'ontology', 'type', 'agent', 'detail', 'deny', 'inside', 'inside', 'x', 'inside'], tags=['all_15944']),\n",
              " LabeledSentence(words=['confirm', 'window', 'not', 'confirmed', 'in', 'default', 'field', 'as', 'per', 'my', 'understanding', 'mi', 'should', 'subtract', 'already', 'from', 'order', 'quantity', 'screen', 'whenever', 'user', 'is', 'confirming', 'something', 'for', 'ex', 'a', 'piece', 'order', 'if', 'the', 'next', 'or', 'same', 'time', 'when', 'that', 'operation', 'be', 'but', 'its', 'original'], tags=['all_20992']),\n",
              " LabeledSentence(words=['in', 'which', 'stuck', 'due', 'to', 'leaving', 'the', 'company', 'was', 'by', 'before', 'she', 'left', 'company', 'task', 'list', 'complete', 'left', 'are', 'not', 'i', 'and', 'me', 'but', 'it', 'wont', 'complete'], tags=['all_7756']),\n",
              " LabeledSentence(words=['another', 'for', 'effective', 'been'], tags=['all_6764']),\n",
              " LabeledSentence(words=['license', 'for', 'user', 'from', 'sent', 'am', 'to', 'subject', 'hello', 'only', 'not', 'in', 'my', 'please', 'support', 'tell', 'on', 'this'], tags=['all_27443']),\n",
              " LabeledSentence(words=['work', 'in', 'job', 'schedule', 'at', 'received', 'from'], tags=['all_6539']),\n",
              " LabeledSentence(words=['conversion', 'production', 'wrong', 'same', 'of', 'process', 'ex', 'but', 'found'], tags=['all_17273']),\n",
              " LabeledSentence(words=['process', 'where', 'are', 'auto', 'received', 'is', 'not', 'working', 'as', 'designed', 'resulting', 'in', 'blocked', 'additional', 'work', 'for', 'one', 'and', 'buyer', 'who', 'cannot', 'control', 'this', 'process', 'please', 'correct', 'missing', 'goods', 'receipts', 'on', 'attached', 'file', 'make', 'a', 'permanent', 'correction', 'so', 'that', 'done', 'timely', 'fashion', 'going', 'forward', 'do', 'close', 'ticket', 'until', 'fix', 'place'], tags=['all_20131']),\n",
              " LabeledSentence(words=['hboth', 'scanner', 'on', 'with', 'r', 'still', 'does', 'not', 'work', 'after', 'replacement', 'replacement', 'please', 'check', 'and', 'replace', 'again', 'if', 'necessary'], tags=['all_8797']),\n",
              " LabeledSentence(words=['eu', 'tool', 'again', 'not', 'running', 'you', 'help', 'immediately', 'do', 'make', 'that', 'into', 'the', 'check', 'status', 'and', 'restart', 'system'], tags=['all_30184']),\n",
              " LabeledSentence(words=['time', 'which', 'not', 'working'], tags=['all_24983']),\n",
              " LabeledSentence(words=['job', 'hand', 'os', 'within', 'job', 'schedule', 'at', 'received', 'from'], tags=['all_13503']),\n",
              " LabeledSentence(words=['my', 'help', 'to', 'fix', 'it', 'thanks', 'received', 'from', 'yours', 'helper', 'please', 'see', 'below', 'message', 'when', 'i', 'am', 'trying', 'process', 'on', 'this', 'complaint', 'did', 'not', 'allow', 'me', 'change', 'anything', 'is', 'being', 'by', 'user', 'and', 'would', 'you', 'it', 'have', 'computer', 'but', 'message', 'still', 'there'], tags=['all_12937']),\n",
              " LabeledSentence(words=['accrual', 'posting', 'not', 'from', 'to', 'for', 'fund', 'id', 'and', 'budget', 'affected', 'are', 'see'], tags=['all_25867']),\n",
              " LabeledSentence(words=['circuit', 'outage', 'at', 'united', 'kingdom', 'is', 'down', 'went', 'down', 'am', 'on'], tags=['all_4548']),\n",
              " LabeledSentence(words=['collaboration', 'platform', 'in', 'not', 'received', 'from', 'why', 'are', 'these', 'coming', 'i', 'have', 'already', 'told', 'why', 'they', 'mean', 'but', 'should', 'be', 'please', 'enter', 'a', 'ticket', 'for', 'collaboration'], tags=['all_18071']),\n",
              " LabeledSentence(words=['reset', 'the', 'password', 'for', 'on', 'please', 'new', 'to', 'manager'], tags=['all_205']),\n",
              " LabeledSentence(words=['ticket', 'query', 'regarding', 'ticket', 'no'], tags=['all_1217']),\n",
              " LabeledSentence(words=['collaboration', 'platform', 'would', 'working', 'server', 'is', 'busy', 'unavailable'], tags=['all_20067']),\n",
              " LabeledSentence(words=['printer', 'configuration', 'summary', 'need', 'to', 'configure', 'in', 't', 'region', 'kindly', 'help', 'do', 'the', 'same', 'rich'], tags=['all_4322']),\n",
              " LabeledSentence(words=['wireless', 'outage', 'received', 'from', 'hello', 'of', 'you', 'help'], tags=['all_20337']),\n",
              " LabeledSentence(words=['control', 'shutdown', 'engineering', 'tool', 'warehouse', 'russia', 'company', 'network', 'is', 'down', 'since', 'am', 'on', 'what', 'type', 'of', 'outage', 'x', 'network', 'circuit', 'power', 'please', 'specify', 'outage', 'top', 'site', 'no', 'when', 'did', 'it', 'start', 'am', 'maintenance', 'power', 'no', 'company', 'provider', 'network', 'maint', 'does', 'have', 'a', 'backup', 'circuit', 'no', 'active', 'no', 'contact', 'notified', 'remote', 'dialing', 'na', 'equipment', 'reset', 'no', 'working', 'vendor', 'ticket', 'global', 'vendor', 'vendor', 'additional', 'diagnostics'], tags=['all_29293']),\n",
              " LabeledSentence(words=['ie', 'off', 'opening', 'mi', 'from', 'ess', 'portal', 'phone'], tags=['all_9707']),\n",
              " LabeledSentence(words=['need', 'network', 'account', 'so', 'he', 'can', 'get', 'and', 'time', 'is', 'in', 'at', 'baker', 'needs', 'to', 'have', 'access', 'use', 'told', 'a', 'we', 'all', 'this', 'up', 'urgent', 'by'], tags=['all_2962']),\n",
              " LabeledSentence(words=['office', 'excel', 'when', 'opening', 'some', 'and', 'in', 'one', 'computer', 'mail', 'cannot', 'be'], tags=['all_18167']),\n",
              " LabeledSentence(words=['error', 'received', 'from', 'nothing', 'is', 'printed', 'out', 'send', 'with', 'best'], tags=['all_16656']),\n",
              " LabeledSentence(words=['please', 'send', 'cost', 'report', 'to', 'for', 'approval', 'manually', 'approval', 'its', 'stuck', 'w', 'due', 'relationship'], tags=['all_23193']),\n",
              " LabeledSentence(words=['decommission', 'of', 'old', 'from', 'sent', 'to', 'subject', 'hi', 'you', 'can', 'remove', 'the', 'old', 'from', 'domain', 'now', 'i', 'have', 'not', 'to', 'access', 'it', 'previously', 'let', 'me', 'know', 'when', 'are', 'done', 'and', 'will', 'power', 'down', 'move', 'into', 'storage'], tags=['all_16749']),\n",
              " LabeledSentence(words=['price', 'error', 'between', 'goods', 'receipt', 'and', 'po', 'in', 'urgent', 'received', 'from', 'dear', 'team', 'module', 'we', 'have', 'two', 'for', 'without', 'net', 'quantity', 'usually', 'are', 'the', 'same', 'price', 'but', 'these', 'is', 'not', 'please', 'help', 'to', 'a', 'check', 'reason'], tags=['all_24756']),\n",
              " LabeledSentence(words=['need', 'network', 'connection', 'for', 'at', 'pu', 'received', 'from', 'it', 'please', 'provide', 'hone', 'measuring', 'equipment', 'in', 'pu', 'this', 'is', 'necessary', 'and', 'also', 'relevant', 'provided', 'with', 'global', 'team'], tags=['all_19240']),\n",
              " LabeledSentence(words=['company', 'multiple', 'went', 'down', 'as', 'on'], tags=['all_8232']),\n",
              " LabeledSentence(words=['hello', 'it', 'service', 'my', 'manager', 'needs', 'to', 'forward', 'the', 'all', 'quote', 'are', 'being', 'and', 'linked', 'as', 'our', 'standard', 'procedure', 'for', 'un', 'known', 'reason', 'this', 'is', 'not', 'show', 'drawing', 'moreover', 'was', 'able', 'add', 'document', 'number', 'manually', 'please', 'fix', 'this', 'we', 'need', 'towards', 'successful'], tags=['all_14975']),\n",
              " LabeledSentence(words=['excel', 'issue', 'received', 'from', 'not', 'need', 'to', 'open', 'an', 'file', 'with', 'the', 'following', 'error', 'message', 'route', 'of', 'file'], tags=['all_12272']),\n",
              " LabeledSentence(words=['the', 'screen', 'in', 'the', 'feedback', 'terminal', 'opposite', 'removing', 'system', 'is', 'defective'], tags=['all_15243']),\n",
              " LabeledSentence(words=['please', 'switch', 'and', 'configure', 'one', 'printer'], tags=['all_21856']),\n",
              " LabeledSentence(words=['ce', 'tool', 'is', 'down', 'in', 'plant', 'please', 'start', 'the', 'server', 'so', 'we', 'can', 'run', 'production', 'as'], tags=['all_31187']),\n",
              " LabeledSentence(words=['power', 'outage', 'engineering', 'tool', 'warehouse', 'russia', 'company', 'network', 'is', 'down', 'since', 'am', 'on', 'what', 'type', 'of', 'outage', 'x', 'network', 'circuit', 'power', 'please', 'specify', 'outage', 'bottom', 'site', 'no', 'when', 'did', 'it', 'start', 'am', 'maintenance', 'power', 'no', 'company', 'provider', 'network', 'maint', 'does', 'have', 'a', 'backup', 'circuit', 'no', 'active', 'no', 'contact', 'notified', 'remote', 'dialing', 'na', 'equipment', 'reset', 'no', 'working', 'vendor', 'ticket', 'global', 'vendor', 'vendor', 'additional', 'diagnostics'], tags=['all_7320']),\n",
              " LabeledSentence(words=['machine', 'please', 'check', 'the', 'of', 'my', 'machine', 'it', 'is', 'out', 'ordinary', 'even', 'though', 'end', 'month'], tags=['all_4409']),\n",
              " LabeledSentence(words=['job', 'tax', 'theterface', 'dev', 'daily', 'in', 'job', 'schedule', 'at', 'received', 'from'], tags=['all_19820']),\n",
              " LabeledSentence(words=['need', 'one', 'for', 'the', 'left', 'hand', 'hello'], tags=['all_9188']),\n",
              " LabeledSentence(words=['ess', 'kiosk', 'user', 'password', 'reset'], tags=['all_174']),\n",
              " LabeledSentence(words=['evening', 'working', 'in', 'schedule', 'job', 'received', 'from', 'job', 'schedule', 'job', 'at'], tags=['all_17218']),\n",
              " LabeledSentence(words=['network', 'outage', 'south', 'site', 'is', 'hard', 'down', 'since', 'am', 'on', 'what', 'type', 'of', 'outage', 'x', 'network', 'circuit', 'force', 'please', 'specify', 'outage', 'top', 'no', 'when', 'did', 'it', 'start', 'maintenance', 'power', 'company', 'power', 'provider', 'network', 'maint', 'does', 'have', 'a', 'backup', 'circuit', 'active', 'contact', 'notified', 'remote', 'dialing', 'equipment', 'reset', 'working', 'vendor', 'ticket', 'global', 'vendor', 'vendor', 'additional', 'diagnostics'], tags=['all_18216']),\n",
              " LabeledSentence(words=['web', 'is', 'saved', 'without', 'division', 'urgent', 'account', 'extended', 'able', 'it', 'cannot', 'that', 'mandatory', 'this', 'big', 'issue', 'issue', 'generating', 'queue', 'in', 'please', 'investigate', 'how', 'the', 'system', 'user', 'save', 'it'], tags=['all_17502']),\n",
              " LabeledSentence(words=['it', 'issue', 'received', 'from', 'no', 'all', 'are', 'plugged', 'into', 'the', 'wall', 'please', 'ship', 'two', 'j'], tags=['all_3652']),\n",
              " LabeledSentence(words=['billing', 'block', 'not', 'removed', 'automatically', 'hello', 'it', 'please', 'check', 'reason', 'had', 'automatically'], tags=['all_28786']),\n",
              " LabeledSentence(words=['we', 'are', 'unable', 'to', 'clear', 'this', 'tool', 'from', 'hello', 'can', 'you', 'please', 'support', 'here', 'need', 'help', 'as', 'is', 'a', 'high', 'quantity', 'which', 'cannot', 'clear'], tags=['all_15749']),\n",
              " LabeledSentence(words=['please', 'switch', 'well', 'configure', 'the', 'printer'], tags=['all_11507']),\n",
              " LabeledSentence(words=['power', 'outage', 'site', 'is', 'hard', 'down', 'at', 'on', 'what', 'type', 'of', 'x', 'network', 'circuit', 'power', 'please', 'specify', 'outage', 'top', 'no', 'when', 'did', 'it', 'start', 'maintenance', 'power', 'no', 'company', 'provider', 'network', 'maint', 'does', 'have', 'a', 'backup', 'circuit', 'active', 'no', 'contact', 'notified', 'remote', 'dialing', 'na', 'equipment', 'reset', 'na', 'working', 'vendor', 'ticket', 'international', 'vendor', 'vendor', 'additional', 'diagnostics'], tags=['all_16569']),\n",
              " LabeledSentence(words=['and', 'ad', 'for', 'you', 'create', 'an', 'the', 'in', 'is', 'to', 'should', 'all'], tags=['all_28558']),\n",
              " LabeledSentence(words=['security', 'incident', 'no', 'suspicious', 'particular', 'warning', 'can', 'only', 'detect', 'less', 'than'], tags=['all_15129']),\n",
              " LabeledSentence(words=['access', 'to', 'tool'], tags=['all_1274']),\n",
              " LabeledSentence(words=['once', 'not', 'automatically', 'generating'], tags=['all_11737']),\n",
              " LabeledSentence(words=['issue', 'with', 'tool', 'when', 'i', 'try', 'to', 'put', 'in', 'a', 'vacation', 'request', 'tool', 'the', 'do', 'not', 'show', 'on', 'calendar', 'need', 'cancel', 'some', 'but', 'they', 'do', 'not', 'up', 'for', 'me', 'them', 'my', 'supervisor', 'cannot', 'see', 'either'], tags=['all_1398']),\n",
              " LabeledSentence(words=['cannot', 'getting', 'to', 'customer', 'application', 'support', 'something', 'wrong', 'with', 'the', 'phone', 'you', 'a', 'message', 'their', 'number', 'be'], tags=['all_30485']),\n",
              " LabeledSentence(words=['landline', 'password', 'reset', 'good', 'morning', 'need', 'a', 'for', 'id'], tags=['all_9716']),\n",
              " LabeledSentence(words=['web', 'prod', 'al', 'service', 'is', 'down', 'down', 'al', 'obviously', 'number', 'of', 'process', 'al', 'found'], tags=['all_26770']),\n",
              " LabeledSentence(words=['is', 'collaboration', 'platform', 'seem', 'to', 'be', 'down', 'i', 'have', 'tried', 'several', 'within', 'the', 'realm', 'of', 'collaboration', 'platform', 'like', 'cannot', 'access', 'anything', 'there', 'other', 'people', 'from', 'our', 'team', 'are', 'same'], tags=['all_4362']),\n",
              " LabeledSentence(words=['for', 'business', 'extend', 'access', 'to', 'external', 'received', 'from', 'hello', 'please', 'the', 'of', 'a', 'contractor', 'so', 'that', 'she', 'is', 'able', 'arrange', 'convention', 'with', 'company', 'working', 'on', 'a', 'critical', 'payroll', 'project', 'vendor', 'contact', 'her', 'should', 'be', 'set', 'same', 'as', 'mine', 'many'], tags=['all_23208']),\n",
              " LabeledSentence(words=['printing', 'em', 'random', 'on', 'the'], tags=['all_19193']),\n",
              " LabeledSentence(words=['any', 'contract', 'library', 'access', 'to', 'collaboration', 'management', 'archive', 'industrial', 'folder', 'please', 'work', 'with', 'her'], tags=['all_20594']),\n",
              " LabeledSentence(words=['boot', 'black', 'screen', 'after', 'the', 'monitor', 'is', 'blank', 'and', 'host', 'no', 'alarm'], tags=['all_19410']),\n",
              " LabeledSentence(words=['gone', 'access', 'to', 'mi', 'scanning', 'name', 'telephone', 'summary', 'two', 'scanning', 'clock', 'and'], tags=['all_7935']),\n",
              " LabeledSentence(words=['copy', 'of', 'sent', 'from', 'kindly', 'the', 'user', 'id', 'to', 'local', 'folder', 'no'], tags=['all_19333']),\n",
              " LabeledSentence(words=['venue', 'pro', 'pro', 'detachable', 'is', 'severe', 'hello', 'please', 'send', 'me', 'a', 'replacement', 'for', 'my', 'venue', 'pro', 'the', 'right', 'hold', 'are', 'not', 'working', 'properly', 'it', 'machine', 'so', 'problematic'], tags=['all_31043']),\n",
              " LabeledSentence(words=['ess', 'password', 'reset', 'request', 'password', 'ad'], tags=['all_6265']),\n",
              " LabeledSentence(words=['bob', 'j', 'hello', 'bob', 'does', 'not', 'work', 'again', 'do', 'we', 'have', 'a', 'system', 'error', 'goes', 'back', 'not', 'even', 'failure', 'sincerely', 'yours', 'best'], tags=['all_1044']),\n",
              " LabeledSentence(words=['unable', 'to', 'end', 'out', 'an', 'some', 'from', 'sent', 'to', 'subject', 'engineering', 'drawing', 'tool', 'hi', 'ship', 'please', 'see', 'if', 'removing', 'the', 'from', 'your', 'outlook', 'cache', 'issue', 'do', 'this', 'type', 'name', 'of', 'recipient', 'you', 'will', 'find', 'a', 'x', 'next', 'name', 'click', 'on', 'it', 'remove', 'cache', 'open', 'new', 'and', 'complete', 'address', 'are', 'able', 'send'], tags=['all_3625']),\n",
              " LabeledSentence(words=['report', 'does', 'not', 'pull', 'the', 'search', 'connected', 'to', 'user', 'system', 'when', 'run', 'a', 'as', 'seen', 'in', 'screen', 'shot', 'it', 'error', 'see', 'attachment', 'contact'], tags=['all_3522']),\n",
              " LabeledSentence(words=['circuit', 'outage', 'secondary', 'is', 'down', 'since', 'on', 'what', 'type', 'of', 'outage', 'network', 'x', 'circuit', 'power', 'please', 'specify', 'outage', 'top', 'site', 'yes', 'when', 'did', 'it', 'start', 'maintenance', 'power', 'company', 'power', 'provider', 'network', 'maint', 'does', 'have', 'a', 'backup', 'yes', 'active', 'yes', 'contact', 'notified', 'remote', 'dialing', 'equipment', 'reset', 'working', 'vendor', 'ticket', 'global', 'vendor', 'vendor', 'additional', 'diagnostics'], tags=['all_5932']),\n",
              " LabeledSentence(words=['no', 'boot', 'service', 'tag', 'running', 'into', 'question', 'goes', 'to', 'start', 'up', 'repair', 'page', 'loading', 'fine', 'in', 'safe', 'mode', 'with', 'user', 'was', 'able', 'log', 'have', 'access', 'it', 'tried', 'shutting', 'down', 'and', 'trying', 'booking', 'upon', 'go', 'dog', 'power', 'no', 'go', 'it', 'going', 'screen', 'again', 'st', 'contact', 'can', 'be', 'during'], tags=['all_30410']),\n",
              " LabeledSentence(words=['job', 'job', 'b', 'in', 'job', 'schedule', 'at', 'received', 'to'], tags=['all_11386']),\n",
              " LabeledSentence(words=['please', 'create', 'an', 'account', 'ger'], tags=['all_21433']),\n",
              " LabeledSentence(words=['we', 'we', 'the', 'error', 'message', 'transfer', 'unit', 'missing'], tags=['all_20477']),\n",
              " LabeledSentence(words=['weekly', 'reminder', 'backup', 'tool', 'from', 'sent', 'am', 'to', 'subject', 'please', 'perform', 'the', 'of', 'azure', 'backup', 'server', 'management', 'and', 'proxy', 'following', 'completion', 'daily', 'raise', 'job', 'schedule', 'batch', 'behind', 'on', 'to', 'ensure', 'there', 'are', 'no', 'running', 'in', 'or', 'a', 'restart', 'after', 'is', 'available', 'can', 'boot', 'travel', 'lower', 'all', 'you', 'at', 'also', 'dell', 'storage', 'this', 'will', 'be', 'by', 'administrator', 'r'], tags=['all_10066']),\n",
              " LabeledSentence(words=['collaboration', 'platform', 'access', 'issue', 'first', 'name', 'last', 'customer', 'job', 'title', 'engineer', 'contact', 'address', 'reference', 'number', 'was', 'used', 'yes', 'description', 'of', 'problem', 'unable', 'to', 'collaboration', 'platform', 'site', 'if', 'this', 'problem', 'your', 'support', 'well', 'and', 'include', 'many', 'technical', 'correlation', 'id', 'date', 'time', 'user', 'type', 'user', 'does', 'not', 'have', 'taken', 'so', 'far', 'goes', 'the', 'hub', 'search', 'lap', 'request', 'form', 'click', 'on', 'blue', 'circle', 'message', 'previously', 'had', 'site'], tags=['all_30308']),\n",
              " LabeledSentence(words=['failing', 'to', 'open', 'on', 'the', 'computer'], tags=['all_7358']),\n",
              " LabeledSentence(words=['when', 'running', 'sa', 'report', 'open', 'order', 'report', 'the', 'is', 'be', 'example', 'would', 'be', 'with', 'location', 'plant', 'as', 'source', 'location', 'and', 'making', 'sure', 'on', 'tab', 'that', 'are', 'included', 'this', 'up', 'agreement'], tags=['all_30403']),\n",
              " LabeledSentence(words=['repeat', 'outbound', 'connection', 'for', 'ticket', 'in', 'we', 'are', 'seeing', 'your', 'device', 'generating', 'a', 'high', 'volume', 'of', 'repeat', 'traffic', 'blocked', 'from', 'to', 'port', 'remote', 'procedure', 'call', 'external', 'host', 'this', 'may', 'indicate', 'misconfiguration', 'where', 'the', 'is', 'blocking', 'legitimate', 'also', 'reaching', 'out', 'malicious', 'or', 'worm', 'code', 'incident', 'you', 'via', 'medium', 'priority', 'and', 'per', 'our', 'default', 'event', 'handling', 'if', 'would', 'like', 'us', 'handle', 'these', 'differently', 'in', 'future', 'see', 'below', 'have', 'any', 'further', 'please', 'let', 'know', 'either', 'by', 'corresponding', 'back', 'soc', 'calling', 'at', 'full', 'login', 'failure', 'explicit', 'notification', 'phone', 'call', 'automatically', 'resolve', 'directly', 'portal', 'no', 'explicit', 'but', 'will', 'be', 'available', 'portal'], tags=['all_5633']),\n",
              " ...]"
            ]
          },
          "metadata": {
            "tags": []
          },
          "execution_count": 16
        }
      ]
    },
    {
      "cell_type": "markdown",
      "metadata": {
        "id": "0cJ4rEXhw7sb"
      },
      "source": [
        "## DBOW"
      ]
    },
    {
      "cell_type": "code",
      "metadata": {
        "colab": {
          "base_uri": "https://localhost:8080/"
        },
        "id": "fEvB1Yq1w7sb",
        "outputId": "1adbf3ef-1f63-4e71-96d1-6cd7d6e0d682"
      },
      "source": [
        "model_ug_dbow = Doc2Vec(dm=0, size=100, negative=5, min_count=2, workers=16, alpha=0.065, min_alpha=0.065)\n",
        "model_ug_dbow.build_vocab([x for x in tqdm(all_x_w2v)])"
      ],
      "execution_count": 17,
      "outputs": [
        {
          "output_type": "stream",
          "text": [
            "/usr/local/lib/python3.6/dist-packages/gensim/models/doc2vec.py:570: UserWarning: The parameter `size` is deprecated, will be removed in 4.0.0, use `vector_size` instead.\n",
            "  warnings.warn(\"The parameter `size` is deprecated, will be removed in 4.0.0, use `vector_size` instead.\")\n",
            "100%|██████████| 31221/31221 [00:00<00:00, 3248179.71it/s]\n"
          ],
          "name": "stderr"
        }
      ]
    },
    {
      "cell_type": "markdown",
      "metadata": {
        "id": "pXaQK81ew7sb"
      },
      "source": [
        "According to the developer Radim Řehůřek who created Gensim,\n",
        "\"One caveat of the way this algorithm runs is that, since the learning rate decrease over the course of iterating over the data, labels which are only seen in a single LabeledSentence during training will only be trained with a fixed learning rate. This frequently produces less than optimal results.\"\n",
        "\n",
        "Below iteration implement explicit multiple-pass, alpha-reduction approach with added shuffling. This has been already presented in Gensim's IMDB tutorial."
      ]
    },
    {
      "cell_type": "code",
      "metadata": {
        "colab": {
          "base_uri": "https://localhost:8080/"
        },
        "id": "a5y7FDprw7sb",
        "outputId": "6069c7dc-a3ec-43dd-d397-05e0df0bfead"
      },
      "source": [
        "%%time\n",
        "for epoch in range(30):\n",
        "    model_ug_dbow.train(utils.shuffle([x for x in tqdm(all_x_w2v)]), total_examples=len(all_x_w2v), epochs=1)\n",
        "    model_ug_dbow.alpha -= 0.002\n",
        "    model_ug_dbow.min_alpha = model_ug_dbow.alpha"
      ],
      "execution_count": 18,
      "outputs": [
        {
          "output_type": "stream",
          "text": [
            "100%|██████████| 31221/31221 [00:00<00:00, 2868133.37it/s]\n",
            "100%|██████████| 31221/31221 [00:00<00:00, 3201250.80it/s]\n",
            "100%|██████████| 31221/31221 [00:00<00:00, 3529088.70it/s]\n",
            "100%|██████████| 31221/31221 [00:00<00:00, 3662742.37it/s]\n",
            "100%|██████████| 31221/31221 [00:00<00:00, 3437468.57it/s]\n",
            "100%|██████████| 31221/31221 [00:00<00:00, 3376575.86it/s]\n",
            "100%|██████████| 31221/31221 [00:00<00:00, 3018819.80it/s]\n",
            "100%|██████████| 31221/31221 [00:00<00:00, 3423897.01it/s]\n",
            "100%|██████████| 31221/31221 [00:00<00:00, 3604469.18it/s]\n",
            "100%|██████████| 31221/31221 [00:00<00:00, 3550426.08it/s]\n",
            "100%|██████████| 31221/31221 [00:00<00:00, 3740690.87it/s]\n",
            "100%|██████████| 31221/31221 [00:00<00:00, 2965495.84it/s]\n",
            "100%|██████████| 31221/31221 [00:00<00:00, 3549559.94it/s]\n",
            "100%|██████████| 31221/31221 [00:00<00:00, 3654258.83it/s]\n",
            "100%|██████████| 31221/31221 [00:00<00:00, 3777378.06it/s]\n",
            "100%|██████████| 31221/31221 [00:00<00:00, 3525668.12it/s]\n",
            "100%|██████████| 31221/31221 [00:00<00:00, 3409277.93it/s]\n",
            "100%|██████████| 31221/31221 [00:00<00:00, 3531182.32it/s]\n",
            "100%|██████████| 31221/31221 [00:00<00:00, 3609735.24it/s]\n",
            "100%|██████████| 31221/31221 [00:00<00:00, 3538433.99it/s]\n",
            "100%|██████████| 31221/31221 [00:00<00:00, 3470354.72it/s]\n",
            "100%|██████████| 31221/31221 [00:00<00:00, 3431973.09it/s]\n",
            "100%|██████████| 31221/31221 [00:00<00:00, 3451966.92it/s]\n",
            "100%|██████████| 31221/31221 [00:00<00:00, 3674252.67it/s]\n",
            "100%|██████████| 31221/31221 [00:00<00:00, 3525098.66it/s]\n",
            "100%|██████████| 31221/31221 [00:00<00:00, 3587779.53it/s]\n",
            "100%|██████████| 31221/31221 [00:00<00:00, 3473760.91it/s]\n",
            "100%|██████████| 31221/31221 [00:00<00:00, 3480408.38it/s]\n",
            "100%|██████████| 31221/31221 [00:00<00:00, 3472747.57it/s]\n",
            "100%|██████████| 31221/31221 [00:00<00:00, 3572120.49it/s]\n"
          ],
          "name": "stderr"
        },
        {
          "output_type": "stream",
          "text": [
            "CPU times: user 1min 13s, sys: 12.9 s, total: 1min 26s\n",
            "Wall time: 56.7 s\n"
          ],
          "name": "stdout"
        }
      ]
    },
    {
      "cell_type": "code",
      "metadata": {
        "id": "7VfayLMMw7sc"
      },
      "source": [
        "def get_vectors(model, corpus, size):\n",
        "    vecs = np.zeros((len(corpus), size))\n",
        "    n = 0\n",
        "    for i in corpus.index:\n",
        "        prefix = 'all_' + str(i)\n",
        "        vecs[n] = model.docvecs[prefix]\n",
        "        n += 1\n",
        "    return vecs"
      ],
      "execution_count": 19,
      "outputs": []
    },
    {
      "cell_type": "code",
      "metadata": {
        "id": "mewbgsfAw7sc"
      },
      "source": [
        "train_vecs_dbow = get_vectors(model_ug_dbow, x_train, 100)\n",
        "validation_vecs_dbow = get_vectors(model_ug_dbow, x_validation, 100)"
      ],
      "execution_count": 20,
      "outputs": []
    },
    {
      "cell_type": "code",
      "metadata": {
        "colab": {
          "base_uri": "https://localhost:8080/"
        },
        "id": "iTrmilXQw7sc",
        "outputId": "0c9ce683-87f0-407e-c789-be5a37c2e2f2"
      },
      "source": [
        "clf = LogisticRegression(solver='lbfgs', max_iter=1000, multi_class='multinomial')\n",
        "\n",
        "clf.fit(train_vecs_dbow, y_train)"
      ],
      "execution_count": 21,
      "outputs": [
        {
          "output_type": "execute_result",
          "data": {
            "text/plain": [
              "LogisticRegression(C=1.0, class_weight=None, dual=False, fit_intercept=True,\n",
              "                   intercept_scaling=1, l1_ratio=None, max_iter=1000,\n",
              "                   multi_class='multinomial', n_jobs=None, penalty='l2',\n",
              "                   random_state=None, solver='lbfgs', tol=0.0001, verbose=0,\n",
              "                   warm_start=False)"
            ]
          },
          "metadata": {
            "tags": []
          },
          "execution_count": 21
        }
      ]
    },
    {
      "cell_type": "code",
      "metadata": {
        "colab": {
          "base_uri": "https://localhost:8080/"
        },
        "id": "EoflQmgZw7sc",
        "outputId": "af69887d-4fd7-4baf-886d-8da1cc755810"
      },
      "source": [
        "clf.score(validation_vecs_dbow, y_validation)"
      ],
      "execution_count": 22,
      "outputs": [
        {
          "output_type": "execute_result",
          "data": {
            "text/plain": [
              "0.5641025641025641"
            ]
          },
          "metadata": {
            "tags": []
          },
          "execution_count": 22
        }
      ]
    },
    {
      "cell_type": "markdown",
      "metadata": {
        "id": "fTju_u2Jw7sc"
      },
      "source": [
        "Even though the DBOW model doesn't learn the meaning of the individual words, but as features to feed to a classifier, it seems like it's doing its job."
      ]
    },
    {
      "cell_type": "markdown",
      "metadata": {
        "id": "fwQzuTpWw7sd"
      },
      "source": [
        "But the result doesn't seem to excel count vectorizer or Tfidf vectorizer. It might not be a direct comparison since either count vectorizer of Tfidf vectorizer uses a large number of features to represent a tweet, but in this case, a vector for each tweet has only 200 dimensions."
      ]
    },
    {
      "cell_type": "code",
      "metadata": {
        "id": "mkBxsI8Zw7sd"
      },
      "source": [
        "model_ug_dbow.save('drive/MyDrive/grams/d2v_model_ug_dbow.doc2vec')\n",
        "model_ug_dbow = Doc2Vec.load('drive/MyDrive/grams/d2v_model_ug_dbow.doc2vec')"
      ],
      "execution_count": 23,
      "outputs": []
    },
    {
      "cell_type": "code",
      "metadata": {
        "id": "xd6W2VxUw7sd"
      },
      "source": [
        "model_ug_dbow.delete_temporary_training_data(keep_doctags_vectors=True, keep_inference=True)"
      ],
      "execution_count": 24,
      "outputs": []
    },
    {
      "cell_type": "markdown",
      "metadata": {
        "id": "JDl5SG-iw7sd"
      },
      "source": [
        "## Distributed Memory (concatenated)"
      ]
    },
    {
      "cell_type": "code",
      "metadata": {
        "colab": {
          "base_uri": "https://localhost:8080/"
        },
        "id": "0ynxsYO_w7sd",
        "outputId": "f5cb16af-6dd3-4068-c058-7422c3f4d225"
      },
      "source": [
        "cores = multiprocessing.cpu_count()\n",
        "model_ug_dmc = Doc2Vec(dm=1, dm_concat=1, size=100, window=2, negative=5, min_count=2, workers=cores, alpha=0.065, min_alpha=0.065)\n",
        "model_ug_dmc.build_vocab([x for x in tqdm(all_x_w2v)])"
      ],
      "execution_count": 25,
      "outputs": [
        {
          "output_type": "stream",
          "text": [
            "/usr/local/lib/python3.6/dist-packages/gensim/models/doc2vec.py:570: UserWarning: The parameter `size` is deprecated, will be removed in 4.0.0, use `vector_size` instead.\n",
            "  warnings.warn(\"The parameter `size` is deprecated, will be removed in 4.0.0, use `vector_size` instead.\")\n",
            "100%|██████████| 31221/31221 [00:00<00:00, 2618012.46it/s]\n"
          ],
          "name": "stderr"
        }
      ]
    },
    {
      "cell_type": "code",
      "metadata": {
        "colab": {
          "base_uri": "https://localhost:8080/"
        },
        "id": "uZSziimSw7sd",
        "outputId": "c7cb26ad-7905-48d8-d953-f4019128495c"
      },
      "source": [
        "%%time\n",
        "for epoch in range(30):\n",
        "    model_ug_dmc.train(utils.shuffle([x for x in tqdm(all_x_w2v)]), total_examples=len(all_x_w2v), epochs=1)\n",
        "    model_ug_dmc.alpha -= 0.002\n",
        "    model_ug_dmc.min_alpha = model_ug_dmc.alpha"
      ],
      "execution_count": 26,
      "outputs": [
        {
          "output_type": "stream",
          "text": [
            "100%|██████████| 31221/31221 [00:00<00:00, 2722291.03it/s]\n",
            "100%|██████████| 31221/31221 [00:00<00:00, 2797247.94it/s]\n",
            "100%|██████████| 31221/31221 [00:00<00:00, 3438912.92it/s]\n",
            "100%|██████████| 31221/31221 [00:00<00:00, 3456796.50it/s]\n",
            "100%|██████████| 31221/31221 [00:00<00:00, 3477820.23it/s]\n",
            "100%|██████████| 31221/31221 [00:00<00:00, 3400071.80it/s]\n",
            "100%|██████████| 31221/31221 [00:00<00:00, 3717223.95it/s]\n",
            "100%|██████████| 31221/31221 [00:00<00:00, 3309836.35it/s]\n",
            "100%|██████████| 31221/31221 [00:00<00:00, 3579737.16it/s]\n",
            "100%|██████████| 31221/31221 [00:00<00:00, 3503126.33it/s]\n",
            "100%|██████████| 31221/31221 [00:00<00:00, 3365468.14it/s]\n",
            "100%|██████████| 31221/31221 [00:00<00:00, 3515446.05it/s]\n",
            "100%|██████████| 31221/31221 [00:00<00:00, 3599812.11it/s]\n",
            "100%|██████████| 31221/31221 [00:00<00:00, 3573777.77it/s]\n",
            "100%|██████████| 31221/31221 [00:00<00:00, 3797203.65it/s]\n",
            "100%|██████████| 31221/31221 [00:00<00:00, 3548309.58it/s]\n",
            "100%|██████████| 31221/31221 [00:00<00:00, 3416393.56it/s]\n",
            "100%|██████████| 31221/31221 [00:00<00:00, 3057373.52it/s]\n",
            "100%|██████████| 31221/31221 [00:00<00:00, 3469067.64it/s]\n",
            "100%|██████████| 31221/31221 [00:00<00:00, 3583263.52it/s]\n",
            "100%|██████████| 31221/31221 [00:00<00:00, 3491264.94it/s]\n",
            "100%|██████████| 31221/31221 [00:00<00:00, 3221411.20it/s]\n",
            "100%|██████████| 31221/31221 [00:00<00:00, 2932687.57it/s]\n",
            "100%|██████████| 31221/31221 [00:00<00:00, 3513653.85it/s]\n",
            "100%|██████████| 31221/31221 [00:00<00:00, 3708276.42it/s]\n",
            "100%|██████████| 31221/31221 [00:00<00:00, 3500130.04it/s]\n",
            "100%|██████████| 31221/31221 [00:00<00:00, 3511110.18it/s]\n",
            "100%|██████████| 31221/31221 [00:00<00:00, 3214215.78it/s]\n",
            "100%|██████████| 31221/31221 [00:00<00:00, 3205717.77it/s]\n",
            "100%|██████████| 31221/31221 [00:00<00:00, 3618412.96it/s]\n"
          ],
          "name": "stderr"
        },
        {
          "output_type": "stream",
          "text": [
            "CPU times: user 1min 27s, sys: 16.5 s, total: 1min 43s\n",
            "Wall time: 1min 1s\n"
          ],
          "name": "stdout"
        }
      ]
    },
    {
      "cell_type": "code",
      "metadata": {
        "id": "ItqqRxiFw7sd"
      },
      "source": [
        "#model_ug_dmc = Doc2Vec.load('d2v_model_ug_dmc.doc2vec')\n"
      ],
      "execution_count": 27,
      "outputs": []
    },
    {
      "cell_type": "markdown",
      "metadata": {
        "id": "_oaxgtfcw7se"
      },
      "source": [
        "What's nice about Doc2Vec is that after training you can retrieve not only document vectors but also individual word vectors as well. Note, however, that a Doc2Vec DBOW model doesn't learn semantic word vectors, so the word vectors you retrieve from pure DBOW model will be the automatic randomly-initialized vectors, with no meaning.\n",
        "But with DM model, you can see the semantic relationship between words. Let's see what word vectors it has learned through training."
      ]
    },
    {
      "cell_type": "code",
      "metadata": {
        "colab": {
          "base_uri": "https://localhost:8080/"
        },
        "id": "If_gI7C_w7se",
        "outputId": "215cbdde-ed2d-4abf-a94e-3a4e56fc77ea"
      },
      "source": [
        "model_ug_dmc.most_similar('good')"
      ],
      "execution_count": 28,
      "outputs": [
        {
          "output_type": "stream",
          "text": [
            "/usr/local/lib/python3.6/dist-packages/ipykernel_launcher.py:1: DeprecationWarning: Call to deprecated `most_similar` (Method will be removed in 4.0.0, use self.wv.most_similar() instead).\n",
            "  \"\"\"Entry point for launching an IPython kernel.\n"
          ],
          "name": "stderr"
        },
        {
          "output_type": "execute_result",
          "data": {
            "text/plain": [
              "[('great', 0.49739018082618713),\n",
              " ('labor', 0.46986299753189087),\n",
              " ('sat', 0.46453961730003357),\n",
              " ('sinkhole', 0.43653297424316406),\n",
              " ('nice', 0.4315698742866516),\n",
              " ('noncompliance', 0.42851385474205017),\n",
              " ('seit', 0.4280681014060974),\n",
              " ('delta', 0.4214487373828888),\n",
              " ('every', 0.41727468371391296),\n",
              " ('take', 0.41668832302093506)]"
            ]
          },
          "metadata": {
            "tags": []
          },
          "execution_count": 28
        }
      ]
    },
    {
      "cell_type": "code",
      "metadata": {
        "colab": {
          "base_uri": "https://localhost:8080/"
        },
        "id": "xhbOab8Sw7se",
        "outputId": "61ed8212-7e78-4749-b741-4c05570d2b01"
      },
      "source": [
        "model_ug_dmc.most_similar('network')"
      ],
      "execution_count": 29,
      "outputs": [
        {
          "output_type": "stream",
          "text": [
            "/usr/local/lib/python3.6/dist-packages/ipykernel_launcher.py:1: DeprecationWarning: Call to deprecated `most_similar` (Method will be removed in 4.0.0, use self.wv.most_similar() instead).\n",
            "  \"\"\"Entry point for launching an IPython kernel.\n"
          ],
          "name": "stderr"
        },
        {
          "output_type": "execute_result",
          "data": {
            "text/plain": [
              "[('elm', 0.4514523446559906),\n",
              " ('rule', 0.4345603883266449),\n",
              " ('knowledge', 0.4295300841331482),\n",
              " ('circusomething', 0.4253024160861969),\n",
              " ('aborted', 0.40351083874702454),\n",
              " ('concrete', 0.40240514278411865),\n",
              " ('toss', 0.39537402987480164),\n",
              " ('recreate', 0.387096643447876),\n",
              " ('minus', 0.38439515233039856),\n",
              " ('adaptor', 0.3840002417564392)]"
            ]
          },
          "metadata": {
            "tags": []
          },
          "execution_count": 29
        }
      ]
    },
    {
      "cell_type": "markdown",
      "metadata": {
        "id": "Ad8omgBTw7se"
      },
      "source": [
        "What's interesting with DMC model is, somehow it learned all the misspelled version of a word as you can see from the above."
      ]
    },
    {
      "cell_type": "code",
      "metadata": {
        "colab": {
          "base_uri": "https://localhost:8080/"
        },
        "id": "5kJJJXnQw7se",
        "outputId": "f4df3121-8e0b-4a0e-d054-3b16b2174f19"
      },
      "source": [
        "model_ug_dmc.most_similar('password')"
      ],
      "execution_count": 30,
      "outputs": [
        {
          "output_type": "stream",
          "text": [
            "/usr/local/lib/python3.6/dist-packages/ipykernel_launcher.py:1: DeprecationWarning: Call to deprecated `most_similar` (Method will be removed in 4.0.0, use self.wv.most_similar() instead).\n",
            "  \"\"\"Entry point for launching an IPython kernel.\n"
          ],
          "name": "stderr"
        },
        {
          "output_type": "execute_result",
          "data": {
            "text/plain": [
              "[('import', 0.44512808322906494),\n",
              " ('channel', 0.4325460195541382),\n",
              " ('payment', 0.42900627851486206),\n",
              " ('portfolio', 0.4282849431037903),\n",
              " ('backdoor', 0.41886597871780396),\n",
              " ('rad', 0.40810057520866394),\n",
              " ('authentication', 0.40247347950935364),\n",
              " ('electromechanical', 0.402332067489624),\n",
              " ('\\\\', 0.40209728479385376),\n",
              " ('counsel', 0.398153156042099)]"
            ]
          },
          "metadata": {
            "tags": []
          },
          "execution_count": 30
        }
      ]
    },
    {
      "cell_type": "code",
      "metadata": {
        "colab": {
          "base_uri": "https://localhost:8080/"
        },
        "id": "KFrWM9mXw7se",
        "outputId": "df5a6490-15fe-4b8a-e901-0ea605749a64"
      },
      "source": [
        "model_ug_dmc.most_similar(positive=['bigger', 'small'], negative=['big'])"
      ],
      "execution_count": 31,
      "outputs": [
        {
          "output_type": "stream",
          "text": [
            "/usr/local/lib/python3.6/dist-packages/ipykernel_launcher.py:1: DeprecationWarning: Call to deprecated `most_similar` (Method will be removed in 4.0.0, use self.wv.most_similar() instead).\n",
            "  \"\"\"Entry point for launching an IPython kernel.\n"
          ],
          "name": "stderr"
        },
        {
          "output_type": "execute_result",
          "data": {
            "text/plain": [
              "[('registered', 0.3896659314632416),\n",
              " ('born', 0.3570252060890198),\n",
              " ('indicator', 0.34719228744506836),\n",
              " ('saved', 0.34702688455581665),\n",
              " ('minute', 0.34257346391677856),\n",
              " ('proposal', 0.33975642919540405),\n",
              " ('inside', 0.3336832523345947),\n",
              " ('especially', 0.32864856719970703),\n",
              " ('tha', 0.31340551376342773),\n",
              " ('employee', 0.3008264899253845)]"
            ]
          },
          "metadata": {
            "tags": []
          },
          "execution_count": 31
        }
      ]
    },
    {
      "cell_type": "markdown",
      "metadata": {
        "id": "pu7yqJ32w7sf"
      },
      "source": [
        "The model successfully catches the comparative form of \"small\", on feeding the word \"big\" and \"bigger\". The above line of code is like asking the model to add the vectors associated with the word \"bigger\" and \"small\" while subtracting \"big\" is equal to the top result, \"smaller\"."
      ]
    },
    {
      "cell_type": "code",
      "metadata": {
        "id": "aw3_ZlI-w7sf"
      },
      "source": [
        "train_vecs_dmc = get_vectors(model_ug_dmc, x_train, 100)\n",
        "validation_vecs_dmc = get_vectors(model_ug_dmc, x_validation, 100)"
      ],
      "execution_count": 32,
      "outputs": []
    },
    {
      "cell_type": "code",
      "metadata": {
        "colab": {
          "base_uri": "https://localhost:8080/"
        },
        "id": "yApgeG-ow7sf",
        "outputId": "147d0cf1-2a18-492b-ed8b-7a4ce167f41f"
      },
      "source": [
        "clf = LogisticRegression(solver='lbfgs', max_iter=1000, multi_class='multinomial')\n",
        "clf.fit(train_vecs_dmc, y_train)"
      ],
      "execution_count": 33,
      "outputs": [
        {
          "output_type": "execute_result",
          "data": {
            "text/plain": [
              "LogisticRegression(C=1.0, class_weight=None, dual=False, fit_intercept=True,\n",
              "                   intercept_scaling=1, l1_ratio=None, max_iter=1000,\n",
              "                   multi_class='multinomial', n_jobs=None, penalty='l2',\n",
              "                   random_state=None, solver='lbfgs', tol=0.0001, verbose=0,\n",
              "                   warm_start=False)"
            ]
          },
          "metadata": {
            "tags": []
          },
          "execution_count": 33
        }
      ]
    },
    {
      "cell_type": "code",
      "metadata": {
        "colab": {
          "base_uri": "https://localhost:8080/"
        },
        "id": "MJvdmVdxw7sf",
        "outputId": "5cd16eea-72aa-4404-820e-0f07a4af748d"
      },
      "source": [
        "clf.score(validation_vecs_dmc, y_validation)"
      ],
      "execution_count": 34,
      "outputs": [
        {
          "output_type": "execute_result",
          "data": {
            "text/plain": [
              "0.22115384615384615"
            ]
          },
          "metadata": {
            "tags": []
          },
          "execution_count": 34
        }
      ]
    },
    {
      "cell_type": "code",
      "metadata": {
        "id": "PxtfdwkYw7sf"
      },
      "source": [
        "model_ug_dmc.save('drive/MyDrive/grams/d2v_model_ug_dmc.doc2vec')\n",
        "model_ug_dmc = Doc2Vec.load('drive/MyDrive/grams/d2v_model_ug_dmc.doc2vec')\n",
        "model_ug_dmc.delete_temporary_training_data(keep_doctags_vectors=True, keep_inference=True)"
      ],
      "execution_count": 35,
      "outputs": []
    },
    {
      "cell_type": "markdown",
      "metadata": {
        "id": "UcK1h1YUw7sf"
      },
      "source": [
        "## Distributed Memory (mean)"
      ]
    },
    {
      "cell_type": "code",
      "metadata": {
        "colab": {
          "base_uri": "https://localhost:8080/"
        },
        "id": "s60nvTVZw7sg",
        "outputId": "ff5a8570-5098-4e17-939b-dbd76af73922"
      },
      "source": [
        "cores = multiprocessing.cpu_count()\n",
        "model_ug_dmm = Doc2Vec(dm=1, dm_mean=1, size=100, window=4, negative=5, min_count=2, workers=cores, alpha=0.065, min_alpha=0.065)\n",
        "model_ug_dmm.build_vocab([x for x in tqdm(all_x_w2v)])"
      ],
      "execution_count": 36,
      "outputs": [
        {
          "output_type": "stream",
          "text": [
            "/usr/local/lib/python3.6/dist-packages/gensim/models/doc2vec.py:570: UserWarning: The parameter `size` is deprecated, will be removed in 4.0.0, use `vector_size` instead.\n",
            "  warnings.warn(\"The parameter `size` is deprecated, will be removed in 4.0.0, use `vector_size` instead.\")\n",
            "100%|██████████| 31221/31221 [00:00<00:00, 2688091.25it/s]\n"
          ],
          "name": "stderr"
        }
      ]
    },
    {
      "cell_type": "code",
      "metadata": {
        "colab": {
          "base_uri": "https://localhost:8080/"
        },
        "id": "4uOTKS6_w7sg",
        "outputId": "f9f751f0-76f1-4ba8-c50d-f7572c4a8876"
      },
      "source": [
        "%%time\n",
        "for epoch in range(30):\n",
        "    model_ug_dmm.train(utils.shuffle([x for x in tqdm(all_x_w2v)]), total_examples=len(all_x_w2v), epochs=1)\n",
        "    model_ug_dmm.alpha -= 0.002\n",
        "    model_ug_dmm.min_alpha = model_ug_dmm.alpha"
      ],
      "execution_count": 37,
      "outputs": [
        {
          "output_type": "stream",
          "text": [
            "100%|██████████| 31221/31221 [00:00<00:00, 2675295.52it/s]\n",
            "100%|██████████| 31221/31221 [00:00<00:00, 3453514.56it/s]\n",
            "100%|██████████| 31221/31221 [00:00<00:00, 3323866.42it/s]\n",
            "100%|██████████| 31221/31221 [00:00<00:00, 3292443.75it/s]\n",
            "100%|██████████| 31221/31221 [00:00<00:00, 3363307.18it/s]\n",
            "100%|██████████| 31221/31221 [00:00<00:00, 2959062.80it/s]\n",
            "100%|██████████| 31221/31221 [00:00<00:00, 3476619.90it/s]\n",
            "100%|██████████| 31221/31221 [00:00<00:00, 3643886.95it/s]\n",
            "100%|██████████| 31221/31221 [00:00<00:00, 2407087.33it/s]\n",
            "100%|██████████| 31221/31221 [00:00<00:00, 3417820.25it/s]\n",
            "100%|██████████| 31221/31221 [00:00<00:00, 3415324.32it/s]\n",
            "100%|██████████| 31221/31221 [00:00<00:00, 3017220.00it/s]\n",
            "100%|██████████| 31221/31221 [00:00<00:00, 3437107.67it/s]\n",
            "100%|██████████| 31221/31221 [00:00<00:00, 3427122.88it/s]\n",
            "100%|██████████| 31221/31221 [00:00<00:00, 3386793.36it/s]\n",
            "100%|██████████| 31221/31221 [00:00<00:00, 3585716.46it/s]\n",
            "100%|██████████| 31221/31221 [00:00<00:00, 3485317.93it/s]\n",
            "100%|██████████| 31221/31221 [00:00<00:00, 3652627.97it/s]\n",
            "100%|██████████| 31221/31221 [00:00<00:00, 3538433.99it/s]\n",
            "100%|██████████| 31221/31221 [00:00<00:00, 3458622.50it/s]\n",
            "100%|██████████| 31221/31221 [00:00<00:00, 3262178.40it/s]\n",
            "100%|██████████| 31221/31221 [00:00<00:00, 3799737.84it/s]\n",
            "100%|██████████| 31221/31221 [00:00<00:00, 3700208.11it/s]\n",
            "100%|██████████| 31221/31221 [00:00<00:00, 3543988.23it/s]\n",
            "100%|██████████| 31221/31221 [00:00<00:00, 3655278.86it/s]\n",
            "100%|██████████| 31221/31221 [00:00<00:00, 3556694.15it/s]\n",
            "100%|██████████| 31221/31221 [00:00<00:00, 3470814.63it/s]\n",
            "100%|██████████| 31221/31221 [00:00<00:00, 2830686.00it/s]\n",
            "100%|██████████| 31221/31221 [00:00<00:00, 3545139.56it/s]\n",
            "100%|██████████| 31221/31221 [00:00<00:00, 3410876.36it/s]\n"
          ],
          "name": "stderr"
        },
        {
          "output_type": "stream",
          "text": [
            "CPU times: user 2min 26s, sys: 48.5 s, total: 3min 14s\n",
            "Wall time: 2min 2s\n"
          ],
          "name": "stdout"
        }
      ]
    },
    {
      "cell_type": "code",
      "metadata": {
        "colab": {
          "base_uri": "https://localhost:8080/"
        },
        "id": "JBgIodiSw7sg",
        "outputId": "33cf1b4f-ec41-4e6e-cbb7-53d89bb01ca0"
      },
      "source": [
        "model_ug_dmm.most_similar('schedule')"
      ],
      "execution_count": 38,
      "outputs": [
        {
          "output_type": "stream",
          "text": [
            "/usr/local/lib/python3.6/dist-packages/ipykernel_launcher.py:1: DeprecationWarning: Call to deprecated `most_similar` (Method will be removed in 4.0.0, use self.wv.most_similar() instead).\n",
            "  \"\"\"Entry point for launching an IPython kernel.\n"
          ],
          "name": "stderr"
        },
        {
          "output_type": "execute_result",
          "data": {
            "text/plain": [
              "[('resume', 0.6807745695114136),\n",
              " ('regular', 0.47727298736572266),\n",
              " ('job', 0.45037853717803955),\n",
              " ('next', 0.41028138995170593),\n",
              " ('arc', 0.39778828620910645),\n",
              " ('ceremony', 0.3630720376968384),\n",
              " ('insecurity', 0.354709655046463),\n",
              " ('cluster', 0.34837090969085693),\n",
              " ('addregardingss', 0.34738415479660034),\n",
              " ('notch', 0.3469822406768799)]"
            ]
          },
          "metadata": {
            "tags": []
          },
          "execution_count": 38
        }
      ]
    },
    {
      "cell_type": "code",
      "metadata": {
        "colab": {
          "base_uri": "https://localhost:8080/"
        },
        "id": "PLEoCYdiw7sg",
        "outputId": "5b5df56d-6ba5-4e68-d677-97f7daecd1bf"
      },
      "source": [
        "model_ug_dmc.most_similar('network')"
      ],
      "execution_count": 39,
      "outputs": [
        {
          "output_type": "stream",
          "text": [
            "/usr/local/lib/python3.6/dist-packages/ipykernel_launcher.py:1: DeprecationWarning: Call to deprecated `most_similar` (Method will be removed in 4.0.0, use self.wv.most_similar() instead).\n",
            "  \"\"\"Entry point for launching an IPython kernel.\n"
          ],
          "name": "stderr"
        },
        {
          "output_type": "execute_result",
          "data": {
            "text/plain": [
              "[('elm', 0.4514523446559906),\n",
              " ('rule', 0.4345603883266449),\n",
              " ('knowledge', 0.4295300841331482),\n",
              " ('circusomething', 0.4253024160861969),\n",
              " ('aborted', 0.40351083874702454),\n",
              " ('concrete', 0.40240514278411865),\n",
              " ('toss', 0.39537402987480164),\n",
              " ('recreate', 0.387096643447876),\n",
              " ('minus', 0.38439515233039856),\n",
              " ('adaptor', 0.3840002417564392)]"
            ]
          },
          "metadata": {
            "tags": []
          },
          "execution_count": 39
        }
      ]
    },
    {
      "cell_type": "code",
      "metadata": {
        "id": "9zEy300_w7sg"
      },
      "source": [
        "train_vecs_dmm = get_vectors(model_ug_dmm, x_train, 100)\n",
        "validation_vecs_dmm = get_vectors(model_ug_dmm, x_validation, 100)"
      ],
      "execution_count": 40,
      "outputs": []
    },
    {
      "cell_type": "code",
      "metadata": {
        "colab": {
          "base_uri": "https://localhost:8080/"
        },
        "id": "T9TmHlgXw7sg",
        "outputId": "be789cff-63bc-43fb-bb1c-6a403a34e528"
      },
      "source": [
        "clf = LogisticRegression(solver='lbfgs', max_iter=1000, multi_class='multinomial')\n",
        "clf.fit(train_vecs_dmm, y_train)"
      ],
      "execution_count": 41,
      "outputs": [
        {
          "output_type": "execute_result",
          "data": {
            "text/plain": [
              "LogisticRegression(C=1.0, class_weight=None, dual=False, fit_intercept=True,\n",
              "                   intercept_scaling=1, l1_ratio=None, max_iter=1000,\n",
              "                   multi_class='multinomial', n_jobs=None, penalty='l2',\n",
              "                   random_state=None, solver='lbfgs', tol=0.0001, verbose=0,\n",
              "                   warm_start=False)"
            ]
          },
          "metadata": {
            "tags": []
          },
          "execution_count": 41
        }
      ]
    },
    {
      "cell_type": "code",
      "metadata": {
        "colab": {
          "base_uri": "https://localhost:8080/"
        },
        "id": "0jpITAz9w7sg",
        "outputId": "b540f870-db57-4821-b0b6-e60e956d8a85"
      },
      "source": [
        "clf.score(validation_vecs_dmm, y_validation)"
      ],
      "execution_count": 42,
      "outputs": [
        {
          "output_type": "execute_result",
          "data": {
            "text/plain": [
              "0.42628205128205127"
            ]
          },
          "metadata": {
            "tags": []
          },
          "execution_count": 42
        }
      ]
    },
    {
      "cell_type": "code",
      "metadata": {
        "id": "c1h1xu_rw7sg"
      },
      "source": [
        "model_ug_dmm.save('drive/MyDrive/grams/d2v_model_ug_dmm.doc2vec')\n",
        "model_ug_dmm = Doc2Vec.load('drive/MyDrive/grams/d2v_model_ug_dmm.doc2vec')\n",
        "model_ug_dmm.delete_temporary_training_data(keep_doctags_vectors=True, keep_inference=True)"
      ],
      "execution_count": 43,
      "outputs": []
    },
    {
      "cell_type": "markdown",
      "metadata": {
        "collapsed": true,
        "id": "Smk6tMy1w7sh"
      },
      "source": [
        "Since I have the document vectors from four different models, now I can concatenate them in combination to see how it affects the performance. Below I defined a simple function to concatenate document vectors from different models."
      ]
    },
    {
      "cell_type": "code",
      "metadata": {
        "id": "ZsIAguPKw7sh"
      },
      "source": [
        "def get_concat_vectors(model1,model2, corpus, size):\n",
        "    vecs = np.zeros((len(corpus), size))\n",
        "    n = 0\n",
        "    for i in corpus.index:\n",
        "        prefix = 'all_' + str(i)\n",
        "        vecs[n] = np.append(model1.docvecs[prefix],model2.docvecs[prefix])\n",
        "        n += 1\n",
        "    return vecs"
      ],
      "execution_count": 44,
      "outputs": []
    },
    {
      "cell_type": "code",
      "metadata": {
        "id": "I4E1AOgbw7sh"
      },
      "source": [
        "train_vecs_dbow_dmc = get_concat_vectors(model_ug_dbow,model_ug_dmc, x_train, 200)\n",
        "validation_vecs_dbow_dmc = get_concat_vectors(model_ug_dbow,model_ug_dmc, x_validation, 200)"
      ],
      "execution_count": 45,
      "outputs": []
    },
    {
      "cell_type": "code",
      "metadata": {
        "colab": {
          "base_uri": "https://localhost:8080/"
        },
        "id": "7nBzv4nrw7sh",
        "outputId": "86232131-9b40-41dc-c031-da85815ad4ca"
      },
      "source": [
        "%%time\n",
        "clf = LogisticRegression(solver='lbfgs', max_iter=1000, multi_class='multinomial')\n",
        "clf.fit(train_vecs_dbow_dmc, y_train)"
      ],
      "execution_count": 46,
      "outputs": [
        {
          "output_type": "stream",
          "text": [
            "CPU times: user 2min 39s, sys: 4min 23s, total: 7min 3s\n",
            "Wall time: 1min 46s\n"
          ],
          "name": "stdout"
        }
      ]
    },
    {
      "cell_type": "code",
      "metadata": {
        "colab": {
          "base_uri": "https://localhost:8080/"
        },
        "id": "3lQN-r-kw7sh",
        "outputId": "17821a54-ac29-4a54-ae3f-37d33821e02a"
      },
      "source": [
        "clf.score(validation_vecs_dbow_dmc, y_validation)"
      ],
      "execution_count": 47,
      "outputs": [
        {
          "output_type": "execute_result",
          "data": {
            "text/plain": [
              "0.5641025641025641"
            ]
          },
          "metadata": {
            "tags": []
          },
          "execution_count": 47
        }
      ]
    },
    {
      "cell_type": "code",
      "metadata": {
        "id": "NQrEVGGpw7sh"
      },
      "source": [
        "train_vecs_dbow_dmm = get_concat_vectors(model_ug_dbow,model_ug_dmm, x_train, 200)\n",
        "validation_vecs_dbow_dmm = get_concat_vectors(model_ug_dbow,model_ug_dmm, x_validation, 200)"
      ],
      "execution_count": 48,
      "outputs": []
    },
    {
      "cell_type": "code",
      "metadata": {
        "colab": {
          "base_uri": "https://localhost:8080/"
        },
        "id": "PROpitMQw7sh",
        "outputId": "c3c09fdc-4766-41c1-833c-f156f7092d94"
      },
      "source": [
        "%%time\n",
        "clf = LogisticRegression(solver='lbfgs', max_iter=1000, multi_class='multinomial')\n",
        "clf.fit(train_vecs_dbow_dmm, y_train)"
      ],
      "execution_count": 49,
      "outputs": [
        {
          "output_type": "stream",
          "text": [
            "CPU times: user 4min 39s, sys: 7min 44s, total: 12min 23s\n",
            "Wall time: 3min 7s\n"
          ],
          "name": "stdout"
        }
      ]
    },
    {
      "cell_type": "code",
      "metadata": {
        "colab": {
          "base_uri": "https://localhost:8080/"
        },
        "id": "oTychl-ew7sh",
        "outputId": "e2820813-033c-489f-f6ba-8e88512586c3"
      },
      "source": [
        "clf.score(validation_vecs_dbow_dmm, y_validation)"
      ],
      "execution_count": 50,
      "outputs": [
        {
          "output_type": "execute_result",
          "data": {
            "text/plain": [
              "0.6121794871794872"
            ]
          },
          "metadata": {
            "tags": []
          },
          "execution_count": 50
        }
      ]
    },
    {
      "cell_type": "markdown",
      "metadata": {
        "id": "5YQh1kBAw7sh"
      },
      "source": [
        "In case of unigram, concatenating document vectors in different combination boosted the model performance. The best validation accuracy I got from a single model is from DBOW at 73.89%. With concatenated vectors, I get the highest validation accuracy of 75.51% with DBOW+DMM model."
      ]
    },
    {
      "cell_type": "code",
      "metadata": {
        "id": "EaV3HxUzw7si"
      },
      "source": [
        "from gensim.models.phrases import Phrases\r\n",
        "from gensim.models.phrases import Phraser"
      ],
      "execution_count": 51,
      "outputs": []
    },
    {
      "cell_type": "code",
      "metadata": {
        "id": "kS1Wr82vw7si"
      },
      "source": [
        "tokenized_train = [t.split() for t in x_train]"
      ],
      "execution_count": 52,
      "outputs": []
    },
    {
      "cell_type": "code",
      "metadata": {
        "id": "vzu8PTR4w7si",
        "colab": {
          "base_uri": "https://localhost:8080/"
        },
        "outputId": "0acad422-f9d7-4b72-d00e-1b2325fd02df"
      },
      "source": [
        "%%time\r\n",
        "phrases = Phrases(tokenized_train)\r\n",
        "bigram = Phraser(phrases)"
      ],
      "execution_count": 53,
      "outputs": [
        {
          "output_type": "stream",
          "text": [
            "CPU times: user 1.55 s, sys: 0 ns, total: 1.55 s\n",
            "Wall time: 1.55 s\n"
          ],
          "name": "stdout"
        }
      ]
    },
    {
      "cell_type": "code",
      "metadata": {
        "colab": {
          "base_uri": "https://localhost:8080/"
        },
        "id": "xkOXXq0BjZN6",
        "outputId": "d0ddde12-b9e0-4373-f81b-33ba8448504c"
      },
      "source": [
        "sent = [u'the', u'mayor', u'of', u'new', u'york', u'was', u'there']\r\n",
        "print(bigram[sent])"
      ],
      "execution_count": 54,
      "outputs": [
        {
          "output_type": "stream",
          "text": [
            "['the', 'mayor', 'of', 'new', 'york', 'was', 'there']\n"
          ],
          "name": "stdout"
        }
      ]
    },
    {
      "cell_type": "code",
      "metadata": {
        "colab": {
          "base_uri": "https://localhost:8080/"
        },
        "id": "DUb0Jt3eFuF_",
        "outputId": "7ac9a0e6-2a8f-4627-fb98-f3df9610ae81"
      },
      "source": [
        "x_train"
      ],
      "execution_count": 55,
      "outputs": [
        {
          "output_type": "execute_result",
          "data": {
            "text/plain": [
              "15866    my screen would momentarily and return with th...\n",
              "14653    need access to rule system other enter user id...\n",
              "11271    new received from hi trying to instanotherll a...\n",
              "2206                 external user for help calendar issue\n",
              "9457     intercompany tool issue from sent subject re h...\n",
              "                               ...                        \n",
              "1590     account is received from so the could you exte...\n",
              "4045     mobile device activation personally s in to ge...\n",
              "29902    access to for no longer he needs access please...\n",
              "4936     round off on total we so of order should be bu...\n",
              "27574         enable activity listing account summary need\n",
              "Name: Combined Description Cleaned, Length: 30596, dtype: object"
            ]
          },
          "metadata": {
            "tags": []
          },
          "execution_count": 55
        }
      ]
    },
    {
      "cell_type": "code",
      "metadata": {
        "colab": {
          "base_uri": "https://localhost:8080/",
          "height": 35
        },
        "id": "xaB7_3X_jcbo",
        "outputId": "e7f2261f-ad29-4a9e-8be0-fc4ea3dc62ec"
      },
      "source": [
        "x_train[10]"
      ],
      "execution_count": 56,
      "outputs": [
        {
          "output_type": "execute_result",
          "data": {
            "application/vnd.google.colaboratory.intrinsic+json": {
              "type": "string"
            },
            "text/plain": [
              "'engineering tool not connected and unable to submit'"
            ]
          },
          "metadata": {
            "tags": []
          },
          "execution_count": 56
        }
      ]
    },
    {
      "cell_type": "code",
      "metadata": {
        "colab": {
          "base_uri": "https://localhost:8080/"
        },
        "id": "J--Wx6pUjfk4",
        "outputId": "84ad78f8-9b4b-4477-dec0-5243cac2bf0d"
      },
      "source": [
        "bigram[x_train[10].split()]"
      ],
      "execution_count": 57,
      "outputs": [
        {
          "output_type": "execute_result",
          "data": {
            "text/plain": [
              "['engineering_tool', 'not', 'connected', 'and', 'unable', 'to', 'submit']"
            ]
          },
          "metadata": {
            "tags": []
          },
          "execution_count": 57
        }
      ]
    },
    {
      "cell_type": "code",
      "metadata": {
        "id": "zjsac2-TjmKX"
      },
      "source": [
        "def labelize_tickets_bg(tickets,label):\r\n",
        "    result = []\r\n",
        "    prefix = label\r\n",
        "    for i, t in zip(tickets.index, tickets):\r\n",
        "        result.append(LabeledSentence(bigram[t.split()], [prefix + '_%s' % i]))\r\n",
        "    return result"
      ],
      "execution_count": 58,
      "outputs": []
    },
    {
      "cell_type": "code",
      "metadata": {
        "colab": {
          "base_uri": "https://localhost:8080/"
        },
        "id": "yLeq90xTjyao",
        "outputId": "d901fa99-9268-4709-d209-0ba7d80d943d"
      },
      "source": [
        "all_x = pd.concat([x_train,x_validation,x_test])\r\n",
        "all_x_w2v_bg = labelize_tickets_bg(all_x, 'all')"
      ],
      "execution_count": 59,
      "outputs": [
        {
          "output_type": "stream",
          "text": [
            "/usr/local/lib/python3.6/dist-packages/ipykernel_launcher.py:5: DeprecationWarning: Call to deprecated `LabeledSentence` (Class will be removed in 4.0.0, use TaggedDocument instead).\n",
            "  \"\"\"\n"
          ],
          "name": "stderr"
        }
      ]
    },
    {
      "cell_type": "markdown",
      "metadata": {
        "id": "v1qYpaJ3kDwP"
      },
      "source": [
        "## DBOW Bigram"
      ]
    },
    {
      "cell_type": "code",
      "metadata": {
        "colab": {
          "base_uri": "https://localhost:8080/"
        },
        "id": "N3YxeGMOj1N5",
        "outputId": "49acc9a0-2b1b-4aaf-902d-51ac5d9f78ef"
      },
      "source": [
        "cores = multiprocessing.cpu_count()\r\n",
        "model_bg_dbow = Doc2Vec(dm=0, size=100, negative=5, min_count=2, workers=cores, alpha=0.065, min_alpha=0.065)\r\n",
        "model_bg_dbow.build_vocab([x for x in tqdm(all_x_w2v_bg)])"
      ],
      "execution_count": 60,
      "outputs": [
        {
          "output_type": "stream",
          "text": [
            "/usr/local/lib/python3.6/dist-packages/gensim/models/doc2vec.py:570: UserWarning: The parameter `size` is deprecated, will be removed in 4.0.0, use `vector_size` instead.\n",
            "  warnings.warn(\"The parameter `size` is deprecated, will be removed in 4.0.0, use `vector_size` instead.\")\n",
            "100%|██████████| 31221/31221 [00:00<00:00, 2325319.46it/s]\n"
          ],
          "name": "stderr"
        }
      ]
    },
    {
      "cell_type": "code",
      "metadata": {
        "colab": {
          "base_uri": "https://localhost:8080/"
        },
        "id": "ObaeOz4tkGdJ",
        "outputId": "b1d3443c-bd06-4d69-d0c8-445c7f935ca3"
      },
      "source": [
        "%%time\r\n",
        "for epoch in range(30):\r\n",
        "    model_bg_dbow.train(utils.shuffle([x for x in tqdm(all_x_w2v_bg)]), total_examples=len(all_x_w2v_bg), epochs=1)\r\n",
        "    model_bg_dbow.alpha -= 0.002\r\n",
        "    model_bg_dbow.min_alpha = model_bg_dbow.alpha"
      ],
      "execution_count": 61,
      "outputs": [
        {
          "output_type": "stream",
          "text": [
            "100%|██████████| 31221/31221 [00:00<00:00, 3001039.65it/s]\n",
            "100%|██████████| 31221/31221 [00:00<00:00, 3289879.54it/s]\n",
            "100%|██████████| 31221/31221 [00:00<00:00, 3123368.92it/s]\n",
            "100%|██████████| 31221/31221 [00:00<00:00, 3286659.27it/s]\n",
            "100%|██████████| 31221/31221 [00:00<00:00, 3337845.77it/s]\n",
            "100%|██████████| 31221/31221 [00:00<00:00, 3194145.06it/s]\n",
            "100%|██████████| 31221/31221 [00:00<00:00, 3272859.09it/s]\n",
            "100%|██████████| 31221/31221 [00:00<00:00, 3364430.53it/s]\n",
            "100%|██████████| 31221/31221 [00:00<00:00, 3692487.18it/s]\n",
            "100%|██████████| 31221/31221 [00:00<00:00, 3432242.95it/s]\n",
            "100%|██████████| 31221/31221 [00:00<00:00, 3201798.70it/s]\n",
            "100%|██████████| 31221/31221 [00:00<00:00, 3362702.61it/s]\n",
            "100%|██████████| 31221/31221 [00:00<00:00, 3645916.01it/s]\n",
            "100%|██████████| 31221/31221 [00:00<00:00, 3596450.67it/s]\n",
            "100%|██████████| 31221/31221 [00:00<00:00, 3584048.09it/s]\n",
            "100%|██████████| 31221/31221 [00:00<00:00, 3493034.36it/s]\n",
            "100%|██████████| 31221/31221 [00:00<00:00, 3558627.24it/s]\n",
            "100%|██████████| 31221/31221 [00:00<00:00, 3460724.79it/s]\n",
            "100%|██████████| 31221/31221 [00:00<00:00, 3096192.49it/s]\n",
            "100%|██████████| 31221/31221 [00:00<00:00, 3324541.50it/s]\n",
            "100%|██████████| 31221/31221 [00:00<00:00, 3682622.27it/s]\n",
            "100%|██████████| 31221/31221 [00:00<00:00, 3747863.91it/s]\n",
            "100%|██████████| 31221/31221 [00:00<00:00, 2818440.13it/s]\n",
            "100%|██████████| 31221/31221 [00:00<00:00, 3383905.25it/s]\n",
            "100%|██████████| 31221/31221 [00:00<00:00, 3333342.63it/s]\n",
            "100%|██████████| 31221/31221 [00:00<00:00, 3665613.18it/s]\n",
            "100%|██████████| 31221/31221 [00:00<00:00, 2955523.17it/s]\n",
            "100%|██████████| 31221/31221 [00:00<00:00, 3406085.55it/s]\n",
            "100%|██████████| 31221/31221 [00:00<00:00, 3660387.57it/s]\n",
            "100%|██████████| 31221/31221 [00:00<00:00, 3291202.50it/s]\n"
          ],
          "name": "stderr"
        },
        {
          "output_type": "stream",
          "text": [
            "CPU times: user 1min 9s, sys: 17.5 s, total: 1min 27s\n",
            "Wall time: 58 s\n"
          ],
          "name": "stdout"
        }
      ]
    },
    {
      "cell_type": "code",
      "metadata": {
        "id": "hwhJHpK0kI1W"
      },
      "source": [
        "train_vecs_dbow_bg = get_vectors(model_bg_dbow, x_train, 100)\r\n",
        "validation_vecs_dbow_bg = get_vectors(model_bg_dbow, x_validation, 100)"
      ],
      "execution_count": 62,
      "outputs": []
    },
    {
      "cell_type": "code",
      "metadata": {
        "colab": {
          "base_uri": "https://localhost:8080/"
        },
        "id": "sxy33VpjkMUX",
        "outputId": "66541bde-49cf-4c3d-8602-b55b6b42c12b"
      },
      "source": [
        "%%time\r\n",
        "clf = LogisticRegression(solver='lbfgs', max_iter=1000, multi_class='multinomial')\r\n",
        "clf.fit(train_vecs_dbow_bg, y_train)"
      ],
      "execution_count": 63,
      "outputs": [
        {
          "output_type": "stream",
          "text": [
            "CPU times: user 2min 4s, sys: 2min 55s, total: 4min 59s\n",
            "Wall time: 1min 15s\n"
          ],
          "name": "stdout"
        }
      ]
    },
    {
      "cell_type": "code",
      "metadata": {
        "colab": {
          "base_uri": "https://localhost:8080/"
        },
        "id": "yPWUs-WPkOYp",
        "outputId": "e0366368-67d1-4ab9-b81d-f80ad4235f35"
      },
      "source": [
        "clf.score(validation_vecs_dbow_bg, y_validation)"
      ],
      "execution_count": 64,
      "outputs": [
        {
          "output_type": "execute_result",
          "data": {
            "text/plain": [
              "0.5641025641025641"
            ]
          },
          "metadata": {
            "tags": []
          },
          "execution_count": 64
        }
      ]
    },
    {
      "cell_type": "code",
      "metadata": {
        "id": "kQKjCKJlkRL4"
      },
      "source": [
        "model_bg_dbow.save('drive/MyDrive/grams/d2v_model_bg_dbow.doc2vec')\r\n",
        "model_bg_dbow = Doc2Vec.load('drive/MyDrive/grams/d2v_model_bg_dbow.doc2vec')\r\n",
        "model_bg_dbow.delete_temporary_training_data(keep_doctags_vectors=True, keep_inference=True)"
      ],
      "execution_count": 65,
      "outputs": []
    },
    {
      "cell_type": "markdown",
      "metadata": {
        "id": "kNNlrRQBktF_"
      },
      "source": [
        "### DMC Bigram"
      ]
    },
    {
      "cell_type": "code",
      "metadata": {
        "colab": {
          "base_uri": "https://localhost:8080/"
        },
        "id": "lJhle1tEkoxt",
        "outputId": "46d2dd9e-2435-484a-97c2-3e35a9c68402"
      },
      "source": [
        "cores = multiprocessing.cpu_count()\r\n",
        "model_bg_dmc = Doc2Vec(dm=1, dm_concat=1, size=100, window=2, negative=5, min_count=2, workers=cores, alpha=0.065, min_alpha=0.065)\r\n",
        "model_bg_dmc.build_vocab([x for x in tqdm(all_x_w2v_bg)])"
      ],
      "execution_count": 66,
      "outputs": [
        {
          "output_type": "stream",
          "text": [
            "/usr/local/lib/python3.6/dist-packages/gensim/models/doc2vec.py:570: UserWarning: The parameter `size` is deprecated, will be removed in 4.0.0, use `vector_size` instead.\n",
            "  warnings.warn(\"The parameter `size` is deprecated, will be removed in 4.0.0, use `vector_size` instead.\")\n",
            "100%|██████████| 31221/31221 [00:00<00:00, 3271060.50it/s]\n"
          ],
          "name": "stderr"
        }
      ]
    },
    {
      "cell_type": "code",
      "metadata": {
        "colab": {
          "base_uri": "https://localhost:8080/"
        },
        "id": "Wd4R31_yky7V",
        "outputId": "99d24425-7478-4273-b5fa-f305c10a5a08"
      },
      "source": [
        "%%time\r\n",
        "for epoch in range(30):\r\n",
        "    model_bg_dmc.train(utils.shuffle([x for x in tqdm(all_x_w2v_bg)]), total_examples=len(all_x_w2v_bg), epochs=1)\r\n",
        "    model_bg_dmc.alpha -= 0.002\r\n",
        "    model_bg_dmc.min_alpha = model_bg_dmc.alpha"
      ],
      "execution_count": 67,
      "outputs": [
        {
          "output_type": "stream",
          "text": [
            "100%|██████████| 31221/31221 [00:00<00:00, 2758708.29it/s]\n",
            "100%|██████████| 31221/31221 [00:00<00:00, 3393023.92it/s]\n",
            "100%|██████████| 31221/31221 [00:00<00:00, 3410787.52it/s]\n",
            "100%|██████████| 31221/31221 [00:00<00:00, 3272041.31it/s]\n",
            "100%|██████████| 31221/31221 [00:00<00:00, 3610631.00it/s]\n",
            "100%|██████████| 31221/31221 [00:00<00:00, 3503126.33it/s]\n",
            "100%|██████████| 31221/31221 [00:00<00:00, 3340400.11it/s]\n",
            "100%|██████████| 31221/31221 [00:00<00:00, 3016802.94it/s]\n",
            "100%|██████████| 31221/31221 [00:00<00:00, 3379364.26it/s]\n",
            "100%|██████████| 31221/31221 [00:00<00:00, 3203365.18it/s]\n",
            "100%|██████████| 31221/31221 [00:00<00:00, 3331561.73it/s]\n",
            "100%|██████████| 31221/31221 [00:00<00:00, 2852700.53it/s]\n",
            "100%|██████████| 31221/31221 [00:00<00:00, 3179873.37it/s]\n",
            "100%|██████████| 31221/31221 [00:00<00:00, 3059445.01it/s]\n",
            "100%|██████████| 31221/31221 [00:00<00:00, 3391793.54it/s]\n",
            "100%|██████████| 31221/31221 [00:00<00:00, 3371360.00it/s]\n",
            "100%|██████████| 31221/31221 [00:00<00:00, 3325301.30it/s]\n",
            "100%|██████████| 31221/31221 [00:00<00:00, 3393991.27it/s]\n",
            "100%|██████████| 31221/31221 [00:00<00:00, 3503126.33it/s]\n",
            "100%|██████████| 31221/31221 [00:00<00:00, 3530706.28it/s]\n",
            "100%|██████████| 31221/31221 [00:00<00:00, 3440448.88it/s]\n",
            "100%|██████████| 31221/31221 [00:00<00:00, 3327075.51it/s]\n",
            "100%|██████████| 31221/31221 [00:00<00:00, 3427033.19it/s]\n",
            "100%|██████████| 31221/31221 [00:00<00:00, 3268040.06it/s]\n",
            "100%|██████████| 31221/31221 [00:00<00:00, 3177173.07it/s]\n",
            "100%|██████████| 31221/31221 [00:00<00:00, 3425778.03it/s]\n",
            "100%|██████████| 31221/31221 [00:00<00:00, 3452330.95it/s]\n",
            "100%|██████████| 31221/31221 [00:00<00:00, 3460999.19it/s]\n",
            "100%|██████████| 31221/31221 [00:00<00:00, 3648862.16it/s]\n",
            "100%|██████████| 31221/31221 [00:00<00:00, 2567805.27it/s]\n"
          ],
          "name": "stderr"
        },
        {
          "output_type": "stream",
          "text": [
            "CPU times: user 1min 26s, sys: 18.3 s, total: 1min 44s\n",
            "Wall time: 1min 2s\n"
          ],
          "name": "stdout"
        }
      ]
    },
    {
      "cell_type": "code",
      "metadata": {
        "colab": {
          "base_uri": "https://localhost:8080/"
        },
        "id": "pdlwD36Ik1KY",
        "outputId": "78b12291-547c-46a5-885a-3506047cb33a"
      },
      "source": [
        "model_bg_dmc.most_similar('schedule')"
      ],
      "execution_count": 68,
      "outputs": [
        {
          "output_type": "stream",
          "text": [
            "/usr/local/lib/python3.6/dist-packages/ipykernel_launcher.py:1: DeprecationWarning: Call to deprecated `most_similar` (Method will be removed in 4.0.0, use self.wv.most_similar() instead).\n",
            "  \"\"\"Entry point for launching an IPython kernel.\n"
          ],
          "name": "stderr"
        },
        {
          "output_type": "execute_result",
          "data": {
            "text/plain": [
              "[('resume', 0.6498955488204956),\n",
              " ('manager_pointing', 0.526020884513855),\n",
              " ('rerun', 0.48570677638053894),\n",
              " ('powder_mill', 0.48496562242507935),\n",
              " ('center_bucket', 0.48085349798202515),\n",
              " ('job_resume', 0.4804389476776123),\n",
              " ('hand_arc', 0.47001680731773376),\n",
              " ('respective', 0.4685259461402893),\n",
              " ('mac_address', 0.4587940573692322),\n",
              " ('arc', 0.4557734429836273)]"
            ]
          },
          "metadata": {
            "tags": []
          },
          "execution_count": 68
        }
      ]
    },
    {
      "cell_type": "code",
      "metadata": {
        "id": "FvMWiK7lk33m"
      },
      "source": [
        "train_vecs_dmc_bg = get_vectors(model_bg_dmc, x_train, 100)\r\n",
        "validation_vecs_dmc_bg = get_vectors(model_bg_dmc, x_validation, 100)"
      ],
      "execution_count": 69,
      "outputs": []
    },
    {
      "cell_type": "code",
      "metadata": {
        "colab": {
          "base_uri": "https://localhost:8080/"
        },
        "id": "x1ho-yKuk-Xp",
        "outputId": "60e71850-1eb1-4a93-9e47-c6d1901710fa"
      },
      "source": [
        "%%time\r\n",
        "clf = LogisticRegression(solver='lbfgs', max_iter=1000, multi_class='multinomial')\r\n",
        "clf.fit(train_vecs_dmc_bg, y_train)"
      ],
      "execution_count": 70,
      "outputs": [
        {
          "output_type": "stream",
          "text": [
            "CPU times: user 52.8 s, sys: 1min 11s, total: 2min 4s\n",
            "Wall time: 31.3 s\n"
          ],
          "name": "stdout"
        }
      ]
    },
    {
      "cell_type": "code",
      "metadata": {
        "colab": {
          "base_uri": "https://localhost:8080/"
        },
        "id": "TzlSvJOtlDSo",
        "outputId": "4c7ac4c0-bc3d-41f7-d31e-fcc7dc7478df"
      },
      "source": [
        "clf.score(validation_vecs_dmc_bg, y_validation)"
      ],
      "execution_count": 71,
      "outputs": [
        {
          "output_type": "execute_result",
          "data": {
            "text/plain": [
              "0.26282051282051283"
            ]
          },
          "metadata": {
            "tags": []
          },
          "execution_count": 71
        }
      ]
    },
    {
      "cell_type": "code",
      "metadata": {
        "id": "kJgiXjyhlKeZ"
      },
      "source": [
        "model_bg_dmc.save('drive/MyDrive/grams/d2v_model_bg_dmc.doc2vec')\r\n",
        "model_bg_dmc = Doc2Vec.load('drive/MyDrive/grams/d2v_model_bg_dmc.doc2vec')\r\n",
        "model_bg_dmc.delete_temporary_training_data(keep_doctags_vectors=True, keep_inference=True)"
      ],
      "execution_count": 72,
      "outputs": []
    },
    {
      "cell_type": "markdown",
      "metadata": {
        "id": "BTVevtLFlWX2"
      },
      "source": [
        "## DMM Bigram"
      ]
    },
    {
      "cell_type": "code",
      "metadata": {
        "colab": {
          "base_uri": "https://localhost:8080/"
        },
        "id": "G6nPiyNFlX1R",
        "outputId": "138263c8-535e-499c-a6bf-ad678108fc16"
      },
      "source": [
        "cores = multiprocessing.cpu_count()\r\n",
        "model_bg_dmm = Doc2Vec(dm=1, dm_mean=1, size=100, window=4, negative=5, min_count=2, workers=cores, alpha=0.065, min_alpha=0.065)\r\n",
        "model_bg_dmm.build_vocab([x for x in tqdm(all_x_w2v_bg)])"
      ],
      "execution_count": 73,
      "outputs": [
        {
          "output_type": "stream",
          "text": [
            "/usr/local/lib/python3.6/dist-packages/gensim/models/doc2vec.py:570: UserWarning: The parameter `size` is deprecated, will be removed in 4.0.0, use `vector_size` instead.\n",
            "  warnings.warn(\"The parameter `size` is deprecated, will be removed in 4.0.0, use `vector_size` instead.\")\n",
            "100%|██████████| 31221/31221 [00:00<00:00, 2728587.37it/s]\n"
          ],
          "name": "stderr"
        }
      ]
    },
    {
      "cell_type": "code",
      "metadata": {
        "colab": {
          "base_uri": "https://localhost:8080/"
        },
        "id": "_bh9CxDOlZyX",
        "outputId": "3bb98ba1-422d-4224-ab24-eb3b33ae510a"
      },
      "source": [
        "%%time\r\n",
        "for epoch in range(30):\r\n",
        "    model_bg_dmm.train(utils.shuffle([x for x in tqdm(all_x_w2v_bg)]), total_examples=len(all_x_w2v_bg), epochs=1)\r\n",
        "    model_bg_dmm.alpha -= 0.002\r\n",
        "    model_bg_dmm.min_alpha = model_bg_dmm.alpha"
      ],
      "execution_count": 74,
      "outputs": [
        {
          "output_type": "stream",
          "text": [
            "100%|██████████| 31221/31221 [00:00<00:00, 2952790.77it/s]\n",
            "100%|██████████| 31221/31221 [00:00<00:00, 3038221.04it/s]\n",
            "100%|██████████| 31221/31221 [00:00<00:00, 3266980.15it/s]\n",
            "100%|██████████| 31221/31221 [00:00<00:00, 3031960.30it/s]\n",
            "100%|██████████| 31221/31221 [00:00<00:00, 3589156.23it/s]\n",
            "100%|██████████| 31221/31221 [00:00<00:00, 3730460.79it/s]\n",
            "100%|██████████| 31221/31221 [00:00<00:00, 3320410.90it/s]\n",
            "100%|██████████| 31221/31221 [00:00<00:00, 3353230.70it/s]\n",
            "100%|██████████| 31221/31221 [00:00<00:00, 3194690.54it/s]\n",
            "100%|██████████| 31221/31221 [00:00<00:00, 3355378.72it/s]\n",
            "100%|██████████| 31221/31221 [00:00<00:00, 3241105.00it/s]\n",
            "100%|██████████| 31221/31221 [00:00<00:00, 3373878.99it/s]\n",
            "100%|██████████| 31221/31221 [00:00<00:00, 2853384.29it/s]\n",
            "100%|██████████| 31221/31221 [00:00<00:00, 2896363.03it/s]\n",
            "100%|██████████| 31221/31221 [00:00<00:00, 3453878.92it/s]\n",
            "100%|██████████| 31221/31221 [00:00<00:00, 3489776.28it/s]\n",
            "100%|██████████| 31221/31221 [00:00<00:00, 3379277.06it/s]\n",
            "100%|██████████| 31221/31221 [00:00<00:00, 3329613.39it/s]\n",
            "100%|██████████| 31221/31221 [00:00<00:00, 3457800.56it/s]\n",
            "100%|██████████| 31221/31221 [00:00<00:00, 3548117.30it/s]\n",
            "100%|██████████| 31221/31221 [00:00<00:00, 3546483.73it/s]\n",
            "100%|██████████| 31221/31221 [00:00<00:00, 3624121.03it/s]\n",
            "100%|██████████| 31221/31221 [00:00<00:00, 3689262.30it/s]\n",
            "100%|██████████| 31221/31221 [00:00<00:00, 3401661.61it/s]\n",
            "100%|██████████| 31221/31221 [00:00<00:00, 3390037.41it/s]\n",
            "100%|██████████| 31221/31221 [00:00<00:00, 3292609.32it/s]\n",
            "100%|██████████| 31221/31221 [00:00<00:00, 3210669.47it/s]\n",
            "100%|██████████| 31221/31221 [00:00<00:00, 3417017.59it/s]\n",
            "100%|██████████| 31221/31221 [00:00<00:00, 3494525.80it/s]\n",
            "100%|██████████| 31221/31221 [00:00<00:00, 3414968.06it/s]\n"
          ],
          "name": "stderr"
        },
        {
          "output_type": "stream",
          "text": [
            "CPU times: user 2min 24s, sys: 58.2 s, total: 3min 22s\n",
            "Wall time: 2min 8s\n"
          ],
          "name": "stdout"
        }
      ]
    },
    {
      "cell_type": "code",
      "metadata": {
        "id": "bB6SQS7JlcJI"
      },
      "source": [
        "train_vecs_dmm_bg = get_vectors(model_bg_dmm, x_train, 100)\r\n",
        "validation_vecs_dmm_bg = get_vectors(model_bg_dmm, x_validation, 100)"
      ],
      "execution_count": 75,
      "outputs": []
    },
    {
      "cell_type": "code",
      "metadata": {
        "colab": {
          "base_uri": "https://localhost:8080/"
        },
        "id": "xPanuFWyluVX",
        "outputId": "848c8595-3270-4763-f9f6-6393e0fa00ae"
      },
      "source": [
        "%%time\r\n",
        "clf = LogisticRegression(solver='lbfgs', max_iter=1000, multi_class='multinomial')\r\n",
        "clf.fit(train_vecs_dmm_bg, y_train)"
      ],
      "execution_count": 76,
      "outputs": [
        {
          "output_type": "stream",
          "text": [
            "CPU times: user 2min 51s, sys: 3min 57s, total: 6min 48s\n",
            "Wall time: 1min 42s\n"
          ],
          "name": "stdout"
        }
      ]
    },
    {
      "cell_type": "code",
      "metadata": {
        "colab": {
          "base_uri": "https://localhost:8080/"
        },
        "id": "sn2aw51mlyc4",
        "outputId": "8beca4b8-1970-48ed-8398-b5fdd10be5d1"
      },
      "source": [
        "clf.score(validation_vecs_dmm_bg, y_validation)"
      ],
      "execution_count": 77,
      "outputs": [
        {
          "output_type": "execute_result",
          "data": {
            "text/plain": [
              "0.41346153846153844"
            ]
          },
          "metadata": {
            "tags": []
          },
          "execution_count": 77
        }
      ]
    },
    {
      "cell_type": "code",
      "metadata": {
        "id": "C8fwZfBIl0fX"
      },
      "source": [
        "model_bg_dmm.save('drive/MyDrive/grams/d2v_model_bg_dmm.doc2vec')\r\n",
        "model_bg_dmm = Doc2Vec.load('drive/MyDrive/grams/d2v_model_bg_dmm.doc2vec')\r\n",
        "model_bg_dmm.delete_temporary_training_data(keep_doctags_vectors=True, keep_inference=True)"
      ],
      "execution_count": 78,
      "outputs": []
    },
    {
      "cell_type": "code",
      "metadata": {
        "id": "zRd6mq4Nl6TY"
      },
      "source": [
        "train_vecs_dbow_dmc_bg = get_concat_vectors(model_bg_dbow,model_bg_dmc, x_train, 200)\r\n",
        "validation_vecs_dbow_dmc_bg = get_concat_vectors(model_bg_dbow,model_bg_dmc, x_validation, 200)"
      ],
      "execution_count": 79,
      "outputs": []
    },
    {
      "cell_type": "code",
      "metadata": {
        "colab": {
          "base_uri": "https://localhost:8080/"
        },
        "id": "BygQH9D3l8_H",
        "outputId": "2ecccd62-472e-47c4-cdcc-ab6e790237a5"
      },
      "source": [
        "%%time\r\n",
        "clf = LogisticRegression(solver='lbfgs', max_iter=1000, multi_class='multinomial')\r\n",
        "clf.fit(train_vecs_dbow_dmc_bg, y_train)"
      ],
      "execution_count": 80,
      "outputs": [
        {
          "output_type": "stream",
          "text": [
            "CPU times: user 2min 44s, sys: 4min 33s, total: 7min 18s\n",
            "Wall time: 1min 50s\n"
          ],
          "name": "stdout"
        }
      ]
    },
    {
      "cell_type": "code",
      "metadata": {
        "colab": {
          "base_uri": "https://localhost:8080/"
        },
        "id": "Gww1wzvemBWZ",
        "outputId": "cb282dae-26c9-4778-9b53-1dd90e57c5a8"
      },
      "source": [
        "clf.score(validation_vecs_dbow_dmc_bg, y_validation)"
      ],
      "execution_count": 81,
      "outputs": [
        {
          "output_type": "execute_result",
          "data": {
            "text/plain": [
              "0.5705128205128205"
            ]
          },
          "metadata": {
            "tags": []
          },
          "execution_count": 81
        }
      ]
    },
    {
      "cell_type": "code",
      "metadata": {
        "id": "HqURTlajmHTI"
      },
      "source": [
        "train_vecs_dbow_dmm_bg = get_concat_vectors(model_bg_dbow,model_bg_dmm, x_train, 200)\r\n",
        "validation_vecs_dbow_dmm_bg = get_concat_vectors(model_bg_dbow,model_bg_dmm, x_validation, 200)"
      ],
      "execution_count": 82,
      "outputs": []
    },
    {
      "cell_type": "code",
      "metadata": {
        "colab": {
          "base_uri": "https://localhost:8080/"
        },
        "id": "PknQ80qhmJJW",
        "outputId": "fb60f803-9d92-4df4-e628-93d815b6fae8"
      },
      "source": [
        "%%time\r\n",
        "clf = LogisticRegression(solver='lbfgs', max_iter=1000, multi_class='multinomial')\r\n",
        "clf.fit(train_vecs_dbow_dmm_bg, y_train)"
      ],
      "execution_count": 83,
      "outputs": [
        {
          "output_type": "stream",
          "text": [
            "CPU times: user 4min 18s, sys: 7min 4s, total: 11min 22s\n",
            "Wall time: 2min 51s\n"
          ],
          "name": "stdout"
        }
      ]
    },
    {
      "cell_type": "code",
      "metadata": {
        "colab": {
          "base_uri": "https://localhost:8080/"
        },
        "id": "S6EQQ3qUmK93",
        "outputId": "c7681ba6-e42d-499c-c094-4b36cd032886"
      },
      "source": [
        "clf.score(validation_vecs_dbow_dmm_bg, y_validation)"
      ],
      "execution_count": 84,
      "outputs": [
        {
          "output_type": "execute_result",
          "data": {
            "text/plain": [
              "0.6185897435897436"
            ]
          },
          "metadata": {
            "tags": []
          },
          "execution_count": 84
        }
      ]
    },
    {
      "cell_type": "markdown",
      "metadata": {
        "id": "FcS4tHVYmY9p"
      },
      "source": [
        "## Trigram"
      ]
    },
    {
      "cell_type": "code",
      "metadata": {
        "colab": {
          "base_uri": "https://localhost:8080/"
        },
        "id": "RqcJqFVemQej",
        "outputId": "9076f8ec-1b95-4a52-a199-c6b8b04c5f28"
      },
      "source": [
        "%%time\r\n",
        "tg_phrases = Phrases(bigram[tokenized_train])\r\n",
        "trigram = Phraser(tg_phrases)"
      ],
      "execution_count": 85,
      "outputs": [
        {
          "output_type": "stream",
          "text": [
            "CPU times: user 3.29 s, sys: 369 ms, total: 3.66 s\n",
            "Wall time: 3.29 s\n"
          ],
          "name": "stdout"
        }
      ]
    },
    {
      "cell_type": "code",
      "metadata": {
        "colab": {
          "base_uri": "https://localhost:8080/"
        },
        "id": "2xc0vu1xmVAJ",
        "outputId": "90b57c80-d2dd-4eef-fab4-0446a1ee990b"
      },
      "source": [
        "trigram[bigram[x_train[10].split()]]"
      ],
      "execution_count": 86,
      "outputs": [
        {
          "output_type": "execute_result",
          "data": {
            "text/plain": [
              "['engineering_tool', 'not', 'connected', 'and', 'unable', 'to', 'submit']"
            ]
          },
          "metadata": {
            "tags": []
          },
          "execution_count": 86
        }
      ]
    },
    {
      "cell_type": "markdown",
      "metadata": {
        "id": "EnOufayemi3X"
      },
      "source": [
        "## Below Doc2Vec implementation is again same as unigram or bigram."
      ]
    },
    {
      "cell_type": "code",
      "metadata": {
        "id": "RnwMYQYdmhPj"
      },
      "source": [
        "def labelize_tickets_tg(tickets,label):\r\n",
        "    result = []\r\n",
        "    prefix = label\r\n",
        "    for i, t in zip(tickets.index, tickets):\r\n",
        "        result.append(LabeledSentence(trigram[bigram[t.split()]], [prefix + '_%s' % i]))\r\n",
        "    return result"
      ],
      "execution_count": 87,
      "outputs": []
    },
    {
      "cell_type": "code",
      "metadata": {
        "colab": {
          "base_uri": "https://localhost:8080/"
        },
        "id": "MhlaOuslmcy4",
        "outputId": "a09a6ff2-91c7-4c73-d15c-e848b4773883"
      },
      "source": [
        "all_x = pd.concat([x_train,x_validation,x_test])\r\n",
        "all_x_w2v_tg = labelize_tickets_tg(all_x, 'all')"
      ],
      "execution_count": 88,
      "outputs": [
        {
          "output_type": "stream",
          "text": [
            "/usr/local/lib/python3.6/dist-packages/ipykernel_launcher.py:5: DeprecationWarning: Call to deprecated `LabeledSentence` (Class will be removed in 4.0.0, use TaggedDocument instead).\n",
            "  \"\"\"\n"
          ],
          "name": "stderr"
        }
      ]
    },
    {
      "cell_type": "markdown",
      "metadata": {
        "id": "cOKmXMcNmz1v"
      },
      "source": [
        "## DBOW Trigram"
      ]
    },
    {
      "cell_type": "code",
      "metadata": {
        "colab": {
          "base_uri": "https://localhost:8080/"
        },
        "id": "Xqp9Zq4Kmuo9",
        "outputId": "1f30be7d-954f-4bb8-f59a-0720470b740a"
      },
      "source": [
        "model_tg_dbow = Doc2Vec(dm=0, size=100, negative=5, min_count=2, workers=cores, alpha=0.065, min_alpha=0.065)\r\n",
        "model_tg_dbow.build_vocab([x for x in tqdm(all_x_w2v_tg)])"
      ],
      "execution_count": 89,
      "outputs": [
        {
          "output_type": "stream",
          "text": [
            "/usr/local/lib/python3.6/dist-packages/gensim/models/doc2vec.py:570: UserWarning: The parameter `size` is deprecated, will be removed in 4.0.0, use `vector_size` instead.\n",
            "  warnings.warn(\"The parameter `size` is deprecated, will be removed in 4.0.0, use `vector_size` instead.\")\n",
            "100%|██████████| 31221/31221 [00:00<00:00, 3293768.77it/s]\n"
          ],
          "name": "stderr"
        }
      ]
    },
    {
      "cell_type": "code",
      "metadata": {
        "colab": {
          "base_uri": "https://localhost:8080/"
        },
        "id": "lgC6Qt2xm2eo",
        "outputId": "9497f029-d3ea-4f37-c207-af270f5e4879"
      },
      "source": [
        "%%time\r\n",
        "for epoch in range(30):\r\n",
        "    model_tg_dbow.train(utils.shuffle([x for x in tqdm(all_x_w2v_tg)]), total_examples=len(all_x_w2v_tg), epochs=1)\r\n",
        "    model_tg_dbow.alpha -= 0.002\r\n",
        "    model_tg_dbow.min_alpha = model_tg_dbow.alpha"
      ],
      "execution_count": 90,
      "outputs": [
        {
          "output_type": "stream",
          "text": [
            "100%|██████████| 31221/31221 [00:00<00:00, 2797606.50it/s]\n",
            "100%|██████████| 31221/31221 [00:00<00:00, 3662639.92it/s]\n",
            "100%|██████████| 31221/31221 [00:00<00:00, 3420945.30it/s]\n",
            "100%|██████████| 31221/31221 [00:00<00:00, 3590238.67it/s]\n",
            "100%|██████████| 31221/31221 [00:00<00:00, 3383293.25it/s]\n",
            "100%|██████████| 31221/31221 [00:00<00:00, 3642670.59it/s]\n",
            "100%|██████████| 31221/31221 [00:00<00:00, 2817651.75it/s]\n",
            "100%|██████████| 31221/31221 [00:00<00:00, 3605362.33it/s]\n",
            "100%|██████████| 31221/31221 [00:00<00:00, 3623218.56it/s]\n",
            "100%|██████████| 31221/31221 [00:00<00:00, 3488010.15it/s]\n",
            "100%|██████████| 31221/31221 [00:00<00:00, 3637005.00it/s]\n",
            "100%|██████████| 31221/31221 [00:00<00:00, 3671883.05it/s]\n",
            "100%|██████████| 31221/31221 [00:00<00:00, 3480963.48it/s]\n",
            "100%|██████████| 31221/31221 [00:00<00:00, 3557080.60it/s]\n",
            "100%|██████████| 31221/31221 [00:00<00:00, 3364862.79it/s]\n",
            "100%|██████████| 31221/31221 [00:00<00:00, 3400071.80it/s]\n",
            "100%|██████████| 31221/31221 [00:00<00:00, 3403164.46it/s]\n",
            "100%|██████████| 31221/31221 [00:00<00:00, 3579150.11it/s]\n",
            "100%|██████████| 31221/31221 [00:00<00:00, 3470262.76it/s]\n",
            "100%|██████████| 31221/31221 [00:00<00:00, 3365122.20it/s]\n",
            "100%|██████████| 31221/31221 [00:00<00:00, 3309836.35it/s]\n",
            "100%|██████████| 31221/31221 [00:00<00:00, 3390037.41it/s]\n",
            "100%|██████████| 31221/31221 [00:00<00:00, 3102721.60it/s]\n",
            "100%|██████████| 31221/31221 [00:00<00:00, 3695822.00it/s]\n",
            "100%|██████████| 31221/31221 [00:00<00:00, 3408479.27it/s]\n",
            "100%|██████████| 31221/31221 [00:00<00:00, 3416304.43it/s]\n",
            "100%|██████████| 31221/31221 [00:00<00:00, 3473300.23it/s]\n",
            "100%|██████████| 31221/31221 [00:00<00:00, 3562112.10it/s]\n",
            "100%|██████████| 31221/31221 [00:00<00:00, 3212875.15it/s]\n",
            "100%|██████████| 31221/31221 [00:00<00:00, 3352458.08it/s]\n"
          ],
          "name": "stderr"
        },
        {
          "output_type": "stream",
          "text": [
            "CPU times: user 1min 6s, sys: 16.7 s, total: 1min 22s\n",
            "Wall time: 56 s\n"
          ],
          "name": "stdout"
        }
      ]
    },
    {
      "cell_type": "code",
      "metadata": {
        "id": "nKb0Nwx2m42Y"
      },
      "source": [
        "train_vecs_dbow_tg = get_vectors(model_tg_dbow, x_train, 100)\r\n",
        "validation_vecs_dbow_tg = get_vectors(model_tg_dbow, x_validation, 100)"
      ],
      "execution_count": 91,
      "outputs": []
    },
    {
      "cell_type": "code",
      "metadata": {
        "colab": {
          "base_uri": "https://localhost:8080/"
        },
        "id": "bjW4LHXgm7F5",
        "outputId": "580621e2-51c8-4a5f-8def-bb785e61bb95"
      },
      "source": [
        "%%time\r\n",
        "clf = LogisticRegression(solver='lbfgs', max_iter=1000, multi_class='multinomial')\r\n",
        "clf.fit(train_vecs_dbow_tg, y_train)"
      ],
      "execution_count": 92,
      "outputs": [
        {
          "output_type": "stream",
          "text": [
            "CPU times: user 1min 59s, sys: 2min 44s, total: 4min 43s\n",
            "Wall time: 1min 11s\n"
          ],
          "name": "stdout"
        }
      ]
    },
    {
      "cell_type": "code",
      "metadata": {
        "colab": {
          "base_uri": "https://localhost:8080/"
        },
        "id": "w8Zkuuk7nBC2",
        "outputId": "218062f2-92de-42d4-cf7d-7a5c9351a993"
      },
      "source": [
        "clf.score(validation_vecs_dbow_tg, y_validation)"
      ],
      "execution_count": 93,
      "outputs": [
        {
          "output_type": "execute_result",
          "data": {
            "text/plain": [
              "0.5737179487179487"
            ]
          },
          "metadata": {
            "tags": []
          },
          "execution_count": 93
        }
      ]
    },
    {
      "cell_type": "code",
      "metadata": {
        "id": "Cs2BInfQnC7I"
      },
      "source": [
        "model_tg_dbow.save('drive/MyDrive/grams/d2v_model_tg_dbow.doc2vec')\r\n",
        "model_tg_dbow = Doc2Vec.load('drive/MyDrive/grams/d2v_model_tg_dbow.doc2vec')\r\n",
        "model_tg_dbow.delete_temporary_training_data(keep_doctags_vectors=True, keep_inference=True)"
      ],
      "execution_count": 94,
      "outputs": []
    },
    {
      "cell_type": "markdown",
      "metadata": {
        "id": "CYChYp5fnPnF"
      },
      "source": [
        "## DMC Trig"
      ]
    },
    {
      "cell_type": "code",
      "metadata": {
        "colab": {
          "base_uri": "https://localhost:8080/"
        },
        "id": "4tXv7zvrnJi4",
        "outputId": "7bb14fa4-80c2-4201-feab-fd8032ac6be9"
      },
      "source": [
        "cores = multiprocessing.cpu_count()\r\n",
        "model_tg_dmc = Doc2Vec(dm=1, dm_concat=1, size=100, window=2, negative=5, min_count=2, workers=cores, alpha=0.065, min_alpha=0.065)\r\n",
        "model_tg_dmc.build_vocab([x for x in tqdm(all_x_w2v_tg)])"
      ],
      "execution_count": 95,
      "outputs": [
        {
          "output_type": "stream",
          "text": [
            "/usr/local/lib/python3.6/dist-packages/gensim/models/doc2vec.py:570: UserWarning: The parameter `size` is deprecated, will be removed in 4.0.0, use `vector_size` instead.\n",
            "  warnings.warn(\"The parameter `size` is deprecated, will be removed in 4.0.0, use `vector_size` instead.\")\n",
            "100%|██████████| 31221/31221 [00:00<00:00, 2791047.47it/s]\n"
          ],
          "name": "stderr"
        }
      ]
    },
    {
      "cell_type": "code",
      "metadata": {
        "colab": {
          "base_uri": "https://localhost:8080/"
        },
        "id": "vTJc_kNqnSMH",
        "outputId": "a15540cf-dca1-4fc6-b217-a5e974db9dd1"
      },
      "source": [
        "%%time\r\n",
        "for epoch in range(30):\r\n",
        "    model_tg_dmc.train(utils.shuffle([x for x in tqdm(all_x_w2v_tg)]), total_examples=len(all_x_w2v_tg), epochs=1)\r\n",
        "    model_tg_dmc.alpha -= 0.002\r\n",
        "    model_tg_dmc.min_alpha = model_tg_dmc.alpha"
      ],
      "execution_count": 96,
      "outputs": [
        {
          "output_type": "stream",
          "text": [
            "100%|██████████| 31221/31221 [00:00<00:00, 3009661.35it/s]\n",
            "100%|██████████| 31221/31221 [00:00<00:00, 3050465.09it/s]\n",
            "100%|██████████| 31221/31221 [00:00<00:00, 3443434.36it/s]\n",
            "100%|██████████| 31221/31221 [00:00<00:00, 3539773.08it/s]\n",
            "100%|██████████| 31221/31221 [00:00<00:00, 3324879.15it/s]\n",
            "100%|██████████| 31221/31221 [00:00<00:00, 2890034.76it/s]\n",
            "100%|██████████| 31221/31221 [00:00<00:00, 3454425.59it/s]\n",
            "100%|██████████| 31221/31221 [00:00<00:00, 2763832.11it/s]\n",
            "100%|██████████| 31221/31221 [00:00<00:00, 3435214.20it/s]\n",
            "100%|██████████| 31221/31221 [00:00<00:00, 3586600.34it/s]\n",
            "100%|██████████| 31221/31221 [00:00<00:00, 3484390.54it/s]\n",
            "100%|██████████| 31221/31221 [00:00<00:00, 3493686.71it/s]\n",
            "100%|██████████| 31221/31221 [00:00<00:00, 3797093.55it/s]\n",
            "100%|██████████| 31221/31221 [00:00<00:00, 3626328.96it/s]\n",
            "100%|██████████| 31221/31221 [00:00<00:00, 3727169.27it/s]\n",
            "100%|██████████| 31221/31221 [00:00<00:00, 3675902.91it/s]\n",
            "100%|██████████| 31221/31221 [00:00<00:00, 3684487.36it/s]\n",
            "100%|██████████| 31221/31221 [00:00<00:00, 3705233.58it/s]\n",
            "100%|██████████| 31221/31221 [00:00<00:00, 3501065.83it/s]\n",
            "100%|██████████| 31221/31221 [00:00<00:00, 3630551.59it/s]\n",
            "100%|██████████| 31221/31221 [00:00<00:00, 3387231.38it/s]\n",
            "100%|██████████| 31221/31221 [00:00<00:00, 2766751.85it/s]\n",
            "100%|██████████| 31221/31221 [00:00<00:00, 3589648.17it/s]\n",
            "100%|██████████| 31221/31221 [00:00<00:00, 3366073.70it/s]\n",
            "100%|██████████| 31221/31221 [00:00<00:00, 3454152.23it/s]\n",
            "100%|██████████| 31221/31221 [00:00<00:00, 3615415.94it/s]\n",
            "100%|██████████| 31221/31221 [00:00<00:00, 3588369.42it/s]\n",
            "100%|██████████| 31221/31221 [00:00<00:00, 3529944.88it/s]\n",
            "100%|██████████| 31221/31221 [00:00<00:00, 3653545.15it/s]\n",
            "100%|██████████| 31221/31221 [00:00<00:00, 3649065.52it/s]\n"
          ],
          "name": "stderr"
        },
        {
          "output_type": "stream",
          "text": [
            "CPU times: user 1min 24s, sys: 18.3 s, total: 1min 42s\n",
            "Wall time: 1min 1s\n"
          ],
          "name": "stdout"
        }
      ]
    },
    {
      "cell_type": "code",
      "metadata": {
        "id": "s_Txg7WZnURo"
      },
      "source": [
        "train_vecs_dmc_tg = get_vectors(model_tg_dmc, x_train, 100)\r\n",
        "validation_vecs_dmc_tg = get_vectors(model_tg_dmc, x_validation, 100)"
      ],
      "execution_count": 97,
      "outputs": []
    },
    {
      "cell_type": "code",
      "metadata": {
        "colab": {
          "base_uri": "https://localhost:8080/"
        },
        "id": "6BKzpRnHnWfW",
        "outputId": "9af25783-19da-4987-be5c-3475e2631613"
      },
      "source": [
        "%%time\r\n",
        "clf = LogisticRegression(solver='lbfgs', max_iter=1000, multi_class='multinomial')\r\n",
        "clf.fit(train_vecs_dmc_tg, y_train)"
      ],
      "execution_count": 98,
      "outputs": [
        {
          "output_type": "stream",
          "text": [
            "CPU times: user 51.2 s, sys: 1min 11s, total: 2min 2s\n",
            "Wall time: 30.9 s\n"
          ],
          "name": "stdout"
        }
      ]
    },
    {
      "cell_type": "code",
      "metadata": {
        "colab": {
          "base_uri": "https://localhost:8080/"
        },
        "id": "fYlZBAbznYRm",
        "outputId": "2c980323-1b02-495f-8f20-aaf18f62e160"
      },
      "source": [
        "clf.score(validation_vecs_dmc_tg, y_validation)"
      ],
      "execution_count": 99,
      "outputs": [
        {
          "output_type": "execute_result",
          "data": {
            "text/plain": [
              "0.28846153846153844"
            ]
          },
          "metadata": {
            "tags": []
          },
          "execution_count": 99
        }
      ]
    },
    {
      "cell_type": "code",
      "metadata": {
        "id": "61AgDv8cnhRX"
      },
      "source": [
        "model_tg_dmc.save('drive/MyDrive/grams/d2v_model_tg_dmc.doc2vec')\r\n",
        "model_tg_dmc = Doc2Vec.load('drive/MyDrive/grams/d2v_model_tg_dmc.doc2vec')\r\n",
        "model_tg_dmc.delete_temporary_training_data(keep_doctags_vectors=True, keep_inference=True)"
      ],
      "execution_count": 100,
      "outputs": []
    },
    {
      "cell_type": "markdown",
      "metadata": {
        "id": "nMSC-vASnsUh"
      },
      "source": [
        "## DMM Trigram"
      ]
    },
    {
      "cell_type": "code",
      "metadata": {
        "colab": {
          "base_uri": "https://localhost:8080/"
        },
        "id": "ulU85ycRnnpB",
        "outputId": "967d03ef-0144-4730-c37b-d0d6cc0e0d3a"
      },
      "source": [
        "cores = multiprocessing.cpu_count()\r\n",
        "model_tg_dmm = Doc2Vec(dm=1, dm_mean=1, size=100, window=4, negative=5, min_count=2, workers=cores, alpha=0.065, min_alpha=0.065)\r\n",
        "model_tg_dmm.build_vocab([x for x in tqdm(all_x_w2v_tg)])"
      ],
      "execution_count": 101,
      "outputs": [
        {
          "output_type": "stream",
          "text": [
            "/usr/local/lib/python3.6/dist-packages/gensim/models/doc2vec.py:570: UserWarning: The parameter `size` is deprecated, will be removed in 4.0.0, use `vector_size` instead.\n",
            "  warnings.warn(\"The parameter `size` is deprecated, will be removed in 4.0.0, use `vector_size` instead.\")\n",
            "100%|██████████| 31221/31221 [00:00<00:00, 2708383.97it/s]\n"
          ],
          "name": "stderr"
        }
      ]
    },
    {
      "cell_type": "code",
      "metadata": {
        "colab": {
          "base_uri": "https://localhost:8080/"
        },
        "id": "QxlSOPyPnui0",
        "outputId": "357f7cfc-7297-4ae9-acb5-8fdb4114e149"
      },
      "source": [
        "%%time\r\n",
        "for epoch in range(30):\r\n",
        "    model_tg_dmm.train(utils.shuffle([x for x in tqdm(all_x_w2v_tg)]), total_examples=len(all_x_w2v_tg), epochs=1)\r\n",
        "    model_tg_dmm.alpha -= 0.002\r\n",
        "    model_tg_dmc.min_alpha = model_tg_dmc.alpha"
      ],
      "execution_count": 102,
      "outputs": [
        {
          "output_type": "stream",
          "text": [
            "100%|██████████| 31221/31221 [00:00<00:00, 2404965.38it/s]\n",
            "100%|██████████| 31221/31221 [00:00<00:00, 3379800.37it/s]\n",
            "100%|██████████| 31221/31221 [00:00<00:00, 3193132.53it/s]\n",
            "100%|██████████| 31221/31221 [00:00<00:00, 3230152.08it/s]\n",
            "100%|██████████| 31221/31221 [00:00<00:00, 3630853.58it/s]\n",
            "100%|██████████| 31221/31221 [00:00<00:00, 3575534.22it/s]\n",
            "100%|██████████| 31221/31221 [00:00<00:00, 3015344.14it/s]\n",
            "100%|██████████| 31221/31221 [00:00<00:00, 3452695.05it/s]\n",
            "100%|██████████| 31221/31221 [00:00<00:00, 3394519.15it/s]\n",
            "100%|██████████| 31221/31221 [00:00<00:00, 3725260.73it/s]\n",
            "100%|██████████| 31221/31221 [00:00<00:00, 3697282.88it/s]\n",
            "100%|██████████| 31221/31221 [00:00<00:00, 3580030.76it/s]\n",
            "100%|██████████| 31221/31221 [00:00<00:00, 3532230.06it/s]\n",
            "100%|██████████| 31221/31221 [00:00<00:00, 3499101.25it/s]\n",
            "100%|██████████| 31221/31221 [00:00<00:00, 3549463.72it/s]\n",
            "100%|██████████| 31221/31221 [00:00<00:00, 3412654.15it/s]\n",
            "100%|██████████| 31221/31221 [00:00<00:00, 3791706.20it/s]\n",
            "100%|██████████| 31221/31221 [00:00<00:00, 3466496.33it/s]\n",
            "100%|██████████| 31221/31221 [00:00<00:00, 3337845.77it/s]\n",
            "100%|██████████| 31221/31221 [00:00<00:00, 3163052.30it/s]\n",
            "100%|██████████| 31221/31221 [00:00<00:00, 3317046.59it/s]\n",
            "100%|██████████| 31221/31221 [00:00<00:00, 3502845.21it/s]\n",
            "100%|██████████| 31221/31221 [00:00<00:00, 3303990.64it/s]\n",
            "100%|██████████| 31221/31221 [00:00<00:00, 3689782.06it/s]\n",
            "100%|██████████| 31221/31221 [00:00<00:00, 3536522.77it/s]\n",
            "100%|██████████| 31221/31221 [00:00<00:00, 3389949.65it/s]\n",
            "100%|██████████| 31221/31221 [00:00<00:00, 3481611.33it/s]\n",
            "100%|██████████| 31221/31221 [00:00<00:00, 3310422.05it/s]\n",
            "100%|██████████| 31221/31221 [00:00<00:00, 3591223.27it/s]\n",
            "100%|██████████| 31221/31221 [00:00<00:00, 3898840.78it/s]\n"
          ],
          "name": "stderr"
        },
        {
          "output_type": "stream",
          "text": [
            "CPU times: user 2min 7s, sys: 51.9 s, total: 2min 59s\n",
            "Wall time: 1min 56s\n"
          ],
          "name": "stdout"
        }
      ]
    },
    {
      "cell_type": "code",
      "metadata": {
        "id": "G-l6O3Fqnwm4"
      },
      "source": [
        "train_vecs_dmm_tg = get_vectors(model_tg_dmm, x_train, 100)\r\n",
        "validation_vecs_dmm_tg = get_vectors(model_tg_dmm, x_validation, 100)"
      ],
      "execution_count": 103,
      "outputs": []
    },
    {
      "cell_type": "code",
      "metadata": {
        "colab": {
          "base_uri": "https://localhost:8080/"
        },
        "id": "yOJRIlNTnzI1",
        "outputId": "7ef4ba85-07b7-44b7-98ad-4021f4a2182e"
      },
      "source": [
        "%%time\r\n",
        "clf = LogisticRegression(solver='lbfgs', max_iter=1000, multi_class='multinomial')\r\n",
        "clf.fit(train_vecs_dmm_tg, y_train)"
      ],
      "execution_count": 104,
      "outputs": [
        {
          "output_type": "stream",
          "text": [
            "CPU times: user 3min 54s, sys: 5min 32s, total: 9min 26s\n",
            "Wall time: 2min 22s\n"
          ],
          "name": "stdout"
        }
      ]
    },
    {
      "cell_type": "code",
      "metadata": {
        "colab": {
          "base_uri": "https://localhost:8080/"
        },
        "id": "Jj4_Me8Jn49G",
        "outputId": "07aac42a-8363-44e8-bee5-70b090976ae1"
      },
      "source": [
        "clf.score(validation_vecs_dmm_tg, y_validation)"
      ],
      "execution_count": 105,
      "outputs": [
        {
          "output_type": "execute_result",
          "data": {
            "text/plain": [
              "0.38782051282051283"
            ]
          },
          "metadata": {
            "tags": []
          },
          "execution_count": 105
        }
      ]
    },
    {
      "cell_type": "code",
      "metadata": {
        "id": "6qKFYepdn6o3"
      },
      "source": [
        "model_tg_dmm.save('drive/MyDrive/grams/d2v_model_tg_dmm.doc2vec')\r\n",
        "model_tg_dmm = Doc2Vec.load('drive/MyDrive/grams/d2v_model_tg_dmm.doc2vec')\r\n",
        "model_tg_dmm.delete_temporary_training_data(keep_doctags_vectors=True, keep_inference=True)"
      ],
      "execution_count": 106,
      "outputs": []
    },
    {
      "cell_type": "code",
      "metadata": {
        "id": "b4C0j8xGn_kW"
      },
      "source": [
        "train_vecs_dbow_dmc_tg = get_concat_vectors(model_tg_dbow,model_tg_dmc, x_train, 200)\r\n",
        "validation_vecs_dbow_dmc_tg = get_concat_vectors(model_tg_dbow,model_tg_dmc, x_validation, 200)"
      ],
      "execution_count": 107,
      "outputs": []
    },
    {
      "cell_type": "code",
      "metadata": {
        "colab": {
          "base_uri": "https://localhost:8080/"
        },
        "id": "D-v3m19KoBOG",
        "outputId": "0e5b97a9-1b11-4725-f5ba-57d3956fe872"
      },
      "source": [
        "%%time\r\n",
        "clf = LogisticRegression(solver='lbfgs', max_iter=1000, multi_class='multinomial')\r\n",
        "clf.fit(train_vecs_dbow_dmc_tg, y_train)"
      ],
      "execution_count": 108,
      "outputs": [
        {
          "output_type": "stream",
          "text": [
            "CPU times: user 2min 23s, sys: 3min 53s, total: 6min 16s\n",
            "Wall time: 1min 34s\n"
          ],
          "name": "stdout"
        }
      ]
    },
    {
      "cell_type": "code",
      "metadata": {
        "colab": {
          "base_uri": "https://localhost:8080/"
        },
        "id": "JCSNT1PmoDA4",
        "outputId": "08ed14a0-58c2-4fc8-8db7-ed0b381cb36b"
      },
      "source": [
        "clf.score(validation_vecs_dbow_dmc_tg, y_validation)"
      ],
      "execution_count": 109,
      "outputs": [
        {
          "output_type": "execute_result",
          "data": {
            "text/plain": [
              "0.5961538461538461"
            ]
          },
          "metadata": {
            "tags": []
          },
          "execution_count": 109
        }
      ]
    },
    {
      "cell_type": "code",
      "metadata": {
        "id": "bZmUMTGroHSU"
      },
      "source": [
        "train_vecs_dbow_dmm_tg = get_concat_vectors(model_tg_dbow,model_tg_dmm, x_train, 200)\r\n",
        "validation_vecs_dbow_dmm_tg = get_concat_vectors(model_tg_dbow,model_tg_dmm, x_validation, 200)"
      ],
      "execution_count": 110,
      "outputs": []
    },
    {
      "cell_type": "code",
      "metadata": {
        "colab": {
          "base_uri": "https://localhost:8080/"
        },
        "id": "-UA4fFDOoKpn",
        "outputId": "3e6e05f3-f517-4775-ba2f-c197cd011bb4"
      },
      "source": [
        "%%time\r\n",
        "clf = LogisticRegression(solver='lbfgs', max_iter=1000, multi_class='multinomial')\r\n",
        "clf.fit(train_vecs_dbow_dmm_tg, y_train)"
      ],
      "execution_count": 111,
      "outputs": [
        {
          "output_type": "stream",
          "text": [
            "CPU times: user 5min 13s, sys: 8min 26s, total: 13min 40s\n",
            "Wall time: 3min 26s\n"
          ],
          "name": "stdout"
        },
        {
          "output_type": "stream",
          "text": [
            "/usr/local/lib/python3.6/dist-packages/sklearn/linear_model/_logistic.py:940: ConvergenceWarning: lbfgs failed to converge (status=1):\n",
            "STOP: TOTAL NO. of ITERATIONS REACHED LIMIT.\n",
            "\n",
            "Increase the number of iterations (max_iter) or scale the data as shown in:\n",
            "    https://scikit-learn.org/stable/modules/preprocessing.html\n",
            "Please also refer to the documentation for alternative solver options:\n",
            "    https://scikit-learn.org/stable/modules/linear_model.html#logistic-regression\n",
            "  extra_warning_msg=_LOGISTIC_SOLVER_CONVERGENCE_MSG)\n"
          ],
          "name": "stderr"
        }
      ]
    },
    {
      "cell_type": "code",
      "metadata": {
        "colab": {
          "base_uri": "https://localhost:8080/"
        },
        "id": "k1KNIeDfoN7m",
        "outputId": "bddd707b-ef3f-4237-a210-a970c59b077f"
      },
      "source": [
        "clf.score(validation_vecs_dbow_dmm_tg, y_validation)"
      ],
      "execution_count": 112,
      "outputs": [
        {
          "output_type": "execute_result",
          "data": {
            "text/plain": [
              "0.6121794871794872"
            ]
          },
          "metadata": {
            "tags": []
          },
          "execution_count": 112
        }
      ]
    },
    {
      "cell_type": "markdown",
      "metadata": {
        "id": "YaWqJH-VoYve"
      },
      "source": [
        " I would like to try one more thing, which is creating joint vectors across different n-grams. By looking at the above table, for DBOW model unigram performed the best, so I will use vectors from unigram DBOW model and join this together with trigram DMM vectors."
      ]
    },
    {
      "cell_type": "code",
      "metadata": {
        "id": "XJX2-ID-rbSh"
      },
      "source": [
        "model_ug_dbow = Doc2Vec.load('drive/MyDrive/grams/d2v_model_ug_dbow.doc2vec')\r\n",
        "model_tg_dmm = Doc2Vec.load('drive/MyDrive/grams/d2v_model_tg_dmm.doc2vec')\r\n",
        "model_ug_dbow.delete_temporary_training_data(keep_doctags_vectors=True, keep_inference=True)\r\n",
        "model_tg_dmm.delete_temporary_training_data(keep_doctags_vectors=True, keep_inference=True)"
      ],
      "execution_count": 113,
      "outputs": []
    },
    {
      "cell_type": "code",
      "metadata": {
        "id": "okTG6yaergiH"
      },
      "source": [
        "train_vecs_ugdbow_tgdmm = get_concat_vectors(model_ug_dbow,model_tg_dmm, x_train, 200)\r\n",
        "validation_vecs_ugdbow_tgdmm = get_concat_vectors(model_ug_dbow,model_tg_dmm, x_validation, 200)"
      ],
      "execution_count": 114,
      "outputs": []
    },
    {
      "cell_type": "code",
      "metadata": {
        "colab": {
          "base_uri": "https://localhost:8080/"
        },
        "id": "g-pDVgiHrwpG",
        "outputId": "52df0b6d-77e9-4d91-f5b1-dbe0dcc62451"
      },
      "source": [
        "%%time\r\n",
        "clf = LogisticRegression(solver='lbfgs', max_iter=1000, multi_class='multinomial')\r\n",
        "clf.fit(train_vecs_ugdbow_tgdmm, y_train)"
      ],
      "execution_count": 115,
      "outputs": [
        {
          "output_type": "stream",
          "text": [
            "CPU times: user 5min 11s, sys: 8min 36s, total: 13min 47s\n",
            "Wall time: 3min 28s\n"
          ],
          "name": "stdout"
        },
        {
          "output_type": "stream",
          "text": [
            "/usr/local/lib/python3.6/dist-packages/sklearn/linear_model/_logistic.py:940: ConvergenceWarning: lbfgs failed to converge (status=1):\n",
            "STOP: TOTAL NO. of ITERATIONS REACHED LIMIT.\n",
            "\n",
            "Increase the number of iterations (max_iter) or scale the data as shown in:\n",
            "    https://scikit-learn.org/stable/modules/preprocessing.html\n",
            "Please also refer to the documentation for alternative solver options:\n",
            "    https://scikit-learn.org/stable/modules/linear_model.html#logistic-regression\n",
            "  extra_warning_msg=_LOGISTIC_SOLVER_CONVERGENCE_MSG)\n"
          ],
          "name": "stderr"
        }
      ]
    },
    {
      "cell_type": "code",
      "metadata": {
        "colab": {
          "base_uri": "https://localhost:8080/"
        },
        "id": "fKoBmkYlr2N2",
        "outputId": "1b72fcd7-c596-41dc-8cfa-99dc982f5493"
      },
      "source": [
        "clf.score(validation_vecs_ugdbow_tgdmm, y_validation)"
      ],
      "execution_count": 116,
      "outputs": [
        {
          "output_type": "execute_result",
          "data": {
            "text/plain": [
              "0.5961538461538461"
            ]
          },
          "metadata": {
            "tags": []
          },
          "execution_count": 116
        }
      ]
    },
    {
      "cell_type": "code",
      "metadata": {
        "id": "MkIUaK46r3yG"
      },
      "source": [
        "from sklearn.preprocessing import MinMaxScaler\r\n",
        "\r\n",
        "mmscaler = MinMaxScaler()\r\n",
        "d2v_ugdbow_tgdmm_mm = mmscaler.fit_transform(train_vecs_ugdbow_tgdmm)\r\n",
        "d2v_ugdbow_tgdmm_mm_val = mmscaler.fit_transform(validation_vecs_ugdbow_tgdmm)"
      ],
      "execution_count": 117,
      "outputs": []
    },
    {
      "cell_type": "code",
      "metadata": {
        "id": "Cn_O3wJOr6J2"
      },
      "source": [
        "from sklearn.naive_bayes import MultinomialNB, BernoulliNB\r\n",
        "from sklearn.linear_model import RidgeClassifier, Perceptron, PassiveAggressiveClassifier\r\n",
        "from sklearn.neighbors import NearestCentroid\r\n",
        "from sklearn.pipeline import Pipeline\r\n",
        "from sklearn.metrics import accuracy_score\r\n",
        "import time\r\n",
        "names1 = [\"Logistic Regression\", \"Multinomial NB\", \r\n",
        "         \"Bernoulli NB\", \"Ridge Classifier\", \"Perceptron\",\"Passive-Aggresive\", \"Nearest Centroid\"]\r\n",
        "classifiers1 = [\r\n",
        "    LogisticRegression(max_iter=1000),\r\n",
        "    MultinomialNB(),\r\n",
        "    BernoulliNB(),\r\n",
        "    RidgeClassifier(),\r\n",
        "    Perceptron(),\r\n",
        "    PassiveAggressiveClassifier(),\r\n",
        "    NearestCentroid()\r\n",
        "    ]\r\n",
        "zipped_clf1 = zip(names1,classifiers1)"
      ],
      "execution_count": 118,
      "outputs": []
    },
    {
      "cell_type": "code",
      "metadata": {
        "id": "ce3hPYH5tmk5"
      },
      "source": [
        "def accuracy_summary(pipeline, x_train, y_train, x_test, y_test):\r\n",
        "    if len(x_test[y_test == 0]) / (len(x_test)*1.) > 0.5:\r\n",
        "        null_accuracy = len(x_test[y_test == 0]) / (len(x_test)*1.)\r\n",
        "    else:\r\n",
        "        null_accuracy = 1. - (len(x_test[y_test == 0]) / (len(x_test)*1.))\r\n",
        "    t0 = time.time()\r\n",
        "    sentiment_fit = pipeline.fit(x_train, y_train)\r\n",
        "    y_pred = sentiment_fit.predict(x_test)\r\n",
        "    train_test_time = time.time() - t0\r\n",
        "    accuracy = accuracy_score(y_test, y_pred)\r\n",
        "    print (\"null accuracy: {0:.2f}%\".format(null_accuracy*100))\r\n",
        "    print (\"accuracy score: {0:.2f}%\".format(accuracy*100))\r\n",
        "    if accuracy > null_accuracy:\r\n",
        "        print (\"model is {0:.2f}% more accurate than null accuracy\".format((accuracy-null_accuracy)*100))\r\n",
        "    elif accuracy == null_accuracy:\r\n",
        "        print (\"model has the same accuracy with the null accuracy\")\r\n",
        "    else:\r\n",
        "        print (\"model is {0:.2f}% less accurate than null accuracy\".format((null_accuracy-accuracy)*100))\r\n",
        "    print (\"train and test time: {0:.2f}s\".format(train_test_time))\r\n",
        "    print (\"-\"*80)\r\n",
        "    return accuracy, train_test_time"
      ],
      "execution_count": 119,
      "outputs": []
    },
    {
      "cell_type": "code",
      "metadata": {
        "id": "Z6NAP6u7sAPR"
      },
      "source": [
        "def classifier_comparator_d2v(train_vectors,validation_vectors, classifier=zipped_clf1):\r\n",
        "    result = []\r\n",
        "    for n,c in classifier:\r\n",
        "        checker_pipeline = Pipeline([\r\n",
        "            ('classifier', c)\r\n",
        "        ])\r\n",
        "        print (\"Validation result for {}\".format(n))\r\n",
        "        print (c)\r\n",
        "        clf_accuracy,tt_time = accuracy_summary(checker_pipeline, train_vectors, y_train, validation_vectors, y_validation)\r\n",
        "        result.append((n,clf_accuracy,tt_time))\r\n",
        "    return result"
      ],
      "execution_count": 120,
      "outputs": []
    },
    {
      "cell_type": "code",
      "metadata": {
        "colab": {
          "base_uri": "https://localhost:8080/"
        },
        "id": "uiSpgondsA4q",
        "outputId": "6ee33736-0c92-40ee-efbe-d9402676f4bd"
      },
      "source": [
        "classifier_comparator_d2v(d2v_ugdbow_tgdmm_mm,d2v_ugdbow_tgdmm_mm_val)"
      ],
      "execution_count": 121,
      "outputs": [
        {
          "output_type": "stream",
          "text": [
            "Validation result for Logistic Regression\n",
            "LogisticRegression(C=1.0, class_weight=None, dual=False, fit_intercept=True,\n",
            "                   intercept_scaling=1, l1_ratio=None, max_iter=1000,\n",
            "                   multi_class='auto', n_jobs=None, penalty='l2',\n",
            "                   random_state=None, solver='lbfgs', tol=0.0001, verbose=0,\n",
            "                   warm_start=False)\n"
          ],
          "name": "stdout"
        },
        {
          "output_type": "stream",
          "text": [
            "/usr/local/lib/python3.6/dist-packages/sklearn/linear_model/_logistic.py:940: ConvergenceWarning: lbfgs failed to converge (status=1):\n",
            "STOP: TOTAL NO. of ITERATIONS REACHED LIMIT.\n",
            "\n",
            "Increase the number of iterations (max_iter) or scale the data as shown in:\n",
            "    https://scikit-learn.org/stable/modules/preprocessing.html\n",
            "Please also refer to the documentation for alternative solver options:\n",
            "    https://scikit-learn.org/stable/modules/linear_model.html#logistic-regression\n",
            "  extra_warning_msg=_LOGISTIC_SOLVER_CONVERGENCE_MSG)\n"
          ],
          "name": "stderr"
        },
        {
          "output_type": "stream",
          "text": [
            "null accuracy: 88.14%\n",
            "accuracy score: 55.45%\n",
            "model is 32.69% less accurate than null accuracy\n",
            "train and test time: 215.78s\n",
            "--------------------------------------------------------------------------------\n",
            "Validation result for Multinomial NB\n",
            "MultinomialNB(alpha=1.0, class_prior=None, fit_prior=True)\n",
            "null accuracy: 88.14%\n",
            "accuracy score: 21.47%\n",
            "model is 66.67% less accurate than null accuracy\n",
            "train and test time: 0.07s\n",
            "--------------------------------------------------------------------------------\n",
            "Validation result for Bernoulli NB\n",
            "BernoulliNB(alpha=1.0, binarize=0.0, class_prior=None, fit_prior=True)\n",
            "null accuracy: 88.14%\n",
            "accuracy score: 9.62%\n",
            "model is 78.53% less accurate than null accuracy\n",
            "train and test time: 0.10s\n",
            "--------------------------------------------------------------------------------\n",
            "Validation result for Ridge Classifier\n",
            "RidgeClassifier(alpha=1.0, class_weight=None, copy_X=True, fit_intercept=True,\n",
            "                max_iter=None, normalize=False, random_state=None,\n",
            "                solver='auto', tol=0.001)\n",
            "null accuracy: 88.14%\n",
            "accuracy score: 48.08%\n",
            "model is 40.06% less accurate than null accuracy\n",
            "train and test time: 0.24s\n",
            "--------------------------------------------------------------------------------\n",
            "Validation result for Perceptron\n",
            "Perceptron(alpha=0.0001, class_weight=None, early_stopping=False, eta0=1.0,\n",
            "           fit_intercept=True, max_iter=1000, n_iter_no_change=5, n_jobs=None,\n",
            "           penalty=None, random_state=0, shuffle=True, tol=0.001,\n",
            "           validation_fraction=0.1, verbose=0, warm_start=False)\n",
            "null accuracy: 88.14%\n",
            "accuracy score: 42.63%\n",
            "model is 45.51% less accurate than null accuracy\n",
            "train and test time: 14.88s\n",
            "--------------------------------------------------------------------------------\n",
            "Validation result for Passive-Aggresive\n",
            "PassiveAggressiveClassifier(C=1.0, average=False, class_weight=None,\n",
            "                            early_stopping=False, fit_intercept=True,\n",
            "                            loss='hinge', max_iter=1000, n_iter_no_change=5,\n",
            "                            n_jobs=None, random_state=None, shuffle=True,\n",
            "                            tol=0.001, validation_fraction=0.1, verbose=0,\n",
            "                            warm_start=False)\n",
            "null accuracy: 88.14%\n",
            "accuracy score: 48.08%\n",
            "model is 40.06% less accurate than null accuracy\n",
            "train and test time: 15.43s\n",
            "--------------------------------------------------------------------------------\n",
            "Validation result for Nearest Centroid\n",
            "NearestCentroid(metric='euclidean', shrink_threshold=None)\n",
            "null accuracy: 88.14%\n",
            "accuracy score: 37.18%\n",
            "model is 50.96% less accurate than null accuracy\n",
            "train and test time: 0.05s\n",
            "--------------------------------------------------------------------------------\n"
          ],
          "name": "stdout"
        },
        {
          "output_type": "execute_result",
          "data": {
            "text/plain": [
              "[('Logistic Regression', 0.5544871794871795, 215.7783350944519),\n",
              " ('Multinomial NB', 0.21474358974358973, 0.07187557220458984),\n",
              " ('Bernoulli NB', 0.09615384615384616, 0.10235095024108887),\n",
              " ('Ridge Classifier', 0.4807692307692308, 0.2367722988128662),\n",
              " ('Perceptron', 0.42628205128205127, 14.884305953979492),\n",
              " ('Passive-Aggresive', 0.4807692307692308, 15.428239583969116),\n",
              " ('Nearest Centroid', 0.3717948717948718, 0.05173325538635254)]"
            ]
          },
          "metadata": {
            "tags": []
          },
          "execution_count": 121
        }
      ]
    },
    {
      "cell_type": "code",
      "metadata": {
        "id": "kvq1BJbDtEUz"
      },
      "source": [
        "from sklearn.feature_extraction.text import CountVectorizer\r\n",
        "cvec = CountVectorizer()\r\n",
        "lr = LogisticRegression(max_iter=1000)\r\n",
        "n_features = np.arange(10000,100001,10000)\r\n",
        "\r\n",
        "def nfeature_accuracy_checker(vectorizer=cvec, n_features=n_features, stop_words=None, ngram_range=(1, 1), classifier=lr):\r\n",
        "    result = []\r\n",
        "    print (classifier)\r\n",
        "    print (\"\\n\")\r\n",
        "    for n in n_features:\r\n",
        "        vectorizer.set_params(stop_words=stop_words, max_features=n, ngram_range=ngram_range)\r\n",
        "        checker_pipeline = Pipeline([\r\n",
        "            ('vectorizer', vectorizer),\r\n",
        "            ('classifier', classifier)\r\n",
        "        ])\r\n",
        "        print (\"Validation result for {} features\".format(n))\r\n",
        "        nfeature_accuracy,tt_time = accuracy_summary(checker_pipeline, x_train, y_train, x_validation, y_validation)\r\n",
        "        result.append((n,nfeature_accuracy,tt_time))\r\n",
        "    return result"
      ],
      "execution_count": 122,
      "outputs": []
    },
    {
      "cell_type": "markdown",
      "metadata": {
        "id": "NkxvcKDmw_u4"
      },
      "source": [
        "### TFIDF Vectorizer"
      ]
    },
    {
      "cell_type": "code",
      "metadata": {
        "id": "e_nptbUKwlHk"
      },
      "source": [
        "from sklearn.feature_extraction.text import TfidfVectorizer\r\n",
        "tvec = TfidfVectorizer()"
      ],
      "execution_count": 123,
      "outputs": []
    },
    {
      "cell_type": "code",
      "metadata": {
        "colab": {
          "base_uri": "https://localhost:8080/"
        },
        "id": "mnHNpHg1xCPD",
        "outputId": "90baf18f-cc91-4856-835b-822146282084"
      },
      "source": [
        "%%time\r\n",
        "print (\"RESULT FOR TRIGRAM WITH STOP WORDS (Tfidf)\\n\")\r\n",
        "feature_result_tgt = nfeature_accuracy_checker(vectorizer=tvec,ngram_range=(1, 3))"
      ],
      "execution_count": 124,
      "outputs": [
        {
          "output_type": "stream",
          "text": [
            "RESULT FOR TRIGRAM WITH STOP WORDS (Tfidf)\n",
            "\n",
            "LogisticRegression(C=1.0, class_weight=None, dual=False, fit_intercept=True,\n",
            "                   intercept_scaling=1, l1_ratio=None, max_iter=1000,\n",
            "                   multi_class='auto', n_jobs=None, penalty='l2',\n",
            "                   random_state=None, solver='lbfgs', tol=0.0001, verbose=0,\n",
            "                   warm_start=False)\n",
            "\n",
            "\n",
            "Validation result for 10000 features\n",
            "null accuracy: 88.14%\n",
            "accuracy score: 86.54%\n",
            "model is 1.60% less accurate than null accuracy\n",
            "train and test time: 85.85s\n",
            "--------------------------------------------------------------------------------\n",
            "Validation result for 20000 features\n",
            "null accuracy: 88.14%\n",
            "accuracy score: 87.50%\n",
            "model is 0.64% less accurate than null accuracy\n",
            "train and test time: 102.18s\n",
            "--------------------------------------------------------------------------------\n",
            "Validation result for 30000 features\n",
            "null accuracy: 88.14%\n",
            "accuracy score: 87.82%\n",
            "model is 0.32% less accurate than null accuracy\n",
            "train and test time: 126.40s\n",
            "--------------------------------------------------------------------------------\n",
            "Validation result for 40000 features\n",
            "null accuracy: 88.14%\n",
            "accuracy score: 87.50%\n",
            "model is 0.64% less accurate than null accuracy\n",
            "train and test time: 148.32s\n",
            "--------------------------------------------------------------------------------\n",
            "Validation result for 50000 features\n",
            "null accuracy: 88.14%\n",
            "accuracy score: 88.14%\n",
            "model has the same accuracy with the null accuracy\n",
            "train and test time: 179.97s\n",
            "--------------------------------------------------------------------------------\n",
            "Validation result for 60000 features\n",
            "null accuracy: 88.14%\n",
            "accuracy score: 87.18%\n",
            "model is 0.96% less accurate than null accuracy\n",
            "train and test time: 200.40s\n",
            "--------------------------------------------------------------------------------\n",
            "Validation result for 70000 features\n",
            "null accuracy: 88.14%\n",
            "accuracy score: 87.82%\n",
            "model is 0.32% less accurate than null accuracy\n",
            "train and test time: 228.56s\n",
            "--------------------------------------------------------------------------------\n",
            "Validation result for 80000 features\n",
            "null accuracy: 88.14%\n",
            "accuracy score: 89.10%\n",
            "model is 0.96% more accurate than null accuracy\n",
            "train and test time: 245.79s\n",
            "--------------------------------------------------------------------------------\n",
            "Validation result for 90000 features\n",
            "null accuracy: 88.14%\n",
            "accuracy score: 89.42%\n",
            "model is 1.28% more accurate than null accuracy\n",
            "train and test time: 266.59s\n",
            "--------------------------------------------------------------------------------\n",
            "Validation result for 100000 features\n",
            "null accuracy: 88.14%\n",
            "accuracy score: 89.42%\n",
            "model is 1.28% more accurate than null accuracy\n",
            "train and test time: 286.19s\n",
            "--------------------------------------------------------------------------------\n",
            "CPU times: user 41min 49s, sys: 35min 50s, total: 1h 17min 39s\n",
            "Wall time: 31min 10s\n"
          ],
          "name": "stdout"
        }
      ]
    },
    {
      "cell_type": "code",
      "metadata": {
        "id": "DwFodiTsxD9y"
      },
      "source": [
        "nfeatures_plot_tgt = pd.DataFrame(feature_result_tgt,columns=['nfeatures','validation_accuracy','train_test_time'])"
      ],
      "execution_count": 125,
      "outputs": []
    },
    {
      "cell_type": "code",
      "metadata": {
        "id": "dtouW8IZyCiG"
      },
      "source": [
        "from gensim.models import Doc2Vec"
      ],
      "execution_count": 126,
      "outputs": []
    },
    {
      "cell_type": "code",
      "metadata": {
        "id": "TCAurD6exriS"
      },
      "source": [
        "def get_concat_vectors(model1,model2, corpus, size):\r\n",
        "    vecs = np.zeros((len(corpus), size))\r\n",
        "    n = 0\r\n",
        "    for i in corpus.index:\r\n",
        "        prefix = 'all_' + str(i)\r\n",
        "        vecs[n] = np.append(model1.docvecs[prefix],model2.docvecs[prefix])\r\n",
        "        n += 1\r\n",
        "    return vecs"
      ],
      "execution_count": 127,
      "outputs": []
    },
    {
      "cell_type": "code",
      "metadata": {
        "id": "hutMjvDuyFuS"
      },
      "source": [
        "\r\n",
        "model_tg_dmm = Doc2Vec.load('drive/MyDrive/grams/d2v_model_tg_dmm.doc2vec')\r\n",
        "model_ug_dbow = Doc2Vec.load('drive/MyDrive/grams/d2v_model_ug_dbow.doc2vec')\r\n",
        "model_ug_dbow.delete_temporary_training_data(keep_doctags_vectors=True, keep_inference=True)\r\n",
        "model_tg_dmm.delete_temporary_training_data(keep_doctags_vectors=True, keep_inference=True)"
      ],
      "execution_count": 128,
      "outputs": []
    },
    {
      "cell_type": "code",
      "metadata": {
        "id": "aOuHPhsKyHul"
      },
      "source": [
        "train_vecs_ugdbow_tgdmm = get_concat_vectors(model_ug_dbow,model_tg_dmm, x_train, 200)\r\n",
        "validation_vecs_ugdbow_tgdmm = get_concat_vectors(model_ug_dbow,model_tg_dmm, x_validation, 200)"
      ],
      "execution_count": 129,
      "outputs": []
    },
    {
      "cell_type": "markdown",
      "metadata": {
        "id": "UE-4GJMa1Mpx"
      },
      "source": [
        "## Dimensionality Reduction"
      ]
    },
    {
      "cell_type": "markdown",
      "metadata": {
        "id": "QmaA1DJn1RYt"
      },
      "source": [
        "### Chi2 Feature Selection"
      ]
    },
    {
      "cell_type": "code",
      "metadata": {
        "id": "NQMLeGf3LJl5"
      },
      "source": [
        "tvec = TfidfVectorizer(max_features=100000,ngram_range=(1, 3))\r\n",
        "x_train_tfidf = tvec.fit_transform(x_train)\r\n",
        "x_validation_tfidf = tvec.transform(x_validation)"
      ],
      "execution_count": 130,
      "outputs": []
    },
    {
      "cell_type": "code",
      "metadata": {
        "id": "KGqQhwYsLUAG"
      },
      "source": [
        "from sklearn.feature_selection import chi2\r\n",
        "chi2score = chi2(x_train_tfidf, y_train)[0]"
      ],
      "execution_count": 131,
      "outputs": []
    },
    {
      "cell_type": "code",
      "metadata": {
        "colab": {
          "base_uri": "https://localhost:8080/",
          "height": 625
        },
        "id": "VIXHzPPq1WbT",
        "outputId": "a6263a99-880a-4f74-ef59-3fbfd5c20c64"
      },
      "source": [
        "plt.figure(figsize=(15,10))\r\n",
        "wscores = zip(tvec.get_feature_names(), chi2score)\r\n",
        "wchi2 = sorted(wscores, key=lambda x:x[1])\r\n",
        "topchi2 = list(zip(*wchi2[-20:]))\r\n",
        "#topchi2 = zip(wchi2)\r\n",
        "x = range(len(topchi2[1]))\r\n",
        "labels = topchi2[0]\r\n",
        "plt.barh(x,topchi2[1], align='center', alpha=0.2)\r\n",
        "plt.plot(topchi2[1], x, '-o', markersize=5, alpha=0.8)\r\n",
        "plt.yticks(x, labels)\r\n",
        "plt.xlabel('$\\chi^2$')"
      ],
      "execution_count": 132,
      "outputs": [
        {
          "output_type": "execute_result",
          "data": {
            "text/plain": [
              "Text(0.5, 0, '$\\\\chi^2$')"
            ]
          },
          "metadata": {
            "tags": []
          },
          "execution_count": 132
        },
        {
          "output_type": "display_data",
          "data": {
            "image/png": "[encoded data removed]",
            "text/plain": [
              "<Figure size 1080x720 with 1 Axes>"
            ]
          },
          "metadata": {
            "tags": [],
            "image/png": {
              "width": 1084,
              "height": 591
            },
            "needs_background": "light"
          }
        }
      ]
    },
    {
      "cell_type": "code",
      "metadata": {
        "colab": {
          "base_uri": "https://localhost:8080/"
        },
        "id": "n9NpRJYB4YJB",
        "outputId": "c0e9c290-3968-425d-e033-a2cfbdb3a245"
      },
      "source": [
        "from sklearn.feature_selection import SelectKBest, chi2\r\n",
        "ch2_result = []\r\n",
        "for n in np.arange(10000,100000,10000):\r\n",
        "    ch2 = SelectKBest(chi2, k=n)\r\n",
        "    x_train_chi2_selected = ch2.fit_transform(x_train_tfidf, y_train)\r\n",
        "    x_validation_chi2_selected = ch2.transform(x_validation_tfidf)\r\n",
        "    clf = LogisticRegression(max_iter=1000)\r\n",
        "    clf.fit(x_train_chi2_selected, y_train)\r\n",
        "    score = clf.score(x_validation_chi2_selected, y_validation)\r\n",
        "    ch2_result.append(score)\r\n",
        "    print (\"chi2 feature selection evaluation calculated for {} features\".format(n))"
      ],
      "execution_count": 133,
      "outputs": [
        {
          "output_type": "stream",
          "text": [
            "chi2 feature selection evaluation calculated for 10000 features\n",
            "chi2 feature selection evaluation calculated for 20000 features\n",
            "chi2 feature selection evaluation calculated for 30000 features\n",
            "chi2 feature selection evaluation calculated for 40000 features\n",
            "chi2 feature selection evaluation calculated for 50000 features\n",
            "chi2 feature selection evaluation calculated for 60000 features\n",
            "chi2 feature selection evaluation calculated for 70000 features\n",
            "chi2 feature selection evaluation calculated for 80000 features\n",
            "chi2 feature selection evaluation calculated for 90000 features\n"
          ],
          "name": "stdout"
        }
      ]
    },
    {
      "cell_type": "markdown",
      "metadata": {
        "id": "Sa6SInrS4DXa"
      },
      "source": [
        "### Principal Component Analysis (PCA)"
      ]
    },
    {
      "cell_type": "code",
      "metadata": {
        "id": "yZTHyGPk1Ylw"
      },
      "source": [
        "from sklearn.preprocessing import StandardScaler\r\n",
        "\r\n",
        "scaler = StandardScaler()\r\n",
        "d2v_ugdbow_tgdmm_std = scaler.fit_transform(train_vecs_ugdbow_tgdmm)\r\n",
        "d2v_ugdbow_tgdmm_std_val = scaler.fit_transform(validation_vecs_ugdbow_tgdmm)"
      ],
      "execution_count": 134,
      "outputs": []
    },
    {
      "cell_type": "code",
      "metadata": {
        "id": "-bRk1n8n4GK3"
      },
      "source": [
        "from sklearn.decomposition import PCA\r\n",
        "\r\n",
        "d2v_pca = PCA().fit(d2v_ugdbow_tgdmm_std)"
      ],
      "execution_count": 135,
      "outputs": []
    },
    {
      "cell_type": "code",
      "metadata": {
        "colab": {
          "base_uri": "https://localhost:8080/",
          "height": 403
        },
        "id": "ERYsteEP4HsA",
        "outputId": "314e0f00-17e9-4623-a2bc-cb94c992860e"
      },
      "source": [
        "fig, ax = plt.subplots(figsize=(8,6))\r\n",
        "\r\n",
        "x_values = range(1, d2v_pca.n_components_+1)\r\n",
        "\r\n",
        "ax.plot(x_values, d2v_pca.explained_variance_ratio_, lw=2, label='explained variance')\r\n",
        "ax.plot(x_values, np.cumsum(d2v_pca.explained_variance_ratio_), lw=2, label='cumulative explained variance')\r\n",
        "ax.set_title('Doc2vec (unigram DBOW + trigram DMM) : explained variance of components')\r\n",
        "ax.set_xlabel('principal component')\r\n",
        "ax.set_ylabel('explained variance')\r\n",
        "plt.show()"
      ],
      "execution_count": 136,
      "outputs": [
        {
          "output_type": "display_data",
          "data": {
            "image/png": "[encoded data removed]",
            "text/plain": [
              "<Figure size 576x432 with 1 Axes>"
            ]
          },
          "metadata": {
            "tags": [],
            "image/png": {
              "width": 584,
              "height": 386
            },
            "needs_background": "light"
          }
        }
      ]
    },
    {
      "cell_type": "code",
      "metadata": {
        "id": "qfhcLPWN4JuS"
      },
      "source": [
        "#while True:pass"
      ],
      "execution_count": 137,
      "outputs": []
    },
    {
      "cell_type": "code",
      "metadata": {
        "id": "hdHUUE_-5shs"
      },
      "source": [
        "while True:pass"
      ],
      "execution_count": null,
      "outputs": []
    },
    {
      "cell_type": "code",
      "metadata": {
        "id": "G2qVm6ElouZJ"
      },
      "source": [
        ""
      ],
      "execution_count": null,
      "outputs": []
    }
  ]
}